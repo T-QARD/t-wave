{
 "cells": [
  {
   "cell_type": "markdown",
   "metadata": {},
   "source": [
    "# Vertex Cover Problem\n",
    "Wikipedia: [Vertex cover](https://en.wikipedia.org/wiki/Vertex_cover)"
   ]
  },
  {
   "cell_type": "code",
   "execution_count": 1,
   "metadata": {
    "ExecuteTime": {
     "end_time": "2019-04-09T09:39:30.396380Z",
     "start_time": "2019-04-09T09:39:30.391131Z"
    }
   },
   "outputs": [],
   "source": [
    "# 問題設定\n",
    "NUM_VER = 6\n",
    "edges = [(0,1), (0,4), (0,5), (1,2), (1,3), (3,4), (4,5)]"
   ]
  },
  {
   "cell_type": "code",
   "execution_count": null,
   "metadata": {},
   "outputs": [],
   "source": []
  },
  {
   "cell_type": "markdown",
   "metadata": {},
   "source": [
    "# QUBOの作成\n",
    "## PyQUBOの場合"
   ]
  },
  {
   "cell_type": "code",
   "execution_count": 2,
   "metadata": {
    "ExecuteTime": {
     "end_time": "2019-04-09T09:39:30.564438Z",
     "start_time": "2019-04-09T09:39:30.398066Z"
    }
   },
   "outputs": [],
   "source": [
    "from pyqubo import Array, Constraint, Placeholder, solve_qubo"
   ]
  },
  {
   "cell_type": "code",
   "execution_count": 3,
   "metadata": {
    "ExecuteTime": {
     "end_time": "2019-04-09T09:39:30.576332Z",
     "start_time": "2019-04-09T09:39:30.565877Z"
    }
   },
   "outputs": [],
   "source": [
    "# BINARY変数\n",
    "x = Array.create('x', shape=NUM_VER, vartype='BINARY')\n",
    "\n",
    "# QUBO形式で定式化\n",
    "H_cover = Constraint(sum((1-x[u])*(1-x[v]) for (u, v) in edges), 'cover')\n",
    "H_vertices = sum(x)\n",
    "H = H_vertices + Placeholder('cover') * H_cover\n",
    "\n",
    "# モデルをコンパイル\n",
    "model = H.compile()"
   ]
  },
  {
   "cell_type": "code",
   "execution_count": 4,
   "metadata": {
    "ExecuteTime": {
     "end_time": "2019-04-09T09:39:30.581442Z",
     "start_time": "2019-04-09T09:39:30.578594Z"
    }
   },
   "outputs": [],
   "source": [
    "# 制約項のペナルティウェイト\n",
    "param_cover = 1.0"
   ]
  },
  {
   "cell_type": "code",
   "execution_count": 5,
   "metadata": {
    "ExecuteTime": {
     "end_time": "2019-04-09T09:39:30.586358Z",
     "start_time": "2019-04-09T09:39:30.583204Z"
    }
   },
   "outputs": [],
   "source": [
    "# プレースホルダーと合わせてQUBOを作成\n",
    "feed_dict = {'cover': param_cover}\n",
    "qubo, offset = model.to_qubo(feed_dict=feed_dict)"
   ]
  },
  {
   "cell_type": "code",
   "execution_count": null,
   "metadata": {},
   "outputs": [],
   "source": []
  },
  {
   "cell_type": "markdown",
   "metadata": {},
   "source": [
    "## 従来の場合"
   ]
  },
  {
   "cell_type": "code",
   "execution_count": 6,
   "metadata": {
    "ExecuteTime": {
     "end_time": "2019-04-09T09:39:30.594130Z",
     "start_time": "2019-04-09T09:39:30.587953Z"
    }
   },
   "outputs": [],
   "source": [
    "# 係数行列\n",
    "h = [0] * NUM_VER\n",
    "J = {}\n",
    "S = {}\n",
    "\n",
    "for u in range(NUM_VER):\n",
    "    h[u] = -2*param_cover + 1\n",
    "    for v in range(u+1, NUM_VER):\n",
    "        if (u,v) in edges:\n",
    "            J[u,v] = param_cover\n",
    "            S[u,v] = 1"
   ]
  },
  {
   "cell_type": "code",
   "execution_count": 7,
   "metadata": {
    "ExecuteTime": {
     "end_time": "2019-04-09T09:39:30.600235Z",
     "start_time": "2019-04-09T09:39:30.595722Z"
    }
   },
   "outputs": [
    {
     "name": "stdout",
     "output_type": "stream",
     "text": [
      "[-1.0, -1.0, -1.0, -1.0, -1.0, -1.0]\n",
      "{(0, 1): 1.0, (0, 4): 1.0, (0, 5): 1.0, (1, 2): 1.0, (1, 3): 1.0, (3, 4): 1.0, (4, 5): 1.0}\n",
      "{(0, 1): 1, (0, 4): 1, (0, 5): 1, (1, 2): 1, (1, 3): 1, (3, 4): 1, (4, 5): 1}\n"
     ]
    }
   ],
   "source": [
    "print(h)\n",
    "print(J)\n",
    "print(S)"
   ]
  },
  {
   "cell_type": "code",
   "execution_count": null,
   "metadata": {},
   "outputs": [],
   "source": []
  },
  {
   "cell_type": "markdown",
   "metadata": {},
   "source": [
    "# 最適化\n",
    "## PyQUBOの場合"
   ]
  },
  {
   "cell_type": "code",
   "execution_count": 8,
   "metadata": {
    "ExecuteTime": {
     "end_time": "2019-04-09T09:39:30.607435Z",
     "start_time": "2019-04-09T09:39:30.601887Z"
    }
   },
   "outputs": [],
   "source": [
    "# PyQUBOのSAで解を探索する\n",
    "raw_solution = solve_qubo(qubo)\n",
    "\n",
    "# 得られた結果をデコードする\n",
    "decoded_solution, broken, energy = model.decode_solution(raw_solution, vartype=\"BINARY\", feed_dict=feed_dict)"
   ]
  },
  {
   "cell_type": "code",
   "execution_count": 9,
   "metadata": {
    "ExecuteTime": {
     "end_time": "2019-04-09T09:39:30.612978Z",
     "start_time": "2019-04-09T09:39:30.609459Z"
    }
   },
   "outputs": [
    {
     "name": "stdout",
     "output_type": "stream",
     "text": [
      "{'x': {0: 1, 1: 1, 2: 0, 3: 0, 4: 1, 5: 0}}\n"
     ]
    }
   ],
   "source": [
    "print(decoded_solution)"
   ]
  },
  {
   "cell_type": "code",
   "execution_count": 10,
   "metadata": {
    "ExecuteTime": {
     "end_time": "2019-04-09T09:39:30.617817Z",
     "start_time": "2019-04-09T09:39:30.615127Z"
    }
   },
   "outputs": [
    {
     "name": "stdout",
     "output_type": "stream",
     "text": [
      "{}\n"
     ]
    }
   ],
   "source": [
    "print(broken)"
   ]
  },
  {
   "cell_type": "code",
   "execution_count": 11,
   "metadata": {
    "ExecuteTime": {
     "end_time": "2019-04-09T09:39:30.622143Z",
     "start_time": "2019-04-09T09:39:30.619525Z"
    }
   },
   "outputs": [
    {
     "name": "stdout",
     "output_type": "stream",
     "text": [
      "3.0\n"
     ]
    }
   ],
   "source": [
    "print(energy)"
   ]
  },
  {
   "cell_type": "code",
   "execution_count": null,
   "metadata": {},
   "outputs": [],
   "source": []
  },
  {
   "cell_type": "markdown",
   "metadata": {},
   "source": [
    "## D-Wave Ocean SDKの場合"
   ]
  },
  {
   "cell_type": "code",
   "execution_count": 12,
   "metadata": {
    "ExecuteTime": {
     "end_time": "2019-04-09T09:39:33.148394Z",
     "start_time": "2019-04-09T09:39:30.623901Z"
    }
   },
   "outputs": [],
   "source": [
    "from dwave.system.samplers import DWaveSampler\n",
    "from dwave.system.composites import EmbeddingComposite\n",
    "\n",
    "sampler = EmbeddingComposite(DWaveSampler())\n",
    "response = sampler.sample_qubo(qubo)"
   ]
  },
  {
   "cell_type": "code",
   "execution_count": 13,
   "metadata": {
    "ExecuteTime": {
     "end_time": "2019-04-09T09:39:33.153008Z",
     "start_time": "2019-04-09T09:39:33.149927Z"
    }
   },
   "outputs": [
    {
     "name": "stdout",
     "output_type": "stream",
     "text": [
      "[[0 1 1 0 0 0]]\n"
     ]
    }
   ],
   "source": [
    "print(response.samples_matrix)"
   ]
  },
  {
   "cell_type": "code",
   "execution_count": null,
   "metadata": {},
   "outputs": [],
   "source": []
  },
  {
   "cell_type": "markdown",
   "metadata": {},
   "source": [
    "## 従来の場合(SAPI)"
   ]
  },
  {
   "cell_type": "code",
   "execution_count": 14,
   "metadata": {
    "ExecuteTime": {
     "end_time": "2019-04-09T09:39:33.160388Z",
     "start_time": "2019-04-09T09:39:33.154651Z"
    }
   },
   "outputs": [],
   "source": [
    "# はじめに、D-WaveのAPI(SAPI)に接続する\n",
    "# 注：接続部のコードには認証コードが含まれるため省略している。\n",
    "# 2つのメソッドを実行するだけで簡単に接続・ソルバー指定が完了する。\n",
    "\n",
    "# Q行列をイジングに変換\n",
    "# (h, J, ising_offset) = qubo_to_ising(Q)\n",
    "\n",
    "# グラフ構造を取得\n",
    "# A = get_hardware_adjacency(solver)\n",
    "\n",
    "# ハミルトニアン埋め込み\n",
    "# embeddings = find_embedding(S, A)\n",
    "# [h0, j0, jc, emb] = embed_problem(h, J, embeddings, A)\n",
    "# emb_j = j0.copy()\n",
    "# emb_j.update(jc)\n",
    "\n",
    "# ソルバーへ送信 (numreadsで実行回数を指定する)\n",
    "# result = solve_ising(solver, h0, emb_j, auto_scale=True, num_reads=100)\n",
    "\n",
    "# 結果の逆埋め込み\n",
    "# answer = unembed_answer(result['solutions'], emb, 'minimize_energy', h, J)"
   ]
  },
  {
   "cell_type": "code",
   "execution_count": null,
   "metadata": {},
   "outputs": [],
   "source": []
  },
  {
   "cell_type": "markdown",
   "metadata": {},
   "source": [
    "# Pickleによる保存"
   ]
  },
  {
   "cell_type": "code",
   "execution_count": 15,
   "metadata": {
    "ExecuteTime": {
     "end_time": "2019-04-09T09:39:33.165318Z",
     "start_time": "2019-04-09T09:39:33.162422Z"
    }
   },
   "outputs": [],
   "source": [
    "import pickle"
   ]
  },
  {
   "cell_type": "code",
   "execution_count": 16,
   "metadata": {
    "ExecuteTime": {
     "end_time": "2019-04-09T09:39:33.174089Z",
     "start_time": "2019-04-09T09:39:33.167211Z"
    }
   },
   "outputs": [],
   "source": [
    "# モデルをコンパイル\n",
    "model = H.compile()\n",
    "\n",
    "# モデルをpickleで保存\n",
    "with open('model.pickle', 'wb') as f:\n",
    "    pickle.dump(model, f)"
   ]
  },
  {
   "cell_type": "code",
   "execution_count": 17,
   "metadata": {
    "ExecuteTime": {
     "end_time": "2019-04-09T09:39:33.181284Z",
     "start_time": "2019-04-09T09:39:33.176518Z"
    }
   },
   "outputs": [],
   "source": [
    "# pickleで保存したモデルを読み込む\n",
    "with open('model.pickle', 'rb') as f:\n",
    "    loaded_model = pickle.load(f)"
   ]
  },
  {
   "cell_type": "code",
   "execution_count": null,
   "metadata": {},
   "outputs": [],
   "source": []
  },
  {
   "cell_type": "markdown",
   "metadata": {},
   "source": [
    "# 正規化"
   ]
  },
  {
   "cell_type": "code",
   "execution_count": 18,
   "metadata": {
    "ExecuteTime": {
     "end_time": "2019-04-09T09:39:33.208706Z",
     "start_time": "2019-04-09T09:39:33.183834Z"
    }
   },
   "outputs": [],
   "source": [
    "# 各項を正規化する関数\n",
    "def normalize(exp, vtype='SPIN'):\n",
    "    if vtype != 'SPIN' and vtype != 'BINARY':  # 変数のタイプがイジング・QUBO表現でない場合、終了\n",
    "        print(\"vtype must be 'SPIN' or 'BINARY'.\")\n",
    "        return\n",
    " \n",
    "    model = exp.compile()\n",
    "    if vtype == 'SPIN':\n",
    "        compiled_h, compiled_J, offset = model.to_ising()\n",
    "        norm = max(abs(max(compiled_h.values())),\n",
    "                        abs(max(compiled_J.values())),\n",
    "                        abs(min(compiled_h.values())),\n",
    "                        abs(min(compiled_J.values())))\n",
    "\n",
    "    else:\n",
    "        compiled_qubo, offset = model.to_qubo()\n",
    "        norm = max(abs(max(compiled_qubo.values())), abs(min(compiled_qubo.values())))\n",
    "\n",
    "    # 絶対値が最大の係数で各成分を割ることで、[0,1]に正規化\n",
    "    return exp / norm"
   ]
  },
  {
   "cell_type": "code",
   "execution_count": 19,
   "metadata": {
    "ExecuteTime": {
     "end_time": "2019-04-09T09:39:33.219198Z",
     "start_time": "2019-04-09T09:39:33.211810Z"
    }
   },
   "outputs": [],
   "source": [
    "# normalize関数の使用例(分かりやすくするため、変数で分けている)\n",
    "exp = sum((1-x[u])*(1-x[v]) for (u,v) in edges)\n",
    "normalized_exp = normalize(exp)\n",
    "H_cover = Constraint(normalized_exp, 'cover')"
   ]
  },
  {
   "cell_type": "code",
   "execution_count": 20,
   "metadata": {
    "ExecuteTime": {
     "end_time": "2019-04-09T09:39:33.234391Z",
     "start_time": "2019-04-09T09:39:33.221363Z"
    }
   },
   "outputs": [
    {
     "data": {
      "text/plain": [
       "Const(cover, (((((Qbit(x[0])*Num(-1))+Num(1))*((Qbit(x[1])*Num(-1))+Num(1)))+(((Qbit(x[0])*Num(-1))+Num(1))*((Qbit(x[4])*Num(-1))+Num(1)))+(((Qbit(x[0])*Num(-1))+Num(1))*((Qbit(x[5])*Num(-1))+Num(1)))+(((Qbit(x[1])*Num(-1))+Num(1))*((Qbit(x[2])*Num(-1))+Num(1)))+(((Qbit(x[1])*Num(-1))+Num(1))*((Qbit(x[3])*Num(-1))+Num(1)))+(((Qbit(x[3])*Num(-1))+Num(1))*((Qbit(x[4])*Num(-1))+Num(1)))+(((Qbit(x[4])*Num(-1))+Num(1))*((Qbit(x[5])*Num(-1))+Num(1))))*Num(1.3333333333333333)))"
      ]
     },
     "execution_count": 20,
     "metadata": {},
     "output_type": "execute_result"
    }
   ],
   "source": [
    "H_cover"
   ]
  },
  {
   "cell_type": "code",
   "execution_count": null,
   "metadata": {},
   "outputs": [],
   "source": []
  },
  {
   "cell_type": "markdown",
   "metadata": {},
   "source": [
    "# Sympyとの連携"
   ]
  },
  {
   "cell_type": "code",
   "execution_count": 21,
   "metadata": {
    "ExecuteTime": {
     "end_time": "2019-04-09T09:39:34.030109Z",
     "start_time": "2019-04-09T09:39:33.236742Z"
    }
   },
   "outputs": [],
   "source": [
    "from sympy import Symbol, Sum, init_printing\n",
    "init_printing()\n",
    "import pyqubo\n",
    "import re"
   ]
  },
  {
   "cell_type": "code",
   "execution_count": 22,
   "metadata": {
    "ExecuteTime": {
     "end_time": "2019-04-09T09:39:34.037039Z",
     "start_time": "2019-04-09T09:39:34.032124Z"
    }
   },
   "outputs": [],
   "source": [
    "# 変数\n",
    "x = Symbol('x_i')\n",
    "i = Symbol('i')\n",
    "n = Symbol('n')\n",
    "\n",
    "# Sympyで数式を定義\n",
    "H = (Sum(x, (i, 1, n)) -1)**2"
   ]
  },
  {
   "cell_type": "code",
   "execution_count": 23,
   "metadata": {
    "ExecuteTime": {
     "end_time": "2019-04-09T09:39:34.403831Z",
     "start_time": "2019-04-09T09:39:34.038668Z"
    }
   },
   "outputs": [
    {
     "data": {
      "image/png": "[encoded data removed]",
      "text/latex": [
       "$$\\left(\\sum_{i=1}^{n} x_{i} - 1\\right)^{2}$$"
      ],
      "text/plain": [
       "              2\n",
       "⎛  n         ⎞ \n",
       "⎜ ___        ⎟ \n",
       "⎜ ╲          ⎟ \n",
       "⎜  ╲   xᵢ    ⎟ \n",
       "⎜  ╱      - 1⎟ \n",
       "⎜ ╱          ⎟ \n",
       "⎜ ‾‾‾        ⎟ \n",
       "⎝i = 1       ⎠ "
      ]
     },
     "execution_count": 23,
     "metadata": {},
     "output_type": "execute_result"
    }
   ],
   "source": [
    "H"
   ]
  },
  {
   "cell_type": "code",
   "execution_count": 24,
   "metadata": {
    "ExecuteTime": {
     "end_time": "2019-04-09T09:39:34.413929Z",
     "start_time": "2019-04-09T09:39:34.405783Z"
    }
   },
   "outputs": [],
   "source": [
    "# Sympyの数式をPyQUBO用の文字列に変換する\n",
    "def sympy2pyqubo(exp_sympy):\n",
    "    str_sympy = exp_sympy\n",
    "\n",
    "    # Sum -> sum\n",
    "    str_sympy = str_sympy.replace('S', 's')\n",
    "\n",
    "    # 総和の範囲(*,*,*)をfor文に置き換える\n",
    "    str_sympy = \\\n",
    "    re.sub(',\\s*[^sum]\\(\\s*(.+)\\s*,\\s*(.+)\\s*,\\s*(.+)\\s*\\)\\)', \\\n",
    "        ' for \\\\1 in range(\\\\2, \\\\3))', str_sympy)\n",
    "\n",
    "    # 変数をリストに置き換える\n",
    "    str_sympy = \\\n",
    "    re.sub('(.+?)_(.+?)', '\\\\1[\\\\2]', str_sympy)\n",
    "\n",
    "    return str_sympy"
   ]
  },
  {
   "cell_type": "code",
   "execution_count": 26,
   "metadata": {
    "ExecuteTime": {
     "end_time": "2019-04-09T09:39:48.529179Z",
     "start_time": "2019-04-09T09:39:48.521254Z"
    }
   },
   "outputs": [
    {
     "name": "stdout",
     "output_type": "stream",
     "text": [
      "((Spin(x_i[1])+Spin(x_i[2])+Spin(x_i[3])+Spin(x_i[4])+Spin(x_i[5])+Spin(x_i[6])+Spin(x_i[7])+Spin(x_i[8])+Spin(x_i[9])+Num(-1))*(Spin(x_i[1])+Spin(x_i[2])+Spin(x_i[3])+Spin(x_i[4])+Spin(x_i[5])+Spin(x_i[6])+Spin(x_i[7])+Spin(x_i[8])+Spin(x_i[9])+Num(-1)))\n"
     ]
    }
   ],
   "source": [
    "n = 10\n",
    "x = pyqubo.Array.create(\"x_i\", shape=n, vartype='SPIN')\n",
    "\n",
    "str_H = str(H)\n",
    "H = eval(sympy2pyqubo(str_H))\n",
    "print(H)"
   ]
  },
  {
   "cell_type": "code",
   "execution_count": 27,
   "metadata": {
    "ExecuteTime": {
     "end_time": "2019-04-09T09:39:49.117123Z",
     "start_time": "2019-04-09T09:39:49.113577Z"
    }
   },
   "outputs": [
    {
     "name": "stdout",
     "output_type": "stream",
     "text": [
      "<class 'pyqubo.core.express.Mul'>\n"
     ]
    }
   ],
   "source": [
    "print(type(H))"
   ]
  },
  {
   "cell_type": "code",
   "execution_count": null,
   "metadata": {},
   "outputs": [],
   "source": []
  }
 ],
 "metadata": {
  "kernelspec": {
   "display_name": "Python 3",
   "language": "python",
   "name": "python3"
  },
  "language_info": {
   "codemirror_mode": {
    "name": "ipython",
    "version": 3
   },
   "file_extension": ".py",
   "mimetype": "text/x-python",
   "name": "python",
   "nbconvert_exporter": "python",
   "pygments_lexer": "ipython3",
   "version": "3.6.4"
  },
  "latex_envs": {
   "LaTeX_envs_menu_present": true,
   "autoclose": false,
   "autocomplete": true,
   "bibliofile": "biblio.bib",
   "cite_by": "apalike",
   "current_citInitial": 1,
   "eqLabelWithNumbers": true,
   "eqNumInitial": 1,
   "hotkeys": {
    "equation": "Ctrl-E",
    "itemize": "Ctrl-I"
   },
   "labels_anchors": false,
   "latex_user_defs": false,
   "report_style_numbering": false,
   "user_envs_cfg": false
  },
  "toc": {
   "base_numbering": 1,
   "nav_menu": {},
   "number_sections": true,
   "sideBar": true,
   "skip_h1_title": false,
   "title_cell": "Table of Contents",
   "title_sidebar": "Contents",
   "toc_cell": false,
   "toc_position": {},
   "toc_section_display": true,
   "toc_window_display": false
  }
 },
 "nbformat": 4,
 "nbformat_minor": 2
}
