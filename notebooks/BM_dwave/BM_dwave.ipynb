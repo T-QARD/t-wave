{
  "cells": [
    {
      "cell_type": "markdown",
      "metadata": {},
      "source": [
        "# ボルツマン機械学習にD-Waveマシンを用いる(実践編part1)"
      ]
    },
    {
      "cell_type": "markdown",
      "metadata": {
        "id": "X-gguobfcskj"
      },
      "source": [
        "## 概要"
      ]
    },
    {
      "cell_type": "markdown",
      "metadata": {
        "id": "WNuc9amJY183"
      },
      "source": [
        "本記事は、以下の論文の再現実験を行ったものです。具体的には、D-Waveマシンを用いた手書き数字の生成・復元を行います。\n",
        "\n",
        "この論文に関する詳しい解説は、記事「[ボルツマン機械学習にD-Waveマシンを用いる](https://qard.is.tohoku.ac.jp/T-Wave/)」をご覧ください。"
      ]
    },
    {
      "cell_type": "markdown",
      "metadata": {},
      "source": [
        "## 文献情報\n",
        "\n",
        "* タイトル：Quantum-Assisted Learning of Hardware-Embedded Probabilistic Graphical Models\n",
        "* 著者：Marcello Benedetti, John Realpe-Gómez, Rupak Biswas and Alejandro Perdomo-Ortiz\n",
        "* 書誌情報：Phys. Rev. X 7, 041052 (2017)\n",
        "* DOI : [10.1103/PhysRevX.7.041052](https://link.aps.org/doi/10.1103/PhysRevX.7.041052)"
      ]
    },
    {
      "cell_type": "markdown",
      "metadata": {
        "id": "-9NNi1nBdEHz"
      },
      "source": [
        "## 問題"
      ]
    },
    {
      "cell_type": "markdown",
      "metadata": {
        "id": "F5PAnXjedeji"
      },
      "source": [
        "実験の全体像は次の通りです。"
      ]
    },
    {
      "cell_type": "markdown",
      "metadata": {
        "id": "sJ-WKbEldLk7"
      },
      "source": [
        "![実験の概要](https://journals.aps.org/prx/article/10.1103/PhysRevX.7.041052/figures/1/medium)"
      ]
    },
    {
      "cell_type": "markdown",
      "metadata": {
        "id": "hTGoFNl6d9K8"
      },
      "source": [
        "(a)では、ボルツマン機械学習による画像生成を行います。\n",
        "\n",
        "(b)では、学習済みのパラメータ($J$, $h$)から画像の復元を行います。"
      ]
    },
    {
      "cell_type": "markdown",
      "metadata": {
        "id": "7DLUoxG_e5vG"
      },
      "source": [
        "## 実験"
      ]
    },
    {
      "cell_type": "markdown",
      "metadata": {
        "id": "1bryXkxrAXOn"
      },
      "source": [
        "まず、ボルツマン機械学習による画像生成を行います。"
      ]
    },
    {
      "cell_type": "markdown",
      "metadata": {
        "id": "EHp6cSxdgY86"
      },
      "source": [
        "### ライブラリのインストール"
      ]
    },
    {
      "cell_type": "markdown",
      "metadata": {
        "id": "puxzNkq6AF7c"
      },
      "source": [
        "ここで、必要なライブラリをインストールします。"
      ]
    },
    {
      "cell_type": "code",
      "execution_count": null,
      "metadata": {
        "id": "n0RwnGEHgl4w"
      },
      "outputs": [],
      "source": [
        "!pip install numpy\n",
        "!pip install matplotlib\n",
        "!pip install scikit-learn\n",
        "!pip install dwave-ocean-sdk\n",
        "!pip install openjij\n",
        "!pip install tqdm"
      ]
    },
    {
      "cell_type": "markdown",
      "metadata": {
        "id": "0tNMoNA2e_GA"
      },
      "source": [
        "### データセットの準備"
      ]
    },
    {
      "cell_type": "markdown",
      "metadata": {
        "id": "Pj1row1_fRVP"
      },
      "source": [
        "学習に用いるデータセット(手書き数字)は、scikit-learnから利用できるMNISTを用います。"
      ]
    },
    {
      "cell_type": "code",
      "execution_count": null,
      "metadata": {
        "id": "yksO4LcJOyMQ"
      },
      "outputs": [],
      "source": [
        "from sklearn.datasets import load_digits\n",
        "\n",
        "# 手書き数字を取得\n",
        "digits = load_digits()"
      ]
    },
    {
      "cell_type": "markdown",
      "metadata": {
        "id": "H9SXmWLNiIHH"
      },
      "source": [
        "データセットには0-9の数字が含まれていますが、今回は「0」を学習に用いることにします。\n",
        "\n",
        "使用する「0」のデータセットを表示してみましょう。"
      ]
    },
    {
      "cell_type": "code",
      "execution_count": null,
      "metadata": {
        "id": "vAPqZTT7itdy"
      },
      "outputs": [],
      "source": [
        "import numpy as np\n",
        "import matplotlib.pyplot as plt\n",
        "\n",
        "def show_img(row, col, img_list1, img_list2, title_list1, title_list2, subtitle, subtitlesize, figsize):\n",
        "    fig, ax = plt.subplots(row, col, figsize=figsize)\n",
        "    fig.suptitle(subtitle, fontsize=subtitlesize, color='black')\n",
        "\n",
        "    for i in range(col):\n",
        "        if row == 1:\n",
        "            img1 = np.reshape(img_list1[i], (8, 8))\n",
        "            ax[i].imshow(img1, cmap='Greys')\n",
        "            ax[i].set_title(title_list1[i])\n",
        "        else:\n",
        "            img1 = np.reshape(img_list1[i], (8, 8))\n",
        "            ax[0, i].imshow(img1, cmap='Greys')\n",
        "            ax[0, i].set_title(title_list1[i])\n",
        "\n",
        "            img2 = np.reshape(img_list2[i], (8, 8))\n",
        "            ax[1, i].imshow(img2, cmap='Greys')\n",
        "            ax[1, i].set_title(title_list2[i])"
      ]
    },
    {
      "cell_type": "code",
      "execution_count": null,
      "metadata": {
        "colab": {
          "base_uri": "https://localhost:8080/",
          "height": 218
        },
        "id": "p7S37YRdFdES",
        "outputId": "7ba54e25-9e4e-4028-87bd-7fd130c7fcd6"
      },
      "outputs": [
        {
          "data": {
            "image/png": "[encoded data removed]",
            "text/plain": [
              "<Figure size 1008x216 with 5 Axes>"
            ]
          },
          "metadata": {
            "needs_background": "light"
          },
          "output_type": "display_data"
        }
      ],
      "source": [
        "# 「0」のみのデータセットを取得\n",
        "zero_index_list = [i for i, x in enumerate(digits.target) if x == 0]\n",
        "raw_data_list = [digits.data[i] for i in zero_index_list]\n",
        "\n",
        "# 画像の表示\n",
        "show_img(row=1, col=5, img_list1=raw_data_list, img_list2=None,\n",
        "         title_list1=np.arange(1, 6), title_list2=None,\n",
        "         subtitle=\"MNIST zero-dataset\", subtitlesize=24, figsize=(14, 3))"
      ]
    },
    {
      "cell_type": "markdown",
      "metadata": {
        "id": "YWUx8cLvkqdQ"
      },
      "source": [
        "次に、このデータセットをイジング変数{-1, +1}に変換します。\n",
        "\n",
        "今回は閾値4として、4以上なら+1、4未満なら-1とします。また、データの数は50個とします。"
      ]
    },
    {
      "cell_type": "code",
      "execution_count": null,
      "metadata": {
        "id": "pskty4Hqi1mu"
      },
      "outputs": [],
      "source": [
        "num_data = 50  # 使用するデータの数\n",
        "num_spin = len(raw_data_list[0])  # 画像1枚のスピンの数\n",
        "\n",
        "# データの加工\n",
        "edit_data_list = []\n",
        "for n in range(num_data):\n",
        "    edit_data = [1 if raw_data_list[n][spin] >= 4 else -1 for spin in range(num_spin)]\n",
        "    edit_data_list.append(edit_data)"
      ]
    },
    {
      "cell_type": "markdown",
      "metadata": {
        "id": "efFtG67ZPeuS"
      },
      "source": [
        "加工前と加工後の画像を比較してみましょう。"
      ]
    },
    {
      "cell_type": "code",
      "execution_count": null,
      "metadata": {
        "colab": {
          "base_uri": "https://localhost:8080/",
          "height": 342
        },
        "id": "yCz9Ec5rlc3A",
        "outputId": "68248b15-5877-4400-8953-0aa89f123575"
      },
      "outputs": [
        {
          "data": {
            "image/png": "[encoded data removed]",
            "text/plain": [
              "<Figure size 720x360 with 10 Axes>"
            ]
          },
          "metadata": {
            "needs_background": "light"
          },
          "output_type": "display_data"
        }
      ],
      "source": [
        "raw_title = ['raw-' + str(num) for num in range(1, 6)]\n",
        "edit_title = ['edit-' + str(num) for num in range(1, 6)]\n",
        "\n",
        "show_img(row=2, col=5, img_list1=raw_data_list, img_list2=edit_data_list,\n",
        "         title_list1=raw_title, title_list2=edit_title,\n",
        "         subtitle=\"zero-dataset\", subtitlesize=20, figsize=(10, 5))"
      ]
    },
    {
      "cell_type": "markdown",
      "metadata": {
        "id": "NM6MCKM8oZ2N"
      },
      "source": [
        "上段が加工前、下段が加工後の画像に対応しています。これで、データセットの準備は終わりです。"
      ]
    },
    {
      "cell_type": "markdown",
      "metadata": {
        "id": "RURfpZS7o3_y"
      },
      "source": [
        "### ボルツマン機械学習"
      ]
    },
    {
      "cell_type": "markdown",
      "metadata": {
        "id": "lvLAaQtcpL-9"
      },
      "source": [
        "ボルツマン機械学習の原理について説明します。\n",
        "\n",
        "本論文では、量子相対エントロピー$S$が最小になることを目的としていました。"
      ]
    },
    {
      "cell_type": "markdown",
      "metadata": {
        "id": "oe6ITQOBqJcA"
      },
      "source": [
        "$$\n",
        "S\\left(\\rho_{\\mathscr{D}} \\| \\rho\\right)=\\operatorname{Tr} \\rho_{\\mathscr{D}} \\ln \\rho_{\\mathscr{D}}-\\operatorname{Tr} \\rho_{\\mathscr{D}} \\ln \\rho\n",
        "$$"
      ]
    },
    {
      "cell_type": "markdown",
      "metadata": {
        "id": "-NJxbkRA7wCH"
      },
      "source": [
        "ここで、相互作用$J_{i,j}$, 局所磁場$h_i$における勾配法は、"
      ]
    },
    {
      "cell_type": "markdown",
      "metadata": {
        "id": "0JQz_kzK3Ryb"
      },
      "source": [
        "$$\n",
        "J_{i j}^{(k l)}(t+1)=J_{i j}^{(k l)}(t)+\\eta \\frac{\\partial S}{\\partial J_{i j}^{(k l)}}\n",
        "$$\n",
        "\n",
        "$$\n",
        "\\frac{1}{\\beta} \\frac{\\partial S}{\\partial J_{i j}^{(k l)}}=\\left\\langle\\hat{Z}_{i}^{(k)} \\hat{Z}_{j}^{(l)}\\right\\rangle_{\\rho \\mathcal{D}}-\\left\\langle\\hat{Z}_{i}^{(k)} \\hat{Z}_{j}^{(l)}\\right\\rangle_{\\rho}\n",
        "$$"
      ]
    },
    {
      "cell_type": "markdown",
      "metadata": {
        "id": "jvKLeFuQq2lb"
      },
      "source": [
        "$$\n",
        "h_{i}^{(k)}(t+1)=h_{i}^{(k)}(t)+\\eta \\frac{\\partial S}{\\partial h_{i}^{(k)}}\n",
        "$$\n",
        "\n",
        "$$\n",
        "\\frac{1}{\\beta} \\frac{\\partial S}{\\partial h_{i}^{(k)}}=\\left\\langle\\hat{Z}_{i}^{(k)}\\right\\rangle_{\\rho \\mathcal{D}}-\\left\\langle\\hat{Z}_{i}^{(k)}\\right\\rangle_{\\rho}\n",
        "$$"
      ]
    },
    {
      "cell_type": "markdown",
      "metadata": {
        "id": "k4t57s4eq_3D"
      },
      "source": [
        "で表せます。ここで、期待値$\\left\\langle{}\\right\\rangle_{\\rho}$は、"
      ]
    },
    {
      "cell_type": "markdown",
      "metadata": {
        "id": "NRoojx8cQDEg"
      },
      "source": [
        "$$\n",
        "\\left\\langle\\hat{Z}_{i}^{(k)} \\hat{Z}_{j}^{(l)}\\right\\rangle_{\\rho} =\\frac{1}{L} \\sum_{l=0}^{L} \\hat{Z}_{i}^{(k)} \\hat{Z}_{j}^{(l)}\n",
        "$$\n",
        "\n",
        "$$\n",
        "\\left\\langle\\hat{Z}_{i}^{(k)}\\right\\rangle_{\\rho} =\\frac{1}{L} \\sum_{l=0}^{L} \\hat{Z}_{i}^{(k)}\n",
        "$$"
      ]
    },
    {
      "cell_type": "markdown",
      "metadata": {
        "id": "zx-H4FnIQnsp"
      },
      "source": [
        "のように求められます。"
      ]
    },
    {
      "cell_type": "markdown",
      "metadata": {
        "id": "yrwr9jcZ7TTg"
      },
      "source": [
        "また、イジング変数$z_i$とすると、コスト関数は、"
      ]
    },
    {
      "cell_type": "markdown",
      "metadata": {
        "id": "0rAIGczzs51r"
      },
      "source": [
        "$$\n",
        "E(\\mathbf{z})=-\\sum_{(i, j)} J_{i j} z_{i} z_{j}-\\sum_{i} h_{i} z_{i}\n",
        "$$"
      ]
    },
    {
      "cell_type": "markdown",
      "metadata": {
        "id": "sH4gt1lQs7HB"
      },
      "source": [
        "と表せます。"
      ]
    },
    {
      "cell_type": "markdown",
      "metadata": {
        "id": "KpGicwacv6I_"
      },
      "source": [
        "では、先ほど準備したデータセットの学習を行っていきましょう。"
      ]
    },
    {
      "cell_type": "code",
      "execution_count": null,
      "metadata": {
        "id": "W_Yosjp_pdnh"
      },
      "outputs": [],
      "source": [
        "from tqdm import tqdm\n",
        "\n",
        "def minus_J(num_spin, J):\n",
        "    m_J = {(i, j): J[(i, j)] * -1 for i in range(num_spin) for j in range(i+1, num_spin)}\n",
        "    return m_J\n",
        "\n",
        "def minus_h(num_spin, h):\n",
        "    m_h = {i: h[i] * -1 for i in range(num_spin)}\n",
        "    return m_h\n",
        "\n",
        "def train_model(Tall, eta, dataset, sampler, sample_params, times):\n",
        "    \"\"\"ボルツマン機械学習\n",
        "\n",
        "    Tall: 学習回数\n",
        "    eta: 学習率\n",
        "    dataset: データセット\n",
        "    sampler: サンプラー\n",
        "    sample_params: サンプリングの設定\n",
        "    times: times回ごとにパラメータを保存する\n",
        "    \"\"\"\n",
        "    J_dict = {}  # 学習済みの相互作用を格納する\n",
        "    h_dict = {}  # 学習済みの局所磁場を格納する\n",
        "    h = {i: 0 for i in range(num_spin)}  # 局所磁場の初期状態\n",
        "    J = {(i, j): 0 for i in range(num_spin) for j in range(i+1, num_spin)}  # 相互作用の初期状態\n",
        "\n",
        "    num_data=len(dataset) # データの数\n",
        "    num_spin=len(dataset[0]) # スピンの数\n",
        "\n",
        "    for t in tqdm(np.arange(Tall)):\n",
        "        # OpenJijやD-Waveマシンには-1倍したh,Jを与える必要がある\n",
        "        m_h = minus_h(num_spin, h)\n",
        "        m_J = minus_J(num_spin, J)\n",
        "\n",
        "        # サンプリング\n",
        "        sampleset = sampler.sample_ising(h=m_h, J=m_J, **sample_params)\n",
        "        x = sampleset.record.sample\n",
        "\n",
        "        # 勾配法\n",
        "        for i in range(num_spin):\n",
        "            data_h_ave = np.average([dataset[k][i] for k in range(num_data)])  # データの経験平均\n",
        "            sample_h_ave = np.average([x[k][i] for k in range(len(x))])  # サンプルの経験平均\n",
        "            h[i] += eta * (data_h_ave - sample_h_ave)  # 局所磁場の更新\n",
        "            for j in range(i+1, num_spin):\n",
        "                data_J_ave = np.average([dataset[k][i] * dataset[k][j] for k in range(num_data)])  # データの経験平均\n",
        "                sample_J_ave = np.average([x[k][i] * x[k][j] for k in range(len(x))])  # サンプルの経験平均\n",
        "                J[(i, j)] += eta * (data_J_ave - sample_J_ave)  # 相互作用の更新\n",
        "\n",
        "        # 一定の学習回数ごとにパラメータを保存\n",
        "        if t == 0 or (t+1) % times == 0:\n",
        "            J_dict[t+1] = J.copy()\n",
        "            h_dict[t+1] = h.copy()\n",
        "\n",
        "    return J_dict, h_dict"
      ]
    },
    {
      "cell_type": "markdown",
      "metadata": {
        "id": "vPLmONZaxsLb"
      },
      "source": [
        "これで、学習の準備が終わりました。パラメータの学習を行いましょう。"
      ]
    },
    {
      "cell_type": "code",
      "execution_count": null,
      "metadata": {
        "id": "aMeCFRDXuw7_"
      },
      "outputs": [],
      "source": [
        "# Openjijの場合\n",
        "import openjij as oj\n",
        "from openjij import SQASampler\n",
        "sampler = oj.SQASampler()\n",
        "\n",
        "# D-Waveマシンの場合\n",
        "# from dwave.system import DWaveSampler, EmbeddingComposite\n",
        "# sampler_config = {'solver': 'DW_2000Q_6', 'token': 'YOUR_TOKEN'}\n",
        "# sampler = EmbeddingComposite(DWaveSampler(**sampler_config))"
      ]
    },
    {
      "cell_type": "markdown",
      "metadata": {
        "id": "6_fcZQ7RG2-7"
      },
      "source": [
        "本実験では30回の学習を行い、5回の学習毎にパラメータを保存します。"
      ]
    },
    {
      "cell_type": "code",
      "execution_count": null,
      "metadata": {
        "colab": {
          "base_uri": "https://localhost:8080/"
        },
        "id": "UBhf4bp-r_5b",
        "outputId": "27dd4305-7595-474c-8094-428ddc8bfe60"
      },
      "outputs": [
        {
          "name": "stderr",
          "output_type": "stream",
          "text": [
            "100%|██████████| 30/30 [00:58<00:00,  1.95s/it]\n"
          ]
        }
      ],
      "source": [
        "J_dict, h_dict = train_model(Tall=30, eta=0.001, dataset=edit_data_list, \n",
        "                             sampler=sampler, sample_params={'beta': 1, 'num_reads': 100}, times=5)"
      ]
    },
    {
      "cell_type": "markdown",
      "metadata": {
        "id": "aER0azZkZ0bc"
      },
      "source": [
        "これで、学習が終了しました。このパラメータを入力としてサンプリングを行い、結果を表示してみましょう。"
      ]
    },
    {
      "cell_type": "markdown",
      "metadata": {
        "id": "5BvG9y90dcSV"
      },
      "source": [
        "### 画像の生成"
      ]
    },
    {
      "cell_type": "markdown",
      "metadata": {
        "id": "CQg90CQ1STpc"
      },
      "source": [
        "学習済みのパラメータを使って、いくつかサンプリングしてみましょう。"
      ]
    },
    {
      "cell_type": "code",
      "execution_count": null,
      "metadata": {
        "id": "VNVOmVI0WK4k"
      },
      "outputs": [],
      "source": [
        "ans_list = []\n",
        "for k in J_dict.keys():\n",
        "    m_h = minus_h(num_spin, h_dict[k])\n",
        "    m_J = minus_J(num_spin, J_dict[k])\n",
        "    sampleset = sampler.sample_ising(h=m_h, J=m_J)\n",
        "    ans_list.append(sampleset.record.sample)"
      ]
    },
    {
      "cell_type": "code",
      "execution_count": null,
      "metadata": {
        "colab": {
          "base_uri": "https://localhost:8080/",
          "height": 159
        },
        "id": "ufBtrovBXvVG",
        "outputId": "1120943d-cb86-4f5b-df27-8f3d7d234188"
      },
      "outputs": [
        {
          "data": {
            "image/png": "[encoded data removed]",
            "text/plain": [
              "<Figure size 1008x216 with 7 Axes>"
            ]
          },
          "metadata": {
            "needs_background": "light"
          },
          "output_type": "display_data"
        }
      ],
      "source": [
        "times_title = [str(k) + '-times' for k in J_dict.keys()]\n",
        "show_img(img_list1=ans_list, img_list2=None,\n",
        "         title_list1=times_title, title_list2=None,\n",
        "         subtitle=\"\", subtitlesize=24, figsize=(14, 3))"
      ]
    },
    {
      "cell_type": "markdown",
      "metadata": {
        "id": "EKzJWlpgaTHs"
      },
      "source": [
        "学習回数を増やすにつれて、「0」のような画像を生成出来ていることが分かります。これより、手書き数字を学習出来ていることが確認できました。"
      ]
    },
    {
      "cell_type": "markdown",
      "metadata": {
        "id": "4zE6ThRIdUnW"
      },
      "source": [
        "### 画像の復元"
      ]
    },
    {
      "cell_type": "markdown",
      "metadata": {
        "id": "BSGHipYYo-b1"
      },
      "source": [
        "ここでは、0-4の手書き数字を学習したパラメータを用いて画像の復元を行います。\n",
        "\n",
        "まず、学習に使用する0-4の画像を用意しましょう。"
      ]
    },
    {
      "cell_type": "code",
      "execution_count": null,
      "metadata": {
        "id": "fFWeIUhDaEbR"
      },
      "outputs": [],
      "source": [
        "# 0-4のデータセットを抽出\n",
        "zero_four_index_list = [i for i, x in enumerate(digits.target) if x <= 4]\n",
        "raw_data04_list = [digits.data[i] for i in zero_four_index_lst]\n",
        "\n",
        "# データの加工\n",
        "num_data04 = len(raw_data04_list)\n",
        "edit_data04_list = []\n",
        "for n in range(num_data04):\n",
        "    edit_data04 = [1 if raw_data04_list[n][spin] >= 4 else -1 for spin in range(num_spin)]\n",
        "    edit_data04_list.append(edit_data04)"
      ]
    },
    {
      "cell_type": "code",
      "execution_count": null,
      "metadata": {
        "colab": {
          "base_uri": "https://localhost:8080/",
          "height": 308
        },
        "id": "UZHQ1u8RbOzl",
        "outputId": "a255af59-ae5b-40d0-c621-f29d340e5a0a"
      },
      "outputs": [
        {
          "data": {
            "image/png": "[encoded data removed]",
            "text/plain": [
              "<Figure size 720x360 with 10 Axes>"
            ]
          },
          "metadata": {
            "needs_background": "light"
          },
          "output_type": "display_data"
        }
      ],
      "source": [
        "# 学習に用いる画像の表示\n",
        "raw_title = ['raw-' + str(num) for num in range(5)]\n",
        "edit_title = ['edit-' + str(num) for num in range(5)]\n",
        "\n",
        "show_img(row=2, col=5, img_list1=raw_data04_list, img_list2=edit_data04_list,\n",
        "         title_list1=raw_title, title_list2=edit_title,\n",
        "         subtitle=\"\", subtitlesize=20, figsize=(10, 5))"
      ]
    },
    {
      "cell_type": "markdown",
      "metadata": {
        "id": "iA60LXdPbsun"
      },
      "source": [
        "次に、欠損のある画像を用意します。64ビットの画像に対して、半分の32ビットをランダムに選び0にしましょう。"
      ]
    },
    {
      "cell_type": "code",
      "execution_count": null,
      "metadata": {
        "id": "WhPu85XEe9m0"
      },
      "outputs": [],
      "source": [
        "target_num = 3\n",
        "loss_data = edit_data04_list[target_num].copy()"
      ]
    },
    {
      "cell_type": "code",
      "execution_count": null,
      "metadata": {
        "id": "E1h22SYrb4NL"
      },
      "outputs": [],
      "source": [
        "import random\n",
        "\n",
        "loss_spin_list = random.sample(list(np.arange(64)), 32)\n",
        "for spin in loss_spin_list:\n",
        "    loss_data[spin] = 0"
      ]
    },
    {
      "cell_type": "markdown",
      "metadata": {
        "id": "gyATRtNagZsB"
      },
      "source": [
        "ここで、元の画像と欠損した画像を比較してみましょう。"
      ]
    },
    {
      "cell_type": "code",
      "execution_count": null,
      "metadata": {
        "colab": {
          "base_uri": "https://localhost:8080/",
          "height": 287
        },
        "id": "dTZJxDmagqfi",
        "outputId": "1edb58df-71be-426f-e192-d2875d30ac9c"
      },
      "outputs": [
        {
          "data": {
            "image/png": "[encoded data removed]",
            "text/plain": [
              "<Figure size 576x288 with 2 Axes>"
            ]
          },
          "metadata": {
            "needs_background": "light"
          },
          "output_type": "display_data"
        }
      ],
      "source": [
        "vs_list = [edit_data04_list[target_num], loss_data]\n",
        "show_img(row=1, col=2, img_list1=vs_list, img_list2=None,\n",
        "         title_list1=['raw', 'loss'], title_list2=None,\n",
        "         subtitle=\"raw vs loss\", subtitlesize=20, figsize=(8, 4))"
      ]
    },
    {
      "cell_type": "markdown",
      "metadata": {
        "id": "OpGg5Dn0hbwI"
      },
      "source": [
        "左が元の画像、右が欠損させた画像です。\n",
        "\n",
        "ここからは、右の画像を復元していきましょう。復元する手順は以下の通りです。\n",
        "\n",
        "1.   欠損がない箇所に局所磁場$h$を設定する\n",
        "2.   この局所磁場$h$と学習済みの相互作用$J$を入力してサンプリングを行う"
      ]
    },
    {
      "cell_type": "markdown",
      "metadata": {
        "id": "xIpI3XrUitIy"
      },
      "source": [
        "まず、欠損がない箇所に局所磁場を設定します。今回は、画素が1のとき$h=+1$、画素が-1のとき$h=-1$の磁場をかけます。"
      ]
    },
    {
      "cell_type": "code",
      "execution_count": null,
      "metadata": {
        "id": "bSQUE4f7g4Gt"
      },
      "outputs": [],
      "source": [
        "loss_h = {s: loss_data[s] for s in range(num_spin)}"
      ]
    },
    {
      "cell_type": "markdown",
      "metadata": {
        "id": "LHZIZgF8kRT3"
      },
      "source": [
        "これで、局所磁場の設定は終わりです。\n",
        "\n",
        "続いて、0-4の画像を学習した相互作用を生成します。"
      ]
    },
    {
      "cell_type": "code",
      "execution_count": null,
      "metadata": {
        "colab": {
          "base_uri": "https://localhost:8080/"
        },
        "id": "BKwyJ8NLjK1q",
        "outputId": "63936347-7d64-4140-c4a8-d03ed2977c09"
      },
      "outputs": [
        {
          "name": "stderr",
          "output_type": "stream",
          "text": [
            "100%|██████████| 30/30 [01:14<00:00,  2.49s/it]\n"
          ]
        }
      ],
      "source": [
        "J_loss_dict, h = train_model(Tall=30, eta=0.001, dataset=edit_data04_list,\n",
        "                             sampler=sampler, sample_params={'beta': 1, 'num_reads': 100}, times=10)"
      ]
    },
    {
      "cell_type": "markdown",
      "metadata": {
        "id": "nNCtVSjCi5P-"
      },
      "source": [
        "最後に、局所磁場と学習済みの相互作用を入力して画像の復元を行います。"
      ]
    },
    {
      "cell_type": "code",
      "execution_count": null,
      "metadata": {
        "id": "pH39PgNRRMOH"
      },
      "outputs": [],
      "source": [
        "result_list = vs_list.copy()\n",
        "for k in J_loss_dict.keys():\n",
        "    m_h = minus_h(num_spin, loss_h)\n",
        "    m_J = minus_J(num_spin, J_loss_dict[k])\n",
        "    sampleset = sampler.sample_ising(h=m_h, J=m_J, num_reads=100)\n",
        "    result_list.append(list(sampleset.first.sample.values()))"
      ]
    },
    {
      "cell_type": "markdown",
      "metadata": {
        "id": "mfYMMhVIqEWt"
      },
      "source": [
        "結果を表示させてみましょう。"
      ]
    },
    {
      "cell_type": "code",
      "execution_count": null,
      "metadata": {
        "colab": {
          "base_uri": "https://localhost:8080/",
          "height": 176
        },
        "id": "hxmd-FTwlT94",
        "outputId": "79214884-1f81-4050-91e2-4729d2b59e38"
      },
      "outputs": [
        {
          "data": {
            "image/png": "[encoded data removed]",
            "text/plain": [
              "<Figure size 1008x216 with 6 Axes>"
            ]
          },
          "metadata": {
            "needs_background": "light"
          },
          "output_type": "display_data"
        }
      ],
      "source": [
        "times_title = ['raw', 'loss'] + [str(k) + '-times' for k in J_loss_dict.keys()]\n",
        "show_img(row=1, col=2 + len(J_loss_dict), img_list1=result_list, img_list2='',\n",
        "         title_list1=times_title, title_list2='',\n",
        "         subtitle=\"\", subtitlesize=24, figsize=(14, 3))"
      ]
    },
    {
      "cell_type": "markdown",
      "metadata": {
        "id": "om3r6YUJpunt"
      },
      "source": [
        "上手く復元することが出来ました。"
      ]
    },
    {
      "cell_type": "markdown",
      "metadata": {
        "id": "gJ78Oj85qycW"
      },
      "source": [
        "## あとがき"
      ]
    },
    {
      "cell_type": "markdown",
      "metadata": {
        "id": "mNWPN46EqEnl"
      },
      "source": [
        "本記事では、画像の生成および復元を行いました。論文では6000回学習を行っていますが、64ビットの手書き数字であれば30回程度の学習で十分だと分かりました。次の記事では、ランダムなイジング模型に対しても学習可能か検証します。"
      ]
    },
    {
      "cell_type": "markdown",
      "metadata": {
        "id": "n4Ak5viUquyK"
      },
      "source": [
        "### 記事の担当者\n",
        "\n",
        "鹿内怜央"
      ]
    }
  ],
  "metadata": {
    "colab": {
      "collapsed_sections": [],
      "name": "BM_dwave.ipynb",
      "provenance": []
    },
    "kernelspec": {
      "display_name": "Python 3 (ipykernel)",
      "language": "python",
      "name": "python3"
    },
    "language_info": {
      "codemirror_mode": {
        "name": "ipython",
        "version": 3
      },
      "file_extension": ".py",
      "mimetype": "text/x-python",
      "name": "python",
      "nbconvert_exporter": "python",
      "pygments_lexer": "ipython3",
      "version": "3.9.7"
    },
    "varInspector": {
      "cols": {
        "lenName": 16,
        "lenType": 16,
        "lenVar": 40
      },
      "kernels_config": {
        "python": {
          "delete_cmd_postfix": "",
          "delete_cmd_prefix": "del ",
          "library": "var_list.py",
          "varRefreshCmd": "print(var_dic_list())"
        },
        "r": {
          "delete_cmd_postfix": ") ",
          "delete_cmd_prefix": "rm(",
          "library": "var_list.r",
          "varRefreshCmd": "cat(var_dic_list()) "
        }
      },
      "types_to_exclude": [
        "module",
        "function",
        "builtin_function_or_method",
        "instance",
        "_Feature"
      ],
      "window_display": false
    }
  },
  "nbformat": 4,
  "nbformat_minor": 0
}
