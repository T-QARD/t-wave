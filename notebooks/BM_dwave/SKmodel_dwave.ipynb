{
  "cells": [
    {
      "cell_type": "markdown",
      "source": [
        "# ボルツマン機械学習にD-Waveマシンを用いる(実践編part2)"
      ],
      "metadata": {
        "id": "R4VBPTRtMMos"
      }
    },
    {
      "cell_type": "markdown",
      "metadata": {
        "id": "hrxyLENVCzis"
      },
      "source": [
        "## 概要"
      ]
    },
    {
      "cell_type": "markdown",
      "metadata": {
        "id": "6WLCyNtdC2we"
      },
      "source": [
        "本記事は、[こちらの論文](https://journals.aps.org/prx/abstract/10.1103/PhysRevX.7.041052#fulltext)の再現実験を行ったものです。具体的には、D-Waveマシンを用いて、ランダムなイジング模型(SK模型)を学習出来るか検証します。\n",
        "\n",
        "この論文に関する詳しい解説は、[T-Wave](https://qard.is.tohoku.ac.jp/T-Wave/)をご覧ください。"
      ]
    },
    {
      "cell_type": "markdown",
      "source": [
        "## 文献情報"
      ],
      "metadata": {
        "id": "uHrkLZ-D5USN"
      }
    },
    {
      "cell_type": "markdown",
      "source": [
        "\n",
        "\n",
        "*   タイトル：Quantum-Assisted Learning of Hardware-Embedded Probabilistic Graphical Models\n",
        "*   著者：Marcello Benedetti, John Realpe-Gómez, Rupak Biswas and Alejandro Perdomo-Ortiz\n",
        "*   書誌情報：Phys. Rev. X 7, 041052 (2017)\n",
        "*   DOI : 10.1103/PhysRevX.7.041052\n",
        "\n",
        "\n",
        "\n"
      ],
      "metadata": {
        "id": "SFhDXpmy5YI6"
      }
    },
    {
      "cell_type": "markdown",
      "metadata": {
        "id": "2os0wS7hDcRv"
      },
      "source": [
        "## 問題"
      ]
    },
    {
      "cell_type": "markdown",
      "metadata": {
        "id": "YyN5whNBDjgY"
      },
      "source": [
        "### SK模型の学習"
      ]
    },
    {
      "cell_type": "markdown",
      "metadata": {
        "id": "0LbSKjxwDxeL"
      },
      "source": [
        "SK模型とは、すべてのスピン間に対して同じ確率分布に従った相互作用を与えるイジング模型です。本論文では、次のパラメータを用いてSK模型のトレーニングセットを作成しました。"
      ]
    },
    {
      "cell_type": "markdown",
      "source": [
        "| パラメータ  | &nbsp; 値  &nbsp;&nbsp;&nbsp;&nbsp;&nbsp;&nbsp; | 説明 |\n",
        "| :---: | :---: | :---: |\n",
        "|  $N$  |  15  | スピン数 | \n",
        "|  $h$  |  0  | 局所磁場 |\n",
        "|  $\\beta$ |  1  | 逆温度 |\n",
        "|  $\\mu$  |  0  | 平均 |\n",
        "|  $\\sigma$  | $2/\\sqrt{𝑁}$ | 標準偏差 |"
      ],
      "metadata": {
        "id": "UbpCl6On6aou"
      }
    },
    {
      "cell_type": "markdown",
      "source": [
        "本実験は、\n",
        "\n",
        "\n",
        "*   厳密勾配\n",
        "*   シミュレーテッド・アニーリング(SA)\n",
        "*   量子アニーリング(QA)\n",
        "\n",
        "の３つの手法で学習を行います。QAに関しては、D-Waveマシンを用いて実験を行います。また、収束の速さを比較するための尺度として、次の平均対数尤度を用います。\n",
        "\n"
      ],
      "metadata": {
        "id": "b_JVx-jt619Y"
      }
    },
    {
      "cell_type": "markdown",
      "metadata": {
        "id": "8ra9PCn0Eid_"
      },
      "source": [
        "$$\n",
        "\\begin{aligned}\n",
        "\\Lambda_{\\mathrm{av}}(S) &=\\frac{1}{L} \\sum_{l=1}^{L} \\log Q\\left(\\mathbf{s}^{(l)}\\right) \\\\\n",
        "&=-\\beta \\frac{1}{L} \\sum_{l=1}^{L} E\\left(\\mathbf{s}^{(l)}\\right)-\\log Z(\\beta)\n",
        "\\end{aligned}\n",
        "$$"
      ]
    },
    {
      "cell_type": "markdown",
      "metadata": {
        "id": "3oMJe_09FAoF"
      },
      "source": [
        "ここで、$Q\\left(s^{(l)}\\right)$は、カノニカル分布です。\n",
        "\n",
        "$$\n",
        "Q\\left(s^{(l)}\\right)=\\frac{1}{Z} \\exp (-\\beta E(s^{(l)})), \\quad Z=\\sum_{s^{(l)}} \\exp (-\\beta E(s^{(l)}))\n",
        "$$\n",
        "\n",
        "また、本実験では局所磁場$h_i=0$とするため、イジング模型のエネルギー$E(s^{(l)})$は、"
      ]
    },
    {
      "cell_type": "markdown",
      "source": [
        "$$\n",
        "E(s^{(l)})=-\\sum_{i, j} J_{i j} s_{i}^{(l)} s_{j}^{(l)}\n",
        "$$\n",
        "となります。ここで、$s^{(l)}_{i}∈ \\lbrace -1, +1 \\rbrace$は、イジング変数です。"
      ],
      "metadata": {
        "id": "1RkKShic9cGP"
      }
    },
    {
      "cell_type": "markdown",
      "metadata": {
        "id": "t5JYWGnlEyoC"
      },
      "source": [
        "### 学習方法"
      ]
    },
    {
      "cell_type": "markdown",
      "metadata": {
        "id": "tBaB2EnpE15D"
      },
      "source": [
        "本実験では、相互作用$J$を次の勾配法を用いて学習させていきます。"
      ]
    },
    {
      "cell_type": "markdown",
      "metadata": {
        "id": "i_VmPWe76ZKr"
      },
      "source": [
        "$$\n",
        "J_{i j}(t+1)=J_{i j}(t)+\\eta \\frac{\\partial S}{\\partial J_{i j}}\n",
        "$$\n",
        "\n",
        "$$\n",
        "\\frac{1}{\\beta} \\frac{\\partial S}{\\partial J_{i j}}=\\left\\langle s_{i} s_{j}\\right\\rangle_{\\rho _\\mathcal{D}}-\\left\\langle s_{i} s_{j}\\right\\rangle_{\\rho}\n",
        "$$"
      ]
    },
    {
      "cell_type": "markdown",
      "source": [
        "ここで、$S$は量子相対エントロピーです。"
      ],
      "metadata": {
        "id": "ICyHgE8sB5mQ"
      }
    },
    {
      "cell_type": "markdown",
      "source": [
        "$$\n",
        "S\\left(\\rho_{{D}} \\| \\rho\\right)=\\operatorname{Tr} \\rho_{{D}} \\ln \\rho_{{D}}-\\operatorname{Tr} \\rho_{{D}} \\ln \\rho\n",
        "$$"
      ],
      "metadata": {
        "id": "C-n9wLcCCJo_"
      }
    },
    {
      "cell_type": "markdown",
      "source": [
        "また、パラメータの説明は次の通りです。"
      ],
      "metadata": {
        "id": "iV8pSEgdEQN2"
      }
    },
    {
      "cell_type": "markdown",
      "source": [
        "| 　パラメータ  | 説明 |\n",
        "| :---: | :---: |\n",
        "| $t$  |  学習回数  |\n",
        "| $\\eta$  |  学習率  |\n",
        "| $\\beta$  |  逆温度  |\n",
        "| $\\rho_D$  |  データセットの分布を表す、<br>対角線上の密度行列  |\n",
        "| $\\rho$  |  サンプルの分布を表す、<br>対角線上の密度行列  |"
      ],
      "metadata": {
        "id": "kjAukvKYCjLI"
      }
    },
    {
      "cell_type": "markdown",
      "metadata": {
        "id": "y4WWEwwLHWgk"
      },
      "source": [
        "## 実験"
      ]
    },
    {
      "cell_type": "markdown",
      "metadata": {
        "id": "ApYOfhcqIbfv"
      },
      "source": [
        "## 全体像"
      ]
    },
    {
      "cell_type": "markdown",
      "metadata": {
        "id": "tAhINC1_Ifge"
      },
      "source": [
        "実験の全体像を示します。"
      ]
    },
    {
      "cell_type": "markdown",
      "source": [
        "![全体像](figures/fig1.svg)"
      ],
      "metadata": {
        "id": "ZU4UH6HThgDy"
      }
    },
    {
      "cell_type": "markdown",
      "metadata": {
        "id": "iY20ledPQcki"
      },
      "source": [
        "まず最初に、ガウス分布に従うスピン配位(データ)を準備します。次に、ギブス・ボルツマン分布に従うスピン配位(サンプル)を作成します。このサンプルが、データに近づくように勾配法を用いて相互作用$J$を更新していきます。"
      ]
    },
    {
      "cell_type": "markdown",
      "metadata": {
        "id": "4SzaktflHrL0"
      },
      "source": [
        "### ライブラリのインストール"
      ]
    },
    {
      "cell_type": "markdown",
      "metadata": {
        "id": "PeyA4b55H4SB"
      },
      "source": [
        "ここで、必要なライブラリをインストールします。"
      ]
    },
    {
      "cell_type": "code",
      "source": [
        "!pip install numpy\n",
        "!pip install matplotlib\n",
        "!pip install scikit-learn\n",
        "!pip install dwave-ocean-sdk\n",
        "!pip install openjij\n",
        "!pip install tqdm"
      ],
      "metadata": {
        "id": "6Lx8I3ZZFO9J"
      },
      "execution_count": null,
      "outputs": []
    },
    {
      "cell_type": "code",
      "execution_count": null,
      "metadata": {
        "id": "WK_NvIFmShfw"
      },
      "outputs": [],
      "source": [
        "import random\n",
        "import itertools\n",
        "import numpy as np\n",
        "import matplotlib.pyplot as plt\n",
        "import openjij as oj\n",
        "from tqdm import tqdm"
      ]
    },
    {
      "cell_type": "markdown",
      "metadata": {
        "id": "1TR7wL_qIVGf"
      },
      "source": [
        "### ガウス分布から相互作用の作成"
      ]
    },
    {
      "cell_type": "markdown",
      "metadata": {
        "id": "r1ObM39yt4Id"
      },
      "source": [
        "まず、ガウス分布から相互作用$J$（インスタンス）を１つ生成します。ここで、パラメータは上記した通り、\n",
        "\n",
        "|  パラメータ  | &nbsp; 値  &nbsp;&nbsp;&nbsp;&nbsp;&nbsp;&nbsp; | 説明 |\n",
        "| :---: | :---: | :---: |\n",
        "|  $N$  |  15  | スピン数 | \n",
        "|  $h$  |  0  | 局所磁場 |\n",
        "|  $\\beta$ |  1  | 逆温度 |\n",
        "|  $\\mu$  |  0  | 平均 |\n",
        "|  $\\sigma$  | $2/\\sqrt{𝑁}$ | 標準偏差 |\n",
        "\n",
        "\n",
        "としています。"
      ]
    },
    {
      "cell_type": "code",
      "execution_count": null,
      "metadata": {
        "id": "8Q69Iiffrent"
      },
      "outputs": [],
      "source": [
        "def J_generator(N, mu, sigma):\n",
        "    \"\"\"確率分布から相互作用を作成\"\"\"\n",
        "    J = {\n",
        "        (i, j): np.random.normal(loc=mu, scale=sigma)\n",
        "        for i in range(N)\n",
        "        for j in range(i + 1, N)\n",
        "    }\n",
        "    return J"
      ]
    },
    {
      "cell_type": "code",
      "execution_count": null,
      "metadata": {
        "id": "gFKtdDSSGOAi"
      },
      "outputs": [],
      "source": [
        "ans_J = J_generator(N=15, mu=0, sigma=2 / np.sqrt(15))"
      ]
    },
    {
      "cell_type": "markdown",
      "source": [
        "### 相互作用からスピン配位の作成"
      ],
      "metadata": {
        "id": "-uLwMTtyVIG2"
      }
    },
    {
      "cell_type": "markdown",
      "metadata": {
        "id": "HCZyrKxaKwSQ"
      },
      "source": [
        "次に、作成した相互作用$J$を用いて、SK模型のスピン配位を150個サンプリングします。\n",
        "\n",
        "ここでは、サンプリングにMCMC(メトロポリス法)を利用します。手順は次の通りです。"
      ]
    },
    {
      "cell_type": "markdown",
      "metadata": {
        "id": "Fr7PGfLFcypv"
      },
      "source": [
        "\n",
        "\n",
        "> 1.   全サイトからある１サイトを乱数により選択し、 そのサイトのスピンの向きを反転させた状態を試行状態とする\n",
        "> 2.   試行状態におけるエネルギーと元の状態のエネルギーの差$\\Delta E$を求める。\n",
        "> 3.   以下の判定により、試行状態を新たな状態とするか、もとの状態を維持するかを決める。\n",
        "> *   $\\Delta E < 0$の場合には、試行状態を新たな状態とする。\n",
        "> *   一方、$\\Delta E > 0$の場合には、 乱数$a$ を $0≤a≤1$ の範囲で生成する。 $a<\\exp(-\\beta \\Delta E)$ の場合には、 試行状態を新たな状態とする。そうでない場合にはもとの状態を維持する。\n",
        ">\n",
        "> 4.   1~3を繰り返す。\n",
        ">\n",
        "> 引用元：http://www.cmpt.phys.tohoku.ac.jp/~izumida/Ising/IsingMCMP.html"
      ]
    },
    {
      "cell_type": "code",
      "execution_count": null,
      "metadata": {
        "id": "kCHYJBq1gJg5"
      },
      "outputs": [],
      "source": [
        "def cal_energy(N, J, spin):\n",
        "    energy = np.sum(\n",
        "        [-J[(i, j)] * spin[i] * spin[j] for i in range(N) for j in range(i + 1, N)]\n",
        "    )\n",
        "    return energy\n",
        "\n",
        "\n",
        "def MCMC(N, J, iter, beta=1):\n",
        "    # スピン配位をランダムに生成\n",
        "    minS = np.random.choice([-1, 1], size=N)\n",
        "    # 初期状態のエネルギー\n",
        "    minE = cal_energy(N=N, J=J, spin=minS)\n",
        "\n",
        "    for n in range(iter):\n",
        "        # 反転するスピンをランダムに決定\n",
        "        i = np.random.randint(0, N)\n",
        "\n",
        "        # １つのスピンを反転\n",
        "        flipS = minS.copy()\n",
        "        flipS[i] *= -1\n",
        "        flipE = cal_energy(N=N, J=J, spin=flipS)\n",
        "\n",
        "        # 反転前と後のエネルギーの差\n",
        "        deltaE = flipE - minE\n",
        "        if deltaE < 0:\n",
        "            minE = flipE\n",
        "            minS = flipS.copy()\n",
        "        else:\n",
        "            a = random.random()\n",
        "            p = np.exp(-beta * deltaE)\n",
        "            if a < p:\n",
        "                minE = flipE\n",
        "                minS = flipS.copy()\n",
        "            else:\n",
        "                pass\n",
        "\n",
        "    return minS"
      ]
    },
    {
      "cell_type": "markdown",
      "metadata": {
        "id": "p7gL3dVntEMT"
      },
      "source": [
        "準備が終わりました。\n",
        "\n",
        "150個のスピン配位を作成しましょう。"
      ]
    },
    {
      "cell_type": "code",
      "execution_count": null,
      "metadata": {
        "id": "RFFoKwoqr_wR"
      },
      "outputs": [],
      "source": [
        "def MCMC_sampling(num_instances):\n",
        "    sample_lists = []\n",
        "    for i in range(num_instances):\n",
        "        sample = MCMC(N=15, J=ans_J, iter=100)\n",
        "        sample_lists.append(sample)\n",
        "    return sample_lists"
      ]
    },
    {
      "cell_type": "code",
      "source": [
        "data_lists = MCMC_sampling(num_instances=150)"
      ],
      "metadata": {
        "id": "9OeYKD0pY8EO"
      },
      "execution_count": null,
      "outputs": []
    },
    {
      "cell_type": "markdown",
      "metadata": {
        "id": "vk9IPIQKatIu"
      },
      "source": [
        "これで、相互作用$J$からスピン配位を作成できました。"
      ]
    },
    {
      "cell_type": "markdown",
      "metadata": {
        "id": "jFcJahLFPCkO"
      },
      "source": [
        "### 正解となる平均対数尤度の計算"
      ]
    },
    {
      "cell_type": "markdown",
      "metadata": {
        "id": "IuOFYtiPSrIt"
      },
      "source": [
        "ここでは、作成したスピン配位による平均対数尤度を計算します。平均対数尤度は次で表せました。"
      ]
    },
    {
      "cell_type": "markdown",
      "metadata": {
        "id": "EvTZewt60JDr"
      },
      "source": [
        "$$\n",
        "\\begin{aligned}\n",
        "\\Lambda_{\\mathrm{av}}(S) &=\\frac{1}{L} \\sum_{l=1}^{L} \\log Q\\left(\\mathbf{s}^{(l}\\right) \\\\\n",
        "&=-\\beta \\frac{1}{L} \\sum_{l=1}^{L} E\\left(\\mathbf{s}^{(l)}\\right)-\\log Z(\\beta)\n",
        "\\end{aligned}\n",
        "$$"
      ]
    },
    {
      "cell_type": "markdown",
      "metadata": {
        "id": "SKIfTHYG0i6M"
      },
      "source": [
        "まず、平均対数尤度の第１項部分を求めます。"
      ]
    },
    {
      "cell_type": "code",
      "execution_count": null,
      "metadata": {
        "id": "vgw3NFbhXlbG"
      },
      "outputs": [],
      "source": [
        "def cal_first(beta, J, data_lists):\n",
        "    energy_ave = np.average(\n",
        "        [cal_energy(N=len(data_list), J=J, spin=data_list) for data_list in data_lists]\n",
        "    )\n",
        "    first = -beta * energy_ave\n",
        "    return first"
      ]
    },
    {
      "cell_type": "code",
      "execution_count": null,
      "metadata": {
        "id": "Li07YK_EWYQQ",
        "colab": {
          "base_uri": "https://localhost:8080/"
        },
        "outputId": "0959f43f-e001-43d1-bb8f-32a6db0af0bb"
      },
      "outputs": [
        {
          "output_type": "stream",
          "name": "stdout",
          "text": [
            "16.03394926364786\n"
          ]
        }
      ],
      "source": [
        "data_first = cal_first(beta=1, J=ans_J, data_lists=data_lists)\n",
        "print(data_first)"
      ]
    },
    {
      "cell_type": "markdown",
      "metadata": {
        "id": "7mE0z8YmqPIe"
      },
      "source": [
        "第１項が計算できました。続いて、平均対数尤度の第２項を求めます。"
      ]
    },
    {
      "cell_type": "code",
      "execution_count": null,
      "metadata": {
        "id": "Lfzzj8aGZ5tq"
      },
      "outputs": [],
      "source": [
        "def cal_second(beta, N, J):\n",
        "    state_sum = np.sum(\n",
        "        [\n",
        "            np.exp(-beta * cal_energy(N=N, J=J, spin=z))\n",
        "            for z in itertools.product([-1, 1], repeat=N)\n",
        "        ]\n",
        "    )\n",
        "    second = np.log(state_sum)\n",
        "    return second"
      ]
    },
    {
      "cell_type": "code",
      "execution_count": null,
      "metadata": {
        "id": "zf2glddyYWLS",
        "colab": {
          "base_uri": "https://localhost:8080/"
        },
        "outputId": "ac2d656c-c243-4e60-a47b-41a6389a9631"
      },
      "outputs": [
        {
          "output_type": "stream",
          "name": "stdout",
          "text": [
            "20.954922044868276\n"
          ]
        }
      ],
      "source": [
        "data_second = cal_second(beta=1, N=15, J=ans_J)\n",
        "print(data_second)"
      ]
    },
    {
      "cell_type": "markdown",
      "metadata": {
        "id": "xXAIRmUgeIxB"
      },
      "source": [
        "２つを合計して平均対数尤度を求めましょう。"
      ]
    },
    {
      "cell_type": "code",
      "execution_count": null,
      "metadata": {
        "id": "PU3eMQG0YpPJ",
        "colab": {
          "base_uri": "https://localhost:8080/"
        },
        "outputId": "4b1194c9-c6bc-43ca-c350-0643685bd625"
      },
      "outputs": [
        {
          "output_type": "stream",
          "name": "stdout",
          "text": [
            "-4.920972781220417\n"
          ]
        }
      ],
      "source": [
        "# 教師データの平均対数尤度\n",
        "data_LH = data_first - data_second\n",
        "print(data_LH)"
      ]
    },
    {
      "cell_type": "markdown",
      "metadata": {
        "id": "FkM3PukOlZBw"
      },
      "source": [
        "これで、正解となる平均対数尤度を求めることが出来ました。"
      ]
    },
    {
      "cell_type": "markdown",
      "metadata": {
        "id": "9HZZwxPhlgEq"
      },
      "source": [
        "### QAによる学習"
      ]
    },
    {
      "cell_type": "markdown",
      "metadata": {
        "id": "dTd0D6CWa5wQ"
      },
      "source": [
        "まず初めに、QAによる学習を行います。使用する勾配法をもう一度記載します。\n",
        "\n",
        "$$\n",
        "J_{i j}(t+1)=J_{i j}(t)+\\eta \\frac{\\partial S}{\\partial J_{i j}}\n",
        "$$\n",
        "\n",
        "$$\n",
        "\\frac{1}{\\beta} \\frac{\\partial S}{\\partial J_{i j}}=\\left\\langle s_{i} s_{j}\\right\\rangle_{\\rho _\\mathcal{D}}-\\left\\langle s_{i} s_{j}\\right\\rangle_{\\rho}\n",
        "$$"
      ]
    },
    {
      "cell_type": "markdown",
      "metadata": {
        "id": "7dI3Fas_mMZb"
      },
      "source": [
        "ここで、期待値$\\left\\langle{}\\right\\rangle_{\\rho}$は\n",
        "\n",
        "$$\n",
        "\\left\\langle s_{i} s_{j}\\right\\rangle_{\\rho} = \\frac{1}{L} \\sum_{l=1}^{L} s_{i}^{(l)} s_{j}^{(l)}\n",
        "$$\n",
        "\n",
        "のように、D-Waveマシンをサンプラーとして用いることで近似的に求められます。"
      ]
    },
    {
      "cell_type": "code",
      "execution_count": null,
      "metadata": {
        "id": "ox_w9qaXJE6f"
      },
      "outputs": [],
      "source": [
        "def minus_J(num_spin, J):\n",
        "    \"\"\"コスト関数の相互作用にマイナスがついているため、それに従って実装します\"\"\"\n",
        "    m_J = {\n",
        "        (i, j): J[(i, j)] * -1 for i in range(num_spin) for j in range(i + 1, num_spin)\n",
        "    }\n",
        "    return m_J\n",
        "\n",
        "\n",
        "def sampling(method, h, J, Nsample, beta):\n",
        "    if method == \"QA\":\n",
        "        sampleset = sampler.sample_ising(\n",
        "            h=h,\n",
        "            J=J,\n",
        "            num_reads=Nsample,\n",
        "            beta=beta,\n",
        "            answer_mode=\"raw\",\n",
        "            postprocess=\"sampling\",\n",
        "        )\n",
        "    if method == \"SA\":\n",
        "        sampleset = sampler.sample_ising(\n",
        "            h=h, J=J, num_reads=Nsample, beta_min=beta, beta_max=beta\n",
        "        )\n",
        "    return sampleset\n",
        "\n",
        "\n",
        "def train_model(method, Tall, Nsample, beta, eta, data_lists, sampler):\n",
        "    num_data = len(data_lists)\n",
        "    num_spin = len(data_lists[0])\n",
        "\n",
        "    # パラメータの初期値を0とする\n",
        "    train_J = {(i, j): 0 for i in range(num_spin) for j in range(i + 1, num_spin)}\n",
        "    h = {i: 0 for i in range(num_spin)}\n",
        "\n",
        "    # 教師データの経験平均\n",
        "    data_ave = {}\n",
        "    for i in range(num_spin):\n",
        "        for j in range(i + 1, num_spin):\n",
        "            data_ave[(i, j)] = np.average(\n",
        "                [data_lists[k][i] * data_lists[k][j] for k in range(len(data_lists))]\n",
        "            )\n",
        "\n",
        "    LH_hists = {}\n",
        "    for t in tqdm(np.arange(Tall)):\n",
        "        # サンプリング\n",
        "        m_J = minus_J(num_spin=num_spin, J=train_J)\n",
        "        sampleset = sampling(method, h, m_J, Nsample, beta)\n",
        "        sample_lists = sampleset.record.sample\n",
        "\n",
        "        for i in range(num_spin):\n",
        "            for j in range(i + 1, num_spin):\n",
        "                sample_ave = np.average(\n",
        "                    [\n",
        "                        sample_lists[k][i] * sample_lists[k][j]\n",
        "                        for k in range(len(sample_lists))\n",
        "                    ]\n",
        "                )\n",
        "                train_J[(i, j)] += eta * beta * (data_ave[(i, j)] - sample_ave)\n",
        "\n",
        "        # 一定の学習回数ごとにパラメータを保存\n",
        "        if (t + 1) % 10 == 0 or (t + 1) == 1:\n",
        "            m_J = minus_J(num_spin=num_spin, J=train_J)\n",
        "            sampleset = sampling(method=method, h=h, J=m_J, Nsample=150, beta=beta)\n",
        "            sample_lists = sampleset.record.sample\n",
        "            first = cal_first(beta=beta, J=train_J, data_lists=sample_lists)\n",
        "            second = cal_second(beta=beta, N=num_spin, J=train_J)\n",
        "            LH_hists[t + 1] = first - second\n",
        "\n",
        "    return train_J, LH_hists"
      ]
    },
    {
      "cell_type": "markdown",
      "metadata": {
        "id": "IJefemrWsbpC"
      },
      "source": [
        "これで、学習の準備が終わりました。パラメータの学習を行いましょう。"
      ]
    },
    {
      "cell_type": "code",
      "execution_count": null,
      "metadata": {
        "id": "1WmgzUkVsWNc"
      },
      "outputs": [],
      "source": [
        "from dwave.system import DWaveSampler, EmbeddingComposite, DWaveCliqueSampler\n",
        "\n",
        "sampler_config = {\"solver\": \"DW_2000Q_6\", \"token\": \"YOUR_TOKEN\"}\n",
        "sampler = EmbeddingComposite(DWaveSampler(**sampler_config))"
      ]
    },
    {
      "cell_type": "code",
      "execution_count": null,
      "metadata": {
        "colab": {
          "base_uri": "https://localhost:8080/"
        },
        "id": "2yHJGf6xov52",
        "outputId": "7448bc12-9584-4220-8682-db56ba76d849"
      },
      "outputs": [
        {
          "output_type": "stream",
          "name": "stderr",
          "text": [
            "100%|██████████| 100/100 [03:29<00:00,  2.10s/it]\n"
          ]
        }
      ],
      "source": [
        "QA_J, LH_QAhists = train_model(\n",
        "    method=\"QA\",\n",
        "    Tall=100,\n",
        "    Nsample=1000,\n",
        "    beta=1,\n",
        "    eta=0.01,\n",
        "    data_lists=data_lists,\n",
        "    sampler=sampler,\n",
        ")"
      ]
    },
    {
      "cell_type": "code",
      "source": [
        "LH_QAlist = LH_QAhists.items()\n",
        "QAx, QAy = zip(*LH_QAlist)\n",
        "\n",
        "plt.plot(QAx, QAy, label=\"QA\", marker=\"o\")\n",
        "plt.hlines(data_LH, 0, 100, colors=\"green\", label=\"Training_set\")\n",
        "plt.xlabel(\"iteration\")\n",
        "plt.ylabel(\"likelihood\")\n",
        "plt.legend(loc=\"center right\")\n",
        "plt.show()"
      ],
      "metadata": {
        "colab": {
          "base_uri": "https://localhost:8080/",
          "height": 279
        },
        "id": "BJrpFlU2XAlu",
        "outputId": "6b28d650-2ecb-4ef5-f6f8-d811d49ed287"
      },
      "execution_count": null,
      "outputs": [
        {
          "output_type": "display_data",
          "data": {
            "image/png": "[encoded data removed]",
            "text/plain": [
              "<Figure size 432x288 with 1 Axes>"
            ]
          },
          "metadata": {
            "needs_background": "light"
          }
        }
      ]
    },
    {
      "cell_type": "markdown",
      "metadata": {
        "id": "dk3WsZLWcjK1"
      },
      "source": [
        "これで、QAによる学習は終わりです。"
      ]
    },
    {
      "cell_type": "markdown",
      "metadata": {
        "id": "4fo-VzysURBk"
      },
      "source": [
        "### SAによる学習"
      ]
    },
    {
      "cell_type": "markdown",
      "metadata": {
        "id": "oDldBASqUvfO"
      },
      "source": [
        "次に、SAによる学習を行います。SAとQAの違いはソルバーを変更するだけなので、\n",
        "\n",
        "早速、学習を開始しましょう。"
      ]
    },
    {
      "cell_type": "code",
      "execution_count": null,
      "metadata": {
        "id": "KTnHa1LcVFnF"
      },
      "outputs": [],
      "source": [
        "sampler = oj.SASampler()"
      ]
    },
    {
      "cell_type": "code",
      "execution_count": null,
      "metadata": {
        "id": "I-4Ling1V3EH",
        "colab": {
          "base_uri": "https://localhost:8080/"
        },
        "outputId": "94e2997d-e3f3-4c80-b399-dea627cb239b"
      },
      "outputs": [
        {
          "output_type": "stream",
          "name": "stderr",
          "text": [
            "100%|██████████| 100/100 [02:10<00:00,  1.31s/it]\n"
          ]
        }
      ],
      "source": [
        "SA_J, LH_SAhists = train_model(\n",
        "    method=\"SA\",\n",
        "    Tall=100,\n",
        "    Nsample=1000,\n",
        "    beta=1,\n",
        "    eta=0.01,\n",
        "    data_lists=data_lists,\n",
        "    sampler=sampler,\n",
        ")"
      ]
    },
    {
      "cell_type": "code",
      "execution_count": null,
      "metadata": {
        "colab": {
          "base_uri": "https://localhost:8080/",
          "height": 279
        },
        "id": "5hAep15peqHj",
        "outputId": "0df645f7-970a-4f54-dca6-ec82da3bdc43"
      },
      "outputs": [
        {
          "output_type": "display_data",
          "data": {
            "image/png": "[encoded data removed]",
            "text/plain": [
              "<Figure size 432x288 with 1 Axes>"
            ]
          },
          "metadata": {
            "needs_background": "light"
          }
        }
      ],
      "source": [
        "LH_SAlist = LH_SAhists.items()\n",
        "SAx, SAy = zip(*LH_SAlist)\n",
        "\n",
        "plt.plot(QAx, QAy, label=\"QA\", marker=\"o\")\n",
        "plt.plot(SAx, SAy, label=\"SA\", marker=\"o\")\n",
        "plt.hlines(data_LH, 0, 100, colors=\"green\", label=\"Training_set\")\n",
        "plt.xlabel(\"iteration\")\n",
        "plt.ylabel(\"likelihood\")\n",
        "plt.legend(loc=\"lower right\")\n",
        "plt.show()"
      ]
    },
    {
      "cell_type": "markdown",
      "metadata": {
        "id": "krJpgi7klWPR"
      },
      "source": [
        "SAによる学習は、これで終了です。"
      ]
    },
    {
      "cell_type": "markdown",
      "metadata": {
        "id": "JKa-jvx8xhHt"
      },
      "source": [
        "### 厳密勾配による学習"
      ]
    },
    {
      "cell_type": "markdown",
      "metadata": {
        "id": "f4PkqyyMcwjz"
      },
      "source": [
        "最後に、期待値の計算をサンプリングによる近似ではなく、厳密に計算することで学習を行います。\n",
        "\n",
        "勾配法を、もう一度記載します。\n",
        "\n",
        "$$\n",
        "J_{i j}(t+1)=J_{i j}(t)+\\eta \\frac{\\partial S}{\\partial J_{i j}}\n",
        "$$\n",
        "\n",
        "$$\n",
        "\\frac{1}{\\beta} \\frac{\\partial S}{\\partial J_{i j}}=\\left\\langle s_{i} s_{j}\\right\\rangle_{\\rho _\\mathcal{D}}-\\left\\langle s_{i} s_{j}\\right\\rangle_{\\rho}\n",
        "$$"
      ]
    },
    {
      "cell_type": "markdown",
      "metadata": {
        "id": "hWWF1FAddCG_"
      },
      "source": [
        "QA、SAの場合、期待値$\\left\\langle{}\\right\\rangle_{\\rho}$は\n",
        "\n",
        "$$\n",
        "\\left\\langle s_{i} s_{j}\\right\\rangle_{\\rho} = \\frac{1}{L} \\sum_{l=1}^{L} s_{i}^{(l)} s_{j}^{(l)}\n",
        "$$\n",
        "\n",
        "として近似的に求めました。ここでは、この部分を厳密に計算していきます。\n",
        "\n",
        "具体的には、次の式で求められます。"
      ]
    },
    {
      "cell_type": "markdown",
      "metadata": {
        "id": "VOkW3bQ8dt-8"
      },
      "source": [
        "$$\n",
        "\\left\\langle s_{i} s_{j}\\right\\rangle_{\\rho}=\\sum_{s_{i}=\\pm 1} \\sum_{s_{j}=\\pm 1} s_{i} ・ s_{j} ・ P\\left(s_{i}, s_{j}\\right)\n",
        "$$"
      ]
    },
    {
      "cell_type": "markdown",
      "metadata": {
        "id": "Gnz1ttEherF_"
      },
      "source": [
        "ここで、$P\\left(s_{i}, s_{j}\\right)$は同時確率で\n",
        "$$\n",
        "P\\left(s_{i}, s_{j}\\right) = \\sum_{\\mathbf{s} \\backslash s_i, s_j} P(\\mathbf{s})\n",
        "$$\n",
        "として求められます。$\\mathbf{s} \\backslash s_i, s_j$　は、$s_i, s_j$以外全ての$\\mathbf{s}$を表しています。"
      ]
    },
    {
      "cell_type": "markdown",
      "metadata": {
        "id": "-OvdZg7xg9KC"
      },
      "source": [
        "例)　$N=3, i=1, j=2$の場合\n",
        "\n",
        "\n",
        "$$\n",
        "\\left\\langle s_{1} s_{2}\\right\\rangle_{\\rho}=\\sum_{s_{1}=\\pm 1} \\sum_{s_{2}=\\pm 1} s_{1} ・ s_{2} ・ P\\left(s_{1,} s_{2}\\right)\n",
        "$$\n",
        "\n",
        "ここで、$P\\left(s_{1}, s_{2}\\right)$は\n",
        "$$\n",
        "P\\left(s_{1}, s_{2}\\right) = \\sum_{\\mathbf{s} \\backslash s_1 s_2} P(\\mathbf{s}) = P(s_1, s_2, -1) + P(s_1, s_2, +1)\n",
        "$$\n",
        "\n",
        "となります。$P(s_1, s_2, s_3)$は、カノニカル分布\n",
        "$$\n",
        "P(\\mathbf{s})=\\frac{1}{Z} \\exp (-\\beta E(\\mathbf{s})), \\quad Z=\\sum_{\\mathbf{s}} \\exp (-\\beta E(\\mathbf{s}))\n",
        "$$\n",
        "\n",
        "から求められます。"
      ]
    },
    {
      "cell_type": "code",
      "execution_count": null,
      "metadata": {
        "id": "gMRMNmtR1h-W"
      },
      "outputs": [],
      "source": [
        "def cal_statesum(N, J, beta):\n",
        "    \"\"\"分配関数の計算\"\"\"\n",
        "    statesum = np.sum(\n",
        "        [\n",
        "            np.exp(-beta * cal_energy(N=N, J=J, spin=spin_list))\n",
        "            for spin_list in itertools.product([-1, 1], repeat=N)\n",
        "        ]\n",
        "    )\n",
        "    return statesum"
      ]
    },
    {
      "cell_type": "code",
      "execution_count": null,
      "metadata": {
        "id": "4Vi4SOVdrFwI"
      },
      "outputs": [],
      "source": [
        "def arg_lists(i, j, N):\n",
        "    \"\"\"同時確率の引数\"\"\"\n",
        "    arg_lists = []\n",
        "    for z in itertools.product([-1, 1], repeat=N - 2):\n",
        "        arg_list = list(z)\n",
        "        arg_list.insert(i, \"zi\")\n",
        "        arg_list.insert(j, \"zj\")\n",
        "        arg_lists.append(arg_list)\n",
        "    return arg_lists"
      ]
    },
    {
      "cell_type": "code",
      "execution_count": null,
      "metadata": {
        "id": "KVWUNnJ_jlap"
      },
      "outputs": [],
      "source": [
        "def canonical(statesum, beta, N, J, arg_list):\n",
        "    \"\"\"カノニカル分布\"\"\"\n",
        "    energy = cal_energy(N=N, J=J, spin=arg_list)\n",
        "    canonical = np.exp(-beta * energy) / statesum\n",
        "    return canonical"
      ]
    },
    {
      "cell_type": "code",
      "execution_count": null,
      "metadata": {
        "id": "wZ4kKtHWme_y"
      },
      "outputs": [],
      "source": [
        "def joint_prob(N, i, j, arg_lists, zi, zj, ca_dict):\n",
        "    \"\"\"同時確率\"\"\"\n",
        "    joint_prob = 0\n",
        "    for arg_list in arg_lists:\n",
        "        arg_list[i], arg_list[j] = zi, zj\n",
        "        joint_prob += ca_dict[tuple(arg_list)]\n",
        "    return joint_prob"
      ]
    },
    {
      "cell_type": "code",
      "execution_count": null,
      "metadata": {
        "id": "1eGMJiU679Ja"
      },
      "outputs": [],
      "source": [
        "def exact_grad(Tall, beta, N, eta):\n",
        "    # パラメータの初期値を0とする\n",
        "    train_J = {(i, j): 0 for i in range(N) for j in range(i + 1, N)}\n",
        "\n",
        "    # 教師データの経験平均\n",
        "    data_ave = {}\n",
        "    for i in range(N):\n",
        "        for j in range(i + 1, N):\n",
        "            data_ave[(i, j)] = np.average(\n",
        "                [data_lists[k][i] * data_lists[k][j] for k in range(len(data_lists))]\n",
        "            )\n",
        "\n",
        "    LH_hists = {}\n",
        "    for t in tqdm(np.arange(Tall)):\n",
        "        # 使用するカノニカル分布を先に計算\n",
        "        statesum = cal_statesum(N=N, J=train_J, beta=1)\n",
        "        ca_dict = {}\n",
        "        for spin_list in itertools.product([-1, 1], repeat=N):\n",
        "            ca_dict[spin_list] = canonical(\n",
        "                statesum=statesum, beta=1, N=N, J=train_J, arg_list=spin_list\n",
        "            )\n",
        "\n",
        "        for i in range(N):\n",
        "            for j in range(i + 1, N):\n",
        "                exact_exval = 0\n",
        "                for z in itertools.product([-1, 1], repeat=2):\n",
        "                    zi, zj = z[0], z[1]\n",
        "                    jp = joint_prob(\n",
        "                        N=N,\n",
        "                        i=i,\n",
        "                        j=j,\n",
        "                        arg_lists=arg_lists(i, j, N),\n",
        "                        zi=zi,\n",
        "                        zj=zj,\n",
        "                        ca_dict=ca_dict,\n",
        "                    )\n",
        "                # 相互作用の更新\n",
        "                train_J[(i, j)] += eta * beta * (data_ave[(i, j)] - exact_exval)\n",
        "\n",
        "        # 一定の学習回数ごとにパラメータを保存\n",
        "        if (t + 1) % 1 == 0 or (t + 1) == 1:\n",
        "            first = cal_first(beta=beta, J=train_J, data_lists=data_lists)\n",
        "            second = cal_second(beta=beta, N=N, J=train_J)\n",
        "            LH_hists[t + 1] = first - second\n",
        "\n",
        "    return train_J, LH_hists"
      ]
    },
    {
      "cell_type": "markdown",
      "metadata": {
        "id": "MlderLqCmPGz"
      },
      "source": [
        "これで、準備が終わりました。実行してみましょう。\n",
        "\n",
        "QAやSAより計算回数が多いため、時間がかかります。"
      ]
    },
    {
      "cell_type": "code",
      "execution_count": null,
      "metadata": {
        "colab": {
          "base_uri": "https://localhost:8080/"
        },
        "id": "fpjpj3eDTdQK",
        "outputId": "e995be27-3fb9-4f1e-ed65-8d5647f213aa"
      },
      "outputs": [
        {
          "output_type": "stream",
          "name": "stderr",
          "text": [
            "100%|██████████| 100/100 [37:48<00:00, 22.69s/it]\n"
          ]
        }
      ],
      "source": [
        "exact_J, exact_hists = exact_grad(Tall=100, beta=1, N=15, eta=0.01)"
      ]
    },
    {
      "cell_type": "markdown",
      "metadata": {
        "id": "FEWN68J5mwSE"
      },
      "source": [
        "それでは、全ての結果を同じグラフにプロットしてみましょう。"
      ]
    },
    {
      "cell_type": "code",
      "execution_count": null,
      "metadata": {
        "id": "RFkpaoJUTpFc",
        "colab": {
          "base_uri": "https://localhost:8080/",
          "height": 279
        },
        "outputId": "c363a4b7-1383-4a7e-9a08-837e0ff5d7c0"
      },
      "outputs": [
        {
          "output_type": "display_data",
          "data": {
            "image/png": "[encoded data removed]",
            "text/plain": [
              "<Figure size 432x288 with 1 Axes>"
            ]
          },
          "metadata": {
            "needs_background": "light"
          }
        }
      ],
      "source": [
        "exact_list = exact_hists.items()\n",
        "EXx, EXy = zip(*exact_list)\n",
        "\n",
        "plt.hlines(data_LH, 0, 100, colors=\"green\", label=\"Training_set\")\n",
        "plt.plot(QAx, QAy, label=\"QA\", marker=\"o\")\n",
        "plt.plot(SAx, SAy, label=\"SA\", marker=\"o\")\n",
        "plt.plot(EXx, EXy, label=\"Exact Gradient\", color=\"purple\")\n",
        "plt.xlabel(\"iteration\")\n",
        "plt.ylabel(\"likelihood\")\n",
        "plt.legend(loc=\"lower right\")\n",
        "plt.show()"
      ]
    },
    {
      "cell_type": "markdown",
      "source": [
        "これで、実験は終了です。"
      ],
      "metadata": {
        "id": "NIL6culpYktw"
      }
    },
    {
      "cell_type": "markdown",
      "source": [
        "最後に、５インスタンスで実験を行った結果を示します。プロットが平均値、エラーバーが標準偏差です。"
      ],
      "metadata": {
        "id": "nwM7uouWZWwL"
      }
    },
    {
      "cell_type": "markdown",
      "source": [
        "![結果_プロット.png](data:image/png;base64,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)"
      ],
      "metadata": {
        "id": "JhqXXu0zYbsd"
      }
    },
    {
      "cell_type": "markdown",
      "source": [
        "これより、QAに比べてSAの方がより速く収束していくことが分かりました。"
      ],
      "metadata": {
        "id": "F_CLTnLEPqQi"
      }
    },
    {
      "cell_type": "markdown",
      "source": [
        "## あとがき"
      ],
      "metadata": {
        "id": "BpZ5kc7uZXH6"
      }
    },
    {
      "cell_type": "markdown",
      "source": [
        "[論文](https://journals.aps.org/prx/abstract/10.1103/PhysRevX.7.041052#fulltext)では、QAとSAの比較がなされていませんでした。そこで、再現実験を行ったところ、SAは安定して学習出来ていることが分かりました。それに対しQAは、20回目までは上手く学習出来ていませんでした。また、収束の速さに関してもSAが上回っていました。これらに加え、実行時間やマシンの使用料を考慮すると、実務上ではSAの方が優位だと考えます。しかし、学習率やD-Waveマシンの設定(埋め込み方法等)を変更することで、D-WaveマシンがSAを上回る可能性もあるため、更なる調査が必要です。"
      ],
      "metadata": {
        "id": "hqk-o1-5Zo4K"
      }
    },
    {
      "cell_type": "markdown",
      "metadata": {
        "id": "NAxpukcInXFv"
      },
      "source": [
        "### 本記事の担当者\n",
        "鹿内怜央"
      ]
    }
  ],
  "metadata": {
    "colab": {
      "collapsed_sections": [],
      "name": "SKmodel_dwave.ipynb",
      "provenance": []
    },
    "kernelspec": {
      "display_name": "Python 3 (ipykernel)",
      "language": "python",
      "name": "python3"
    },
    "language_info": {
      "codemirror_mode": {
        "name": "ipython",
        "version": 3
      },
      "file_extension": ".py",
      "mimetype": "text/x-python",
      "name": "python",
      "nbconvert_exporter": "python",
      "pygments_lexer": "ipython3",
      "version": "3.9.7"
    },
    "varInspector": {
      "cols": {
        "lenName": 16,
        "lenType": 16,
        "lenVar": 40
      },
      "kernels_config": {
        "python": {
          "delete_cmd_postfix": "",
          "delete_cmd_prefix": "del ",
          "library": "var_list.py",
          "varRefreshCmd": "print(var_dic_list())"
        },
        "r": {
          "delete_cmd_postfix": ") ",
          "delete_cmd_prefix": "rm(",
          "library": "var_list.r",
          "varRefreshCmd": "cat(var_dic_list()) "
        }
      },
      "types_to_exclude": [
        "module",
        "function",
        "builtin_function_or_method",
        "instance",
        "_Feature"
      ],
      "window_display": false
    }
  },
  "nbformat": 4,
  "nbformat_minor": 0
}
