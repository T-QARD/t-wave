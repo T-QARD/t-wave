{
 "cells": [
  {
   "attachments": {},
   "cell_type": "markdown",
   "metadata": {
    "id": "3MQUvIBPuPeX"
   },
   "source": [
    "# 共通テストをD-Waveマシンで解く"
   ]
  },
  {
   "attachments": {},
   "cell_type": "markdown",
   "metadata": {
    "id": "Oxqq3SnsgO-W"
   },
   "source": [
    "## 概要"
   ]
  },
  {
   "attachments": {},
   "cell_type": "markdown",
   "metadata": {
    "id": "MwLHFQp6uPeb"
   },
   "source": [
    "現在の大学入試共通テストでは、マーク式問題が採用されています。記述式問題を取り入れることも検討されましたが、採点方法等の理由で取り下げられたことは記憶に新しいと思います。マーク式問題のデメリットは、分からない問題でも一定の確率で正解になってしまうことです。裏を返せば、問題文を見ることなく正解することも可能だということです。本記事では、D-Waveマシンを使って問題文を見ることなく共通テストを解いてみせましょう。"
   ]
  },
  {
   "attachments": {},
   "cell_type": "markdown",
   "metadata": {
    "id": "dk0aukzZuPec"
   },
   "source": [
    "## 方法"
   ]
  },
  {
   "attachments": {},
   "cell_type": "markdown",
   "metadata": {
    "id": "5EM_VO-JlQK5"
   },
   "source": [
    "### ブラックボックス最適化とは"
   ]
  },
  {
   "attachments": {},
   "cell_type": "markdown",
   "metadata": {
    "id": "jwr9Pa_IPRY2"
   },
   "source": [
    "問題文を見ずに解くと言っても、ヒント無しで満点を取るのは困難でしょう。そこで、採点は何回でも行えることにします。ただし、採点の過程がブラックボックスになっており、どの問題が正解なのかは明かされません。あくまでも点数のみが情報として与えられることにします。「マークした番号」と「合計点数」という入出力情報のみを用いて満点の解答を探しだします。"
   ]
  },
  {
   "attachments": {},
   "cell_type": "markdown",
   "metadata": {
    "id": "4HMJp8C6PkA7"
   },
   "source": [
    "<img src=\"figures/overview.png\" width=\"50%\">"
   ]
  },
  {
   "attachments": {},
   "cell_type": "markdown",
   "metadata": {
    "id": "DV_migtuuPee"
   },
   "source": [
    "このように、合計点数を最大化(または最小化)することを**ブラックボックス最適化**と言います。まずは、解答用紙をコンピュータが認識できる形に変換しましょう。マークした番号を「１」それ以外を「0」で表せば良さそうです。このような制約を**one-hot制約**と言います。"
   ]
  },
  {
   "attachments": {},
   "cell_type": "markdown",
   "metadata": {
    "id": "DelAxZBzPkA8"
   },
   "source": [
    "<img src=\"figures/scorring_overview.png\" width=\"70%\">"
   ]
  },
  {
   "attachments": {},
   "cell_type": "markdown",
   "metadata": {
    "id": "CUwCjjxjlQK6"
   },
   "source": [
    "ここで、ブラックボックスになっている採点の過程を関数$f\\left(\\vec{x}\\right)$と置くことにします。$f\\left(\\vec{x}\\right)$はどのような形になりそうでしょうか。単純に、正解ベクトルと入力ベクトルの内積で正解数を表せると思うかもしれません。しかし、２個以上マークした解答は不正解となるため、そのように表すことは出来ません。"
   ]
  },
  {
   "attachments": {},
   "cell_type": "markdown",
   "metadata": {
    "id": "JcPgGEbuuPeg"
   },
   "source": [
    "$$\n",
    "\\left\\{\\begin{array}{l}\n",
    "\\text { 正解: } \\vec{c}=(0,1,0,0) \\\\\n",
    "\\text { 入力: } \\vec{x}=(0,1,0,1)\n",
    "\\end{array}\\right.\n",
    "$$\n",
    "\n",
    "$$\n",
    "\\vec{c} \\cdot \\vec{x}=1 \\neq 0\n",
    "$$\n"
   ]
  },
  {
   "attachments": {},
   "cell_type": "markdown",
   "metadata": {
    "id": "Zo5CbBAjWGAU"
   },
   "source": [
    "つまり、$f\\left(\\vec{x}\\right)$にはone-hot制約が必要です。従って、真の関数は次のようになると予想できます。"
   ]
  },
  {
   "attachments": {},
   "cell_type": "markdown",
   "metadata": {
    "id": "W434YFLvW3og"
   },
   "source": [
    "$$\n",
    "\\max \\quad f(\\vec x) = \\sum_{i}^N \\sum_{j}^N c_{ij} x_{i}x_{j} - \\left(\\sum_{i=0}^3 x_{i} - 1\\right)^2-\\cdots\n",
    "$$"
   ]
  },
  {
   "attachments": {},
   "cell_type": "markdown",
   "metadata": {
    "id": "9f85MY9hXA1u"
   },
   "source": [
    "第2項以降は、one-hot制約を表しています。ここで、回答者は$c_{ij}$が分からないためブラックボックスとなっているのです。そこで、上記の第1項部分を以下のQUBOで表しましょう。"
   ]
  },
  {
   "attachments": {},
   "cell_type": "markdown",
   "metadata": {
    "id": "YSYFZknElQK6"
   },
   "source": [
    "$$\n",
    "\\max \\quad g\\left(\\vec{x}\\right) = \\sum_{i=1}^N \\sum_{j=1}^N Q_{i j} x_{i} x_{j}+Q_{0}\n",
    "$$"
   ]
  },
  {
   "attachments": {},
   "cell_type": "markdown",
   "metadata": {
    "id": "A05mJjqd7ZCu"
   },
   "source": [
    "ここで、Nは$(設問数)\\times(選択肢の数)$で、$Q_{0}$は定数項です。また、QをQUBO行列と呼び、$g\\left(\\vec{x}\\right)$を**代理関数**と呼びます。ここからは、真の関数の第1項を学習していきます。\n",
    "\n",
    "$g\\left(\\vec{x}\\right)$をQUBOで表したのは、D-Waveマシンで解ける形にするためです。しかし、このままでは少し複雑なので、より簡単な線形モデルに変形させましょう。そのために、次の変換を行います。\n",
    "\n",
    "$$\n",
    "\\vec{X}:=\\left(1, x_{1}, x_{2}, \\ldots, x_{N}, x_{1} x_{2}, x_{1} x_{3}, \\ldots, x_{N-1} x_{N}\\right)^\\mathsf{T}\\\\\n",
    "\\vec{a} := \\left( Q_{0}, Q_{11}, \\ldots, Q_{NN}, Q_{12}, Q_{13}, \\ldots, Q_{N-1, N}\\right)^\\mathsf{T}\n",
    "$$\n"
   ]
  },
  {
   "attachments": {},
   "cell_type": "markdown",
   "metadata": {
    "id": "Z6gdawrN4_7U"
   },
   "source": [
    "QUBOを線形モデルに変形する過程は次の通りです。\n",
    "\n",
    "$$\n",
    "\\begin{equation}\n",
    "\\begin{split}\n",
    "g(\\vec{x}) &= \\sum_{i}^N \\sum_{j}^N Q_{i j} x_{i} x_{j} + Q_0\\\\\n",
    "&=Q_{0}+Q_{11} x_{1}+Q_{22} x_{2}+\\ldots Q_{NN} x_{N}+Q_{12} x_{1} x_{2}+Q_{13} x_{1} x_{3}+\\ldots+Q_{N-1, N} x_{N-1} x_{N}\\\\\n",
    "&=a_{0}+a_{1} x_{1}+a_{2} x_{2}+\\ldots a_{N} x_{N}+a_{12} x_{1} x_{2}+a_{13} x_{1} x_{3}+\\ldots+a_{N-1, N} x_{N-1} x_{N}\\\\\n",
    "&=\\sum_{k} a_{k} X_{k}=\\vec{a}^\\mathsf{T}\\vec{X}\n",
    "\\end{split}\n",
    "\\end{equation}\n",
    "$$"
   ]
  },
  {
   "attachments": {},
   "cell_type": "markdown",
   "metadata": {
    "id": "vEhm6WSMuPei"
   },
   "source": [
    "これで、代理関数を線形モデルに変換できました。$\\vec{a}$は、$\\vec{X}$ の係数部分になっていることが分かります。従って、$\\vec{a}$を調整することにより、$g(\\vec{x})$を真の関数$f\\left(\\vec{x}\\right)$に近づけることが出来ます。それでは、$\\vec{a}$を調整する方法を考えていきましょう。"
   ]
  },
  {
   "attachments": {},
   "cell_type": "markdown",
   "metadata": {
    "id": "RRpL1z92uPei"
   },
   "source": [
    "### ベイス推論とは"
   ]
  },
  {
   "attachments": {},
   "cell_type": "markdown",
   "metadata": {
    "id": "cYbY6PTTuPei"
   },
   "source": [
    "事前に与えられている情報は、「マークした番号」と「合計点数」のみです。\n",
    "これらの入出力データを$(\\vec{x}, y)$として$\\vec{a}$を推定してみましょう。"
   ]
  },
  {
   "attachments": {},
   "cell_type": "markdown",
   "metadata": {
    "id": "Kh5-dNtSuPej"
   },
   "source": [
    "まずは、**ベイズの定理**について確認します。\n",
    "\n",
    "$$\n",
    "P(A \\mid B)=\\frac{P(B \\mid A) P(A)}{P(B)}\n",
    "$$"
   ]
  },
  {
   "attachments": {},
   "cell_type": "markdown",
   "metadata": {
    "id": "zs8vzOOyuPej"
   },
   "source": [
    "これは、３変数の場合でも同様に成り立ちます。\n",
    "\n",
    "$$\n",
    "P(A \\mid B, C)=\\frac{P(B \\mid A, C) P(A, C)}{P(B, C)}\n",
    "$$"
   ]
  },
  {
   "attachments": {},
   "cell_type": "markdown",
   "metadata": {
    "id": "cupNyefeuPej"
   },
   "source": [
    "我々の目的は、入出力データ$(\\vec{x}, y)$から$\\vec{a}$を推定することです。そこで、ベイズの定理から次の条件付き確率を考えてみましょう。"
   ]
  },
  {
   "attachments": {},
   "cell_type": "markdown",
   "metadata": {
    "id": "mi5lcttUuPej"
   },
   "source": [
    "$$\n",
    "P\\left(\\vec{a} \\mid y, \\vec{x}\\right)=\\frac{P\\left(y \\mid \\vec{a}, \\vec{x}\\right) P\\left(\\vec{a}\\right)P\\left(\\vec{x}\\right)}{P\\left(y, \\vec{x}\\right)}\n",
    "$$\n",
    "\n",
    "ここで、$\\vec{a}$と$\\vec{x}$は独立のため、$P\\left(\\vec{a}, \\vec{x}\\right)=P\\left(\\vec{a}\\right)P\\left(\\vec{x}\\right)$の関係を使いました。\n"
   ]
  },
  {
   "attachments": {},
   "cell_type": "markdown",
   "metadata": {
    "id": "OG1-PvoruPek"
   },
   "source": [
    "$P(\\vec{a} \\mid y, \\vec{x})$は、$(\\vec{x}, y)$が与えられたときの$\\vec{a}$に対する確率と読みます。$\\vec{a}$という原因によってデータ$(\\vec{x}, y)$が得られると考えると、事象が起きた後の確率を表しているので、**事後確率**と言います。一方、$P(\\vec{a})$は事象が起きる前の確率なので**事前確率**と言い、$\\vec{a}$が選ばれる確率を表しています。"
   ]
  },
  {
   "attachments": {},
   "cell_type": "markdown",
   "metadata": {
    "id": "iE82BCk-uPek"
   },
   "source": [
    "我々が知りたいのは、事後確率が最も高くなるときの$\\vec{a}$です。そこで、微分して0となる$\\vec{a}$を計算することにしましょう。しかし、事後確率は微分しづらい積の形をしているので対数を取ることで、和の形に変形しましょう。\n",
    "\n",
    "$$\n",
    "\\begin{equation}\n",
    "\\begin{split}\n",
    "\\log P\\left(\\vec{a} \\mid y, \\vec{x}\\right)&=\\log \\frac{P\\left(y \\mid \\vec{a}, \\vec{x}\\right) P\\left(\\vec{a}\\right)P\\left(\\vec{x}\\right)}{P\\left(y, \\vec{x}\\right)}\\\\\n",
    "&=\\log P\\left(y \\mid \\vec{a}, \\vec{x}\\right)+\\log P\\left(\\vec{a}\\right) +\\log P\\left(\\vec{x}\\right) - \\log P\\left(y, \\vec{x}\\right)\n",
    "\\end{split}\n",
    "\\end{equation}\n",
    "$$"
   ]
  },
  {
   "attachments": {},
   "cell_type": "markdown",
   "metadata": {
    "id": "xPSEUcRduPek"
   },
   "source": [
    "$\\vec{a}$に関する部分のみ残すと、最終的な式は次のようになります。"
   ]
  },
  {
   "attachments": {},
   "cell_type": "markdown",
   "metadata": {
    "id": "nErUNpC6uPek"
   },
   "source": [
    "$$\n",
    "\\vec{a}=\\underset{\\vec{a}}{\\arg \\max }\\left\\{ \\log P\\left(y \\mid \\vec{a}, \\vec{x}\\right)+\\log P\\left(\\vec{a}\\right)\\right\\}\n",
    "$$\n",
    "\n",
    "このように、ベイズの定理を利用してパラメータを推定する手法の１つを**最大事後確率（maximum a posteriori, MAP）推定**といいます。それでは、実際に$P\\left(y \\mid \\vec{a}, \\vec{x}\\right)$と$P\\left(\\vec{a}\\right)$を代入して計算していきましょう。"
   ]
  },
  {
   "attachments": {},
   "cell_type": "markdown",
   "metadata": {
    "id": "YC0beez2uPek"
   },
   "source": [
    "### MAP推定"
   ]
  },
  {
   "attachments": {},
   "cell_type": "markdown",
   "metadata": {
    "id": "TjVBkGtluPek"
   },
   "source": [
    "$P\\left(  y \\mid \\vec{a}, \\vec{x}\\right)  $を導出します。まず、真の関数$f\\left(  \\vec{x}\\right)  $と代理関数$g\\left(  \\vec{x}\\right)  $の間には誤差が生じると考えます。全データに対する誤差の総和を$z$とすると、次のように定義できます。\n",
    "\n",
    "$$\n",
    "z := \\sum_{d=1}^D \\left(  f\\left(  \\vec{x }_d\\right)   - g\\left(  \\vec{x}_d\\right)  \\right)   = \\sum_{d=1}^D \\left(  y_d - \\vec{a}^\\mathsf{T}\\vec{X}_d\\right)  \n",
    "$$"
   ]
  },
  {
   "attachments": {},
   "cell_type": "markdown",
   "metadata": {
    "id": "2Il-gCtruPel"
   },
   "source": [
    "ここで、$D$はデータの数です。\n",
    "\n",
    "続いて、$z$が$\\mu=0, \\sigma^2=1$のガウス分布に従うと仮定すると、確率密度関数は次のようになります。\n",
    "\n",
    "$$\n",
    "P(z)=\\frac{1}{\\sqrt{2\\pi}}\\exp\\left(- \\frac{1}{2}z^2\\right)\n",
    "$$\n",
    "\n",
    "出力$y$は、$z$がどのような値を取るかの確率で決まるため、"
   ]
  },
  {
   "attachments": {},
   "cell_type": "markdown",
   "metadata": {
    "id": "PUjmhf-quPel"
   },
   "source": [
    "$$\n",
    "P\\left(y \\mid \\vec{a}, \\vec{x}\\right)=P(z)=\\frac{1}{\\sqrt{2 \\pi}} \\exp \\left\\{-\\frac{1}{2}\\sum_{d=1}^D\\left(y_d-\\vec{a}^\\mathsf{T}\\vec{X}_d\\right)^{2}\\right\\}\n",
    "$$"
   ]
  },
  {
   "attachments": {},
   "cell_type": "markdown",
   "metadata": {
    "id": "lvOF79cPuPel"
   },
   "source": [
    "となります。これで、$P\\left( y \\mid \\vec{a}, \\vec{x}\\right) $を導出できました。これは、誤差の小さい$y$を出力する確率が高くなるような分布になっています。"
   ]
  },
  {
   "attachments": {},
   "cell_type": "markdown",
   "metadata": {
    "id": "0peCpc0VuPel"
   },
   "source": [
    "次は、事前確率$P\\left( \\vec{a}\\right) $です。$\\vec{a}$もガウス分布に従うと仮定して、次のように表します。\n",
    "\n",
    "$$\n",
    "P\\left(\\vec{a}\\right)=\\sqrt{\\frac{\\lambda}{2 \\pi}} \\exp \\left(-\\frac{\\lambda}{2} \\vec{a}^{\\top} \\vec{a}\\right)\n",
    "$$\n",
    "\n",
    "これらをMAP推定の式に代入してみましょう。"
   ]
  },
  {
   "attachments": {},
   "cell_type": "markdown",
   "metadata": {
    "id": "r_IMF_5wuPel"
   },
   "source": [
    "$$\n",
    "\\begin{equation}\n",
    "\\begin{split}\n",
    "\\vec{a}&=\\underset{\\vec{a}}{\\arg \\max }\\left\\{ \\log P\\left( y \\mid \\vec{a}, \\vec{x}\\right) +\\log P\\left( \\vec{a}\\right) \\right\\}\\\\\n",
    "&=\\underset{\\vec{a}}{\\arg \\max }\\left\\{ \\log \\frac{1}{\\sqrt{2 \\pi}} \\exp \\left\\{-\\frac{1}{2}\\sum_{i=1}^D\\left( y_i-\\vec{a}^\\mathsf{T}\\vec{X}_i\\right) ^{2}\\right\\}+\\log \\sqrt{\\frac{\\lambda}{2 \\pi}} \\exp \\left( -\\frac{\\lambda}{2} \\vec{a}^{\\top} \\vec{a}\\right) \\right\\}\\\\\n",
    "&=\\underset{\\vec{a}}{\\arg \\max }\\left\\{-\\frac{1}{2}\\sum_{i=1}^D\\left( y_i-\\vec{a}^\\mathsf{T}\\vec{X}_i\\right) ^{2}-\\frac{\\lambda}{2} \\vec{a}^{\\top} \\vec{a}\\right\\}\\\\\n",
    "&=\\underset{\\vec{a}}{\\arg \\min }\\left\\{\\frac{1}{2}\\sum_{i=1}^D\\left( y_i-\\vec{a}^\\mathsf{T}\\vec{X}_i\\right) ^{2}+\\frac{\\lambda}{2} \\vec{a}^{\\top} \\vec{a}\\right\\}\n",
    "\\end{split}\n",
    "\\end{equation}\n",
    "$$\n",
    "\n",
    "MAP推定は最小化問題に帰着されました。この関数を**損失関数**と言います。第1項は、最小二乗法になっています。これにより、真の関数と代理関数の差を最小にすることができます。第2項は、**$L_2$正則化項**です。これにより、係数$\\vec{a}$の絶対値が小さくなり過学習を抑制できます。というのも、係数が大きいほど複雑な関数になり、過学習が起きやすくなるためです。過学習の例は下図の通りです。最小二乗法の式に$L_{2}$正則化項を加えることで、過学習を抑制する回帰を**リッジ(Ridge)回帰**と言います。"
   ]
  },
  {
   "attachments": {},
   "cell_type": "markdown",
   "metadata": {
    "id": "g_p4aSOAuPel"
   },
   "source": [
    ">過学習の例\n",
    "![過学習の例](https://docs.aws.amazon.com/ja_jp/machine-learning/latest/dg/images/mlconcepts_image5.png)\n",
    "\n",
    "(引用: https://docs.aws.amazon.com/ja_jp/machine-learning/latest/dg/model-fit-underfitting-vs-overfitting.html)"
   ]
  },
  {
   "attachments": {},
   "cell_type": "markdown",
   "metadata": {
    "id": "uiiO7YXWuPel"
   },
   "source": [
    "損失関数は、$\\vec a$に関する2次関数になっています。従って、$\\vec{a}$で微分して0となる点が求めたい$\\vec{a}$です。まずは、表記の確認をします。分かりやすさのため、行列とベクトルの表記を区別しています。\n",
    "\n",
    "$$\n",
    "\\vec{y}:=(y_1, y_2, \\ldots, y_D)^\\mathsf{T}\\\\\n",
    "\\vec{a}:=(a_1, a_2, \\ldots, a_P)^\\mathsf{T} \\\\\n",
    "\\vec{X}^{(d)}:=\\left(X_{1}^{(d)}, X_{2}^{(d)}, \\ldots, X_{P}^{(d)}\\right)^\\mathsf{T}\\\\\n",
    "\\mathbf{X} := (\\vec{X}^{(1)}, \\vec{X}^{(2)}, \\ldots, \\vec{X}^{(D)})\n",
    "$$"
   ]
  },
  {
   "attachments": {},
   "cell_type": "markdown",
   "metadata": {
    "id": "7HeYIDRluPem"
   },
   "source": [
    "それでは、微分して0となる$\\vec{a}$を求めていきましょう。１行ずつ丁寧に変形していきます。\n",
    "\n",
    "$$\n",
    "\\frac{1}{2}\\sum_{d=1}^D\\left(y_d-\\sum _{k=1}^{P}a_kX_{k}^{(d)}\\right)^{2}+\\frac{\\lambda}{2} \\sum_{k=1}^{P}a_k^2\n",
    "$$\n",
    "$$\n",
    "\\begin{eqnarray*}\n",
    "(a_{k}で微分)\\quad\\longrightarrow&&- \\sum_{d=1}^D\\left(y_d-\\sum _{l=1}^{P}a_{l}X_{l}^{(d)}\\right)X_{k}^{(d)}+\\lambda a_k=0 　\\\\\n",
    "\\longrightarrow&&\\sum_{d=1}^D\\sum _{l=1}^{P}X_{ld}X_{kd}a_{l}+\\lambda a_k=\\sum_{d=1}^D X_{k}^{(d)}y_d \\\\\n",
    "(両辺で\\sum_{k=1}^Pをとる)\\quad \\longrightarrow&&\\sum_{k=1}^P\\sum_{d=1}^D\\sum _{l=1}^{P}X_{l}^{(d)}X_{k}^{(d)}a_{l}+\\sum_{k=1}^P\\lambda a_k=\\sum_{k=1}^P\\sum_{d=1}^D X_{k}^{(d)}y_d  \\\\\n",
    "\\longrightarrow&&\\mathbf{X}\\mathbf{X}^{\\mathsf{T}}\\vec{a}+\\lambda\\mathbf{I}_P\\vec{a}=\\mathbf{X}\\vec{y}\\qquad(\\mathbf{I}_PはP\\times Pの単位行列) \\\\\n",
    "\\longrightarrow&&\\left(\\mathbf{X}\\mathbf{X}^{\\mathsf{T}}+\\lambda\\mathbf{I}_P\\right)\\vec{a}=\\mathbf{X}\\vec{y}\\\\\n",
    "\\longrightarrow&&\\vec{a}=\\left(\\mathbf{X}\\mathbf{X}^{\\mathsf{T}}+\\lambda\\mathbf{I}_P\\right)^{-1}\\mathbf{X}\\vec{y}\\\\\n",
    "\\longrightarrow&&\\vec{a}=V^{-1}\\mathbf{X}\\vec{y}\n",
    "\\end{eqnarray*}\n",
    "$$\n",
    "\n",
    "ここで、$V^{-1}\\mathbf{X}\\vec{y}$は頂点であり、$V$は放物線の丸みを表しています。$V$が大きいと鋭く、小さいと緩やかな放物線になります。放物線が鋭い場合、求めたい$\\vec{a}$は頂点付近にあるでしょう。しかし、放物線が緩やかだと、頂点から離れた点が本当に求めたい$\\vec{a}$かもしれません。従って、放物線が鋭い場合は頂点からあまり動かさず、緩やかな場合は頂点から少しずれた$\\vec{a}$を採用しましょう。\n",
    "\n",
    "整理すると、$V$が大きいときは頂点からあまり動かさず、小さいときは頂点から大きく動かしましょう。この動き具合は、$V^{-1}$で表すことが出来ます。なぜなら、$V$が大きいと$V^{-1}$は小さく、$V$が小さいと$V^{-1}$は大きくなりますね。\n",
    "\n",
    "\n",
    "これで手持ちのデータセットから、$\\vec{a}$を推定することが出来そうです。しかし、与えられた少数のデータセットだけで$g(\\vec{x})$を真の関数$f\\left(\\vec{x}\\right)$に一致させるのは困難です。そこで、データを追加してから再度、$\\vec{a}$の推定を行いましょう。"
   ]
  },
  {
   "attachments": {},
   "cell_type": "markdown",
   "metadata": {
    "id": "7FN68JxFuPem"
   },
   "source": [
    "### 獲得関数"
   ]
  },
  {
   "attachments": {},
   "cell_type": "markdown",
   "metadata": {
    "id": "pa0jlCT9uPen"
   },
   "source": [
    "手持ちのデータセットと似たデータを追加するのは効率が悪そうです。出来るだけ似ておらず、かつ、点数が高いデータを追加していきましょう。\n",
    "\n",
    "推定した$\\vec{a}$は$X$の係数であり、QUBO行列でもありました。従って、$\\vec{a}$をQUBO行列に再変換しD-Waveマシンに入力することで、点数の高いデータを獲得できます。このように、データを獲得するために用いる関数を**獲得関数**と言います。また、今回のブラックボックス最適化では、ベイズ推定を用いて最適化を行いました。これを、**Bayesian optimization of combinatorial structures (BOCS)**と言います。最後に、BOCSの全体像を示します。"
   ]
  },
  {
   "attachments": {},
   "cell_type": "markdown",
   "metadata": {
    "id": "aK1k0YbXPkBK"
   },
   "source": [
    "<img src=\"figures/BOCS_overview.png\" width=\"80%\">"
   ]
  },
  {
   "attachments": {},
   "cell_type": "markdown",
   "metadata": {
    "id": "I_HKeqL8uPen"
   },
   "source": [
    "これで、ブラックボックス最適化の説明は終わりです。ここからは実験を行います。"
   ]
  },
  {
   "attachments": {},
   "cell_type": "markdown",
   "metadata": {
    "id": "dRTf1S3_gj3r"
   },
   "source": [
    "## 実験(世界史編)"
   ]
  },
  {
   "attachments": {},
   "cell_type": "markdown",
   "metadata": {
    "id": "IekDomdhuPen"
   },
   "source": [
    "### ライブラリのインストール"
   ]
  },
  {
   "attachments": {},
   "cell_type": "markdown",
   "metadata": {
    "id": "Su1G0MrKuPen"
   },
   "source": [
    "実験に使用するライブラリをインストールしておきましょう。"
   ]
  },
  {
   "cell_type": "code",
   "execution_count": null,
   "metadata": {
    "id": "Cv0lJJ_xNdBs"
   },
   "outputs": [],
   "source": [
    "# !pip install dwave-ocean-sdk\n",
    "# !pip install openjij"
   ]
  },
  {
   "cell_type": "code",
   "execution_count": null,
   "metadata": {
    "id": "MFlLnIZmethg"
   },
   "outputs": [],
   "source": [
    "import random\n",
    "import copy\n",
    "import numpy as np\n",
    "import matplotlib.pyplot as plt\n",
    "from tqdm import tqdm"
   ]
  },
  {
   "attachments": {},
   "cell_type": "markdown",
   "metadata": {
    "id": "fnM47Fr1uPeo"
   },
   "source": [
    "### 問題設定"
   ]
  },
  {
   "attachments": {},
   "cell_type": "markdown",
   "metadata": {
    "id": "8lLfuXjhbk4x"
   },
   "source": [
    "共通テスト2022の世界史Aの1~10問目まで対象とします。正解となる解答は次の通りです。"
   ]
  },
  {
   "cell_type": "code",
   "execution_count": null,
   "metadata": {
    "id": "eRBTojeJNlu1"
   },
   "outputs": [],
   "source": [
    "# マーク問題の正解の番号\n",
    "correct_answer = [2, 1, 3, 4, 3, 2, 4, 1, 1, 2]"
   ]
  },
  {
   "attachments": {},
   "cell_type": "markdown",
   "metadata": {
    "id": "8PRXoJyR4K3a"
   },
   "source": [
    "### 正解をone-hot表現に変換する"
   ]
  },
  {
   "attachments": {},
   "cell_type": "markdown",
   "metadata": {
    "id": "tcbucga-wioX"
   },
   "source": [
    "正解の番号をone-hot表現に変換しましょう。"
   ]
  },
  {
   "cell_type": "code",
   "execution_count": null,
   "metadata": {
    "colab": {
     "base_uri": "https://localhost:8080/"
    },
    "id": "Hpar-SMjNgs5",
    "outputId": "08006715-f384-47cc-e4c1-42c2e4b31c83"
   },
   "outputs": [
    {
     "name": "stdout",
     "output_type": "stream",
     "text": [
      "問題の数: 10\n",
      "選択肢の数: 4\n",
      "変数の数: 40\n"
     ]
    }
   ],
   "source": [
    "num_options = 4\n",
    "num_questions = len(correct_answer)\n",
    "num_variables = num_options * num_questions\n",
    "print(\"問題の数:\", num_questions)\n",
    "print(\"選択肢の数:\", num_options)\n",
    "print(\"変数の数:\", num_variables)"
   ]
  },
  {
   "cell_type": "code",
   "execution_count": null,
   "metadata": {
    "id": "f02pfQEa_M6f"
   },
   "outputs": [],
   "source": [
    "def make_onehot(correct_answer, num_options=num_options):\n",
    "    onehot_answer = []\n",
    "    for answer in correct_answer:\n",
    "        onehot = [0 for i in range(num_options)]\n",
    "        onehot[answer - 1] = 1\n",
    "        onehot_answer.extend(onehot)\n",
    "    return np.array(onehot_answer)"
   ]
  },
  {
   "cell_type": "code",
   "execution_count": null,
   "metadata": {
    "colab": {
     "base_uri": "https://localhost:8080/"
    },
    "id": "N21nfrrWARss",
    "outputId": "d19cbf65-9759-43e5-dbe1-42a9efe4b309"
   },
   "outputs": [
    {
     "name": "stdout",
     "output_type": "stream",
     "text": [
      "one-hotに変換した解答:\n",
      "\n",
      "[[0 1 0 0]\n",
      " [1 0 0 0]\n",
      " [0 0 1 0]\n",
      " [0 0 0 1]\n",
      " [0 0 1 0]\n",
      " [0 1 0 0]\n",
      " [0 0 0 1]\n",
      " [1 0 0 0]\n",
      " [1 0 0 0]\n",
      " [0 1 0 0]]\n"
     ]
    }
   ],
   "source": [
    "onehot_correct = make_onehot(correct_answer)\n",
    "print(\"one-hotに変換した解答:\\n\")\n",
    "print(onehot_correct.reshape(num_questions, num_options))"
   ]
  },
  {
   "attachments": {},
   "cell_type": "markdown",
   "metadata": {
    "id": "03m8np6owsFk"
   },
   "source": [
    "one-hot表現になっていることが確認できました。"
   ]
  },
  {
   "attachments": {},
   "cell_type": "markdown",
   "metadata": {
    "id": "FJRHW-LE4oDV"
   },
   "source": [
    "### 初期データセットの作成"
   ]
  },
  {
   "attachments": {},
   "cell_type": "markdown",
   "metadata": {
    "id": "J-uSJpVIuPep"
   },
   "source": [
    "one-hot制約を満たすランダムな0-1の組み合わせを作成し、これをデータ$\\vec{x}$とします。また、$\\vec{x}$を採点したものをデータ$y$とします。これらを合わせてデータセットと呼びます。早速、初期データセットを作成しましょう。"
   ]
  },
  {
   "cell_type": "code",
   "execution_count": null,
   "metadata": {
    "id": "rx4Cy0WRRefd"
   },
   "outputs": [],
   "source": [
    "def scoring(\n",
    "    sample,\n",
    "    onehot_correct=onehot_correct,\n",
    "    num_quesstions=num_questions,\n",
    "    num_options=num_options,\n",
    "):\n",
    "    \"\"\"\n",
    "    採点を行う関数\n",
    "    引数は1次元のnp.array\n",
    "    完全に一致しない解答は0点とする\n",
    "    満点は100点\n",
    "    \"\"\"\n",
    "    shaped_correct = onehot_correct.reshape(num_questions, num_options)\n",
    "    shaped_sample = sample.reshape(num_questions, num_options)\n",
    "    MAX_SCORE = 100\n",
    "    question_score = MAX_SCORE // num_questions\n",
    "    total_score = 0\n",
    "    for i in range(num_questions):\n",
    "        if np.array_equal(shaped_correct[i], shaped_sample[i]):\n",
    "            total_score += question_score\n",
    "    return total_score"
   ]
  },
  {
   "cell_type": "code",
   "execution_count": null,
   "metadata": {
    "id": "PsWGtpjgT7_g"
   },
   "outputs": [],
   "source": [
    "def make_dataset(num_data, onehot_correct=onehot_correct):\n",
    "    x_dataset, y_dataset = [], []\n",
    "    for _ in range(num_data):\n",
    "        x = np.zeros((10, 4))\n",
    "        for ans in x:\n",
    "            random_number = np.random.choice([0, 1, 2, 3])\n",
    "            ans[random_number] = 1\n",
    "        x = x.flatten()\n",
    "        x_dataset.append(x)\n",
    "        y = scoring(x, onehot_correct)\n",
    "        y_dataset.append(y)\n",
    "    return x_dataset, y_dataset"
   ]
  },
  {
   "cell_type": "code",
   "execution_count": null,
   "metadata": {
    "id": "10--MPh3nezc"
   },
   "outputs": [],
   "source": [
    "# データセットの作成\n",
    "x_dataset, y_dataset = make_dataset(num_data=10)"
   ]
  },
  {
   "cell_type": "code",
   "execution_count": null,
   "metadata": {
    "colab": {
     "base_uri": "https://localhost:8080/"
    },
    "id": "D_MVLhukzd3z",
    "outputId": "622e7722-6c6f-4927-ca9f-fc283fbac564"
   },
   "outputs": [
    {
     "name": "stdout",
     "output_type": "stream",
     "text": [
      "x: [0. 0. 0. 1. 1. 0. 0. 0. 1. 0. 0. 0. 0. 0. 0. 1. 0. 1. 0. 0. 0. 0. 0. 1.\n",
      " 1. 0. 0. 0. 0. 1. 0. 0. 0. 0. 0. 1. 0. 1. 0. 0.]\n",
      "y: 30\n"
     ]
    }
   ],
   "source": [
    "print(\"x:\", x_dataset[0])\n",
    "print(\"y:\", y_dataset[0])"
   ]
  },
  {
   "attachments": {},
   "cell_type": "markdown",
   "metadata": {
    "id": "W3wyHKak6wLR"
   },
   "source": [
    "### ブラックボックス最適化"
   ]
  },
  {
   "attachments": {},
   "cell_type": "markdown",
   "metadata": {
    "id": "65tl2nqpuPeq"
   },
   "source": [
    "代理関数は、$\\vec{x}$を$\\vec{X}$に変換し、QUBO行列を$\\vec{a}$に変換することで線形モデルにすることができました。まずは、$\\vec{X}$を作成しましょう。"
   ]
  },
  {
   "cell_type": "code",
   "execution_count": null,
   "metadata": {
    "id": "8Ypxyo2C6yuo"
   },
   "outputs": [],
   "source": [
    "def make_X(x, num_variables=num_variables):\n",
    "    num_transformed_variables = int(\n",
    "        1 + num_variables + num_variables * (num_variables - 1) / 2\n",
    "    )  # 変換後の変数の数\n",
    "    X = np.zeros(num_transformed_variables)\n",
    "    X[0] = 1  # コスト関数の定数部分\n",
    "    X[1 : num_variables + 1] = x\n",
    "    n = 0\n",
    "    for k in range(num_variables - 1):\n",
    "        for l in range(k + 1, num_variables):\n",
    "            X[num_variables + 1 + n] = x[k] * x[l]\n",
    "            n = n + 1\n",
    "    return X"
   ]
  },
  {
   "attachments": {},
   "cell_type": "markdown",
   "metadata": {
    "id": "uXI6-ORruPeq"
   },
   "source": [
    "次に、データセットから$\\vec{a}$を推定する関数を作成します。"
   ]
  },
  {
   "cell_type": "code",
   "execution_count": null,
   "metadata": {
    "id": "iOxtK-lzKvjQ"
   },
   "outputs": [],
   "source": [
    "def predict_a(X_dataset, y_dataset, lam, num_variables=num_variables):\n",
    "    num_transformed_variables = int(\n",
    "        1 + num_variables + num_variables * (num_variables - 1) / 2\n",
    "    )  # 変換後の変数の数\n",
    "    # np.arrayに変換\n",
    "    X_ds = np.array(X_dataset).T  # (P×D)の行列X\n",
    "    y_ds = np.array(y_dataset)\n",
    "    # aの推定\n",
    "    V_inv = np.linalg.inv(\n",
    "        np.dot(X_ds, X_ds.T) + lam * np.eye(num_transformed_variables)\n",
    "    )  # Vの逆行列\n",
    "    ave = np.dot(V_inv, np.dot(X_ds, y_ds))\n",
    "    var = 0.5 * V_inv\n",
    "    a = np.random.multivariate_normal(ave, var)\n",
    "    return a"
   ]
  },
  {
   "attachments": {},
   "cell_type": "markdown",
   "metadata": {
    "id": "syEhK2nkuPeq"
   },
   "source": [
    "ここで、aveは頂点の$V^{-1}\\mathbf{X}\\vec{y}$です。先程、頂点からの動き具合は$V^{-1}$で表すことが出来ると述べました。それを、varとしています。0.5倍しているのは、動き具合を少し弱めるためです。np.random.multivariate_normalは、乱数を発生させる関数です。これにより、aveを中心としてvarぶんだけバラつかせた乱数を$\\vec{a}$とすることが出来ます。\n",
    "\n",
    "続いて、推定した$\\vec{a}$からQUBO行列に変換する関数を作成しましょう。また、推定した$\\vec a$はone-hot制約以外の部分を学習しているため、one-hot制約は人力で反映させましょう。4択で1問選ぶ場合のone-hot制約の展開式は次のようになります。\n",
    "\n",
    "$$\n",
    "\\begin{equation}\n",
    "\\begin{split}\n",
    "\\max \\quad - \\left( \\sum_{i=0}^{3} x_{i} -1 \\right)^2 &= - \\left( \\sum_{i=0}^3 \\sum_{j=0}^3 x_i x_j -2 \\sum_{i=0}^3 x_i +1 \\right)\\\\\n",
    "&= - \\left( \\sum_{i \\neq j}^3 x_i x_j +\\sum_{i=j}^3 x_ix_j -2 \\sum_{i=0}^3 x_i +1 \\right)\\\\\n",
    "&=- \\left( \\sum_{i \\neq j}^3 x_i x_j -\\sum_{i=j}^3 x_ix_j  +1 \\right)\\\\\n",
    "&=- \\left( 2\\sum_{i < j}^3 x_i x_j -\\sum_{i=j}^3 x_ix_j  +1 \\right)\n",
    "\\end{split}\n",
    "\\end{equation}\n",
    "$$\n",
    "\n",
    "以上より、QUBO行列の対角成分には+1を、$i<j$成分には-2を加えることでone-hot制約を表すことが出来ます。それでは、実装に移りましょう。"
   ]
  },
  {
   "cell_type": "code",
   "execution_count": null,
   "metadata": {
    "id": "3HVWC5337FOZ"
   },
   "outputs": [],
   "source": [
    "def makeQUBO(\n",
    "    a,\n",
    "    alpha,\n",
    "    num_variables=num_variables,\n",
    "    num_questions=num_questions,\n",
    "    num_options=num_options,\n",
    "):\n",
    "    QUBO = np.zeros((num_variables, num_variables))\n",
    "    QUBO = np.diag(a[1 : num_variables + 1])\n",
    "    n = 0\n",
    "    for k in range(num_variables - 1):\n",
    "        for l in range(k + 1, num_variables):\n",
    "            QUBO[k, l] = a[num_variables + 1 + n]\n",
    "            n += 1\n",
    "    # one-hot制約の部分\n",
    "    index_slices = [(i, i + num_options) for i in range(0, num_variables, num_options)]\n",
    "    for b, e in index_slices:\n",
    "        for m in range(b, e):\n",
    "            for n in range(b, e):\n",
    "                if m < n:\n",
    "                    QUBO[m, n] -= 2 * alpha\n",
    "                if m == n:\n",
    "                    QUBO[m, n] += 1 * alpha\n",
    "    return QUBO"
   ]
  },
  {
   "attachments": {},
   "cell_type": "markdown",
   "metadata": {
    "id": "bVESRKrZuPer"
   },
   "source": [
    "ここで、alphaはone-hot制約項の重みパラメータです。\n",
    "\n",
    "上記の関数を組み合わせて、ブラックボックス最適化を行う関数を作成しましょう。ここで、注意したいのは獲得関数に入力するQUBOにマイナスを付けるのを忘れないことです。なぜなら、真の関数は最大化問題ですが、獲得関数は最小化問題の解候補を出力するからです。この点に気をつけながら、実装を進めましょう。"
   ]
  },
  {
   "cell_type": "code",
   "execution_count": null,
   "metadata": {
    "id": "8-f92rbvPkBO"
   },
   "outputs": [],
   "source": [
    "def post_processing(\n",
    "    lowest_sample, num_variables=num_variables, num_options=num_options\n",
    "):\n",
    "    \"\"\"\n",
    "    エネルギー最小解がone-hot制約を満たさない時、\n",
    "    制約を満たすように後処理する関数\n",
    "    \"\"\"\n",
    "    index_slices = [(i, i + num_options) for i in range(0, num_variables, num_options)]\n",
    "    for b, e in index_slices:\n",
    "        sample = np.zeros(num_options)\n",
    "        if np.sum(lowest_sample[b:e]) >= 1:\n",
    "            sample[list(lowest_sample[b:e]).index(1)] = 1\n",
    "            lowest_sample[b:e] = sample\n",
    "        if np.sum(lowest_sample[b:e]) == 0:\n",
    "            sample[random.choice([i for i in range(num_options)])] = 1\n",
    "            lowest_sample[b:e] = sample\n",
    "    return lowest_sample"
   ]
  },
  {
   "cell_type": "code",
   "execution_count": null,
   "metadata": {
    "id": "MrUqaEGBuPer"
   },
   "outputs": [],
   "source": [
    "from IPython.display import clear_output\n",
    "\n",
    "\n",
    "def train_model(\n",
    "    Tall,\n",
    "    num_reads,\n",
    "    sampler,\n",
    "    lam,\n",
    "    alpha,\n",
    "    x_dataset=x_dataset,\n",
    "    y_dataset=y_dataset,\n",
    "    max_score=100,\n",
    "):\n",
    "    \"\"\"\n",
    "    エネルギー最小解のみをデータセットに加えて学習を行う\n",
    "    \"\"\"\n",
    "    y_max = []\n",
    "    x_ds = x_dataset.copy()\n",
    "    y_ds = y_dataset.copy()\n",
    "    # Xへの変換\n",
    "    X_ds = [make_X(x) for x in x_ds]\n",
    "    for time in tqdm(np.arange(Tall)):\n",
    "        # aの推定\n",
    "        a = predict_a(X_ds, y_ds, lam)\n",
    "\n",
    "        # QUBOの更新\n",
    "        QUBO = -makeQUBO(a, alpha=alpha)  # 最大化問題なのでマイナス付ける\n",
    "\n",
    "        # 獲得関数\n",
    "        sampleset = sampler.sample_qubo(QUBO, num_reads=num_reads)\n",
    "        lowest_sample = np.array([v for v in sampleset.first.sample.values()])\n",
    "        lowest_sample = post_processing(lowest_sample)\n",
    "\n",
    "        # 新しいデータセットの追加\n",
    "        y = scoring(lowest_sample)\n",
    "        y_ds.append(y)\n",
    "        y_max.append(np.max([y, np.max(y_ds)]))\n",
    "        x_ds.append(np.array(lowest_sample))\n",
    "        X_ds.append(make_X(lowest_sample))\n",
    "\n",
    "        # 最大得点のプロット\n",
    "        clear_output(True)\n",
    "        plt.xlabel(\"iterations\")\n",
    "        plt.ylabel(\"max score\")\n",
    "        plt.plot(y_max)\n",
    "        plt.show()\n",
    "\n",
    "        if np.max(y_max) == max_score:\n",
    "            break\n",
    "\n",
    "    return x_ds, y_ds"
   ]
  },
  {
   "cell_type": "code",
   "execution_count": null,
   "metadata": {
    "id": "b3Xs-I3NPkBO"
   },
   "outputs": [],
   "source": [
    "# SAの場合\n",
    "import neal\n",
    "\n",
    "sampler = neal.SimulatedAnnealingSampler()\n",
    "\n",
    "# D-Waveマシンの場合\n",
    "# from dwave.system import DWaveSampler, EmbeddingComposite\n",
    "# sampler_config = {'solver': 'DW_2000Q_6', 'token': 'YOUR_TOKEN'}\n",
    "# sampler = EmbeddingComposite(DWaveSampler(**sampler_config))"
   ]
  },
  {
   "cell_type": "code",
   "execution_count": null,
   "metadata": {
    "id": "mJ-vhruEPkBO",
    "outputId": "d77d09ce-548e-4eec-d09a-0cfd874b79a1"
   },
   "outputs": [
    {
     "data": {
      "image/png": "[encoded data removed]",
      "text/plain": [
       "<Figure size 432x288 with 1 Axes>"
      ]
     },
     "metadata": {
      "needs_background": "light"
     },
     "output_type": "display_data"
    },
    {
     "name": "stderr",
     "output_type": "stream",
     "text": [
      " 38%|███████████████▏                        | 379/1000 [03:10<05:12,  1.99it/s]\n"
     ]
    }
   ],
   "source": [
    "x_ds, y_ds = train_model(Tall=1000, num_reads=10, sampler=sampler, lam=0.01, alpha=30)"
   ]
  },
  {
   "cell_type": "code",
   "execution_count": null,
   "metadata": {
    "id": "VZmpTWbdPkBO",
    "outputId": "86bc4b34-d277-4185-93be-fca9648ec610"
   },
   "outputs": [
    {
     "name": "stdout",
     "output_type": "stream",
     "text": [
      "390\n"
     ]
    }
   ],
   "source": [
    "print(len(y_ds))"
   ]
  },
  {
   "attachments": {},
   "cell_type": "markdown",
   "metadata": {
    "id": "KPF7kXLQPkBO"
   },
   "source": [
    "390回の学習で、満点回答を探し出すことが出来ました!"
   ]
  },
  {
   "attachments": {},
   "cell_type": "markdown",
   "metadata": {
    "id": "BO5-WpsVlQLB"
   },
   "source": [
    "### ランダム探索(世界史編)"
   ]
  },
  {
   "attachments": {},
   "cell_type": "markdown",
   "metadata": {
    "id": "Q4M2SMx1c-Z7"
   },
   "source": [
    "ブラックボックス最適化との比較として、ランダムにデータ$\\vec{x}$を作成させた場合も実行してみましょう。"
   ]
  },
  {
   "cell_type": "code",
   "execution_count": null,
   "metadata": {
    "id": "sK8pYcricbqN"
   },
   "outputs": [],
   "source": [
    "def random_search(\n",
    "    Tall,\n",
    "    x_dataset=x_dataset,\n",
    "    y_dataset=y_dataset,\n",
    "    num_variables=num_variables,\n",
    "    num_questions=num_questions,\n",
    "    num_options=num_options,\n",
    "    max_score=100,\n",
    "):\n",
    "    x_ds = x_dataset.copy()\n",
    "    y_ds = y_dataset.copy()\n",
    "    y_max = []\n",
    "    for time in tqdm(np.arange(Tall)):\n",
    "        random_ans = np.zeros((num_questions, num_options))\n",
    "        for ans in random_ans:\n",
    "            random_number = np.random.choice([i for i in range(num_options)])\n",
    "            ans[random_number] = 1\n",
    "        random_ans = random_ans.flatten()\n",
    "        if np.any(np.all(random_ans == np.array(x_ds), axis=1)):  # 既に調べた入力ならとばす\n",
    "            continue\n",
    "\n",
    "        # データセットの追加\n",
    "        x_ds.append(random_ans)\n",
    "        y = scoring(random_ans)\n",
    "        y_ds.append(y)\n",
    "        y_max.append(np.max([y, np.max(y_ds)]))\n",
    "\n",
    "        clear_output(True)\n",
    "        plt.xlabel(\"number of data\")\n",
    "        plt.ylabel(\"max score\")\n",
    "        plt.plot(y_max)\n",
    "        plt.show()\n",
    "\n",
    "        if np.max(y_max) == max_score:\n",
    "            break\n",
    "\n",
    "    return x_ds, y_ds"
   ]
  },
  {
   "cell_type": "code",
   "execution_count": null,
   "metadata": {
    "id": "VdxXBhWsccNR",
    "outputId": "55e4785b-3f54-417e-e160-a326f205f179"
   },
   "outputs": [
    {
     "data": {
      "image/png": "[encoded data removed]",
      "text/plain": [
       "<Figure size 432x288 with 1 Axes>"
      ]
     },
     "metadata": {
      "needs_background": "light"
     },
     "output_type": "display_data"
    },
    {
     "name": "stderr",
     "output_type": "stream",
     "text": [
      "100%|███████████████████████████████████████| 1000/1000 [01:30<00:00, 11.09it/s]\n"
     ]
    }
   ],
   "source": [
    "random_x, random_y = random_search(Tall=1000)"
   ]
  },
  {
   "attachments": {},
   "cell_type": "markdown",
   "metadata": {
    "id": "E5AvZ1CPuPes"
   },
   "source": [
    "ランダムの場合でも、約500回で70点の解答を探し当てています。やはり、世界史のような4択問題では勘でも高得点が取れてしまいます。それでも、100点を探すには1000回以上の試行が必要であり、BOCSがいかに少ない回数で満点に到達できているかが分かります。"
   ]
  },
  {
   "attachments": {},
   "cell_type": "markdown",
   "metadata": {
    "id": "lb72jboA8w5f"
   },
   "source": [
    "## 実験(数学編)"
   ]
  },
  {
   "attachments": {},
   "cell_type": "markdown",
   "metadata": {
    "id": "32R_eV6I80Q7"
   },
   "source": [
    "単純な4択問題では、1/4の確率で正解することが出来るため、実力以上の点数が取れてしまうこともあるでしょう。しかし、数学の場合そうはいきません。数学の採点は以下のように行われます。"
   ]
  },
  {
   "attachments": {},
   "cell_type": "markdown",
   "metadata": {
    "id": "D9EdOru4PkBP"
   },
   "source": [
    "<img src=\"figures/math_scorering_image.png\" width=\"70%\">"
   ]
  },
  {
   "attachments": {},
   "cell_type": "markdown",
   "metadata": {
    "id": "DSbgJrJ2Cqoh"
   },
   "source": [
    "例のように、2問とも正解の場合に点数が入るため、世界史よりも難しい問題になっています。それでは、世界史編と同様にコードを書いていきましょう。\n",
    "\n",
    "ここで注意点ですが、選択肢を{0, 1, 2, 3, -}の5択に調整しています。というのも、選択肢の数を増やすと変数の数が膨大になり、学習速度がかなり遅くなってしまうからです。今回は小さいサイズに調整して実験を行いましょう。"
   ]
  },
  {
   "cell_type": "code",
   "execution_count": null,
   "metadata": {
    "id": "JdWOqR8xBhtr"
   },
   "outputs": [],
   "source": [
    "# 数学の正解の番号,[-3, 12, -1, 10, 2]\n",
    "correct_math_answer_str = [\"-\", \"3\", \"1\", \"2\", \"-\", \"1\", \"1\", \"0\", \"2\"]\n",
    "set_indices_list = [[0, 1], [2, 3], [4, 5], [6, 7], [8]]"
   ]
  },
  {
   "cell_type": "code",
   "execution_count": null,
   "metadata": {
    "id": "Yua_rydwBlHo",
    "outputId": "4b91c7f1-88c0-48a8-9670-1bdc5806452f"
   },
   "outputs": [
    {
     "name": "stdout",
     "output_type": "stream",
     "text": [
      "問題の数: 9\n",
      "選択肢の数: 5\n",
      "変数の数: 45\n"
     ]
    }
   ],
   "source": [
    "options = [\"0\", \"1\", \"2\", \"3\", \"-\"]\n",
    "num_math_questions = len(correct_math_answer_str)\n",
    "num_math_options = len(options)\n",
    "num_math_variables = num_math_options * num_math_questions\n",
    "print(\"問題の数:\", num_math_questions)\n",
    "print(\"選択肢の数:\", num_math_options)\n",
    "print(\"変数の数:\", num_math_variables)"
   ]
  },
  {
   "cell_type": "code",
   "execution_count": null,
   "metadata": {
    "id": "sDFYVy1UBiTM"
   },
   "outputs": [],
   "source": [
    "def ans_str2onehot_mat(\n",
    "    answer_str,\n",
    "    num_math_questions=num_math_questions,\n",
    "    num_math_variables=num_math_variables,\n",
    "    options=options,\n",
    "):\n",
    "    answer_index_list = [options.index(i) for i in answer_str]\n",
    "    onehot_mat = np.zeros((num_math_questions, num_math_options))\n",
    "    for i, j in enumerate(answer_index_list):\n",
    "        onehot_mat[i, j] = 1\n",
    "    return onehot_mat"
   ]
  },
  {
   "attachments": {},
   "cell_type": "markdown",
   "metadata": {
    "id": "UthiqZoePkBQ"
   },
   "source": [
    "正解のone-hot表現を見てみましょう。"
   ]
  },
  {
   "cell_type": "code",
   "execution_count": null,
   "metadata": {
    "id": "fCVE8zFqPkBQ",
    "outputId": "e58e1f3c-a571-4acd-c845-a8a797a7d504"
   },
   "outputs": [
    {
     "data": {
      "text/plain": [
       "array([[0., 0., 0., 0., 1.],\n",
       "       [0., 0., 0., 1., 0.],\n",
       "       [0., 1., 0., 0., 0.],\n",
       "       [0., 0., 1., 0., 0.],\n",
       "       [0., 0., 0., 0., 1.],\n",
       "       [0., 1., 0., 0., 0.],\n",
       "       [0., 1., 0., 0., 0.],\n",
       "       [1., 0., 0., 0., 0.],\n",
       "       [0., 0., 1., 0., 0.]])"
      ]
     },
     "execution_count": 19,
     "metadata": {},
     "output_type": "execute_result"
    }
   ],
   "source": [
    "ans_str2onehot_mat(correct_math_answer_str)"
   ]
  },
  {
   "attachments": {},
   "cell_type": "markdown",
   "metadata": {
    "id": "lxbVPIlNPkBQ"
   },
   "source": [
    "続いて、初期データセットを作成します。"
   ]
  },
  {
   "cell_type": "code",
   "execution_count": null,
   "metadata": {
    "id": "euJed_54PkBQ"
   },
   "outputs": [],
   "source": [
    "def onehot_mat2ans_str(onehot_mat, options=options):\n",
    "    answer_str = []\n",
    "    for row in onehot_mat:\n",
    "        index = list(row).index(1)\n",
    "        answer_str.append(options[index])\n",
    "    return answer_str"
   ]
  },
  {
   "cell_type": "code",
   "execution_count": null,
   "metadata": {
    "id": "eHcEJ55OBiOm"
   },
   "outputs": [],
   "source": [
    "def scoring_math(\n",
    "    sample_mat,\n",
    "    correct_math_answer_str=correct_math_answer_str,\n",
    "    set_indices_list=set_indices_list,\n",
    "):\n",
    "    \"\"\"\n",
    "    採点を行う関数\n",
    "    入力は、行列形式のx\n",
    "    \"\"\"\n",
    "    question_score = 20\n",
    "    total_score = 0\n",
    "    ans_str = onehot_mat2ans_str(sample_mat)\n",
    "    for set_indices in set_indices_list:\n",
    "        result = True\n",
    "        for index in set_indices:\n",
    "            if correct_math_answer_str[index] != ans_str[index]:\n",
    "                result = False\n",
    "        if result == True:\n",
    "            total_score += question_score\n",
    "    return total_score"
   ]
  },
  {
   "cell_type": "code",
   "execution_count": null,
   "metadata": {
    "id": "VksNui4SSAyv"
   },
   "outputs": [],
   "source": [
    "def make_math_dataset(\n",
    "    num_data, num_math_questions=num_math_questions, num_math_options=num_math_options\n",
    "):\n",
    "    x_dataset, y_dataset = [], []\n",
    "    for _ in range(num_data):\n",
    "        x = np.zeros((num_math_questions, num_math_options))\n",
    "        for row in x:\n",
    "            random_index = np.random.choice([i for i in range(num_math_options)])\n",
    "            row[random_index] = 1\n",
    "        y = scoring_math(x)\n",
    "        x = x.flatten()\n",
    "        x_dataset.append(x)\n",
    "        y_dataset.append(y)\n",
    "    return x_dataset, y_dataset"
   ]
  },
  {
   "cell_type": "code",
   "execution_count": null,
   "metadata": {
    "id": "jLcIYsaCSAwJ"
   },
   "outputs": [],
   "source": [
    "x_math_dataset, y_math_dataset = make_math_dataset(num_data=10)"
   ]
  },
  {
   "attachments": {},
   "cell_type": "markdown",
   "metadata": {
    "id": "yMiwGb2BPkBQ"
   },
   "source": [
    "表示させてみましょう。"
   ]
  },
  {
   "cell_type": "code",
   "execution_count": null,
   "metadata": {
    "id": "WQyKmc8VPkBQ",
    "outputId": "46af0ca4-bfab-45ad-bff3-188ec911a2ca"
   },
   "outputs": [
    {
     "name": "stdout",
     "output_type": "stream",
     "text": [
      "[0. 0. 0. 1. 0. 0. 1. 0. 0. 0. 0. 0. 0. 1. 0. 1. 0. 0. 0. 0. 1. 0. 0. 0.\n",
      " 0. 0. 1. 0. 0. 0. 0. 0. 0. 1. 0. 1. 0. 0. 0. 0. 0. 1. 0. 0. 0.]\n",
      "点数: 0\n"
     ]
    }
   ],
   "source": [
    "print(x_math_dataset[0])\n",
    "print(\"点数:\", y_math_dataset[0])"
   ]
  },
  {
   "cell_type": "code",
   "execution_count": null,
   "metadata": {
    "id": "dQlZoIhoPkBQ"
   },
   "outputs": [],
   "source": [
    "def train_math_model(\n",
    "    Tall,\n",
    "    num_reads,\n",
    "    sampler,\n",
    "    lam,\n",
    "    alpha,\n",
    "    x_dataset=x_math_dataset,\n",
    "    y_dataset=y_math_dataset,\n",
    "    max_score=100,\n",
    "    num_math_variables=num_math_variables,\n",
    "    num_math_questions=num_math_questions,\n",
    "    num_math_options=num_math_options,\n",
    "):\n",
    "    \"\"\"\n",
    "    エネルギー最小解のみをデータセットに加えて学習を行う\n",
    "    \"\"\"\n",
    "    y_max = []\n",
    "    x_ds = x_dataset.copy()\n",
    "    y_ds = y_dataset.copy()\n",
    "    # Xへの変換\n",
    "    X_ds = [make_X(x, num_variables=num_math_variables) for x in x_ds]\n",
    "    for time in tqdm(np.arange(Tall)):\n",
    "        # aの推定\n",
    "        a = predict_a(X_ds, y_ds, lam, num_variables=num_math_variables)\n",
    "        # QUBOの更新\n",
    "        QUBO = -makeQUBO(\n",
    "            a=a,\n",
    "            alpha=alpha,\n",
    "            num_variables=num_math_variables,\n",
    "            num_questions=num_math_questions,\n",
    "            num_options=num_math_options,\n",
    "        )  # 最大化問題なのでマイナス付ける\n",
    "        # 獲得関数\n",
    "        sampleset = sampler.sample_qubo(QUBO, num_reads=num_reads)\n",
    "        lowest_sample = np.array([v for v in sampleset.first.sample.values()])\n",
    "        lowest_sample = post_processing(\n",
    "            lowest_sample,\n",
    "            num_variables=num_math_variables,\n",
    "            num_options=num_math_options,\n",
    "        )\n",
    "\n",
    "        # 新しいデータセットの追加\n",
    "        y = scoring_math(lowest_sample.reshape((num_math_questions, num_math_options)))\n",
    "        y_ds.append(y)\n",
    "        y_max.append(np.max([y, np.max(y_ds)]))\n",
    "        x_ds.append(np.array(lowest_sample))\n",
    "        X_ds.append(make_X(lowest_sample, num_variables=num_math_variables))\n",
    "\n",
    "        # プロット\n",
    "        clear_output(True)\n",
    "        plt.xlabel(\"iterations\")\n",
    "        plt.ylabel(\"max score\")\n",
    "        plt.plot(y_max)\n",
    "        plt.show()\n",
    "\n",
    "        if np.max(y_max) == max_score:\n",
    "            break\n",
    "\n",
    "    return x_ds, y_ds"
   ]
  },
  {
   "cell_type": "code",
   "execution_count": null,
   "metadata": {
    "id": "_roKtd-xPkBR",
    "outputId": "4d3688b4-aed2-4615-fe4e-49a97625e73f"
   },
   "outputs": [
    {
     "data": {
      "image/png": "[encoded data removed]",
      "text/plain": [
       "<Figure size 432x288 with 1 Axes>"
      ]
     },
     "metadata": {
      "needs_background": "light"
     },
     "output_type": "display_data"
    },
    {
     "name": "stderr",
     "output_type": "stream",
     "text": [
      " 34%|█████████████▋                          | 686/2000 [08:36<16:29,  1.33it/s]\n"
     ]
    }
   ],
   "source": [
    "x_ds, y_ds = train_math_model(\n",
    "    Tall=2000, num_reads=10, sampler=sampler, lam=0.01, alpha=10\n",
    ")"
   ]
  },
  {
   "attachments": {},
   "cell_type": "markdown",
   "metadata": {
    "id": "0jt_v6ncPkBR"
   },
   "source": [
    "約700回で満点を取ることが出来ました。変数の数が世界史の時よりも若干増えていますが、それを加味しても満点を取るのに必要な学習回数がかなり増えていることが分かります。それでは、ランダムの場合と比較してみましょう。"
   ]
  },
  {
   "attachments": {},
   "cell_type": "markdown",
   "metadata": {
    "id": "BrSkqYdgPkBR"
   },
   "source": [
    "### ランダム探索(数学編)"
   ]
  },
  {
   "cell_type": "code",
   "execution_count": null,
   "metadata": {
    "id": "w5ygM-npPkBR"
   },
   "outputs": [],
   "source": [
    "def random_math_search(\n",
    "    Tall,\n",
    "    x_dataset=x_math_dataset,\n",
    "    y_dataset=y_math_dataset,\n",
    "    num_variables=num_math_variables,\n",
    "    num_questions=num_math_questions,\n",
    "    num_options=num_math_options,\n",
    "    max_score=100,\n",
    "):\n",
    "    x_ds = x_dataset.copy()\n",
    "    y_ds = y_dataset.copy()\n",
    "    y_max = []\n",
    "    for time in tqdm(np.arange(Tall)):\n",
    "        random_ans = np.zeros((num_questions, num_options))\n",
    "        for ans in random_ans:\n",
    "            random_number = np.random.choice([i for i in range(num_options)])\n",
    "            ans[random_number] = 1\n",
    "        random_ans = random_ans.flatten()\n",
    "        if np.any(np.all(random_ans == np.array(x_ds), axis=1)):  # 既に調べた入力ならとばす\n",
    "            continue\n",
    "\n",
    "        # データセットの追加\n",
    "        x_ds.append(random_ans)\n",
    "        y = scoring_math(random_ans.reshape((num_math_questions, num_math_options)))\n",
    "        y_ds.append(y)\n",
    "        y_max.append(np.max([y, np.max(y_ds)]))\n",
    "\n",
    "        # プロット\n",
    "        clear_output(True)\n",
    "        plt.xlabel(\"number of data\")\n",
    "        plt.ylabel(\"max score\")\n",
    "        plt.plot(y_max)\n",
    "        plt.show()\n",
    "\n",
    "        if np.max(y_max) == max_score:\n",
    "            break\n",
    "\n",
    "    return x_ds, y_ds"
   ]
  },
  {
   "cell_type": "code",
   "execution_count": null,
   "metadata": {
    "id": "FSasjoOxPkBR",
    "outputId": "a67c42ce-2c76-4875-848e-8520331222eb"
   },
   "outputs": [
    {
     "data": {
      "image/png": "[encoded data removed]",
      "text/plain": [
       "<Figure size 432x288 with 1 Axes>"
      ]
     },
     "metadata": {
      "needs_background": "light"
     },
     "output_type": "display_data"
    },
    {
     "name": "stderr",
     "output_type": "stream",
     "text": [
      "100%|███████████████████████████████████████| 1000/1000 [01:35<00:00, 10.51it/s]\n"
     ]
    }
   ],
   "source": [
    "random_math_x, random_math_y = random_math_search(Tall=1000)"
   ]
  },
  {
   "attachments": {},
   "cell_type": "markdown",
   "metadata": {
    "id": "AsuwRpoePkBR"
   },
   "source": [
    "世界史では、ランダムでも70点に到達できていましたが、数学は2問しか正解できていません。これより、数学の代理関数の方がより難しい問題になっていると考えられます。"
   ]
  },
  {
   "attachments": {},
   "cell_type": "markdown",
   "metadata": {
    "id": "f7I_HxHKAjXU"
   },
   "source": [
    "## あとがき"
   ]
  },
  {
   "attachments": {},
   "cell_type": "markdown",
   "metadata": {
    "id": "yBuvDHC4uPes"
   },
   "source": [
    "本記事では、ブラックボックス最適化にD-Waveマシンを使用し、実際の共通テストを解きました。本記事では、one-hot制約以外の部分を学習し、one-hot部分はQUBOに直接書くという手法を取りましたが、one-hot部分も同時に学習させるというパターンも実験しました。その場合、世界史の場合は約1200回の学習が必要になりました。学習に必要なデータは増えるものの、教えていない部分まで学習してくれるBOCSはかなり優秀だと感じました。"
   ]
  },
  {
   "attachments": {},
   "cell_type": "markdown",
   "metadata": {
    "id": "FTJKMaee5_4B"
   },
   "source": [
    "### 本記事の担当者"
   ]
  },
  {
   "attachments": {},
   "cell_type": "markdown",
   "metadata": {
    "id": "DPP_RvQl6Bsl"
   },
   "source": [
    "鹿内怜央"
   ]
  }
 ],
 "metadata": {
  "colab": {
   "provenance": []
  },
  "gpuClass": "standard",
  "kernelspec": {
   "display_name": "Python 3 (ipykernel)",
   "language": "python",
   "name": "python3"
  },
  "language_info": {
   "codemirror_mode": {
    "name": "ipython",
    "version": 3
   },
   "file_extension": ".py",
   "mimetype": "text/x-python",
   "name": "python",
   "nbconvert_exporter": "python",
   "pygments_lexer": "ipython3",
   "version": "3.9.7"
  },
  "notify_time": "0",
  "varInspector": {
   "cols": {
    "lenName": 16,
    "lenType": 16,
    "lenVar": 40
   },
   "kernels_config": {
    "python": {
     "delete_cmd_postfix": "",
     "delete_cmd_prefix": "del ",
     "library": "var_list.py",
     "varRefreshCmd": "print(var_dic_list())"
    },
    "r": {
     "delete_cmd_postfix": ") ",
     "delete_cmd_prefix": "rm(",
     "library": "var_list.r",
     "varRefreshCmd": "cat(var_dic_list()) "
    }
   },
   "oldHeight": 275.86636400000003,
   "position": {
    "height": "297.841px",
    "left": "824.375px",
    "right": "20px",
    "top": "104.895px",
    "width": "342.983px"
   },
   "types_to_exclude": [
    "module",
    "function",
    "builtin_function_or_method",
    "instance",
    "_Feature"
   ],
   "varInspector_section_display": "block",
   "window_display": false
  }
 },
 "nbformat": 4,
 "nbformat_minor": 0
}
