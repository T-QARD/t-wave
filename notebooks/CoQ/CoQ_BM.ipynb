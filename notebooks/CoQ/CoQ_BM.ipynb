{
 "cells": [
  {
   "cell_type": "markdown",
   "metadata": {
    "id": "0viT5sIeOJ4z"
   },
   "source": [
    "# 給食の献立提案(前半) - 量子アニーリングソリューションコンテスト\n",
    "\n",
    "## 概要\n",
    "2021/12/19に行われた[量子アニーリングソリューションコンテスト](http://www.tfc.tohoku.ac.jp/special/qca/20211218.html)に、T-QARD-949として参加しました。  \n",
    "残念ながら入賞は出来ませんでしたが、多くの方に動画を見て頂けて嬉しかったです。その動画はこちらからご覧出来ます。\n",
    "\n",
    "<iframe width=\"560\" height=\"315\" src=\"https://www.youtube.com/embed/BqTC-FUMWc8\" title=\"YouTube video player\" frameborder=\"0\" allow=\"accelerometer; autoplay; clipboard-write; encrypted-media; gyroscope; picture-in-picture\" allowfullscreen></iframe>\n",
    "\n",
    "本記事では、動画では説明しきれなかった実装部分に重点を当てて解説していきます。"
   ]
  },
  {
   "cell_type": "markdown",
   "metadata": {
    "id": "RrlvhjUqQrpm"
   },
   "source": [
    "## 問題\n",
    "\n",
    "給食は栄養バランスの他にも、多くの制約を考慮して作られています。\n",
    "\n",
    "![問題](figures/fig1.png)\n",
    "\n",
    "これらの制約をすべて満たす献立を毎月作成するのはかなり大変です。実際、給食の献立作成時間について次のようなデータがあります。\n",
    "\n",
    "|    |  人数  |　平均±標準偏差(時間/週)　|\n",
    "| ---- | :---: | :---: |\n",
    "| 管理栄養士  | 20  |　8.0±6.5 |\n",
    "|  栄養士 | 26 |　7.7±6.6 |\n",
    "\n",
    "[参考資料]\n",
    "[給食施設における献立作成業務実態調査　-作業の所要時間と標準化に向けて- / 大中佳子　他](https://core.ac.uk/download/pdf/230128196.pdf)\n",
    "\n",
    "このように、献立作成には週8時間ほどの作業時間が必要です。我々が提案するアプリケーションでは、この時間を大幅に改善できると考えます。"
   ]
  },
  {
   "cell_type": "markdown",
   "metadata": {
    "id": "1EF4TpT_UqXa"
   },
   "source": [
    "## ソリューション\n",
    "\n",
    "我々は、アプリ名をCoQ(Combination of C(Q)ooking)さんと名付けました。ここでは、CoQさんの全体像を示します。\n",
    "\n",
    "![全体像](figures/fig2.png)"
   ]
  },
  {
   "cell_type": "markdown",
   "metadata": {
    "id": "vhvmhcMlavv7"
   },
   "source": [
    "### 献立データの学習\n",
    "\n",
    "ボルツマン機械学習を用いて、給食の献立を学習する方法について説明します。\n",
    "\n",
    "![ボルツマン機械学習](figures/fig3.png)\n",
    "\n",
    "QUBO行列をD-Waveマシンに入力すると、ギブス・ボルツマン分布に近い解候補が出力されます。その出力結果を用いて、献立データの経験分布にギブス・ボルツマン分布が近づくようにQUBO行列(ボルツマンマシンのパラメータ)を更新し、この操作を繰り返します。\n",
    "\n",
    "最後に学習済みのQUBO行列を用いて、食材の組み合わせをサンプリングします。\n",
    "\n",
    "本記事は[こちら](https://colab.research.google.com/gist/mohzeki222/9693bf93bf10c9966a123d89554baa1a/chapter4.ipynb)のコードを参考にしています。学習方法についてよりくわしく知りたい方はご覧ください。\n",
    "\n",
    "### 献立の提案\n",
    "\n",
    "自己組織化マップについては、次の記事で詳しく解説するため省略します。本記事では、ボルツマン機械学習の部分を解説します。"
   ]
  },
  {
   "cell_type": "markdown",
   "metadata": {
    "id": "KR2GBqrDbUVQ"
   },
   "source": [
    "## 実験\n",
    "\n",
    "まず、必要なライブラリをインストールします。"
   ]
  },
  {
   "cell_type": "code",
   "execution_count": null,
   "metadata": {
    "id": "ztunqxMIVoRj"
   },
   "outputs": [],
   "source": [
    "!pip install numpy\n",
    "!pip install matplotlib\n",
    "!pip install pandas\n",
    "!pip install tqdm\n",
    "!pip install dwave-ocean-sdk"
   ]
  },
  {
   "cell_type": "code",
   "execution_count": 1,
   "metadata": {
    "id": "7YDY3B428JYq"
   },
   "outputs": [],
   "source": [
    "import numpy as np\n",
    "import matplotlib.pyplot as plt\n",
    "import pandas as pd\n",
    "from tqdm import tqdm"
   ]
  },
  {
   "cell_type": "markdown",
   "metadata": {
    "id": "oByp638ybmDh"
   },
   "source": [
    "### データセットの準備\n",
    "\n",
    "我々は、仙台市が公開している給食の献立を対象に実験を行いました。献立は[こちら](http://www.city.sendai.jp/kyushokune/kurashi/manabu/kyoiku/inkai/kanren/kyushoku/kyushoku/kongetsu.html)で確認できます。\n",
    "\n",
    "* 「使う食材とその調理方法」 → 1\n",
    "* 「使わない食材」 → 0\n",
    "\n",
    "として、献立データのCSVファイルを作成しました。"
   ]
  },
  {
   "cell_type": "code",
   "execution_count": null,
   "metadata": {
    "colab": {
     "base_uri": "https://localhost:8080/",
     "height": 116,
     "resources": {
      "http://localhost:8080/nbextensions/google.colab/files.js": {
       "data": "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",
       "headers": [
        [
         "content-type",
         "application/javascript"
        ]
       ],
       "ok": true,
       "status": 200,
       "status_text": ""
      }
     }
    },
    "executionInfo": {
     "elapsed": 16237,
     "status": "ok",
     "timestamp": 1640273809699,
     "user": {
      "displayName": "鹿内怜央",
      "photoUrl": "https://lh3.googleusercontent.com/a-/AOh14GiuZtFCt1LcSLiIa2VtmqFAlAia2ybNYDG9LMB3=s64",
      "userId": "01981270289238657177"
     },
     "user_tz": -540
    },
    "id": "_nIqA2n0O3WX",
    "outputId": "ba5d1ee5-cc4f-4205-d7fb-5efaae5902ef"
   },
   "outputs": [],
   "source": [
    "!wget \"https://raw.githubusercontent.com/T-QARD/t-wave/main/notebooks/CoQ/school_lunch_sendai.csv\""
   ]
  },
  {
   "cell_type": "code",
   "execution_count": 7,
   "metadata": {
    "id": "gqfUGGH6dLnJ"
   },
   "outputs": [
    {
     "data": {
      "text/html": [
       "<div>\n",
       "<style scoped>\n",
       "    .dataframe tbody tr th:only-of-type {\n",
       "        vertical-align: middle;\n",
       "    }\n",
       "\n",
       "    .dataframe tbody tr th {\n",
       "        vertical-align: top;\n",
       "    }\n",
       "\n",
       "    .dataframe thead th {\n",
       "        text-align: right;\n",
       "    }\n",
       "</style>\n",
       "<table border=\"1\" class=\"dataframe\">\n",
       "  <thead>\n",
       "    <tr style=\"text-align: right;\">\n",
       "      <th></th>\n",
       "      <th>焼く</th>\n",
       "      <th>炒める</th>\n",
       "      <th>揚げる</th>\n",
       "      <th>煮る</th>\n",
       "      <th>生</th>\n",
       "      <th>焼く.1</th>\n",
       "      <th>炒める.1</th>\n",
       "      <th>揚げる.1</th>\n",
       "      <th>和える</th>\n",
       "      <th>煮る.1</th>\n",
       "      <th>...</th>\n",
       "      <th>きゅうり</th>\n",
       "      <th>キャベツ</th>\n",
       "      <th>とうもろこし</th>\n",
       "      <th>たまねぎ</th>\n",
       "      <th>えだまめ</th>\n",
       "      <th>きくらげ</th>\n",
       "      <th>グリンピース</th>\n",
       "      <th>じゃがいも</th>\n",
       "      <th>さつまいも</th>\n",
       "      <th>はるさめ</th>\n",
       "    </tr>\n",
       "  </thead>\n",
       "  <tbody>\n",
       "    <tr>\n",
       "      <th>0</th>\n",
       "      <td>1</td>\n",
       "      <td>0</td>\n",
       "      <td>0</td>\n",
       "      <td>0</td>\n",
       "      <td>0</td>\n",
       "      <td>0</td>\n",
       "      <td>0</td>\n",
       "      <td>0</td>\n",
       "      <td>1</td>\n",
       "      <td>0</td>\n",
       "      <td>...</td>\n",
       "      <td>0</td>\n",
       "      <td>0</td>\n",
       "      <td>0</td>\n",
       "      <td>0</td>\n",
       "      <td>0</td>\n",
       "      <td>0</td>\n",
       "      <td>0</td>\n",
       "      <td>0</td>\n",
       "      <td>0</td>\n",
       "      <td>0</td>\n",
       "    </tr>\n",
       "    <tr>\n",
       "      <th>1</th>\n",
       "      <td>0</td>\n",
       "      <td>0</td>\n",
       "      <td>0</td>\n",
       "      <td>1</td>\n",
       "      <td>0</td>\n",
       "      <td>0</td>\n",
       "      <td>0</td>\n",
       "      <td>1</td>\n",
       "      <td>0</td>\n",
       "      <td>0</td>\n",
       "      <td>...</td>\n",
       "      <td>0</td>\n",
       "      <td>0</td>\n",
       "      <td>0</td>\n",
       "      <td>0</td>\n",
       "      <td>0</td>\n",
       "      <td>0</td>\n",
       "      <td>0</td>\n",
       "      <td>0</td>\n",
       "      <td>0</td>\n",
       "      <td>0</td>\n",
       "    </tr>\n",
       "    <tr>\n",
       "      <th>2</th>\n",
       "      <td>1</td>\n",
       "      <td>0</td>\n",
       "      <td>0</td>\n",
       "      <td>0</td>\n",
       "      <td>1</td>\n",
       "      <td>0</td>\n",
       "      <td>0</td>\n",
       "      <td>0</td>\n",
       "      <td>0</td>\n",
       "      <td>0</td>\n",
       "      <td>...</td>\n",
       "      <td>1</td>\n",
       "      <td>1</td>\n",
       "      <td>1</td>\n",
       "      <td>1</td>\n",
       "      <td>0</td>\n",
       "      <td>0</td>\n",
       "      <td>0</td>\n",
       "      <td>0</td>\n",
       "      <td>0</td>\n",
       "      <td>0</td>\n",
       "    </tr>\n",
       "    <tr>\n",
       "      <th>3</th>\n",
       "      <td>0</td>\n",
       "      <td>0</td>\n",
       "      <td>0</td>\n",
       "      <td>1</td>\n",
       "      <td>0</td>\n",
       "      <td>0</td>\n",
       "      <td>0</td>\n",
       "      <td>0</td>\n",
       "      <td>0</td>\n",
       "      <td>0</td>\n",
       "      <td>...</td>\n",
       "      <td>0</td>\n",
       "      <td>0</td>\n",
       "      <td>0</td>\n",
       "      <td>1</td>\n",
       "      <td>0</td>\n",
       "      <td>0</td>\n",
       "      <td>0</td>\n",
       "      <td>1</td>\n",
       "      <td>0</td>\n",
       "      <td>0</td>\n",
       "    </tr>\n",
       "    <tr>\n",
       "      <th>4</th>\n",
       "      <td>1</td>\n",
       "      <td>0</td>\n",
       "      <td>0</td>\n",
       "      <td>0</td>\n",
       "      <td>1</td>\n",
       "      <td>0</td>\n",
       "      <td>0</td>\n",
       "      <td>0</td>\n",
       "      <td>0</td>\n",
       "      <td>0</td>\n",
       "      <td>...</td>\n",
       "      <td>0</td>\n",
       "      <td>1</td>\n",
       "      <td>1</td>\n",
       "      <td>1</td>\n",
       "      <td>0</td>\n",
       "      <td>0</td>\n",
       "      <td>0</td>\n",
       "      <td>0</td>\n",
       "      <td>0</td>\n",
       "      <td>0</td>\n",
       "    </tr>\n",
       "  </tbody>\n",
       "</table>\n",
       "<p>5 rows × 79 columns</p>\n",
       "</div>"
      ],
      "text/plain": [
       "   焼く  炒める  揚げる  煮る  生  焼く.1  炒める.1  揚げる.1  和える  煮る.1  ...  きゅうり  キャベツ  \\\n",
       "0   1    0    0   0  0     0      0      0    1     0  ...     0     0   \n",
       "1   0    0    0   1  0     0      0      1    0     0  ...     0     0   \n",
       "2   1    0    0   0  1     0      0      0    0     0  ...     1     1   \n",
       "3   0    0    0   1  0     0      0      0    0     0  ...     0     0   \n",
       "4   1    0    0   0  1     0      0      0    0     0  ...     0     1   \n",
       "\n",
       "   とうもろこし  たまねぎ  えだまめ  きくらげ  グリンピース  じゃがいも  さつまいも  はるさめ  \n",
       "0       0     0     0     0       0      0      0     0  \n",
       "1       0     0     0     0       0      0      0     0  \n",
       "2       1     1     0     0       0      0      0     0  \n",
       "3       0     1     0     0       0      1      0     0  \n",
       "4       1     1     0     0       0      0      0     0  \n",
       "\n",
       "[5 rows x 79 columns]"
      ]
     },
     "execution_count": 7,
     "metadata": {},
     "output_type": "execute_result"
    }
   ],
   "source": [
    "df_data = pd.read_csv(\"school_lunch_sendai.csv\")\n",
    "df_data = df_data.iloc[:, 1:]\n",
    "D = df_data.values.astype(np.int8)\n",
    "df_data.head()"
   ]
  },
  {
   "cell_type": "code",
   "execution_count": 4,
   "metadata": {
    "colab": {
     "base_uri": "https://localhost:8080/"
    },
    "executionInfo": {
     "elapsed": 3,
     "status": "ok",
     "timestamp": 1640273837676,
     "user": {
      "displayName": "鹿内怜央",
      "photoUrl": "https://lh3.googleusercontent.com/a-/AOh14GiuZtFCt1LcSLiIa2VtmqFAlAia2ybNYDG9LMB3=s64",
      "userId": "01981270289238657177"
     },
     "user_tz": -540
    },
    "id": "xHG7CgdDPIHx",
    "outputId": "c0d25c6f-0dde-4578-8e65-d9396e467b94"
   },
   "outputs": [
    {
     "name": "stdout",
     "output_type": "stream",
     "text": [
      "データの数 N: 24, 食材の数 M: 79\n"
     ]
    }
   ],
   "source": [
    "N, M = D.shape\n",
    "print(f'データの数 N: {N}, 食材の数 M: {M}')"
   ]
  },
  {
   "cell_type": "markdown",
   "metadata": {
    "id": "tgBX1T3VM5dq"
   },
   "source": [
    "### 定式化\n",
    "\n",
    "罰金項は次の４つです。\n",
    "\n",
    "\n",
    "1.   主菜の調理方法(焼く、炒める、揚げる、煮る)・・・１つ選択\n",
    "2.   副菜の調理方法(生、焼く、炒める、揚げる、和える、煮る、なし)・・・１つ選択\n",
    "3.   汁物orデザート・・・１つ選択\n",
    "4.   主食（ごはん、麦ごはん、パン）・・・１つ選択\n",
    "\n",
    "\n",
    "従って、コスト関数は次のようになります。\n",
    "\n",
    "$$\n",
    "\\begin{aligned}\n",
    "E(\\mathbf{x}) &= \\sum_{m}\\sum_{n} Q_{mn} x_{m} x_{n} \\\\\n",
    "&+ \\lambda \\left( x_0+x_1+x_2+x_3 -1 \\right)^2 \\\\\n",
    "&+ \\lambda \\left( x_4+x_5+x_6+x_6+x_7+x_8+x_9 - 1\\right)^2 \\\\\n",
    "&+ \\lambda \\left( x_{10}+x_{11} - 1\\right)^2 \\\\\n",
    "&+ \\lambda\\left( x_{12}+x_{13}+x_{14} -1 \\right)^2 \\\\\n",
    "\\end{aligned}\n",
    "$$\n",
    "\n",
    "まず、罰金項の部分を作ります。"
   ]
  },
  {
   "cell_type": "code",
   "execution_count": 5,
   "metadata": {
    "id": "_Bptat07X7Lm"
   },
   "outputs": [],
   "source": [
    "def calc_penalty_term(M, lam):\n",
    "    \"\"\"\n",
    "    M: 食材の数\n",
    "    lam: 罰金項の重み\n",
    "    \"\"\"\n",
    "    index_slices = [\n",
    "        (0, 4),  # 主菜の調理方法\n",
    "        (4, 11),  # 副菜の調理方法\n",
    "        (11, 13),  # 汁物orデザート\n",
    "        (13, 16)  # 主食(ごはん、麦ご飯、パン)\n",
    "    ]\n",
    "\n",
    "    Qc = np.zeros((M, M))\n",
    "    for b, e in index_slices:\n",
    "        for m in range(b, e):\n",
    "            for n in range(b, e):\n",
    "                Qc[m, n] += lam\n",
    "                if m == n:\n",
    "                    Qc[m, n] += -2*lam\n",
    "    return Qc"
   ]
  },
  {
   "cell_type": "markdown",
   "metadata": {
    "id": "Wpa-vE3gVZ1S"
   },
   "source": [
    "この関数を実行して、現在のQUBO行列を見てみましょう。"
   ]
  },
  {
   "cell_type": "code",
   "execution_count": 6,
   "metadata": {
    "colab": {
     "base_uri": "https://localhost:8080/",
     "height": 268
    },
    "executionInfo": {
     "elapsed": 417,
     "status": "ok",
     "timestamp": 1640273845258,
     "user": {
      "displayName": "鹿内怜央",
      "photoUrl": "https://lh3.googleusercontent.com/a-/AOh14GiuZtFCt1LcSLiIa2VtmqFAlAia2ybNYDG9LMB3=s64",
      "userId": "01981270289238657177"
     },
     "user_tz": -540
    },
    "id": "tPGES41mY23M",
    "outputId": "340a39a8-749f-4f65-d7d5-b76d9bb7825f"
   },
   "outputs": [
    {
     "data": {
      "image/png": "[encoded data removed]",
      "text/plain": [
       "<Figure size 432x288 with 2 Axes>"
      ]
     },
     "metadata": {
      "needs_background": "light"
     },
     "output_type": "display_data"
    }
   ],
   "source": [
    "Qc = calc_penalty_term(M, lam=1.0)\n",
    "\n",
    "plt.imshow(Qc)\n",
    "plt.colorbar()\n",
    "plt.show()"
   ]
  },
  {
   "cell_type": "markdown",
   "metadata": {
    "id": "EGrSKFtwVkCK"
   },
   "source": [
    "罰金項だけが表れているQUBO行列が確認できました。"
   ]
  },
  {
   "cell_type": "markdown",
   "metadata": {
    "id": "EGrSKFtwVkCK"
   },
   "source": [
    "### 献立データの学習\n",
    "\n",
    "QUBO行列の更新は次式で行います。"
   ]
  },
  {
   "cell_type": "markdown",
   "metadata": {
    "id": "JAUhDJc4qGw_"
   },
   "source": [
    "$$\n",
    "Q_{mn} = Q_{mn} - \\eta\\left( \\frac{1}{N}\\sum_{i=1}^N D_{im}D_{in} - \\frac{1}{N^{\\prime}} \\sum_{i=1}^{N^{\\prime}} x_{im}x_{in}\\right)\n",
    "$$\n",
    "\n",
    "*   $D$：献立データ\n",
    "*   $\\mathbf{x}$：サンプル\n",
    "*   $\\frac{1}{N} \\sum_{i=1}^{N} Z_{i m} Z_{i n}$：データに関する経験平均\n",
    "*   $\\frac{1}{N^{\\prime}} \\sum_{i=1}^{N^{\\prime}} x_{i m} x_{i n}$：サンプルに関する経験平均\n",
    "*   $\\eta$：学習率"
   ]
  },
  {
   "cell_type": "code",
   "execution_count": 7,
   "metadata": {
    "id": "QW6QLzRMasQn"
   },
   "outputs": [],
   "source": [
    "def train_model(Qc, D, eta, Tall, sampler, **sample_params):\n",
    "    \"\"\"\n",
    "    Qc: QUBO行列(モデルの初期パラメータ)\n",
    "    D: 献立データ\n",
    "    eta: 学習率\n",
    "    Tall: 学習回数\n",
    "    sampler: サンプラー\n",
    "    \"\"\"\n",
    "\n",
    "    # データに関する経験平均\n",
    "    Dmat = np.dot(D.T, D)/len(D)\n",
    "\n",
    "    Q = np.zeros(Qc.shape)\n",
    "    for t in tqdm(np.arange(Tall)):\n",
    "        Qmat = Q + Qc\n",
    "        sampleset = sampler.sample_qubo(Qmat, **sample_params)\n",
    "        x = sampleset.record.sample\n",
    "\n",
    "        # サンプルに関する経験平均\n",
    "        Xmat = np.dot(x.T, x)/len(x)\n",
    "\n",
    "        # QUBO行列の更新\n",
    "        Q -= eta*(Dmat-Xmat)\n",
    "\n",
    "    return Qmat"
   ]
  },
  {
   "cell_type": "markdown",
   "metadata": {
    "id": "EHCUQ5kAWXMz"
   },
   "source": [
    "これで、学習の準備が終わりました。献立の学習を行っていきましょう。"
   ]
  },
  {
   "cell_type": "code",
   "execution_count": 8,
   "metadata": {
    "colab": {
     "base_uri": "https://localhost:8080/",
     "height": 268
    },
    "executionInfo": {
     "elapsed": 27408,
     "status": "ok",
     "timestamp": 1640274339978,
     "user": {
      "displayName": "鹿内怜央",
      "photoUrl": "https://lh3.googleusercontent.com/a-/AOh14GiuZtFCt1LcSLiIa2VtmqFAlAia2ybNYDG9LMB3=s64",
      "userId": "01981270289238657177"
     },
     "user_tz": -540
    },
    "id": "AF1gnyB2xE26",
    "outputId": "1e593eaa-de72-4101-ce2b-11812f6d5cc6"
   },
   "outputs": [],
   "source": [
    "# SAの場合\n",
    "from neal import SimulatedAnnealingSampler\n",
    "sampler = SimulatedAnnealingSampler()\n",
    "\n",
    "# D-Waveマシンの場合\n",
    "# from dwave.system import DWaveCliqueSampler\n",
    "# sampler = DWaveCliqueSampler(solver='', token='')"
   ]
  },
  {
   "cell_type": "code",
   "execution_count": 9,
   "metadata": {
    "colab": {
     "base_uri": "https://localhost:8080/",
     "height": 268
    },
    "executionInfo": {
     "elapsed": 27408,
     "status": "ok",
     "timestamp": 1640274339978,
     "user": {
      "displayName": "鹿内怜央",
      "photoUrl": "https://lh3.googleusercontent.com/a-/AOh14GiuZtFCt1LcSLiIa2VtmqFAlAia2ybNYDG9LMB3=s64",
      "userId": "01981270289238657177"
     },
     "user_tz": -540
    },
    "id": "AF1gnyB2xE26",
    "outputId": "1e593eaa-de72-4101-ce2b-11812f6d5cc6"
   },
   "outputs": [
    {
     "name": "stderr",
     "output_type": "stream",
     "text": [
      "100%|██████████████████████████████████████████████████████| 50/50 [00:05<00:00,  9.39it/s]\n"
     ]
    },
    {
     "data": {
      "image/png": "[encoded data removed]",
      "text/plain": [
       "<Figure size 432x288 with 2 Axes>"
      ]
     },
     "metadata": {
      "needs_background": "light"
     },
     "output_type": "display_data"
    }
   ],
   "source": [
    "# MCMCの逆温度beta_rangeを設定\n",
    "Qmat = train_model(Qc, D, eta=0.1, Tall=50, sampler=sampler, num_reads=100, beta_range=(32, 32))\n",
    "\n",
    "plt.imshow(Qmat)\n",
    "plt.colorbar()\n",
    "plt.show()"
   ]
  },
  {
   "cell_type": "markdown",
   "metadata": {
    "id": "3r0lV2qCWy8M"
   },
   "source": [
    "### 使用する食材の提案\n",
    "このQUBO行列を用いて、どのような解が得られるか見てみましょう。"
   ]
  },
  {
   "cell_type": "code",
   "execution_count": 10,
   "metadata": {
    "id": "63D0uSo1q9Fu"
   },
   "outputs": [],
   "source": [
    "# MCMCの逆温度beta_rangeを設定\n",
    "sampleset = sampler.sample_qubo(Qmat, num_reads=50, beta_range=(32, 32)).aggregate()"
   ]
  },
  {
   "cell_type": "markdown",
   "metadata": {
    "id": "3ddofXOeXkEc"
   },
   "source": [
    "得られた解から、罰金法の制約を見たす解のみ取り出します。"
   ]
  },
  {
   "cell_type": "code",
   "execution_count": 11,
   "metadata": {
    "id": "MNtipkKOrfsI"
   },
   "outputs": [],
   "source": [
    "def extract_feasible_solution(sampleset):\n",
    "    index_slices = [\n",
    "        (0, 4),  # 主菜の調理方法\n",
    "        (4, 11),  # 副菜の調理方法\n",
    "        (11, 13),  # 汁物orデザート\n",
    "        (13, 16)  # 主食(ごはん、麦ご飯、パン)\n",
    "    ]\n",
    "\n",
    "    feasible_indices = []\n",
    "    for i, sample in enumerate(sampleset.record.sample):\n",
    "        for b, e in index_slices:\n",
    "            if np.sum(sample[b:e]) != 1:  # 実行可能解でない場合\n",
    "                break\n",
    "        else:\n",
    "            feasible_indices.append(i)\n",
    "    return sampleset.record.sample[feasible_indices]"
   ]
  },
  {
   "cell_type": "code",
   "execution_count": 12,
   "metadata": {},
   "outputs": [
    {
     "name": "stdout",
     "output_type": "stream",
     "text": [
      "実行可能解の個数: 8\n"
     ]
    }
   ],
   "source": [
    "ans = extract_feasible_solution(sampleset)\n",
    "print(f'実行可能解の個数: {len(ans)}')"
   ]
  },
  {
   "cell_type": "markdown",
   "metadata": {
    "id": "C8XX6GJyX-lB"
   },
   "source": [
    "制約を見たす解を表示します。"
   ]
  },
  {
   "cell_type": "code",
   "execution_count": 14,
   "metadata": {
    "colab": {
     "base_uri": "https://localhost:8080/",
     "height": 1000
    },
    "executionInfo": {
     "elapsed": 410,
     "status": "ok",
     "timestamp": 1640274527916,
     "user": {
      "displayName": "鹿内怜央",
      "photoUrl": "https://lh3.googleusercontent.com/a-/AOh14GiuZtFCt1LcSLiIa2VtmqFAlAia2ybNYDG9LMB3=s64",
      "userId": "01981270289238657177"
     },
     "user_tz": -540
    },
    "id": "5nUBuRYnr-2f",
    "outputId": "c77c0eda-d18c-49c5-824e-620ecd15b224"
   },
   "outputs": [
    {
     "data": {
      "text/html": [
       "<div>\n",
       "<style scoped>\n",
       "    .dataframe tbody tr th:only-of-type {\n",
       "        vertical-align: middle;\n",
       "    }\n",
       "\n",
       "    .dataframe tbody tr th {\n",
       "        vertical-align: top;\n",
       "    }\n",
       "\n",
       "    .dataframe thead th {\n",
       "        text-align: right;\n",
       "    }\n",
       "</style>\n",
       "<table border=\"1\" class=\"dataframe\">\n",
       "  <thead>\n",
       "    <tr style=\"text-align: right;\">\n",
       "      <th></th>\n",
       "      <th>焼く</th>\n",
       "      <th>炒める</th>\n",
       "      <th>揚げる</th>\n",
       "      <th>煮る</th>\n",
       "      <th>生</th>\n",
       "      <th>焼く.1</th>\n",
       "      <th>炒める.1</th>\n",
       "      <th>揚げる.1</th>\n",
       "      <th>和える</th>\n",
       "      <th>煮る.1</th>\n",
       "      <th>...</th>\n",
       "      <th>きゅうり</th>\n",
       "      <th>キャベツ</th>\n",
       "      <th>とうもろこし</th>\n",
       "      <th>たまねぎ</th>\n",
       "      <th>えだまめ</th>\n",
       "      <th>きくらげ</th>\n",
       "      <th>グリンピース</th>\n",
       "      <th>じゃがいも</th>\n",
       "      <th>さつまいも</th>\n",
       "      <th>はるさめ</th>\n",
       "    </tr>\n",
       "  </thead>\n",
       "  <tbody>\n",
       "    <tr>\n",
       "      <th>0</th>\n",
       "      <td>0</td>\n",
       "      <td>0</td>\n",
       "      <td>1</td>\n",
       "      <td>0</td>\n",
       "      <td>0</td>\n",
       "      <td>0</td>\n",
       "      <td>0</td>\n",
       "      <td>0</td>\n",
       "      <td>0</td>\n",
       "      <td>0</td>\n",
       "      <td>...</td>\n",
       "      <td>0</td>\n",
       "      <td>0</td>\n",
       "      <td>0</td>\n",
       "      <td>0</td>\n",
       "      <td>1</td>\n",
       "      <td>0</td>\n",
       "      <td>0</td>\n",
       "      <td>1</td>\n",
       "      <td>0</td>\n",
       "      <td>0</td>\n",
       "    </tr>\n",
       "    <tr>\n",
       "      <th>1</th>\n",
       "      <td>0</td>\n",
       "      <td>0</td>\n",
       "      <td>1</td>\n",
       "      <td>0</td>\n",
       "      <td>0</td>\n",
       "      <td>0</td>\n",
       "      <td>0</td>\n",
       "      <td>0</td>\n",
       "      <td>0</td>\n",
       "      <td>1</td>\n",
       "      <td>...</td>\n",
       "      <td>0</td>\n",
       "      <td>1</td>\n",
       "      <td>0</td>\n",
       "      <td>1</td>\n",
       "      <td>0</td>\n",
       "      <td>0</td>\n",
       "      <td>0</td>\n",
       "      <td>0</td>\n",
       "      <td>0</td>\n",
       "      <td>0</td>\n",
       "    </tr>\n",
       "    <tr>\n",
       "      <th>2</th>\n",
       "      <td>1</td>\n",
       "      <td>0</td>\n",
       "      <td>0</td>\n",
       "      <td>0</td>\n",
       "      <td>0</td>\n",
       "      <td>0</td>\n",
       "      <td>0</td>\n",
       "      <td>0</td>\n",
       "      <td>1</td>\n",
       "      <td>0</td>\n",
       "      <td>...</td>\n",
       "      <td>1</td>\n",
       "      <td>0</td>\n",
       "      <td>0</td>\n",
       "      <td>1</td>\n",
       "      <td>1</td>\n",
       "      <td>0</td>\n",
       "      <td>0</td>\n",
       "      <td>0</td>\n",
       "      <td>0</td>\n",
       "      <td>0</td>\n",
       "    </tr>\n",
       "    <tr>\n",
       "      <th>3</th>\n",
       "      <td>0</td>\n",
       "      <td>1</td>\n",
       "      <td>0</td>\n",
       "      <td>0</td>\n",
       "      <td>0</td>\n",
       "      <td>0</td>\n",
       "      <td>0</td>\n",
       "      <td>0</td>\n",
       "      <td>0</td>\n",
       "      <td>0</td>\n",
       "      <td>...</td>\n",
       "      <td>0</td>\n",
       "      <td>0</td>\n",
       "      <td>0</td>\n",
       "      <td>1</td>\n",
       "      <td>0</td>\n",
       "      <td>1</td>\n",
       "      <td>0</td>\n",
       "      <td>0</td>\n",
       "      <td>0</td>\n",
       "      <td>1</td>\n",
       "    </tr>\n",
       "    <tr>\n",
       "      <th>4</th>\n",
       "      <td>0</td>\n",
       "      <td>1</td>\n",
       "      <td>0</td>\n",
       "      <td>0</td>\n",
       "      <td>0</td>\n",
       "      <td>0</td>\n",
       "      <td>0</td>\n",
       "      <td>0</td>\n",
       "      <td>0</td>\n",
       "      <td>1</td>\n",
       "      <td>...</td>\n",
       "      <td>0</td>\n",
       "      <td>0</td>\n",
       "      <td>0</td>\n",
       "      <td>1</td>\n",
       "      <td>0</td>\n",
       "      <td>1</td>\n",
       "      <td>0</td>\n",
       "      <td>0</td>\n",
       "      <td>0</td>\n",
       "      <td>1</td>\n",
       "    </tr>\n",
       "  </tbody>\n",
       "</table>\n",
       "<p>5 rows × 79 columns</p>\n",
       "</div>"
      ],
      "text/plain": [
       "   焼く  炒める  揚げる  煮る  生  焼く.1  炒める.1  揚げる.1  和える  煮る.1  ...  きゅうり  キャベツ  \\\n",
       "0   0    0    1   0  0     0      0      0    0     0  ...     0     0   \n",
       "1   0    0    1   0  0     0      0      0    0     1  ...     0     1   \n",
       "2   1    0    0   0  0     0      0      0    1     0  ...     1     0   \n",
       "3   0    1    0   0  0     0      0      0    0     0  ...     0     0   \n",
       "4   0    1    0   0  0     0      0      0    0     1  ...     0     0   \n",
       "\n",
       "   とうもろこし  たまねぎ  えだまめ  きくらげ  グリンピース  じゃがいも  さつまいも  はるさめ  \n",
       "0       0     0     1     0       0      1      0     0  \n",
       "1       0     1     0     0       0      0      0     0  \n",
       "2       0     1     1     0       0      0      0     0  \n",
       "3       0     1     0     1       0      0      0     1  \n",
       "4       0     1     0     1       0      0      0     1  \n",
       "\n",
       "[5 rows x 79 columns]"
      ]
     },
     "execution_count": 14,
     "metadata": {},
     "output_type": "execute_result"
    }
   ],
   "source": [
    "df_ans = pd.DataFrame(data=ans, columns=df_data.columns)\n",
    "df_ans.head()"
   ]
  },
  {
   "cell_type": "markdown",
   "metadata": {
    "id": "b9fPAShs-27c"
   },
   "source": [
    "## まとめ\n",
    "このままでは何が作れるのか想像できません。次の記事では、ここで得られた解を自己組織化マップに投影することにより、実際に作れる料理まで提案する過程について解説します。\n",
    "\n",
    "### 本記事の担当者\n",
    "鹿内怜央"
   ]
  }
 ],
 "metadata": {
  "colab": {
   "collapsed_sections": [],
   "name": "CoQ_BM.ipynb",
   "provenance": [
    {
     "file_id": "1yT5Ju11pvSriJxXXYdqW6h7AcHFj-peB",
     "timestamp": 1638537908188
    },
    {
     "file_id": "1ckSlGMcZwv8C_T-s1VbVuVQ81tVoAGQz",
     "timestamp": 1637418439642
    }
   ]
  },
  "interpreter": {
   "hash": "0d6071148e5c2f9a48f87cfe87c15e80fb8f60b12c6ad0154e8cb76ceb4a985f"
  },
  "kernelspec": {
   "display_name": "t-wave",
   "language": "python",
   "name": "python3"
  },
  "language_info": {
   "codemirror_mode": {
    "name": "ipython",
    "version": 3
   },
   "file_extension": ".py",
   "mimetype": "text/x-python",
   "name": "python",
   "nbconvert_exporter": "python",
   "pygments_lexer": "ipython3",
   "version": "3.9.4"
  },
  "widgets": {
   "application/vnd.jupyter.widget-state+json": {
    "state": {},
    "version_major": 2,
    "version_minor": 0
   }
  }
 },
 "nbformat": 4,
 "nbformat_minor": 4
}
