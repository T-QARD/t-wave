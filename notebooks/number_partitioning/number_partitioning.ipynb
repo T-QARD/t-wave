{
 "nbformat": 4,
 "nbformat_minor": 0,
 "metadata": {
  "colab": {
   "provenance": [
    {
     "file_id": "1REhQQNhlPUJelMEtpWzk8Vc20Gfo-XNK",
     "timestamp": 1683407538687
    }
   ],
   "toc_visible": true
  },
  "kernelspec": {
   "name": "python3",
   "display_name": "Python 3"
  },
  "language_info": {
   "name": "python"
  }
 },
 "cells": [
  {
   "cell_type": "markdown",
   "source": [
    "# 数分割問題に対する量子アニーリングを用いた解法"
   ],
   "metadata": {
    "id": "v09Dk3iXLBrU"
   }
  },
  {
   "cell_type": "markdown",
   "source": [
    "## 概要\n",
    "\n",
    "本記事では量子アニーリングマシンによる数分割問題の計算時間を、総当たりによる計算時間と比較することによってその有用性を確認します。"
   ],
   "metadata": {
    "id": "SKLMHSivHLqd"
   }
  },
  {
   "cell_type": "markdown",
   "source": [
    "## 文献情報\n",
    "\n",
    "- タイトル：Ising formulations of many NP problems  \n",
    "- 著者：Andrew Lucas  \n",
    "- 書誌情報：https://doi.org/10.3389/fphy.2014.00005"
   ],
   "metadata": {
    "id": "PAcPXwvQG7RX"
   }
  },
  {
   "cell_type": "markdown",
   "source": [
    "## 環境設定"
   ],
   "metadata": {
    "id": "QE_wF7VArKY7"
   }
  },
  {
   "cell_type": "code",
   "source": [
    "!pip install numpy\n",
    "!pip install matplotlib>=3.5.1  # 3.5.1未満であるとグラフの表示が正常に行われない可能性あり\n",
    "!pip install pandas\n",
    "!pip install dwave-ocean-sdk\n",
    "!pip install openjij"
   ],
   "metadata": {
    "id": "3S8y0hoiBH5w",
    "colab": {
     "base_uri": "https://localhost:8080/"
    },
    "executionInfo": {
     "status": "ok",
     "timestamp": 1695713628884,
     "user_tz": -540,
     "elapsed": 67434,
     "user": {
      "displayName": "岡田朋久",
      "userId": "10767899446766232866"
     }
    },
    "outputId": "b1d1d6db-69ac-4d20-e478-995f5713776f"
   },
   "execution_count": null,
   "outputs": [
    {
     "output_type": "stream",
     "name": "stdout",
     "text": [
      "Requirement already satisfied: numpy in /usr/local/lib/python3.10/dist-packages (1.23.5)\n",
      "Requirement already satisfied: pandas in /usr/local/lib/python3.10/dist-packages (1.5.3)\n",
      "Requirement already satisfied: python-dateutil>=2.8.1 in /usr/local/lib/python3.10/dist-packages (from pandas) (2.8.2)\n",
      "Requirement already satisfied: pytz>=2020.1 in /usr/local/lib/python3.10/dist-packages (from pandas) (2023.3.post1)\n",
      "Requirement already satisfied: numpy>=1.21.0 in /usr/local/lib/python3.10/dist-packages (from pandas) (1.23.5)\n",
      "Requirement already satisfied: six>=1.5 in /usr/local/lib/python3.10/dist-packages (from python-dateutil>=2.8.1->pandas) (1.16.0)\n",
      "Collecting dwave-ocean-sdk\n",
      "  Downloading dwave_ocean_sdk-6.4.1-py3-none-any.whl (8.5 kB)\n",
      "Collecting dimod==0.12.6 (from dwave-ocean-sdk)\n",
      "  Downloading dimod-0.12.6-cp310-cp310-manylinux_2_17_x86_64.manylinux2014_x86_64.whl (15.6 MB)\n",
      "\u001b[2K     \u001b[90m━━━━━━━━━━━━━━━━━━━━━━━━━━━━━━━━━━━━━━━━\u001b[0m \u001b[32m15.6/15.6 MB\u001b[0m \u001b[31m26.5 MB/s\u001b[0m eta \u001b[36m0:00:00\u001b[0m\n",
      "\u001b[?25hCollecting dwave-cloud-client==0.10.6 (from dwave-ocean-sdk)\n",
      "  Downloading dwave_cloud_client-0.10.6-py3-none-any.whl (113 kB)\n",
      "\u001b[2K     \u001b[90m━━━━━━━━━━━━━━━━━━━━━━━━━━━━━━━━━━━━━━\u001b[0m \u001b[32m113.4/113.4 kB\u001b[0m \u001b[31m11.8 MB/s\u001b[0m eta \u001b[36m0:00:00\u001b[0m\n",
      "\u001b[?25hCollecting dwave-greedy==0.3.0 (from dwave-ocean-sdk)\n",
      "  Downloading dwave_greedy-0.3.0-py3-none-any.whl (10 kB)\n",
      "Collecting dwave-hybrid==0.6.10 (from dwave-ocean-sdk)\n",
      "  Downloading dwave_hybrid-0.6.10-py3-none-any.whl (74 kB)\n",
      "\u001b[2K     \u001b[90m━━━━━━━━━━━━━━━━━━━━━━━━━━━━━━━━━━━━━━━━\u001b[0m \u001b[32m74.8/74.8 kB\u001b[0m \u001b[31m6.8 MB/s\u001b[0m eta \u001b[36m0:00:00\u001b[0m\n",
      "\u001b[?25hCollecting dwave-inspector==0.4.2 (from dwave-ocean-sdk)\n",
      "  Downloading dwave_inspector-0.4.2-py3-none-any.whl (31 kB)\n",
      "Collecting dwave-neal==0.6.0 (from dwave-ocean-sdk)\n",
      "  Downloading dwave_neal-0.6.0-py3-none-any.whl (8.7 kB)\n",
      "Collecting dwave-networkx==0.8.14 (from dwave-ocean-sdk)\n",
      "  Downloading dwave_networkx-0.8.14-py3-none-any.whl (102 kB)\n",
      "\u001b[2K     \u001b[90m━━━━━━━━━━━━━━━━━━━━━━━━━━━━━━━━━━━━━━━\u001b[0m \u001b[32m102.4/102.4 kB\u001b[0m \u001b[31m8.0 MB/s\u001b[0m eta \u001b[36m0:00:00\u001b[0m\n",
      "\u001b[?25hCollecting dwave-preprocessing==0.5.4 (from dwave-ocean-sdk)\n",
      "  Downloading dwave_preprocessing-0.5.4-cp310-cp310-manylinux_2_17_x86_64.manylinux2014_x86_64.whl (3.6 MB)\n",
      "\u001b[2K     \u001b[90m━━━━━━━━━━━━━━━━━━━━━━━━━━━━━━━━━━━━━━━━\u001b[0m \u001b[32m3.6/3.6 MB\u001b[0m \u001b[31m47.7 MB/s\u001b[0m eta \u001b[36m0:00:00\u001b[0m\n",
      "\u001b[?25hCollecting dwave-samplers==1.0.0 (from dwave-ocean-sdk)\n",
      "  Downloading dwave_samplers-1.0.0-cp310-cp310-manylinux_2_17_x86_64.manylinux2014_x86_64.whl (6.0 MB)\n",
      "\u001b[2K     \u001b[90m━━━━━━━━━━━━━━━━━━━━━━━━━━━━━━━━━━━━━━━━\u001b[0m \u001b[32m6.0/6.0 MB\u001b[0m \u001b[31m10.3 MB/s\u001b[0m eta \u001b[36m0:00:00\u001b[0m\n",
      "\u001b[?25hCollecting dwave-system==1.19.0 (from dwave-ocean-sdk)\n",
      "  Downloading dwave_system-1.19.0-py3-none-any.whl (103 kB)\n",
      "\u001b[2K     \u001b[90m━━━━━━━━━━━━━━━━━━━━━━━━━━━━━━━━━━━━━━\u001b[0m \u001b[32m103.2/103.2 kB\u001b[0m \u001b[31m11.0 MB/s\u001b[0m eta \u001b[36m0:00:00\u001b[0m\n",
      "\u001b[?25hCollecting dwave-tabu==0.5.0 (from dwave-ocean-sdk)\n",
      "  Downloading dwave_tabu-0.5.0-py3-none-any.whl (9.2 kB)\n",
      "Collecting dwavebinarycsp==0.2.0 (from dwave-ocean-sdk)\n",
      "  Downloading dwavebinarycsp-0.2.0-py3-none-any.whl (35 kB)\n",
      "Collecting minorminer==0.2.11 (from dwave-ocean-sdk)\n",
      "  Downloading minorminer-0.2.11-cp310-cp310-manylinux_2_17_x86_64.manylinux2014_x86_64.whl (10.1 MB)\n",
      "\u001b[2K     \u001b[90m━━━━━━━━━━━━━━━━━━━━━━━━━━━━━━━━━━━━━━━━\u001b[0m \u001b[32m10.1/10.1 MB\u001b[0m \u001b[31m65.6 MB/s\u001b[0m eta \u001b[36m0:00:00\u001b[0m\n",
      "\u001b[?25hCollecting penaltymodel==1.0.2 (from dwave-ocean-sdk)\n",
      "  Downloading penaltymodel-1.0.2-py3-none-any.whl (36 kB)\n",
      "Collecting pyqubo==1.4.0 (from dwave-ocean-sdk)\n",
      "  Downloading pyqubo-1.4.0-cp310-cp310-manylinux_2_17_x86_64.manylinux2014_x86_64.whl (245 kB)\n",
      "\u001b[2K     \u001b[90m━━━━━━━━━━━━━━━━━━━━━━━━━━━━━━━━━━━━━━\u001b[0m \u001b[32m245.3/245.3 kB\u001b[0m \u001b[31m24.6 MB/s\u001b[0m eta \u001b[36m0:00:00\u001b[0m\n",
      "\u001b[?25hRequirement already satisfied: numpy<2.0.0,>=1.17.3 in /usr/local/lib/python3.10/dist-packages (from dimod==0.12.6->dwave-ocean-sdk) (1.23.5)\n",
      "Requirement already satisfied: requests[socks]>=2.18 in /usr/local/lib/python3.10/dist-packages (from dwave-cloud-client==0.10.6->dwave-ocean-sdk) (2.31.0)\n",
      "Requirement already satisfied: pydantic<2,>=1.7.3 in /usr/local/lib/python3.10/dist-packages (from dwave-cloud-client==0.10.6->dwave-ocean-sdk) (1.10.12)\n",
      "Collecting homebase>=1.0 (from dwave-cloud-client==0.10.6->dwave-ocean-sdk)\n",
      "  Downloading homebase-1.0.1-py2.py3-none-any.whl (11 kB)\n",
      "Requirement already satisfied: click>=7.0 in /usr/local/lib/python3.10/dist-packages (from dwave-cloud-client==0.10.6->dwave-ocean-sdk) (8.1.7)\n",
      "Requirement already satisfied: python-dateutil>=2.7 in /usr/local/lib/python3.10/dist-packages (from dwave-cloud-client==0.10.6->dwave-ocean-sdk) (2.8.2)\n",
      "Collecting plucky>=0.4.3 (from dwave-cloud-client==0.10.6->dwave-ocean-sdk)\n",
      "  Downloading plucky-0.4.3-py2.py3-none-any.whl (10 kB)\n",
      "Collecting diskcache>=5.2.1 (from dwave-cloud-client==0.10.6->dwave-ocean-sdk)\n",
      "  Downloading diskcache-5.6.3-py3-none-any.whl (45 kB)\n",
      "\u001b[2K     \u001b[90m━━━━━━━━━━━━━━━━━━━━━━━━━━━━━━━━━━━━━━━━\u001b[0m \u001b[32m45.5/45.5 kB\u001b[0m \u001b[31m4.1 MB/s\u001b[0m eta \u001b[36m0:00:00\u001b[0m\n",
      "\u001b[?25hRequirement already satisfied: packaging>=19 in /usr/local/lib/python3.10/dist-packages (from dwave-cloud-client==0.10.6->dwave-ocean-sdk) (23.1)\n",
      "Requirement already satisfied: werkzeug>=2.2 in /usr/local/lib/python3.10/dist-packages (from dwave-cloud-client==0.10.6->dwave-ocean-sdk) (2.3.7)\n",
      "Requirement already satisfied: networkx in /usr/local/lib/python3.10/dist-packages (from dwave-hybrid==0.6.10->dwave-ocean-sdk) (3.1)\n",
      "Requirement already satisfied: Flask>=2.2 in /usr/local/lib/python3.10/dist-packages (from dwave-inspector==0.4.2->dwave-ocean-sdk) (2.2.5)\n",
      "Collecting networkx (from dwave-hybrid==0.6.10->dwave-ocean-sdk)\n",
      "  Downloading networkx-2.8.8-py3-none-any.whl (2.0 MB)\n",
      "\u001b[2K     \u001b[90m━━━━━━━━━━━━━━━━━━━━━━━━━━━━━━━━━━━━━━━━\u001b[0m \u001b[32m2.0/2.0 MB\u001b[0m \u001b[31m77.7 MB/s\u001b[0m eta \u001b[36m0:00:00\u001b[0m\n",
      "\u001b[?25hRequirement already satisfied: scipy>=1.7.3 in /usr/local/lib/python3.10/dist-packages (from dwave-system==1.19.0->dwave-ocean-sdk) (1.11.2)\n",
      "Collecting fasteners (from minorminer==0.2.11->dwave-ocean-sdk)\n",
      "  Downloading fasteners-0.19-py3-none-any.whl (18 kB)\n",
      "Collecting rectangle-packer>=2.0.1 (from minorminer==0.2.11->dwave-ocean-sdk)\n",
      "  Downloading rectangle_packer-2.0.1-cp310-cp310-manylinux_2_5_x86_64.manylinux1_x86_64.manylinux_2_17_x86_64.manylinux2014_x86_64.whl (300 kB)\n",
      "\u001b[2K     \u001b[90m━━━━━━━━━━━━━━━━━━━━━━━━━━━━━━━━━━━━━━\u001b[0m \u001b[32m300.8/300.8 kB\u001b[0m \u001b[31m31.5 MB/s\u001b[0m eta \u001b[36m0:00:00\u001b[0m\n",
      "\u001b[?25hCollecting Deprecated>=1.2.12 (from pyqubo==1.4.0->dwave-ocean-sdk)\n",
      "  Downloading Deprecated-1.2.14-py2.py3-none-any.whl (9.6 kB)\n",
      "Requirement already satisfied: six>=1.15.0 in /usr/local/lib/python3.10/dist-packages (from pyqubo==1.4.0->dwave-ocean-sdk) (1.16.0)\n",
      "Requirement already satisfied: wrapt<2,>=1.10 in /usr/local/lib/python3.10/dist-packages (from Deprecated>=1.2.12->pyqubo==1.4.0->dwave-ocean-sdk) (1.15.0)\n",
      "Requirement already satisfied: Jinja2>=3.0 in /usr/local/lib/python3.10/dist-packages (from Flask>=2.2->dwave-inspector==0.4.2->dwave-ocean-sdk) (3.1.2)\n",
      "Requirement already satisfied: itsdangerous>=2.0 in /usr/local/lib/python3.10/dist-packages (from Flask>=2.2->dwave-inspector==0.4.2->dwave-ocean-sdk) (2.1.2)\n",
      "Requirement already satisfied: typing-extensions>=4.2.0 in /usr/local/lib/python3.10/dist-packages (from pydantic<2,>=1.7.3->dwave-cloud-client==0.10.6->dwave-ocean-sdk) (4.5.0)\n",
      "Requirement already satisfied: charset-normalizer<4,>=2 in /usr/local/lib/python3.10/dist-packages (from requests[socks]>=2.18->dwave-cloud-client==0.10.6->dwave-ocean-sdk) (3.2.0)\n",
      "Requirement already satisfied: idna<4,>=2.5 in /usr/local/lib/python3.10/dist-packages (from requests[socks]>=2.18->dwave-cloud-client==0.10.6->dwave-ocean-sdk) (3.4)\n",
      "Requirement already satisfied: urllib3<3,>=1.21.1 in /usr/local/lib/python3.10/dist-packages (from requests[socks]>=2.18->dwave-cloud-client==0.10.6->dwave-ocean-sdk) (2.0.4)\n",
      "Requirement already satisfied: certifi>=2017.4.17 in /usr/local/lib/python3.10/dist-packages (from requests[socks]>=2.18->dwave-cloud-client==0.10.6->dwave-ocean-sdk) (2023.7.22)\n",
      "Requirement already satisfied: PySocks!=1.5.7,>=1.5.6 in /usr/local/lib/python3.10/dist-packages (from requests[socks]>=2.18->dwave-cloud-client==0.10.6->dwave-ocean-sdk) (1.7.1)\n",
      "Requirement already satisfied: MarkupSafe>=2.1.1 in /usr/local/lib/python3.10/dist-packages (from werkzeug>=2.2->dwave-cloud-client==0.10.6->dwave-ocean-sdk) (2.1.3)\n",
      "Installing collected packages: rectangle-packer, plucky, homebase, networkx, fasteners, diskcache, dimod, Deprecated, penaltymodel, dwave-samplers, dwave-preprocessing, dwave-networkx, minorminer, dwavebinarycsp, dwave-tabu, dwave-neal, dwave-greedy, dwave-cloud-client, pyqubo, dwave-system, dwave-inspector, dwave-hybrid, dwave-ocean-sdk\n",
      "  Attempting uninstall: networkx\n",
      "    Found existing installation: networkx 3.1\n",
      "    Uninstalling networkx-3.1:\n",
      "      Successfully uninstalled networkx-3.1\n",
      "Successfully installed Deprecated-1.2.14 dimod-0.12.6 diskcache-5.6.3 dwave-cloud-client-0.10.6 dwave-greedy-0.3.0 dwave-hybrid-0.6.10 dwave-inspector-0.4.2 dwave-neal-0.6.0 dwave-networkx-0.8.14 dwave-ocean-sdk-6.4.1 dwave-preprocessing-0.5.4 dwave-samplers-1.0.0 dwave-system-1.19.0 dwave-tabu-0.5.0 dwavebinarycsp-0.2.0 fasteners-0.19 homebase-1.0.1 minorminer-0.2.11 networkx-2.8.8 penaltymodel-1.0.2 plucky-0.4.3 pyqubo-1.4.0 rectangle-packer-2.0.1\n",
      "Collecting openjij\n",
      "  Downloading openjij-0.8.0-cp310-cp310-manylinux_2_28_x86_64.whl (12.3 MB)\n",
      "\u001b[2K     \u001b[90m━━━━━━━━━━━━━━━━━━━━━━━━━━━━━━━━━━━━━━━━\u001b[0m \u001b[32m12.3/12.3 MB\u001b[0m \u001b[31m16.9 MB/s\u001b[0m eta \u001b[36m0:00:00\u001b[0m\n",
      "\u001b[?25hRequirement already satisfied: numpy<1.26.0,>=1.17.3 in /usr/local/lib/python3.10/dist-packages (from openjij) (1.23.5)\n",
      "Requirement already satisfied: dimod<0.13.0 in /usr/local/lib/python3.10/dist-packages (from openjij) (0.12.6)\n",
      "Requirement already satisfied: scipy<1.12.0,>=1.7.3 in /usr/local/lib/python3.10/dist-packages (from openjij) (1.11.2)\n",
      "Requirement already satisfied: requests<2.32.0,>=2.28.0 in /usr/local/lib/python3.10/dist-packages (from openjij) (2.31.0)\n",
      "Collecting jij-cimod<1.6.0,>=1.5.0 (from openjij)\n",
      "  Downloading jij_cimod-1.5.1-cp310-cp310-manylinux_2_28_x86_64.whl (11.6 MB)\n",
      "\u001b[2K     \u001b[90m━━━━━━━━━━━━━━━━━━━━━━━━━━━━━━━━━━━━━━━━\u001b[0m \u001b[32m11.6/11.6 MB\u001b[0m \u001b[31m69.7 MB/s\u001b[0m eta \u001b[36m0:00:00\u001b[0m\n",
      "\u001b[?25hRequirement already satisfied: typing-extensions>=4.2.0 in /usr/local/lib/python3.10/dist-packages (from openjij) (4.5.0)\n",
      "Requirement already satisfied: charset-normalizer<4,>=2 in /usr/local/lib/python3.10/dist-packages (from requests<2.32.0,>=2.28.0->openjij) (3.2.0)\n",
      "Requirement already satisfied: idna<4,>=2.5 in /usr/local/lib/python3.10/dist-packages (from requests<2.32.0,>=2.28.0->openjij) (3.4)\n",
      "Requirement already satisfied: urllib3<3,>=1.21.1 in /usr/local/lib/python3.10/dist-packages (from requests<2.32.0,>=2.28.0->openjij) (2.0.4)\n",
      "Requirement already satisfied: certifi>=2017.4.17 in /usr/local/lib/python3.10/dist-packages (from requests<2.32.0,>=2.28.0->openjij) (2023.7.22)\n",
      "Installing collected packages: jij-cimod, openjij\n",
      "Successfully installed jij-cimod-1.5.1 openjij-0.8.0\n"
     ]
    }
   ]
  },
  {
   "cell_type": "code",
   "source": [
    "import math\n",
    "from decimal import Decimal, ROUND_HALF_UP, ROUND_HALF_EVEN\n",
    "import time\n",
    "\n",
    "import numpy as np\n",
    "import pandas as pd\n",
    "import matplotlib.cm as cm\n",
    "import matplotlib.pyplot as plt\n",
    "\n",
    "%matplotlib inline"
   ],
   "metadata": {
    "id": "qirmLjbpEHLt"
   },
   "execution_count": null,
   "outputs": []
  },
  {
   "cell_type": "code",
   "source": [
    "from dwave.system.samplers import DWaveSampler\n",
    "from dwave.system.composites import EmbeddingComposite\n",
    "from openjij import SASampler"
   ],
   "metadata": {
    "id": "LlkLv3b0hZUK"
   },
   "execution_count": null,
   "outputs": []
  },
  {
   "cell_type": "markdown",
   "source": [
    "## 問題設定\n",
    "\n",
    "数分割問題とは、与えられたN個の実数を二つの集合に分けたとき、等分できるかどうかを判定する問題のことです。\n",
    "\n",
    "数分割問題はNP困難とされています [Lucas, 2014]。NP困難（NP-hard）とはNPに属する任意の問題と比べて、少なくとも同程度以上に難しい問題のことを指します。言いかえると、NPに属する任意の問題がAによって多項式時間で解けるとき、AはNP困難であると言います。ただし、NPとは非決定的アルゴリズムで多項式時間で解ける問題（Non-deterministic Polynomial Time-Solvable）のことであり、ここで言う非決定的アルゴリズムは、同一の入力に対して異なる出力結果を返すアルゴリズムのことです。\n",
    "\n",
    "以下のようにして平均値Avg、分散VarとなるようなN個のデータCを生成し、それらを整数に丸め込むことで実験用データWを作成しました。数分割問題として、このN個の数値をどのように組み合わせることによって2つのグループに均等に分割できるかを考えます。"
   ],
   "metadata": {
    "id": "251y6oqjHVgF"
   }
  },
  {
   "cell_type": "code",
   "source": [
    "N = 20\n",
    "Avg = 10\n",
    "Var = 10\n",
    "\n",
    "SD = np.sqrt(Var)\n",
    "C = np.random.normal(loc=Avg, scale=SD, size=N)\n",
    "W = np.round(C)  # データセットを整数値に丸め込む"
   ],
   "metadata": {
    "id": "q4y6xM0FOSgB"
   },
   "execution_count": null,
   "outputs": []
  },
  {
   "cell_type": "code",
   "source": [
    "def plot_numbers(numbers):\n",
    "    x_list = np.arange(len(numbers))\n",
    "    plt.bar(x_list, numbers, color=\"skyblue\")\n",
    "    for i, n in enumerate(numbers):\n",
    "        plt.text(i, n / 2, n, ha=\"center\")\n",
    "    plt.show()"
   ],
   "metadata": {
    "id": "86PI6_Ig8iAQ"
   },
   "execution_count": null,
   "outputs": []
  },
  {
   "cell_type": "code",
   "source": [
    "plot_numbers(W)"
   ],
   "metadata": {
    "colab": {
     "base_uri": "https://localhost:8080/",
     "height": 430
    },
    "id": "jsVLl9o7D599",
    "executionInfo": {
     "status": "ok",
     "timestamp": 1695713631380,
     "user_tz": -540,
     "elapsed": 967,
     "user": {
      "displayName": "岡田朋久",
      "userId": "10767899446766232866"
     }
    },
    "outputId": "e5b0adcd-bcad-4560-e9d2-5e560da261af"
   },
   "execution_count": null,
   "outputs": [
    {
     "output_type": "display_data",
     "data": {
      "text/plain": [
       "<Figure size 640x480 with 1 Axes>"
      ],
      "image/png": "[encoded data removed]"
     },
     "metadata": {}
    }
   ]
  },
  {
   "cell_type": "code",
   "source": [
    "# 生成したデータセットの合計値、平均値、分散を表示\n",
    "print(\"合計:\\t\", sum(W))\n",
    "print(\"平均:\\t\", sum(W) / N)\n",
    "print(\"分散:\\t\", np.var(W))"
   ],
   "metadata": {
    "colab": {
     "base_uri": "https://localhost:8080/"
    },
    "id": "nEp9WePhKSWr",
    "executionInfo": {
     "status": "ok",
     "timestamp": 1695713631381,
     "user_tz": -540,
     "elapsed": 10,
     "user": {
      "displayName": "岡田朋久",
      "userId": "10767899446766232866"
     }
    },
    "outputId": "655da75d-cfe8-4f2f-e8e6-b2ef8c62d7fb"
   },
   "execution_count": null,
   "outputs": [
    {
     "output_type": "stream",
     "name": "stdout",
     "text": [
      "合計:\t 195.0\n",
      "平均:\t 9.75\n",
      "分散:\t 9.8875\n"
     ]
    }
   ]
  },
  {
   "cell_type": "markdown",
   "source": [
    "## 解法"
   ],
   "metadata": {
    "id": "onykv1fOMcgZ"
   }
  },
  {
   "cell_type": "markdown",
   "source": [
    "### ビット全探索\n",
    "\n",
    "ここでは与えられた数値について、全ての分け方を考えることで最適解を見つけます。以下ではその具体的な内容について述べます。\n",
    "\n",
    "与えられた数値を2つのグループに分けることを考え、名前をそれぞれ$A,B$とします。$A$と$B$を区別するならば、数値の振り分け方は$2^N$通りあります。\n",
    "\n",
    "次にグループ分けの表記の仕方について述べます。ここではグループ$A$に所属することを$0$、グループ$B$に所属することを$1$で表現します。まず初めに$0$から$2^N$までの数値を二進数で生成します。生成した二進数に対し$2^k$の位の値（$0$または$1$）を見て、データセットの$k$番目の数値をどちらのグループに割り振るかを決定します。このときデータセット$W$の先頭は0番目であるとし、$k$は$0<k<N-1$を満たすことに注意してください。この操作を$2^0$の位から$2^{N-1}$の位まで行います。さらに、この操作を生成した二進数$0$から$2^{N-1}$まで行います。\n",
    "\n",
    "ただし、本来ならば2つのグループを区別する必要はありませんが、この計算方法では区別してしまっています。本記事では量子アニーリングとビット全探索の計算時間の差を比較することを目的としており、後述する通りその差は明確です。そのため、今回は総当たり計算の効率を追求することはしません。"
   ],
   "metadata": {
    "id": "obuW6iMeKLp1"
   }
  },
  {
   "cell_type": "markdown",
   "source": [
    "以下では，前述したビット全探索によって与えられた数分割問題に対する最適解を取り出します。"
   ],
   "metadata": {
    "id": "zFjutOt15Rst"
   }
  },
  {
   "cell_type": "code",
   "source": [
    "t1 = time.perf_counter()\n",
    "\n",
    "# 全通りのグループ分けの結果\n",
    "Group_A_BF = np.zeros(((2**N), N))\n",
    "Group_B_BF = np.zeros(((2**N), N))\n",
    "\n",
    "# bitによる組み合わせ\n",
    "Combo = np.zeros(((2**N), N))\n",
    "\n",
    "# 2つのグループの差の最小値\n",
    "Diff_BF = sum(W)\n",
    "\n",
    "# 最適解のグループ分けの暫定値\n",
    "note = 0\n",
    "\n",
    "for i in range(2**N):\n",
    "    # bitで組み合わせを表現するためにiを2進数に変換し、残りを0で埋める\n",
    "    Bit = format(i, \"b\").zfill(N)\n",
    "\n",
    "    for j in range(N):\n",
    "        # Bitの0,1に応じて全通りの組合せを保存する\n",
    "        if Bit[j] == \"1\":\n",
    "            Group_A_BF[i][j] = W[j]\n",
    "        else:\n",
    "            Group_B_BF[i][j] = W[j]\n",
    "\n",
    "    # 上で求めた全通りの組合せのうち、差が最小となるものを抽出する\n",
    "    Diff_tmp = abs(sum(Group_A_BF[i]) - sum(Group_B_BF[i]))\n",
    "\n",
    "    if Diff_tmp <= Diff_BF:\n",
    "        Diff_BF = Diff_tmp\n",
    "        note = i\n",
    "\n",
    "t2 = time.perf_counter()\n",
    "\n",
    "# 計算時間を記録する\n",
    "Time_BF = t2 - t1"
   ],
   "metadata": {
    "id": "o6eURMbaVWOZ"
   },
   "execution_count": null,
   "outputs": []
  },
  {
   "cell_type": "markdown",
   "source": [
    "もしもここでクラッシュしてしまう場合は、問題サイズを小さくしてください。"
   ],
   "metadata": {
    "id": "FKxcxJFJ3hla"
   }
  },
  {
   "cell_type": "markdown",
   "source": [
    "最後に先ほど求めた最適解の内の１つを表示します。"
   ],
   "metadata": {
    "id": "qtPZtqb05Zp-"
   }
  },
  {
   "cell_type": "code",
   "source": [
    "def plot_grouping(A, B, bar_width=0.4, alpha=1):\n",
    "    df = pd.DataFrame([A, B], index=[\"A\", \"B\"]).T\n",
    "    df_nan = df.replace([0], np.nan)\n",
    "\n",
    "    fig, ax = plt.subplots()\n",
    "\n",
    "    Sum = np.array([sum(A), sum(B)])\n",
    "\n",
    "    data_points = np.arange(len(df.columns))\n",
    "    bottom_data = pd.Series(np.zeros(len(df.columns)), index=df.columns.tolist())\n",
    "\n",
    "    index = np.array([\"A\", \"B\"])\n",
    "\n",
    "    for i in range(len(df.index)):\n",
    "        p1 = ax.bar(\n",
    "            index,\n",
    "            df.iloc[i],\n",
    "            bar_width,\n",
    "            bottom=bottom_data,\n",
    "            alpha=alpha,\n",
    "            color=\"skyblue\",\n",
    "            edgecolor=\"white\",\n",
    "            linewidth=0.5,\n",
    "        )\n",
    "        ax.bar_label(p1, label_type=\"center\")\n",
    "\n",
    "        bottom_data += df.iloc[i]\n",
    "        ax.set_xticks(data_points)\n",
    "        ax.set_xticklabels(df.columns)\n",
    "\n",
    "    return plt.show()"
   ],
   "metadata": {
    "id": "ocmO1hRz8rQL"
   },
   "execution_count": null,
   "outputs": []
  },
  {
   "cell_type": "code",
   "source": [
    "plot_grouping(Group_A_BF[note], Group_B_BF[note])"
   ],
   "metadata": {
    "colab": {
     "base_uri": "https://localhost:8080/",
     "height": 437
    },
    "id": "5PgqRl5WS6ON",
    "executionInfo": {
     "status": "ok",
     "timestamp": 1695713669156,
     "user_tz": -540,
     "elapsed": 493,
     "user": {
      "displayName": "岡田朋久",
      "userId": "10767899446766232866"
     }
    },
    "outputId": "46f97f24-4fb9-43eb-d2a9-f3148b15c160"
   },
   "execution_count": null,
   "outputs": [
    {
     "output_type": "display_data",
     "data": {
      "text/plain": [
       "<Figure size 640x480 with 1 Axes>"
      ],
      "image/png": "[encoded data removed]"
     },
     "metadata": {}
    }
   ]
  },
  {
   "cell_type": "code",
   "source": [
    "print(\"合計値の差\\t\", Diff_BF)\n",
    "print(\"計算時間[s]\\t\", Time_BF)"
   ],
   "metadata": {
    "id": "m9VNA1mfq_ja",
    "executionInfo": {
     "status": "ok",
     "timestamp": 1695713669156,
     "user_tz": -540,
     "elapsed": 13,
     "user": {
      "displayName": "岡田朋久",
      "userId": "10767899446766232866"
     }
    },
    "colab": {
     "base_uri": "https://localhost:8080/"
    },
    "outputId": "a2fb7e38-9817-4504-e608-c233056f4dbc"
   },
   "execution_count": null,
   "outputs": [
    {
     "output_type": "stream",
     "name": "stdout",
     "text": [
      "合計値の差\t 1.0\n",
      "計算時間[s]\t 37.245861749\n"
     ]
    }
   ]
  },
  {
   "cell_type": "markdown",
   "source": [
    "### 量子アニーリング\n",
    "\n",
    "本記事では、D-Wave Systemsの量子アニーリングマシンを用いて数分割問題に取り組みます。\n",
    "\n",
    "$0$と$1$のみを取る二値変数$q_i$を用いて、$i$番目の数値$w_i$が$A$に属する場合は$q_i=1$、$B$に属する場合は$q_i=0$と定義します。今回の数分割問題は各グループの総和の差が$0$になることが目標であるため、制約条件として以下のように定式化します。\n",
    "\n",
    "$$ \\sum_{i=1}^N w_i q_i- \\sum_{i=1}^N w_i \\left(1 - q_i \\right) = 0 $$\n",
    "\n",
    "左辺第一項はグループ$A$の総和、左辺第二項はグループ$B$の総和を表しています。よって数分割問題に対するQUBO(Quadratic Unconstrained Binary Optimization)は以下のようになります。\n",
    "\n",
    "$$\n",
    "H \\left(q \\right) = \\left( \\sum_{i=1}^N w_i q_i- \\sum_{i=1}^N w_i \\left(1 - q_i \\right) \\right)^2 = \\left( 2 \\sum_{i=1}^N w_i q_i - \\sum_{i=1}^N w_i \\right)^2\n",
    "\\\\= 4 \\sum_{i=1}^N w_i \\left(w_i - \\sum_{j=1}^N w_j \\right)q_i + 8 \\sum_{i=1}^N \\sum_{j=1}^N w_i w_j q_i q_j + \\left( \\sum_{i=1}^N w_i \\right)^2  \n",
    "$$\n",
    "\n",
    "なお、上式右辺第三項は定数で$q$に依存しない定数であるため、$H(q)$の最小値を考えるうえで無視することができます。"
   ],
   "metadata": {
    "id": "60laHmy-8fc1"
   }
  },
  {
   "cell_type": "markdown",
   "source": [
    "以下では実際にQUBOを作成します。"
   ],
   "metadata": {
    "id": "S0Ra2_vt-Tyl"
   }
  },
  {
   "cell_type": "code",
   "source": [
    "Q = {}\n",
    "for i in range(N):\n",
    "    Q[i, i] = 4 * W[i] * (W[i] - sum(W))\n",
    "    for j in range(i + 1, N):\n",
    "        Q[i, j] = 8 * W[i] * W[j]"
   ],
   "metadata": {
    "id": "QaXONpVI-JrM"
   },
   "execution_count": null,
   "outputs": []
  },
  {
   "cell_type": "markdown",
   "source": [
    "ここで、作成したQUBOを可視化してみます。"
   ],
   "metadata": {
    "id": "XqW9f6yp-VOa"
   }
  },
  {
   "cell_type": "code",
   "source": [
    "def show_qubo(qubo, cmap=cm.GnBu, save_path=None):\n",
    "    n_qubo = (\n",
    "        max(sorted(qubo.keys())[-1][0], sorted(qubo.keys(), key=lambda x: x[1])[-1][1])\n",
    "        + 1\n",
    "    )\n",
    "\n",
    "    np_qubo = np.zeros((n_qubo, n_qubo))\n",
    "    for (pos_x, pos_y), coeff in qubo.items():\n",
    "        np_qubo[pos_x][pos_y] = coeff\n",
    "\n",
    "    plt.imshow(np_qubo, cmap=cmap)\n",
    "    plt.colorbar()\n",
    "\n",
    "    if save_path is not None:\n",
    "        plt.savefig(save_path)\n",
    "\n",
    "    plt.show()"
   ],
   "metadata": {
    "id": "QggTaTGs-asA"
   },
   "execution_count": null,
   "outputs": []
  },
  {
   "cell_type": "code",
   "source": [
    "show_qubo(Q)"
   ],
   "metadata": {
    "colab": {
     "base_uri": "https://localhost:8080/",
     "height": 430
    },
    "id": "iB5zmz0L_7fj",
    "executionInfo": {
     "status": "ok",
     "timestamp": 1695713669506,
     "user_tz": -540,
     "elapsed": 358,
     "user": {
      "displayName": "岡田朋久",
      "userId": "10767899446766232866"
     }
    },
    "outputId": "f3916ea7-2d69-421c-bbcb-11b56322105c"
   },
   "execution_count": null,
   "outputs": [
    {
     "output_type": "display_data",
     "data": {
      "text/plain": [
       "<Figure size 640x480 with 2 Axes>"
      ],
      "image/png": "[encoded data removed]"
     },
     "metadata": {}
    }
   ]
  },
  {
   "cell_type": "markdown",
   "source": [
    "これを量子アニーリングマシンに入力し、得られたエネルギーから最適解を見つけます。\n",
    "\n",
    "まず初めに、先程作成したQUBOをD-Waveに入力します。最初に作成した[D-Wave Leap](https://cloud.dwavesys.com/leap/)のアカウントの接続情報を用いてください。"
   ],
   "metadata": {
    "id": "25xD0x7oA4y0"
   }
  },
  {
   "cell_type": "code",
   "source": [
    "# 接続情報\n",
    "endpoint = \"https://cloud.dwavesys.com/sapi\"\n",
    "token = \"YOUR_TOKEN\"\n",
    "solver = \"Advantage_system6.2\"\n",
    "\n",
    "dw = DWaveSampler(endpoint=endpoint, token=token, solver=solver)\n",
    "\n",
    "# D-Waveマシンのハードウェアグラフに埋め込みを行う\n",
    "sampler = EmbeddingComposite(dw)\n",
    "\n",
    "# 一度に取得するサンプル数\n",
    "num_reads = 300\n",
    "\n",
    "# D-Waveマシンのアニーリング時間\n",
    "annealing_time = 20\n",
    "\n",
    "# D-Waveマシンによるサンプリングを実行する\n",
    "response_DW = sampler.sample_qubo(Q, num_reads=num_reads, annealing_time=annealing_time)"
   ],
   "metadata": {
    "id": "I96FnlANBG_b",
    "colab": {
     "base_uri": "https://localhost:8080/",
     "height": 405
    },
    "executionInfo": {
     "status": "error",
     "timestamp": 1695713670098,
     "user_tz": -540,
     "elapsed": 596,
     "user": {
      "displayName": "岡田朋久",
      "userId": "10767899446766232866"
     }
    },
    "outputId": "707edcd2-9f3c-464e-9382-8a14eb1201b7"
   },
   "execution_count": null,
   "outputs": [
    {
     "output_type": "error",
     "ename": "SolverAuthenticationError",
     "evalue": "ignored",
     "traceback": [
      "\u001b[0;31m---------------------------------------------------------------------------\u001b[0m",
      "\u001b[0;31mSolverAuthenticationError\u001b[0m                 Traceback (most recent call last)",
      "\u001b[0;32m<ipython-input-15-af823141873d>\u001b[0m in \u001b[0;36m<cell line: 6>\u001b[0;34m()\u001b[0m\n\u001b[1;32m      4\u001b[0m \u001b[0msolver\u001b[0m \u001b[0;34m=\u001b[0m \u001b[0;34m'Advantage_system6.2'\u001b[0m\u001b[0;34m\u001b[0m\u001b[0;34m\u001b[0m\u001b[0m\n\u001b[1;32m      5\u001b[0m \u001b[0;34m\u001b[0m\u001b[0m\n\u001b[0;32m----> 6\u001b[0;31m \u001b[0mdw\u001b[0m \u001b[0;34m=\u001b[0m \u001b[0mDWaveSampler\u001b[0m\u001b[0;34m(\u001b[0m\u001b[0mendpoint\u001b[0m\u001b[0;34m=\u001b[0m\u001b[0mendpoint\u001b[0m\u001b[0;34m,\u001b[0m \u001b[0mtoken\u001b[0m\u001b[0;34m=\u001b[0m\u001b[0mtoken\u001b[0m\u001b[0;34m,\u001b[0m \u001b[0msolver\u001b[0m\u001b[0;34m=\u001b[0m\u001b[0msolver\u001b[0m\u001b[0;34m)\u001b[0m\u001b[0;34m\u001b[0m\u001b[0;34m\u001b[0m\u001b[0m\n\u001b[0m\u001b[1;32m      7\u001b[0m \u001b[0;34m\u001b[0m\u001b[0m\n\u001b[1;32m      8\u001b[0m \u001b[0;31m# D-Waveマシンのハードウェアグラフに埋め込みを行う\u001b[0m\u001b[0;34m\u001b[0m\u001b[0;34m\u001b[0m\u001b[0m\n",
      "\u001b[0;32m/usr/local/lib/python3.10/dist-packages/dwave/system/samplers/dwave_sampler.py\u001b[0m in \u001b[0;36m__init__\u001b[0;34m(self, failover, retry_interval, **config)\u001b[0m\n\u001b[1;32m    183\u001b[0m \u001b[0;34m\u001b[0m\u001b[0m\n\u001b[1;32m    184\u001b[0m         \u001b[0mself\u001b[0m\u001b[0;34m.\u001b[0m\u001b[0mclient\u001b[0m \u001b[0;34m=\u001b[0m \u001b[0mClient\u001b[0m\u001b[0;34m.\u001b[0m\u001b[0mfrom_config\u001b[0m\u001b[0;34m(\u001b[0m\u001b[0;34m**\u001b[0m\u001b[0mconfig\u001b[0m\u001b[0;34m)\u001b[0m\u001b[0;34m\u001b[0m\u001b[0;34m\u001b[0m\u001b[0m\n\u001b[0;32m--> 185\u001b[0;31m         \u001b[0mself\u001b[0m\u001b[0;34m.\u001b[0m\u001b[0msolver\u001b[0m \u001b[0;34m=\u001b[0m \u001b[0mself\u001b[0m\u001b[0;34m.\u001b[0m\u001b[0m_get_solver\u001b[0m\u001b[0;34m(\u001b[0m\u001b[0mpenalty\u001b[0m\u001b[0;34m=\u001b[0m\u001b[0mself\u001b[0m\u001b[0;34m.\u001b[0m\u001b[0m_solver_penalty\u001b[0m\u001b[0;34m)\u001b[0m\u001b[0;34m\u001b[0m\u001b[0;34m\u001b[0m\u001b[0m\n\u001b[0m\u001b[1;32m    186\u001b[0m \u001b[0;34m\u001b[0m\u001b[0m\n\u001b[1;32m    187\u001b[0m     \u001b[0;32mdef\u001b[0m \u001b[0m_get_solver\u001b[0m\u001b[0;34m(\u001b[0m\u001b[0mself\u001b[0m\u001b[0;34m,\u001b[0m \u001b[0;34m*\u001b[0m\u001b[0;34m,\u001b[0m \u001b[0mrefresh\u001b[0m\u001b[0;34m:\u001b[0m \u001b[0mbool\u001b[0m \u001b[0;34m=\u001b[0m \u001b[0;32mFalse\u001b[0m\u001b[0;34m,\u001b[0m \u001b[0mpenalty\u001b[0m\u001b[0;34m:\u001b[0m \u001b[0mOptional\u001b[0m\u001b[0;34m[\u001b[0m\u001b[0mDict\u001b[0m\u001b[0;34m[\u001b[0m\u001b[0mstr\u001b[0m\u001b[0;34m,\u001b[0m \u001b[0mint\u001b[0m\u001b[0;34m]\u001b[0m\u001b[0;34m]\u001b[0m \u001b[0;34m=\u001b[0m \u001b[0;32mNone\u001b[0m\u001b[0;34m)\u001b[0m\u001b[0;34m:\u001b[0m\u001b[0;34m\u001b[0m\u001b[0;34m\u001b[0m\u001b[0m\n",
      "\u001b[0;32m/usr/local/lib/python3.10/dist-packages/dwave/system/samplers/dwave_sampler.py\u001b[0m in \u001b[0;36m_get_solver\u001b[0;34m(self, refresh, penalty)\u001b[0m\n\u001b[1;32m    198\u001b[0m         \u001b[0mfilters\u001b[0m \u001b[0;34m=\u001b[0m \u001b[0mcopy\u001b[0m\u001b[0;34m.\u001b[0m\u001b[0mdeepcopy\u001b[0m\u001b[0;34m(\u001b[0m\u001b[0mself\u001b[0m\u001b[0;34m.\u001b[0m\u001b[0mclient\u001b[0m\u001b[0;34m.\u001b[0m\u001b[0mdefault_solver\u001b[0m\u001b[0;34m)\u001b[0m\u001b[0;34m\u001b[0m\u001b[0;34m\u001b[0m\u001b[0m\n\u001b[1;32m    199\u001b[0m         \u001b[0morder_by\u001b[0m \u001b[0;34m=\u001b[0m \u001b[0mfilters\u001b[0m\u001b[0;34m.\u001b[0m\u001b[0mpop\u001b[0m\u001b[0;34m(\u001b[0m\u001b[0;34m'order_by'\u001b[0m\u001b[0;34m,\u001b[0m \u001b[0;34m'avg_load'\u001b[0m\u001b[0;34m)\u001b[0m\u001b[0;34m\u001b[0m\u001b[0;34m\u001b[0m\u001b[0m\n\u001b[0;32m--> 200\u001b[0;31m         \u001b[0msolvers\u001b[0m \u001b[0;34m=\u001b[0m \u001b[0mself\u001b[0m\u001b[0;34m.\u001b[0m\u001b[0mclient\u001b[0m\u001b[0;34m.\u001b[0m\u001b[0mget_solvers\u001b[0m\u001b[0;34m(\u001b[0m\u001b[0mrefresh\u001b[0m\u001b[0;34m=\u001b[0m\u001b[0mrefresh\u001b[0m\u001b[0;34m,\u001b[0m \u001b[0morder_by\u001b[0m\u001b[0;34m=\u001b[0m\u001b[0morder_by\u001b[0m\u001b[0;34m,\u001b[0m \u001b[0;34m**\u001b[0m\u001b[0mfilters\u001b[0m\u001b[0;34m)\u001b[0m\u001b[0;34m\u001b[0m\u001b[0;34m\u001b[0m\u001b[0m\n\u001b[0m\u001b[1;32m    201\u001b[0m \u001b[0;34m\u001b[0m\u001b[0m\n\u001b[1;32m    202\u001b[0m         \u001b[0;31m# we now just need to de-prioritize penalized solvers\u001b[0m\u001b[0;34m\u001b[0m\u001b[0;34m\u001b[0m\u001b[0m\n",
      "\u001b[0;32m/usr/local/lib/python3.10/dist-packages/dwave/cloud/events.py\u001b[0m in \u001b[0;36mwrapped\u001b[0;34m(*pargs, **kwargs)\u001b[0m\n\u001b[1;32m    103\u001b[0m             \u001b[0mdispatch_event\u001b[0m\u001b[0;34m(\u001b[0m\u001b[0mself\u001b[0m\u001b[0;34m.\u001b[0m\u001b[0mbefore_eventname\u001b[0m\u001b[0;34m,\u001b[0m \u001b[0mobj\u001b[0m\u001b[0;34m=\u001b[0m\u001b[0mobj\u001b[0m\u001b[0;34m,\u001b[0m \u001b[0margs\u001b[0m\u001b[0;34m=\u001b[0m\u001b[0margs\u001b[0m\u001b[0;34m)\u001b[0m\u001b[0;34m\u001b[0m\u001b[0;34m\u001b[0m\u001b[0m\n\u001b[1;32m    104\u001b[0m             \u001b[0;32mtry\u001b[0m\u001b[0;34m:\u001b[0m\u001b[0;34m\u001b[0m\u001b[0;34m\u001b[0m\u001b[0m\n\u001b[0;32m--> 105\u001b[0;31m                 \u001b[0mrval\u001b[0m \u001b[0;34m=\u001b[0m \u001b[0mfn\u001b[0m\u001b[0;34m(\u001b[0m\u001b[0;34m*\u001b[0m\u001b[0mpargs\u001b[0m\u001b[0;34m,\u001b[0m \u001b[0;34m**\u001b[0m\u001b[0mkwargs\u001b[0m\u001b[0;34m)\u001b[0m\u001b[0;34m\u001b[0m\u001b[0;34m\u001b[0m\u001b[0m\n\u001b[0m\u001b[1;32m    106\u001b[0m             \u001b[0;32mexcept\u001b[0m \u001b[0mException\u001b[0m \u001b[0;32mas\u001b[0m \u001b[0mexc\u001b[0m\u001b[0;34m:\u001b[0m\u001b[0;34m\u001b[0m\u001b[0;34m\u001b[0m\u001b[0m\n\u001b[1;32m    107\u001b[0m                 \u001b[0mdispatch_event\u001b[0m\u001b[0;34m(\u001b[0m\u001b[0mself\u001b[0m\u001b[0;34m.\u001b[0m\u001b[0mafter_eventname\u001b[0m\u001b[0;34m,\u001b[0m \u001b[0mobj\u001b[0m\u001b[0;34m=\u001b[0m\u001b[0mobj\u001b[0m\u001b[0;34m,\u001b[0m \u001b[0margs\u001b[0m\u001b[0;34m=\u001b[0m\u001b[0margs\u001b[0m\u001b[0;34m,\u001b[0m \u001b[0mexception\u001b[0m\u001b[0;34m=\u001b[0m\u001b[0mexc\u001b[0m\u001b[0;34m)\u001b[0m\u001b[0;34m\u001b[0m\u001b[0;34m\u001b[0m\u001b[0m\n",
      "\u001b[0;32m/usr/local/lib/python3.10/dist-packages/dwave/cloud/client/base.py\u001b[0m in \u001b[0;36mget_solvers\u001b[0;34m(self, refresh, order_by, **filters)\u001b[0m\n\u001b[1;32m   1163\u001b[0m \u001b[0;34m\u001b[0m\u001b[0m\n\u001b[1;32m   1164\u001b[0m         \u001b[0;31m# filter\u001b[0m\u001b[0;34m\u001b[0m\u001b[0;34m\u001b[0m\u001b[0m\n\u001b[0;32m-> 1165\u001b[0;31m         \u001b[0msolvers\u001b[0m \u001b[0;34m=\u001b[0m \u001b[0mself\u001b[0m\u001b[0;34m.\u001b[0m\u001b[0m_fetch_solvers\u001b[0m\u001b[0;34m(\u001b[0m\u001b[0;34m**\u001b[0m\u001b[0mquery\u001b[0m\u001b[0;34m)\u001b[0m\u001b[0;34m\u001b[0m\u001b[0;34m\u001b[0m\u001b[0m\n\u001b[0m\u001b[1;32m   1166\u001b[0m         \u001b[0msolvers\u001b[0m \u001b[0;34m=\u001b[0m \u001b[0;34m[\u001b[0m\u001b[0ms\u001b[0m \u001b[0;32mfor\u001b[0m \u001b[0ms\u001b[0m \u001b[0;32min\u001b[0m \u001b[0msolvers\u001b[0m \u001b[0;32mif\u001b[0m \u001b[0mall\u001b[0m\u001b[0;34m(\u001b[0m\u001b[0mp\u001b[0m\u001b[0;34m(\u001b[0m\u001b[0ms\u001b[0m\u001b[0;34m)\u001b[0m \u001b[0;32mfor\u001b[0m \u001b[0mp\u001b[0m \u001b[0;32min\u001b[0m \u001b[0mpredicates\u001b[0m\u001b[0;34m)\u001b[0m\u001b[0;34m]\u001b[0m\u001b[0;34m\u001b[0m\u001b[0;34m\u001b[0m\u001b[0m\n\u001b[1;32m   1167\u001b[0m \u001b[0;34m\u001b[0m\u001b[0m\n",
      "\u001b[0;32m/usr/local/lib/python3.10/dist-packages/dwave/cloud/utils.py\u001b[0m in \u001b[0;36mwrapper\u001b[0;34m(*args, **kwargs)\u001b[0m\n\u001b[1;32m    487\u001b[0m                 \u001b[0mval\u001b[0m \u001b[0;34m=\u001b[0m \u001b[0mdata\u001b[0m\u001b[0;34m.\u001b[0m\u001b[0mget\u001b[0m\u001b[0;34m(\u001b[0m\u001b[0;34m'val'\u001b[0m\u001b[0;34m)\u001b[0m\u001b[0;34m\u001b[0m\u001b[0;34m\u001b[0m\u001b[0m\n\u001b[1;32m    488\u001b[0m             \u001b[0;32melse\u001b[0m\u001b[0;34m:\u001b[0m\u001b[0;34m\u001b[0m\u001b[0;34m\u001b[0m\u001b[0m\n\u001b[0;32m--> 489\u001b[0;31m                 \u001b[0mval\u001b[0m \u001b[0;34m=\u001b[0m \u001b[0mfn\u001b[0m\u001b[0;34m(\u001b[0m\u001b[0;34m*\u001b[0m\u001b[0margs\u001b[0m\u001b[0;34m,\u001b[0m \u001b[0;34m**\u001b[0m\u001b[0mkwargs\u001b[0m\u001b[0;34m)\u001b[0m\u001b[0;34m\u001b[0m\u001b[0;34m\u001b[0m\u001b[0m\n\u001b[0m\u001b[1;32m    490\u001b[0m                 \u001b[0mself\u001b[0m\u001b[0;34m.\u001b[0m\u001b[0mcache\u001b[0m\u001b[0;34m[\u001b[0m\u001b[0mkey\u001b[0m\u001b[0;34m]\u001b[0m \u001b[0;34m=\u001b[0m \u001b[0mdict\u001b[0m\u001b[0;34m(\u001b[0m\u001b[0mexpires\u001b[0m\u001b[0;34m=\u001b[0m\u001b[0mnow\u001b[0m\u001b[0;34m+\u001b[0m\u001b[0mself\u001b[0m\u001b[0;34m.\u001b[0m\u001b[0mmaxage\u001b[0m\u001b[0;34m,\u001b[0m \u001b[0mval\u001b[0m\u001b[0;34m=\u001b[0m\u001b[0mval\u001b[0m\u001b[0;34m)\u001b[0m\u001b[0;34m\u001b[0m\u001b[0;34m\u001b[0m\u001b[0m\n\u001b[1;32m    491\u001b[0m \u001b[0;34m\u001b[0m\u001b[0m\n",
      "\u001b[0;32m/usr/local/lib/python3.10/dist-packages/dwave/cloud/client/base.py\u001b[0m in \u001b[0;36m_fetch_solvers\u001b[0;34m(self, name)\u001b[0m\n\u001b[1;32m    800\u001b[0m \u001b[0;34m\u001b[0m\u001b[0m\n\u001b[1;32m    801\u001b[0m         \u001b[0;32mtry\u001b[0m\u001b[0;34m:\u001b[0m\u001b[0;34m\u001b[0m\u001b[0;34m\u001b[0m\u001b[0m\n\u001b[0;32m--> 802\u001b[0;31m             \u001b[0mdata\u001b[0m \u001b[0;34m=\u001b[0m \u001b[0mClient\u001b[0m\u001b[0;34m.\u001b[0m\u001b[0m_sapi_request\u001b[0m\u001b[0;34m(\u001b[0m\u001b[0mself\u001b[0m\u001b[0;34m.\u001b[0m\u001b[0msession\u001b[0m\u001b[0;34m.\u001b[0m\u001b[0mget\u001b[0m\u001b[0;34m,\u001b[0m \u001b[0murl\u001b[0m\u001b[0;34m)\u001b[0m\u001b[0;34m\u001b[0m\u001b[0;34m\u001b[0m\u001b[0m\n\u001b[0m\u001b[1;32m    803\u001b[0m         \u001b[0;32mexcept\u001b[0m \u001b[0mSAPIError\u001b[0m \u001b[0;32mas\u001b[0m \u001b[0mexc\u001b[0m\u001b[0;34m:\u001b[0m\u001b[0;34m\u001b[0m\u001b[0;34m\u001b[0m\u001b[0m\n\u001b[1;32m    804\u001b[0m             \u001b[0;32mif\u001b[0m \u001b[0mname\u001b[0m \u001b[0;32mis\u001b[0m \u001b[0;32mnot\u001b[0m \u001b[0;32mNone\u001b[0m \u001b[0;32mand\u001b[0m \u001b[0mexc\u001b[0m\u001b[0;34m.\u001b[0m\u001b[0merror_code\u001b[0m \u001b[0;34m==\u001b[0m \u001b[0;36m404\u001b[0m\u001b[0;34m:\u001b[0m\u001b[0;34m\u001b[0m\u001b[0;34m\u001b[0m\u001b[0m\n",
      "\u001b[0;32m/usr/local/lib/python3.10/dist-packages/dwave/cloud/client/base.py\u001b[0m in \u001b[0;36m_sapi_request\u001b[0;34m(meth, *args, **kwargs)\u001b[0m\n\u001b[1;32m   1791\u001b[0m         \u001b[0;32melse\u001b[0m\u001b[0;34m:\u001b[0m\u001b[0;34m\u001b[0m\u001b[0;34m\u001b[0m\u001b[0m\n\u001b[1;32m   1792\u001b[0m             \u001b[0;32mif\u001b[0m \u001b[0mresponse\u001b[0m\u001b[0;34m.\u001b[0m\u001b[0mstatus_code\u001b[0m \u001b[0;34m==\u001b[0m \u001b[0;36m401\u001b[0m\u001b[0;34m:\u001b[0m\u001b[0;34m\u001b[0m\u001b[0;34m\u001b[0m\u001b[0m\n\u001b[0;32m-> 1793\u001b[0;31m                 \u001b[0;32mraise\u001b[0m \u001b[0mSolverAuthenticationError\u001b[0m\u001b[0;34m(\u001b[0m\u001b[0merror_code\u001b[0m\u001b[0;34m=\u001b[0m\u001b[0;36m401\u001b[0m\u001b[0;34m)\u001b[0m\u001b[0;34m\u001b[0m\u001b[0;34m\u001b[0m\u001b[0m\n\u001b[0m\u001b[1;32m   1794\u001b[0m \u001b[0;34m\u001b[0m\u001b[0m\n\u001b[1;32m   1795\u001b[0m             \u001b[0;32mtry\u001b[0m\u001b[0;34m:\u001b[0m\u001b[0;34m\u001b[0m\u001b[0;34m\u001b[0m\u001b[0m\n",
      "\u001b[0;31mSolverAuthenticationError\u001b[0m: Invalid token or access denied"
     ]
    }
   ]
  },
  {
   "cell_type": "markdown",
   "source": [
    "次に、アニーリングマシンから返された計算結果を表示します。"
   ],
   "metadata": {
    "id": "85EQy9XoCF6a"
   }
  },
  {
   "cell_type": "code",
   "source": [
    "response_DW.to_pandas_dataframe().head()"
   ],
   "metadata": {
    "colab": {
     "base_uri": "https://localhost:8080/",
     "height": 236
    },
    "id": "Yq7fdDPvCgAH",
    "executionInfo": {
     "status": "ok",
     "timestamp": 1691908999505,
     "user_tz": -540,
     "elapsed": 1253,
     "user": {
      "displayName": "丸山尚貴",
      "userId": "01785070009045385802"
     }
    },
    "outputId": "c2284675-d2be-40a4-dd4a-8c238f6ef64f"
   },
   "execution_count": null,
   "outputs": [
    {
     "output_type": "execute_result",
     "data": {
      "text/plain": [
       "   0  1  2  3  4  5  6  7  8  9  ...  13  14  15  16  17  18  19  \\\n",
       "0  1  1  0  0  0  1  0  1  0  0  ...   1   0   0   1   1   1   1   \n",
       "1  0  0  1  1  1  1  1  0  1  1  ...   0   1   1   0   0   0   0   \n",
       "2  0  0  1  1  1  1  1  0  1  1  ...   0   1   1   0   0   0   0   \n",
       "3  1  1  0  1  0  1  0  1  0  0  ...   1   0   0   1   1   1   1   \n",
       "4  0  0  0  1  1  1  1  0  1  1  ...   0   1   1   0   0   0   0   \n",
       "\n",
       "   chain_break_fraction   energy  num_occurrences  \n",
       "0                  0.20 -40656.0                7  \n",
       "1                  0.20 -41944.0                3  \n",
       "2                  0.15 -41944.0                1  \n",
       "3                  0.25 -39000.0                6  \n",
       "4                  0.20 -42024.0                3  \n",
       "\n",
       "[5 rows x 23 columns]"
      ],
      "text/html": [
       "\n",
       "\n",
       "  <div id=\"df-8052fab1-031c-4f58-a89b-247db19a6577\">\n",
       "    <div class=\"colab-df-container\">\n",
       "      <div>\n",
       "<style scoped>\n",
       "    .dataframe tbody tr th:only-of-type {\n",
       "        vertical-align: middle;\n",
       "    }\n",
       "\n",
       "    .dataframe tbody tr th {\n",
       "        vertical-align: top;\n",
       "    }\n",
       "\n",
       "    .dataframe thead th {\n",
       "        text-align: right;\n",
       "    }\n",
       "</style>\n",
       "<table border=\"1\" class=\"dataframe\">\n",
       "  <thead>\n",
       "    <tr style=\"text-align: right;\">\n",
       "      <th></th>\n",
       "      <th>0</th>\n",
       "      <th>1</th>\n",
       "      <th>2</th>\n",
       "      <th>3</th>\n",
       "      <th>4</th>\n",
       "      <th>5</th>\n",
       "      <th>6</th>\n",
       "      <th>7</th>\n",
       "      <th>8</th>\n",
       "      <th>9</th>\n",
       "      <th>...</th>\n",
       "      <th>13</th>\n",
       "      <th>14</th>\n",
       "      <th>15</th>\n",
       "      <th>16</th>\n",
       "      <th>17</th>\n",
       "      <th>18</th>\n",
       "      <th>19</th>\n",
       "      <th>chain_break_fraction</th>\n",
       "      <th>energy</th>\n",
       "      <th>num_occurrences</th>\n",
       "    </tr>\n",
       "  </thead>\n",
       "  <tbody>\n",
       "    <tr>\n",
       "      <th>0</th>\n",
       "      <td>1</td>\n",
       "      <td>1</td>\n",
       "      <td>0</td>\n",
       "      <td>0</td>\n",
       "      <td>0</td>\n",
       "      <td>1</td>\n",
       "      <td>0</td>\n",
       "      <td>1</td>\n",
       "      <td>0</td>\n",
       "      <td>0</td>\n",
       "      <td>...</td>\n",
       "      <td>1</td>\n",
       "      <td>0</td>\n",
       "      <td>0</td>\n",
       "      <td>1</td>\n",
       "      <td>1</td>\n",
       "      <td>1</td>\n",
       "      <td>1</td>\n",
       "      <td>0.20</td>\n",
       "      <td>-40656.0</td>\n",
       "      <td>7</td>\n",
       "    </tr>\n",
       "    <tr>\n",
       "      <th>1</th>\n",
       "      <td>0</td>\n",
       "      <td>0</td>\n",
       "      <td>1</td>\n",
       "      <td>1</td>\n",
       "      <td>1</td>\n",
       "      <td>1</td>\n",
       "      <td>1</td>\n",
       "      <td>0</td>\n",
       "      <td>1</td>\n",
       "      <td>1</td>\n",
       "      <td>...</td>\n",
       "      <td>0</td>\n",
       "      <td>1</td>\n",
       "      <td>1</td>\n",
       "      <td>0</td>\n",
       "      <td>0</td>\n",
       "      <td>0</td>\n",
       "      <td>0</td>\n",
       "      <td>0.20</td>\n",
       "      <td>-41944.0</td>\n",
       "      <td>3</td>\n",
       "    </tr>\n",
       "    <tr>\n",
       "      <th>2</th>\n",
       "      <td>0</td>\n",
       "      <td>0</td>\n",
       "      <td>1</td>\n",
       "      <td>1</td>\n",
       "      <td>1</td>\n",
       "      <td>1</td>\n",
       "      <td>1</td>\n",
       "      <td>0</td>\n",
       "      <td>1</td>\n",
       "      <td>1</td>\n",
       "      <td>...</td>\n",
       "      <td>0</td>\n",
       "      <td>1</td>\n",
       "      <td>1</td>\n",
       "      <td>0</td>\n",
       "      <td>0</td>\n",
       "      <td>0</td>\n",
       "      <td>0</td>\n",
       "      <td>0.15</td>\n",
       "      <td>-41944.0</td>\n",
       "      <td>1</td>\n",
       "    </tr>\n",
       "    <tr>\n",
       "      <th>3</th>\n",
       "      <td>1</td>\n",
       "      <td>1</td>\n",
       "      <td>0</td>\n",
       "      <td>1</td>\n",
       "      <td>0</td>\n",
       "      <td>1</td>\n",
       "      <td>0</td>\n",
       "      <td>1</td>\n",
       "      <td>0</td>\n",
       "      <td>0</td>\n",
       "      <td>...</td>\n",
       "      <td>1</td>\n",
       "      <td>0</td>\n",
       "      <td>0</td>\n",
       "      <td>1</td>\n",
       "      <td>1</td>\n",
       "      <td>1</td>\n",
       "      <td>1</td>\n",
       "      <td>0.25</td>\n",
       "      <td>-39000.0</td>\n",
       "      <td>6</td>\n",
       "    </tr>\n",
       "    <tr>\n",
       "      <th>4</th>\n",
       "      <td>0</td>\n",
       "      <td>0</td>\n",
       "      <td>0</td>\n",
       "      <td>1</td>\n",
       "      <td>1</td>\n",
       "      <td>1</td>\n",
       "      <td>1</td>\n",
       "      <td>0</td>\n",
       "      <td>1</td>\n",
       "      <td>1</td>\n",
       "      <td>...</td>\n",
       "      <td>0</td>\n",
       "      <td>1</td>\n",
       "      <td>1</td>\n",
       "      <td>0</td>\n",
       "      <td>0</td>\n",
       "      <td>0</td>\n",
       "      <td>0</td>\n",
       "      <td>0.20</td>\n",
       "      <td>-42024.0</td>\n",
       "      <td>3</td>\n",
       "    </tr>\n",
       "  </tbody>\n",
       "</table>\n",
       "<p>5 rows × 23 columns</p>\n",
       "</div>\n",
       "      <button class=\"colab-df-convert\" onclick=\"convertToInteractive('df-8052fab1-031c-4f58-a89b-247db19a6577')\"\n",
       "              title=\"Convert this dataframe to an interactive table.\"\n",
       "              style=\"display:none;\">\n",
       "\n",
       "  <svg xmlns=\"http://www.w3.org/2000/svg\" height=\"24px\"viewBox=\"0 0 24 24\"\n",
       "       width=\"24px\">\n",
       "    <path d=\"M0 0h24v24H0V0z\" fill=\"none\"/>\n",
       "    <path d=\"M18.56 5.44l.94 2.06.94-2.06 2.06-.94-2.06-.94-.94-2.06-.94 2.06-2.06.94zm-11 1L8.5 8.5l.94-2.06 2.06-.94-2.06-.94L8.5 2.5l-.94 2.06-2.06.94zm10 10l.94 2.06.94-2.06 2.06-.94-2.06-.94-.94-2.06-.94 2.06-2.06.94z\"/><path d=\"M17.41 7.96l-1.37-1.37c-.4-.4-.92-.59-1.43-.59-.52 0-1.04.2-1.43.59L10.3 9.45l-7.72 7.72c-.78.78-.78 2.05 0 2.83L4 21.41c.39.39.9.59 1.41.59.51 0 1.02-.2 1.41-.59l7.78-7.78 2.81-2.81c.8-.78.8-2.07 0-2.86zM5.41 20L4 18.59l7.72-7.72 1.47 1.35L5.41 20z\"/>\n",
       "  </svg>\n",
       "      </button>\n",
       "\n",
       "\n",
       "\n",
       "    <div id=\"df-6fb185e4-339f-4dfd-8dc4-06daa5a7891d\">\n",
       "      <button class=\"colab-df-quickchart\" onclick=\"quickchart('df-6fb185e4-339f-4dfd-8dc4-06daa5a7891d')\"\n",
       "              title=\"Suggest charts.\"\n",
       "              style=\"display:none;\">\n",
       "\n",
       "<svg xmlns=\"http://www.w3.org/2000/svg\" height=\"24px\"viewBox=\"0 0 24 24\"\n",
       "     width=\"24px\">\n",
       "    <g>\n",
       "        <path d=\"M19 3H5c-1.1 0-2 .9-2 2v14c0 1.1.9 2 2 2h14c1.1 0 2-.9 2-2V5c0-1.1-.9-2-2-2zM9 17H7v-7h2v7zm4 0h-2V7h2v10zm4 0h-2v-4h2v4z\"/>\n",
       "    </g>\n",
       "</svg>\n",
       "      </button>\n",
       "    </div>\n",
       "\n",
       "<style>\n",
       "  .colab-df-quickchart {\n",
       "    background-color: #E8F0FE;\n",
       "    border: none;\n",
       "    border-radius: 50%;\n",
       "    cursor: pointer;\n",
       "    display: none;\n",
       "    fill: #1967D2;\n",
       "    height: 32px;\n",
       "    padding: 0 0 0 0;\n",
       "    width: 32px;\n",
       "  }\n",
       "\n",
       "  .colab-df-quickchart:hover {\n",
       "    background-color: #E2EBFA;\n",
       "    box-shadow: 0px 1px 2px rgba(60, 64, 67, 0.3), 0px 1px 3px 1px rgba(60, 64, 67, 0.15);\n",
       "    fill: #174EA6;\n",
       "  }\n",
       "\n",
       "  [theme=dark] .colab-df-quickchart {\n",
       "    background-color: #3B4455;\n",
       "    fill: #D2E3FC;\n",
       "  }\n",
       "\n",
       "  [theme=dark] .colab-df-quickchart:hover {\n",
       "    background-color: #434B5C;\n",
       "    box-shadow: 0px 1px 3px 1px rgba(0, 0, 0, 0.15);\n",
       "    filter: drop-shadow(0px 1px 2px rgba(0, 0, 0, 0.3));\n",
       "    fill: #FFFFFF;\n",
       "  }\n",
       "</style>\n",
       "\n",
       "    <script>\n",
       "      async function quickchart(key) {\n",
       "        const containerElement = document.querySelector('#' + key);\n",
       "        const charts = await google.colab.kernel.invokeFunction(\n",
       "            'suggestCharts', [key], {});\n",
       "      }\n",
       "    </script>\n",
       "\n",
       "      <script>\n",
       "\n",
       "function displayQuickchartButton(domScope) {\n",
       "  let quickchartButtonEl =\n",
       "    domScope.querySelector('#df-6fb185e4-339f-4dfd-8dc4-06daa5a7891d button.colab-df-quickchart');\n",
       "  quickchartButtonEl.style.display =\n",
       "    google.colab.kernel.accessAllowed ? 'block' : 'none';\n",
       "}\n",
       "\n",
       "        displayQuickchartButton(document);\n",
       "      </script>\n",
       "      <style>\n",
       "    .colab-df-container {\n",
       "      display:flex;\n",
       "      flex-wrap:wrap;\n",
       "      gap: 12px;\n",
       "    }\n",
       "\n",
       "    .colab-df-convert {\n",
       "      background-color: #E8F0FE;\n",
       "      border: none;\n",
       "      border-radius: 50%;\n",
       "      cursor: pointer;\n",
       "      display: none;\n",
       "      fill: #1967D2;\n",
       "      height: 32px;\n",
       "      padding: 0 0 0 0;\n",
       "      width: 32px;\n",
       "    }\n",
       "\n",
       "    .colab-df-convert:hover {\n",
       "      background-color: #E2EBFA;\n",
       "      box-shadow: 0px 1px 2px rgba(60, 64, 67, 0.3), 0px 1px 3px 1px rgba(60, 64, 67, 0.15);\n",
       "      fill: #174EA6;\n",
       "    }\n",
       "\n",
       "    [theme=dark] .colab-df-convert {\n",
       "      background-color: #3B4455;\n",
       "      fill: #D2E3FC;\n",
       "    }\n",
       "\n",
       "    [theme=dark] .colab-df-convert:hover {\n",
       "      background-color: #434B5C;\n",
       "      box-shadow: 0px 1px 3px 1px rgba(0, 0, 0, 0.15);\n",
       "      filter: drop-shadow(0px 1px 2px rgba(0, 0, 0, 0.3));\n",
       "      fill: #FFFFFF;\n",
       "    }\n",
       "  </style>\n",
       "\n",
       "      <script>\n",
       "        const buttonEl =\n",
       "          document.querySelector('#df-8052fab1-031c-4f58-a89b-247db19a6577 button.colab-df-convert');\n",
       "        buttonEl.style.display =\n",
       "          google.colab.kernel.accessAllowed ? 'block' : 'none';\n",
       "\n",
       "        async function convertToInteractive(key) {\n",
       "          const element = document.querySelector('#df-8052fab1-031c-4f58-a89b-247db19a6577');\n",
       "          const dataTable =\n",
       "            await google.colab.kernel.invokeFunction('convertToInteractive',\n",
       "                                                     [key], {});\n",
       "          if (!dataTable) return;\n",
       "\n",
       "          const docLinkHtml = 'Like what you see? Visit the ' +\n",
       "            '<a target=\"_blank\" href=https://colab.research.google.com/notebooks/data_table.ipynb>data table notebook</a>'\n",
       "            + ' to learn more about interactive tables.';\n",
       "          element.innerHTML = '';\n",
       "          dataTable['output_type'] = 'display_data';\n",
       "          await google.colab.output.renderOutput(dataTable, element);\n",
       "          const docLink = document.createElement('div');\n",
       "          docLink.innerHTML = docLinkHtml;\n",
       "          element.appendChild(docLink);\n",
       "        }\n",
       "      </script>\n",
       "    </div>\n",
       "  </div>\n"
      ]
     },
     "metadata": {},
     "execution_count": 16
    }
   ]
  },
  {
   "cell_type": "markdown",
   "source": [
    "さらに、アニーリングにかかった時間や通信時間を表示します。"
   ],
   "metadata": {
    "id": "qpx_HPYSCgu8"
   }
  },
  {
   "cell_type": "code",
   "source": [
    "response_DW.info"
   ],
   "metadata": {
    "colab": {
     "base_uri": "https://localhost:8080/"
    },
    "id": "k1cSIezDCuT0",
    "executionInfo": {
     "status": "ok",
     "timestamp": 1691908999506,
     "user_tz": -540,
     "elapsed": 8,
     "user": {
      "displayName": "丸山尚貴",
      "userId": "01785070009045385802"
     }
    },
    "outputId": "c703af75-899c-434c-8973-1bdc932746b0"
   },
   "execution_count": null,
   "outputs": [
    {
     "output_type": "execute_result",
     "data": {
      "text/plain": [
       "{'timing': {'qpu_sampling_time': 25896.0,\n",
       "  'qpu_anneal_time_per_sample': 20.0,\n",
       "  'qpu_readout_time_per_sample': 45.78,\n",
       "  'qpu_access_time': 41822.77,\n",
       "  'qpu_access_overhead_time': 815.23,\n",
       "  'qpu_programming_time': 15926.77,\n",
       "  'qpu_delay_time_per_sample': 20.54,\n",
       "  'post_processing_overhead_time': 1820.0,\n",
       "  'total_post_processing_time': 1820.0},\n",
       " 'problem_id': 'c66de046-b25c-48af-ab8c-40ca0194e266'}"
      ]
     },
     "metadata": {},
     "execution_count": 17
    }
   ]
  },
  {
   "cell_type": "markdown",
   "source": [
    "続いてアニーリングマシンから返された情報から、各結果のエネルギーを比較し最適解を取り出します。\n",
    "\n",
    "具体的には、アニーリングマシンが返したすべての解について、そのグループ分けの際の差を計算することで最適解を取り出します。今回は5.1.で用いたビット全探索によって最適解が分かっているため、それを参考にアニーリングマシンによる最適解を抽出します。なお、この方法ではアニーリングマシンが最適解ではなく近似解のみを導出した際に問題が発生します。\n",
    "\n",
    "そこで最適化も含めて取り出すために、アニーリングマシンが返した全ての結果のエネルギーを比較し、最もエネルギーが低かったものを近似解として出力します。"
   ],
   "metadata": {
    "id": "lWccaOegCy8o"
   }
  },
  {
   "cell_type": "code",
   "source": [
    "# アニーリングマシンから返された結果のエネルギーを計算する関数\n",
    "def calculate_energy(solution):\n",
    "    Ene = sum(W) ** 2\n",
    "    for i in range(N):\n",
    "        Ene += Q[i, i] * solution[i]\n",
    "        for j in range(i + 1, N):\n",
    "            Ene += Q[i, j] * solution[i] * solution[j]\n",
    "    return Ene"
   ],
   "metadata": {
    "id": "DmltfVut816z"
   },
   "execution_count": null,
   "outputs": []
  },
  {
   "cell_type": "code",
   "source": [
    "# 最適解と近似解の個数をカウントする関数\n",
    "def count_solutions(response):\n",
    "    # 最適解と近似解の個数\n",
    "    num_optimal_sol = 0\n",
    "    num_approx_sol = 0\n",
    "\n",
    "    # 最適解と近似解\n",
    "    optimal_sol = []\n",
    "    approx_sol = []\n",
    "\n",
    "    # エネルギー\n",
    "    Energies = []\n",
    "\n",
    "    for state in response.record:\n",
    "        energy = calculate_energy(state.sample)\n",
    "\n",
    "        # 出現回数分だけエネルギーを加えることで、後で全体のエネルギー分布を把握する\n",
    "        Energies += [energy] * state.num_occurrences\n",
    "\n",
    "    # ビット全探索の結果を元に、最適解を見つける\n",
    "    for state in response.record:\n",
    "        energy = calculate_energy(state.sample)\n",
    "\n",
    "        if energy == Diff_BF:\n",
    "            num_optimal_sol += state.num_occurrences\n",
    "            optimal_sol.append(state.sample)\n",
    "\n",
    "        if energy == min(Energies):\n",
    "            num_approx_sol += state.num_occurrences\n",
    "            approx_sol.append(state.sample)\n",
    "\n",
    "    return num_optimal_sol, num_approx_sol, optimal_sol, approx_sol, Energies"
   ],
   "metadata": {
    "id": "5oiQ6pJQBc9L"
   },
   "execution_count": null,
   "outputs": []
  },
  {
   "cell_type": "code",
   "source": [
    "num_optimal_sol, num_approx_sol, optimal_sol, approx_sol, Energies = count_solutions(\n",
    "    response_DW\n",
    ")\n",
    "\n",
    "print(\"最適解（個）\\t\", num_optimal_sol)\n",
    "print(\"近似解（個）\\t\", num_approx_sol)"
   ],
   "metadata": {
    "colab": {
     "base_uri": "https://localhost:8080/"
    },
    "id": "YZN595n5meqY",
    "executionInfo": {
     "status": "ok",
     "timestamp": 1691908999506,
     "user_tz": -540,
     "elapsed": 4,
     "user": {
      "displayName": "丸山尚貴",
      "userId": "01785070009045385802"
     }
    },
    "outputId": "6e6c1987-24f6-475f-c517-2ebf304ed27d"
   },
   "execution_count": null,
   "outputs": [
    {
     "output_type": "stream",
     "name": "stdout",
     "text": [
      "最適解（個）\t 30\n",
      "近似解（個）\t 30\n"
     ]
    }
   ]
  },
  {
   "cell_type": "markdown",
   "source": [
    "後述しますが、TTSと呼ばれる指標を計算する際にここで最適解を少なくとも１つ以上出す必要があります。もし最適解が得られなかった場合は、アニーリングマシンを再度動かしてみましょう。"
   ],
   "metadata": {
    "id": "DWSEwgmPryuD"
   }
  },
  {
   "cell_type": "markdown",
   "source": [
    "得られた最適解は$0,1$の組合せが表現されているだけで、どの数値に対応しているかまでの情報を保持していないので、以下ではグループ分けの仕方とその数値を対応させます。"
   ],
   "metadata": {
    "id": "8xsIaUIhHPod"
   }
  },
  {
   "cell_type": "code",
   "source": [
    "Group_A_DW = []\n",
    "Group_B_DW = []\n",
    "\n",
    "for solution in approx_sol:\n",
    "    Group_A = np.zeros(N)\n",
    "    Group_B = np.zeros(N)\n",
    "\n",
    "    for i in range(N):\n",
    "        if solution[i] == 1:\n",
    "            Group_A[i] = W[i]\n",
    "        else:\n",
    "            Group_B[i] = W[i]\n",
    "\n",
    "    Group_A_DW.append(Group_A)\n",
    "    Group_B_DW.append(Group_B)"
   ],
   "metadata": {
    "id": "L31dfsNcHL9n"
   },
   "execution_count": null,
   "outputs": []
  },
  {
   "cell_type": "code",
   "source": [
    "# 得られた近似解の組合せを1つ表示する\n",
    "S = 0  # 解のインデックス (0 <= S <= num_optimal_sol - 1)\n",
    "plot_grouping(Group_A_DW[S], Group_B_DW[S])"
   ],
   "metadata": {
    "id": "K-qTgnJ5HtUE",
    "colab": {
     "base_uri": "https://localhost:8080/",
     "height": 430
    },
    "executionInfo": {
     "status": "ok",
     "timestamp": 1691908999983,
     "user_tz": -540,
     "elapsed": 480,
     "user": {
      "displayName": "丸山尚貴",
      "userId": "01785070009045385802"
     }
    },
    "outputId": "8381779c-b259-4cbe-f9de-65aff5a89894"
   },
   "execution_count": null,
   "outputs": [
    {
     "output_type": "display_data",
     "data": {
      "text/plain": [
       "<Figure size 640x480 with 1 Axes>"
      ],
      "image/png": "[encoded data removed]"
     },
     "metadata": {}
    }
   ]
  },
  {
   "cell_type": "code",
   "source": [
    "print(\"2つのグループの合計値の差\\t\", abs(sum(Group_A_DW[S]) - sum(Group_B_DW[S])))\n",
    "print(\"計算時間（理論値）[s]\\t\", annealing_time * num_reads / 10**6)\n",
    "print(\"計算時間（実測値）[s]\\t\", response_DW.info[\"timing\"][\"qpu_sampling_time\"] / 10**6)"
   ],
   "metadata": {
    "colab": {
     "base_uri": "https://localhost:8080/"
    },
    "id": "LHIEiucnE1CR",
    "executionInfo": {
     "status": "ok",
     "timestamp": 1691908999983,
     "user_tz": -540,
     "elapsed": 6,
     "user": {
      "displayName": "丸山尚貴",
      "userId": "01785070009045385802"
     }
    },
    "outputId": "4b3914fc-59b9-4e4f-88c2-fa15565d6ced"
   },
   "execution_count": null,
   "outputs": [
    {
     "output_type": "stream",
     "name": "stdout",
     "text": [
      "2つのグループの合計値の差\t 1.0\n",
      "計算時間（理論値）[s]\t 0.006\n",
      "計算時間（実測値）[s]\t 0.025896\n"
     ]
    }
   ]
  },
  {
   "cell_type": "markdown",
   "source": [
    "ビット全探索時に比べて、アニーリングマシンによる手法は短時間で最適解を導出可能なことが分かります。"
   ],
   "metadata": {
    "id": "JSqEnqctXFPc"
   }
  },
  {
   "cell_type": "markdown",
   "source": [
    "続いてアニーリングマシンで得られた解の分布の様子を観察してみます。エネルギーが小さいほど、2つのグループの値の差が小さいことを表します。"
   ],
   "metadata": {
    "id": "mFa3jhplXZs9"
   }
  },
  {
   "cell_type": "code",
   "source": [
    "# 解のエネルギー分布を可視化する関数\n",
    "def plot_energies(energies):\n",
    "    plt.hist(energies, color=\"skyblue\")\n",
    "    plt.xlabel(\"Energy\")\n",
    "    plt.ylabel(\"Frequency\")\n",
    "    plt.show()"
   ],
   "metadata": {
    "id": "oxCiuoDsl5CL"
   },
   "execution_count": null,
   "outputs": []
  },
  {
   "cell_type": "code",
   "source": [
    "plot_energies(Energies)"
   ],
   "metadata": {
    "id": "j7mvPpNPNiVL",
    "colab": {
     "base_uri": "https://localhost:8080/",
     "height": 449
    },
    "executionInfo": {
     "status": "ok",
     "timestamp": 1691909000562,
     "user_tz": -540,
     "elapsed": 582,
     "user": {
      "displayName": "丸山尚貴",
      "userId": "01785070009045385802"
     }
    },
    "outputId": "a16a4aa8-b493-4e92-e714-dc81afc5d7cd"
   },
   "execution_count": null,
   "outputs": [
    {
     "output_type": "display_data",
     "data": {
      "text/plain": [
       "<Figure size 640x480 with 1 Axes>"
      ],
      "image/png": "[encoded data removed]"
     },
     "metadata": {}
    }
   ]
  },
  {
   "cell_type": "markdown",
   "source": [
    "最後に、量子アニーリングマシンのベンチマークとして、確率$p_d$で最適解が得られるまでの計算時間TTS(Time to solution)を求めます。\n",
    "\n",
    "\n",
    "１回のアニーリングの時間を$\\tau[s]$で最適解が得られる確率を$P_s \\left(\\tau \\right)$とすると、$R$回のアニーリングにおいて最適解が１回も得られない確率は$\\left(1-P_s \\left(\\tau \\right) \\right)^R$で表されます。ここで、$R$回のアニーリングのうち、１回は最適解が得られる確率を一般に$p_d$とすると、$p_d$は次式で表されます。\n",
    "\n",
    "$$ p_d = 1 - \\left(1 - P_s \\left(\\tau \\right) \\right)^R $$\n",
    "\n",
    "よって、確率$p_d$で最適解を得られる試行回数$R$は、以下のように求められます。\n",
    "\n",
    "$$ R = \\frac{\\ln(1 - p_d)}{\\ln(1-P_s(\\tau))} $$\n",
    "\n",
    "以上により、$p_d$の確率で最適解が求まる計算時間$TTS(\\tau,p_d)$は、以下の式で与えられます。\n",
    "\n",
    "$$TTS(\\tau,p_d) = \\tau R = \\tau \\frac{\\ln(1-p_d)}{\\ln(1-P_s(\\tau))}$$"
   ],
   "metadata": {
    "id": "HoAiJOv1OZE5"
   }
  },
  {
   "cell_type": "markdown",
   "source": [
    "　TTSを導出するにあたって、上記で得られた最適解の個数が0の場合は計算ができません。これは$P_s \\left(\\tau \\right)$を導出できないことに原因があります。再びアニーリングマシンを動かして、計算し直してください。"
   ],
   "metadata": {
    "id": "_bT7-FyrPqZz"
   }
  },
  {
   "cell_type": "code",
   "source": [
    "# TTSを計算する関数（Tau[s]）\n",
    "def calculate_TTS(p_d, Tau, p_s):\n",
    "    if p_s == 0:\n",
    "        raise ValueError(\"p_s!=0 is required\")\n",
    "    return Tau * np.log(1 - p_d) / np.log(1 - p_s)"
   ],
   "metadata": {
    "id": "LpreLrtv9FVt"
   },
   "execution_count": null,
   "outputs": []
  },
  {
   "cell_type": "code",
   "source": [
    "p_d = 0.99  # 0.99の場合、99%の確率で最適解が得られるまでの計算時間\n",
    "Tau = annealing_time * 10 ** (-6)\n",
    "p_s = num_optimal_sol / num_reads\n",
    "\n",
    "print(\"TTS[µs]\", calculate_TTS(p_d, Tau, p_s) * 10**6)"
   ],
   "metadata": {
    "colab": {
     "base_uri": "https://localhost:8080/"
    },
    "id": "HOHO4dzRTCTV",
    "executionInfo": {
     "status": "ok",
     "timestamp": 1691909000562,
     "user_tz": -540,
     "elapsed": 8,
     "user": {
      "displayName": "丸山尚貴",
      "userId": "01785070009045385802"
     }
    },
    "outputId": "b7d3f2b5-2398-4d6c-8cad-afc1fa448650"
   },
   "execution_count": null,
   "outputs": [
    {
     "output_type": "stream",
     "name": "stdout",
     "text": [
      "TTS[µs] 874.1738130713132\n"
     ]
    }
   ]
  },
  {
   "cell_type": "markdown",
   "source": [
    "TTSの計算によって、99%の確率で最適解が得られる計算時間が分かりました。今回の計算時間（理論値）は6000[µs]であったので、最適解が得られる確率は99%よりは低かったことが考えられます。"
   ],
   "metadata": {
    "id": "UmsnghdVsatX"
   }
  },
  {
   "cell_type": "markdown",
   "source": [
    "### シミュレーテッドアニーリング"
   ],
   "metadata": {
    "id": "n7aZivkcQqnu"
   }
  },
  {
   "cell_type": "markdown",
   "source": [
    "　量子アニーリングの時と同様にQUBOを作成します。"
   ],
   "metadata": {
    "id": "46Oerp82o-5g"
   }
  },
  {
   "cell_type": "code",
   "source": [
    "# SAをサンプラーとして選択\n",
    "sampler = SASampler()\n",
    "\n",
    "# 一度に取得するサンプル数\n",
    "num_reads = 300\n",
    "\n",
    "# アニーリング中のパラメータ(温度, 横磁場)を下げていくときの分割数\n",
    "# この値を増やすほどゆっくりアニーリングをすることに相当し、アニーリング時間が伸びる\n",
    "num_sweeps = 50\n",
    "\n",
    "# SAによるサンプリングを実行する\n",
    "response_SA = sampler.sample_qubo(Q, num_reads=num_reads, num_sweeps=num_sweeps)"
   ],
   "metadata": {
    "id": "sQdXgpV4fz92"
   },
   "execution_count": null,
   "outputs": []
  },
  {
   "cell_type": "code",
   "source": [
    "response_SA.to_pandas_dataframe().head()"
   ],
   "metadata": {
    "id": "BeRAKYT4g7HB",
    "colab": {
     "base_uri": "https://localhost:8080/",
     "height": 235
    },
    "executionInfo": {
     "status": "ok",
     "timestamp": 1695713684251,
     "user_tz": -540,
     "elapsed": 447,
     "user": {
      "displayName": "岡田朋久",
      "userId": "10767899446766232866"
     }
    },
    "outputId": "d80c52bb-8fc9-4115-dbe8-308ada2249a8"
   },
   "execution_count": null,
   "outputs": [
    {
     "output_type": "execute_result",
     "data": {
      "text/plain": [
       "   0  1  2  3  4  5  6  7  8  9  ...  12  13  14  15  16  17  18  19   energy  \\\n",
       "0  0  0  0  0  1  0  1  0  1  1  ...   0   1   1   1   0   1   0   1 -38016.0   \n",
       "1  1  1  0  1  1  1  0  0  0  0  ...   1   0   1   0   0   1   0   1 -38024.0   \n",
       "2  1  1  0  1  0  1  1  1  1  1  ...   0   0   0   1   0   0   0   1 -38024.0   \n",
       "3  1  1  0  0  0  1  1  1  1  1  ...   1   0   0   0   1   1   0   0 -38024.0   \n",
       "4  0  1  0  0  1  0  0  1  0  0  ...   1   1   0   0   0   1   1   0 -38024.0   \n",
       "\n",
       "   num_occurrences  \n",
       "0                1  \n",
       "1                1  \n",
       "2                1  \n",
       "3                1  \n",
       "4                1  \n",
       "\n",
       "[5 rows x 22 columns]"
      ],
      "text/html": [
       "\n",
       "  <div id=\"df-45e8c260-494e-498b-918f-34f5227e28f2\" class=\"colab-df-container\">\n",
       "    <div>\n",
       "<style scoped>\n",
       "    .dataframe tbody tr th:only-of-type {\n",
       "        vertical-align: middle;\n",
       "    }\n",
       "\n",
       "    .dataframe tbody tr th {\n",
       "        vertical-align: top;\n",
       "    }\n",
       "\n",
       "    .dataframe thead th {\n",
       "        text-align: right;\n",
       "    }\n",
       "</style>\n",
       "<table border=\"1\" class=\"dataframe\">\n",
       "  <thead>\n",
       "    <tr style=\"text-align: right;\">\n",
       "      <th></th>\n",
       "      <th>0</th>\n",
       "      <th>1</th>\n",
       "      <th>2</th>\n",
       "      <th>3</th>\n",
       "      <th>4</th>\n",
       "      <th>5</th>\n",
       "      <th>6</th>\n",
       "      <th>7</th>\n",
       "      <th>8</th>\n",
       "      <th>9</th>\n",
       "      <th>...</th>\n",
       "      <th>12</th>\n",
       "      <th>13</th>\n",
       "      <th>14</th>\n",
       "      <th>15</th>\n",
       "      <th>16</th>\n",
       "      <th>17</th>\n",
       "      <th>18</th>\n",
       "      <th>19</th>\n",
       "      <th>energy</th>\n",
       "      <th>num_occurrences</th>\n",
       "    </tr>\n",
       "  </thead>\n",
       "  <tbody>\n",
       "    <tr>\n",
       "      <th>0</th>\n",
       "      <td>0</td>\n",
       "      <td>0</td>\n",
       "      <td>0</td>\n",
       "      <td>0</td>\n",
       "      <td>1</td>\n",
       "      <td>0</td>\n",
       "      <td>1</td>\n",
       "      <td>0</td>\n",
       "      <td>1</td>\n",
       "      <td>1</td>\n",
       "      <td>...</td>\n",
       "      <td>0</td>\n",
       "      <td>1</td>\n",
       "      <td>1</td>\n",
       "      <td>1</td>\n",
       "      <td>0</td>\n",
       "      <td>1</td>\n",
       "      <td>0</td>\n",
       "      <td>1</td>\n",
       "      <td>-38016.0</td>\n",
       "      <td>1</td>\n",
       "    </tr>\n",
       "    <tr>\n",
       "      <th>1</th>\n",
       "      <td>1</td>\n",
       "      <td>1</td>\n",
       "      <td>0</td>\n",
       "      <td>1</td>\n",
       "      <td>1</td>\n",
       "      <td>1</td>\n",
       "      <td>0</td>\n",
       "      <td>0</td>\n",
       "      <td>0</td>\n",
       "      <td>0</td>\n",
       "      <td>...</td>\n",
       "      <td>1</td>\n",
       "      <td>0</td>\n",
       "      <td>1</td>\n",
       "      <td>0</td>\n",
       "      <td>0</td>\n",
       "      <td>1</td>\n",
       "      <td>0</td>\n",
       "      <td>1</td>\n",
       "      <td>-38024.0</td>\n",
       "      <td>1</td>\n",
       "    </tr>\n",
       "    <tr>\n",
       "      <th>2</th>\n",
       "      <td>1</td>\n",
       "      <td>1</td>\n",
       "      <td>0</td>\n",
       "      <td>1</td>\n",
       "      <td>0</td>\n",
       "      <td>1</td>\n",
       "      <td>1</td>\n",
       "      <td>1</td>\n",
       "      <td>1</td>\n",
       "      <td>1</td>\n",
       "      <td>...</td>\n",
       "      <td>0</td>\n",
       "      <td>0</td>\n",
       "      <td>0</td>\n",
       "      <td>1</td>\n",
       "      <td>0</td>\n",
       "      <td>0</td>\n",
       "      <td>0</td>\n",
       "      <td>1</td>\n",
       "      <td>-38024.0</td>\n",
       "      <td>1</td>\n",
       "    </tr>\n",
       "    <tr>\n",
       "      <th>3</th>\n",
       "      <td>1</td>\n",
       "      <td>1</td>\n",
       "      <td>0</td>\n",
       "      <td>0</td>\n",
       "      <td>0</td>\n",
       "      <td>1</td>\n",
       "      <td>1</td>\n",
       "      <td>1</td>\n",
       "      <td>1</td>\n",
       "      <td>1</td>\n",
       "      <td>...</td>\n",
       "      <td>1</td>\n",
       "      <td>0</td>\n",
       "      <td>0</td>\n",
       "      <td>0</td>\n",
       "      <td>1</td>\n",
       "      <td>1</td>\n",
       "      <td>0</td>\n",
       "      <td>0</td>\n",
       "      <td>-38024.0</td>\n",
       "      <td>1</td>\n",
       "    </tr>\n",
       "    <tr>\n",
       "      <th>4</th>\n",
       "      <td>0</td>\n",
       "      <td>1</td>\n",
       "      <td>0</td>\n",
       "      <td>0</td>\n",
       "      <td>1</td>\n",
       "      <td>0</td>\n",
       "      <td>0</td>\n",
       "      <td>1</td>\n",
       "      <td>0</td>\n",
       "      <td>0</td>\n",
       "      <td>...</td>\n",
       "      <td>1</td>\n",
       "      <td>1</td>\n",
       "      <td>0</td>\n",
       "      <td>0</td>\n",
       "      <td>0</td>\n",
       "      <td>1</td>\n",
       "      <td>1</td>\n",
       "      <td>0</td>\n",
       "      <td>-38024.0</td>\n",
       "      <td>1</td>\n",
       "    </tr>\n",
       "  </tbody>\n",
       "</table>\n",
       "<p>5 rows × 22 columns</p>\n",
       "</div>\n",
       "    <div class=\"colab-df-buttons\">\n",
       "\n",
       "  <div class=\"colab-df-container\">\n",
       "    <button class=\"colab-df-convert\" onclick=\"convertToInteractive('df-45e8c260-494e-498b-918f-34f5227e28f2')\"\n",
       "            title=\"Convert this dataframe to an interactive table.\"\n",
       "            style=\"display:none;\">\n",
       "\n",
       "  <svg xmlns=\"http://www.w3.org/2000/svg\" height=\"24px\" viewBox=\"0 -960 960 960\">\n",
       "    <path d=\"M120-120v-720h720v720H120Zm60-500h600v-160H180v160Zm220 220h160v-160H400v160Zm0 220h160v-160H400v160ZM180-400h160v-160H180v160Zm440 0h160v-160H620v160ZM180-180h160v-160H180v160Zm440 0h160v-160H620v160Z\"/>\n",
       "  </svg>\n",
       "    </button>\n",
       "\n",
       "  <style>\n",
       "    .colab-df-container {\n",
       "      display:flex;\n",
       "      gap: 12px;\n",
       "    }\n",
       "\n",
       "    .colab-df-convert {\n",
       "      background-color: #E8F0FE;\n",
       "      border: none;\n",
       "      border-radius: 50%;\n",
       "      cursor: pointer;\n",
       "      display: none;\n",
       "      fill: #1967D2;\n",
       "      height: 32px;\n",
       "      padding: 0 0 0 0;\n",
       "      width: 32px;\n",
       "    }\n",
       "\n",
       "    .colab-df-convert:hover {\n",
       "      background-color: #E2EBFA;\n",
       "      box-shadow: 0px 1px 2px rgba(60, 64, 67, 0.3), 0px 1px 3px 1px rgba(60, 64, 67, 0.15);\n",
       "      fill: #174EA6;\n",
       "    }\n",
       "\n",
       "    .colab-df-buttons div {\n",
       "      margin-bottom: 4px;\n",
       "    }\n",
       "\n",
       "    [theme=dark] .colab-df-convert {\n",
       "      background-color: #3B4455;\n",
       "      fill: #D2E3FC;\n",
       "    }\n",
       "\n",
       "    [theme=dark] .colab-df-convert:hover {\n",
       "      background-color: #434B5C;\n",
       "      box-shadow: 0px 1px 3px 1px rgba(0, 0, 0, 0.15);\n",
       "      filter: drop-shadow(0px 1px 2px rgba(0, 0, 0, 0.3));\n",
       "      fill: #FFFFFF;\n",
       "    }\n",
       "  </style>\n",
       "\n",
       "    <script>\n",
       "      const buttonEl =\n",
       "        document.querySelector('#df-45e8c260-494e-498b-918f-34f5227e28f2 button.colab-df-convert');\n",
       "      buttonEl.style.display =\n",
       "        google.colab.kernel.accessAllowed ? 'block' : 'none';\n",
       "\n",
       "      async function convertToInteractive(key) {\n",
       "        const element = document.querySelector('#df-45e8c260-494e-498b-918f-34f5227e28f2');\n",
       "        const dataTable =\n",
       "          await google.colab.kernel.invokeFunction('convertToInteractive',\n",
       "                                                    [key], {});\n",
       "        if (!dataTable) return;\n",
       "\n",
       "        const docLinkHtml = 'Like what you see? Visit the ' +\n",
       "          '<a target=\"_blank\" href=https://colab.research.google.com/notebooks/data_table.ipynb>data table notebook</a>'\n",
       "          + ' to learn more about interactive tables.';\n",
       "        element.innerHTML = '';\n",
       "        dataTable['output_type'] = 'display_data';\n",
       "        await google.colab.output.renderOutput(dataTable, element);\n",
       "        const docLink = document.createElement('div');\n",
       "        docLink.innerHTML = docLinkHtml;\n",
       "        element.appendChild(docLink);\n",
       "      }\n",
       "    </script>\n",
       "  </div>\n",
       "\n",
       "\n",
       "<div id=\"df-26735756-ad23-4c81-825e-8c480fcd2166\">\n",
       "  <button class=\"colab-df-quickchart\" onclick=\"quickchart('df-26735756-ad23-4c81-825e-8c480fcd2166')\"\n",
       "            title=\"Suggest charts.\"\n",
       "            style=\"display:none;\">\n",
       "\n",
       "<svg xmlns=\"http://www.w3.org/2000/svg\" height=\"24px\"viewBox=\"0 0 24 24\"\n",
       "     width=\"24px\">\n",
       "    <g>\n",
       "        <path d=\"M19 3H5c-1.1 0-2 .9-2 2v14c0 1.1.9 2 2 2h14c1.1 0 2-.9 2-2V5c0-1.1-.9-2-2-2zM9 17H7v-7h2v7zm4 0h-2V7h2v10zm4 0h-2v-4h2v4z\"/>\n",
       "    </g>\n",
       "</svg>\n",
       "  </button>\n",
       "\n",
       "<style>\n",
       "  .colab-df-quickchart {\n",
       "      --bg-color: #E8F0FE;\n",
       "      --fill-color: #1967D2;\n",
       "      --hover-bg-color: #E2EBFA;\n",
       "      --hover-fill-color: #174EA6;\n",
       "      --disabled-fill-color: #AAA;\n",
       "      --disabled-bg-color: #DDD;\n",
       "  }\n",
       "\n",
       "  [theme=dark] .colab-df-quickchart {\n",
       "      --bg-color: #3B4455;\n",
       "      --fill-color: #D2E3FC;\n",
       "      --hover-bg-color: #434B5C;\n",
       "      --hover-fill-color: #FFFFFF;\n",
       "      --disabled-bg-color: #3B4455;\n",
       "      --disabled-fill-color: #666;\n",
       "  }\n",
       "\n",
       "  .colab-df-quickchart {\n",
       "    background-color: var(--bg-color);\n",
       "    border: none;\n",
       "    border-radius: 50%;\n",
       "    cursor: pointer;\n",
       "    display: none;\n",
       "    fill: var(--fill-color);\n",
       "    height: 32px;\n",
       "    padding: 0;\n",
       "    width: 32px;\n",
       "  }\n",
       "\n",
       "  .colab-df-quickchart:hover {\n",
       "    background-color: var(--hover-bg-color);\n",
       "    box-shadow: 0 1px 2px rgba(60, 64, 67, 0.3), 0 1px 3px 1px rgba(60, 64, 67, 0.15);\n",
       "    fill: var(--button-hover-fill-color);\n",
       "  }\n",
       "\n",
       "  .colab-df-quickchart-complete:disabled,\n",
       "  .colab-df-quickchart-complete:disabled:hover {\n",
       "    background-color: var(--disabled-bg-color);\n",
       "    fill: var(--disabled-fill-color);\n",
       "    box-shadow: none;\n",
       "  }\n",
       "\n",
       "  .colab-df-spinner {\n",
       "    border: 2px solid var(--fill-color);\n",
       "    border-color: transparent;\n",
       "    border-bottom-color: var(--fill-color);\n",
       "    animation:\n",
       "      spin 1s steps(1) infinite;\n",
       "  }\n",
       "\n",
       "  @keyframes spin {\n",
       "    0% {\n",
       "      border-color: transparent;\n",
       "      border-bottom-color: var(--fill-color);\n",
       "      border-left-color: var(--fill-color);\n",
       "    }\n",
       "    20% {\n",
       "      border-color: transparent;\n",
       "      border-left-color: var(--fill-color);\n",
       "      border-top-color: var(--fill-color);\n",
       "    }\n",
       "    30% {\n",
       "      border-color: transparent;\n",
       "      border-left-color: var(--fill-color);\n",
       "      border-top-color: var(--fill-color);\n",
       "      border-right-color: var(--fill-color);\n",
       "    }\n",
       "    40% {\n",
       "      border-color: transparent;\n",
       "      border-right-color: var(--fill-color);\n",
       "      border-top-color: var(--fill-color);\n",
       "    }\n",
       "    60% {\n",
       "      border-color: transparent;\n",
       "      border-right-color: var(--fill-color);\n",
       "    }\n",
       "    80% {\n",
       "      border-color: transparent;\n",
       "      border-right-color: var(--fill-color);\n",
       "      border-bottom-color: var(--fill-color);\n",
       "    }\n",
       "    90% {\n",
       "      border-color: transparent;\n",
       "      border-bottom-color: var(--fill-color);\n",
       "    }\n",
       "  }\n",
       "</style>\n",
       "\n",
       "  <script>\n",
       "    async function quickchart(key) {\n",
       "      const quickchartButtonEl =\n",
       "        document.querySelector('#' + key + ' button');\n",
       "      quickchartButtonEl.disabled = true;  // To prevent multiple clicks.\n",
       "      quickchartButtonEl.classList.add('colab-df-spinner');\n",
       "      try {\n",
       "        const charts = await google.colab.kernel.invokeFunction(\n",
       "            'suggestCharts', [key], {});\n",
       "      } catch (error) {\n",
       "        console.error('Error during call to suggestCharts:', error);\n",
       "      }\n",
       "      quickchartButtonEl.classList.remove('colab-df-spinner');\n",
       "      quickchartButtonEl.classList.add('colab-df-quickchart-complete');\n",
       "    }\n",
       "    (() => {\n",
       "      let quickchartButtonEl =\n",
       "        document.querySelector('#df-26735756-ad23-4c81-825e-8c480fcd2166 button');\n",
       "      quickchartButtonEl.style.display =\n",
       "        google.colab.kernel.accessAllowed ? 'block' : 'none';\n",
       "    })();\n",
       "  </script>\n",
       "</div>\n",
       "    </div>\n",
       "  </div>\n"
      ]
     },
     "metadata": {},
     "execution_count": 17
    }
   ]
  },
  {
   "cell_type": "code",
   "source": [
    "num_optimal_sol, num_approx_sol, optimal_sol, approx_sol, Energies = count_solutions(\n",
    "    response_SA\n",
    ")\n",
    "\n",
    "print(\"最適解（個）\\t\", num_optimal_sol)\n",
    "print(\"最適解（個）\\t\", num_approx_sol)"
   ],
   "metadata": {
    "colab": {
     "base_uri": "https://localhost:8080/"
    },
    "id": "rC5DtTzYm3ZO",
    "executionInfo": {
     "status": "ok",
     "timestamp": 1695713735542,
     "user_tz": -540,
     "elapsed": 6,
     "user": {
      "displayName": "岡田朋久",
      "userId": "10767899446766232866"
     }
    },
    "outputId": "2e9a7cdd-b51f-48e0-820b-6353e9ef1810"
   },
   "execution_count": null,
   "outputs": [
    {
     "output_type": "stream",
     "name": "stdout",
     "text": [
      "最適解（個）\t 150\n",
      "最適解（個）\t 150\n"
     ]
    }
   ]
  },
  {
   "cell_type": "code",
   "source": [
    "Group_A_SA = []\n",
    "Group_B_SA = []\n",
    "\n",
    "for solution in approx_sol:\n",
    "    Group_A = np.zeros(N)\n",
    "    Group_B = np.zeros(N)\n",
    "\n",
    "    for i in range(N):\n",
    "        if solution[i] == 1:\n",
    "            Group_A[i] = W[i]\n",
    "        else:\n",
    "            Group_B[i] = W[i]\n",
    "\n",
    "    Group_A_SA.append(Group_A)\n",
    "    Group_B_SA.append(Group_B)"
   ],
   "metadata": {
    "id": "Ga4rUxF2fFDH"
   },
   "execution_count": null,
   "outputs": []
  },
  {
   "cell_type": "code",
   "source": [
    "# 得られた近似解の組合せを1つ表示する\n",
    "S = 0  # 解のインデックス (0 <= S <= num_optimal_sol - 1)\n",
    "plot_grouping(Group_A_SA[S], Group_B_SA[S])"
   ],
   "metadata": {
    "id": "2ms0ZyuHfIQg",
    "colab": {
     "base_uri": "https://localhost:8080/",
     "height": 430
    },
    "executionInfo": {
     "status": "ok",
     "timestamp": 1695713741362,
     "user_tz": -540,
     "elapsed": 490,
     "user": {
      "displayName": "岡田朋久",
      "userId": "10767899446766232866"
     }
    },
    "outputId": "78617ec3-8db7-41f9-f88d-62a830593508"
   },
   "execution_count": null,
   "outputs": [
    {
     "output_type": "display_data",
     "data": {
      "text/plain": [
       "<Figure size 640x480 with 1 Axes>"
      ],
      "image/png": "[encoded data removed]"
     },
     "metadata": {}
    }
   ]
  },
  {
   "cell_type": "code",
   "source": [
    "print(\"2つのグループの合計値の差\\t\", abs(sum(Group_A_SA[S]) - sum(Group_B_SA[S])))\n",
    "print(\"計算時間[µs]\\t\", response_SA.info[\"execution_time\"])"
   ],
   "metadata": {
    "id": "ie0vbq6UgGid",
    "colab": {
     "base_uri": "https://localhost:8080/"
    },
    "executionInfo": {
     "status": "ok",
     "timestamp": 1695713743536,
     "user_tz": -540,
     "elapsed": 250,
     "user": {
      "displayName": "岡田朋久",
      "userId": "10767899446766232866"
     }
    },
    "outputId": "4071df21-3005-4bc1-8b70-d5f6c8655e99"
   },
   "execution_count": null,
   "outputs": [
    {
     "output_type": "stream",
     "name": "stdout",
     "text": [
      "2つのグループの合計値の差\t 1.0\n",
      "計算時間[µs]\t 60.54146000015711\n"
     ]
    }
   ]
  },
  {
   "cell_type": "code",
   "source": [
    "plot_energies(Energies)"
   ],
   "metadata": {
    "id": "r4Q17aHBgtAP",
    "colab": {
     "base_uri": "https://localhost:8080/",
     "height": 449
    },
    "executionInfo": {
     "status": "ok",
     "timestamp": 1695713746780,
     "user_tz": -540,
     "elapsed": 864,
     "user": {
      "displayName": "岡田朋久",
      "userId": "10767899446766232866"
     }
    },
    "outputId": "2b21b06b-efa5-4d9e-964b-683c53f8ae95"
   },
   "execution_count": null,
   "outputs": [
    {
     "output_type": "display_data",
     "data": {
      "text/plain": [
       "<Figure size 640x480 with 1 Axes>"
      ],
      "image/png": "[encoded data removed]"
     },
     "metadata": {}
    }
   ]
  },
  {
   "cell_type": "markdown",
   "source": [
    "シミュレーテッドアニーリングを用いても量子アニーリングと同様に計算することができました。"
   ],
   "metadata": {
    "id": "d5XEhsB8Xi3z"
   }
  },
  {
   "cell_type": "markdown",
   "source": [
    "## あとがき\n",
    "\n",
    "今回は量子アニーリングマシンを実際に使ってみることを目標として数分割問題に取り組みました。得られた解を評価する方法として、TTSを用いることができ、TTSに対して改めて理解する良い機会もありました。二つの計算方法の比較としては、計算時間の差が予想以上に大きく、成果が目に見えるような面白い結果となりました。"
   ],
   "metadata": {
    "id": "aT_2zaoR9S_s"
   }
  }
 ]
}