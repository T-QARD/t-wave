{
  "cells": [
    {
      "cell_type": "markdown",
      "metadata": {
        "id": "uNJJnly0ma9b"
      },
      "source": [
        "# 量子アニーリングによる配送計画(実践編)"
      ]
    },
    {
      "cell_type": "markdown",
      "metadata": {
        "id": "MRLg5WkGjzLn"
      },
      "source": [
        "## 概要"
      ]
    },
    {
      "cell_type": "markdown",
      "metadata": {
        "id": "fGUQ-BiAj52s"
      },
      "source": [
        "記事「[量子アニーリングマシンによる配送計画](https://qard.is.tohoku.ac.jp/T-Wave/?p=1729)」で扱った論文では、CVRP(容量制約有りの配送計画問題)を量子アニーリングマシンと古典コンピュータを用いたハイブリッドな手法で解き、その性能を古典コンピュータと比較していました。本記事では、論文中で登場した[CVRPLIB](http://vrp.galgos.inf.puc-rio.br/index.php/en/)のデータセットについてクラスタリングはSA（シミュレーテッドアニーリング）、ルーティングは[GoogleのOR-Tools](https://developers.google.com/optimization)を利用して解いています。"
      ]
    },
    {
      "cell_type": "markdown",
      "metadata": {
        "id": "CJ3Qhu8zmsrY"
      },
      "source": [
        "## 文献情報\n"
      ]
    },
    {
      "cell_type": "markdown",
      "metadata": {
        "id": "uj1lGgk1m00O"
      },
      "source": [
        "- 1つ目の論文\n",
        "  - タイトル：A Hybrid Solution Method for the Capacitated Vehicle Routing Problem Using a Quantum Annealer\n",
        "\n",
        "  - 著者：Sebastian Feld, Chrisoph Roch, Thomas Gabor, Christian Seidel, Florian Neukart, Isabella Galter, Wolfgang Mauerer, and Claudia Linnhoff-Popien\n",
        "\n",
        "  - 書誌情報：https://doi.org/10.3389/fict.2019.00013"
      ]
    },
    {
      "cell_type": "markdown",
      "metadata": {
        "id": "fqH1WchOcQX5"
      },
      "source": [
        "- 2つ目の論文\n",
        "  - タイトル：An Approach to the Vehicle Routing Problem with Balanced Pick-up Using Ising Machines\n",
        "\n",
        "  - 著者：Siya Bao, Masashi Tawada, Shu Tanaka, Nozomu Togawa\n",
        "\n",
        "  - 書誌情報：https://ieeexplore.ieee.org/document/9427355"
      ]
    },
    {
      "cell_type": "markdown",
      "metadata": {
        "id": "8xOM8Maq16cv"
      },
      "source": [
        "## 問題\n",
        "\n",
        "この実践記事では、以下の2種類の手法でCVRPを解いてみました。\n",
        "\n",
        "1. 元論文に載っていた手法\n",
        "2. 容量の平均値に寄せる手法\n",
        "\n"
      ]
    },
    {
      "cell_type": "markdown",
      "metadata": {
        "id": "AQYYWko8bWH1"
      },
      "source": [
        "### クラスタリング"
      ]
    },
    {
      "cell_type": "markdown",
      "metadata": {
        "id": "g3_-6bzBwDfQ"
      },
      "source": [
        "#### Part1 元論文に載っていた手法\n",
        "\n",
        "[論文紹介の記事](https://qard.is.tohoku.ac.jp/T-Wave/?p=1729)では、容量制約付きのクラスタリングに関する定式化を省いていたので、ここで簡単に説明します。\n",
        "\n",
        "まずは変数についてです。\n",
        "\n",
        "- $x_{v}^k$: $k$番目のクラスターに$v$番目の顧客が含まれるときは1を、そうでないときは0をとる二値変数\n",
        "- $y_n^k$: 不等式制約を考えるための擬似変数\n",
        "\n",
        "最適化に必要な入力データは以下のとおりです。\n",
        "- $w_{v}$: 顧客の要求量を表す定数\n",
        "- $D_{uv}$: 顧客どうしの距離を表す行列\n",
        "- $m$: クラスターの数、$W$はクラスターの容量の最大値"
      ]
    },
    {
      "cell_type": "markdown",
      "metadata": {
        "id": "mNIq8luVVj9_"
      },
      "source": [
        "続いて定式化です。\n",
        "\n",
        "1．トラックの容量に関する不等式制約\n",
        "$$ H_A = X\\sum_{k=1}^m\\left(1-\\sum_{n=1}^Wy_n^k\\right)^2 + A\\sum_{k=1}^m\\left(\\sum_{n=1}^Wny_n^k- \\sum_{v=1}^n w_{v} x_{v}^k\\right)^2 $$\n",
        "\n",
        "第一項がトラックの容量を一つに定めるone-hot制約、第二項がトラックの容量と荷物の重量の総和を等しくする制約となっています。\n",
        "\n",
        "2．one-hot制約\n",
        "$$ H_B = B\\sum_{v=1}^n \\left(1- \\sum_{k=1}^{m}x_{v}^k\\right)^2 $$\n",
        "\n",
        "この式は、顧客が一つのクラスターにだけ含まれるようにする制約となっています。\n",
        "\n",
        "3．距離に関するコスト関数\n",
        "$$ H_C = C\\sum_{k=1}^{m}\\left(\\sum_{(u,v)\\in E}D_{uv}x_u^kx_v^k\\right)$$\n",
        "\n",
        "クラスター内の顧客どうしの距離の総和を計算しています。これが最小になるような解を求めることがCVRPのクラスタリング部分の目的です。なお、$X,A,B,C$は制約の重みを決定するための定数です。"
      ]
    },
    {
      "cell_type": "markdown",
      "metadata": {
        "id": "0-xPOrWiUxP0"
      },
      "source": [
        "いざ実践！実際にこの定式化を[pyqubo](https://pyqubo.readthedocs.io/en/latest/)で記述していきます。\n",
        "\n",
        "今回解くデータは[こちら](http://vrp.galgos.inf.puc-rio.br/index.php/en/)のサイトから見ることができます。\n",
        "\n",
        "まずは、必要なライブラリをインストールします。"
      ]
    },
    {
      "cell_type": "code",
      "execution_count": null,
      "metadata": {
        "colab": {
          "base_uri": "https://localhost:8080/"
        },
        "id": "K6VPQ-LDQ-o3",
        "outputId": "b462ad0c-e036-473d-de3b-e8719d364c1c"
      },
      "outputs": [
        {
          "name": "stdout",
          "output_type": "stream",
          "text": [
            "Looking in indexes: https://pypi.org/simple, https://us-python.pkg.dev/colab-wheels/public/simple/\n",
            "Requirement already satisfied: numpy in /usr/local/lib/python3.10/dist-packages (1.22.4)\n",
            "Looking in indexes: https://pypi.org/simple, https://us-python.pkg.dev/colab-wheels/public/simple/\n",
            "Requirement already satisfied: matplotlib in /usr/local/lib/python3.10/dist-packages (3.7.1)\n",
            "Requirement already satisfied: numpy>=1.20 in /usr/local/lib/python3.10/dist-packages (from matplotlib) (1.22.4)\n",
            "Requirement already satisfied: python-dateutil>=2.7 in /usr/local/lib/python3.10/dist-packages (from matplotlib) (2.8.2)\n",
            "Requirement already satisfied: pyparsing>=2.3.1 in /usr/local/lib/python3.10/dist-packages (from matplotlib) (3.0.9)\n",
            "Requirement already satisfied: fonttools>=4.22.0 in /usr/local/lib/python3.10/dist-packages (from matplotlib) (4.39.3)\n",
            "Requirement already satisfied: packaging>=20.0 in /usr/local/lib/python3.10/dist-packages (from matplotlib) (23.1)\n",
            "Requirement already satisfied: pillow>=6.2.0 in /usr/local/lib/python3.10/dist-packages (from matplotlib) (8.4.0)\n",
            "Requirement already satisfied: kiwisolver>=1.0.1 in /usr/local/lib/python3.10/dist-packages (from matplotlib) (1.4.4)\n",
            "Requirement already satisfied: contourpy>=1.0.1 in /usr/local/lib/python3.10/dist-packages (from matplotlib) (1.0.7)\n",
            "Requirement already satisfied: cycler>=0.10 in /usr/local/lib/python3.10/dist-packages (from matplotlib) (0.11.0)\n",
            "Requirement already satisfied: six>=1.5 in /usr/local/lib/python3.10/dist-packages (from python-dateutil>=2.7->matplotlib) (1.16.0)\n",
            "Looking in indexes: https://pypi.org/simple, https://us-python.pkg.dev/colab-wheels/public/simple/\n",
            "Requirement already satisfied: dwave-ocean-sdk in /usr/local/lib/python3.10/dist-packages (6.3.0)\n",
            "Requirement already satisfied: dwave-cloud-client==0.10.4 in /usr/local/lib/python3.10/dist-packages (from dwave-ocean-sdk) (0.10.4)\n",
            "Requirement already satisfied: penaltymodel==1.0.2 in /usr/local/lib/python3.10/dist-packages (from dwave-ocean-sdk) (1.0.2)\n",
            "Requirement already satisfied: dwave-samplers==1.0.0 in /usr/local/lib/python3.10/dist-packages (from dwave-ocean-sdk) (1.0.0)\n",
            "Requirement already satisfied: dwave-tabu==0.5.0 in /usr/local/lib/python3.10/dist-packages (from dwave-ocean-sdk) (0.5.0)\n",
            "Requirement already satisfied: dwave-preprocessing==0.5.4 in /usr/local/lib/python3.10/dist-packages (from dwave-ocean-sdk) (0.5.4)\n",
            "Requirement already satisfied: dwavebinarycsp==0.2.0 in /usr/local/lib/python3.10/dist-packages (from dwave-ocean-sdk) (0.2.0)\n",
            "Requirement already satisfied: dwave-inspector==0.4.1 in /usr/local/lib/python3.10/dist-packages (from dwave-ocean-sdk) (0.4.1)\n",
            "Requirement already satisfied: pyqubo==1.4.0 in /usr/local/lib/python3.10/dist-packages (from dwave-ocean-sdk) (1.4.0)\n",
            "Requirement already satisfied: dwave-neal==0.6.0 in /usr/local/lib/python3.10/dist-packages (from dwave-ocean-sdk) (0.6.0)\n",
            "Requirement already satisfied: dwave-system==1.18.0 in /usr/local/lib/python3.10/dist-packages (from dwave-ocean-sdk) (1.18.0)\n",
            "Requirement already satisfied: minorminer==0.2.11 in /usr/local/lib/python3.10/dist-packages (from dwave-ocean-sdk) (0.2.11)\n",
            "Requirement already satisfied: dimod==0.12.3 in /usr/local/lib/python3.10/dist-packages (from dwave-ocean-sdk) (0.12.3)\n",
            "Requirement already satisfied: dwave-hybrid==0.6.10 in /usr/local/lib/python3.10/dist-packages (from dwave-ocean-sdk) (0.6.10)\n",
            "Requirement already satisfied: dwave-greedy==0.3.0 in /usr/local/lib/python3.10/dist-packages (from dwave-ocean-sdk) (0.3.0)\n",
            "Requirement already satisfied: dwave-networkx==0.8.13 in /usr/local/lib/python3.10/dist-packages (from dwave-ocean-sdk) (0.8.13)\n",
            "Requirement already satisfied: numpy<2.0.0,>=1.17.3 in /usr/local/lib/python3.10/dist-packages (from dimod==0.12.3->dwave-ocean-sdk) (1.22.4)\n",
            "Requirement already satisfied: click>=7.0 in /usr/local/lib/python3.10/dist-packages (from dwave-cloud-client==0.10.4->dwave-ocean-sdk) (8.1.3)\n",
            "Requirement already satisfied: python-dateutil>=2.7 in /usr/local/lib/python3.10/dist-packages (from dwave-cloud-client==0.10.4->dwave-ocean-sdk) (2.8.2)\n",
            "Requirement already satisfied: pydantic>=1.7.3 in /usr/local/lib/python3.10/dist-packages (from dwave-cloud-client==0.10.4->dwave-ocean-sdk) (1.10.7)\n",
            "Requirement already satisfied: requests[socks]>=2.18 in /usr/local/lib/python3.10/dist-packages (from dwave-cloud-client==0.10.4->dwave-ocean-sdk) (2.28.2)\n",
            "Requirement already satisfied: diskcache>=5.2.1 in /usr/local/lib/python3.10/dist-packages (from dwave-cloud-client==0.10.4->dwave-ocean-sdk) (5.6.1)\n",
            "Requirement already satisfied: plucky>=0.4.3 in /usr/local/lib/python3.10/dist-packages (from dwave-cloud-client==0.10.4->dwave-ocean-sdk) (0.4.3)\n",
            "Requirement already satisfied: homebase>=1.0 in /usr/local/lib/python3.10/dist-packages (from dwave-cloud-client==0.10.4->dwave-ocean-sdk) (1.0.1)\n",
            "Requirement already satisfied: networkx in /usr/local/lib/python3.10/dist-packages (from dwave-hybrid==0.6.10->dwave-ocean-sdk) (2.8.8)\n",
            "Requirement already satisfied: Flask>=2.2 in /usr/local/lib/python3.10/dist-packages (from dwave-inspector==0.4.1->dwave-ocean-sdk) (2.2.4)\n",
            "Requirement already satisfied: scipy>=1.7.3 in /usr/local/lib/python3.10/dist-packages (from dwave-system==1.18.0->dwave-ocean-sdk) (1.10.1)\n",
            "Requirement already satisfied: fasteners in /usr/local/lib/python3.10/dist-packages (from minorminer==0.2.11->dwave-ocean-sdk) (0.18)\n",
            "Requirement already satisfied: rectangle-packer>=2.0.1 in /usr/local/lib/python3.10/dist-packages (from minorminer==0.2.11->dwave-ocean-sdk) (2.0.1)\n",
            "Requirement already satisfied: six>=1.15.0 in /usr/local/lib/python3.10/dist-packages (from pyqubo==1.4.0->dwave-ocean-sdk) (1.16.0)\n",
            "Requirement already satisfied: Deprecated>=1.2.12 in /usr/local/lib/python3.10/dist-packages (from pyqubo==1.4.0->dwave-ocean-sdk) (1.2.13)\n",
            "Requirement already satisfied: wrapt<2,>=1.10 in /usr/local/lib/python3.10/dist-packages (from Deprecated>=1.2.12->pyqubo==1.4.0->dwave-ocean-sdk) (1.14.1)\n",
            "Requirement already satisfied: Jinja2>=3.0 in /usr/local/lib/python3.10/dist-packages (from Flask>=2.2->dwave-inspector==0.4.1->dwave-ocean-sdk) (3.1.2)\n",
            "Requirement already satisfied: itsdangerous>=2.0 in /usr/local/lib/python3.10/dist-packages (from Flask>=2.2->dwave-inspector==0.4.1->dwave-ocean-sdk) (2.1.2)\n",
            "Requirement already satisfied: Werkzeug>=2.2.2 in /usr/local/lib/python3.10/dist-packages (from Flask>=2.2->dwave-inspector==0.4.1->dwave-ocean-sdk) (2.3.0)\n",
            "Requirement already satisfied: typing-extensions>=4.2.0 in /usr/local/lib/python3.10/dist-packages (from pydantic>=1.7.3->dwave-cloud-client==0.10.4->dwave-ocean-sdk) (4.5.0)\n",
            "Requirement already satisfied: idna<4,>=2.5 in /usr/local/lib/python3.10/dist-packages (from requests[socks]>=2.18->dwave-cloud-client==0.10.4->dwave-ocean-sdk) (3.4)\n",
            "Requirement already satisfied: charset-normalizer<4,>=2 in /usr/local/lib/python3.10/dist-packages (from requests[socks]>=2.18->dwave-cloud-client==0.10.4->dwave-ocean-sdk) (2.0.12)\n",
            "Requirement already satisfied: urllib3<1.27,>=1.21.1 in /usr/local/lib/python3.10/dist-packages (from requests[socks]>=2.18->dwave-cloud-client==0.10.4->dwave-ocean-sdk) (1.26.15)\n",
            "Requirement already satisfied: certifi>=2017.4.17 in /usr/local/lib/python3.10/dist-packages (from requests[socks]>=2.18->dwave-cloud-client==0.10.4->dwave-ocean-sdk) (2022.12.7)\n",
            "Requirement already satisfied: PySocks!=1.5.7,>=1.5.6 in /usr/local/lib/python3.10/dist-packages (from requests[socks]>=2.18->dwave-cloud-client==0.10.4->dwave-ocean-sdk) (1.7.1)\n",
            "Requirement already satisfied: MarkupSafe>=2.0 in /usr/local/lib/python3.10/dist-packages (from Jinja2>=3.0->Flask>=2.2->dwave-inspector==0.4.1->dwave-ocean-sdk) (2.1.2)\n",
            "Looking in indexes: https://pypi.org/simple, https://us-python.pkg.dev/colab-wheels/public/simple/\n",
            "Requirement already satisfied: openjij in /usr/local/lib/python3.10/dist-packages (0.7.1)\n",
            "Requirement already satisfied: scipy<1.11.0,>=1.7.3 in /usr/local/lib/python3.10/dist-packages (from openjij) (1.10.1)\n",
            "Requirement already satisfied: numpy<1.25.0,>=1.17.3 in /usr/local/lib/python3.10/dist-packages (from openjij) (1.22.4)\n",
            "Requirement already satisfied: requests<2.29.0,>=2.28.0 in /usr/local/lib/python3.10/dist-packages (from openjij) (2.28.2)\n",
            "Requirement already satisfied: jij-cimod<1.5.0,>=1.4.42 in /usr/local/lib/python3.10/dist-packages (from openjij) (1.4.54)\n",
            "Requirement already satisfied: typing-extensions>=4.2.0 in /usr/local/lib/python3.10/dist-packages (from openjij) (4.5.0)\n",
            "Requirement already satisfied: dimod<0.13.0 in /usr/local/lib/python3.10/dist-packages (from openjij) (0.12.3)\n",
            "Requirement already satisfied: certifi>=2017.4.17 in /usr/local/lib/python3.10/dist-packages (from requests<2.29.0,>=2.28.0->openjij) (2022.12.7)\n",
            "Requirement already satisfied: charset-normalizer<4,>=2 in /usr/local/lib/python3.10/dist-packages (from requests<2.29.0,>=2.28.0->openjij) (2.0.12)\n",
            "Requirement already satisfied: idna<4,>=2.5 in /usr/local/lib/python3.10/dist-packages (from requests<2.29.0,>=2.28.0->openjij) (3.4)\n",
            "Requirement already satisfied: urllib3<1.27,>=1.21.1 in /usr/local/lib/python3.10/dist-packages (from requests<2.29.0,>=2.28.0->openjij) (1.26.15)\n",
            "Looking in indexes: https://pypi.org/simple, https://us-python.pkg.dev/colab-wheels/public/simple/\n",
            "Requirement already satisfied: ortools in /usr/local/lib/python3.10/dist-packages (9.6.2534)\n",
            "Requirement already satisfied: absl-py>=0.13 in /usr/local/lib/python3.10/dist-packages (from ortools) (1.4.0)\n",
            "Requirement already satisfied: scipy>=1.10.0 in /usr/local/lib/python3.10/dist-packages (from ortools) (1.10.1)\n",
            "Requirement already satisfied: numpy>=1.13.3 in /usr/local/lib/python3.10/dist-packages (from ortools) (1.22.4)\n",
            "Requirement already satisfied: protobuf>=4.21.12 in /usr/local/lib/python3.10/dist-packages (from ortools) (4.22.4)\n",
            "Looking in indexes: https://pypi.org/simple, https://us-python.pkg.dev/colab-wheels/public/simple/\n",
            "Requirement already satisfied: vrplib in /usr/local/lib/python3.10/dist-packages (1.0.1)\n",
            "Requirement already satisfied: numpy<2.0,>=1.19 in /usr/local/lib/python3.10/dist-packages (from vrplib) (1.22.4)\n"
          ]
        }
      ],
      "source": [
        "!pip install numpy\n",
        "!pip install matplotlib\n",
        "!pip install dwave-ocean-sdk\n",
        "!pip install openjij\n",
        "!pip install ortools\n",
        "!pip install vrplib"
      ]
    },
    {
      "cell_type": "code",
      "execution_count": null,
      "metadata": {
        "id": "1wQ2HyuEHLVm"
      },
      "outputs": [],
      "source": [
        "import itertools\n",
        "\n",
        "import numpy as np\n",
        "import matplotlib.pyplot as plt\n",
        "from pyqubo import Array, Constraint, Placeholder"
      ]
    },
    {
      "cell_type": "markdown",
      "metadata": {
        "id": "Uqp56AJs7cdR"
      },
      "source": [
        "この記事では、[CVRPLIB](http://vrp.galgos.inf.puc-rio.br/index.php/en/)のCMT1インタスンスを実験の対象とします。"
      ]
    },
    {
      "cell_type": "code",
      "execution_count": null,
      "metadata": {
        "id": "OTZ-f8vhccRP"
      },
      "outputs": [],
      "source": [
        "import vrplib\n",
        "\n",
        "instance_name = \"CMT1\"\n",
        "path_instance = \"cvrp.vrp\"\n",
        "path_solution = \"cvrp.sol\"\n",
        "\n",
        "vrplib.download_instance(instance_name, path_instance)\n",
        "vrplib.download_solution(instance_name, path_solution)\n",
        "\n",
        "vrp_instance = vrplib.read_instance(path_instance)\n",
        "vrp_solution = vrplib.read_solution(path_solution)"
      ]
    },
    {
      "cell_type": "code",
      "execution_count": null,
      "metadata": {
        "id": "lHiFAXzMHj-O"
      },
      "outputs": [],
      "source": [
        "customers = vrp_instance[\"node_coord\"]\n",
        "customers_nodepot = customers[1:]  # 0: depot\n",
        "cus_num = len(customers_nodepot)"
      ]
    },
    {
      "cell_type": "code",
      "execution_count": null,
      "metadata": {
        "colab": {
          "base_uri": "https://localhost:8080/"
        },
        "id": "NLbFjPmXi2Gd",
        "outputId": "f24029c9-7b6e-4972-85cc-2513f0f4565c"
      },
      "outputs": [
        {
          "name": "stdout",
          "output_type": "stream",
          "text": [
            "[[0.         0.14444578 0.22432224 ... 0.14444578 0.30830144 0.28268839]\n",
            " [0.14444578 0.         0.17863522 ... 0.28889157 0.24551063 0.16223248]\n",
            " [0.22432224 0.17863522 0.         ... 0.33235458 0.42298608 0.31874053]\n",
            " ...\n",
            " [0.14444578 0.28889157 0.33235458 ... 0.         0.41418987 0.41861108]\n",
            " [0.30830144 0.24551063 0.42298608 ... 0.41418987 0.         0.14061873]\n",
            " [0.28268839 0.16223248 0.31874053 ... 0.41861108 0.14061873 0.        ]]\n"
          ]
        }
      ],
      "source": [
        "# 距離行列の生成\n",
        "D_uv = np.zeros((cus_num, cus_num))\n",
        "for u in range(cus_num):\n",
        "    for v in range(u + 1, cus_num):\n",
        "        distance_uv = np.linalg.norm(customers_nodepot[u] - customers_nodepot[v])\n",
        "        D_uv[u][v] = D_uv[v][u] = distance_uv\n",
        "\n",
        "D_uv_normed = D_uv / np.max(D_uv)\n",
        "print(D_uv_normed)"
      ]
    },
    {
      "cell_type": "code",
      "execution_count": null,
      "metadata": {
        "colab": {
          "base_uri": "https://localhost:8080/"
        },
        "id": "Hq1ZYo642XIZ",
        "outputId": "ac6c0695-d99c-4654-ad4a-0a5ac6f6964f"
      },
      "outputs": [
        {
          "name": "stdout",
          "output_type": "stream",
          "text": [
            "[ 7 30 16  9 21 15 19 23 11  5 19 29 23 21 10 15  3 41  9 28  8  8 16 10\n",
            " 28  7 15 14  6 19 11 12 23 26 17  6  9 15 14  7 27 13 11 16 10  5 25 17\n",
            " 18 10]\n"
          ]
        }
      ],
      "source": [
        "demands = vrp_instance[\"demand\"][1:]  # 0: depot\n",
        "print(demands)"
      ]
    },
    {
      "cell_type": "code",
      "execution_count": null,
      "metadata": {
        "id": "htFlF58VOyRQ"
      },
      "outputs": [],
      "source": [
        "# 車両の設定\n",
        "car_num = 5  # 車の台数\n",
        "capa = vrp_instance[\"capacity\"]  # トラックの容量"
      ]
    },
    {
      "cell_type": "markdown",
      "metadata": {
        "id": "YWypNU7x_8WB"
      },
      "source": [
        "次にpyquboに数式を書いていきます。"
      ]
    },
    {
      "cell_type": "code",
      "execution_count": null,
      "metadata": {
        "id": "g066Y5n9P5Ti"
      },
      "outputs": [],
      "source": [
        "def make_pyqubo_model1(car_num, cus_num, capa, D_uv, demands):\n",
        "    x = Array.create(\"x\", shape=(cus_num, car_num), vartype=\"BINARY\")\n",
        "    y = Array.create(\"y\", shape=(capa, car_num), vartype=\"BINARY\")\n",
        "\n",
        "    H_A_1 = np.sum(\n",
        "        [\n",
        "            (1 - np.sum([y[i - 1, k] for i in range(1, capa + 1)])) ** 2\n",
        "            for k in range(car_num)\n",
        "        ]\n",
        "    )\n",
        "    H_A_2 = np.sum(\n",
        "        [\n",
        "            (\n",
        "                np.sum([i * y[i - 1, k] for i in range(1, capa + 1)])\n",
        "                - np.sum([demands[v] * x[v, k] for v in range(cus_num)])\n",
        "            )\n",
        "            ** 2\n",
        "            for k in range(car_num)\n",
        "        ]\n",
        "    )\n",
        "    H_B = np.sum(\n",
        "        [(1 - np.sum([x[v, k] for k in range(car_num)])) ** 2 for v in range(cus_num)]\n",
        "    )\n",
        "    H_C = np.sum(\n",
        "        [\n",
        "            np.sum(\n",
        "                [\n",
        "                    D_uv[u, v] * x[u, k] * x[v, k]\n",
        "                    for u, v in itertools.combinations(range(cus_num), 2)\n",
        "                ]\n",
        "            )\n",
        "            for k in range(car_num)\n",
        "        ]\n",
        "    )\n",
        "\n",
        "    H = Placeholder(\"X\") * Constraint(H_A_1, \"H_A_1\") + Placeholder(\"A\") * Constraint(\n",
        "        H_A_2, \"H_A_2\"\n",
        "    )\n",
        "    H = H + Placeholder(\"B\") * Constraint(H_B, \"H_B\") + Placeholder(\"C\") * H_C\n",
        "\n",
        "    return H.compile()"
      ]
    },
    {
      "cell_type": "code",
      "execution_count": null,
      "metadata": {
        "id": "dQb8R9kwQZiA"
      },
      "outputs": [],
      "source": [
        "model1 = make_pyqubo_model1(car_num, cus_num, capa, D_uv, demands)"
      ]
    },
    {
      "cell_type": "code",
      "execution_count": null,
      "metadata": {
        "colab": {
          "base_uri": "https://localhost:8080/"
        },
        "id": "sX-x88_SQZeh",
        "outputId": "eb5b1e7f-dc6d-44d9-e051-a6167d6b384a"
      },
      "outputs": [
        {
          "name": "stdout",
          "output_type": "stream",
          "text": [
            "num_variables: 1050\n"
          ]
        }
      ],
      "source": [
        "feed_dict1 = dict(X=2500.0, A=50.0, B=2500.0, C=1.0)  # いろいろ係数を調整してみてください\n",
        "bqm1 = model1.to_bqm(feed_dict=feed_dict1)\n",
        "print(\"num_variables:\", bqm1.num_variables)"
      ]
    },
    {
      "cell_type": "code",
      "execution_count": null,
      "metadata": {
        "id": "awibSZQIjqBZ"
      },
      "outputs": [],
      "source": [
        "# SAの場合\n",
        "from neal import SimulatedAnnealingSampler\n",
        "\n",
        "sampler = SimulatedAnnealingSampler()\n",
        "\n",
        "# D-Waveマシンの場合\n",
        "# from dwave.system import DWaveSampler, EmbeddingComposite\n",
        "# sampler_config = dict(solver=\"Advantage_system6.2\", token=\"YOUR_TOKEN\")\n",
        "# sampler = EmbeddingComposite(DWaveSampler(**sampler_config))"
      ]
    },
    {
      "cell_type": "code",
      "execution_count": null,
      "metadata": {
        "colab": {
          "base_uri": "https://localhost:8080/",
          "height": 236
        },
        "id": "vi8478_ejd2-",
        "outputId": "8e5eae7a-a56b-4294-99ae-73e25bbace35"
      },
      "outputs": [
        {
          "data": {
            "text/html": [
              "\n",
              "  <div id=\"df-382d01eb-012b-4dda-87aa-d87e2d20698b\">\n",
              "    <div class=\"colab-df-container\">\n",
              "      <div>\n",
              "<style scoped>\n",
              "    .dataframe tbody tr th:only-of-type {\n",
              "        vertical-align: middle;\n",
              "    }\n",
              "\n",
              "    .dataframe tbody tr th {\n",
              "        vertical-align: top;\n",
              "    }\n",
              "\n",
              "    .dataframe thead th {\n",
              "        text-align: right;\n",
              "    }\n",
              "</style>\n",
              "<table border=\"1\" class=\"dataframe\">\n",
              "  <thead>\n",
              "    <tr style=\"text-align: right;\">\n",
              "      <th></th>\n",
              "      <th>x[0][0]</th>\n",
              "      <th>x[0][1]</th>\n",
              "      <th>x[0][2]</th>\n",
              "      <th>x[0][3]</th>\n",
              "      <th>x[0][4]</th>\n",
              "      <th>x[10][0]</th>\n",
              "      <th>x[10][1]</th>\n",
              "      <th>x[10][2]</th>\n",
              "      <th>x[10][3]</th>\n",
              "      <th>x[10][4]</th>\n",
              "      <th>...</th>\n",
              "      <th>y[99][2]</th>\n",
              "      <th>y[99][3]</th>\n",
              "      <th>y[99][4]</th>\n",
              "      <th>y[9][0]</th>\n",
              "      <th>y[9][1]</th>\n",
              "      <th>y[9][2]</th>\n",
              "      <th>y[9][3]</th>\n",
              "      <th>y[9][4]</th>\n",
              "      <th>energy</th>\n",
              "      <th>num_occurrences</th>\n",
              "    </tr>\n",
              "  </thead>\n",
              "  <tbody>\n",
              "    <tr>\n",
              "      <th>0</th>\n",
              "      <td>1</td>\n",
              "      <td>0</td>\n",
              "      <td>0</td>\n",
              "      <td>0</td>\n",
              "      <td>0</td>\n",
              "      <td>1</td>\n",
              "      <td>0</td>\n",
              "      <td>1</td>\n",
              "      <td>0</td>\n",
              "      <td>0</td>\n",
              "      <td>...</td>\n",
              "      <td>0</td>\n",
              "      <td>0</td>\n",
              "      <td>0</td>\n",
              "      <td>0</td>\n",
              "      <td>0</td>\n",
              "      <td>0</td>\n",
              "      <td>0</td>\n",
              "      <td>0</td>\n",
              "      <td>124523.128859</td>\n",
              "      <td>1</td>\n",
              "    </tr>\n",
              "    <tr>\n",
              "      <th>1</th>\n",
              "      <td>0</td>\n",
              "      <td>1</td>\n",
              "      <td>0</td>\n",
              "      <td>0</td>\n",
              "      <td>0</td>\n",
              "      <td>0</td>\n",
              "      <td>1</td>\n",
              "      <td>1</td>\n",
              "      <td>0</td>\n",
              "      <td>0</td>\n",
              "      <td>...</td>\n",
              "      <td>0</td>\n",
              "      <td>0</td>\n",
              "      <td>0</td>\n",
              "      <td>0</td>\n",
              "      <td>0</td>\n",
              "      <td>0</td>\n",
              "      <td>0</td>\n",
              "      <td>0</td>\n",
              "      <td>175790.620470</td>\n",
              "      <td>1</td>\n",
              "    </tr>\n",
              "    <tr>\n",
              "      <th>2</th>\n",
              "      <td>0</td>\n",
              "      <td>0</td>\n",
              "      <td>0</td>\n",
              "      <td>0</td>\n",
              "      <td>1</td>\n",
              "      <td>0</td>\n",
              "      <td>1</td>\n",
              "      <td>0</td>\n",
              "      <td>0</td>\n",
              "      <td>1</td>\n",
              "      <td>...</td>\n",
              "      <td>0</td>\n",
              "      <td>0</td>\n",
              "      <td>0</td>\n",
              "      <td>0</td>\n",
              "      <td>0</td>\n",
              "      <td>0</td>\n",
              "      <td>0</td>\n",
              "      <td>0</td>\n",
              "      <td>191027.912279</td>\n",
              "      <td>1</td>\n",
              "    </tr>\n",
              "    <tr>\n",
              "      <th>3</th>\n",
              "      <td>0</td>\n",
              "      <td>0</td>\n",
              "      <td>1</td>\n",
              "      <td>0</td>\n",
              "      <td>0</td>\n",
              "      <td>0</td>\n",
              "      <td>0</td>\n",
              "      <td>1</td>\n",
              "      <td>1</td>\n",
              "      <td>0</td>\n",
              "      <td>...</td>\n",
              "      <td>0</td>\n",
              "      <td>0</td>\n",
              "      <td>0</td>\n",
              "      <td>0</td>\n",
              "      <td>0</td>\n",
              "      <td>0</td>\n",
              "      <td>0</td>\n",
              "      <td>0</td>\n",
              "      <td>145609.056330</td>\n",
              "      <td>1</td>\n",
              "    </tr>\n",
              "    <tr>\n",
              "      <th>4</th>\n",
              "      <td>0</td>\n",
              "      <td>0</td>\n",
              "      <td>0</td>\n",
              "      <td>0</td>\n",
              "      <td>1</td>\n",
              "      <td>0</td>\n",
              "      <td>0</td>\n",
              "      <td>0</td>\n",
              "      <td>1</td>\n",
              "      <td>1</td>\n",
              "      <td>...</td>\n",
              "      <td>0</td>\n",
              "      <td>0</td>\n",
              "      <td>0</td>\n",
              "      <td>0</td>\n",
              "      <td>0</td>\n",
              "      <td>0</td>\n",
              "      <td>0</td>\n",
              "      <td>0</td>\n",
              "      <td>144379.351831</td>\n",
              "      <td>1</td>\n",
              "    </tr>\n",
              "  </tbody>\n",
              "</table>\n",
              "<p>5 rows × 1052 columns</p>\n",
              "</div>\n",
              "      <button class=\"colab-df-convert\" onclick=\"convertToInteractive('df-382d01eb-012b-4dda-87aa-d87e2d20698b')\"\n",
              "              title=\"Convert this dataframe to an interactive table.\"\n",
              "              style=\"display:none;\">\n",
              "        \n",
              "  <svg xmlns=\"http://www.w3.org/2000/svg\" height=\"24px\"viewBox=\"0 0 24 24\"\n",
              "       width=\"24px\">\n",
              "    <path d=\"M0 0h24v24H0V0z\" fill=\"none\"/>\n",
              "    <path d=\"M18.56 5.44l.94 2.06.94-2.06 2.06-.94-2.06-.94-.94-2.06-.94 2.06-2.06.94zm-11 1L8.5 8.5l.94-2.06 2.06-.94-2.06-.94L8.5 2.5l-.94 2.06-2.06.94zm10 10l.94 2.06.94-2.06 2.06-.94-2.06-.94-.94-2.06-.94 2.06-2.06.94z\"/><path d=\"M17.41 7.96l-1.37-1.37c-.4-.4-.92-.59-1.43-.59-.52 0-1.04.2-1.43.59L10.3 9.45l-7.72 7.72c-.78.78-.78 2.05 0 2.83L4 21.41c.39.39.9.59 1.41.59.51 0 1.02-.2 1.41-.59l7.78-7.78 2.81-2.81c.8-.78.8-2.07 0-2.86zM5.41 20L4 18.59l7.72-7.72 1.47 1.35L5.41 20z\"/>\n",
              "  </svg>\n",
              "      </button>\n",
              "      \n",
              "  <style>\n",
              "    .colab-df-container {\n",
              "      display:flex;\n",
              "      flex-wrap:wrap;\n",
              "      gap: 12px;\n",
              "    }\n",
              "\n",
              "    .colab-df-convert {\n",
              "      background-color: #E8F0FE;\n",
              "      border: none;\n",
              "      border-radius: 50%;\n",
              "      cursor: pointer;\n",
              "      display: none;\n",
              "      fill: #1967D2;\n",
              "      height: 32px;\n",
              "      padding: 0 0 0 0;\n",
              "      width: 32px;\n",
              "    }\n",
              "\n",
              "    .colab-df-convert:hover {\n",
              "      background-color: #E2EBFA;\n",
              "      box-shadow: 0px 1px 2px rgba(60, 64, 67, 0.3), 0px 1px 3px 1px rgba(60, 64, 67, 0.15);\n",
              "      fill: #174EA6;\n",
              "    }\n",
              "\n",
              "    [theme=dark] .colab-df-convert {\n",
              "      background-color: #3B4455;\n",
              "      fill: #D2E3FC;\n",
              "    }\n",
              "\n",
              "    [theme=dark] .colab-df-convert:hover {\n",
              "      background-color: #434B5C;\n",
              "      box-shadow: 0px 1px 3px 1px rgba(0, 0, 0, 0.15);\n",
              "      filter: drop-shadow(0px 1px 2px rgba(0, 0, 0, 0.3));\n",
              "      fill: #FFFFFF;\n",
              "    }\n",
              "  </style>\n",
              "\n",
              "      <script>\n",
              "        const buttonEl =\n",
              "          document.querySelector('#df-382d01eb-012b-4dda-87aa-d87e2d20698b button.colab-df-convert');\n",
              "        buttonEl.style.display =\n",
              "          google.colab.kernel.accessAllowed ? 'block' : 'none';\n",
              "\n",
              "        async function convertToInteractive(key) {\n",
              "          const element = document.querySelector('#df-382d01eb-012b-4dda-87aa-d87e2d20698b');\n",
              "          const dataTable =\n",
              "            await google.colab.kernel.invokeFunction('convertToInteractive',\n",
              "                                                     [key], {});\n",
              "          if (!dataTable) return;\n",
              "\n",
              "          const docLinkHtml = 'Like what you see? Visit the ' +\n",
              "            '<a target=\"_blank\" href=https://colab.research.google.com/notebooks/data_table.ipynb>data table notebook</a>'\n",
              "            + ' to learn more about interactive tables.';\n",
              "          element.innerHTML = '';\n",
              "          dataTable['output_type'] = 'display_data';\n",
              "          await google.colab.output.renderOutput(dataTable, element);\n",
              "          const docLink = document.createElement('div');\n",
              "          docLink.innerHTML = docLinkHtml;\n",
              "          element.appendChild(docLink);\n",
              "        }\n",
              "      </script>\n",
              "    </div>\n",
              "  </div>\n",
              "  "
            ],
            "text/plain": [
              "   x[0][0]  x[0][1]  x[0][2]  x[0][3]  x[0][4]  x[10][0]  x[10][1]  x[10][2]  \\\n",
              "0        1        0        0        0        0         1         0         1   \n",
              "1        0        1        0        0        0         0         1         1   \n",
              "2        0        0        0        0        1         0         1         0   \n",
              "3        0        0        1        0        0         0         0         1   \n",
              "4        0        0        0        0        1         0         0         0   \n",
              "\n",
              "   x[10][3]  x[10][4]  ...  y[99][2]  y[99][3]  y[99][4]  y[9][0]  y[9][1]  \\\n",
              "0         0         0  ...         0         0         0        0        0   \n",
              "1         0         0  ...         0         0         0        0        0   \n",
              "2         0         1  ...         0         0         0        0        0   \n",
              "3         1         0  ...         0         0         0        0        0   \n",
              "4         1         1  ...         0         0         0        0        0   \n",
              "\n",
              "   y[9][2]  y[9][3]  y[9][4]         energy  num_occurrences  \n",
              "0        0        0        0  124523.128859                1  \n",
              "1        0        0        0  175790.620470                1  \n",
              "2        0        0        0  191027.912279                1  \n",
              "3        0        0        0  145609.056330                1  \n",
              "4        0        0        0  144379.351831                1  \n",
              "\n",
              "[5 rows x 1052 columns]"
            ]
          },
          "execution_count": 12,
          "metadata": {},
          "output_type": "execute_result"
        }
      ],
      "source": [
        "sampler_params1 = dict(num_reads=10, num_sweeps=10000)\n",
        "sampleset1 = sampler.sample(bqm1, **sampler_params1).aggregate()\n",
        "sampleset1.to_pandas_dataframe().head()"
      ]
    },
    {
      "cell_type": "markdown",
      "metadata": {
        "id": "AgfvLLUNvvdx"
      },
      "source": [
        "one-hot制約や容量制約を満たしているか確認しましょう。Falseが表示される場合はその制約は満たされていないということを示しています。"
      ]
    },
    {
      "cell_type": "code",
      "execution_count": null,
      "metadata": {
        "colab": {
          "base_uri": "https://localhost:8080/"
        },
        "id": "4Xc28FiDRP_B",
        "outputId": "6ac6f232-b4ee-4975-ea3e-5cf16aad9913"
      },
      "outputs": [
        {
          "name": "stdout",
          "output_type": "stream",
          "text": [
            "124523.12880269997\n",
            "{'H_A_2': (False, 75.0), 'H_B': (False, 16.0), 'H_A_1': (False, 27.0)}\n",
            "144379.35184135474\n",
            "{'H_A_2': (False, 47.0), 'H_B': (False, 25.0), 'H_A_1': (False, 25.0)}\n",
            "145609.0562772788\n",
            "{'H_A_2': (False, 64.0), 'H_B': (False, 28.0), 'H_A_1': (False, 22.0)}\n",
            "151658.67309271824\n",
            "{'H_A_2': (False, 33.0), 'H_B': (False, 26.0), 'H_A_1': (False, 27.0)}\n",
            "173256.15261312574\n",
            "{'H_A_2': (False, 51.0), 'H_B': (False, 35.0), 'H_A_1': (False, 25.0)}\n",
            "173511.7737898957\n",
            "{'H_A_2': (False, 69.0), 'H_B': (False, 33.0), 'H_A_1': (False, 27.0)}\n",
            "175790.62046944257\n",
            "{'H_A_2': (False, 61.0), 'H_B': (False, 31.0), 'H_A_1': (False, 30.0)}\n",
            "191027.9123360645\n",
            "{'H_A_2': (False, 74.0), 'H_B': (False, 30.0), 'H_A_1': (False, 37.0)}\n",
            "194297.09123693034\n",
            "{'H_A_2': (False, 46.0), 'H_B': (False, 30.0), 'H_A_1': (False, 39.0)}\n",
            "216092.85363079607\n",
            "{'H_A_2': (False, 80.0), 'H_B': (False, 45.0), 'H_A_1': (False, 30.0)}\n"
          ]
        }
      ],
      "source": [
        "# 制約を満たしているかどうかを確認する\n",
        "decoded_samples1 = model1.decode_sampleset(sampleset1, feed_dict1)\n",
        "\n",
        "for sample in decoded_samples1:\n",
        "    print(sample.energy)\n",
        "    print(sample.constraints(only_broken=True))"
      ]
    },
    {
      "cell_type": "markdown",
      "metadata": {
        "id": "dpFT7IJNZYFA"
      },
      "source": [
        "何回か制約項の係数を変えて実行してみてください。ある真実に気づくはずです。\n",
        "\n",
        "そう。すべての制約項が0になるように係数を調整することが難しいということに！\n",
        "\n",
        "（かなりの時間試しましたが、筆者は二つの制約項を0にすることしかできませんでした...）"
      ]
    },
    {
      "cell_type": "markdown",
      "metadata": {
        "id": "SFdrwPMaaP0Z"
      },
      "source": [
        "考えられる原因としては以下のことが挙げられます。\n",
        "\n",
        "1. 3つの係数をバランスよく調整する必要がある。\n",
        "\n",
        "2. 顧客の要求量や顧客同士の距離に関してオーダーが異なる。\n",
        "\n",
        "3. そもそも不等式制約をそのまま解くことは難しい。\n",
        "\n",
        "この段階で、論文に載っていた定式化で解くことは難しいということになり、新たな手法を取ることになりました。"
      ]
    },
    {
      "cell_type": "markdown",
      "metadata": {
        "id": "8I3n9ZPKbzxZ"
      },
      "source": [
        "#### Part2 容量の平均値に寄せる手法"
      ]
    },
    {
      "cell_type": "markdown",
      "metadata": {
        "id": "4TPGJdn6dVt3"
      },
      "source": [
        "次に用いた手法が2つ目の論文に載っている定式化です。\n",
        "\n",
        "Part1と異なるのは容量制約に関する部分です。具体的には以下のようになります。\n",
        "\n",
        "重みに関する制約\n",
        "$$ H_D = D\\sum_{k=1}^m\\left(H_{D'} - \\sum_{v=1}^n w_v x_v^k \\right)^2$$\n",
        "\n",
        "$$ H_{D'} = \\frac{1}{m}\\sum_{k=1}^m\\left(\\sum_{v=1}^n w_v x_v^k \\right) $$\n",
        "\n",
        "これは、すべての荷物の総和を車の台数で割ったもの（車に割り当てるべき容量の平均値）に近づける制約になっています。（この制約は0にはならないことに注意が必要）\n",
        "\n",
        "この$H_D$を先ほどの$H_A$と置き換える形で解いていきます。"
      ]
    },
    {
      "cell_type": "code",
      "execution_count": null,
      "metadata": {
        "colab": {
          "base_uri": "https://localhost:8080/"
        },
        "id": "HfqaAJcMev7f",
        "outputId": "e39a34bf-d277-486f-a7a1-836d03535043"
      },
      "outputs": [
        {
          "name": "stdout",
          "output_type": "stream",
          "text": [
            "[0.04375 0.1875  0.1     0.05625 0.13125 0.09375 0.11875 0.14375 0.06875\n",
            " 0.03125 0.11875 0.18125 0.14375 0.13125 0.0625  0.09375 0.01875 0.25625\n",
            " 0.05625 0.175   0.05    0.05    0.1     0.0625  0.175   0.04375 0.09375\n",
            " 0.0875  0.0375  0.11875 0.06875 0.075   0.14375 0.1625  0.10625 0.0375\n",
            " 0.05625 0.09375 0.0875  0.04375 0.16875 0.08125 0.06875 0.1     0.0625\n",
            " 0.03125 0.15625 0.10625 0.1125  0.0625 ]\n"
          ]
        }
      ],
      "source": [
        "# 顧客の要求量に関して正規化する\n",
        "demands_normed = demands / capa\n",
        "print(demands_normed)"
      ]
    },
    {
      "cell_type": "code",
      "execution_count": null,
      "metadata": {
        "id": "oUZdQSxI2pvI"
      },
      "outputs": [],
      "source": [
        "def make_pyqubo_model2(car_num, cus_num, capa, D_uv_normed, demands):\n",
        "    x = Array.create(\"x\", shape=(cus_num, car_num), vartype=\"BINARY\")\n",
        "\n",
        "    H_B = np.sum(\n",
        "        [(1 - np.sum([x[v, k] for k in range(car_num)])) ** 2 for v in range(cus_num)]\n",
        "    )  # one-hot\n",
        "    H_C = np.sum(\n",
        "        [\n",
        "            np.sum(\n",
        "                [\n",
        "                    D_uv_normed[u, v] * x[u, k] * x[v, k]\n",
        "                    for u, v in itertools.combinations(range(cus_num), 2)\n",
        "                ]\n",
        "            )\n",
        "            for k in range(car_num)\n",
        "        ]\n",
        "    )  # 距離\n",
        "    H_D = np.sum(\n",
        "        [\n",
        "            (\n",
        "                np.sum(demands) / car_num\n",
        "                - np.sum([demands[v] * x[v, k] for v in range(cus_num)])\n",
        "            )\n",
        "            ** 2\n",
        "            for k in range(car_num)\n",
        "        ]\n",
        "    )  # balance\n",
        "\n",
        "    H = (\n",
        "        Placeholder(\"B\") * Constraint(H_B, \"H_B\")\n",
        "        + Placeholder(\"C\") * H_C\n",
        "        + Placeholder(\"D\") * H_D\n",
        "    )\n",
        "    return H.compile()"
      ]
    },
    {
      "cell_type": "code",
      "execution_count": null,
      "metadata": {
        "id": "bawPZqcwtf-W"
      },
      "outputs": [],
      "source": [
        "model2 = make_pyqubo_model2(car_num, cus_num, capa, D_uv_normed, demands_normed)"
      ]
    },
    {
      "cell_type": "code",
      "execution_count": null,
      "metadata": {
        "colab": {
          "base_uri": "https://localhost:8080/"
        },
        "id": "nsklI1sWtn8Q",
        "outputId": "1596a36f-4f84-4480-f51b-6cb3abe8acd5"
      },
      "outputs": [
        {
          "name": "stdout",
          "output_type": "stream",
          "text": [
            "num_variables: 250\n"
          ]
        }
      ],
      "source": [
        "feed_dict2 = dict(B=3, C=1, D=100)\n",
        "bqm2 = model2.to_bqm(feed_dict=feed_dict2)\n",
        "print(\"num_variables:\", bqm2.num_variables)"
      ]
    },
    {
      "cell_type": "markdown",
      "metadata": {
        "id": "g8YwA1QfjpBL"
      },
      "source": [
        "上のコードの実行結果から補助変数がないため、変数の総数が一つ目の手法と比較して少なくなっていることが確認できます。"
      ]
    },
    {
      "cell_type": "markdown",
      "metadata": {
        "id": "suqpMx7L5_Al"
      },
      "source": [
        "50のデータについてはB=3,C=1,D=100にすると容量制約を満たしたよい結果を得ることができました。"
      ]
    },
    {
      "cell_type": "code",
      "execution_count": null,
      "metadata": {
        "id": "pzWBUXCc6Wvs"
      },
      "outputs": [],
      "source": [
        "# SAの場合\n",
        "sampler = SimulatedAnnealingSampler()\n",
        "\n",
        "# D-Waveマシンの場合 サイズ50だと大きいため解けない\n",
        "# from dwave.system import DWaveSampler, EmbeddingComposite\n",
        "# sampler_config = dict(solver=\"Advantage_system6.2\", token=\"\")\n",
        "# sampler = EmbeddingComposite(DWaveSampler(**sampler_config))"
      ]
    },
    {
      "cell_type": "code",
      "execution_count": null,
      "metadata": {
        "colab": {
          "base_uri": "https://localhost:8080/",
          "height": 236
        },
        "id": "siQS3RTVlJJr",
        "outputId": "205b47a6-3767-44ab-cc0b-adde10fd7f3b"
      },
      "outputs": [
        {
          "data": {
            "text/html": [
              "\n",
              "  <div id=\"df-b21aefa3-02aa-4af3-8919-e21363581ad4\">\n",
              "    <div class=\"colab-df-container\">\n",
              "      <div>\n",
              "<style scoped>\n",
              "    .dataframe tbody tr th:only-of-type {\n",
              "        vertical-align: middle;\n",
              "    }\n",
              "\n",
              "    .dataframe tbody tr th {\n",
              "        vertical-align: top;\n",
              "    }\n",
              "\n",
              "    .dataframe thead th {\n",
              "        text-align: right;\n",
              "    }\n",
              "</style>\n",
              "<table border=\"1\" class=\"dataframe\">\n",
              "  <thead>\n",
              "    <tr style=\"text-align: right;\">\n",
              "      <th></th>\n",
              "      <th>x[0][0]</th>\n",
              "      <th>x[0][1]</th>\n",
              "      <th>x[0][2]</th>\n",
              "      <th>x[0][3]</th>\n",
              "      <th>x[0][4]</th>\n",
              "      <th>x[10][0]</th>\n",
              "      <th>x[10][1]</th>\n",
              "      <th>x[10][2]</th>\n",
              "      <th>x[10][3]</th>\n",
              "      <th>x[10][4]</th>\n",
              "      <th>...</th>\n",
              "      <th>y[99][2]</th>\n",
              "      <th>y[99][3]</th>\n",
              "      <th>y[99][4]</th>\n",
              "      <th>y[9][0]</th>\n",
              "      <th>y[9][1]</th>\n",
              "      <th>y[9][2]</th>\n",
              "      <th>y[9][3]</th>\n",
              "      <th>y[9][4]</th>\n",
              "      <th>energy</th>\n",
              "      <th>num_occurrences</th>\n",
              "    </tr>\n",
              "  </thead>\n",
              "  <tbody>\n",
              "    <tr>\n",
              "      <th>0</th>\n",
              "      <td>1</td>\n",
              "      <td>0</td>\n",
              "      <td>0</td>\n",
              "      <td>0</td>\n",
              "      <td>0</td>\n",
              "      <td>1</td>\n",
              "      <td>0</td>\n",
              "      <td>1</td>\n",
              "      <td>0</td>\n",
              "      <td>0</td>\n",
              "      <td>...</td>\n",
              "      <td>0</td>\n",
              "      <td>0</td>\n",
              "      <td>0</td>\n",
              "      <td>0</td>\n",
              "      <td>0</td>\n",
              "      <td>0</td>\n",
              "      <td>0</td>\n",
              "      <td>0</td>\n",
              "      <td>124523.128859</td>\n",
              "      <td>1</td>\n",
              "    </tr>\n",
              "    <tr>\n",
              "      <th>1</th>\n",
              "      <td>0</td>\n",
              "      <td>0</td>\n",
              "      <td>0</td>\n",
              "      <td>0</td>\n",
              "      <td>1</td>\n",
              "      <td>0</td>\n",
              "      <td>0</td>\n",
              "      <td>0</td>\n",
              "      <td>1</td>\n",
              "      <td>1</td>\n",
              "      <td>...</td>\n",
              "      <td>0</td>\n",
              "      <td>0</td>\n",
              "      <td>0</td>\n",
              "      <td>0</td>\n",
              "      <td>0</td>\n",
              "      <td>0</td>\n",
              "      <td>0</td>\n",
              "      <td>0</td>\n",
              "      <td>144379.351831</td>\n",
              "      <td>1</td>\n",
              "    </tr>\n",
              "    <tr>\n",
              "      <th>2</th>\n",
              "      <td>0</td>\n",
              "      <td>0</td>\n",
              "      <td>1</td>\n",
              "      <td>0</td>\n",
              "      <td>0</td>\n",
              "      <td>0</td>\n",
              "      <td>0</td>\n",
              "      <td>1</td>\n",
              "      <td>1</td>\n",
              "      <td>0</td>\n",
              "      <td>...</td>\n",
              "      <td>0</td>\n",
              "      <td>0</td>\n",
              "      <td>0</td>\n",
              "      <td>0</td>\n",
              "      <td>0</td>\n",
              "      <td>0</td>\n",
              "      <td>0</td>\n",
              "      <td>0</td>\n",
              "      <td>145609.056330</td>\n",
              "      <td>1</td>\n",
              "    </tr>\n",
              "    <tr>\n",
              "      <th>3</th>\n",
              "      <td>0</td>\n",
              "      <td>0</td>\n",
              "      <td>1</td>\n",
              "      <td>0</td>\n",
              "      <td>0</td>\n",
              "      <td>0</td>\n",
              "      <td>1</td>\n",
              "      <td>1</td>\n",
              "      <td>0</td>\n",
              "      <td>0</td>\n",
              "      <td>...</td>\n",
              "      <td>0</td>\n",
              "      <td>0</td>\n",
              "      <td>0</td>\n",
              "      <td>0</td>\n",
              "      <td>0</td>\n",
              "      <td>0</td>\n",
              "      <td>0</td>\n",
              "      <td>0</td>\n",
              "      <td>151658.673178</td>\n",
              "      <td>1</td>\n",
              "    </tr>\n",
              "    <tr>\n",
              "      <th>4</th>\n",
              "      <td>0</td>\n",
              "      <td>0</td>\n",
              "      <td>0</td>\n",
              "      <td>1</td>\n",
              "      <td>0</td>\n",
              "      <td>0</td>\n",
              "      <td>0</td>\n",
              "      <td>0</td>\n",
              "      <td>1</td>\n",
              "      <td>1</td>\n",
              "      <td>...</td>\n",
              "      <td>0</td>\n",
              "      <td>0</td>\n",
              "      <td>0</td>\n",
              "      <td>0</td>\n",
              "      <td>0</td>\n",
              "      <td>0</td>\n",
              "      <td>0</td>\n",
              "      <td>0</td>\n",
              "      <td>173256.152676</td>\n",
              "      <td>1</td>\n",
              "    </tr>\n",
              "  </tbody>\n",
              "</table>\n",
              "<p>5 rows × 1052 columns</p>\n",
              "</div>\n",
              "      <button class=\"colab-df-convert\" onclick=\"convertToInteractive('df-b21aefa3-02aa-4af3-8919-e21363581ad4')\"\n",
              "              title=\"Convert this dataframe to an interactive table.\"\n",
              "              style=\"display:none;\">\n",
              "        \n",
              "  <svg xmlns=\"http://www.w3.org/2000/svg\" height=\"24px\"viewBox=\"0 0 24 24\"\n",
              "       width=\"24px\">\n",
              "    <path d=\"M0 0h24v24H0V0z\" fill=\"none\"/>\n",
              "    <path d=\"M18.56 5.44l.94 2.06.94-2.06 2.06-.94-2.06-.94-.94-2.06-.94 2.06-2.06.94zm-11 1L8.5 8.5l.94-2.06 2.06-.94-2.06-.94L8.5 2.5l-.94 2.06-2.06.94zm10 10l.94 2.06.94-2.06 2.06-.94-2.06-.94-.94-2.06-.94 2.06-2.06.94z\"/><path d=\"M17.41 7.96l-1.37-1.37c-.4-.4-.92-.59-1.43-.59-.52 0-1.04.2-1.43.59L10.3 9.45l-7.72 7.72c-.78.78-.78 2.05 0 2.83L4 21.41c.39.39.9.59 1.41.59.51 0 1.02-.2 1.41-.59l7.78-7.78 2.81-2.81c.8-.78.8-2.07 0-2.86zM5.41 20L4 18.59l7.72-7.72 1.47 1.35L5.41 20z\"/>\n",
              "  </svg>\n",
              "      </button>\n",
              "      \n",
              "  <style>\n",
              "    .colab-df-container {\n",
              "      display:flex;\n",
              "      flex-wrap:wrap;\n",
              "      gap: 12px;\n",
              "    }\n",
              "\n",
              "    .colab-df-convert {\n",
              "      background-color: #E8F0FE;\n",
              "      border: none;\n",
              "      border-radius: 50%;\n",
              "      cursor: pointer;\n",
              "      display: none;\n",
              "      fill: #1967D2;\n",
              "      height: 32px;\n",
              "      padding: 0 0 0 0;\n",
              "      width: 32px;\n",
              "    }\n",
              "\n",
              "    .colab-df-convert:hover {\n",
              "      background-color: #E2EBFA;\n",
              "      box-shadow: 0px 1px 2px rgba(60, 64, 67, 0.3), 0px 1px 3px 1px rgba(60, 64, 67, 0.15);\n",
              "      fill: #174EA6;\n",
              "    }\n",
              "\n",
              "    [theme=dark] .colab-df-convert {\n",
              "      background-color: #3B4455;\n",
              "      fill: #D2E3FC;\n",
              "    }\n",
              "\n",
              "    [theme=dark] .colab-df-convert:hover {\n",
              "      background-color: #434B5C;\n",
              "      box-shadow: 0px 1px 3px 1px rgba(0, 0, 0, 0.15);\n",
              "      filter: drop-shadow(0px 1px 2px rgba(0, 0, 0, 0.3));\n",
              "      fill: #FFFFFF;\n",
              "    }\n",
              "  </style>\n",
              "\n",
              "      <script>\n",
              "        const buttonEl =\n",
              "          document.querySelector('#df-b21aefa3-02aa-4af3-8919-e21363581ad4 button.colab-df-convert');\n",
              "        buttonEl.style.display =\n",
              "          google.colab.kernel.accessAllowed ? 'block' : 'none';\n",
              "\n",
              "        async function convertToInteractive(key) {\n",
              "          const element = document.querySelector('#df-b21aefa3-02aa-4af3-8919-e21363581ad4');\n",
              "          const dataTable =\n",
              "            await google.colab.kernel.invokeFunction('convertToInteractive',\n",
              "                                                     [key], {});\n",
              "          if (!dataTable) return;\n",
              "\n",
              "          const docLinkHtml = 'Like what you see? Visit the ' +\n",
              "            '<a target=\"_blank\" href=https://colab.research.google.com/notebooks/data_table.ipynb>data table notebook</a>'\n",
              "            + ' to learn more about interactive tables.';\n",
              "          element.innerHTML = '';\n",
              "          dataTable['output_type'] = 'display_data';\n",
              "          await google.colab.output.renderOutput(dataTable, element);\n",
              "          const docLink = document.createElement('div');\n",
              "          docLink.innerHTML = docLinkHtml;\n",
              "          element.appendChild(docLink);\n",
              "        }\n",
              "      </script>\n",
              "    </div>\n",
              "  </div>\n",
              "  "
            ],
            "text/plain": [
              "   x[0][0]  x[0][1]  x[0][2]  x[0][3]  x[0][4]  x[10][0]  x[10][1]  x[10][2]  \\\n",
              "0        1        0        0        0        0         1         0         1   \n",
              "1        0        0        0        0        1         0         0         0   \n",
              "2        0        0        1        0        0         0         0         1   \n",
              "3        0        0        1        0        0         0         1         1   \n",
              "4        0        0        0        1        0         0         0         0   \n",
              "\n",
              "   x[10][3]  x[10][4]  ...  y[99][2]  y[99][3]  y[99][4]  y[9][0]  y[9][1]  \\\n",
              "0         0         0  ...         0         0         0        0        0   \n",
              "1         1         1  ...         0         0         0        0        0   \n",
              "2         1         0  ...         0         0         0        0        0   \n",
              "3         0         0  ...         0         0         0        0        0   \n",
              "4         1         1  ...         0         0         0        0        0   \n",
              "\n",
              "   y[9][2]  y[9][3]  y[9][4]         energy  num_occurrences  \n",
              "0        0        0        0  124523.128859                1  \n",
              "1        0        0        0  144379.351831                1  \n",
              "2        0        0        0  145609.056330                1  \n",
              "3        0        0        0  151658.673178                1  \n",
              "4        0        0        0  173256.152676                1  \n",
              "\n",
              "[5 rows x 1052 columns]"
            ]
          },
          "execution_count": 19,
          "metadata": {},
          "output_type": "execute_result"
        }
      ],
      "source": [
        "sampler_params2 = dict(num_reads=10, num_sweeps=10000)\n",
        "sampleset2 = sampler.sample(bqm2, **sampler_params2).aggregate()\n",
        "sampleset1.to_pandas_dataframe().head()"
      ]
    },
    {
      "cell_type": "code",
      "execution_count": null,
      "metadata": {
        "colab": {
          "base_uri": "https://localhost:8080/"
        },
        "id": "TkFbsqr_6jo5",
        "outputId": "37c1dcf1-b196-44ad-a8e9-2517eae4fe8e"
      },
      "outputs": [
        {
          "name": "stdout",
          "output_type": "stream",
          "text": [
            "42.75833681104177\n",
            "{}\n",
            "42.75833681104177\n",
            "{}\n",
            "42.75833681104177\n",
            "{}\n",
            "43.31782178360663\n",
            "{}\n",
            "44.5085063285926\n",
            "{}\n",
            "45.84433192465008\n",
            "{}\n",
            "46.07861765315647\n",
            "{}\n",
            "46.21355565055228\n",
            "{}\n",
            "46.919144259469476\n",
            "{}\n",
            "47.258181302545495\n",
            "{}\n"
          ]
        }
      ],
      "source": [
        "decoded_samples2 = model2.decode_sampleset(sampleset2, feed_dict2)\n",
        "for sample in decoded_samples2:\n",
        "    print(sample.energy)\n",
        "    print(sample.constraints(only_broken=True))"
      ]
    },
    {
      "cell_type": "markdown",
      "metadata": {
        "id": "OSXLhkcC00KJ"
      },
      "source": [
        "筆者が実行した際は一番良いものでエネルギーが約42.8という結果が得られました。"
      ]
    },
    {
      "cell_type": "code",
      "execution_count": null,
      "metadata": {
        "id": "1SJf8K9ilrEM"
      },
      "outputs": [],
      "source": [
        "def sample_to_assignment(sample, car_num, cus_num):\n",
        "    assignment = []\n",
        "    for m in range(cus_num):\n",
        "        for n in range(car_num):\n",
        "            if sample[f\"x[{m}][{n}]\"] == 1:\n",
        "                assignment.append((m, n))\n",
        "    return assignment"
      ]
    },
    {
      "cell_type": "code",
      "execution_count": null,
      "metadata": {
        "colab": {
          "base_uri": "https://localhost:8080/"
        },
        "id": "_7AwbRnT65tW",
        "outputId": "eb22a0b3-5dc4-4436-cfb6-926977febf9f"
      },
      "outputs": [
        {
          "name": "stdout",
          "output_type": "stream",
          "text": [
            "[(0, 4), (1, 4), (2, 4), (3, 0), (4, 3), (5, 2), (6, 2), (7, 2), (8, 1), (9, 1), (10, 1), (11, 3), (12, 0), (13, 2), (14, 3), (15, 1), (16, 3), (17, 0), (18, 0), (19, 4), (20, 1), (21, 4), (22, 2), (23, 2), (24, 0), (25, 2), (26, 2), (27, 4), (28, 4), (29, 1), (30, 4), (31, 4), (32, 3), (33, 1), (34, 4), (35, 4), (36, 3), (37, 1), (38, 1), (39, 0), (40, 0), (41, 0), (42, 2), (43, 3), (44, 3), (45, 3), (46, 3), (47, 2), (48, 1), (49, 1)]\n"
          ]
        }
      ],
      "source": [
        "sample2 = decoded_samples2[0]\n",
        "assignment2 = sample_to_assignment(sample2.sample, car_num, cus_num)\n",
        "print(assignment2)"
      ]
    },
    {
      "cell_type": "code",
      "execution_count": null,
      "metadata": {
        "colab": {
          "base_uri": "https://localhost:8080/"
        },
        "id": "PmX0Okuo7aN4",
        "outputId": "0e9e8833-755d-4b6b-8198-1146012a3c9e"
      },
      "outputs": [
        {
          "name": "stdout",
          "output_type": "stream",
          "text": [
            "[4, 4, 4, 0, 3, 2, 2, 2, 1, 1, 1, 3, 0, 2, 3, 1, 3, 0, 0, 4, 1, 4, 2, 2, 0, 2, 2, 4, 4, 1, 4, 4, 3, 1, 4, 4, 3, 1, 1, 0, 0, 0, 2, 3, 3, 3, 3, 2, 1, 1]\n"
          ]
        }
      ],
      "source": [
        "# 顧客がどのクラスターに属するかを示すリストを作成\n",
        "belonged_cluster = [j for _, j in assignment2]\n",
        "print(belonged_cluster)"
      ]
    },
    {
      "cell_type": "markdown",
      "metadata": {
        "id": "W2dL5KNOE-5j"
      },
      "source": [
        "容量が指定値を超えていないかを次のコードで確認しましょう。"
      ]
    },
    {
      "cell_type": "code",
      "execution_count": null,
      "metadata": {
        "colab": {
          "base_uri": "https://localhost:8080/"
        },
        "id": "vPWcU2_790mo",
        "outputId": "31567c70-b700-4220-b02e-ae7cf1b256cf"
      },
      "outputs": [
        {
          "name": "stdout",
          "output_type": "stream",
          "text": [
            "容量制約を満たしています。\n"
          ]
        }
      ],
      "source": [
        "def weight_check(belonged_cluster, demands, capa):\n",
        "    weights = [0] * len(set(belonged_cluster))\n",
        "    for i, cluster_i in enumerate(belonged_cluster):\n",
        "        weights[cluster_i] += int(demands[i])\n",
        "\n",
        "    for i, weight_i in enumerate(weights):\n",
        "        if weight_i > capa:\n",
        "            print(f\"キャパオーバーです。(超過:{weight_i - capa})\")\n",
        "    print(\"容量制約を満たしています。\")\n",
        "\n",
        "\n",
        "weight_check(belonged_cluster, demands, capa)"
      ]
    },
    {
      "cell_type": "markdown",
      "metadata": {
        "id": "rLxycfCvuQZ9"
      },
      "source": [
        "容量制約が満たされていることが確認出来たら、実際にクラスタリングされた結果を描画してみましょう。"
      ]
    },
    {
      "cell_type": "code",
      "execution_count": null,
      "metadata": {
        "colab": {
          "base_uri": "https://localhost:8080/",
          "height": 430
        },
        "id": "9z0XNhzY7dzv",
        "outputId": "2c068a38-7bfd-4353-ea27-21535a3fea6e"
      },
      "outputs": [
        {
          "data": {
            "image/png": "[encoded data removed]",
            "text/plain": [
              "<Figure size 640x480 with 1 Axes>"
            ]
          },
          "metadata": {},
          "output_type": "display_data"
        }
      ],
      "source": [
        "# クラスタリングの結果を出力\n",
        "plt.scatter(customers_nodepot[:, 0], customers_nodepot[:, 1], c=belonged_cluster)\n",
        "plt.show()"
      ]
    },
    {
      "cell_type": "markdown",
      "metadata": {
        "id": "2Q4GbCG8mCcs"
      },
      "source": [
        "記事と同じパラメーターで実行した場合、5つにきれいに色分けされた結果が得られると思います。\n",
        "\n",
        "かなりよいクラスタリングの結果を得ることができました。"
      ]
    },
    {
      "cell_type": "markdown",
      "metadata": {
        "id": "2uQIYIewmmG8"
      },
      "source": [
        "### ルーティング\n",
        "\n",
        "続いてこのデータをもとにルーティングを実行していきます。\n",
        "\n",
        "元論文では、ルーティングを量子アニーリングマシンを利用して解いていましたが、今回は[GoogleのOR-Tools](https://developers.google.com/optimization)を利用して解いています。"
      ]
    },
    {
      "cell_type": "code",
      "execution_count": null,
      "metadata": {
        "colab": {
          "base_uri": "https://localhost:8080/"
        },
        "id": "cy0AhPuwFkZa",
        "outputId": "32c2ec20-d79a-474f-e1b2-35654a174e29"
      },
      "outputs": [
        {
          "name": "stdout",
          "output_type": "stream",
          "text": [
            "[[0, 4, 13, 18, 19, 25, 40, 41, 42], [0, 9, 10, 11, 16, 21, 30, 34, 38, 39, 49, 50], [0, 6, 7, 8, 14, 23, 24, 26, 27, 43, 48], [0, 5, 12, 15, 17, 33, 37, 44, 45, 46, 47], [0, 1, 2, 3, 20, 22, 28, 29, 31, 32, 35, 36]]\n"
          ]
        }
      ],
      "source": [
        "# depotが入っている状態での顧客番号のリストを作成\n",
        "clusters = [[0] for i in range(car_num)]  # depotの番号は初めから追加しておく\n",
        "for i in range(cus_num):\n",
        "    clusters[belonged_cluster[i]].append(i + 1)  # depotが含まれている状態に戻すために数字を+1する\n",
        "print(clusters)"
      ]
    },
    {
      "cell_type": "code",
      "execution_count": null,
      "metadata": {
        "id": "S7-9tj00Gu2Q"
      },
      "outputs": [],
      "source": [
        "# 同一クラスターにおける顧客どうしの距離を計算する\n",
        "distance_matrices = []\n",
        "for i in range(car_num):\n",
        "    cluster_size = len(clusters[i])\n",
        "    distance_matrix = np.zeros((cluster_size, cluster_size))\n",
        "    for j in range(cluster_size):\n",
        "        for k in range(j + 1, cluster_size):\n",
        "            distance_jk = np.linalg.norm(\n",
        "                customers[clusters[i][j]] - customers[clusters[i][k]]\n",
        "            )\n",
        "            distance_matrix[j][k] = distance_matrix[k][j] = distance_jk\n",
        "\n",
        "    distance_matrices.append(distance_matrix.tolist())"
      ]
    },
    {
      "cell_type": "code",
      "execution_count": null,
      "metadata": {
        "id": "L0Gwr8n3LdFy"
      },
      "outputs": [],
      "source": [
        "# ortoolsを利用して巡回セールスマン問題を解く\n",
        "from ortools.constraint_solver import routing_enums_pb2\n",
        "from ortools.constraint_solver import pywrapcp\n",
        "\n",
        "\n",
        "def print_solution(manager, routing, solution, j):\n",
        "    index = routing.Start(0)\n",
        "    plan_output = f\"Route for vehicle {j}:\\n\"\n",
        "    route_distance = 0\n",
        "    while not routing.IsEnd(index):\n",
        "        plan_output += \" {} ->\".format(manager.IndexToNode(index))\n",
        "        previous_index = index\n",
        "        index = solution.Value(routing.NextVar(index))\n",
        "        route_distance += routing.GetArcCostForVehicle(previous_index, index, 0)\n",
        "    plan_output += \" {}\\n\".format(manager.IndexToNode(index))\n",
        "    plan_output += \"Route distance: {}miles\\n\".format(route_distance)\n",
        "    print(plan_output)\n",
        "    return route_distance\n",
        "\n",
        "\n",
        "def get_routes(solution, routing, manager):\n",
        "    routes = []\n",
        "    for route_nbr in range(routing.vehicles()):\n",
        "        index = routing.Start(route_nbr)\n",
        "        route = [manager.IndexToNode(index)]\n",
        "        while not routing.IsEnd(index):\n",
        "            index = solution.Value(routing.NextVar(index))\n",
        "            route.append(manager.IndexToNode(index))\n",
        "        routes.append(route)\n",
        "    return routes"
      ]
    },
    {
      "cell_type": "code",
      "execution_count": null,
      "metadata": {
        "colab": {
          "base_uri": "https://localhost:8080/"
        },
        "id": "dwQLlewHVlF4",
        "outputId": "99a43e09-3952-42ef-841a-ca86d4f0f434"
      },
      "outputs": [
        {
          "name": "stdout",
          "output_type": "stream",
          "text": [
            "Route for vehicle 1:\n",
            " 0 -> 3 -> 5 -> 2 -> 7 -> 6 -> 4 -> 8 -> 1 -> 0\n",
            "Route distance: 110miles\n",
            "\n",
            "Route for vehicle 2:\n",
            " 0 -> 3 -> 4 -> 11 -> 5 -> 7 -> 6 -> 9 -> 2 -> 10 -> 1 -> 8 -> 0\n",
            "Route distance: 106miles\n",
            "\n",
            "Route for vehicle 3:\n",
            " 0 -> 8 -> 10 -> 3 -> 7 -> 2 -> 5 -> 9 -> 6 -> 4 -> 1 -> 0\n",
            "Route distance: 105miles\n",
            "\n",
            "Route for vehicle 4:\n",
            " 0 -> 9 -> 2 -> 1 -> 5 -> 8 -> 3 -> 7 -> 6 -> 4 -> 10 -> 0\n",
            "Route distance: 87miles\n",
            "\n",
            "Route for vehicle 5:\n",
            " 0 -> 9 -> 2 -> 7 -> 4 -> 10 -> 11 -> 3 -> 6 -> 8 -> 5 -> 1 -> 0\n",
            "Route distance: 113miles\n",
            "\n"
          ]
        }
      ],
      "source": [
        "solutions = []\n",
        "route_dis = []\n",
        "\n",
        "for j in range(len(clusters)):\n",
        "    distance_matrix = distance_matrices[j]\n",
        "\n",
        "    manager = pywrapcp.RoutingIndexManager(len(distance_matrix), 1, 0)\n",
        "    routing = pywrapcp.RoutingModel(manager)\n",
        "\n",
        "    def distance_callback(from_index, to_index):\n",
        "        from_node = manager.IndexToNode(from_index)\n",
        "        to_node = manager.IndexToNode(to_index)\n",
        "        return int(distance_matrix[from_node][to_node])  # ortoolsの仕様でintを返す\n",
        "\n",
        "    transit_callback_index = routing.RegisterTransitCallback(distance_callback)\n",
        "    routing.SetArcCostEvaluatorOfAllVehicles(transit_callback_index)\n",
        "\n",
        "    search_parameters = pywrapcp.DefaultRoutingSearchParameters()\n",
        "    search_parameters.first_solution_strategy = (\n",
        "        routing_enums_pb2.FirstSolutionStrategy.PATH_CHEAPEST_ARC\n",
        "    )\n",
        "\n",
        "    solution = routing.SolveWithParameters(search_parameters)\n",
        "\n",
        "    if solution is None:\n",
        "        print(\"No solution found !\")\n",
        "        continue\n",
        "\n",
        "    # 解を表示する\n",
        "    route_dis.append(print_solution(manager, routing, solution, j + 1))\n",
        "\n",
        "    routes = get_routes(solution, routing, manager)\n",
        "    for i, route in enumerate(routes):\n",
        "        solutions.append(route)"
      ]
    },
    {
      "cell_type": "markdown",
      "metadata": {
        "id": "F3rG7Uexs5Kh"
      },
      "source": [
        "ルーティングの答えを得ることができたので、実際にどんなルートになったのかを描画してみます。"
      ]
    },
    {
      "cell_type": "code",
      "execution_count": null,
      "metadata": {
        "colab": {
          "base_uri": "https://localhost:8080/",
          "height": 653
        },
        "id": "qZz1sweyN5ik",
        "outputId": "22f11440-acfe-45ba-8445-1227d3c3e4e7"
      },
      "outputs": [
        {
          "data": {
            "image/png": "[encoded data removed]",
            "text/plain": [
              "<Figure size 800x800 with 1 Axes>"
            ]
          },
          "metadata": {},
          "output_type": "display_data"
        }
      ],
      "source": [
        "import networkx as nx\n",
        "\n",
        "\n",
        "# 解を視覚的に描画する関数\n",
        "def print_routes(car_num, solutions, belonged_cluster, customers):\n",
        "    # 元のデータ番号での呼び出し\n",
        "    solutions2 = [[] for i in range(car_num)]\n",
        "    for i in range(len(solutions)):\n",
        "        for j in range(len(solutions[i])):\n",
        "            solutions2[i].append(clusters[i][solutions[i][j]])\n",
        "\n",
        "    # 各顧客について色を指定する\n",
        "    cm = plt.get_cmap(\"tab20\")\n",
        "    node_list = [(0, {\"color\": cm(0)})]\n",
        "    for i in range(len(belonged_cluster)):\n",
        "        node_list.append((i + 1, {\"color\": cm(belonged_cluster[i] + 1)}))\n",
        "\n",
        "    # depotおよび顧客の番号と位置に関する辞書を作成\n",
        "    pos = {}\n",
        "    for i in range(len(customers)):\n",
        "        pos[i] = (customers[i][0], customers[i][1])\n",
        "\n",
        "    # ルーティングで得られた解をもとに実際に通る辺のリストを作成\n",
        "    edge_list = []\n",
        "    for i in range(len(solutions2)):\n",
        "        for j in range(len(solutions2[i]) - 1):\n",
        "            edge_list.append((solutions2[i][j], solutions2[i][j + 1]))\n",
        "\n",
        "    g = nx.DiGraph()\n",
        "    g.add_nodes_from(node_list)\n",
        "    g.add_edges_from(edge_list)\n",
        "\n",
        "    node_color = [node[\"color\"] for node in g.nodes.values()]\n",
        "    plt.figure(figsize=(8, 8))  # 見やすいようにサイズを変更してください\n",
        "    nx.draw_networkx(g, pos, with_labels=True, node_color=node_color)\n",
        "    plt.show()\n",
        "\n",
        "\n",
        "print_routes(car_num, solutions, belonged_cluster, customers)"
      ]
    },
    {
      "cell_type": "markdown",
      "metadata": {
        "id": "_UPQXA55wax1"
      },
      "source": [
        "OR-Toolsの○○mileという表記は小数点以下が切り捨てられているので、正しい距離を計算します。"
      ]
    },
    {
      "cell_type": "code",
      "execution_count": null,
      "metadata": {
        "colab": {
          "base_uri": "https://localhost:8080/"
        },
        "id": "Wy_E2f0FU040",
        "outputId": "c95a60dc-6d44-41c1-c327-87d1bdc7b84d"
      },
      "outputs": [
        {
          "name": "stdout",
          "output_type": "stream",
          "text": [
            "1番目のルートの距離の総和: 113.02515612536826\n",
            "2番目のルートの距離の総和: 110.42427768703959\n",
            "3番目のルートの距離の総和: 108.17151038656631\n",
            "4番目のルートの距離の総和: 90.23091471949962\n",
            "5番目のルートの距離の総和: 115.51879142816513\n",
            "537.370650346639\n"
          ]
        }
      ],
      "source": [
        "# 各ルートの距離を計算する\n",
        "distance_sum = []\n",
        "for i in range(len(solutions)):\n",
        "    sum = 0\n",
        "    for j in range(len(solutions[i]) - 1):\n",
        "        sum += distance_matrices[i][solutions[i][j]][solutions[i][j + 1]]\n",
        "    distance_sum.append(sum)\n",
        "\n",
        "for i in range(len(distance_sum)):\n",
        "    print(f\"{i+1}番目のルートの距離の総和: {distance_sum[i]}\")\n",
        "print(np.sum(distance_sum))"
      ]
    },
    {
      "cell_type": "code",
      "execution_count": null,
      "metadata": {
        "colab": {
          "base_uri": "https://localhost:8080/"
        },
        "id": "K28_5OM2b7uw",
        "outputId": "25a52c63-ba2c-4eb1-cd28-9bdbaa972efd"
      },
      "outputs": [
        {
          "name": "stdout",
          "output_type": "stream",
          "text": [
            "2.4322117429178913 %\n"
          ]
        }
      ],
      "source": [
        "bks = vrp_solution[\"cost\"]  # 厳密解\n",
        "ans = np.sum(distance_sum)\n",
        "print((ans - bks) / bks * 100, \"%\")"
      ]
    },
    {
      "cell_type": "markdown",
      "metadata": {
        "id": "wBJqzci9znO7"
      },
      "source": [
        "厳密解(BKS)との偏差は+約2.4%という結果になりました。\n",
        "\n",
        "元論文のハイブリッドな手法では、厳密解との偏差が5.98%であったので、かなり良い結果を得られたといえるでしょう！\n",
        "\n",
        "しかし、よりサイズの大きいデータセットを解いてみようとすると、容量制約を満たしてもクラスタリングがうまくいかず、厳密解の偏差もハイブリッドの手法より悪い結果となりました。（詳細は省きます。）"
      ]
    },
    {
      "cell_type": "markdown",
      "metadata": {
        "id": "WPeB83-rp9q7"
      },
      "source": [
        "## まとめ"
      ]
    },
    {
      "cell_type": "markdown",
      "metadata": {
        "id": "rv9qzxnSqGfu"
      },
      "source": [
        "今回実際に論文で扱われていたCMT1というデータセットをクラスタリングはSA、ルーティングはGoogleのOR-Toolsを使って解きました。\n",
        "\n",
        "CMT1に対しては厳密解を得ることはできませんでしたが、厳密解にかなり近い解を得ることができました。しかし、サイズの大きいデータセットに対しては制約を満たす良い解を得ることが難しかったです。\n",
        "\n",
        "今後の展望としては、SAによるクラスタリング後にクラスタリングを改善するアルゴリズムを導入するといったことが考えられます。"
      ]
    },
    {
      "cell_type": "markdown",
      "metadata": {
        "id": "7uRXVMqXq9cu"
      },
      "source": [
        "## あとがき"
      ]
    },
    {
      "cell_type": "markdown",
      "metadata": {
        "id": "sStZFaSLrC00"
      },
      "source": [
        "今回実際に論文の問題を解くにあたっていくつか壁に当たりました。\n",
        "\n",
        "1.  論文通りにアルゴリズムを実装するも容量がきつきつで、荷物の入れ替わりが起こらずクラスタリングがうまくいかない。\n",
        "\n",
        "2. 自分で量子アニーリングマシンを利用して解こうとするも制約を満たしてくれない。\n",
        "\n",
        "3. 論文の定式化通りの実装をしてもクラスタリングがうまくいかない。\n",
        "\n",
        "といった感じです。何回か心が折れましたが、実際にかなり良い結果が得られ、それを描画した時には達成感がありました。\n",
        "\n",
        "今後も同様に再現実験を通してコーディングの技術を磨いていきたいです。\n",
        "\n",
        "また、今回2本目として紹介した論文や、容量制約で用いた不等式制約に関する論文を読んで、CVRPという問題に対して知識を増やしていきたいと思いました。実社会に即した問題を解けるように頑張りたいと思います。"
      ]
    }
  ],
  "metadata": {
    "colab": {
      "provenance": []
    },
    "kernelspec": {
      "display_name": "Python 3",
      "name": "python3"
    },
    "language_info": {
      "name": "python"
    }
  },
  "nbformat": 4,
  "nbformat_minor": 0
}
