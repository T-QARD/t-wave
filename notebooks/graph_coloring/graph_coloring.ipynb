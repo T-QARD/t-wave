{
  "nbformat": 4,
  "nbformat_minor": 0,
  "metadata": {
    "colab": {
      "name": "記事_グラフ彩色(再現).ipynb",
      "provenance": []
    },
    "kernelspec": {
      "name": "python3",
      "display_name": "Python 3"
    },
    "language_info": {
      "name": "python"
    }
  },
  "cells": [
    {
      "cell_type": "markdown",
      "source": [
        "## 概要"
      ],
      "metadata": {
        "id": "62ZzHVA9-3WS"
      }
    },
    {
      "cell_type": "markdown",
      "source": [
        "記事[「量子アニーリングを用いたグラフ彩色」](https://qard.is.tohoku.ac.jp/T-Wave/?p=2510)では貪欲法でグラフ彩色を行うときに独立点集合を量子アニーリングで求めたときと古典コンピュータで求めたときとで最適化性能の比較を行った論文を紹介しました。本記事ではこの手法を用いて実際にグラフ彩色を行います。また論文では頂点数が20、40、60のときで実験を行い、これより頂点数が多いグラフについては量子アニーリングの優位性は不明でした。本記事では頂点数を80、100としたときでも性能比較を行います。"
      ],
      "metadata": {
        "id": "6xJMuRRd-5Wk"
      }
    },
    {
      "cell_type": "markdown",
      "source": [
        "## 文献情報"
      ],
      "metadata": {
        "id": "VlNE7FBoy7Nf"
      }
    },
    {
      "cell_type": "markdown",
      "source": [
        "\n",
        "\n",
        "*   タイトル：Graph Coloring with Quantum Annealing\n",
        "*   著者：Julia Kwok, Kristen Pudenz\n",
        "*   書誌情報：https://arxiv.org/abs/2012.04470\n",
        "\n"
      ],
      "metadata": {
        "id": "rSznn8nKy9x4"
      }
    },
    {
      "cell_type": "markdown",
      "source": [
        "## 問題"
      ],
      "metadata": {
        "id": "S6YCv0bTIqp6"
      }
    },
    {
      "cell_type": "markdown",
      "source": [
        "グラフ彩色における貪欲法は独立点集合に1色ずつ割り当てることを繰り返してグラフ彩色を行います。詳細は[「量子アニーリングを用いたグラフ彩色」](https://qard.is.tohoku.ac.jp/T-Wave/?p=2510)を参照してください。"
      ],
      "metadata": {
        "id": "beV61yIhItE1"
      }
    },
    {
      "cell_type": "markdown",
      "source": [
        "## 実験"
      ],
      "metadata": {
        "id": "WcqHlpZyIlFq"
      }
    },
    {
      "cell_type": "markdown",
      "source": [
        "まずは必要なライブラリをインストールします。"
      ],
      "metadata": {
        "id": "xxWKYViWJRi7"
      }
    },
    {
      "cell_type": "code",
      "execution_count": null,
      "metadata": {
        "id": "Zj9AAcRXdjAE"
      },
      "outputs": [],
      "source": [
        "!pip install dwave-ocean-sdk\n",
        "!pip install openjij\n",
        "!pip install numpy\n",
        "!pip install matplotlib\n",
        "!pip install networkx"
      ]
    },
    {
      "cell_type": "code",
      "source": [
        "import numpy as np\n",
        "import matplotlib.pyplot as plt\n",
        "import networkx as nx\n",
        "import random\n",
        "from itertools import product, combinations\n",
        "from networkx.algorithms.approximation import clique\n",
        "\n",
        "# D-waveマシンの場合\n",
        "from dwave.system import DWaveSampler, EmbeddingComposite\n",
        "\n",
        "# SAの場合\n",
        "from openjij import SASampler"
      ],
      "metadata": {
        "id": "0y14ua2bdj7J"
      },
      "execution_count": null,
      "outputs": []
    },
    {
      "cell_type": "markdown",
      "source": [
        "古典コンピュータで独立点集合を求めます。具体的にはSampleISというアルゴリズムによって最大独立点集合を求めます。SampleISについては[「最大独立点集合問題における貪欲アルゴリズムの紹介」](https://qard.is.tohoku.ac.jp/T-Wave/?p=2827)を参照してください。"
      ],
      "metadata": {
        "id": "-rEL3iuWJj6W"
      }
    },
    {
      "cell_type": "code",
      "source": [
        "def independent_set_classical(g, k):\n",
        "    # 頂点数が1以下の時はグラフの頂点を返す\n",
        "    if g.number_of_nodes() <= 1:\n",
        "        return set(g.nodes())\n",
        "\n",
        "    # n:グラフの頂点数\n",
        "    n = g.number_of_nodes()\n",
        "\n",
        "    while True:\n",
        "        # log_{k}^{n}個頂点をランダムに選ぶ(i)\n",
        "        i = set(\n",
        "            random.sample(\n",
        "                list(g.nodes()), np.floor(max(1, np.log(n) / np.log(k))).astype(int)\n",
        "            )\n",
        "        )\n",
        "\n",
        "        # Iが独立点集合かどうか判定\n",
        "        is_independent = True\n",
        "        for u, v in product(i, i):\n",
        "            if (u, v) in list(g.edges()):\n",
        "                is_independent = False\n",
        "\n",
        "        # Iが独立点集合の時\n",
        "        if is_independent == True:\n",
        "            # Iに含まれる頂点とIと隣接している頂点\n",
        "            node_neighbors = i\n",
        "            for v in i:\n",
        "                node_neighbors = node_neighbors | set(g.neighbors(v))\n",
        "\n",
        "            # Iのどの頂点とも隣接していない頂点の部分グラフ\n",
        "            non_neighbors = g.subgraph(set(g.nodes() - node_neighbors)).copy()\n",
        "\n",
        "            if non_neighbors.number_of_nodes() >= (n / k) * np.log(n) / (\n",
        "                2 * np.log(np.log(n))\n",
        "            ):\n",
        "                return i | independent_set_classical(non_neighbors, k)\n",
        "\n",
        "            else:\n",
        "                # clique_removalで求まった独立点集合\n",
        "                i2 = clique.clique_removal(non_neighbors)[0] | i\n",
        "\n",
        "                # I_2に含まれる頂点の数が(np.power(np.log(n), 3)/(6*np.log(np.log(n))))より大きいなら結果を返す\n",
        "                if len(i2) >= np.floor(\n",
        "                    np.power(np.log(n), 3) / (6 * np.log(np.log(n)))\n",
        "                ).astype(int):\n",
        "                    return i2 | i"
      ],
      "metadata": {
        "id": "il5fbuMMfpfX"
      },
      "execution_count": null,
      "outputs": []
    },
    {
      "cell_type": "markdown",
      "source": [
        "実際にSampleISで独立点集合を求めてみます。"
      ],
      "metadata": {
        "id": "-VWVRZu1KBLG"
      }
    },
    {
      "cell_type": "code",
      "source": [
        "g = nx.fast_gnp_random_graph(5, 0.3)\n",
        "independent_set = independent_set_classical(g, 3)\n",
        "nx.draw_networkx(g)\n",
        "plt.show()\n",
        "print(f\"独立点集合:{independent_set}\")"
      ],
      "metadata": {
        "colab": {
          "base_uri": "https://localhost:8080/",
          "height": 266
        },
        "outputId": "fd240335-d1e4-4b13-b4c1-9aea2dd0f0c1",
        "id": "LWW4CfPW0IRI"
      },
      "execution_count": null,
      "outputs": [
        {
          "output_type": "display_data",
          "data": {
            "image/png": "[encoded data removed]",
            "text/plain": [
              "<Figure size 432x288 with 1 Axes>"
            ]
          },
          "metadata": {}
        },
        {
          "output_type": "stream",
          "name": "stdout",
          "text": [
            "独立点集合:{1, 2}\n"
          ]
        }
      ]
    },
    {
      "cell_type": "markdown",
      "source": [
        "次に量子アニーリングを使って独立点集合を求めます。定式化は以下の通りです。"
      ],
      "metadata": {
        "id": "V1nWA2QLKI_r"
      }
    },
    {
      "cell_type": "markdown",
      "source": [
        "$f_{MIS}(x) = - \\sum_{i}^{n}x_{i} + \\alpha \\sum_{i, j \\in E}x_{i}x_{j}$"
      ],
      "metadata": {
        "id": "6h2iSpmVKTmq"
      }
    },
    {
      "cell_type": "code",
      "source": [
        "def independent_set_quantum(g, sampler, **sampler_params):\n",
        "    # 頂点数\n",
        "    n = g.number_of_nodes()\n",
        "\n",
        "    # グラフの頂点番号\n",
        "    nodes = list(g.nodes())\n",
        "\n",
        "    # QUBOを作成\n",
        "    qubo = {}\n",
        "\n",
        "    # 頂点数を多くするための項\n",
        "    for i in range(n):\n",
        "        qubo[(i, i)] = -1\n",
        "\n",
        "    # 独立点集合にするための項\n",
        "    for (u, v) in g.edges():\n",
        "        qubo[(nodes.index(u), nodes.index(v))] = qubo[\n",
        "            (nodes.index(v), nodes.index(u))\n",
        "        ] = 2\n",
        "\n",
        "    # アニーリングの実行\n",
        "    sampleset = sampler.sample_qubo(qubo, **sampler_params)\n",
        "\n",
        "    # 最も頂点数の多い独立点集合\n",
        "    max_independent_set = {}\n",
        "\n",
        "    for sample in sampleset.record.sample:\n",
        "        # 独立点集合か判定\n",
        "        is_independent = True\n",
        "\n",
        "        for (u, v) in g.edges():\n",
        "            if sample[nodes.index(u)] == 1 and sample[nodes.index(v)] == 1:\n",
        "                is_independent = False\n",
        "\n",
        "        if is_independent:\n",
        "            independent_set = set([nodes[i] for i in range(n) if sample[i] == 1])\n",
        "\n",
        "            # 頂点数が多い方の独立点集合を求める\n",
        "            if len(independent_set) > len(max_independent_set):\n",
        "                max_independent_set = independent_set\n",
        "\n",
        "    return max_independent_set"
      ],
      "metadata": {
        "id": "psMxnWB8kJKc"
      },
      "execution_count": null,
      "outputs": []
    },
    {
      "cell_type": "markdown",
      "source": [
        "量子アニーリングで独立点集合を求めてみます。"
      ],
      "metadata": {
        "id": "bmcMkFYcK8Gg"
      }
    },
    {
      "cell_type": "code",
      "source": [
        "# サンプラーの設定\n",
        "# SAの場合\n",
        "# sampler = SASampler()\n",
        "\n",
        "# D-waveマシンの場合\n",
        "sampler_config = {\"solver\": \"DW_2000Q_6\", \"token\": \"YOUR_TOKEN\"}\n",
        "sampler = EmbeddingComposite(DWaveSampler(**sampler_config))\n",
        "\n",
        "g = nx.fast_gnp_random_graph(5, 0.3)\n",
        "independent_set = independent_set_quantum(g, sampler=sampler, num_reads=30)\n",
        "nx.draw_networkx(g)\n",
        "plt.show()\n",
        "print(f\"独立点集合:{independent_set}\")"
      ],
      "metadata": {
        "colab": {
          "base_uri": "https://localhost:8080/",
          "height": 266
        },
        "id": "QcqB7vD00XBu",
        "outputId": "33e3acb8-d1f5-435a-d72e-4d8ce0f0c083"
      },
      "execution_count": null,
      "outputs": [
        {
          "output_type": "display_data",
          "data": {
            "image/png": "[encoded data removed]",
            "text/plain": [
              "<Figure size 432x288 with 1 Axes>"
            ]
          },
          "metadata": {}
        },
        {
          "output_type": "stream",
          "name": "stdout",
          "text": [
            "独立点集合:{0, 2, 3, 4}\n"
          ]
        }
      ]
    },
    {
      "cell_type": "markdown",
      "source": [
        "上記の関数を用いてグラフ彩色の関数を作成します。"
      ],
      "metadata": {
        "id": "8yfN7KguKZCY"
      }
    },
    {
      "cell_type": "code",
      "source": [
        "def graph_coloring_classical(g):\n",
        "    # 現在の色\n",
        "    color = 0\n",
        "\n",
        "    # 彩色するためのグラフ\n",
        "    coloring_graph = g.copy()\n",
        "\n",
        "    # 頂点の色\n",
        "    node_color = [None] * coloring_graph.number_of_nodes()\n",
        "\n",
        "    while coloring_graph.number_of_nodes() > 0:\n",
        "        # 独立点集合を求める\n",
        "        max_independent_set = {}\n",
        "        independent_set = independent_set_classical(coloring_graph.copy(), 3)\n",
        "\n",
        "        s = 1\n",
        "        for i in range(s):\n",
        "            if len(independent_set) > len(max_independent_set):\n",
        "                max_independent_set = independent_set\n",
        "\n",
        "        # 求めた独立点集合に1色割り当てる\n",
        "        for v in max_independent_set:\n",
        "            node_color[v] = color\n",
        "\n",
        "        if len(max_independent_set) > 0:\n",
        "            # グラフから頂点を削除\n",
        "            coloring_graph.remove_nodes_from(max_independent_set)\n",
        "            color += 1\n",
        "\n",
        "    return node_color"
      ],
      "metadata": {
        "id": "2lQ13dgc0_C8"
      },
      "execution_count": null,
      "outputs": []
    },
    {
      "cell_type": "code",
      "source": [
        "def graph_coloring_quantum(g, sampler, **sampler_params):\n",
        "    # 現在の色\n",
        "    color = 0\n",
        "\n",
        "    # 彩色したいグラフ\n",
        "    coloring_graph = g.copy()\n",
        "\n",
        "    # 頂点の色\n",
        "    node_color = [None] * coloring_graph.number_of_nodes()\n",
        "\n",
        "    while coloring_graph.number_of_nodes() > 0:\n",
        "        # 独立点集合を求める\n",
        "        max_independent_set = independent_set_quantum(\n",
        "            coloring_graph.copy(), sampler=sampler, **sampler_params\n",
        "        )\n",
        "\n",
        "        # 求めた独立点集合に1色割り当てる\n",
        "        for v in max_independent_set:\n",
        "            node_color[v] = color\n",
        "\n",
        "        if len(max_independent_set) > 0:\n",
        "            # グラフから頂点を削除\n",
        "            coloring_graph.remove_nodes_from(max_independent_set)\n",
        "            color += 1\n",
        "\n",
        "    return node_color"
      ],
      "metadata": {
        "id": "ayseyG3x81W_"
      },
      "execution_count": null,
      "outputs": []
    },
    {
      "cell_type": "markdown",
      "source": [
        "論文では彩色を行うグラフは3色で彩色可能なものを用いて実験を行いました。本記事では辺が存在しないグラフの頂点にあらかじめ3色のうちどれかの色を割り当て、異なる色の2頂点の間にランダムに辺を生成することでグラフを作成します。"
      ],
      "metadata": {
        "id": "7c7nBATMLnnZ"
      }
    },
    {
      "cell_type": "code",
      "source": [
        "def make_random_graph(node_num=20, color_num=3, p=0.5):\n",
        "    # 頂点番号\n",
        "    num = [i for i in range(node_num)]\n",
        "\n",
        "    # 空グラフを作成\n",
        "    g = nx.empty_graph(node_num)\n",
        "\n",
        "    # ランダムに色を割り当てる\n",
        "    color = [random.randint(0, color_num - 1) for i in range(node_num)]\n",
        "\n",
        "    # 色が異なる頂点の間にランダムに辺を生成\n",
        "    for (u, v) in combinations(num, 2):\n",
        "        if color[u] != color[v] and random.random() < p:\n",
        "            g.add_edge(u, v)\n",
        "\n",
        "    return g"
      ],
      "metadata": {
        "id": "8RQJVUPk8-f-"
      },
      "execution_count": null,
      "outputs": []
    },
    {
      "cell_type": "markdown",
      "source": [
        "実際にグラフ彩色を行います。今回は頂点数を10としてグラフ彩色を行います。"
      ],
      "metadata": {
        "id": "uB9w_Um4N7Ai"
      }
    },
    {
      "cell_type": "code",
      "execution_count": null,
      "metadata": {
        "colab": {
          "base_uri": "https://localhost:8080/",
          "height": 248
        },
        "outputId": "c7ab1052-435e-439f-d21a-569945370a36",
        "id": "UDceHyif2Ru1"
      },
      "outputs": [
        {
          "output_type": "display_data",
          "data": {
            "image/png": "[encoded data removed]",
            "text/plain": [
              "<Figure size 432x288 with 1 Axes>"
            ]
          },
          "metadata": {}
        }
      ],
      "source": [
        "g = make_random_graph(node_num=10, color_num=3, p=0.5)\n",
        "nx.draw_networkx(g)\n",
        "plt.show()"
      ]
    },
    {
      "cell_type": "code",
      "execution_count": null,
      "metadata": {
        "colab": {
          "base_uri": "https://localhost:8080/",
          "height": 282
        },
        "outputId": "266de4b3-f71f-41c3-9d6a-a2ba0fb470bf",
        "id": "re290JSG2ZXT"
      },
      "outputs": [
        {
          "output_type": "stream",
          "name": "stdout",
          "text": [
            "[1, 0, 0, 0, 1, 2, 0, 1, 0, 2]\n"
          ]
        },
        {
          "output_type": "display_data",
          "data": {
            "image/png": "[encoded data removed]",
            "text/plain": [
              "<Figure size 432x288 with 1 Axes>"
            ]
          },
          "metadata": {}
        }
      ],
      "source": [
        "# サンプラーの設定\n",
        "# SAの場合\n",
        "# sampler = SASampler()\n",
        "\n",
        "# D-waveマシンの場合\n",
        "sampler_config = {\"solver\": \"DW_2000Q_6\", \"token\": \"YOUR_TOKEN\"}\n",
        "sampler = EmbeddingComposite(DWaveSampler(**sampler_config))\n",
        "\n",
        "color_quantum = graph_coloring_quantum(g, sampler=sampler, num_reads=30)\n",
        "print(color_quantum)\n",
        "nx.draw_networkx(g, node_color=color_quantum)\n",
        "plt.title(\"Quantum Graph Coloring\")\n",
        "plt.show()"
      ]
    },
    {
      "cell_type": "code",
      "execution_count": null,
      "metadata": {
        "colab": {
          "base_uri": "https://localhost:8080/",
          "height": 282
        },
        "outputId": "4a05b350-d596-4687-f2ba-b26427ef687c",
        "id": "vqs5-IM42e3P"
      },
      "outputs": [
        {
          "output_type": "stream",
          "name": "stdout",
          "text": [
            "[1, 0, 0, 0, 1, 2, 0, 1, 0, 2]\n"
          ]
        },
        {
          "output_type": "display_data",
          "data": {
            "image/png": "[encoded data removed]",
            "text/plain": [
              "<Figure size 432x288 with 1 Axes>"
            ]
          },
          "metadata": {}
        }
      ],
      "source": [
        "color_classical = graph_coloring_classical(g)\n",
        "print(color_classical)\n",
        "nx.draw_networkx(g, node_color=color_classical)\n",
        "plt.title(\"Classical Graph Coloring\")\n",
        "plt.show()"
      ]
    },
    {
      "cell_type": "markdown",
      "source": [
        "どちらも3色で彩色することができました。"
      ],
      "metadata": {
        "id": "rz4s13r0TxXi"
      }
    },
    {
      "cell_type": "markdown",
      "source": [
        "いよいよ古典コンピュータと量子アニーリングの最適化性能の比較を行います。本記事では頂点数を20、40、60、80、100、辺を生成する確率は頂点数をnとしたとき4.5/nとして3色で彩色が可能なグラフを頂点数それぞれについて20個作成します。この20個のグラフを3色以下で彩色できた確率を求めます。"
      ],
      "metadata": {
        "id": "6n2avbmAO-En"
      }
    },
    {
      "cell_type": "code",
      "execution_count": null,
      "metadata": {
        "colab": {
          "base_uri": "https://localhost:8080/"
        },
        "id": "ROhFaAdaBHRT",
        "outputId": "db48addc-f4c5-4816-8bfc-8c260d049835"
      },
      "outputs": [
        {
          "output_type": "stream",
          "name": "stdout",
          "text": [
            "頂点数:20\n",
            "Quantum Success Probability:0.45\n",
            "Classical Success Probability:0.35\n",
            "================================\n",
            "頂点数:40\n",
            "Quantum Success Probability:0.4\n",
            "Classical Success Probability:0.25\n",
            "================================\n",
            "頂点数:60\n",
            "Quantum Success Probability:0.2\n",
            "Classical Success Probability:0.15\n",
            "================================\n",
            "頂点数:80\n",
            "Quantum Success Probability:0.1\n",
            "Classical Success Probability:0.05\n",
            "================================\n",
            "頂点数:100\n",
            "Quantum Success Probability:0.05\n",
            "Classical Success Probability:0.0\n",
            "================================\n"
          ]
        }
      ],
      "source": [
        "success_probability_quantum = []\n",
        "success_probability_classical = []\n",
        "\n",
        "# サンプラーの設定\n",
        "# SAの場合\n",
        "# sampler = SASampler()\n",
        "\n",
        "# D-waveマシンの場合\n",
        "sampler_config = {\"solver\": \"DW_2000Q_6\", \"token\": \"YOUR_TOKEN\"}\n",
        "sampler = EmbeddingComposite(DWaveSampler(**sampler_config))\n",
        "\n",
        "for n in [20, 40, 60, 80, 100]:\n",
        "    success_count_quantum = 0\n",
        "    success_count_classical = 0\n",
        "\n",
        "    for i in range(20):\n",
        "        g = make_random_graph(node_num=n, color_num=3, p=4.5 / n)\n",
        "\n",
        "        color_quantum = graph_coloring_quantum(g, sampler=sampler, num_reads=30)\n",
        "        color_classical = graph_coloring_classical(g)\n",
        "\n",
        "        if max(color_quantum) < 3:\n",
        "            success_count_quantum += 1\n",
        "        if max(color_classical) < 3:\n",
        "            success_count_classical += 1\n",
        "\n",
        "    success_probability_quantum.append(success_count_quantum / 20)\n",
        "    success_probability_classical.append(success_count_classical / 20)\n",
        "\n",
        "    print(f\"頂点数:{n}\")\n",
        "    print(f\"Quantum Success Probability:{success_count_quantum/20}\")\n",
        "    print(f\"Classical Success Probability:{success_count_classical/20}\")\n",
        "    print(\"================================\")"
      ]
    },
    {
      "cell_type": "code",
      "source": [
        "graph_size = [20, 40, 60, 80, 100]\n",
        "plt.plot(graph_size, success_probability_quantum, label=\"Quantum\", marker=\"o\")\n",
        "plt.plot(graph_size, success_probability_classical, label=\"Classical\", marker=\"x\")\n",
        "plt.xlabel(\"Graph Size\")\n",
        "plt.xticks(graph_size)\n",
        "plt.ylabel(\"Success Probability\")\n",
        "plt.legend()\n",
        "plt.show()"
      ],
      "metadata": {
        "colab": {
          "base_uri": "https://localhost:8080/",
          "height": 279
        },
        "outputId": "463265e5-23bd-480f-b5d8-04470c3a3e94",
        "id": "Om5_18xwughm"
      },
      "execution_count": null,
      "outputs": [
        {
          "output_type": "display_data",
          "data": {
            "text/plain": [
              "<Figure size 432x288 with 1 Axes>"
            ],
            "image/png": "[encoded data removed]"
          },
          "metadata": {
            "needs_background": "light"
          }
        }
      ]
    },
    {
      "cell_type": "markdown",
      "source": [
        "すべての頂点数において量子アニーリングを用いたときの方が古典コンピュータの時よりも成功確率は高くなりました。しかし頂点数が多くなると成功確率は低くなりました。"
      ],
      "metadata": {
        "id": "cLHFFi7GQgIh"
      }
    },
    {
      "cell_type": "markdown",
      "source": [
        "量子アニーリングの方が良かった理由としては求めた独立点集合の頂点数が多かったことが考えられます。"
      ],
      "metadata": {
        "id": "5_t7iYDL51-a"
      }
    },
    {
      "cell_type": "markdown",
      "source": [
        "本記事では論文と同様の係数を用いましたが、制約項にかかる係数を調整することでより頂点数の多い独立点集合を求め成功確率を高められる可能性があります。論文では第一項の係数は-1に固定して第二項の係数を調整しましたが、第一項の係数も変化させることでより頂点数の多い独立点集合を求められると考えらえます。また古典コンピュータでのグラフ彩色ではランダムに頂点を選びながら独立点集合を求めましたが、例えば辺の数など選ぶ頂点に何か指標を設けることで古典コンピュータでの成功確率を上げることが考えられます。"
      ],
      "metadata": {
        "id": "hMKx0jB0CRjH"
      }
    },
    {
      "cell_type": "markdown",
      "source": [
        "一方で常に最大独立点集合を求めても最小の彩色数が得られないようなグラフが存在します。貪欲法でグラフ彩色を行うので、このようなグラフでは量子アニーリングの成功確率は小さくなると考えられます。"
      ],
      "metadata": {
        "id": "QQaOQFCh9sis"
      }
    },
    {
      "cell_type": "markdown",
      "source": [
        "## 結論"
      ],
      "metadata": {
        "id": "Ez59tExtRI6b"
      }
    },
    {
      "cell_type": "markdown",
      "source": [
        "今回の実験では論文よりも頂点数が多いグラフでも量子アニーリングが古典コンピュータよりも成功確率が高くなりました。頂点数が多くなると成功確率は低くなりました。今後の実験としては係数を調整して実際に量子アニーリングの成功確率が上がるのかを調べるなどがあります。"
      ],
      "metadata": {
        "id": "J8qPnKqvRM0F"
      }
    },
    {
      "cell_type": "markdown",
      "source": [
        "## あとがき"
      ],
      "metadata": {
        "id": "wfzYGlg4Td1w"
      }
    },
    {
      "cell_type": "markdown",
      "source": [
        "本記事では実際にグラフ彩色を行ってみました。頂点数が論文よりも多い場合より量子アニーリングの成功確率が高くなったのを確認できたのはよかったです。実際にコードを書いてみて、可読性などわかりやすいコードを書くのは色々な知識が足りていないなと感じました。"
      ],
      "metadata": {
        "id": "uuk-1bh_Thqd"
      }
    }
  ]
}