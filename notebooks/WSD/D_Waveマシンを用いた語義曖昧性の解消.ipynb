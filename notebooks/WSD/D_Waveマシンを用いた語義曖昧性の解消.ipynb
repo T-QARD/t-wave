{
 "cells": [
  {
   "cell_type": "markdown",
   "id": "B0EtqmGqT3ge",
   "metadata": {
    "id": "B0EtqmGqT3ge"
   },
   "source": [
    "# D-Waveマシンを用いた語義曖昧性の解消"
   ]
  },
  {
   "cell_type": "markdown",
   "id": "g9mLVJy5Ugf4",
   "metadata": {
    "id": "g9mLVJy5Ugf4"
   },
   "source": [
    "## 文献情報"
   ]
  },
  {
   "cell_type": "markdown",
   "id": "PwdzPSiBUecK",
   "metadata": {
    "id": "PwdzPSiBUecK"
   },
   "source": [
    "* タイトル: A Quadratic 0-1 Programming Approach for\n",
    "Word Sense Disambiguation\n",
    "* 著者: Boliang Lin\n",
    "* 書誌情報: arXiv:2201.04877\n",
    "* DOI: \n",
    "https://doi.org/10.48550/arXiv.2201.04877"
   ]
  },
  {
   "cell_type": "markdown",
   "id": "2V5CSlsJUQ7H",
   "metadata": {
    "id": "2V5CSlsJUQ7H"
   },
   "source": [
    "## 概要"
   ]
  },
  {
   "cell_type": "markdown",
   "id": "EWLTvlORWA2f",
   "metadata": {
    "id": "EWLTvlORWA2f"
   },
   "source": [
    "### 語義曖昧性の解消とは"
   ]
  },
  {
   "cell_type": "markdown",
   "id": "675730a8",
   "metadata": {
    "id": "675730a8"
   },
   "source": [
    "日本語の「高い」には、複数の語義が存在します。以下の例文を見て下さい。\n",
    "* 都会のマンション価格はとても<u>高い</u>。\n",
    "* 蛍光灯は<u>高い</u>場所にある。\n",
    "\n",
    "1文目の「高い」は「価値がある」という意味です。一方、2文目の「高い」は「物理的に上にある」という意味です。このように、文中の単語がどの語義を表しているのか判断する過程のことを、「語義曖昧性の解消(Word Sense Disambiguation, WSD)」と言います。従来、WSDには教師あり学習が主に用いられて来ました。その手法では、隣接する単語の関係性のみを考慮して語義の判定を行っていました。しかし、単語の語義は文脈中すべての単語とその語義に影響されると考えられます。そこで、[この論文](https://doi.org/10.48550/arXiv.2201.04877)では、文脈中すべての単語間、語義間の関係性を考慮した2次0-1整数計画モデルを提案しています。そして、そのモデルを本記事の担当者がD-Waveマシンで解いた結果を紹介します。"
   ]
  },
  {
   "cell_type": "markdown",
   "id": "68d488fb",
   "metadata": {
    "id": "68d488fb"
   },
   "source": [
    "## 方法"
   ]
  },
  {
   "cell_type": "markdown",
   "id": "1c375ada",
   "metadata": {
    "id": "1c375ada"
   },
   "source": [
    "まずは、論文で紹介されている2次0-1整数計画モデルについて説明します。"
   ]
  },
  {
   "cell_type": "markdown",
   "id": "518a8a8a",
   "metadata": {
    "id": "518a8a8a"
   },
   "source": [
    "### 目的関数(第1項)"
   ]
  },
  {
   "cell_type": "markdown",
   "id": "c181dca8",
   "metadata": {
    "id": "c181dca8"
   },
   "source": [
    "|  | &emsp;&emsp;&emsp;&emsp;&emsp;&emsp;&emsp; | 説明 |\n",
    "| :---: | :---: | :---: |\n",
    "| **変数** | $x_{ik} \\in \\{0, 1\\}$ | $i$番目の単語が$k$番目の語義を選ぶ時に$1$ |\n",
    "|　**定数** | $w_{i}$ | $i$番目の単語 |\n",
    "|　 | $s_{ik}$ | $i$番目の単語の$k$番目の語義 |\n",
    "|　 | $c_{ik}$ | $w_i, s_{ik}$間の$\\cos$類似度 |"
   ]
  },
  {
   "cell_type": "markdown",
   "id": "5f9c717d",
   "metadata": {},
   "source": [
    "<img src=\"figures/fig1.png\" width=\"25%\">"
   ]
  },
  {
   "cell_type": "markdown",
   "id": "43ccab0e",
   "metadata": {
    "id": "43ccab0e"
   },
   "source": [
    "#### $\\cos$類似度とは\n",
    "\n",
    "ここで、$\\cos$類似度について説明します。\n",
    "\n",
    "ある2つの単語を$\\mathbf{a},\\mathbf{b}$というベクトルで表したとき、内積の公式( $\\mathbf{a}・\\mathbf{b}=|\\mathbf{a}||\\mathbf{b}|\\cos\\theta$ )を変形すると、$\\cos\\theta$$=\\mathbf{a}・\\mathbf{b}/|\\mathbf{a}||\\mathbf{b}|$となります。これを$\\cos$類似度と呼び、1に近いほど2つの単語が類似していることを表します。"
   ]
  },
  {
   "cell_type": "markdown",
   "id": "473e7161",
   "metadata": {
    "id": "473e7161"
   },
   "source": [
    "$c_{ik}$を用いて、目的関数(第1項)を次のように定義します。\n",
    "\n",
    "\n",
    "\n",
    "$$\n",
    "Z_1(X)=-\\sum_{i} \\sum_{k} c_{i k} x_{i k}\n",
    "$$\n",
    "\n",
    "これは、各単語の$\\cos$類似度が最も高い語義が選ばれるようにするための項です。"
   ]
  },
  {
   "cell_type": "markdown",
   "id": "da594321",
   "metadata": {
    "id": "da594321"
   },
   "source": [
    "### 目的関数(第2項)"
   ]
  },
  {
   "cell_type": "markdown",
   "id": "lBooeB9Jpxkf",
   "metadata": {
    "id": "lBooeB9Jpxkf"
   },
   "source": [
    "$\\cos$類似度が最も高い語義が正解の語義とは限りません。そこで、文脈中の他の単語との関係性を表す$r_{iu,jv}$を定義します。"
   ]
  },
  {
   "cell_type": "markdown",
   "id": "a1e21389",
   "metadata": {
    "id": "a1e21389"
   },
   "source": [
    "$$\n",
    "r_{i m, j n}:=\\lambda_{1}\\left(b_{i, j n}+b_{j, i m}\\right)+\\lambda_{2} h_{i m, j n}+\\lambda_{3}\\left(c_{i m}+e_{w_{i} w_{j}}+c_{j n}\\right)\n",
    "$$"
   ]
  },
  {
   "cell_type": "markdown",
   "id": "003b802d",
   "metadata": {},
   "source": [
    "<img src=\"figures/fig2.png\" width=\"50%\">"
   ]
  },
  {
   "cell_type": "markdown",
   "id": "mDv7oSG61OKa",
   "metadata": {
    "id": "mDv7oSG61OKa"
   },
   "source": [
    ">(引用) [https://arxiv.org/abs/2201.04877](https://arxiv.org/abs/2201.04877)"
   ]
  },
  {
   "cell_type": "markdown",
   "id": "O3iXnTuk2Rce",
   "metadata": {
    "id": "O3iXnTuk2Rce"
   },
   "source": [
    "$r$の値が大きいほど、両者の関係は良いという意味になります。"
   ]
  },
  {
   "cell_type": "markdown",
   "id": "e157db90",
   "metadata": {
    "id": "e157db90"
   },
   "source": [
    "パラメータの説明は次の通りです。"
   ]
  },
  {
   "cell_type": "markdown",
   "id": "1ba49ca8",
   "metadata": {
    "id": "1ba49ca8"
   },
   "source": [
    "| &emsp;定数&emsp;&emsp;  | 説明 |\n",
    "| :---: | :---: |\n",
    "| $r_{iu,jv}$ | $w_i, w_j$間、$s_{iu}, s_{jv}$間の関係性 |\n",
    "| $\\lambda_1, \\lambda_2, \\lambda_3$ | 各項の重み |\n",
    "| $b_{i, jn}$ | $w_i$と$s_{jn}$間の$\\cos$類似度 |\n",
    "| $h_{im, jn}$ | $s_{im}$と$s_{jn}$間の$\\cos$類似度 |\n",
    "| $e_{wi, wj}$ | $w_i$と$w_j$間の$\\cos$類似度 |"
   ]
  },
  {
   "cell_type": "markdown",
   "id": "e8d42237",
   "metadata": {
    "id": "e8d42237"
   },
   "source": [
    "$r_{iu,jv}$を定義することで、文脈に合った語義を選べるようになります。目的関数(第2項)は次のようになります。"
   ]
  },
  {
   "cell_type": "markdown",
   "id": "773470ad",
   "metadata": {
    "id": "773470ad"
   },
   "source": [
    "**目的関数(第2項)**\n",
    "\n",
    "$$\n",
    "Z_2(X) = -\\sum_{i, j} \\sum_{u} \\sum_{v} r_{i u, j v} x_{i u} x_{j v}\n",
    "$$"
   ]
  },
  {
   "cell_type": "markdown",
   "id": "ObVLPoEIqrAV",
   "metadata": {
    "id": "ObVLPoEIqrAV"
   },
   "source": [
    "### $r_{iu,jv}$のイメージ"
   ]
  },
  {
   "cell_type": "markdown",
   "id": "5m-EMKIdqwX-",
   "metadata": {
    "id": "5m-EMKIdqwX-"
   },
   "source": [
    "$r_{iu,jv}$について、補足して説明します。"
   ]
  },
  {
   "cell_type": "markdown",
   "id": "4025370d",
   "metadata": {
    "id": "4025370d"
   },
   "source": [
    "* <u>都会</u> の <u>マンション</u> <u>価格</u> は <u>とても</u> <u>高い</u>。"
   ]
  },
  {
   "cell_type": "markdown",
   "id": "bf14ae79",
   "metadata": {
    "id": "bf14ae79"
   },
   "source": [
    "| 単語  |            | 語義     |                              | cos類似度|  |\n",
    "| :---:| :---: | :---: |:---:|:---:| --- |\n",
    "| $w_0$ | 都会       | $s_{00}$ | 人が多く住む土地             |$c_{00}=$| 0.9 |\n",
    "| $w_1$ | マンション | $s_{10}$ | 中高層の集合住宅             |$c_{10}=$ | 0.9 |\n",
    "| $w_2$ | 価格       | $s_{20}$ | 商品の価値を表す            |$c_{20}=$ | 0.9 |\n",
    "| $w_3$ | とても     | $s_{30}$ |  程度のはなはだしいさま      |$c_{30}=$ | 0.9 |\n",
    "| $w_4$ | 高い       | $s_{40}$ | 物が上の位置にあること       |$c_{40}=$| 0.6 |\n",
    "|       |            | $s_{41}$ | 金額がかさむさま             |$c_{41}=$ | 0.3 |"
   ]
  },
  {
   "cell_type": "markdown",
   "id": "2115f6f4",
   "metadata": {
    "id": "2115f6f4"
   },
   "source": [
    "上記の例文において、「$w_4$: 高い」の正しい語義は「$s_{41}$: 金額がかさむさま」です。しかし、表の$\\cos$類似度が最も大きい語義は「$s_{40}$: 物が上の位置にあること」であるため、目的関数(第1項)だけでは正しい語義が選ばれません。そこで、第2項を定義します。文脈中の「$w_{1}$: マンション」「$w_{2}$: 価格」と、より相性の良い「$w_{4}$: 高い」の語義は「$s_{41}$: 金額がかさむさま」だと考えられます。よって、$r_{41, jv}$の値は大きくなり、正しい語義が選択されます。"
   ]
  },
  {
   "cell_type": "markdown",
   "id": "eb65f762",
   "metadata": {
    "id": "eb65f762"
   },
   "source": [
    "### 目的関数(第1項+第2項+制約項)"
   ]
  },
  {
   "cell_type": "markdown",
   "id": "bdc52de9",
   "metadata": {
    "id": "bdc52de9"
   },
   "source": [
    "これより、最適化したい目的関数は次のようになります。"
   ]
  },
  {
   "cell_type": "markdown",
   "id": "4a047a20",
   "metadata": {
    "id": "4a047a20"
   },
   "source": [
    "$$\n",
    "\\operatorname{Min} Z(X)=- \\alpha \\sum_{i} \\sum_{k} c_{i k} x_{i k}-\\beta \\sum_{i, j} \\sum_{u} \\sum_{v} r_{i u, j v} x_{i u} x_{j v}+\\gamma \\sum_{i}\\left(\\sum_{k} x_{i k}-1\\right)^{2}\n",
    "$$"
   ]
  },
  {
   "cell_type": "markdown",
   "id": "a23b01ed",
   "metadata": {
    "id": "a23b01ed"
   },
   "source": [
    "ここで、$\\alpha, \\beta, \\gamma$はハイパーパラメータ、第3項は各単語に1つの語義が選ばれるようにする制約項です。\n",
    "\n",
    "この目的関数をD-Waveマシンで解いていきましょう。"
   ]
  },
  {
   "cell_type": "markdown",
   "id": "4087f44f",
   "metadata": {
    "id": "4087f44f"
   },
   "source": [
    "## 実験"
   ]
  },
  {
   "cell_type": "markdown",
   "id": "35aa8e51",
   "metadata": {
    "id": "35aa8e51"
   },
   "source": [
    "### ライブラリのインストール"
   ]
  },
  {
   "cell_type": "markdown",
   "id": "254d998f",
   "metadata": {
    "id": "254d998f"
   },
   "source": [
    "必要なライブラリをインストールします。"
   ]
  },
  {
   "cell_type": "code",
   "execution_count": null,
   "id": "9ba9c669",
   "metadata": {
    "collapsed": true,
    "id": "9ba9c669",
    "outputId": "332b0814-f6da-4248-fbda-cdf4cb96577e"
   },
   "outputs": [
    {
     "name": "stdout",
     "output_type": "stream",
     "text": [
      "Requirement already satisfied: numpy in /Users/shikanai/opt/anaconda3/envs/opt/lib/python3.9/site-packages (1.21.2)\n",
      "Requirement already satisfied: matplotlib in /Users/shikanai/opt/anaconda3/envs/opt/lib/python3.9/site-packages (3.5.0)\n",
      "Requirement already satisfied: fonttools>=4.22.0 in /Users/shikanai/opt/anaconda3/envs/opt/lib/python3.9/site-packages (from matplotlib) (4.28.3)\n",
      "Requirement already satisfied: numpy>=1.17 in /Users/shikanai/opt/anaconda3/envs/opt/lib/python3.9/site-packages (from matplotlib) (1.21.2)\n",
      "Requirement already satisfied: python-dateutil>=2.7 in /Users/shikanai/opt/anaconda3/envs/opt/lib/python3.9/site-packages (from matplotlib) (2.8.2)\n",
      "Requirement already satisfied: cycler>=0.10 in /Users/shikanai/opt/anaconda3/envs/opt/lib/python3.9/site-packages (from matplotlib) (0.11.0)\n",
      "Requirement already satisfied: packaging>=20.0 in /Users/shikanai/opt/anaconda3/envs/opt/lib/python3.9/site-packages (from matplotlib) (21.3)\n",
      "Requirement already satisfied: pillow>=6.2.0 in /Users/shikanai/opt/anaconda3/envs/opt/lib/python3.9/site-packages (from matplotlib) (8.3.2)\n",
      "Requirement already satisfied: pyparsing>=2.2.1 in /Users/shikanai/opt/anaconda3/envs/opt/lib/python3.9/site-packages (from matplotlib) (2.4.7)\n",
      "Requirement already satisfied: kiwisolver>=1.0.1 in /Users/shikanai/opt/anaconda3/envs/opt/lib/python3.9/site-packages (from matplotlib) (1.3.2)\n",
      "Requirement already satisfied: six>=1.5 in /Users/shikanai/opt/anaconda3/envs/opt/lib/python3.9/site-packages (from python-dateutil>=2.7->matplotlib) (1.16.0)\n",
      "Requirement already satisfied: nltk in /Users/shikanai/opt/anaconda3/envs/opt/lib/python3.9/site-packages (3.7)\n",
      "Requirement already satisfied: click in /Users/shikanai/opt/anaconda3/envs/opt/lib/python3.9/site-packages (from nltk) (8.0.3)\n",
      "Requirement already satisfied: tqdm in /Users/shikanai/opt/anaconda3/envs/opt/lib/python3.9/site-packages (from nltk) (4.62.3)\n",
      "Requirement already satisfied: regex>=2021.8.3 in /Users/shikanai/opt/anaconda3/envs/opt/lib/python3.9/site-packages (from nltk) (2022.3.2)\n",
      "Requirement already satisfied: joblib in /Users/shikanai/opt/anaconda3/envs/opt/lib/python3.9/site-packages (from nltk) (1.1.0)\n",
      "Requirement already satisfied: dwave-ocean-sdk in /Users/shikanai/opt/anaconda3/envs/opt/lib/python3.9/site-packages (4.2.0)\n",
      "Requirement already satisfied: dwavebinarycsp==0.1.3 in /Users/shikanai/opt/anaconda3/envs/opt/lib/python3.9/site-packages (from dwave-ocean-sdk) (0.1.3)\n",
      "Requirement already satisfied: dwave-system==1.10.0 in /Users/shikanai/opt/anaconda3/envs/opt/lib/python3.9/site-packages (from dwave-ocean-sdk) (1.10.0)\n",
      "Requirement already satisfied: dwave-neal==0.5.8 in /Users/shikanai/opt/anaconda3/envs/opt/lib/python3.9/site-packages (from dwave-ocean-sdk) (0.5.8)\n",
      "Requirement already satisfied: dwave-preprocessing==0.3.1.post0 in /Users/shikanai/opt/anaconda3/envs/opt/lib/python3.9/site-packages (from dwave-ocean-sdk) (0.3.1.post0)\n",
      "Requirement already satisfied: dwave-hybrid==0.6.4 in /Users/shikanai/opt/anaconda3/envs/opt/lib/python3.9/site-packages (from dwave-ocean-sdk) (0.6.4)\n",
      "Requirement already satisfied: dwave-cloud-client==0.9.2 in /Users/shikanai/opt/anaconda3/envs/opt/lib/python3.9/site-packages (from dwave-ocean-sdk) (0.9.2)\n",
      "Requirement already satisfied: penaltymodel-lp==0.1.5 in /Users/shikanai/opt/anaconda3/envs/opt/lib/python3.9/site-packages (from dwave-ocean-sdk) (0.1.5)\n",
      "Requirement already satisfied: minorminer==0.2.6 in /Users/shikanai/opt/anaconda3/envs/opt/lib/python3.9/site-packages (from dwave-ocean-sdk) (0.2.6)\n",
      "Requirement already satisfied: dwave-greedy==0.2.1 in /Users/shikanai/opt/anaconda3/envs/opt/lib/python3.9/site-packages (from dwave-ocean-sdk) (0.2.1)\n",
      "Requirement already satisfied: penaltymodel-mip==0.2.5 in /Users/shikanai/opt/anaconda3/envs/opt/lib/python3.9/site-packages (from dwave-ocean-sdk) (0.2.5)\n",
      "Requirement already satisfied: penaltymodel-cache==0.4.4 in /Users/shikanai/opt/anaconda3/envs/opt/lib/python3.9/site-packages (from dwave-ocean-sdk) (0.4.4)\n",
      "Requirement already satisfied: dimod==0.10.7 in /Users/shikanai/opt/anaconda3/envs/opt/lib/python3.9/site-packages (from dwave-ocean-sdk) (0.10.7)\n",
      "Requirement already satisfied: penaltymodel==0.16.5 in /Users/shikanai/opt/anaconda3/envs/opt/lib/python3.9/site-packages (from dwave-ocean-sdk) (0.16.5)\n",
      "Requirement already satisfied: dwave-qbsolv==0.3.3 in /Users/shikanai/opt/anaconda3/envs/opt/lib/python3.9/site-packages (from dwave-ocean-sdk) (0.3.3)\n",
      "Requirement already satisfied: pyqubo==1.0.13 in /Users/shikanai/opt/anaconda3/envs/opt/lib/python3.9/site-packages (from dwave-ocean-sdk) (1.0.13)\n",
      "Requirement already satisfied: dwave-tabu==0.4.2 in /Users/shikanai/opt/anaconda3/envs/opt/lib/python3.9/site-packages (from dwave-ocean-sdk) (0.4.2)\n",
      "Requirement already satisfied: dwave-inspector==0.2.7 in /Users/shikanai/opt/anaconda3/envs/opt/lib/python3.9/site-packages (from dwave-ocean-sdk) (0.2.7)\n",
      "Requirement already satisfied: dwave-networkx==0.8.10 in /Users/shikanai/opt/anaconda3/envs/opt/lib/python3.9/site-packages (from dwave-ocean-sdk) (0.8.10)\n",
      "Requirement already satisfied: pyparsing<3.0.0,>=2.4.7 in /Users/shikanai/opt/anaconda3/envs/opt/lib/python3.9/site-packages (from dimod==0.10.7->dwave-ocean-sdk) (2.4.7)\n",
      "Requirement already satisfied: numpy!=1.21.0,!=1.21.1,<2.0.0,>=1.17.3 in /Users/shikanai/opt/anaconda3/envs/opt/lib/python3.9/site-packages (from dimod==0.10.7->dwave-ocean-sdk) (1.21.2)\n",
      "Requirement already satisfied: click>=7.0 in /Users/shikanai/opt/anaconda3/envs/opt/lib/python3.9/site-packages (from dwave-cloud-client==0.9.2->dwave-ocean-sdk) (8.0.3)\n",
      "Requirement already satisfied: requests[socks]>=2.18 in /Users/shikanai/opt/anaconda3/envs/opt/lib/python3.9/site-packages (from dwave-cloud-client==0.9.2->dwave-ocean-sdk) (2.26.0)\n",
      "Requirement already satisfied: plucky>=0.4.3 in /Users/shikanai/opt/anaconda3/envs/opt/lib/python3.9/site-packages (from dwave-cloud-client==0.9.2->dwave-ocean-sdk) (0.4.3)\n",
      "Requirement already satisfied: diskcache>=5.2.1 in /Users/shikanai/opt/anaconda3/envs/opt/lib/python3.9/site-packages (from dwave-cloud-client==0.9.2->dwave-ocean-sdk) (5.3.0)\n",
      "Requirement already satisfied: homebase>=1.0 in /Users/shikanai/opt/anaconda3/envs/opt/lib/python3.9/site-packages (from dwave-cloud-client==0.9.2->dwave-ocean-sdk) (1.0.1)\n",
      "Requirement already satisfied: python-dateutil>=2.7 in /Users/shikanai/opt/anaconda3/envs/opt/lib/python3.9/site-packages (from dwave-cloud-client==0.9.2->dwave-ocean-sdk) (2.8.2)\n",
      "Requirement already satisfied: pydantic>=1.7.3 in /Users/shikanai/opt/anaconda3/envs/opt/lib/python3.9/site-packages (from dwave-cloud-client==0.9.2->dwave-ocean-sdk) (1.8.2)\n",
      "Requirement already satisfied: networkx in /Users/shikanai/opt/anaconda3/envs/opt/lib/python3.9/site-packages (from dwave-hybrid==0.6.4->dwave-ocean-sdk) (2.6.3)\n",
      "Requirement already satisfied: Flask>=1.1.1 in /Users/shikanai/opt/anaconda3/envs/opt/lib/python3.9/site-packages (from dwave-inspector==0.2.7->dwave-ocean-sdk) (2.0.2)\n",
      "Requirement already satisfied: decorator<5.0.0,>=4.1.0 in /Users/shikanai/opt/anaconda3/envs/opt/lib/python3.9/site-packages (from dwave-networkx==0.8.10->dwave-ocean-sdk) (4.4.2)\n",
      "Requirement already satisfied: six<2.0.0,>=1.11.0 in /Users/shikanai/opt/anaconda3/envs/opt/lib/python3.9/site-packages (from dwavebinarycsp==0.1.3->dwave-ocean-sdk) (1.16.0)\n",
      "Requirement already satisfied: fasteners in /Users/shikanai/opt/anaconda3/envs/opt/lib/python3.9/site-packages (from minorminer==0.2.6->dwave-ocean-sdk) (0.16.3)\n",
      "Requirement already satisfied: scipy in /Users/shikanai/opt/anaconda3/envs/opt/lib/python3.9/site-packages (from minorminer==0.2.6->dwave-ocean-sdk) (1.7.3)\n",
      "Requirement already satisfied: ortools<9.0.0,>=6.6.4659 in /Users/shikanai/opt/anaconda3/envs/opt/lib/python3.9/site-packages (from penaltymodel-mip==0.2.5->dwave-ocean-sdk) (8.2.8710)\n",
      "Requirement already satisfied: Deprecated>=1.2.12 in /Users/shikanai/opt/anaconda3/envs/opt/lib/python3.9/site-packages (from pyqubo==1.0.13->dwave-ocean-sdk) (1.2.13)\n",
      "Requirement already satisfied: wrapt<2,>=1.10 in /Users/shikanai/opt/anaconda3/envs/opt/lib/python3.9/site-packages (from Deprecated>=1.2.12->pyqubo==1.0.13->dwave-ocean-sdk) (1.13.3)\n"
     ]
    },
    {
     "name": "stdout",
     "output_type": "stream",
     "text": [
      "Requirement already satisfied: itsdangerous>=2.0 in /Users/shikanai/opt/anaconda3/envs/opt/lib/python3.9/site-packages (from Flask>=1.1.1->dwave-inspector==0.2.7->dwave-ocean-sdk) (2.0.1)\n",
      "Requirement already satisfied: Jinja2>=3.0 in /Users/shikanai/opt/anaconda3/envs/opt/lib/python3.9/site-packages (from Flask>=1.1.1->dwave-inspector==0.2.7->dwave-ocean-sdk) (3.0.3)\n",
      "Requirement already satisfied: Werkzeug>=2.0 in /Users/shikanai/opt/anaconda3/envs/opt/lib/python3.9/site-packages (from Flask>=1.1.1->dwave-inspector==0.2.7->dwave-ocean-sdk) (2.0.2)\n",
      "Requirement already satisfied: MarkupSafe>=2.0 in /Users/shikanai/opt/anaconda3/envs/opt/lib/python3.9/site-packages (from Jinja2>=3.0->Flask>=1.1.1->dwave-inspector==0.2.7->dwave-ocean-sdk) (2.0.1)\n",
      "Requirement already satisfied: protobuf>=3.14.0 in /Users/shikanai/opt/anaconda3/envs/opt/lib/python3.9/site-packages (from ortools<9.0.0,>=6.6.4659->penaltymodel-mip==0.2.5->dwave-ocean-sdk) (3.19.1)\n",
      "Requirement already satisfied: absl-py>=0.11 in /Users/shikanai/opt/anaconda3/envs/opt/lib/python3.9/site-packages (from ortools<9.0.0,>=6.6.4659->penaltymodel-mip==0.2.5->dwave-ocean-sdk) (1.0.0)\n",
      "Requirement already satisfied: typing-extensions>=3.7.4.3 in /Users/shikanai/opt/anaconda3/envs/opt/lib/python3.9/site-packages (from pydantic>=1.7.3->dwave-cloud-client==0.9.2->dwave-ocean-sdk) (4.1.1)\n",
      "Requirement already satisfied: idna<4,>=2.5 in /Users/shikanai/opt/anaconda3/envs/opt/lib/python3.9/site-packages (from requests[socks]>=2.18->dwave-cloud-client==0.9.2->dwave-ocean-sdk) (3.3)\n",
      "Requirement already satisfied: charset-normalizer~=2.0.0 in /Users/shikanai/opt/anaconda3/envs/opt/lib/python3.9/site-packages (from requests[socks]>=2.18->dwave-cloud-client==0.9.2->dwave-ocean-sdk) (2.0.9)\n",
      "Requirement already satisfied: urllib3<1.27,>=1.21.1 in /Users/shikanai/opt/anaconda3/envs/opt/lib/python3.9/site-packages (from requests[socks]>=2.18->dwave-cloud-client==0.9.2->dwave-ocean-sdk) (1.26.7)\n",
      "Requirement already satisfied: certifi>=2017.4.17 in /Users/shikanai/opt/anaconda3/envs/opt/lib/python3.9/site-packages (from requests[socks]>=2.18->dwave-cloud-client==0.9.2->dwave-ocean-sdk) (2022.6.15)\n",
      "Requirement already satisfied: PySocks!=1.5.7,>=1.5.6 in /Users/shikanai/opt/anaconda3/envs/opt/lib/python3.9/site-packages (from requests[socks]>=2.18->dwave-cloud-client==0.9.2->dwave-ocean-sdk) (1.7.1)\n",
      "Requirement already satisfied: openjij in /Users/shikanai/opt/anaconda3/envs/opt/lib/python3.9/site-packages (0.4.6)\n",
      "Requirement already satisfied: numpy!=1.21.0,!=1.21.1,>=1.18.4 in /Users/shikanai/opt/anaconda3/envs/opt/lib/python3.9/site-packages (from openjij) (1.21.2)\n",
      "Requirement already satisfied: jij-cimod>=1.2.3 in /Users/shikanai/opt/anaconda3/envs/opt/lib/python3.9/site-packages (from openjij) (1.3.4)\n",
      "Requirement already satisfied: dimod>=0.9.1 in /Users/shikanai/opt/anaconda3/envs/opt/lib/python3.9/site-packages (from openjij) (0.10.7)\n",
      "Requirement already satisfied: scipy in /Users/shikanai/opt/anaconda3/envs/opt/lib/python3.9/site-packages (from openjij) (1.7.3)\n",
      "Requirement already satisfied: requests in /Users/shikanai/opt/anaconda3/envs/opt/lib/python3.9/site-packages (from openjij) (2.26.0)\n",
      "Requirement already satisfied: pyparsing<3.0.0,>=2.4.7 in /Users/shikanai/opt/anaconda3/envs/opt/lib/python3.9/site-packages (from dimod>=0.9.1->openjij) (2.4.7)\n",
      "Requirement already satisfied: dwave-preprocessing<0.4,>=0.3 in /Users/shikanai/opt/anaconda3/envs/opt/lib/python3.9/site-packages (from dimod>=0.9.1->openjij) (0.3.1.post0)\n",
      "Requirement already satisfied: idna<4,>=2.5 in /Users/shikanai/opt/anaconda3/envs/opt/lib/python3.9/site-packages (from requests->openjij) (3.3)\n",
      "Requirement already satisfied: certifi>=2017.4.17 in /Users/shikanai/opt/anaconda3/envs/opt/lib/python3.9/site-packages (from requests->openjij) (2022.6.15)\n",
      "Requirement already satisfied: urllib3<1.27,>=1.21.1 in /Users/shikanai/opt/anaconda3/envs/opt/lib/python3.9/site-packages (from requests->openjij) (1.26.7)\n",
      "Requirement already satisfied: charset-normalizer~=2.0.0 in /Users/shikanai/opt/anaconda3/envs/opt/lib/python3.9/site-packages (from requests->openjij) (2.0.9)\n",
      "Requirement already satisfied: pyqubo in /Users/shikanai/opt/anaconda3/envs/opt/lib/python3.9/site-packages (1.0.13)\n",
      "Requirement already satisfied: numpy>=1.17.3 in /Users/shikanai/opt/anaconda3/envs/opt/lib/python3.9/site-packages (from pyqubo) (1.21.2)\n",
      "Requirement already satisfied: dwave-neal>=0.5.7 in /Users/shikanai/opt/anaconda3/envs/opt/lib/python3.9/site-packages (from pyqubo) (0.5.8)\n",
      "Requirement already satisfied: dimod<0.11,>=0.9.14 in /Users/shikanai/opt/anaconda3/envs/opt/lib/python3.9/site-packages (from pyqubo) (0.10.7)\n",
      "Requirement already satisfied: Deprecated>=1.2.12 in /Users/shikanai/opt/anaconda3/envs/opt/lib/python3.9/site-packages (from pyqubo) (1.2.13)\n",
      "Requirement already satisfied: six>=1.15.0 in /Users/shikanai/opt/anaconda3/envs/opt/lib/python3.9/site-packages (from pyqubo) (1.16.0)\n",
      "Requirement already satisfied: wrapt<2,>=1.10 in /Users/shikanai/opt/anaconda3/envs/opt/lib/python3.9/site-packages (from Deprecated>=1.2.12->pyqubo) (1.13.3)\n",
      "Requirement already satisfied: dwave-preprocessing<0.4,>=0.3 in /Users/shikanai/opt/anaconda3/envs/opt/lib/python3.9/site-packages (from dimod<0.11,>=0.9.14->pyqubo) (0.3.1.post0)\n",
      "Requirement already satisfied: pyparsing<3.0.0,>=2.4.7 in /Users/shikanai/opt/anaconda3/envs/opt/lib/python3.9/site-packages (from dimod<0.11,>=0.9.14->pyqubo) (2.4.7)\n"
     ]
    }
   ],
   "source": [
    "!pip install numpy\n",
    "!pip install matplotlib\n",
    "!pip install nltk\n",
    "!pip install dwave-ocean-sdk\n",
    "!pip install openjij\n",
    "!pip install pyqubo"
   ]
  },
  {
   "cell_type": "code",
   "execution_count": null,
   "id": "75ccb351",
   "metadata": {
    "id": "75ccb351"
   },
   "outputs": [],
   "source": [
    "import numpy as np\n",
    "import matplotlib.pyplot as plt\n",
    "import nltk\n",
    "import pandas as pd\n",
    "from nltk.corpus import wordnet as wn\n",
    "from gensim.models import KeyedVectors\n",
    "from pyqubo import Array, Constraint, Placeholder, Binary"
   ]
  },
  {
   "cell_type": "markdown",
   "id": "8d6b2682",
   "metadata": {
    "id": "8d6b2682"
   },
   "source": [
    "### 語義曖昧性を解消する文章"
   ]
  },
  {
   "cell_type": "markdown",
   "id": "e16c6180",
   "metadata": {
    "id": "e16c6180"
   },
   "source": [
    "まずは、語義曖昧性のある文章を定義します。使用するデータセットは、[SENSEVAL-2](https://web.eecs.umich.edu/~mihalcea/senseval/index.html)の一部です。このデータセットには、英文と単語に対する正解の語義が含まれています。\n",
    "\n",
    "今回の実験で対象とする文章は、次の英文です。"
   ]
  },
  {
   "cell_type": "markdown",
   "id": "6ce35555",
   "metadata": {
    "id": "6ce35555"
   },
   "source": [
    ">「The art of change-ringing is peculiar to the English, and, like most English peculiarities, unintelligible to the rest of the world.」"
   ]
  },
  {
   "cell_type": "markdown",
   "id": "2ebec5be",
   "metadata": {
    "id": "2ebec5be"
   },
   "source": [
    "英文から対象となる単語を抽出します。"
   ]
  },
  {
   "cell_type": "code",
   "execution_count": null,
   "id": "f88718cb",
   "metadata": {
    "id": "f88718cb"
   },
   "outputs": [],
   "source": [
    "words = [\n",
    "    \"art\",\n",
    "    \"change_ringing\",\n",
    "    \"peculiar\",\n",
    "    \"english\",\n",
    "    \"most\",\n",
    "    \"english\",\n",
    "    \"peculiarity\",\n",
    "    \"unintelligible\",\n",
    "    \"rest\",\n",
    "    \"world\",\n",
    "]"
   ]
  },
  {
   "cell_type": "markdown",
   "id": "235e0ca2",
   "metadata": {
    "id": "235e0ca2"
   },
   "source": [
    "語義は、[WordNet](http://wordnetweb.princeton.edu/perl/webwn?s=refer&sub=Search+WordNet&o2=1&o0=1&o8=1&o1=1&o7=1&o5=1&o9=&o6=1&o3=1&o4=1&h=0000000) のものを使用します。WordNetは英語の概念辞書であり、各語義にIDが付けられています。各単語に対する正解の語義のIDは次の通りです。複数の正解が存在する単語もあります。"
   ]
  },
  {
   "cell_type": "code",
   "execution_count": null,
   "id": "460c5ca1",
   "metadata": {
    "id": "460c5ca1"
   },
   "outputs": [],
   "source": [
    "correct_keys = {\n",
    "    0: [\"art%1:09:00::\"],\n",
    "    1: [\"change_ringing%1:04:00::\"],\n",
    "    2: [\"peculiar%5:00:00:specific:00\", \"peculiar%5:00:00:characteristic:00\"],\n",
    "    3: [\"english%1:18:00::\"],\n",
    "    4: [\"most%3:00:02::\"],\n",
    "    5: [\"english%3:01:00::\"],\n",
    "    6: [\"peculiarity%1:07:02::\", \"peculiarity%1:09:00::\"],\n",
    "    7: [\"unintelligible%5:00:00:incomprehensible:00\"],\n",
    "    8: [\"rest%1:24:00::\"],\n",
    "    9: [\"world%1:14:02::\"],\n",
    "}"
   ]
  },
  {
   "cell_type": "code",
   "execution_count": null,
   "id": "PJwkFusb1h4m",
   "metadata": {
    "colab": {
     "base_uri": "https://localhost:8080/"
    },
    "id": "PJwkFusb1h4m",
    "outputId": "76f98e6d-3e59-4c68-d8a7-9200e7aa459d"
   },
   "outputs": [
    {
     "name": "stderr",
     "output_type": "stream",
     "text": [
      "[nltk_data] Downloading package wordnet to\n",
      "[nltk_data]     /Users/shikanai/nltk_data...\n",
      "[nltk_data]   Package wordnet is already up-to-date!\n",
      "[nltk_data] Downloading package averaged_perceptron_tagger to\n",
      "[nltk_data]     /Users/shikanai/nltk_data...\n",
      "[nltk_data]   Package averaged_perceptron_tagger is already up-to-\n",
      "[nltk_data]       date!\n",
      "[nltk_data] Downloading package punkt to /Users/shikanai/nltk_data...\n",
      "[nltk_data]   Unzipping tokenizers/punkt.zip.\n",
      "[nltk_data] Downloading package omw-1.4 to\n",
      "[nltk_data]     /Users/shikanai/nltk_data...\n",
      "[nltk_data]   Package omw-1.4 is already up-to-date!\n"
     ]
    },
    {
     "data": {
      "text/plain": [
       "True"
      ]
     },
     "execution_count": 6,
     "metadata": {},
     "output_type": "execute_result"
    }
   ],
   "source": [
    "# WordNetのダウンロード\n",
    "nltk.download(\"wordnet\")\n",
    "nltk.download(\"averaged_perceptron_tagger\")\n",
    "nltk.download(\"punkt\")\n",
    "nltk.download(\"omw-1.4\")"
   ]
  },
  {
   "cell_type": "code",
   "execution_count": null,
   "id": "942fe294",
   "metadata": {
    "id": "942fe294"
   },
   "outputs": [],
   "source": [
    "# 単語に関するデータ\n",
    "word_data = {}\n",
    "for i, word in enumerate(words):\n",
    "    word_data[i] = {\"word\": word}"
   ]
  },
  {
   "cell_type": "code",
   "execution_count": null,
   "id": "968c210c",
   "metadata": {
    "id": "968c210c"
   },
   "outputs": [],
   "source": [
    "# 語義に関するデータ\n",
    "sense_data = {}\n",
    "for i, word in enumerate(words):\n",
    "    # 定義文の追加\n",
    "    for k, synset in enumerate(wn.synsets(word)):\n",
    "        sense_data[(i, k)] = {\"sense\": synset.definition()}\n",
    "\n",
    "    word_data[i][\"num_sense\"] = k + 1\n",
    "\n",
    "    # 語義キーの追加\n",
    "    for k, synset in enumerate(wn.lemmas(word)):\n",
    "        if synset.key() in correct_keys[i]:\n",
    "            sense_data[(i, k)][\"key\"] = synset.key()\n",
    "            sense_data[(i, k)][\"correct\"] = \"*\"\n",
    "        else:\n",
    "            sense_data[(i, k)][\"key\"] = synset.key()\n",
    "            sense_data[(i, k)][\"correct\"] = \"\""
   ]
  },
  {
   "cell_type": "markdown",
   "id": "436f8f84",
   "metadata": {
    "id": "436f8f84"
   },
   "source": [
    "IDに紐付けられている語義を表示させてみましょう。正解の語義には、「*」を付けています 。"
   ]
  },
  {
   "cell_type": "code",
   "execution_count": null,
   "id": "50208f90",
   "metadata": {
    "id": "50208f90"
   },
   "outputs": [],
   "source": [
    "df = pd.DataFrame.from_dict(sense_data, orient=\"index\")"
   ]
  },
  {
   "cell_type": "code",
   "execution_count": null,
   "id": "cd69f261",
   "metadata": {
    "colab": {
     "base_uri": "https://localhost:8080/",
     "height": 206
    },
    "id": "cd69f261",
    "outputId": "e959f404-eb18-4172-82b2-b49988b52a78",
    "scrolled": true
   },
   "outputs": [
    {
     "data": {
      "text/html": [
       "<div>\n",
       "<style scoped>\n",
       "    .dataframe tbody tr th:only-of-type {\n",
       "        vertical-align: middle;\n",
       "    }\n",
       "\n",
       "    .dataframe tbody tr th {\n",
       "        vertical-align: top;\n",
       "    }\n",
       "\n",
       "    .dataframe thead th {\n",
       "        text-align: right;\n",
       "    }\n",
       "</style>\n",
       "<table border=\"1\" class=\"dataframe\">\n",
       "  <thead>\n",
       "    <tr style=\"text-align: right;\">\n",
       "      <th></th>\n",
       "      <th></th>\n",
       "      <th>sense</th>\n",
       "      <th>key</th>\n",
       "      <th>correct</th>\n",
       "    </tr>\n",
       "  </thead>\n",
       "  <tbody>\n",
       "    <tr>\n",
       "      <th rowspan=\"4\" valign=\"top\">0</th>\n",
       "      <th>0</th>\n",
       "      <td>the products of human creativity; works of art...</td>\n",
       "      <td>art%1:06:00::</td>\n",
       "      <td></td>\n",
       "    </tr>\n",
       "    <tr>\n",
       "      <th>1</th>\n",
       "      <td>the creation of beautiful or significant things</td>\n",
       "      <td>art%1:04:00::</td>\n",
       "      <td></td>\n",
       "    </tr>\n",
       "    <tr>\n",
       "      <th>2</th>\n",
       "      <td>a superior skill that you can learn by study a...</td>\n",
       "      <td>art%1:09:00::</td>\n",
       "      <td>*</td>\n",
       "    </tr>\n",
       "    <tr>\n",
       "      <th>3</th>\n",
       "      <td>photographs or other visual representations in...</td>\n",
       "      <td>art%1:10:00::</td>\n",
       "      <td></td>\n",
       "    </tr>\n",
       "    <tr>\n",
       "      <th>1</th>\n",
       "      <th>0</th>\n",
       "      <td>ringing tuned bells in a fixed order that is c...</td>\n",
       "      <td>change_ringing%1:04:00::</td>\n",
       "      <td>*</td>\n",
       "    </tr>\n",
       "  </tbody>\n",
       "</table>\n",
       "</div>"
      ],
      "text/plain": [
       "                                                 sense  \\\n",
       "0 0  the products of human creativity; works of art...   \n",
       "  1    the creation of beautiful or significant things   \n",
       "  2  a superior skill that you can learn by study a...   \n",
       "  3  photographs or other visual representations in...   \n",
       "1 0  ringing tuned bells in a fixed order that is c...   \n",
       "\n",
       "                          key correct  \n",
       "0 0             art%1:06:00::          \n",
       "  1             art%1:04:00::          \n",
       "  2             art%1:09:00::       *  \n",
       "  3             art%1:10:00::          \n",
       "1 0  change_ringing%1:04:00::       *  "
      ]
     },
     "execution_count": 10,
     "metadata": {},
     "output_type": "execute_result"
    }
   ],
   "source": [
    "df.head()"
   ]
  },
  {
   "cell_type": "markdown",
   "id": "fb4c7849",
   "metadata": {
    "id": "fb4c7849"
   },
   "source": [
    "### 単語ベクトルの獲得"
   ]
  },
  {
   "cell_type": "markdown",
   "id": "3bac13d7",
   "metadata": {
    "id": "3bac13d7"
   },
   "source": [
    "単語-語義間の$\\cos$類似度を求めるために、各単語をベクトル化する必要があります。\n",
    "\n",
    "本実験では、Wikipediaを学習したモデルを使用します。このモデルでは、単語を100次元のベクトルに変換しています。詳しくは下記をご覧ください。\n",
    ">  [Wikipedia2Vec](https://wikipedia2vec.github.io/wikipedia2vec/)"
   ]
  },
  {
   "cell_type": "code",
   "execution_count": null,
   "id": "iml4YQpTlWrm",
   "metadata": {
    "colab": {
     "base_uri": "https://localhost:8080/"
    },
    "collapsed": true,
    "id": "iml4YQpTlWrm",
    "outputId": "cfa7bc37-dbe4-4890-8663-e7ce9a4d3799"
   },
   "outputs": [
    {
     "name": "stdout",
     "output_type": "stream",
     "text": [
      "zsh:1: command not found: wget\n",
      "bzip2: Can't open input file enwiki_20180420_100d.txt.bz2: No such file or directory.\n"
     ]
    }
   ],
   "source": [
    "# 学習モデルのダウンロード(時間がかかります)\n",
    "!wget http://wikipedia2vec.s3.amazonaws.com/models/en/2018-04-20/enwiki_20180420_100d.txt.bz2\n",
    "# ファイルの解凍\n",
    "!bzip2 -d enwiki_20180420_100d.txt.bz2"
   ]
  },
  {
   "cell_type": "code",
   "execution_count": null,
   "id": "dNcmMYZQlWpC",
   "metadata": {
    "id": "dNcmMYZQlWpC"
   },
   "outputs": [],
   "source": [
    "# モデルの読み込み(時間がかかります)\n",
    "wikimodel = KeyedVectors.load_word2vec_format(\"enwiki_20180420_100d.txt\", binary=False)"
   ]
  },
  {
   "cell_type": "markdown",
   "id": "6b4496d1",
   "metadata": {
    "id": "6b4496d1"
   },
   "source": [
    "ここで、対象単語である「art」の単語ベクトルを表示させて見ましょう。"
   ]
  },
  {
   "cell_type": "code",
   "execution_count": null,
   "id": "7e2db559",
   "metadata": {
    "colab": {
     "base_uri": "https://localhost:8080/"
    },
    "id": "7e2db559",
    "outputId": "23813374-4fe2-416c-edcc-a3572be62590",
    "scrolled": true
   },
   "outputs": [
    {
     "data": {
      "text/plain": [
       "array([-0.1255, -0.1265, -0.3414, -0.0495, -0.4867, -0.4012,  0.025 ,\n",
       "        0.0366, -0.3346, -0.213 ], dtype=float32)"
      ]
     },
     "execution_count": 14,
     "metadata": {},
     "output_type": "execute_result"
    }
   ],
   "source": [
    "wikimodel[\"art\"][:10]"
   ]
  },
  {
   "cell_type": "markdown",
   "id": "564b9406",
   "metadata": {
    "id": "564b9406"
   },
   "source": [
    "モデルに含まれていない単語(本実験では「change_ringing」)もあるので、その場合は次のようにベクトルの足し算で作成します。"
   ]
  },
  {
   "cell_type": "code",
   "execution_count": null,
   "id": "3d5501fd",
   "metadata": {
    "id": "3d5501fd"
   },
   "outputs": [],
   "source": [
    "# ベクトルの合成\n",
    "wikimodel[\"change_ringing\"] = wikimodel[\"change\"] + wikimodel[\"ringing\"]\n",
    "\n",
    "for i, word in enumerate(words):\n",
    "    word_data[i][\"vector\"] = wikimodel[word]"
   ]
  },
  {
   "cell_type": "markdown",
   "id": "7d9d530c",
   "metadata": {
    "id": "7d9d530c"
   },
   "source": [
    "### 語義ベクトルの獲得"
   ]
  },
  {
   "cell_type": "markdown",
   "id": "3d710291",
   "metadata": {
    "id": "3d710291"
   },
   "source": [
    "これで、単語ベクトルを獲得することが出来ました。この単語ベクトルを利用して、語義ベクトルを作成していきます。作成の手順は次の通りです。"
   ]
  },
  {
   "cell_type": "markdown",
   "id": "ec4055c4",
   "metadata": {
    "id": "ec4055c4"
   },
   "source": [
    "> 1. 語義の定義文から、名詞，動詞，形容詞，副詞を抽出する。(これらを内容語と呼ぶ)\n",
    "2. 単語と内容語のcos類似度を計算して、閾値$\\delta$以上の内容語を候補集合に加える\n",
    "3. 候補集合にある内容語の単語ベクトルの平均を語義ベクトルとする\n",
    ">\n",
    ">[分散表現に基づく日本語語義曖昧性解消における\n",
    "辞書定義文の有効性](https://www.anlp.jp/proceedings/annual_meeting/2016/pdf_dir/P11-1.pdf)"
   ]
  },
  {
   "cell_type": "markdown",
   "id": "52215140",
   "metadata": {},
   "source": [
    "<img src=\"figures/fig3.png\" width=\"100%\">"
   ]
  },
  {
   "cell_type": "markdown",
   "id": "a5f48439",
   "metadata": {
    "id": "a5f48439"
   },
   "source": [
    "上記の手順通りに語義ベクトルを作成していきます。"
   ]
  },
  {
   "cell_type": "code",
   "execution_count": null,
   "id": "d0ddcd8d",
   "metadata": {
    "id": "d0ddcd8d"
   },
   "outputs": [],
   "source": [
    "# cos類似度を計算\n",
    "def cos_similarity(vec1, vec2):\n",
    "    result = np.dot(vec1, vec2) / (np.linalg.norm(vec1) * np.linalg.norm(vec2))\n",
    "    return result"
   ]
  },
  {
   "cell_type": "code",
   "execution_count": null,
   "id": "08bf100c",
   "metadata": {
    "id": "08bf100c"
   },
   "outputs": [],
   "source": [
    "# 語義ベクトルの作成\n",
    "def sense2vec(parts, delta, w_data=word_data, s_data=sense_data):\n",
    "    \"\"\"\n",
    "    parts: 内容語とする品詞\n",
    "    delta: 閾値\n",
    "    \"\"\"\n",
    "    for i, k in s_data.keys():\n",
    "        morph = nltk.word_tokenize(s_data[i, k][\"sense\"])  # 文を単語に分割\n",
    "        pos = nltk.pos_tag(morph)  # 単語の品詞を取得\n",
    "\n",
    "        sum_vec = count = 0\n",
    "        for p in pos:\n",
    "            part_of_word = p[0]  # 内容語\n",
    "            part_of_speech = p[1][0]  # 内容語の品詞\n",
    "\n",
    "            if (\n",
    "                (part_of_speech in parts)\n",
    "                and (part_of_word in wikimodel)\n",
    "                and (\n",
    "                    cos_similarity(w_data[i][\"vector\"], wikimodel[part_of_word]) > delta\n",
    "                )\n",
    "            ):\n",
    "                sum_vec += wikimodel[p[0]]\n",
    "                count += 1\n",
    "\n",
    "        sense_vec = sum_vec / count\n",
    "        s_data[i, k][\"vector\"] = sense_vec\n",
    "\n",
    "    return s_data"
   ]
  },
  {
   "cell_type": "markdown",
   "id": "b3e8af33",
   "metadata": {
    "id": "b3e8af33"
   },
   "source": [
    "準備が終わったので、語義ベクトルを作成しましょう。"
   ]
  },
  {
   "cell_type": "code",
   "execution_count": null,
   "id": "dde78380",
   "metadata": {
    "id": "dde78380"
   },
   "outputs": [],
   "source": [
    "parts = [\"J\", \"N\", \"R\", \"V\"]\n",
    "sense_data = sense2vec(parts=parts, delta=0)"
   ]
  },
  {
   "cell_type": "markdown",
   "id": "b7015a77",
   "metadata": {
    "id": "b7015a77"
   },
   "source": [
    "### $c_{ik}$の作成"
   ]
  },
  {
   "cell_type": "markdown",
   "id": "02173472",
   "metadata": {
    "id": "02173472"
   },
   "source": [
    "ここでは、第1項の定数$c_{ik}$を作成します。これは、$i$番目の単語に対する$k$番目の語義との間のcos類似度を表します。"
   ]
  },
  {
   "cell_type": "code",
   "execution_count": null,
   "id": "611c0f24",
   "metadata": {
    "id": "611c0f24"
   },
   "outputs": [],
   "source": [
    "def create_c(w_data=word_data, s_data=sense_data):\n",
    "    c = {}\n",
    "    for i, k in s_data.keys():\n",
    "        c[i, k] = cos_similarity(w_data[i][\"vector\"], s_data[i, k][\"vector\"])\n",
    "        s_data[i, k][\"cos\"] = round(c[i, k], 2)\n",
    "\n",
    "    return c, s_data"
   ]
  },
  {
   "cell_type": "code",
   "execution_count": null,
   "id": "aae07b54",
   "metadata": {
    "id": "aae07b54"
   },
   "outputs": [],
   "source": [
    "cos, sense_data = create_c()"
   ]
  },
  {
   "cell_type": "markdown",
   "id": "303581e0",
   "metadata": {
    "id": "303581e0"
   },
   "source": [
    "結果を表示してみましょう。"
   ]
  },
  {
   "cell_type": "code",
   "execution_count": null,
   "id": "xqYzPFLdu7G4",
   "metadata": {
    "id": "xqYzPFLdu7G4"
   },
   "outputs": [],
   "source": [
    "df = pd.DataFrame.from_dict(\n",
    "    sense_data, orient=\"index\", columns=[\"sense\", \"correct\", \"cos\"]\n",
    ")"
   ]
  },
  {
   "cell_type": "code",
   "execution_count": null,
   "id": "6wtwhCG-vPwv",
   "metadata": {
    "colab": {
     "base_uri": "https://localhost:8080/",
     "height": 206
    },
    "id": "6wtwhCG-vPwv",
    "outputId": "d6fc3333-539c-4c81-e772-2ff955ef4518"
   },
   "outputs": [
    {
     "data": {
      "text/html": [
       "<div>\n",
       "<style scoped>\n",
       "    .dataframe tbody tr th:only-of-type {\n",
       "        vertical-align: middle;\n",
       "    }\n",
       "\n",
       "    .dataframe tbody tr th {\n",
       "        vertical-align: top;\n",
       "    }\n",
       "\n",
       "    .dataframe thead th {\n",
       "        text-align: right;\n",
       "    }\n",
       "</style>\n",
       "<table border=\"1\" class=\"dataframe\">\n",
       "  <thead>\n",
       "    <tr style=\"text-align: right;\">\n",
       "      <th></th>\n",
       "      <th></th>\n",
       "      <th>sense</th>\n",
       "      <th>correct</th>\n",
       "      <th>cos</th>\n",
       "    </tr>\n",
       "  </thead>\n",
       "  <tbody>\n",
       "    <tr>\n",
       "      <th rowspan=\"4\" valign=\"top\">0</th>\n",
       "      <th>0</th>\n",
       "      <td>the products of human creativity; works of art...</td>\n",
       "      <td></td>\n",
       "      <td>0.71</td>\n",
       "    </tr>\n",
       "    <tr>\n",
       "      <th>1</th>\n",
       "      <td>the creation of beautiful or significant things</td>\n",
       "      <td></td>\n",
       "      <td>0.51</td>\n",
       "    </tr>\n",
       "    <tr>\n",
       "      <th>2</th>\n",
       "      <td>a superior skill that you can learn by study a...</td>\n",
       "      <td>*</td>\n",
       "      <td>0.46</td>\n",
       "    </tr>\n",
       "    <tr>\n",
       "      <th>3</th>\n",
       "      <td>photographs or other visual representations in...</td>\n",
       "      <td></td>\n",
       "      <td>0.65</td>\n",
       "    </tr>\n",
       "    <tr>\n",
       "      <th>1</th>\n",
       "      <th>0</th>\n",
       "      <td>ringing tuned bells in a fixed order that is c...</td>\n",
       "      <td>*</td>\n",
       "      <td>0.82</td>\n",
       "    </tr>\n",
       "  </tbody>\n",
       "</table>\n",
       "</div>"
      ],
      "text/plain": [
       "                                                 sense correct   cos\n",
       "0 0  the products of human creativity; works of art...          0.71\n",
       "  1    the creation of beautiful or significant things          0.51\n",
       "  2  a superior skill that you can learn by study a...       *  0.46\n",
       "  3  photographs or other visual representations in...          0.65\n",
       "1 0  ringing tuned bells in a fixed order that is c...       *  0.82"
      ]
     },
     "execution_count": 22,
     "metadata": {},
     "output_type": "execute_result"
    }
   ],
   "source": [
    "df.head()"
   ]
  },
  {
   "cell_type": "markdown",
   "id": "mdxVsSUCuXza",
   "metadata": {
    "id": "mdxVsSUCuXza"
   },
   "source": [
    "これで、cos類似度の最も高い語義が正解の語義とは限らないことが分かりました。"
   ]
  },
  {
   "cell_type": "markdown",
   "id": "96230472",
   "metadata": {
    "id": "96230472"
   },
   "source": [
    "### $r_{im, jn}$の作成"
   ]
  },
  {
   "cell_type": "markdown",
   "id": "70fb1a60",
   "metadata": {
    "id": "70fb1a60"
   },
   "source": [
    "続いて、第2項の定数$r_{im,jn}$を作成します。"
   ]
  },
  {
   "cell_type": "markdown",
   "id": "1f320218",
   "metadata": {
    "id": "1f320218"
   },
   "source": [
    "**まずは、**$b_{i, jn}, h_{im, jn}, c_{im}$を作成し、最後に足し合わせて$r_{im, jn}$を作成していきましょう。"
   ]
  },
  {
   "cell_type": "markdown",
   "id": "b4b5fa7b",
   "metadata": {
    "id": "b4b5fa7b"
   },
   "source": [
    "#### $b_{i, jn}$(単語-語義のcos類似度)の作成"
   ]
  },
  {
   "cell_type": "code",
   "execution_count": null,
   "id": "7ae5cd53",
   "metadata": {
    "id": "7ae5cd53"
   },
   "outputs": [],
   "source": [
    "def create_b(w_data=word_data, s_data=sense_data):\n",
    "    b = {\n",
    "        (i, j, n): cos_similarity(w_data[i][\"vector\"], s_data[j, n][\"vector\"])\n",
    "        for i in w_data.keys()\n",
    "        for j, n in s_data.keys()\n",
    "    }\n",
    "    return b"
   ]
  },
  {
   "cell_type": "markdown",
   "id": "79fb0310",
   "metadata": {
    "id": "79fb0310"
   },
   "source": [
    "#### $h_{im,jn}$(語義-語義のcos類似度)の作成"
   ]
  },
  {
   "cell_type": "code",
   "execution_count": null,
   "id": "0eba48ec",
   "metadata": {
    "id": "0eba48ec"
   },
   "outputs": [],
   "source": [
    "def create_h(w_data=word_data, s_data=sense_data):\n",
    "    h = {\n",
    "        (i, m, j, n): cos_similarity(s_data[i, m][\"vector\"], s_data[j, n][\"vector\"])\n",
    "        for i, m in s_data.keys()\n",
    "        for j, n in s_data.keys()\n",
    "    }\n",
    "    return h"
   ]
  },
  {
   "cell_type": "markdown",
   "id": "6641f0e0",
   "metadata": {
    "id": "6641f0e0"
   },
   "source": [
    "#### $e_{i, j}$(単語-単語のcos類似度)の作成"
   ]
  },
  {
   "cell_type": "code",
   "execution_count": null,
   "id": "3efc5bbd",
   "metadata": {
    "id": "3efc5bbd"
   },
   "outputs": [],
   "source": [
    "def create_e(w_data=word_data, s_data=sense_data):\n",
    "    e = {\n",
    "        (i, j): cos_similarity(w_data[i][\"vector\"], w_data[j][\"vector\"])\n",
    "        for i in w_data.keys()\n",
    "        for j in w_data.keys()\n",
    "    }\n",
    "    return e"
   ]
  },
  {
   "cell_type": "markdown",
   "id": "851f5ee5",
   "metadata": {
    "id": "851f5ee5"
   },
   "source": [
    "これまで作成した定数を使って、$r_{im, jn}$を作成しましょう。"
   ]
  },
  {
   "cell_type": "markdown",
   "id": "ef0dda8e",
   "metadata": {
    "id": "ef0dda8e"
   },
   "source": [
    "\n",
    "$$\n",
    "r_{i m, j n}:=\\lambda_{1}\\left(b_{i, j n}+b_{j, i m}\\right)+\\lambda_{2} h_{i m, j n}+\\lambda_{3}\\left(c_{i m}+e_{w_{i} w_{j}}+c_{j n}\\right)\n",
    "$$\n"
   ]
  },
  {
   "cell_type": "code",
   "execution_count": null,
   "id": "ed8fec3a",
   "metadata": {
    "id": "ed8fec3a"
   },
   "outputs": [],
   "source": [
    "def create_r(lam1, lam2, lam3, c=cos):\n",
    "    b = create_b()\n",
    "    h = create_h()\n",
    "    e = create_e()\n",
    "\n",
    "    # 値が大きくなりすぎないように正規化を行っている\n",
    "    norm = lam1 * 2 + lam2 * 1 + lam3 * 3  # rの最大値\n",
    "\n",
    "    r = {\n",
    "        (i, m, j, n): (\n",
    "            lam1 * (b[i, j, n] + b[j, i, m])\n",
    "            + lam2 * h[i, m, j, n]\n",
    "            + lam3 * (c[i, m] + e[i, j] + c[j, n])\n",
    "        )\n",
    "        / norm\n",
    "        for i, m, j, n in h.keys()\n",
    "    }\n",
    "    return r"
   ]
  },
  {
   "cell_type": "code",
   "execution_count": null,
   "id": "aca3601a",
   "metadata": {
    "id": "aca3601a"
   },
   "outputs": [],
   "source": [
    "rel = create_r(lam1=1.0, lam2=1.0, lam3=1.0)"
   ]
  },
  {
   "cell_type": "markdown",
   "id": "77a74a60",
   "metadata": {
    "id": "77a74a60"
   },
   "source": [
    "### 最適化"
   ]
  },
  {
   "cell_type": "markdown",
   "id": "78cbeaca",
   "metadata": {
    "id": "78cbeaca"
   },
   "source": [
    "ここからは最適化を行います。"
   ]
  },
  {
   "cell_type": "markdown",
   "id": "8a8f1556",
   "metadata": {
    "id": "8a8f1556"
   },
   "source": [
    "**目的関数**"
   ]
  },
  {
   "cell_type": "markdown",
   "id": "f492366a",
   "metadata": {
    "id": "f492366a"
   },
   "source": [
    "$$\n",
    "\\operatorname{Min} Z(X)=- \\alpha \\sum_{i} \\sum_{k} c_{i k} x_{i k}-\\beta \\sum_{i, j} \\sum_{m} \\sum_{n} r_{i m, j n} x_{i m} x_{j n}+\\gamma \\sum_{i}\\left(\\sum_{k} x_{i k}-1\\right)^{2}\n",
    "$$"
   ]
  },
  {
   "cell_type": "code",
   "execution_count": null,
   "id": "ed551ce1",
   "metadata": {
    "id": "ed551ce1"
   },
   "outputs": [],
   "source": [
    "def formulation(w_data=word_data, s_data=sense_data, c=cos, r=rel):\n",
    "    # バイナリ変数の作成\n",
    "    x = {(i, k): Binary(f\"x[{i}][{k}]\") for i, k in s_data.keys()}\n",
    "\n",
    "    # 目的関数の第1項\n",
    "    H1 = np.sum([c[i, k] * x[i, k] for i, k in c.keys()])\n",
    "\n",
    "    # 目的関数の第2項\n",
    "    H2 = np.sum([r[i, u, j, v] * x[i, u] * x[j, v] for i, u, j, v in r.keys()])\n",
    "\n",
    "    # 目的関数の第3項\n",
    "    H3 = np.sum(\n",
    "        [\n",
    "            (np.sum([x[i, k] for k in range(w_data[i][\"num_sense\"])]) - 1) ** 2\n",
    "            for i in w_data.keys()\n",
    "        ]\n",
    "    )\n",
    "\n",
    "    # 最小化したい目的関数\n",
    "    H = (\n",
    "        -Placeholder(\"alpha\") * H1\n",
    "        - Placeholder(\"beta\") * H2\n",
    "        + Placeholder(\"gamma\") * Constraint(H3, \"H3\")\n",
    "    )\n",
    "    model = H.compile()\n",
    "\n",
    "    return model"
   ]
  },
  {
   "cell_type": "markdown",
   "id": "0c1cedbc",
   "metadata": {
    "id": "0c1cedbc"
   },
   "source": [
    "ここで、サンプラーの設定をします。"
   ]
  },
  {
   "cell_type": "code",
   "execution_count": null,
   "id": "67115dab",
   "metadata": {
    "id": "67115dab"
   },
   "outputs": [],
   "source": [
    "# SAの場合\n",
    "# from neal import SimulatedAnnealingSampler\n",
    "# sampler = SimulatedAnnealingSampler()\n",
    "\n",
    "# D-Waveマシンの場合\n",
    "# from dwave.system import DWaveCliqueSampler\n",
    "# sampler_config = {'solver': 'Advantage_system4.1', 'token': 'YOUR_TOKEN'}\n",
    "# sampler = DWaveCliqueSampler(**sampler_config)\n",
    "\n",
    "# Opnejijの場合\n",
    "import openjij as oj\n",
    "\n",
    "sampler = oj.SQASampler()"
   ]
  },
  {
   "cell_type": "markdown",
   "id": "154c1f9c",
   "metadata": {
    "id": "154c1f9c"
   },
   "source": [
    "全ての設定が終わりました。アニーリングを実行しましょう。"
   ]
  },
  {
   "cell_type": "code",
   "execution_count": null,
   "id": "f6b797a2",
   "metadata": {
    "id": "f6b797a2"
   },
   "outputs": [],
   "source": [
    "# 制約を満たしている解を取り出す\n",
    "def extract_feasible_samples(decoded_samples, print_broken=False):\n",
    "    feasible_samples = []\n",
    "    for sample in decoded_samples:\n",
    "        constraints = sample.constraints(only_broken=True)\n",
    "\n",
    "        if len(constraints) == 0:\n",
    "            feasible_samples.append(sample)\n",
    "        elif print_broken:\n",
    "            print(constraints)\n",
    "\n",
    "    return feasible_samples"
   ]
  },
  {
   "cell_type": "code",
   "execution_count": null,
   "id": "38a46f71",
   "metadata": {
    "id": "38a46f71"
   },
   "outputs": [],
   "source": [
    "# 最適化実行\n",
    "def optimization(alpha, beta, gamma, num_reads):\n",
    "    model = formulation()\n",
    "\n",
    "    feed_dict = {\"alpha\": alpha, \"beta\": beta, \"gamma\": gamma}  # 制約項の係数\n",
    "    qubo, offset = model.to_qubo(feed_dict=feed_dict)\n",
    "\n",
    "    sampleset = sampler.sample_qubo(qubo, num_reads=num_reads)\n",
    "\n",
    "    decoded_samples = model.decode_sampleset(sampleset.aggregate(), feed_dict)\n",
    "    feasible_samples = extract_feasible_samples(decoded_samples)\n",
    "\n",
    "    return feasible_samples"
   ]
  },
  {
   "cell_type": "code",
   "execution_count": null,
   "id": "9784fcf0",
   "metadata": {
    "colab": {
     "base_uri": "https://localhost:8080/"
    },
    "id": "9784fcf0",
    "outputId": "34fc16d6-5552-417e-c11d-3057a3aaaf0b"
   },
   "outputs": [
    {
     "name": "stdout",
     "output_type": "stream",
     "text": [
      "実行可能解: 104\n"
     ]
    }
   ],
   "source": [
    "feasible_samples = optimization(alpha=1.0, beta=1.0, gamma=30.0, num_reads=1000)\n",
    "print(\"実行可能解:\", len(feasible_samples))"
   ]
  },
  {
   "cell_type": "markdown",
   "id": "a185e360",
   "metadata": {
    "id": "a185e360"
   },
   "source": [
    "各語義がどのくらい解として出力されたのかを確率で表示してみましょう。確率最大の語義には「*」を付けています。"
   ]
  },
  {
   "cell_type": "code",
   "execution_count": null,
   "id": "72e5fd32",
   "metadata": {
    "id": "72e5fd32"
   },
   "outputs": [],
   "source": [
    "def output_prob(feasible_samples, w_data=word_data, s_data=sense_data):\n",
    "    # 確率の計算\n",
    "    for i, k in s_data.keys():\n",
    "        s_data[i, k][\"prob(%)\"] = 0\n",
    "\n",
    "        for sample_info in feasible_samples:\n",
    "            if sample_info.sample[f\"x[{i}][{k}]\"] == 1:\n",
    "                s_data[i, k][\"prob(%)\"] += 1 / len(feasible_samples) * 100\n",
    "\n",
    "    # 確率が1番高い語義を記録\n",
    "    for i in w_data.keys():\n",
    "        max_prob = 0\n",
    "\n",
    "        for k in range(w_data[i][\"num_sense\"]):\n",
    "            s_data[i, k][\"prob(%)\"] = round(s_data[i, k][\"prob(%)\"], 1)\n",
    "            s_data[i, k][\"max\"] = \"\"\n",
    "\n",
    "            if max_prob < s_data[i, k][\"prob(%)\"]:\n",
    "                max_index = (i, k)\n",
    "                max_prob = s_data[i, k][\"prob(%)\"]\n",
    "\n",
    "        s_data[max_index][\"max\"] = \"*\"\n",
    "\n",
    "    return s_data"
   ]
  },
  {
   "cell_type": "code",
   "execution_count": null,
   "id": "69dd843a",
   "metadata": {
    "id": "69dd843a"
   },
   "outputs": [],
   "source": [
    "sense_data = output_prob(feasible_samples=feasible_samples)\n",
    "df = pd.DataFrame.from_dict(\n",
    "    sense_data, orient=\"index\", columns=[\"sense\", \"correct\", \"prob(%)\", \"max\", \"cos\"]\n",
    ")"
   ]
  },
  {
   "cell_type": "markdown",
   "id": "ab77feb9",
   "metadata": {
    "id": "ab77feb9"
   },
   "source": [
    "結果を見てみましょう。"
   ]
  },
  {
   "cell_type": "code",
   "execution_count": null,
   "id": "c8a34a42",
   "metadata": {
    "colab": {
     "base_uri": "https://localhost:8080/",
     "height": 206
    },
    "id": "c8a34a42",
    "outputId": "934f005a-5ab3-4d65-929e-409b359c70cf",
    "scrolled": true
   },
   "outputs": [
    {
     "data": {
      "text/html": [
       "<div>\n",
       "<style scoped>\n",
       "    .dataframe tbody tr th:only-of-type {\n",
       "        vertical-align: middle;\n",
       "    }\n",
       "\n",
       "    .dataframe tbody tr th {\n",
       "        vertical-align: top;\n",
       "    }\n",
       "\n",
       "    .dataframe thead th {\n",
       "        text-align: right;\n",
       "    }\n",
       "</style>\n",
       "<table border=\"1\" class=\"dataframe\">\n",
       "  <thead>\n",
       "    <tr style=\"text-align: right;\">\n",
       "      <th></th>\n",
       "      <th></th>\n",
       "      <th>sense</th>\n",
       "      <th>correct</th>\n",
       "      <th>prob(%)</th>\n",
       "      <th>max</th>\n",
       "      <th>cos</th>\n",
       "    </tr>\n",
       "  </thead>\n",
       "  <tbody>\n",
       "    <tr>\n",
       "      <th rowspan=\"4\" valign=\"top\">0</th>\n",
       "      <th>0</th>\n",
       "      <td>the products of human creativity; works of art...</td>\n",
       "      <td></td>\n",
       "      <td>25.0</td>\n",
       "      <td></td>\n",
       "      <td>0.71</td>\n",
       "    </tr>\n",
       "    <tr>\n",
       "      <th>1</th>\n",
       "      <td>the creation of beautiful or significant things</td>\n",
       "      <td></td>\n",
       "      <td>21.2</td>\n",
       "      <td></td>\n",
       "      <td>0.51</td>\n",
       "    </tr>\n",
       "    <tr>\n",
       "      <th>2</th>\n",
       "      <td>a superior skill that you can learn by study a...</td>\n",
       "      <td>*</td>\n",
       "      <td>21.2</td>\n",
       "      <td></td>\n",
       "      <td>0.46</td>\n",
       "    </tr>\n",
       "    <tr>\n",
       "      <th>3</th>\n",
       "      <td>photographs or other visual representations in...</td>\n",
       "      <td></td>\n",
       "      <td>32.7</td>\n",
       "      <td>*</td>\n",
       "      <td>0.65</td>\n",
       "    </tr>\n",
       "    <tr>\n",
       "      <th>1</th>\n",
       "      <th>0</th>\n",
       "      <td>ringing tuned bells in a fixed order that is c...</td>\n",
       "      <td>*</td>\n",
       "      <td>100.0</td>\n",
       "      <td>*</td>\n",
       "      <td>0.82</td>\n",
       "    </tr>\n",
       "  </tbody>\n",
       "</table>\n",
       "</div>"
      ],
      "text/plain": [
       "                                                 sense correct  prob(%) max  \\\n",
       "0 0  the products of human creativity; works of art...             25.0       \n",
       "  1    the creation of beautiful or significant things             21.2       \n",
       "  2  a superior skill that you can learn by study a...       *     21.2       \n",
       "  3  photographs or other visual representations in...             32.7   *   \n",
       "1 0  ringing tuned bells in a fixed order that is c...       *    100.0   *   \n",
       "\n",
       "      cos  \n",
       "0 0  0.71  \n",
       "  1  0.51  \n",
       "  2  0.46  \n",
       "  3  0.65  \n",
       "1 0  0.82  "
      ]
     },
     "execution_count": 35,
     "metadata": {},
     "output_type": "execute_result"
    }
   ],
   "source": [
    "df.head()"
   ]
  },
  {
   "cell_type": "code",
   "execution_count": null,
   "id": "75700613",
   "metadata": {
    "id": "75700613"
   },
   "outputs": [],
   "source": [
    "def count_correct(s_data):\n",
    "    count = 0\n",
    "    for i, k in s_data.keys():\n",
    "        if s_data[i, k][\"correct\"] == \"*\" and s_data[i, k][\"max\"] == \"*\":\n",
    "            count += 1\n",
    "\n",
    "    return count"
   ]
  },
  {
   "cell_type": "code",
   "execution_count": null,
   "id": "567c0498",
   "metadata": {
    "colab": {
     "base_uri": "https://localhost:8080/"
    },
    "id": "567c0498",
    "outputId": "c4966e81-31bd-4215-c063-19c9ebc8bfcc"
   },
   "outputs": [
    {
     "name": "stdout",
     "output_type": "stream",
     "text": [
      "単語の数: 10\n",
      "正解数: 2\n"
     ]
    }
   ],
   "source": [
    "print(\"単語の数:\", len(word_data))\n",
    "print(\"正解数:\", count_correct(s_data=sense_data))"
   ]
  },
  {
   "cell_type": "markdown",
   "id": "226d8a8f",
   "metadata": {
    "id": "226d8a8f"
   },
   "source": [
    "以上の結果から、正解率は低く、cos類似度の高い語義が選択されやすいことが分かりました。これらの原因は、目的関数(第１項)のハイパーパラメータが大き過ぎることにあると考えられます。そこで、ここからはハイパーパラメータを調整することで、より良い結果が得られるか検証していきます。最適なハイパーパラメータの探索には、「optuna」を使用します。"
   ]
  },
  {
   "cell_type": "markdown",
   "id": "d5a3ea4e",
   "metadata": {
    "id": "d5a3ea4e"
   },
   "source": [
    "### パラメータの探索"
   ]
  },
  {
   "cell_type": "code",
   "execution_count": null,
   "id": "215eebe6",
   "metadata": {
    "id": "215eebe6"
   },
   "outputs": [],
   "source": [
    "def count_correct_per_sample(\n",
    "    lam1, lam2, lam3, alpha, beta, gamma, num_reads=1000, s_data=sense_data\n",
    "):\n",
    "    \"\"\"\n",
    "    6個のハイパーパラメータを入力とし、1サンプル当たりの正解数を返す関数\n",
    "    \"\"\"\n",
    "    r = create_r(lam1=lam1, lam2=lam2, lam3=lam3)\n",
    "    feasible_samples = optimization(\n",
    "        alpha=alpha, beta=beta, gamma=gamma, num_reads=num_reads\n",
    "    )\n",
    "\n",
    "    if len(feasible_samples) == 0:\n",
    "        return 0\n",
    "\n",
    "    count_list = []\n",
    "    for sample_info in feasible_samples:\n",
    "        count = 0\n",
    "        for i, k in s_data.keys():\n",
    "            if (sample_info.sample[f\"x[{i}][{k}]\"] == 1) and (\n",
    "                s_data[i, k][\"correct\"] == \"*\"\n",
    "            ):\n",
    "                count += 1\n",
    "\n",
    "        count_list.append(count)\n",
    "\n",
    "    return np.average(count_list)"
   ]
  },
  {
   "cell_type": "code",
   "execution_count": null,
   "id": "0f87274e",
   "metadata": {
    "id": "0f87274e"
   },
   "outputs": [],
   "source": [
    "def objective(trial):\n",
    "    param = {\n",
    "        # rのハイパーパラメータ\n",
    "        \"lam1\": trial.suggest_float(\"lam1\", 0, 30, step=0.1),\n",
    "        \"lam2\": trial.suggest_float(\"lam2\", 0, 30, step=0.1),\n",
    "        \"lam3\": trial.suggest_float(\"lam3\", 0, 30, step=0.1),\n",
    "        # 目的関数のハイパーパラメータ\n",
    "        \"alpha\": trial.suggest_float(\"alpha\", 0, 30, step=0.1),\n",
    "        \"beta\": trial.suggest_float(\"beta\", 0, 30, step=0.1),\n",
    "        \"gamma\": trial.suggest_int(\"gamma\", 30, 100),\n",
    "    }\n",
    "\n",
    "    return count_correct_per_sample(\n",
    "        lam1=param[\"lam1\"],\n",
    "        lam2=param[\"lam2\"],\n",
    "        lam3=param[\"lam3\"],\n",
    "        alpha=param[\"alpha\"],\n",
    "        beta=param[\"beta\"],\n",
    "        gamma=param[\"gamma\"],\n",
    "    )"
   ]
  },
  {
   "cell_type": "markdown",
   "id": "lMGoKhAiQAl2",
   "metadata": {
    "id": "lMGoKhAiQAl2"
   },
   "source": [
    "準備が完了しました。ハイパーパラメータの最適化を行いましょう。"
   ]
  },
  {
   "cell_type": "code",
   "execution_count": null,
   "id": "etU1riava4KL",
   "metadata": {
    "id": "etU1riava4KL"
   },
   "outputs": [],
   "source": [
    "!pip install optuna"
   ]
  },
  {
   "cell_type": "code",
   "execution_count": null,
   "id": "3e05d04e",
   "metadata": {
    "id": "3e05d04e"
   },
   "outputs": [],
   "source": [
    "import optuna\n",
    "\n",
    "study = optuna.create_study(direction=\"maximize\")\n",
    "study.optimize(objective, n_trials=50)"
   ]
  },
  {
   "cell_type": "markdown",
   "id": "aa3af9f8",
   "metadata": {
    "id": "aa3af9f8"
   },
   "source": [
    "ハイパーパラメータの調整が上手く出来ていることを確認してみましょう。"
   ]
  },
  {
   "cell_type": "code",
   "execution_count": null,
   "id": "87a7c4cc",
   "metadata": {
    "id": "87a7c4cc"
   },
   "outputs": [],
   "source": [
    "def show_graph(study):\n",
    "    epoches = []\n",
    "    values = []\n",
    "    best = 0\n",
    "    for i in study.trials:\n",
    "        if best < i.value:\n",
    "            best = i.value\n",
    "        epoches.append(i.number + 1)\n",
    "        values.append(best)\n",
    "\n",
    "    plt.plot(epoches, values, color=\"red\")\n",
    "    plt.title(\"optuna\")\n",
    "    plt.xlabel(\"trial\")\n",
    "    plt.ylabel(\"num_correct / sample\")\n",
    "    plt.show()"
   ]
  },
  {
   "cell_type": "code",
   "execution_count": null,
   "id": "cfd1fa3f",
   "metadata": {
    "colab": {
     "base_uri": "https://localhost:8080/",
     "height": 295
    },
    "id": "cfd1fa3f",
    "outputId": "d80f9080-6d02-421a-cc43-d778489d31ba"
   },
   "outputs": [
    {
     "data": {
      "image/png": "[encoded data removed]",
      "text/plain": [
       "<Figure size 432x288 with 1 Axes>"
      ]
     },
     "metadata": {
      "needs_background": "light"
     },
     "output_type": "display_data"
    }
   ],
   "source": [
    "show_graph(study)"
   ]
  },
  {
   "cell_type": "markdown",
   "id": "3c9dd9d9",
   "metadata": {
    "id": "3c9dd9d9"
   },
   "source": [
    "最適なハイパーパラメータは、次のように確かめられます。"
   ]
  },
  {
   "cell_type": "code",
   "execution_count": null,
   "id": "062a521b",
   "metadata": {
    "colab": {
     "base_uri": "https://localhost:8080/"
    },
    "id": "062a521b",
    "outputId": "d078102c-3d3b-4dde-e0b3-8b4cf11beea1"
   },
   "outputs": [
    {
     "name": "stdout",
     "output_type": "stream",
     "text": [
      "{'lam1': 20.5, 'lam2': 1.9000000000000001, 'lam3': 12.3, 'alpha': 14.9, 'beta': 0.0, 'gamma': 80}\n"
     ]
    }
   ],
   "source": [
    "print(study.best_params)"
   ]
  },
  {
   "cell_type": "markdown",
   "id": "d01c9e7b",
   "metadata": {
    "id": "d01c9e7b"
   },
   "source": [
    "このパラメータでもう一度、アニーリングしてみましょう。"
   ]
  },
  {
   "cell_type": "code",
   "execution_count": null,
   "id": "16b6d87d",
   "metadata": {
    "colab": {
     "base_uri": "https://localhost:8080/"
    },
    "id": "16b6d87d",
    "outputId": "bd756803-cc4b-4e76-e6f2-27230cf90785"
   },
   "outputs": [
    {
     "name": "stdout",
     "output_type": "stream",
     "text": [
      "実行可能解の数: 20\n"
     ]
    }
   ],
   "source": [
    "rel = create_r(\n",
    "    lam1=study.best_params[\"lam1\"],\n",
    "    lam2=study.best_params[\"lam2\"],\n",
    "    lam3=study.best_params[\"lam3\"],\n",
    ")\n",
    "\n",
    "feasible_samples = optimization(\n",
    "    alpha=study.best_params[\"alpha\"],\n",
    "    beta=study.best_params[\"beta\"],\n",
    "    gamma=study.best_params[\"gamma\"],\n",
    "    num_reads=1000,\n",
    ")\n",
    "print(\"実行可能解の数:\", len(feasible_samples))"
   ]
  },
  {
   "cell_type": "markdown",
   "id": "f7dc2ebe",
   "metadata": {
    "id": "f7dc2ebe"
   },
   "source": [
    "結果を表示します。"
   ]
  },
  {
   "cell_type": "code",
   "execution_count": null,
   "id": "55be859a",
   "metadata": {
    "id": "55be859a"
   },
   "outputs": [],
   "source": [
    "sense_data = output_prob(feasible_samples=feasible_samples)\n",
    "df = pd.DataFrame.from_dict(\n",
    "    sense_data, orient=\"index\", columns=[\"sense\", \"correct\", \"prob(%)\", \"max\", \"cos\"]\n",
    ")"
   ]
  },
  {
   "cell_type": "code",
   "execution_count": null,
   "id": "f44318b6",
   "metadata": {
    "colab": {
     "base_uri": "https://localhost:8080/",
     "height": 206
    },
    "id": "f44318b6",
    "outputId": "4fdf058d-7922-4940-8b4f-022cd225a455",
    "scrolled": true
   },
   "outputs": [
    {
     "data": {
      "text/html": [
       "<div>\n",
       "<style scoped>\n",
       "    .dataframe tbody tr th:only-of-type {\n",
       "        vertical-align: middle;\n",
       "    }\n",
       "\n",
       "    .dataframe tbody tr th {\n",
       "        vertical-align: top;\n",
       "    }\n",
       "\n",
       "    .dataframe thead th {\n",
       "        text-align: right;\n",
       "    }\n",
       "</style>\n",
       "<table border=\"1\" class=\"dataframe\">\n",
       "  <thead>\n",
       "    <tr style=\"text-align: right;\">\n",
       "      <th></th>\n",
       "      <th></th>\n",
       "      <th>sense</th>\n",
       "      <th>correct</th>\n",
       "      <th>prob(%)</th>\n",
       "      <th>max</th>\n",
       "      <th>cos</th>\n",
       "    </tr>\n",
       "  </thead>\n",
       "  <tbody>\n",
       "    <tr>\n",
       "      <th rowspan=\"4\" valign=\"top\">0</th>\n",
       "      <th>0</th>\n",
       "      <td>the products of human creativity; works of art...</td>\n",
       "      <td></td>\n",
       "      <td>15.0</td>\n",
       "      <td></td>\n",
       "      <td>0.71</td>\n",
       "    </tr>\n",
       "    <tr>\n",
       "      <th>1</th>\n",
       "      <td>the creation of beautiful or significant things</td>\n",
       "      <td></td>\n",
       "      <td>20.0</td>\n",
       "      <td></td>\n",
       "      <td>0.51</td>\n",
       "    </tr>\n",
       "    <tr>\n",
       "      <th>2</th>\n",
       "      <td>a superior skill that you can learn by study a...</td>\n",
       "      <td>*</td>\n",
       "      <td>10.0</td>\n",
       "      <td></td>\n",
       "      <td>0.46</td>\n",
       "    </tr>\n",
       "    <tr>\n",
       "      <th>3</th>\n",
       "      <td>photographs or other visual representations in...</td>\n",
       "      <td></td>\n",
       "      <td>55.0</td>\n",
       "      <td>*</td>\n",
       "      <td>0.65</td>\n",
       "    </tr>\n",
       "    <tr>\n",
       "      <th>1</th>\n",
       "      <th>0</th>\n",
       "      <td>ringing tuned bells in a fixed order that is c...</td>\n",
       "      <td>*</td>\n",
       "      <td>100.0</td>\n",
       "      <td>*</td>\n",
       "      <td>0.82</td>\n",
       "    </tr>\n",
       "  </tbody>\n",
       "</table>\n",
       "</div>"
      ],
      "text/plain": [
       "                                                 sense correct  prob(%) max  \\\n",
       "0 0  the products of human creativity; works of art...             15.0       \n",
       "  1    the creation of beautiful or significant things             20.0       \n",
       "  2  a superior skill that you can learn by study a...       *     10.0       \n",
       "  3  photographs or other visual representations in...             55.0   *   \n",
       "1 0  ringing tuned bells in a fixed order that is c...       *    100.0   *   \n",
       "\n",
       "      cos  \n",
       "0 0  0.71  \n",
       "  1  0.51  \n",
       "  2  0.46  \n",
       "  3  0.65  \n",
       "1 0  0.82  "
      ]
     },
     "execution_count": 47,
     "metadata": {},
     "output_type": "execute_result"
    }
   ],
   "source": [
    "df.head()"
   ]
  },
  {
   "cell_type": "code",
   "execution_count": null,
   "id": "4e1e933d",
   "metadata": {
    "colab": {
     "base_uri": "https://localhost:8080/"
    },
    "id": "4e1e933d",
    "outputId": "ef698c6e-85c2-4d91-c767-0dd54efc7ac9"
   },
   "outputs": [
    {
     "name": "stdout",
     "output_type": "stream",
     "text": [
      "単語の数: 10\n",
      "正解数: 3\n",
      "\n"
     ]
    }
   ],
   "source": [
    "print(\"単語の数:\", len(word_data))\n",
    "print(\"正解数:\", count_correct(s_data=sense_data))\n",
    "print(\"\")"
   ]
  },
  {
   "cell_type": "markdown",
   "id": "40084ee7",
   "metadata": {
    "id": "40084ee7"
   },
   "source": [
    "ハイパーパラメータを調整した結果、正解数は1つ増えました。しかし、正解率は依然低いままでした。"
   ]
  },
  {
   "cell_type": "markdown",
   "id": "5c8a10c0",
   "metadata": {
    "id": "5c8a10c0"
   },
   "source": [
    "### Gurobiで解く"
   ]
  },
  {
   "cell_type": "markdown",
   "id": "99db8c91",
   "metadata": {
    "id": "99db8c91"
   },
   "source": [
    "Gurobiを使って、厳密解を求めてみます。ハイパーパラメータは、「optuna」で求めた最適なものを使用します。また、以下のコードは、ローカル環境でのみ実行できます。導入方法については下記を参考にして下さい。\n",
    "\n",
    "> [整数計画ソルバーGurobiのインストール方法【学生無料】](https://qiita.com/Nate0928/items/9fd2281a2b9359780f96)"
   ]
  },
  {
   "cell_type": "code",
   "execution_count": null,
   "id": "586fe66c",
   "metadata": {
    "id": "586fe66c"
   },
   "outputs": [],
   "source": [
    "import gurobipy as gu\n",
    "\n",
    "\n",
    "def use_gurobi(lam1, lam2, lam3, alpha, beta, gamma, s_data, c=cos, w_data=word_data):\n",
    "    Model = gu.Model(\"wsd\")\n",
    "    Model.setParam(\"OutputFlag\", 0)  # ログを非表示\n",
    "\n",
    "    # 変数の定義\n",
    "    x = {}\n",
    "    for i, k in s_data.keys():\n",
    "        x[i, k] = Model.addVar(vtype=\"B\", name=f\"x[{i},{k}]\")\n",
    "    Model.update()\n",
    "\n",
    "    # 目的関数の定義\n",
    "    r = create_r(lam1=lam1, lam2=lam2, lam3=lam3)\n",
    "    H1 = gu.quicksum(c[i, k] * x[i, k] for i, k in c.keys())\n",
    "    H2 = gu.quicksum(r[i, u, j, v] * x[i, u] * x[j, v] for i, u, j, v in r.keys())\n",
    "    H3 = gu.quicksum(\n",
    "        (gu.quicksum(x[i, k] for k in range(w_data[i][\"num_sense\"])) - 1) ** 2\n",
    "        for i in w_data.keys()\n",
    "    )\n",
    "    Model.setObjective(-alpha * H1 - beta * H2 + gamma * H3, gu.GRB.MINIMIZE)\n",
    "    Model.update()\n",
    "\n",
    "    Model.optimize()\n",
    "\n",
    "    # 記録\n",
    "    for i, k in s_data.keys():\n",
    "        val = x[i, k].X\n",
    "        if val == 1:\n",
    "            s_data[i, k][\"ans\"] = \"*\"\n",
    "        else:\n",
    "            s_data[i, k][\"ans\"] = \"\"\n",
    "    return s_data"
   ]
  },
  {
   "cell_type": "code",
   "execution_count": null,
   "id": "33ae90a2",
   "metadata": {
    "id": "33ae90a2"
   },
   "outputs": [],
   "source": [
    "# 最適なパラメータで厳密解を求める\n",
    "sense_data = use_gurobi(\n",
    "    lam1=study.best_params[\"lam1\"],\n",
    "    lam2=study.best_params[\"lam2\"],\n",
    "    lam3=study.best_params[\"lam3\"],\n",
    "    alpha=study.best_params[\"alpha\"],\n",
    "    beta=study.best_params[\"beta\"],\n",
    "    gamma=study.best_params[\"gamma\"],\n",
    "    s_data=sense_data,\n",
    ")"
   ]
  },
  {
   "cell_type": "markdown",
   "id": "1jBG4zn2xj2c",
   "metadata": {
    "id": "1jBG4zn2xj2c"
   },
   "source": [
    "結果を表示します。"
   ]
  },
  {
   "cell_type": "code",
   "execution_count": null,
   "id": "ad4ad1bf",
   "metadata": {
    "id": "ad4ad1bf"
   },
   "outputs": [],
   "source": [
    "df = pd.DataFrame.from_dict(\n",
    "    sense_data, orient=\"index\", columns=[\"sense\", \"correct\", \"ans\"]\n",
    ")"
   ]
  },
  {
   "cell_type": "code",
   "execution_count": null,
   "id": "5556ca95",
   "metadata": {
    "id": "5556ca95",
    "outputId": "fb82ccdb-2874-47d3-d622-86babd9d8223"
   },
   "outputs": [
    {
     "data": {
      "text/html": [
       "<div>\n",
       "<style scoped>\n",
       "    .dataframe tbody tr th:only-of-type {\n",
       "        vertical-align: middle;\n",
       "    }\n",
       "\n",
       "    .dataframe tbody tr th {\n",
       "        vertical-align: top;\n",
       "    }\n",
       "\n",
       "    .dataframe thead th {\n",
       "        text-align: right;\n",
       "    }\n",
       "</style>\n",
       "<table border=\"1\" class=\"dataframe\">\n",
       "  <thead>\n",
       "    <tr style=\"text-align: right;\">\n",
       "      <th></th>\n",
       "      <th></th>\n",
       "      <th>sense</th>\n",
       "      <th>correct</th>\n",
       "      <th>ans</th>\n",
       "    </tr>\n",
       "  </thead>\n",
       "  <tbody>\n",
       "    <tr>\n",
       "      <th rowspan=\"4\" valign=\"top\">0</th>\n",
       "      <th>0</th>\n",
       "      <td>the products of human creativity; works of art...</td>\n",
       "      <td></td>\n",
       "      <td>*</td>\n",
       "    </tr>\n",
       "    <tr>\n",
       "      <th>1</th>\n",
       "      <td>the creation of beautiful or significant things</td>\n",
       "      <td></td>\n",
       "      <td></td>\n",
       "    </tr>\n",
       "    <tr>\n",
       "      <th>2</th>\n",
       "      <td>a superior skill that you can learn by study a...</td>\n",
       "      <td>*</td>\n",
       "      <td></td>\n",
       "    </tr>\n",
       "    <tr>\n",
       "      <th>3</th>\n",
       "      <td>photographs or other visual representations in...</td>\n",
       "      <td></td>\n",
       "      <td></td>\n",
       "    </tr>\n",
       "    <tr>\n",
       "      <th>1</th>\n",
       "      <th>0</th>\n",
       "      <td>ringing tuned bells in a fixed order that is c...</td>\n",
       "      <td>*</td>\n",
       "      <td>*</td>\n",
       "    </tr>\n",
       "  </tbody>\n",
       "</table>\n",
       "</div>"
      ],
      "text/plain": [
       "                                                 sense correct ans\n",
       "0 0  the products of human creativity; works of art...           *\n",
       "  1    the creation of beautiful or significant things            \n",
       "  2  a superior skill that you can learn by study a...       *    \n",
       "  3  photographs or other visual representations in...            \n",
       "1 0  ringing tuned bells in a fixed order that is c...       *   *"
      ]
     },
     "execution_count": 57,
     "metadata": {},
     "output_type": "execute_result"
    }
   ],
   "source": [
    "df.head()"
   ]
  },
  {
   "cell_type": "code",
   "execution_count": null,
   "id": "5cda5ca8",
   "metadata": {
    "id": "5cda5ca8",
    "outputId": "aaf1c8b6-7e76-4473-d202-6d8ddce23406"
   },
   "outputs": [
    {
     "name": "stdout",
     "output_type": "stream",
     "text": [
      "単語の数: 10\n",
      "正解数: 3\n"
     ]
    }
   ],
   "source": [
    "print(\"単語の数:\", len(word_data))\n",
    "print(\"正解数:\", count_correct(s_data=sense_data))"
   ]
  },
  {
   "cell_type": "markdown",
   "id": "UAJdZBWhxoih",
   "metadata": {
    "id": "UAJdZBWhxoih"
   },
   "source": [
    "厳密解でも、正解率は低いままでした。"
   ]
  },
  {
   "cell_type": "markdown",
   "id": "klzwIj0Cr8Rw",
   "metadata": {
    "id": "klzwIj0Cr8Rw"
   },
   "source": [
    "## 考察"
   ]
  },
  {
   "cell_type": "markdown",
   "id": "gyderM04r9Hb",
   "metadata": {
    "id": "gyderM04r9Hb"
   },
   "source": [
    "これらの結果から、精度の低い原因はハイパーパラメータ以外にあることが分かりました。これより、単語ベクトルに使用した学習済みモデルの精度がそもそも良くなかったのではないかと考えられます。実際、モデルに含まれない単語ベクトルは自作で合成していました。また、単語によっては、出てくる文脈によって意味が変わってしまうものもあります。従って、文脈を意識しない絶対的な単語ベクトルでは、本実験のような精度しか出ないと考えられます。"
   ]
  },
  {
   "cell_type": "markdown",
   "id": "d3f7c766",
   "metadata": {
    "id": "d3f7c766"
   },
   "source": [
    "## あとがき"
   ]
  },
  {
   "cell_type": "markdown",
   "id": "7726d215",
   "metadata": {
    "id": "7726d215"
   },
   "source": [
    "本記事では、語義曖昧性のある文章をQUBOで表現し、D-Waveマシンで最適化を行うことで正しい語義を出力できるのか検証しました。結果は、ハイパーパラメータを調整したとしても、正しい語義を出力する精度は低いままでした。これでは、翻訳等の実用には使えないと考えられます。しかし、現在の自然言語処理に関する研究では、文脈を理解できるモデル(BERTなど)で単語をベクトル化することが主流になってきています。このモデルを使うことで、本実験よりも精度の高い結果を得られることが期待できます。"
   ]
  },
  {
   "cell_type": "markdown",
   "id": "2bcead46",
   "metadata": {
    "id": "2bcead46"
   },
   "source": [
    "### 本記事の担当者"
   ]
  },
  {
   "cell_type": "markdown",
   "id": "39c64b3b",
   "metadata": {
    "id": "39c64b3b"
   },
   "source": [
    "鹿内怜央"
   ]
  }
 ],
 "metadata": {
  "colab": {
   "collapsed_sections": [],
   "provenance": []
  },
  "kernelspec": {
   "display_name": "Python 3 (ipykernel)",
   "language": "python",
   "name": "python3"
  },
  "language_info": {
   "codemirror_mode": {
    "name": "ipython",
    "version": 3
   },
   "file_extension": ".py",
   "mimetype": "text/x-python",
   "name": "python",
   "nbconvert_exporter": "python",
   "pygments_lexer": "ipython3",
   "version": "3.9.7"
  },
  "notify_time": "0",
  "varInspector": {
   "cols": {
    "lenName": 16,
    "lenType": 16,
    "lenVar": 40
   },
   "kernels_config": {
    "python": {
     "delete_cmd_postfix": "",
     "delete_cmd_prefix": "del ",
     "library": "var_list.py",
     "varRefreshCmd": "print(var_dic_list())"
    },
    "r": {
     "delete_cmd_postfix": ") ",
     "delete_cmd_prefix": "rm(",
     "library": "var_list.r",
     "varRefreshCmd": "cat(var_dic_list()) "
    }
   },
   "position": {
    "height": "323.849px",
    "left": "891.455px",
    "right": "20px",
    "top": "266px",
    "width": "350px"
   },
   "types_to_exclude": [
    "module",
    "function",
    "builtin_function_or_method",
    "instance",
    "_Feature"
   ],
   "window_display": false
  }
 },
 "nbformat": 4,
 "nbformat_minor": 5
}
