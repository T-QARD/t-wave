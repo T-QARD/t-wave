{
 "nbformat": 4,
 "nbformat_minor": 0,
 "metadata": {
  "colab": {
   "name": "Housing Price Prediction.ipynb",
   "provenance": [],
   "collapsed_sections": [
    "hsqASi6xmOFT",
    "-jLlcC9umRNg",
    "xKYld7M-7LuJ",
    "lIG5_FDzrB4H",
    "7n2LBCE3f2xZ",
    "zwIJX7bBh7jz"
   ]
  },
  "kernelspec": {
   "name": "python3",
   "display_name": "Python 3"
  }
 },
 "cells": [
  {
   "cell_type": "markdown",
   "source": [
    "#様々なアルゴリズムによるデータの分析"
   ],
   "metadata": {
    "id": "noCjqu8ioKmy"
   }
  },
  {
   "cell_type": "markdown",
   "source": [
    "## 概要"
   ],
   "metadata": {
    "id": "8LLA9wVdpNcV"
   }
  },
  {
   "cell_type": "markdown",
   "source": [
    "データ分析には, 様々なモデルがを用いることができます. 今回は, California House Priceのデータ分析を, いくつかのモデルで行います. "
   ],
   "metadata": {
    "id": "LiVqeSA-pQ1P"
   }
  },
  {
   "cell_type": "markdown",
   "source": [
    "## 方法"
   ],
   "metadata": {
    "id": "dz-RceGvoPyf"
   }
  },
  {
   "cell_type": "markdown",
   "source": [
    "次のモデルも用いて, California House Priceのデータの分析を行います. \n",
    "\n",
    "\n",
    "\n",
    "*   RIDGE\n",
    "*   LASSO\n",
    "*   単純ベイズ\n",
    "*   SVM\n",
    "\n",
    "\n"
   ],
   "metadata": {
    "id": "-wWSL5zyociv"
   }
  },
  {
   "cell_type": "markdown",
   "source": [
    "## 実験"
   ],
   "metadata": {
    "id": "_eqUcGaaqNjv"
   }
  },
  {
   "cell_type": "markdown",
   "source": [
    "ライブラリとデータの準備"
   ],
   "metadata": {
    "id": "ssM6U0Apqobf"
   }
  },
  {
   "cell_type": "markdown",
   "source": [
    "ここでは, Google Colaboratoryにデフォルトで入っている, California House Priceのデータを用いて, カリフォルニアの住宅の価格予測を行います. \n",
    "まずは, 必要なライブラリをインストールします. "
   ],
   "metadata": {
    "id": "m2Y0f5lrpQe1"
   }
  },
  {
   "cell_type": "code",
   "metadata": {
    "id": "M1N_zHWeJndk"
   },
   "source": [
    "import warnings\n",
    "\n",
    "warnings.filterwarnings(\"ignore\")\n",
    "\n",
    "import pandas as pd\n",
    "import numpy as np\n",
    "\n",
    "from sklearn.preprocessing import StandardScaler\n",
    "from sklearn.metrics import mean_squared_error"
   ],
   "execution_count": null,
   "outputs": []
  },
  {
   "cell_type": "markdown",
   "source": [
    "California House Priceのデータを準備します. ここで使うデータは, Google Colaboratoryにてデフォルトで用意されているものです."
   ],
   "metadata": {
    "id": "16NwlKpApp5P"
   }
  },
  {
   "cell_type": "code",
   "metadata": {
    "id": "K9HHTm1iKCPa"
   },
   "source": [
    "train_df = pd.read_csv(\"./sample_data/california_housing_train.csv\")\n",
    "test_df = pd.read_csv(\"./sample_data/california_housing_test.csv\")"
   ],
   "execution_count": null,
   "outputs": []
  },
  {
   "cell_type": "markdown",
   "source": [
    "データの中身を表示します. "
   ],
   "metadata": {
    "id": "gYn2MTnEpyuA"
   }
  },
  {
   "cell_type": "code",
   "metadata": {
    "id": "Al9GSP9vKCRw",
    "colab": {
     "base_uri": "https://localhost:8080/",
     "height": 206
    },
    "outputId": "86af617c-a73f-49d2-c945-40f0dc1e8088"
   },
   "source": [
    "train_df.head()"
   ],
   "execution_count": null,
   "outputs": [
    {
     "output_type": "execute_result",
     "data": {
      "text/plain": [
       "   longitude  latitude  housing_median_age  total_rooms  total_bedrooms  \\\n",
       "0    -114.31     34.19                15.0       5612.0          1283.0   \n",
       "1    -114.47     34.40                19.0       7650.0          1901.0   \n",
       "2    -114.56     33.69                17.0        720.0           174.0   \n",
       "3    -114.57     33.64                14.0       1501.0           337.0   \n",
       "4    -114.57     33.57                20.0       1454.0           326.0   \n",
       "\n",
       "   population  households  median_income  median_house_value  \n",
       "0      1015.0       472.0         1.4936             66900.0  \n",
       "1      1129.0       463.0         1.8200             80100.0  \n",
       "2       333.0       117.0         1.6509             85700.0  \n",
       "3       515.0       226.0         3.1917             73400.0  \n",
       "4       624.0       262.0         1.9250             65500.0  "
      ],
      "text/html": [
       "\n",
       "  <div id=\"df-636c1f85-2150-49d0-bae4-1115cd2dc33c\">\n",
       "    <div class=\"colab-df-container\">\n",
       "      <div>\n",
       "<style scoped>\n",
       "    .dataframe tbody tr th:only-of-type {\n",
       "        vertical-align: middle;\n",
       "    }\n",
       "\n",
       "    .dataframe tbody tr th {\n",
       "        vertical-align: top;\n",
       "    }\n",
       "\n",
       "    .dataframe thead th {\n",
       "        text-align: right;\n",
       "    }\n",
       "</style>\n",
       "<table border=\"1\" class=\"dataframe\">\n",
       "  <thead>\n",
       "    <tr style=\"text-align: right;\">\n",
       "      <th></th>\n",
       "      <th>longitude</th>\n",
       "      <th>latitude</th>\n",
       "      <th>housing_median_age</th>\n",
       "      <th>total_rooms</th>\n",
       "      <th>total_bedrooms</th>\n",
       "      <th>population</th>\n",
       "      <th>households</th>\n",
       "      <th>median_income</th>\n",
       "      <th>median_house_value</th>\n",
       "    </tr>\n",
       "  </thead>\n",
       "  <tbody>\n",
       "    <tr>\n",
       "      <th>0</th>\n",
       "      <td>-114.31</td>\n",
       "      <td>34.19</td>\n",
       "      <td>15.0</td>\n",
       "      <td>5612.0</td>\n",
       "      <td>1283.0</td>\n",
       "      <td>1015.0</td>\n",
       "      <td>472.0</td>\n",
       "      <td>1.4936</td>\n",
       "      <td>66900.0</td>\n",
       "    </tr>\n",
       "    <tr>\n",
       "      <th>1</th>\n",
       "      <td>-114.47</td>\n",
       "      <td>34.40</td>\n",
       "      <td>19.0</td>\n",
       "      <td>7650.0</td>\n",
       "      <td>1901.0</td>\n",
       "      <td>1129.0</td>\n",
       "      <td>463.0</td>\n",
       "      <td>1.8200</td>\n",
       "      <td>80100.0</td>\n",
       "    </tr>\n",
       "    <tr>\n",
       "      <th>2</th>\n",
       "      <td>-114.56</td>\n",
       "      <td>33.69</td>\n",
       "      <td>17.0</td>\n",
       "      <td>720.0</td>\n",
       "      <td>174.0</td>\n",
       "      <td>333.0</td>\n",
       "      <td>117.0</td>\n",
       "      <td>1.6509</td>\n",
       "      <td>85700.0</td>\n",
       "    </tr>\n",
       "    <tr>\n",
       "      <th>3</th>\n",
       "      <td>-114.57</td>\n",
       "      <td>33.64</td>\n",
       "      <td>14.0</td>\n",
       "      <td>1501.0</td>\n",
       "      <td>337.0</td>\n",
       "      <td>515.0</td>\n",
       "      <td>226.0</td>\n",
       "      <td>3.1917</td>\n",
       "      <td>73400.0</td>\n",
       "    </tr>\n",
       "    <tr>\n",
       "      <th>4</th>\n",
       "      <td>-114.57</td>\n",
       "      <td>33.57</td>\n",
       "      <td>20.0</td>\n",
       "      <td>1454.0</td>\n",
       "      <td>326.0</td>\n",
       "      <td>624.0</td>\n",
       "      <td>262.0</td>\n",
       "      <td>1.9250</td>\n",
       "      <td>65500.0</td>\n",
       "    </tr>\n",
       "  </tbody>\n",
       "</table>\n",
       "</div>\n",
       "      <button class=\"colab-df-convert\" onclick=\"convertToInteractive('df-636c1f85-2150-49d0-bae4-1115cd2dc33c')\"\n",
       "              title=\"Convert this dataframe to an interactive table.\"\n",
       "              style=\"display:none;\">\n",
       "        \n",
       "  <svg xmlns=\"http://www.w3.org/2000/svg\" height=\"24px\"viewBox=\"0 0 24 24\"\n",
       "       width=\"24px\">\n",
       "    <path d=\"M0 0h24v24H0V0z\" fill=\"none\"/>\n",
       "    <path d=\"M18.56 5.44l.94 2.06.94-2.06 2.06-.94-2.06-.94-.94-2.06-.94 2.06-2.06.94zm-11 1L8.5 8.5l.94-2.06 2.06-.94-2.06-.94L8.5 2.5l-.94 2.06-2.06.94zm10 10l.94 2.06.94-2.06 2.06-.94-2.06-.94-.94-2.06-.94 2.06-2.06.94z\"/><path d=\"M17.41 7.96l-1.37-1.37c-.4-.4-.92-.59-1.43-.59-.52 0-1.04.2-1.43.59L10.3 9.45l-7.72 7.72c-.78.78-.78 2.05 0 2.83L4 21.41c.39.39.9.59 1.41.59.51 0 1.02-.2 1.41-.59l7.78-7.78 2.81-2.81c.8-.78.8-2.07 0-2.86zM5.41 20L4 18.59l7.72-7.72 1.47 1.35L5.41 20z\"/>\n",
       "  </svg>\n",
       "      </button>\n",
       "      \n",
       "  <style>\n",
       "    .colab-df-container {\n",
       "      display:flex;\n",
       "      flex-wrap:wrap;\n",
       "      gap: 12px;\n",
       "    }\n",
       "\n",
       "    .colab-df-convert {\n",
       "      background-color: #E8F0FE;\n",
       "      border: none;\n",
       "      border-radius: 50%;\n",
       "      cursor: pointer;\n",
       "      display: none;\n",
       "      fill: #1967D2;\n",
       "      height: 32px;\n",
       "      padding: 0 0 0 0;\n",
       "      width: 32px;\n",
       "    }\n",
       "\n",
       "    .colab-df-convert:hover {\n",
       "      background-color: #E2EBFA;\n",
       "      box-shadow: 0px 1px 2px rgba(60, 64, 67, 0.3), 0px 1px 3px 1px rgba(60, 64, 67, 0.15);\n",
       "      fill: #174EA6;\n",
       "    }\n",
       "\n",
       "    [theme=dark] .colab-df-convert {\n",
       "      background-color: #3B4455;\n",
       "      fill: #D2E3FC;\n",
       "    }\n",
       "\n",
       "    [theme=dark] .colab-df-convert:hover {\n",
       "      background-color: #434B5C;\n",
       "      box-shadow: 0px 1px 3px 1px rgba(0, 0, 0, 0.15);\n",
       "      filter: drop-shadow(0px 1px 2px rgba(0, 0, 0, 0.3));\n",
       "      fill: #FFFFFF;\n",
       "    }\n",
       "  </style>\n",
       "\n",
       "      <script>\n",
       "        const buttonEl =\n",
       "          document.querySelector('#df-636c1f85-2150-49d0-bae4-1115cd2dc33c button.colab-df-convert');\n",
       "        buttonEl.style.display =\n",
       "          google.colab.kernel.accessAllowed ? 'block' : 'none';\n",
       "\n",
       "        async function convertToInteractive(key) {\n",
       "          const element = document.querySelector('#df-636c1f85-2150-49d0-bae4-1115cd2dc33c');\n",
       "          const dataTable =\n",
       "            await google.colab.kernel.invokeFunction('convertToInteractive',\n",
       "                                                     [key], {});\n",
       "          if (!dataTable) return;\n",
       "\n",
       "          const docLinkHtml = 'Like what you see? Visit the ' +\n",
       "            '<a target=\"_blank\" href=https://colab.research.google.com/notebooks/data_table.ipynb>data table notebook</a>'\n",
       "            + ' to learn more about interactive tables.';\n",
       "          element.innerHTML = '';\n",
       "          dataTable['output_type'] = 'display_data';\n",
       "          await google.colab.output.renderOutput(dataTable, element);\n",
       "          const docLink = document.createElement('div');\n",
       "          docLink.innerHTML = docLinkHtml;\n",
       "          element.appendChild(docLink);\n",
       "        }\n",
       "      </script>\n",
       "    </div>\n",
       "  </div>\n",
       "  "
      ]
     },
     "metadata": {},
     "execution_count": 4
    }
   ]
  },
  {
   "cell_type": "markdown",
   "source": [
    "データに対して, 前処理をおこないます. "
   ],
   "metadata": {
    "id": "aL42uP2wp33m"
   }
  },
  {
   "cell_type": "code",
   "metadata": {
    "id": "6zO3MivSZ9vj"
   },
   "source": [
    "train_df.fillna(train_df.mean(), inplace=True)\n",
    "test_df.fillna(train_df.mean(), inplace=True)"
   ],
   "execution_count": null,
   "outputs": []
  },
  {
   "cell_type": "markdown",
   "source": [
    "訓練データについて, 予測したいものと, 予測するために用いるデータ（特徴量）とに分けます. それぞれを表示してみます."
   ],
   "metadata": {
    "id": "_Jn_fqpSqB-G"
   }
  },
  {
   "cell_type": "code",
   "source": [
    "X_train = train_df.drop(\"median_house_value\", axis=1)\n",
    "y_train = train_df[\"median_house_value\"]\n",
    "\n",
    "X_train.head()"
   ],
   "metadata": {
    "id": "fWlHBDBUKvEV",
    "colab": {
     "base_uri": "https://localhost:8080/",
     "height": 206
    },
    "outputId": "674c5bd0-04ea-48fb-a684-3bb302fe1b5c"
   },
   "execution_count": null,
   "outputs": [
    {
     "output_type": "execute_result",
     "data": {
      "text/plain": [
       "   longitude  latitude  housing_median_age  total_rooms  total_bedrooms  \\\n",
       "0    -114.31     34.19                15.0       5612.0          1283.0   \n",
       "1    -114.47     34.40                19.0       7650.0          1901.0   \n",
       "2    -114.56     33.69                17.0        720.0           174.0   \n",
       "3    -114.57     33.64                14.0       1501.0           337.0   \n",
       "4    -114.57     33.57                20.0       1454.0           326.0   \n",
       "\n",
       "   population  households  median_income  \n",
       "0      1015.0       472.0         1.4936  \n",
       "1      1129.0       463.0         1.8200  \n",
       "2       333.0       117.0         1.6509  \n",
       "3       515.0       226.0         3.1917  \n",
       "4       624.0       262.0         1.9250  "
      ],
      "text/html": [
       "\n",
       "  <div id=\"df-b93b8cd4-820b-46de-a720-0ada088b8da8\">\n",
       "    <div class=\"colab-df-container\">\n",
       "      <div>\n",
       "<style scoped>\n",
       "    .dataframe tbody tr th:only-of-type {\n",
       "        vertical-align: middle;\n",
       "    }\n",
       "\n",
       "    .dataframe tbody tr th {\n",
       "        vertical-align: top;\n",
       "    }\n",
       "\n",
       "    .dataframe thead th {\n",
       "        text-align: right;\n",
       "    }\n",
       "</style>\n",
       "<table border=\"1\" class=\"dataframe\">\n",
       "  <thead>\n",
       "    <tr style=\"text-align: right;\">\n",
       "      <th></th>\n",
       "      <th>longitude</th>\n",
       "      <th>latitude</th>\n",
       "      <th>housing_median_age</th>\n",
       "      <th>total_rooms</th>\n",
       "      <th>total_bedrooms</th>\n",
       "      <th>population</th>\n",
       "      <th>households</th>\n",
       "      <th>median_income</th>\n",
       "    </tr>\n",
       "  </thead>\n",
       "  <tbody>\n",
       "    <tr>\n",
       "      <th>0</th>\n",
       "      <td>-114.31</td>\n",
       "      <td>34.19</td>\n",
       "      <td>15.0</td>\n",
       "      <td>5612.0</td>\n",
       "      <td>1283.0</td>\n",
       "      <td>1015.0</td>\n",
       "      <td>472.0</td>\n",
       "      <td>1.4936</td>\n",
       "    </tr>\n",
       "    <tr>\n",
       "      <th>1</th>\n",
       "      <td>-114.47</td>\n",
       "      <td>34.40</td>\n",
       "      <td>19.0</td>\n",
       "      <td>7650.0</td>\n",
       "      <td>1901.0</td>\n",
       "      <td>1129.0</td>\n",
       "      <td>463.0</td>\n",
       "      <td>1.8200</td>\n",
       "    </tr>\n",
       "    <tr>\n",
       "      <th>2</th>\n",
       "      <td>-114.56</td>\n",
       "      <td>33.69</td>\n",
       "      <td>17.0</td>\n",
       "      <td>720.0</td>\n",
       "      <td>174.0</td>\n",
       "      <td>333.0</td>\n",
       "      <td>117.0</td>\n",
       "      <td>1.6509</td>\n",
       "    </tr>\n",
       "    <tr>\n",
       "      <th>3</th>\n",
       "      <td>-114.57</td>\n",
       "      <td>33.64</td>\n",
       "      <td>14.0</td>\n",
       "      <td>1501.0</td>\n",
       "      <td>337.0</td>\n",
       "      <td>515.0</td>\n",
       "      <td>226.0</td>\n",
       "      <td>3.1917</td>\n",
       "    </tr>\n",
       "    <tr>\n",
       "      <th>4</th>\n",
       "      <td>-114.57</td>\n",
       "      <td>33.57</td>\n",
       "      <td>20.0</td>\n",
       "      <td>1454.0</td>\n",
       "      <td>326.0</td>\n",
       "      <td>624.0</td>\n",
       "      <td>262.0</td>\n",
       "      <td>1.9250</td>\n",
       "    </tr>\n",
       "  </tbody>\n",
       "</table>\n",
       "</div>\n",
       "      <button class=\"colab-df-convert\" onclick=\"convertToInteractive('df-b93b8cd4-820b-46de-a720-0ada088b8da8')\"\n",
       "              title=\"Convert this dataframe to an interactive table.\"\n",
       "              style=\"display:none;\">\n",
       "        \n",
       "  <svg xmlns=\"http://www.w3.org/2000/svg\" height=\"24px\"viewBox=\"0 0 24 24\"\n",
       "       width=\"24px\">\n",
       "    <path d=\"M0 0h24v24H0V0z\" fill=\"none\"/>\n",
       "    <path d=\"M18.56 5.44l.94 2.06.94-2.06 2.06-.94-2.06-.94-.94-2.06-.94 2.06-2.06.94zm-11 1L8.5 8.5l.94-2.06 2.06-.94-2.06-.94L8.5 2.5l-.94 2.06-2.06.94zm10 10l.94 2.06.94-2.06 2.06-.94-2.06-.94-.94-2.06-.94 2.06-2.06.94z\"/><path d=\"M17.41 7.96l-1.37-1.37c-.4-.4-.92-.59-1.43-.59-.52 0-1.04.2-1.43.59L10.3 9.45l-7.72 7.72c-.78.78-.78 2.05 0 2.83L4 21.41c.39.39.9.59 1.41.59.51 0 1.02-.2 1.41-.59l7.78-7.78 2.81-2.81c.8-.78.8-2.07 0-2.86zM5.41 20L4 18.59l7.72-7.72 1.47 1.35L5.41 20z\"/>\n",
       "  </svg>\n",
       "      </button>\n",
       "      \n",
       "  <style>\n",
       "    .colab-df-container {\n",
       "      display:flex;\n",
       "      flex-wrap:wrap;\n",
       "      gap: 12px;\n",
       "    }\n",
       "\n",
       "    .colab-df-convert {\n",
       "      background-color: #E8F0FE;\n",
       "      border: none;\n",
       "      border-radius: 50%;\n",
       "      cursor: pointer;\n",
       "      display: none;\n",
       "      fill: #1967D2;\n",
       "      height: 32px;\n",
       "      padding: 0 0 0 0;\n",
       "      width: 32px;\n",
       "    }\n",
       "\n",
       "    .colab-df-convert:hover {\n",
       "      background-color: #E2EBFA;\n",
       "      box-shadow: 0px 1px 2px rgba(60, 64, 67, 0.3), 0px 1px 3px 1px rgba(60, 64, 67, 0.15);\n",
       "      fill: #174EA6;\n",
       "    }\n",
       "\n",
       "    [theme=dark] .colab-df-convert {\n",
       "      background-color: #3B4455;\n",
       "      fill: #D2E3FC;\n",
       "    }\n",
       "\n",
       "    [theme=dark] .colab-df-convert:hover {\n",
       "      background-color: #434B5C;\n",
       "      box-shadow: 0px 1px 3px 1px rgba(0, 0, 0, 0.15);\n",
       "      filter: drop-shadow(0px 1px 2px rgba(0, 0, 0, 0.3));\n",
       "      fill: #FFFFFF;\n",
       "    }\n",
       "  </style>\n",
       "\n",
       "      <script>\n",
       "        const buttonEl =\n",
       "          document.querySelector('#df-b93b8cd4-820b-46de-a720-0ada088b8da8 button.colab-df-convert');\n",
       "        buttonEl.style.display =\n",
       "          google.colab.kernel.accessAllowed ? 'block' : 'none';\n",
       "\n",
       "        async function convertToInteractive(key) {\n",
       "          const element = document.querySelector('#df-b93b8cd4-820b-46de-a720-0ada088b8da8');\n",
       "          const dataTable =\n",
       "            await google.colab.kernel.invokeFunction('convertToInteractive',\n",
       "                                                     [key], {});\n",
       "          if (!dataTable) return;\n",
       "\n",
       "          const docLinkHtml = 'Like what you see? Visit the ' +\n",
       "            '<a target=\"_blank\" href=https://colab.research.google.com/notebooks/data_table.ipynb>data table notebook</a>'\n",
       "            + ' to learn more about interactive tables.';\n",
       "          element.innerHTML = '';\n",
       "          dataTable['output_type'] = 'display_data';\n",
       "          await google.colab.output.renderOutput(dataTable, element);\n",
       "          const docLink = document.createElement('div');\n",
       "          docLink.innerHTML = docLinkHtml;\n",
       "          element.appendChild(docLink);\n",
       "        }\n",
       "      </script>\n",
       "    </div>\n",
       "  </div>\n",
       "  "
      ]
     },
     "metadata": {},
     "execution_count": 6
    }
   ]
  },
  {
   "cell_type": "code",
   "source": [
    "y_train.head()"
   ],
   "metadata": {
    "id": "K21slqCrL8Wr",
    "colab": {
     "base_uri": "https://localhost:8080/"
    },
    "outputId": "bd301646-8850-4999-e40e-21bdd70a9056"
   },
   "execution_count": null,
   "outputs": [
    {
     "output_type": "execute_result",
     "data": {
      "text/plain": [
       "0    66900.0\n",
       "1    80100.0\n",
       "2    85700.0\n",
       "3    73400.0\n",
       "4    65500.0\n",
       "Name: median_house_value, dtype: float64"
      ]
     },
     "metadata": {},
     "execution_count": 7
    }
   ]
  },
  {
   "cell_type": "markdown",
   "source": [
    "テストデータについても, 同様にします."
   ],
   "metadata": {
    "id": "a6Mb1Vhtnmpn"
   }
  },
  {
   "cell_type": "code",
   "source": [
    "X_test = test_df.drop(\"median_house_value\", axis=1)\n",
    "y_test = test_df[\"median_house_value\"]"
   ],
   "metadata": {
    "id": "YhAz-kjKMlJy"
   },
   "execution_count": null,
   "outputs": []
  },
  {
   "cell_type": "markdown",
   "source": [
    "RIDGE"
   ],
   "metadata": {
    "id": "reqFQhllMngO"
   }
  },
  {
   "cell_type": "markdown",
   "source": [
    "まずは, リッジ回帰を行ってみます. 参考サイト：https://panda-clip.com/boston-ridge/"
   ],
   "metadata": {
    "id": "ZO_zl89gqMYn"
   }
  },
  {
   "cell_type": "markdown",
   "source": [
    "予測の精度は, 決定係数という指標で示しています. 決定係数R2とは, 各データの回帰直線からの距離の総和を考えることで求まります. 決定係数の値が大きい程, 予測の精度が高いと言うことができます. さらに, RMSEも表示しています. これは, 予測値と正解値の差を2乗して, 全てのデータについて和を取ったもので, この値が小さい程, 予測の精度が高いと言えます. "
   ],
   "metadata": {
    "id": "NJkuG_eyvQgY"
   }
  },
  {
   "cell_type": "code",
   "source": [
    "from sklearn import linear_model\n",
    "\n",
    "# Ridge回帰\n",
    "reg = linear_model.Ridge(alpha=0).fit(X_train, y_train)\n",
    "\n",
    "print(\"alpha=0\")\n",
    "print(\"訓練データへの決定係数　：{:.7f}\".format(reg.score(X_train, y_train)))\n",
    "print(\"テストデータへの決定係数：{:.7f}\".format(reg.score(X_test, y_test)))\n",
    "y_pred_reg = reg.predict(X_test)\n",
    "print(\"RMSE：{:.3f}\".format(np.sqrt(mean_squared_error(y_pred_reg, y_test))))\n",
    "\n",
    "reg = linear_model.Ridge(alpha=0.1).fit(X_train, y_train)\n",
    "\n",
    "print(\"alpha=0.1\")\n",
    "print(\"訓練データへの決定係数　：{:.7f}\".format(reg.score(X_train, y_train)))\n",
    "print(\"テストデータへの決定係数：{:.7f}\".format(reg.score(X_test, y_test)))\n",
    "y_pred_reg = reg.predict(X_test)\n",
    "print(\"RMSE：{:.3f}\".format(np.sqrt(mean_squared_error(y_pred_reg, y_test))))\n",
    "\n",
    "reg = linear_model.Ridge(alpha=0.5).fit(X_train, y_train)\n",
    "\n",
    "print(\"alpha=0.5\")\n",
    "print(\"訓練データへの決定係数　：{:.7f}\".format(reg.score(X_train, y_train)))\n",
    "print(\"テストデータへの決定係数：{:.7f}\".format(reg.score(X_test, y_test)))\n",
    "y_pred_reg = reg.predict(X_test)\n",
    "print(\"RMSE：{:.3f}\".format(np.sqrt(mean_squared_error(y_pred_reg, y_test))))\n",
    "\n",
    "reg = linear_model.Ridge(alpha=1).fit(X_train, y_train)\n",
    "\n",
    "print(\"alpha=1\")\n",
    "print(\"訓練データへの決定係数　：{:.7f}\".format(reg.score(X_train, y_train)))\n",
    "print(\"テストデータへの決定係数：{:.7f}\".format(reg.score(X_test, y_test)))\n",
    "y_pred_reg = reg.predict(X_test)\n",
    "print(\"RMSE：{:.3f}\".format(np.sqrt(mean_squared_error(y_pred_reg, y_test))))"
   ],
   "metadata": {
    "colab": {
     "base_uri": "https://localhost:8080/"
    },
    "id": "Q1V0xFVJMLSp",
    "outputId": "459a9541-7795-4d33-8624-2fcf180bcd39"
   },
   "execution_count": null,
   "outputs": [
    {
     "output_type": "stream",
     "name": "stdout",
     "text": [
      "alpha=0\n",
      "訓練データへの決定係数　：0.6413379\n",
      "テストデータへの決定係数：0.6195058\n",
      "RMSE：69765.360\n",
      "alpha=0.1\n",
      "訓練データへの決定係数　：0.6413379\n",
      "テストデータへの決定係数：0.6195058\n",
      "RMSE：69765.353\n",
      "alpha=0.5\n",
      "訓練データへの決定係数　：0.6413379\n",
      "テストデータへの決定係数：0.6195062\n",
      "RMSE：69765.324\n",
      "alpha=1\n",
      "訓練データへの決定係数　：0.6413378\n",
      "テストデータへの決定係数：0.6195066\n",
      "RMSE：69765.288\n"
     ]
    }
   ]
  },
  {
   "cell_type": "markdown",
   "source": [
    "上の結果の通り, 回帰のパラメータαを変化させても, あまり予測の精度に影響はありません. 中では, テストデータへの決定係数が最も大きく, RMSEが最も小さい, alpha=1の予測が一番精度が高いと言えます. "
   ],
   "metadata": {
    "id": "byopczbuoimq"
   }
  },
  {
   "cell_type": "code",
   "source": [
    "# 通常の最小二乗法による線形回帰\n",
    "reg2 = linear_model.LinearRegression().fit(X_train, y_train)\n",
    "\n",
    "y_pred_reg2 = reg2.predict(X_test)\n",
    "print(\"RMSE：{:.3f}\".format(np.sqrt(mean_squared_error(y_pred_reg2, y_test))))"
   ],
   "metadata": {
    "colab": {
     "base_uri": "https://localhost:8080/"
    },
    "id": "tk_F3vYHMdZL",
    "outputId": "5e113cef-5cf2-4380-adbe-d9b46828e0c2"
   },
   "execution_count": null,
   "outputs": [
    {
     "output_type": "stream",
     "name": "stdout",
     "text": [
      "RMSE：69765.360\n"
     ]
    }
   ]
  },
  {
   "cell_type": "markdown",
   "source": [
    "上で試した, Ridge回帰のalpha=1の場合の方が, RMSEが小さいことが分かります. "
   ],
   "metadata": {
    "id": "DLhQUfCQpVK0"
   }
  },
  {
   "cell_type": "markdown",
   "source": [
    "LASSO"
   ],
   "metadata": {
    "id": "0xGCTp2zMp0Q"
   }
  },
  {
   "cell_type": "markdown",
   "source": [
    "次に, LASSO回帰を行います. 参考サイト：https://qiita.com/muscle_nishimi/items/901ed94f3cdf1c8d893a"
   ],
   "metadata": {
    "id": "0JZ8VflqwIl7"
   }
  },
  {
   "cell_type": "markdown",
   "source": [
    "上のRidge回帰では, 学習パラエータであるalphaを, こちら側が指定して学習を行っていましたが, 今度は, 最も良い値を探し, それを学習に採用する方法を取ります. 次の関数で, 最も良いパラメータを求めます. "
   ],
   "metadata": {
    "id": "mn7iCww1trsX"
   }
  },
  {
   "cell_type": "code",
   "source": [
    "from sklearn.linear_model import Lasso\n",
    "from sklearn.pipeline import make_pipeline\n",
    "from sklearn.preprocessing import StandardScaler\n",
    "\n",
    "\n",
    "def lasso_tuning(train_x, train_y):\n",
    "    # alphaパラメータのリスト\n",
    "    param_list = [0.001, 0.01, 0.1, 1.0, 10.0, 100.0, 1000.0]\n",
    "\n",
    "    for cnt, alpha in enumerate(param_list):\n",
    "        # パラメータを設定したラッソ回帰モデル\n",
    "        lasso = Lasso(alpha=alpha)\n",
    "        # パイプライン生成\n",
    "        pipeline = make_pipeline(StandardScaler(), lasso)\n",
    "\n",
    "        # 学習\n",
    "        pipeline.fit(X_train, y_train)\n",
    "\n",
    "        # RMSE(平均誤差)を計算\n",
    "        train_rmse = np.sqrt(mean_squared_error(y_train, pipeline.predict(X_train)))\n",
    "        test_rmse = np.sqrt(mean_squared_error(y_test, pipeline.predict(X_test)))\n",
    "        # ベストパラメータを更新\n",
    "        if cnt == 0:\n",
    "            best_score = test_rmse\n",
    "            best_param = alpha\n",
    "        elif best_score > test_rmse:\n",
    "            best_score = test_rmse\n",
    "            best_param = alpha\n",
    "\n",
    "    # ベストパラメータのalphaと、そのときのMSEを出力\n",
    "    print(\"alpha : \" + str(best_param))\n",
    "    print(\"RMSE : \" + str(round(best_score, 4)))\n",
    "\n",
    "    # ベストパラメータを返却\n",
    "    return best_param\n",
    "\n",
    "\n",
    "# best_alphaにベストパラメータのalphaが渡される。\n",
    "best_alpha = lasso_tuning(X_train, y_train)"
   ],
   "metadata": {
    "id": "UB9AQB_1PQnV",
    "colab": {
     "base_uri": "https://localhost:8080/"
    },
    "outputId": "df91cd98-1c14-4862-a5cc-3afee506ffa0"
   },
   "execution_count": null,
   "outputs": [
    {
     "output_type": "stream",
     "name": "stdout",
     "text": [
      "alpha : 100.0\n",
      "RMSE : 69757.3352\n"
     ]
    }
   ]
  },
  {
   "cell_type": "markdown",
   "source": [
    "上で試したRidgeよりもRMSEが低く, 予測の精度が高いことがわかります."
   ],
   "metadata": {
    "id": "3DgbjQTpjlSn"
   }
  },
  {
   "cell_type": "markdown",
   "source": [
    "単純ベイズ"
   ],
   "metadata": {
    "id": "SAA1k_k5wthQ"
   }
  },
  {
   "cell_type": "markdown",
   "source": [
    "参考サイト：https://scikit-learn.org/stable/modules/naive_bayes.html"
   ],
   "metadata": {
    "id": "hCM57TLNyNr8"
   }
  },
  {
   "cell_type": "code",
   "source": [
    "from sklearn.naive_bayes import GaussianNB\n",
    "\n",
    "gnb = GaussianNB().fit(X_train, y_train)\n",
    "\n",
    "y_pred_gnb = gnb.predict(X_test)\n",
    "np.sqrt(mean_squared_error(y_pred_gnb, y_test))"
   ],
   "metadata": {
    "id": "O9H4juQWx6TQ",
    "colab": {
     "base_uri": "https://localhost:8080/"
    },
    "outputId": "61da6c1c-52a0-4f62-9e7d-cc3874076e1e"
   },
   "execution_count": null,
   "outputs": [
    {
     "output_type": "execute_result",
     "data": {
      "text/plain": [
       "100358.485516954"
      ]
     },
     "metadata": {},
     "execution_count": 12
    }
   ]
  },
  {
   "cell_type": "markdown",
   "source": [
    "単純ベイズでの学習では, 誤差が非常に大きくなりました. "
   ],
   "metadata": {
    "id": "iBXTX9qqrcAu"
   }
  },
  {
   "cell_type": "markdown",
   "source": [
    "サポートベクトルマシン"
   ],
   "metadata": {
    "id": "wz2S3mec7tjd"
   }
  },
  {
   "cell_type": "code",
   "source": [
    "from sklearn.svm import SVC\n",
    "\n",
    "svc = SVC(kernel=\"linear\", random_state=None).fit(X_train, y_train)\n",
    "\n",
    "y_pred_svc = svc.predit(X_test)\n",
    "np.sqrt(mean_squared_error(y_pred_svc, y_test))"
   ],
   "metadata": {
    "id": "E0aiokfD7v1L"
   },
   "execution_count": null,
   "outputs": []
  },
  {
   "cell_type": "markdown",
   "source": [
    "## あとがき"
   ],
   "metadata": {
    "id": "9_7IJ-Zzv0IJ"
   }
  },
  {
   "cell_type": "markdown",
   "source": [
    "LASSOで行ったパラメータチューニングが今回最も精度の高い予測を導いたことから, データ分析の際は, パラメータの最適化をするとよい事がわかりました."
   ],
   "metadata": {
    "id": "21vA_VAfv3Mi"
   }
  }
 ]
}