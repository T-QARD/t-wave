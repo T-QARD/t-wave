{
 "cells": [
  {
   "cell_type": "markdown",
   "metadata": {
    "id": "QsOfIEa0tDX4"
   },
   "source": [
    "# ナーススケジューリング問題をD-Wave 2000Qで解く (検証編)\n",
    "\n",
    "## 概要\n",
    "記事「[ナーススケジューリング問題をD-Wave 2000Qで解く](https://qard.is.tohoku.ac.jp/T-Wave/?p=1756)」では、ナーススケジューリング問題(NSP)をD-Wave 2000Qで解くことにより、量子アニーリング(QA)の計算性能を評価する論文を紹介しました。結果として、NSPを解くことに関しては、QAよりもシミュレーテッドアニーリング(SA)の方が有用でした。しかし、この論文では制約の係数を人数や日数といった設定毎に変えていないため、係数を調整することで、より良い結果を得られる可能性があります。そこで本記事ではまず、最適だと考えられる係数を探索します。そして、その係数を用いることで、論文の結果よりも基底状態の解を見つける確率が向上するのか検証します。\n",
    "\n",
    "## 問題\n",
    "\n",
    "NSPの詳細については、先行研究の解説記事「[ナーススケジューリング問題をD-Wave 2000Qで解く](https://qard.is.tohoku.ac.jp/T-Wave/?p=1756)」を参照してください。"
   ]
  },
  {
   "cell_type": "markdown",
   "metadata": {
    "id": "ue30DoyNkqLN"
   },
   "source": [
    "## 定式化\n",
    "\n",
    "| 定数 | 説明 |\n",
    "| ---- | ---- |\n",
    "|  $n = 1 , \\cdots, N$  |  看護師の人数  |\n",
    "|  $d = 1 , \\cdots, D$  |  日数  |\n",
    "|   行列$J_{i(n, d), j\\left(n, d^{\\prime}\\right)}=\\left\\{\\begin{array}{cc} a>0 & d^{\\prime}=d \\pm 1 \\\\ 0 & \\text { otherwise } \\end{array}\\right.$ |  看護師$n$が2日以上連続で勤務するとペナルティを課す  |\n",
    "|  $W(d)$  |  $d$日に必要な労働力  |\n",
    "|  $E(n)$  |  看護師$n$の持つ労働力  |\n",
    "|  $F(n)$  |  看護師$n$が希望する勤務日数  |\n",
    "|  $G(n, d) = h_{1}(n)h_{2}(d)$ |  看護師$n$が$d$日に勤務希望する  |\n",
    "\n",
    "変数および目的関数は次のようになります。定式化の詳細は、記事「[ナーススケジューリング問題をD-Wave 2000Qで解く](nsp.md)」を参照してください。\n",
    "\n",
    "**変数:**\n",
    "\n",
    "$q_{n,d}$:  看護師$n$が$d$日に働く場合に1、働かない場合に0\n",
    "\n",
    "**目的関数:**\n",
    "\n",
    "$$\n",
    "\\begin{align}\n",
    "H(\\mathbf{q}) &= \\alpha \\sum_{n, n^{\\prime}}^{N} \\sum_{d, d^{\\prime}}^{D} J_{i(n, d), j\\left(n^{\\prime}, d^{\\prime}\\right)} q_{i(n, d)} q_{j\\left(n^{\\prime}, d^{\\prime}\\right)}\\\\\n",
    "&+ \\lambda \\sum_{d}^{D}\\left(\\sum_{n}^{N} E(n) q_{i(n, d)}-W(d)\\right)^{2}\\\\\n",
    "&+ \\gamma \\sum_{n}^{N}\\left(\\sum_{d}^{D} h_{1}(n) h_{2}(d) q_{i(n, d)}-F(n)\\right)^{2}\n",
    "\\end{align}\n",
    "$$\n",
    "\n",
    "ただし、後述する実験のために、第一項の係数を$\\alpha$としています。\n",
    "\n",
    "\n",
    "論文の問題設定は次の通りでした。\n",
    "\n",
    "| 定数 | 説明 |\n",
    "| ---- | ---- |\n",
    "| $N = 3, 4$ |  看護師の人数  |\n",
    "| $D = 5, \\cdots, 14$ |  日数  |\n",
    "| $h_{1}(n) = 1$ |  全員暇  |\n",
    "| $h_{2}(d) = 1$ |  常に平日  |\n",
    "| $E(n) = 1$ |  全員が1人分の労働力を持つ  |\n",
    "| $W(d) = 1$ |  各日に1人分の労働力が必要  |\n",
    "\n",
    "| 目的関数・D-Waveマシンの設定 | 説明 |\n",
    "| ---- | ---- |\n",
    "| $a = 7/2$ |  2日以上勤務すると課されるペナルティ  |\n",
    "| $\\lambda = 0.3, \\gamma = 1.3$ |  制約項の係数  |\n",
    "| 200 $\\mu s$ | アニーリング時間 |\n",
    "| 1000 | サンプル数 |\n",
    "\n",
    "本記事では、上記の設定で実験を行いました。\n",
    "以下に、[PyQUBO](https://pyqubo.readthedocs.io/en/latest/)を用いたQUBO生成から最適化までのPythonコードを示します。\n",
    "\n",
    "まず、必要なライブラリをインストールします。"
   ]
  },
  {
   "cell_type": "code",
   "execution_count": null,
   "metadata": {
    "id": "5ft1nhamtATR"
   },
   "outputs": [],
   "source": [
    "!pip install numpy\n",
    "!pip install matplotlib\n",
    "!pip install dwave-ocean-sdk  # D-Wave Ocean SDKにPyQUBOが含まれています"
   ]
  },
  {
   "cell_type": "markdown",
   "metadata": {
    "id": "eZuYeDMcqJQQ"
   },
   "source": [
    "次に初期設定をします。"
   ]
  },
  {
   "cell_type": "code",
   "execution_count": 1,
   "metadata": {
    "id": "VPptxqUoqIgN"
   },
   "outputs": [],
   "source": [
    "N = 3  # 看護師の数\n",
    "D = 14  # 日数\n",
    "a = 7 / 2  # 2日以上連続で勤務した時のペナルティ\n",
    "F = [4, 5, 5]  # 各看護師が希望する勤務日数"
   ]
  },
  {
   "cell_type": "markdown",
   "metadata": {
    "id": "B14-VmWAr1Rb"
   },
   "source": [
    "$J_{i(n, d), j\\left(n, d^{\\prime}\\right)}=\\left\\{\\begin{array}{cc} a>0 & d^{\\prime}=d \\pm 1 \\\\ 0 & \\text { otherwise } \\end{array}\\right.$ は、次のように生成します。"
   ]
  },
  {
   "cell_type": "code",
   "execution_count": 2,
   "metadata": {
    "id": "fwPHgf5MsD86"
   },
   "outputs": [],
   "source": [
    "from itertools import product\n",
    "import numpy as np\n",
    "\n",
    "J = np.zeros((N, D, N, D))\n",
    "for n1, d1, n2, d2 in product(range(N), range(D), range(N), range(D)):\n",
    "    if n1 == n2 and d1 + 1 == d2:\n",
    "        J[n1, d1, n2, d2] = a"
   ]
  },
  {
   "cell_type": "markdown",
   "metadata": {
    "id": "n5DUItW2svOB"
   },
   "source": [
    "定数の設定が終わったので、定式化していきます。"
   ]
  },
  {
   "cell_type": "code",
   "execution_count": 3,
   "metadata": {
    "id": "HW2GzcP_tb2f"
   },
   "outputs": [],
   "source": [
    "from itertools import product\n",
    "from pyqubo import Array, Constraint, Placeholder\n",
    "\n",
    "# バイナリ変数\n",
    "q = Array.create('q', shape=(N, D), vartype='BINARY')\n",
    "\n",
    "# 2日以上連続で勤務するのを避けるための項\n",
    "H1 = np.sum([J[n1, d1, n2, d2] * q[n1, d1] * q[n2, d2]\n",
    "             for n1, n2, d1, d2 in product(range(N), range(N), range(D), range(D))])\n",
    "\n",
    "# 各dに1人の看護師を確保するための項\n",
    "H2 = np.sum([(np.sum([q[n,d] for n in range(N)]) - 1)**2 for d in range(D)])\n",
    "\n",
    "# 全員の出勤回数を均等にするための項\n",
    "H3 = np.sum([(np.sum([q[n,d] for d in range(D)]) - F[n])**2 for n in range(N)])\n",
    "\n",
    "# 最小化したいQUBO\n",
    "H = Placeholder('alpha') * Constraint(H1, 'H1') + Placeholder('lam') * Constraint(H2, 'H2') + Placeholder('gamma') * H3\n",
    "model = H.compile()"
   ]
  },
  {
   "cell_type": "code",
   "execution_count": 4,
   "metadata": {
    "id": "5e7Pv8Y0FaN3"
   },
   "outputs": [],
   "source": [
    "feed_dict = {'alpha': 1.0, 'lam': 1.3, 'gamma': 0.3} # 制約項の係数\n",
    "bqm = model.to_bqm(feed_dict=feed_dict)"
   ]
  },
  {
   "cell_type": "markdown",
   "metadata": {
    "id": "_CdY8nC_tRff"
   },
   "source": [
    "ここで、サンプラーの設定をします。"
   ]
  },
  {
   "cell_type": "code",
   "execution_count": 5,
   "metadata": {
    "id": "cOg163UvKgVB"
   },
   "outputs": [],
   "source": [
    "# SAの場合\n",
    "# from neal import SimulatedAnnealingSampler\n",
    "# sampler = SimulatedAnnealingSampler()\n",
    "\n",
    "# D-Waveマシンの場合\n",
    "from dwave.system import DWaveSampler, EmbeddingComposite\n",
    "sampler_config = {'solver': 'DW_2000Q_6', 'token': 'YOUR_TOKEN'}\n",
    "sampler = EmbeddingComposite(DWaveSampler(**sampler_config))"
   ]
  },
  {
   "cell_type": "markdown",
   "metadata": {
    "id": "qWm9jQisugss"
   },
   "source": [
    "全ての設定が終わりました。\n",
    "いよいよアニーリングを実行します。\n",
    "\n"
   ]
  },
  {
   "cell_type": "code",
   "execution_count": 6,
   "metadata": {
    "id": "3hQ66_PyubYH"
   },
   "outputs": [],
   "source": [
    "num_reads = 1000\n",
    "sampleset = sampler.sample(bqm, num_reads=num_reads)"
   ]
  },
  {
   "cell_type": "markdown",
   "metadata": {
    "id": "bLvdqz6MvIbB"
   },
   "source": [
    "得られた解は、次のように確認できます。"
   ]
  },
  {
   "cell_type": "code",
   "execution_count": 7,
   "metadata": {
    "colab": {
     "base_uri": "https://localhost:8080/"
    },
    "executionInfo": {
     "elapsed": 335,
     "status": "ok",
     "timestamp": 1634258181969,
     "user": {
      "displayName": "丸山尚貴",
      "photoUrl": "https://lh3.googleusercontent.com/a/default-user=s64",
      "userId": "01785070009045385802"
     },
     "user_tz": -540
    },
    "id": "EZgeNrvLu6Ac",
    "outputId": "e54adc5e-d5b3-4103-c453-e9ab60303021"
   },
   "outputs": [
    {
     "data": {
      "text/plain": [
       "rec.array([([0, 1, 0, 1, 0, 0, 1, 0, 1, 0, 0, 0, 0, 0, 0, 0, 1, 0, 0, 1, 0, 0, 0, 1, 0, 1, 0, 1, 1, 0, 0, 0, 1, 0, 0, 1, 0, 0, 1, 0, 1, 0], 1.76214598e-12, 1),\n",
       "           ([1, 0, 0, 0, 0, 0, 1, 0, 1, 0, 0, 0, 0, 1, 0, 1, 0, 1, 0, 0, 0, 1, 0, 0, 1, 0, 1, 0, 0, 0, 1, 0, 1, 1, 0, 0, 0, 1, 0, 1, 0, 0], 1.76214598e-12, 1),\n",
       "           ([1, 0, 0, 1, 0, 0, 0, 0, 0, 1, 0, 0, 1, 0, 0, 1, 0, 0, 1, 1, 0, 1, 0, 0, 0, 1, 0, 0, 0, 0, 1, 0, 0, 0, 1, 0, 1, 0, 1, 0, 0, 1], 1.75504056e-12, 1),\n",
       "           ([0, 0, 0, 0, 1, 0, 1, 0, 0, 1, 0, 0, 1, 0, 1, 0, 1, 0, 0, 0, 0, 0, 1, 0, 0, 1, 0, 1, 0, 1, 0, 1, 0, 1, 0, 1, 0, 0, 1, 0, 0, 0], 1.75504056e-12, 1),\n",
       "           ([0, 0, 0, 0, 0, 1, 0, 1, 0, 1, 0, 1, 0, 1, 1, 1, 0, 1, 0, 0, 0, 0, 1, 0, 1, 0, 0, 0, 0, 0, 1, 0, 1, 0, 1, 0, 0, 0, 0, 0, 1, 0], 6.00000000e-01, 1),\n",
       "           ([0, 0, 0, 1, 0, 0, 0, 0, 1, 0, 0, 1, 0, 1, 0, 1, 0, 0, 1, 1, 0, 1, 0, 0, 1, 0, 0, 0, 1, 0, 1, 0, 0, 0, 1, 0, 0, 1, 0, 0, 1, 0], 1.75504056e-12, 1),\n",
       "           ([1, 0, 0, 1, 0, 0, 0, 0, 0, 1, 0, 1, 0, 0, 0, 0, 1, 0, 0, 1, 0, 1, 0, 0, 1, 0, 0, 1, 0, 1, 0, 0, 1, 0, 1, 0, 1, 0, 0, 0, 1, 0], 1.75504056e-12, 1),\n",
       "           ([0, 0, 0, 1, 0, 0, 0, 0, 1, 0, 0, 1, 0, 1, 0, 1, 0, 0, 0, 1, 0, 1, 0, 0, 1, 0, 1, 0, 1, 0, 1, 0, 1, 0, 1, 0, 0, 1, 0, 0, 0, 0], 1.75504056e-12, 1),\n",
       "           ([0, 0, 0, 1, 0, 1, 0, 0, 0, 0, 0, 1, 0, 1, 0, 0, 1, 0, 1, 0, 1, 0, 1, 0, 1, 0, 0, 0, 1, 1, 0, 0, 0, 0, 0, 1, 0, 1, 0, 0, 1, 0], 1.75504056e-12, 1),\n",
       "           ([0, 0, 0, 0, 0, 1, 0, 1, 0, 1, 0, 1, 0, 0, 1, 1, 0, 1, 0, 0, 1, 0, 0, 0, 0, 0, 1, 0, 0, 0, 1, 0, 1, 0, 0, 0, 1, 0, 1, 0, 0, 1], 1.75504056e-12, 1)],\n",
       "          dtype=[('sample', 'i1', (42,)), ('energy', '<f8'), ('num_occurrences', '<i8')])"
      ]
     },
     "execution_count": 7,
     "metadata": {},
     "output_type": "execute_result"
    }
   ],
   "source": [
    "sampleset.record[:10]"
   ]
  },
  {
   "cell_type": "markdown",
   "metadata": {
    "id": "4uXkf0eTv46x"
   },
   "source": [
    "`sampleset.record`には、\n",
    "\n",
    "- 解の状態\n",
    "- エネルギー\n",
    "- 解の個数\n",
    "- チェーンブレイク\n",
    "\n",
    "の割合の順番で格納されています。本実験では基底状態のとき、`energy == 0`となるように入力を設定しています。\n",
    "\n",
    "次に、制約条件を満たしている解を取り出します。"
   ]
  },
  {
   "cell_type": "code",
   "execution_count": 8,
   "metadata": {
    "id": "kyMOcdJ14XkX"
   },
   "outputs": [],
   "source": [
    "def extract_feasible_samples(samples, print_broken=False):\n",
    "    feasible_samples = []\n",
    "    for sample in decoded_samples:\n",
    "        constraints = sample.constraints(only_broken=True)\n",
    "        if len(constraints) == 0:\n",
    "            feasible_samples.append(sample)\n",
    "        elif print_broken:\n",
    "            print(constraints)\n",
    "    return feasible_samples"
   ]
  },
  {
   "cell_type": "code",
   "execution_count": 9,
   "metadata": {
    "id": "w_yTn41G4b6k"
   },
   "outputs": [
    {
     "name": "stdout",
     "output_type": "stream",
     "text": [
      "実行可能解の個数: 897\n"
     ]
    }
   ],
   "source": [
    "decoded_samples = model.decode_sampleset(sampleset.aggregate(), feed_dict)\n",
    "feasible_samples = extract_feasible_samples(decoded_samples)\n",
    "print('実行可能解の個数:', len(feasible_samples))"
   ]
  },
  {
   "cell_type": "markdown",
   "metadata": {
    "id": "bLMMEn6irRes"
   },
   "source": [
    "得られた解で最もエネルギーの低い解を可視化します。"
   ]
  },
  {
   "cell_type": "code",
   "execution_count": 10,
   "metadata": {
    "colab": {
     "base_uri": "https://localhost:8080/",
     "height": 134
    },
    "executionInfo": {
     "elapsed": 286,
     "status": "ok",
     "timestamp": 1634258188147,
     "user": {
      "displayName": "丸山尚貴",
      "photoUrl": "https://lh3.googleusercontent.com/a/default-user=s64",
      "userId": "01785070009045385802"
     },
     "user_tz": -540
    },
    "id": "SCytqJJEOU0k",
    "outputId": "f97091ea-0ce9-4ce4-f930-0c0787c59892"
   },
   "outputs": [
    {
     "data": {
      "image/png": "[encoded data removed]",
      "text/plain": [
       "<Figure size 432x288 with 1 Axes>"
      ]
     },
     "metadata": {
      "needs_background": "light"
     },
     "output_type": "display_data"
    }
   ],
   "source": [
    "import matplotlib.pyplot as plt\n",
    "\n",
    "lowest_sample = feasible_samples[0].sample\n",
    "\n",
    "schedules = np.zeros((N, D))\n",
    "for n in range(N):\n",
    "    for d in range(D):\n",
    "        if lowest_sample[f'q[{n}][{d}]'] == 1:\n",
    "            schedules[n, d] = 1\n",
    "\n",
    "plt.imshow(schedules, cmap=\"Greys\")\n",
    "plt.xlabel('D')\n",
    "plt.ylabel('N')\n",
    "plt.show()"
   ]
  },
  {
   "cell_type": "markdown",
   "metadata": {
    "id": "cFuYaVIZZ23p"
   },
   "source": [
    "各看護師が希望する勤務日数と実際の日数が、どの程度近いかを確認します。"
   ]
  },
  {
   "cell_type": "code",
   "execution_count": 11,
   "metadata": {
    "colab": {
     "base_uri": "https://localhost:8080/"
    },
    "executionInfo": {
     "elapsed": 303,
     "status": "ok",
     "timestamp": 1634258627605,
     "user": {
      "displayName": "丸山尚貴",
      "photoUrl": "https://lh3.googleusercontent.com/a/default-user=s64",
      "userId": "01785070009045385802"
     },
     "user_tz": -540
    },
    "id": "7tUVlK8TY9aF",
    "outputId": "8613bf7c-0c8c-4e04-d4f6-9949bdbc0375"
   },
   "outputs": [
    {
     "name": "stdout",
     "output_type": "stream",
     "text": [
      "実際の勤務日数: [4. 5. 5.]\n",
      "希望する勤務日数: [4, 5, 5]\n"
     ]
    }
   ],
   "source": [
    "print('実際の勤務日数:', np.sum(schedules, axis=1))\n",
    "print('希望する勤務日数:', F)"
   ]
  },
  {
   "cell_type": "markdown",
   "metadata": {
    "id": "ItQpMBGLsoE5"
   },
   "source": [
    "## 実験\n",
    "### 「基底状態の解を見つける確率」の求め方\n",
    "\n",
    "本実験は、「基底状態の解を見つける確率(%)」を求めることが目的です。これは、次の式で求められます。本実験では基底状態のとき、`energy == 0`となるように入力を設定しています。\n",
    "\n",
    "[`energy == 0`の個数] / [`num_reads`] × 100"
   ]
  },
  {
   "cell_type": "code",
   "execution_count": 12,
   "metadata": {
    "id": "-INcMEBF30L6"
   },
   "outputs": [],
   "source": [
    "def calc_probability(samples, num_reads):\n",
    "    return sum(1 for sample in samples if abs(sample.energy) < 1e-9) / num_reads * 100"
   ]
  },
  {
   "cell_type": "markdown",
   "metadata": {
    "id": "rxENfY3UMQAb"
   },
   "source": [
    "### 係数の探索方法\n",
    "最適と考えられる係数は次のように探索しました。\n",
    "\n",
    "![制約項の重みの調整方法](figures/adjustment_coefficients.png)\n",
    "\n",
    "まず、ソフト制約である第3項の係数$\\gamma$を1.0に固定します。そして、第1項の係数$\\alpha$=第2項の係数$\\lambda$=1.0からスタートし、両方とも10.0になるまで1.0ずつ動かします.\n",
    "それぞれの係数で「基底状態を見つける確率」をD-Wave 2000Qで計算し、確率が最も高くなった係数を採用します。この探索を$d$(日数)毎に実行します。次に、係数探索を行うコードを示します。"
   ]
  },
  {
   "cell_type": "code",
   "execution_count": null,
   "metadata": {
    "id": "kZnJTzJQ39PU"
   },
   "outputs": [],
   "source": [
    "lam_list = np.arange(1, 11)\n",
    "alpha_list = np.arange(1, 11)\n",
    "\n",
    "prob_hists = {}\n",
    "for lam in lam_list:\n",
    "    for alpha in alpha_list:\n",
    "        print(f'lam: {lam}, alpha: {alpha}')\n",
    "        # 制約の係数を変更\n",
    "        feed_dict = {'alpha': alpha, 'lam': lam, 'gamma': 1.0}\n",
    "        bqm = model.to_bqm(feed_dict=feed_dict)\n",
    "\n",
    "        # アニーリング\n",
    "        sampleset = sampler.sample(bqm, num_reads=num_reads)\n",
    "        decoded_samples = model.decode_sampleset(sampleset.aggregate(), feed_dict)\n",
    "        feasible_samples = extract_feasible_samples(decoded_samples)\n",
    "\n",
    "        # 確率を求める\n",
    "        prob_hists[(alpha, lam)] = calc_probability(feasible_samples, num_reads)"
   ]
  },
  {
   "cell_type": "markdown",
   "metadata": {
    "id": "IQmMlSvpzV_9"
   },
   "source": [
    "以下の図は、$N=3,D=5$の時のヒートマップです。この場合、第1項の係数$\\alpha=3.0$、第2項の係数$\\lambda=2.0$にすると最適な結果が得られると考えられます。\n",
    "\n",
    "![制約項の重みの調整結果](figures/result1_exp.png)"
   ]
  },
  {
   "cell_type": "markdown",
   "metadata": {
    "id": "PJqDBiidNsxC"
   },
   "source": [
    "### 結果\n",
    "\n",
    "以下の図から、係数を調整することで精度は向上することが分かります。しかし、先行研究と同様、日数$D$が大きくなると確率はかなり低くなってしまいました。\n",
    "\n",
    "![論文の再現結果との比較 (adjustedは係数を調整した場合、replicatedは論文の再現実験をした場合)](figures/result2_exp.png)"
   ]
  },
  {
   "cell_type": "markdown",
   "metadata": {
    "id": "qD6VHAKss2jr"
   },
   "source": [
    "## 結論\n",
    "\n",
    "本記事では、制約項の係数調整を行うことで、論文よりもNSPを精度良く解くことが出来るのかを検証しました。係数調整により精度は向上したものの、日数が大きくなると、基底状態の解はほとんど得られませんでした。"
   ]
  },
  {
   "cell_type": "markdown",
   "metadata": {
    "id": "LkWEBEWHs47D"
   },
   "source": [
    "## あと書き\n",
    "\n",
    "最大で56変数の問題に対して、基底状態の解を上手く見つけられないのは残念でした。本記事よりも、より細かく係数探索を行うことで精度向上の余地はありますが、日数が大きくなるにつれてほとんど解けなくなるのは変わらないと考えられます。他に精度を向上させる方法として埋め込みを自分で設定する方法がありますが、現在の自分の知識ではどのような埋め込みを行えば良いのか分かりません。またこの結果では、せいぜい1週間のシフトしか組めないため、実用化は難しいと思います。最低でも1か月のスケジュールを作れるようになったら、もう1度実験を行ってみたいです。\n",
    "\n",
    "### 本記事の担当者\n",
    "鹿内怜央"
   ]
  }
 ],
 "metadata": {
  "colab": {
   "collapsed_sections": [],
   "name": "係数調整によってNSPを解く精度は向上するか_211005.ipynb",
   "provenance": []
  },
  "kernelspec": {
   "display_name": "Python 3",
   "language": "python",
   "name": "python3"
  },
  "language_info": {
   "codemirror_mode": {
    "name": "ipython",
    "version": 3
   },
   "file_extension": ".py",
   "mimetype": "text/x-python",
   "name": "python",
   "nbconvert_exporter": "python",
   "pygments_lexer": "ipython3",
   "version": "3.9.4"
  },
  "widgets": {
   "application/vnd.jupyter.widget-state+json": {
    "state": {},
    "version_major": 2,
    "version_minor": 0
   }
  }
 },
 "nbformat": 4,
 "nbformat_minor": 4
}
