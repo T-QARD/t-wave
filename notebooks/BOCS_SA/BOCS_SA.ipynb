{
 "cells": [
  {
   "cell_type": "markdown",
   "id": "3a3bf986-8e06-4f9a-ae13-d7f2091ffc71",
   "metadata": {},
   "source": [
    "# シミュレーテッドアニーリングとベイズ線形回帰によるベイズ最適化"
   ]
  },
  {
   "cell_type": "markdown",
   "id": "6aaf69ec-7ab1-48b4-b1e1-e2f65dce7c24",
   "metadata": {},
   "source": [
    "## 文献情報"
   ]
  },
  {
   "cell_type": "markdown",
   "id": "a57fca70-4830-42d1-9b8a-341d0f4565e7",
   "metadata": {},
   "source": [
    "- タイトル: Bayesian Optimization of Combinatorial Structures\n",
    "- 著者: R. Baptista and M. Poloczek\n",
    "- 書誌情報: https://proceedings.mlr.press/v80/baptista18a.html"
   ]
  },
  {
   "cell_type": "markdown",
   "id": "22fc0d64-bfc8-46c8-bc0e-fb0571ac00b1",
   "metadata": {},
   "source": [
    "## 概要"
   ]
  },
  {
   "cell_type": "markdown",
   "id": "fc627d3c-abaa-41ac-84de-a128e92163d0",
   "metadata": {},
   "source": [
    "本記事では、目的関数 $f: \\mathcal X \\to \\mathbb R$ を最小化する入力 $x^\\ast \\in \\mathcal X$ を見つける問題のうち、目的関数の内部構造が不明で、目的関数の値の計算に時間が生じるような問題を解くことを想定します。"
   ]
  },
  {
   "cell_type": "markdown",
   "id": "5afa127b-9cfe-4895-b355-963684d9a133",
   "metadata": {},
   "source": [
    "$$\n",
    "\\begin{aligned}\n",
    "    & \\mathop{\\rm minimize}\\limits_{x \\in \\mathcal X} && f(x) \\\\\n",
    "    & \\mathop{\\rm where}\n",
    "    &&  \\text{$f$ の内部構造は不明,} \\\\\n",
    "    &&& \\text{$f(x)$ の評価に時間がかかる}\n",
    "\\end{aligned}\n",
    "$$"
   ]
  },
  {
   "cell_type": "markdown",
   "id": "0f762663-2bf7-4f35-ad90-bed8390727ba",
   "metadata": {},
   "source": [
    "目的関数の計算に時間がかかるという性質上、焼きなまし法 (SA, simulated annealing) のように、目的関数の評価を何度も実行するメタヒューリスティクス手法の適用は実用的ではありません。そこで使用されるのがモデルベース最適化 (model-based optimization) です。モデルベース最適化では目的関数の入出力関係を近似する “代理モデル” (surrogate model) と呼ばれる回帰モデル $\\hat f$ を導入し、以下のようなステップを実行します。"
   ]
  },
  {
   "cell_type": "markdown",
   "id": "4b6987c5-be9a-4081-ab38-31712c5bcbcd",
   "metadata": {},
   "source": [
    "1. 代理モデル $\\hat f$ を既知のデータセット $\\mathcal D^{(t-1)}$ を用いて更新する\n",
    "2. 獲得関数 $\\alpha: \\mathcal X \\to \\mathbb R$ を代理モデル $\\hat f$ を用いて生成する\n",
    "3. 評価する点 $x^{(t)}$ を獲得関数を最小化することで得る: $x^{(t)} \\gets \\mathop{\\rm arg~min}_{x \\in \\mathcal X} \\alpha(x)$\n",
    "4. 目的関数の値 $y^{(t)} = f(x^{(t)})$ を得る\n",
    "5. データセットに新しいデータを追加する: $\\mathcal D^{(t)} \\gets \\mathcal D \\cup \\{(x^{(t)}, y^{(t)})\\}$\n",
    "6. ステップ $t$ をインクリメント\n",
    "7. 1.-6.を終了条件に達するまで繰り返す"
   ]
  },
  {
   "cell_type": "markdown",
   "id": "49737680-715e-471c-97f4-4d33da071f2f",
   "metadata": {},
   "source": [
    "本記事では、組合せ最適化問題に対するモデルベース最適化の一手法である、**焼きなまし法を用いた Bayesian optimization of combinatorial structures**、通称 `BOCS-SA` を実装していきます。"
   ]
  },
  {
   "cell_type": "markdown",
   "id": "8af86236-75a8-4daa-abbb-77912b6b1925",
   "metadata": {},
   "source": [
    "なお、今回の実装については論文著者等による実装コード https://github.com/baptistar/BOCS/blob/master/BOCSpy/LinReg.py も一部参考にしていますが、具体的な当該コードを本記事に流用することなどは一切行っていないため、本記事のコードは論文著者等のコードに由来するGPLライセンスには該当しません。"
   ]
  },
  {
   "cell_type": "markdown",
   "id": "ebeb3afd-1969-4278-8787-2fb850c8a2b2",
   "metadata": {},
   "source": [
    "## 環境設定"
   ]
  },
  {
   "cell_type": "markdown",
   "id": "b700d824-46d7-40c6-a9ed-11259bd3455d",
   "metadata": {},
   "source": [
    "### ライブラリのインストール"
   ]
  },
  {
   "cell_type": "code",
   "execution_count": null,
   "id": "a22ff5cf-53d4-4083-80ee-05faa00b9561",
   "metadata": {},
   "outputs": [],
   "source": [
    "!pip install openjij\n",
    "!pip install matplotlib\n",
    "!pip install torch\n",
    "!pip install tqdm"
   ]
  },
  {
   "cell_type": "markdown",
   "id": "aaa9e174-14ed-4fec-909a-45f1e3920cf7",
   "metadata": {},
   "source": [
    "### ライブラリのインポート"
   ]
  },
  {
   "cell_type": "code",
   "execution_count": 2,
   "id": "41b648e2-c32a-4699-a0dd-f56a5377db72",
   "metadata": {},
   "outputs": [],
   "source": [
    "from tqdm.notebook import tqdm\n",
    "import numpy as np\n",
    "import matplotlib.pyplot as plt\n",
    "import openjij as oj\n",
    "from typing import Optional"
   ]
  },
  {
   "cell_type": "markdown",
   "id": "0b27e254-4351-458e-8e3d-5a12c2b9bce9",
   "metadata": {},
   "source": [
    "## 代理モデル"
   ]
  },
  {
   "cell_type": "markdown",
   "id": "d73622a8-ea70-487d-ada9-9d97f76d4a00",
   "metadata": {},
   "source": [
    "BOCSでは、代理モデルとして入力変数間の2次の項までを考慮する多項式回帰モデルを使用します。"
   ]
  },
  {
   "cell_type": "markdown",
   "id": "f7d98ca7-35a5-4a6c-b267-44711aaae9d5",
   "metadata": {},
   "source": [
    "$$\n",
    "\\begin{aligned}\n",
    "    \\hat f(x; w) = w_0 + \\sum_{i=1}^d w_i x_i + \\sum_{i \\lt j} w_{ij} x_i x_j.\n",
    "    &&\n",
    "    x \\in \\{0, 1\\}^{d}\n",
    "\\end{aligned}\n",
    "$$"
   ]
  },
  {
   "cell_type": "markdown",
   "id": "f8eb22b5-0dc9-47fa-86a7-19ee463c946b",
   "metadata": {},
   "source": [
    "入力 $x$ は各成分が $0$ または $1$ の $d$ 次元ベクトルとします。上記のモデルは各パラメータ $b, w$ について1次式であるため、線形回帰モデル"
   ]
  },
  {
   "cell_type": "markdown",
   "id": "61241280-6370-42a5-8d2b-0c9e700e0d6b",
   "metadata": {},
   "source": [
    "$$\n",
    "    \\hat f(\\bm x; \\bm \\beta) = \\bm z^\\top \\bm \\beta\n",
    "$$"
   ]
  },
  {
   "cell_type": "markdown",
   "id": "9bdb139c-339a-4717-b8b7-969ea036ae63",
   "metadata": {},
   "source": [
    "に書き直すことができます。したがってベイズ線形回帰の方法でパラメータ $\\theta$ のベイズ推定を行うことができます。ただし"
   ]
  },
  {
   "cell_type": "markdown",
   "id": "3647f1ac-78e7-4358-8ebd-384490317d5c",
   "metadata": {},
   "source": [
    "$$\n",
    "\\begin{aligned}\n",
    "\\bm z &= [1, x_1, \\dots, x_d, x_1 x_2, \\dots, x_{d-1} x_d]^\\top \\in \\{ 0, 1 \\}^{p}, \\\\\n",
    "\\bm \\beta &= [w_0, w_1, \\dots, w_d, w_{12}, \\dots, w_{(d-1)d}]^\\top \\in \\mathbb R^{p}, \\\\\n",
    "p &= 1 + d + \\frac{d(d-1)}{2}.\n",
    "\\end{aligned}\n",
    "$$"
   ]
  },
  {
   "cell_type": "markdown",
   "id": "a7f1ace4-6b67-4373-b284-1b9c01fa8880",
   "metadata": {},
   "source": [
    "理論上は3次以上の項まで考慮することで表現力を向上させることも可能ですが、実用的ではありません。パラメータの個数 $p$ が代理モデルの次数に対し指数オーダーで増加するので、モデルの学習に必要なサンプル点 $(x,y)$ の個数 $N_{\\rm req} = |\\mathcal D|$ も同様に指数関数的に増加し、さらに学習コストも爆発的に増大してしまうからです。言い換えれば、**表現力とコストはトレードオフの関係にある**と言えます。元論文では2次までの項を考慮するのが最もバランスがよいと主張しているため、ここでもそれに従います。"
   ]
  },
  {
   "cell_type": "markdown",
   "id": "1b404ccd-772f-451f-98bf-238c1fad7c14",
   "metadata": {},
   "source": [
    "パラメータの個数 $p$ は、変数 $x$ の次元 $d$ を用いて"
   ]
  },
  {
   "cell_type": "markdown",
   "id": "248181f2-6d11-4a14-ab9c-41b72df2845e",
   "metadata": {},
   "source": [
    "$$\n",
    "p = 1 + d + \\binom{d}{2} = 1 + d + \\frac{d (d-1)}{2}\n",
    "$$"
   ]
  },
  {
   "cell_type": "markdown",
   "id": "8b0e07c4-b9bf-431f-acf3-e215ed090518",
   "metadata": {},
   "source": [
    "により与えられます。"
   ]
  },
  {
   "cell_type": "markdown",
   "id": "96626346",
   "metadata": {},
   "source": [
    "以上、$p, z$ を作成する関数を準備します。"
   ]
  },
  {
   "cell_type": "code",
   "execution_count": 3,
   "id": "857d7ced-963d-489f-9bf4-020bc3490173",
   "metadata": {},
   "outputs": [],
   "source": [
    "def d_to_p(d: int) -> int:\n",
    "    p = 1 + d + d * (d - 1) // 2\n",
    "    return p\n",
    "\n",
    "\n",
    "def x_to_z(x: np.ndarray) -> np.ndarray:\n",
    "    d = len(x)\n",
    "    p = d_to_p(d)\n",
    "\n",
    "    z = np.zeros(p, dtype=int)\n",
    "\n",
    "    # bias\n",
    "    z[0] = 1\n",
    "\n",
    "    # linear\n",
    "    z[1 : d + 1] = x\n",
    "\n",
    "    # quadratic\n",
    "    i, j = np.triu_indices(d, k=1)\n",
    "    z[d + 1 :] = x[i] * x[j]\n",
    "    return z"
   ]
  },
  {
   "cell_type": "code",
   "execution_count": 4,
   "id": "b2e9ba7b-653a-468b-b9e8-ac5261c67869",
   "metadata": {},
   "outputs": [
    {
     "name": "stdout",
     "output_type": "stream",
     "text": [
      "z:\n",
      " [1 1 1 0 0 1 1 1 1 0 0 1 0 0 1 1 1 1 0 0 0 0 1 1 1 1 0 0 0 0 0 0 0 0 0 0 0\n",
      " 0 0 0 0 1 1 1 0 0 1 1 0 0 1 0 0 0 0 0]\n",
      "----------\n",
      "z_data:\n",
      " [[1 0 0 0 0 0 1 0 1 0 1 0 0 0 0 0 0 0 0 0 0 0 0 0 0 0 0 0 0 0 0 0 0 0 0 0\n",
      "  0 0 0 0 0 0 0 0 0 0 0 1 0 1 0 0 0 0 1 0]\n",
      " [1 1 1 1 0 0 0 1 1 1 0 1 1 0 0 0 1 1 1 0 1 0 0 0 1 1 1 0 0 0 0 1 1 1 0 0\n",
      "  0 0 0 0 0 0 0 0 0 0 0 0 0 0 1 1 0 1 0 0]\n",
      " [1 1 0 0 1 0 0 0 1 0 0 0 0 1 0 0 0 1 0 0 0 0 0 0 0 0 0 0 0 0 0 0 0 0 0 0\n",
      "  0 0 1 0 0 0 0 0 0 0 0 0 0 0 0 0 0 0 0 0]\n",
      " [1 1 0 1 1 0 0 0 1 0 0 0 1 1 0 0 0 1 0 0 0 0 0 0 0 0 0 0 1 0 0 0 1 0 0 0\n",
      "  0 0 1 0 0 0 0 0 0 0 0 0 0 0 0 0 0 0 0 0]\n",
      " [1 1 0 0 0 0 0 1 1 0 1 0 0 0 0 0 1 1 0 1 0 0 0 0 0 0 0 0 0 0 0 0 0 0 0 0\n",
      "  0 0 0 0 0 0 0 0 0 0 0 0 0 0 1 0 1 0 1 0]]\n"
     ]
    }
   ],
   "source": [
    "# TEST\n",
    "\n",
    "x = np.random.choice([0, 1], 10)\n",
    "z = x_to_z(x)\n",
    "print(\"z:\\n\", z)\n",
    "\n",
    "print(\"-\" * 10)\n",
    "\n",
    "x_data = np.random.choice([0, 1], (5, 10))\n",
    "z_data = np.apply_along_axis(x_to_z, 1, x_data)\n",
    "print(\"z_data:\\n\", z_data)"
   ]
  },
  {
   "cell_type": "markdown",
   "id": "c1a596fb-b480-4780-9e91-4bd57625e2a7",
   "metadata": {},
   "source": [
    "以上を代理モデルとしてまとめておきます。"
   ]
  },
  {
   "cell_type": "code",
   "execution_count": 5,
   "id": "79f3081e-635e-4113-a732-5b0d72b78863",
   "metadata": {},
   "outputs": [],
   "source": [
    "class BOCSSurrogateModel:\n",
    "    def __init__(self, num_vars, linear_regressor, remove_duplicate: bool = True):\n",
    "        num_features = d_to_p(num_vars)\n",
    "        coef = np.zeros(num_features, dtype=np.float64)\n",
    "        self.params = {\"coef\": coef}\n",
    "        self.linear_regressor = linear_regressor\n",
    "\n",
    "    def update(self, x_data, y_data):\n",
    "        z_data = np.apply_along_axis(x_to_z, 1, x_data)\n",
    "        self.linear_regressor.fit(z_data, y_data)\n",
    "        self.params[\"coef\"] = self.linear_regressor.coef_"
   ]
  },
  {
   "cell_type": "code",
   "execution_count": 6,
   "id": "8369c7cc-d3af-4479-b5e8-46fe7d266bc5",
   "metadata": {},
   "outputs": [
    {
     "name": "stdout",
     "output_type": "stream",
     "text": [
      "{'coef': array([0., 0., 0., 0., 0., 0., 0., 0., 0., 0., 0., 0., 0., 0., 0., 0., 0.,\n",
      "       0., 0., 0., 0., 0., 0., 0., 0., 0., 0., 0., 0., 0., 0., 0., 0., 0.,\n",
      "       0., 0., 0., 0., 0., 0., 0., 0., 0., 0., 0., 0., 0., 0., 0., 0., 0.,\n",
      "       0., 0., 0., 0., 0., 0., 0., 0., 0., 0., 0., 0., 0., 0., 0., 0., 0.,\n",
      "       0., 0., 0., 0., 0., 0., 0., 0., 0., 0., 0., 0., 0., 0., 0., 0., 0.,\n",
      "       0., 0., 0., 0., 0., 0., 0., 0., 0., 0., 0., 0., 0., 0., 0., 0., 0.,\n",
      "       0., 0., 0., 0., 0., 0., 0., 0., 0., 0., 0., 0., 0., 0., 0., 0., 0.,\n",
      "       0., 0., 0., 0., 0., 0., 0., 0., 0., 0., 0., 0., 0., 0., 0., 0., 0.,\n",
      "       0.])}\n"
     ]
    }
   ],
   "source": [
    "# TEST\n",
    "\n",
    "num_vars = 16\n",
    "linear_regressor = None\n",
    "\n",
    "bocs_surrogate_model = BOCSSurrogateModel(num_vars, linear_regressor)\n",
    "print(bocs_surrogate_model.params)"
   ]
  },
  {
   "cell_type": "markdown",
   "id": "9e84d49c-2624-4a2a-a365-ec27a3a89df3",
   "metadata": {},
   "source": [
    "## Thompson抽出"
   ]
  },
  {
   "cell_type": "markdown",
   "id": "a171203a-322f-4b75-bf48-7247abf74f78",
   "metadata": {},
   "source": [
    "BOCSは **Thompson抽出** (Thompson sampling) と呼ばれる手法の1つです。Thompson抽出は代理モデルがパラメータ $\\theta$ に特徴づけられる関数 $\\hat f(x; \\theta)$ の場合によく使用される手法で、\n",
    "\n",
    "1. パラメータの事後分布 $p(\\tilde \\theta \\mid \\mathcal D)$ を計算\n",
    "2. 事後分布に従うサンプル $\\tilde{\\theta} \\sim p(\\tilde \\theta \\mid \\mathcal D)$ を1つ引く\n",
    "3. サンプルを用いた代理モデル $\\hat f(x; \\tilde \\theta)$ を獲得関数 $\\alpha(x)$ とする\n",
    "\n",
    "というステップにより得られる関数 $\\alpha(x)$ を獲得関数とします。"
   ]
  },
  {
   "cell_type": "markdown",
   "id": "4527db25-7adf-4fc7-9e80-36990798531c",
   "metadata": {},
   "source": [
    "$$\n",
    "\\begin{aligned}\n",
    "    \\alpha(x) = \\hat f(x; \\tilde \\theta) \\quad\n",
    "    \\text{where} \\quad\n",
    "    \\tilde \\theta \\sim p(\\theta \\mid \\mathcal D)\n",
    "\\end{aligned}\n",
    "$$"
   ]
  },
  {
   "cell_type": "markdown",
   "id": "089b52a7",
   "metadata": {},
   "source": [
    "このアルゴリズムは、以下の確率規則に従って新しいデータを評価する点を選択していることになります。\n",
    "\n",
    "$$\n",
    "\\begin{aligned}\n",
    "    P(x \\mid \\mathcal D) = \\int d\\theta~ \\delta\\! \\left( x - \\operatorname*{arg~min}_x \\hat f(x; \\theta) \\right) \n",
    "    (\\theta \\mid \\mathcal D)\n",
    "\\end{aligned}\n",
    "$$"
   ]
  },
  {
   "cell_type": "markdown",
   "id": "9bb97e3b-8fd8-4323-8929-7cffd7051966",
   "metadata": {},
   "source": [
    "Thompson抽出を実装するには、**事後分布からのサンプリング** を行うアルゴリズムが必要です。次節ではBOCSで使用されるベイズ線形回帰による事後分布の推定方法について説明します。"
   ]
  },
  {
   "cell_type": "markdown",
   "id": "a6514927",
   "metadata": {},
   "source": [
    "### ベイズ線形回帰"
   ]
  },
  {
   "cell_type": "markdown",
   "id": "6d1ca453",
   "metadata": {},
   "source": [
    "線形回帰のベイズ的な取り扱い方を説明します。線形回帰は入力 $\\bm x^{(t)} \\in \\mathbb R^{p}$ と出力 $y^{(t)} \\in \\mathbb R$ の関係を次のようにモデル化します。"
   ]
  },
  {
   "cell_type": "markdown",
   "id": "a5907c9f",
   "metadata": {},
   "source": [
    "$$\n",
    "\\begin{aligned}\n",
    "    y^{(t)}\n",
    "    &= \\beta_1 x^{(t)}_1 + \\beta_2 x^{(t)}_2 + \\dots + \\beta_p x^{(t)}_p + \\varepsilon^{(t)} \\\\\n",
    "    &= \\bm x^{(t) \\top} \\bm \\beta + \\varepsilon^{(t)}.\n",
    "\\end{aligned}\n",
    "$$"
   ]
  },
  {
   "cell_type": "markdown",
   "id": "939f6ee5",
   "metadata": {},
   "source": [
    "$\\bm \\beta \\in \\mathbb R^{p}$ は回帰係数、$\\varepsilon^{(t)}$ はノイズです。ノイズには通常、次のような正規分布を仮定します。"
   ]
  },
  {
   "cell_type": "markdown",
   "id": "5c41a954",
   "metadata": {},
   "source": [
    "$$\n",
    "\\begin{aligned}\n",
    "    \\varepsilon^{(t)} \\sim \\mathcal N(0, \\sigma^2).\n",
    "\\end{aligned}\n",
    "$$"
   ]
  },
  {
   "cell_type": "markdown",
   "id": "f1b8867f",
   "metadata": {},
   "source": [
    "これは出力 $y^{(t)}$ が平均 $\\bm x^{(t)\\top} \\bm \\beta$、分散 $\\sigma^2$ の正規分布に従うと仮定していることと等価です。"
   ]
  },
  {
   "cell_type": "markdown",
   "id": "f4d39161",
   "metadata": {},
   "source": [
    "$$\n",
    "\\begin{aligned}\n",
    "    y^{(t)} \\mid \\bm x^{(t)}, \\bm \\beta, \\sigma \\sim \\mathcal N(\\bm x^{(t)\\top} \\bm \\beta, \\sigma^2).\n",
    "\\end{aligned}\n",
    "$$"
   ]
  },
  {
   "cell_type": "markdown",
   "id": "298e78fa",
   "metadata": {},
   "source": [
    "この $y^{(t)}$ が従う確率分布の確率密度関数は次式で与えられます。"
   ]
  },
  {
   "cell_type": "markdown",
   "id": "da26bc01",
   "metadata": {},
   "source": [
    "$$\n",
    "\\begin{aligned}\n",
    "    p(y^{(t)} \\mid \\bm x^{(t)}, \\bm \\beta, \\sigma) = \\frac{1}{\\sqrt{2 \\pi \\sigma^2}} \\exp \\left( -\\frac{1}{2\\sigma^2} (y^{(t)} - \\bm x^{(t) \\top} \\bm \\beta)^2 \\right).\n",
    "\\end{aligned}\n",
    "$$"
   ]
  },
  {
   "cell_type": "markdown",
   "id": "ad4e18b8",
   "metadata": {},
   "source": [
    "行いたいことは、係数 $\\bm \\beta$ と標準偏差 $\\sigma$ をデータ $\\mathcal D = \\{(\\bm x^{(t)}, y^{(t)})\\}_{t=1, \\dots, N}$ をもとに推定することです。ベイズ推定の枠組みでこれを行う1つの方法は「係数 $\\bm \\beta$ と標準偏差 $\\sigma$ の確率分布 $p(\\bm \\beta, \\sigma \\mid \\bm X, \\bm y)$ を求める」ことです。そのために次のベイズの定理を用います。"
   ]
  },
  {
   "cell_type": "markdown",
   "id": "75557170",
   "metadata": {},
   "source": [
    "$$\n",
    "\\begin{aligned}\n",
    "    p(\\bm \\beta, \\sigma \\mid \\bm X, \\bm y)\n",
    "    &= \\frac{p(\\bm y \\mid \\bm X, \\bm \\beta, \\sigma) p(\\bm \\beta, \\sigma)}{p(\\bm y \\mid \\bm X)} \\\\\n",
    "    &\\propto p(\\bm y \\mid \\bm X, \\bm \\beta, \\sigma) p(\\bm \\beta, \\sigma).\n",
    "\\end{aligned}\n",
    "$$"
   ]
  },
  {
   "cell_type": "markdown",
   "id": "37838c16",
   "metadata": {},
   "source": [
    "ただし $\\bm y=[y^{(1)}, \\dots, y^{(N)}]^\\top, \\bm X=[\\bm x^{(1) \\top}, \\dots, \\bm x^{(N) \\top}]^\\top$ です。この式によれば、事前分布 $p(\\bm \\beta, \\sigma)$ を設定し、これにモデルの確率分布 $p(y^{(t)} \\mid \\bm x^{(t)}, \\bm \\beta, \\sigma)$ を掛け、更に定数倍して規格化すれば、パラメータの事後分布 $p(\\bm \\beta, \\sigma \\mid \\bm X, \\bm y)$ が求まります。"
   ]
  },
  {
   "cell_type": "markdown",
   "id": "3c208724-1579-49bb-aeaf-e8b691a60c8c",
   "metadata": {},
   "source": [
    "### 馬蹄分布の定式化"
   ]
  },
  {
   "cell_type": "markdown",
   "id": "3360c952-5db6-4874-a472-6ce45daef153",
   "metadata": {},
   "source": [
    "BOCSでは、スパース性を仮定する馬蹄分布 (horseshoe prior) と呼ばれる事前分布を用います。馬蹄分布の定式化には [Makalic & Schmidt (2016)] による次の定式化を用います。"
   ]
  },
  {
   "cell_type": "markdown",
   "id": "0629d135-71df-48c7-817c-3447f8a76ea1",
   "metadata": {},
   "source": [
    "$$\n",
    "\\begin{aligned}\n",
    "    y \\mid \\bm x, \\bm \\beta, \\sigma\n",
    "        &\\sim \\mathcal N(\\bm x^\\top \\bm \\beta, \\sigma^2), \\\\\n",
    "    \\beta_i \\mid \\sigma, \\lambda_i, \\tau\n",
    "        &\\sim \\mathcal N(0, \\sigma^2 \\tau^2 \\lambda_i^2),\n",
    "        & i=1,\\dots,p, \\\\\n",
    "    \\sigma^2 \\mid a, b\n",
    "        &\\sim \\mathrm{InvGamma}(a, b), \\\\\n",
    "    \\lambda_i\n",
    "        &\\sim \\mathrm{HalfCauchy} (0, 1),\n",
    "        & i=1,\\dots,p, \\\\\n",
    "    \\tau\n",
    "        &\\sim \\mathrm{HalfCauchy} (0, 1).\n",
    "\\end{aligned}\n",
    "$$"
   ]
  },
  {
   "cell_type": "markdown",
   "id": "ed163cbe-7f8f-4f04-a786-0111f0a2ed99",
   "metadata": {},
   "source": [
    "ただし $y \\in \\mathbb R, \\bm x \\in \\mathbb R^p, \\bm \\beta \\in \\mathbb R^p$ です。$\\mathrm{HalfCauchy}(0, 1)$ は位置パラメータ $0$、尺度パラメータ $1$ の **半コーシー分布** と呼ばれる分布で、以下の確率密度関数で表されます。"
   ]
  },
  {
   "cell_type": "markdown",
   "id": "7a68efe5-af46-4540-a1ab-b57556d4f65e",
   "metadata": {},
   "source": [
    "$$\n",
    "    p(x) = \\frac{2}{\\pi} \\frac{1}{1 + x^2}.\n",
    "$$"
   ]
  },
  {
   "cell_type": "markdown",
   "id": "d29063b7-340f-45d6-b4aa-237468d1f6a6",
   "metadata": {},
   "source": [
    "### Gibbsサンプリングの定式化"
   ]
  },
  {
   "cell_type": "markdown",
   "id": "80c5a272-1822-4f9f-b7b3-02ccb94a3928",
   "metadata": {},
   "source": [
    "ベイズの定理に従って事後分布 $p(\\bm \\beta \\mid \\mathcal D)$ を計算します。しかし半コーシー分布 $\\mathrm{HalfCauchy} (0, 1)$ と正規分布 $\\mathcal N(0, \\sigma^2 \\tau^2 \\lambda_i^2)$ は相性が悪く、そのままでは解析的に事後分布を導出することはできません。そこで、[Makalic & Schmidt (2016)] の取扱いに従い、文献 [Wand+ (2011)] に記載されている定理より導かれる以下の補題を利用して、半コーシー分布を逆ガンマ分布に書き換えます。"
   ]
  },
  {
   "cell_type": "markdown",
   "id": "45120178-2ebb-469f-aceb-140f8ba450ff",
   "metadata": {},
   "source": [
    "---\n",
    "\n",
    "**補題 [Wand+ (2011)]** $x$ が半コーシー分布 $\\mathrm{HalfCauchy} (x \\mid 0, a)$ に従うならば、$x^2$ は2段階の階層的な逆ガンマ分布の混合に従う。\n",
    "\n",
    "$$\n",
    "\\begin{aligned}\n",
    "    x^2 \\mid a' &\\sim \\mathrm{InvGamma} \\left( x^2 \\,\\middle|\\, \\frac{1}{2}, \\frac{1}{a'}  \\right), \\\\\n",
    "    a'  \\mid a  &\\sim \\mathrm{InvGamma} \\left( a'  \\,\\middle|\\, \\frac{1}{2}, \\frac{1}{a^2} \\right).\n",
    "\\end{aligned}\n",
    "$$\n",
    "\n",
    "---"
   ]
  },
  {
   "cell_type": "markdown",
   "id": "ac44f3c0-70ff-4c99-ab38-0e9a620e93df",
   "metadata": {},
   "source": [
    "これを用いれば、$\\lambda_i \\sim \\mathrm{HalfCauchy}(0,1)$ という部分は補助変数 $\\nu_i$ を導入することで"
   ]
  },
  {
   "cell_type": "markdown",
   "id": "c9b5bf97-bde2-45c7-884e-82f92e045ea5",
   "metadata": {},
   "source": [
    "$$\n",
    "\\begin{aligned}\n",
    "    \\lambda_i^2 \\mid \\nu_i &\\sim \\mathrm{InvGamma} \\left( \\lambda_i^2 \\,\\middle|\\, \\frac{1}{2}, \\frac{1}{\\nu_i} \\right), \\\\\n",
    "    \\nu_i               &\\sim \\mathrm{InvGamma} \\left( \\nu_i       \\,\\middle|\\, \\frac{1}{2}, 1               \\right)\n",
    "\\end{aligned}\n",
    "$$"
   ]
  },
  {
   "cell_type": "markdown",
   "id": "d4efa876-af38-4c65-95ae-fdfc7922579a",
   "metadata": {},
   "source": [
    "という階層構造に書き直すことができます。$\\tau \\sim \\mathrm{HalfCauchy}(0,1)$ についても同様の書き換えを施すことができ、最終的にすべての条件付き分布が正規分布と逆ガンマ分布の形で書かれます。"
   ]
  },
  {
   "cell_type": "markdown",
   "id": "67db6111-d999-4adf-977c-5aea499a4de0",
   "metadata": {},
   "source": [
    "$$\n",
    "\\begin{aligned}\n",
    "    \\beta_i \\mid \\sigma, \\tau, \\lambda_i\n",
    "    &\\sim \\mathcal{N}(\\beta_i \\mid 0, \\sigma^2 \\tau^2 \\lambda_i^2),\n",
    "    & i &= 1, \\dots, p,\n",
    "    \\\\\n",
    "    \\sigma^2 \\mid a, b\n",
    "    &\\sim \\mathrm{InvGamma} \\left( \\sigma^2 \\,\\middle|\\, a, b \\right),\n",
    "    \\\\\n",
    "    \\lambda_i^2 \\mid \\nu_i\n",
    "    &\\sim \\mathrm{InvGamma} \\left( \\lambda_i^2 \\,\\middle|\\, \\frac{1}{2}, \\frac{1}{\\nu_i} \\right),\n",
    "    & i &= 1, \\dots, p,\n",
    "    \\\\\n",
    "    \\nu_i\n",
    "    &\\sim \\mathrm{InvGamma} \\left( \\nu_i \\,\\middle|\\, \\frac{1}{2}, 1 \\right),\n",
    "    & i &= 1, \\dots, p,\n",
    "    \\\\\n",
    "    \\tau^2 \\mid \\xi\n",
    "    &\\sim \\mathrm{InvGamma} \\left( \\tau^2 \\,\\middle|\\, \\frac{1}{2}, \\frac{1}{\\xi} \\right),\n",
    "    \\\\\n",
    "    \\xi\n",
    "    &\\sim \\mathrm{InvGamma} \\left( \\xi \\,\\middle|\\, \\frac{1}{2}, 1 \\right).\n",
    "\\end{aligned}\n",
    "$$"
   ]
  },
  {
   "cell_type": "markdown",
   "id": "c3a26b7a-ea73-44e9-8f10-109879c78a16",
   "metadata": {},
   "source": [
    "この階層構造から、ベイズの定理で各パラメータの条件付き事後分布が得られます。"
   ]
  },
  {
   "cell_type": "markdown",
   "id": "8e297a2d-0c35-428f-b752-1364fc849b6a",
   "metadata": {},
   "source": [
    "$$\n",
    "\\begin{aligned}\n",
    "    \\bm \\beta \\mid \\bm X, \\bm y, \\bm \\beta, \\sigma, \\bm \\lambda, \\tau\n",
    "    &\\sim \\mathcal{N}(\\bm A^{-1} \\bm X^\\top \\bm y, \\sigma^2 \\bm A^{-1}), \n",
    "\\\\\n",
    "    \\sigma^2 \\mid \\bm X, \\bm y, \\bm \\lambda, \\tau, a, b\n",
    "    &\\sim \\mathrm{InvGamma} \\left( a + \\frac{N}{2}, b + \\frac{\\bm y^\\top (\\bm I_N + \\bm X \\tau^2 \\operatorname{diag}\\{\\lambda_i^2\\} \\bm X^\\top )^{-1} \\bm y}{2} \\right),\n",
    "\\\\\n",
    "    \\lambda_i^2 \\mid \\bm \\beta, \\sigma, \\tau, \\bm \\nu\n",
    "    &\\sim \\mathrm{InvGamma} \\left( 1, \\frac{1}{\\nu_i} + \\frac{1}{2 \\sigma^2} \\frac{\\beta_i^2}{\\tau^2} \\right),\n",
    "    & i &= 1, \\dots, p,\n",
    "\\\\\n",
    "    \\nu_i \\mid \\bm \\lambda\n",
    "    &\\sim \\mathrm{InvGamma} \\left( 1, 1 + \\frac{1}{\\lambda_i^2} \\right),\n",
    "    & i &= 1, \\dots, p,\n",
    "\\\\\n",
    "    \\tau^2 \\mid \\bm \\beta, \\sigma, \\bm \\lambda, \\xi\n",
    "    &\\sim \\mathrm{InvGamma} \\left( \\frac{p + 1}{2}, \\frac{1}{\\xi} + \\frac{1}{2 \\sigma^2} \\sum_{i=1}^p \\frac{\\beta_i^2}{\\lambda_i^2} \\right),\n",
    "\\\\\n",
    "    \\xi \\mid \\tau\n",
    "    &\\sim \\mathrm{InvGamma} \\left( 1, 1 + \\frac{1}{\\tau^2} \\right),\n",
    "\\end{aligned}\n",
    "$$"
   ]
  },
  {
   "cell_type": "markdown",
   "id": "3a991bb6-9b4c-45fc-879d-910b78eed7e2",
   "metadata": {},
   "source": [
    "ただし"
   ]
  },
  {
   "cell_type": "markdown",
   "id": "66f62e8b-81c6-4ba3-af1d-544ab6d38df7",
   "metadata": {},
   "source": [
    "$$\n",
    "\\begin{aligned}\n",
    "  \\bm X &=\n",
    "  \\begin{bmatrix}\n",
    "    \\bm x^{(1) \\top} \\\\ \\bm x^{(2) \\top} \\\\ \\vdots \\\\ \\bm x^{(N) \\top}\n",
    "  \\end{bmatrix} \\in \\mathbb R^{N \\times p},\n",
    "  \\\\\n",
    "  y &=\n",
    "  \\begin{bmatrix}\n",
    "    y^{(1)} \\\\ y^{(2)} \\\\ \\vdots \\\\ y^{(N)}\n",
    "  \\end{bmatrix} \\in \\mathbb R^{N},\n",
    "  \\\\\n",
    "  \\bm A &= \\bm X^\\top \\bm X + \\frac{1}{\\tau^2} \\operatorname{diag}\\left\\{ \\frac{1}{\\lambda_i^2} \\right\\}\n",
    "\\end{aligned}\n",
    "$$"
   ]
  },
  {
   "cell_type": "markdown",
   "id": "a4e556ee-d8c6-4b39-867d-7dda2ba991ca",
   "metadata": {},
   "source": [
    "以上導出された各パラメータの条件付き事後分布から1つ1つパラメータをサンプリングしていくGibbsサンプリングと呼ばれる方法により、事後分布に従うサンプルを生成することが可能です。"
   ]
  },
  {
   "cell_type": "code",
   "execution_count": 7,
   "id": "1f890a9e",
   "metadata": {},
   "outputs": [],
   "source": [
    "def sample_from_inv_gamma(shape, scale):\n",
    "    return 1.0 / np.random.gamma(shape, 1.0 / scale)\n",
    "\n",
    "\n",
    "def sample_coef(sigma2, lamb2, tau2, X, y):\n",
    "    Phi = X / np.sqrt(sigma2)\n",
    "    alpha = y / np.sqrt(sigma2)\n",
    "    delta = tau2 * lamb2 * sigma2\n",
    "\n",
    "    N, p = Phi.shape\n",
    "    u = np.random.normal(0.0, np.sqrt(delta), p)\n",
    "    d = np.random.normal(0.0, 1.0, N)\n",
    "    v = Phi @ u + d\n",
    "    try:\n",
    "        w = np.linalg.solve((delta * Phi) @ Phi.T + np.eye(N), alpha - v)\n",
    "    except np.linalg.LinAlgError:\n",
    "        w = np.linalg.lstsq((delta * Phi) @ Phi.T + np.eye(N), alpha - v, rcond=None)[0]\n",
    "    coef_new = u + (delta * Phi).T @ w\n",
    "\n",
    "    return coef_new\n",
    "\n",
    "\n",
    "def sample_sigma2(lamb2, tau2, X, y, a, b):\n",
    "    N, p = X.shape\n",
    "    shape = a + N / 2\n",
    "\n",
    "    XDX_In = (tau2 * lamb2 * X) @ X.T + np.eye(N)\n",
    "    scale = b + y @ np.linalg.solve(XDX_In, y) / 2\n",
    "\n",
    "    sigma2_new = sample_from_inv_gamma(shape, scale)\n",
    "    return sigma2_new\n",
    "\n",
    "\n",
    "def sample_lamb2(coef, sigma2, lamb2, tau2):\n",
    "    shape = 1.0\n",
    "    scale = 1.0 + 1.0 / lamb2\n",
    "    nu = sample_from_inv_gamma(shape, scale)\n",
    "\n",
    "    shape = 1.0\n",
    "    scale = 1.0 / nu + coef**2 / tau2 / sigma2 / 2\n",
    "    lamb2_new = sample_from_inv_gamma(shape, scale)\n",
    "    return lamb2_new\n",
    "\n",
    "\n",
    "def sample_tau2(coef, sigma2, lamb2, tau2):\n",
    "    shape = 1.0\n",
    "    scale = 1.0 + 1.0 / tau2\n",
    "    xi = sample_from_inv_gamma(shape, scale)\n",
    "\n",
    "    p = len(coef)\n",
    "    shape = (p + 1) / 2\n",
    "    scale = 1.0 / xi + np.sum(coef**2 / lamb2) / sigma2 / 2\n",
    "    tau2_new = sample_from_inv_gamma(shape, scale)\n",
    "    return tau2_new"
   ]
  },
  {
   "cell_type": "markdown",
   "id": "363dc4c9-2047-4879-87aa-3003c0e8df67",
   "metadata": {},
   "source": [
    "こうして作成された各サンプリングの関数をまとめてループさせます。"
   ]
  },
  {
   "cell_type": "code",
   "execution_count": 8,
   "id": "1221015b-3a18-428d-b95a-9c38cf22aa92",
   "metadata": {},
   "outputs": [],
   "source": [
    "def markov_transition(\n",
    "    X: np.ndarray,\n",
    "    y: np.ndarray,\n",
    "    coef: np.ndarray,\n",
    "    sigma2: float,\n",
    "    lamb2: float,\n",
    "    tau2: float,\n",
    "    a_sigma2: float,\n",
    "    b_sigma2: float,\n",
    "):\n",
    "    tau2_new = sample_tau2(coef, sigma2, lamb2, tau2)\n",
    "    sigma2_new = sample_sigma2(lamb2, tau2_new, X, y, a_sigma2, b_sigma2)\n",
    "    coef_new = sample_coef(sigma2_new, lamb2, tau2_new, X, y)\n",
    "    lamb2 = sample_lamb2(coef_new, sigma2_new, lamb2, tau2_new)\n",
    "\n",
    "    return coef_new, sigma2_new, lamb2, tau2_new\n",
    "\n",
    "\n",
    "def horseshoe_gibbs_sampling(\n",
    "    X,\n",
    "    y,\n",
    "    coef,\n",
    "    sigma2,\n",
    "    lamb2,\n",
    "    tau2,\n",
    "    a_sigma2,\n",
    "    b_sigma2,\n",
    "    max_iter,\n",
    "    show_progress_bar: bool,\n",
    "):\n",
    "    coefs: np.ndarray = np.zeros((max_iter, len(coef)))\n",
    "    sigma2s: np.ndarray = np.zeros(max_iter)\n",
    "    lamb2s: np.ndarray = np.zeros((max_iter, len(coef)))\n",
    "    tau2s: np.ndarray = np.zeros(max_iter)\n",
    "\n",
    "    if show_progress_bar:\n",
    "        iterator = tqdm(range(max_iter))\n",
    "    else:\n",
    "        iterator = range(max_iter)\n",
    "    for mcs in iterator:\n",
    "        coef, sigma2, lamb2, tau2 = markov_transition(\n",
    "            X, y, coef, sigma2, lamb2, tau2, a_sigma2, b_sigma2\n",
    "        )\n",
    "\n",
    "        coefs[mcs] = coef\n",
    "        sigma2s[mcs] = sigma2\n",
    "        lamb2s[mcs] = lamb2\n",
    "        tau2s[mcs] = tau2\n",
    "\n",
    "    return coefs, sigma2s, lamb2s, tau2s"
   ]
  },
  {
   "cell_type": "code",
   "execution_count": 9,
   "id": "42247312-f411-443f-946e-6b88b732532c",
   "metadata": {},
   "outputs": [],
   "source": [
    "class HorseshoeGibbs:\n",
    "    def __init__(self, max_iter: int = 50, warm_start: bool = True, show_progress_bar: bool = False):\n",
    "        self.max_iter = max_iter\n",
    "        self.warm_start = warm_start\n",
    "\n",
    "        self.coef_ = None\n",
    "        self.sigma2_ = None\n",
    "        self.lamb2_ = None\n",
    "        self.tau2_ = None\n",
    "        self.hyperparams = {\n",
    "            \"a_sigma2\": 0.5,\n",
    "            \"b_sigma2\": 0.5,\n",
    "        }\n",
    "        self.config = {\n",
    "            \"show_progress_bar\": show_progress_bar,\n",
    "        }\n",
    "        self.is_initilized = False\n",
    "\n",
    "    def initialize_params(self, num_features):\n",
    "        self.coef_ = np.zeros(num_features, dtype=np.float64)\n",
    "        self.sigma2_ = 1.0\n",
    "        self.lamb2_ = np.random.uniform(0.0, 1.0, num_features).astype(np.float64)\n",
    "        self.tau2_ = np.random.uniform(0.0, 1.0)\n",
    "        self.is_initilized = True\n",
    "\n",
    "    def fit(\n",
    "        self,\n",
    "        X: np.ndarray,\n",
    "        y: np.ndarray,\n",
    "        return_samples = False,\n",
    "    ):\n",
    "        if not self.is_initilized or not self.warm_start:\n",
    "            self.initialize_params(X.shape[1])\n",
    "\n",
    "        coef = self.coef_\n",
    "        sigma2 = self.sigma2_\n",
    "        lamb2 = self.lamb2_\n",
    "        tau2 = self.tau2_\n",
    "\n",
    "        coefs, sigma2s, lamb2s, tau2s = horseshoe_gibbs_sampling(\n",
    "            X,\n",
    "            y,\n",
    "            coef,\n",
    "            sigma2,\n",
    "            lamb2,\n",
    "            tau2,\n",
    "            self.hyperparams[\"a_sigma2\"],\n",
    "            self.hyperparams[\"b_sigma2\"],\n",
    "            self.max_iter,\n",
    "            self.config[\"show_progress_bar\"],\n",
    "        )\n",
    "\n",
    "        self.coef_ = coefs[-1]\n",
    "        self.sigma2_ = sigma2s[-1]\n",
    "        self.lamb2_ = lamb2s[-1]\n",
    "        self.tau2_ = tau2s[-1]\n",
    "\n",
    "        if return_samples:\n",
    "            return coefs, sigma2s, lamb2s, tau2s"
   ]
  },
  {
   "cell_type": "code",
   "execution_count": 10,
   "id": "c7561f5b-795d-4839-a337-27d92bb7568d",
   "metadata": {
    "scrolled": true
   },
   "outputs": [
    {
     "data": {
      "application/vnd.jupyter.widget-view+json": {
       "model_id": "4fc2e38e50e0435e9b609112b5fa3766",
       "version_major": 2,
       "version_minor": 0
      },
      "text/plain": [
       "  0%|          | 0/400 [00:00<?, ?it/s]"
      ]
     },
     "metadata": {},
     "output_type": "display_data"
    },
    {
     "data": {
      "image/png": "[encoded data removed]",
      "text/plain": [
       "<Figure size 900x900 with 4 Axes>"
      ]
     },
     "metadata": {},
     "output_type": "display_data"
    }
   ],
   "source": [
    "# TEST\n",
    "num_features = 50\n",
    "num_samples = 50\n",
    "\n",
    "coef_raw = np.random.normal(0, 10, size=num_features)\n",
    "coef_mask = np.random.choice([0, 1], size=num_features)\n",
    "coef_true = coef_raw * coef_mask\n",
    "\n",
    "x_data = np.random.choice([0, 1], size=(num_samples, num_features))\n",
    "y_data = x_data @ coef_true + np.random.normal(0, 0.1, size=num_samples)\n",
    "\n",
    "horseshoe = HorseshoeGibbs(max_iter=400, show_progress_bar=True)\n",
    "coefs, sigma2s, lamb2s, tau2s = horseshoe.fit(x_data, y_data, return_samples=True)\n",
    "\n",
    "fig, axes = plt.subplots(2, 2, figsize=(6,6), dpi=150)\n",
    "axes[0][0].plot(coefs)\n",
    "axes[0][0].set_title(r\"$\\beta$\")\n",
    "axes[0][1].plot(sigma2s)\n",
    "axes[0][1].set_yscale(\"log\")\n",
    "axes[0][1].set_title(r\"$\\sigma^2$\")\n",
    "axes[1][0].plot(lamb2s)\n",
    "axes[1][0].set_yscale(\"log\")\n",
    "axes[1][0].set_title(r\"$\\lambda^2$\")\n",
    "axes[1][1].plot(tau2s)\n",
    "axes[1][1].set_yscale(\"log\")\n",
    "axes[1][1].set_title(r\"$\\tau^2$\")\n",
    "fig.tight_layout()"
   ]
  },
  {
   "cell_type": "markdown",
   "id": "901fc3f2-2924-4a0b-a7c4-0e73b8c8f603",
   "metadata": {},
   "source": [
    "### 多変量正規分布からの効率的なサンプリング"
   ]
  },
  {
   "cell_type": "markdown",
   "id": "f1d70bee-cd0c-4742-86d3-a47f82b51bd7",
   "metadata": {},
   "source": [
    "上述のGibbsサンプリングにおいてボトルネックとなるのが $\\bm \\beta \\mid \\mathcal D, \\bm \\beta \\setminus \\{\\theta\\}$ のサンプルで、この部分は (1) 逆行列 $A^{-1}$ の計算、(2)多変量正規分布 $\\mathcal{N}(A^{-1} X^\\top y, \\sigma^2 A^{-1})$ からのサンプリング、のいずれも $\\mathcal O(p^3) = \\mathcal O(d^6)$ もの時間計算量を要求します。この部分を高速化するために、先程のコードでは [Bhattacharya+ (2016)] による以下のアルゴリズムを使用しています。"
   ]
  },
  {
   "cell_type": "markdown",
   "id": "9bfa014b-a09b-4e34-82b9-d87c314d653c",
   "metadata": {},
   "source": [
    "---\n",
    "\n",
    "**アルゴリズム [Bhattacharya+ (2016)]**: 以下の多変量正規分布を考える。"
   ]
  },
  {
   "cell_type": "markdown",
   "id": "2c7fd161-a205-40cc-ada6-4cbf2dd244cf",
   "metadata": {},
   "source": [
    "$$\n",
    "\\begin{aligned}\n",
    "    \\bm \\beta \\sim \\mathcal N(m, V)\n",
    "\\end{aligned}\n",
    "$$"
   ]
  },
  {
   "cell_type": "markdown",
   "id": "40f05b6c-32e8-412c-8fa5-74b08bba8802",
   "metadata": {},
   "source": [
    "ただし"
   ]
  },
  {
   "cell_type": "markdown",
   "id": "f29e057c-875a-42ac-a0e2-036c7e8b2779",
   "metadata": {},
   "source": [
    "$$\n",
    "\\begin{aligned}\n",
    "    m &= V \\Phi^\\top \\alpha && \\in \\mathbb{R}^{p}, \\\\\n",
    "    V &= \\left( \\Phi^\\top \\Phi + \\Delta^{-1} \\right)^{-1} && \\in \\mathbb{R}^{p \\times p}\n",
    "\\end{aligned}\n",
    "$$"
   ]
  },
  {
   "cell_type": "markdown",
   "id": "b6975edd-8ee9-4d95-9b35-8788e1fcf515",
   "metadata": {},
   "source": [
    "であり、$\\Phi \\in \\mathbb R^{N \\times p}$、$\\alpha \\in \\mathbb R^N$、$\\Delta \\in \\mathbb R^{p \\times p}$、さらに $\\Delta$ は正定値行列である。"
   ]
  },
  {
   "cell_type": "markdown",
   "id": "d417f2f2-8639-41ef-95c8-47c8f8825e5e",
   "metadata": {},
   "source": [
    "この分布に従うサンプル $\\bm \\beta \\in \\mathbb R^p$ は、以下の方法により生成可能である。"
   ]
  },
  {
   "cell_type": "markdown",
   "id": "a3271995-3d03-461b-a398-4fb04f0686e4",
   "metadata": {},
   "source": [
    "1. $u \\in \\mathbb R^p$ を多変量正規分布 $\\mathcal N(0, \\Delta)$ からサンプルする\n",
    "2. $v \\in \\mathbb R^N$ を多変量正規分布 $\\mathcal N(\\Phi u, I)$ からサンプルする\n",
    "3. 線形方程式 $(\\Phi \\Delta \\Phi^\\top + I) w = (\\alpha - v)$ を $w$ について解く\n",
    "4. $\\bm \\beta = u + \\Delta \\Phi^\\top w$ を計算する\n",
    "\n",
    "---"
   ]
  },
  {
   "cell_type": "markdown",
   "id": "59b695bc-c02d-4e1e-98e5-60caf885d217",
   "metadata": {},
   "source": [
    "アルゴリズムの正当性はSherman–Morrison–Woodburyの公式により示されます。"
   ]
  },
  {
   "cell_type": "markdown",
   "id": "09e4fbb1-77ac-4541-9a76-6764e864ec36",
   "metadata": {},
   "source": [
    "このアルゴリズムに $\\bm \\beta \\mid \\cdot \\sim \\mathcal{N}(\\bm A^{-1} \\bm X^\\top \\bm y, \\sigma^2 \\bm A^{-1})$ を当てはめると、"
   ]
  },
  {
   "cell_type": "markdown",
   "id": "16e15d64-398f-4e7b-80f6-ccf0d2c9cb90",
   "metadata": {},
   "source": [
    "$$\n",
    "\\begin{aligned}\n",
    "    \\Phi = \\frac{X}{\\sigma}, \\quad\n",
    "    \\alpha = \\frac{y}{\\sigma}, \\quad\n",
    "    \\Delta = \\mathop{\\rm diag} \\left\\{ \\tau_i^2 \\lambda^2 \\sigma^2 \\right\\}\n",
    "\\end{aligned}\n",
    "$$"
   ]
  },
  {
   "cell_type": "markdown",
   "id": "e53b0896-f145-4965-85c2-a1f45cd79c53",
   "metadata": {},
   "source": [
    "となります。"
   ]
  },
  {
   "cell_type": "markdown",
   "id": "c5e32582-668b-423b-a687-37e15db21fd1",
   "metadata": {},
   "source": [
    "以上のアルゴリズムにおいて、最大のボトルネックとなるのは線形方程式を解く部分です。詳細は省略しますが、行列 $\\Delta$ がスパースな場合には $\\mathcal O(p N^2)$ が、$\\Delta$ がスパースでない場合には $\\mathcal O(p^2 N)$ が支配的になります。今回の設定ではいずれにせよ $\\mathcal O(p^3)$ に比べれば $p$ への依存性が小さくなることが確認できます。"
   ]
  },
  {
   "cell_type": "markdown",
   "id": "bf0d9d2d-6795-4870-ae1c-b89d1a98b065",
   "metadata": {},
   "source": [
    "`sample_theta()` 関数では、以上のロジックを用いてサンプリングを高速化するよう工夫しています。"
   ]
  },
  {
   "cell_type": "markdown",
   "id": "a72f3796-edbc-4dce-a55f-f8908baf4c66",
   "metadata": {},
   "source": [
    "### 獲得関数の最適化"
   ]
  },
  {
   "cell_type": "markdown",
   "id": "9c90580c-d91e-4039-afa8-26f52f3ce93b",
   "metadata": {},
   "source": [
    "得られたサンプル $\\tilde{\\bm \\beta} \\sim p(\\bm \\beta | \\mathcal D)$ を用いた2次多項式モデル $\\alpha(\\bm x) = \\hat f(\\bm x; \\tilde{\\bm \\beta})$ を最小化する入力 $x^{(t+1)} = \\mathop{\\rm arg~min}_x \\alpha(x)$ が、次に入力するサンプルとなります。ここからは、この入力を探索するロジックを作成します。"
   ]
  },
  {
   "cell_type": "markdown",
   "id": "b37323f2-401c-47ea-9db4-2cc3a6f6c6cd",
   "metadata": {},
   "source": [
    "2次多項式モデルが、次式で表されるようなQUBO (quadratic unconstrained binary optimization, 二次無制約二値最適化問題) 形式に書き直せる点に注目します。"
   ]
  },
  {
   "cell_type": "markdown",
   "id": "6a9b63a3-0fa8-4ef9-a4c1-4fa4e615ae72",
   "metadata": {},
   "source": [
    "$$\n",
    "\\begin{aligned}\n",
    "    \\mathop{\\rm minimize}\\limits_{\\bm x \\in \\{0, 1\\}^d} \\quad \\bm x^\\top \\bm Q \\bm x\n",
    "\\end{aligned}\n",
    "$$"
   ]
  },
  {
   "cell_type": "markdown",
   "id": "5edacc12-9913-4dd7-9ecc-fe39de20b1dd",
   "metadata": {},
   "source": [
    "このことを用いて回帰係数をQUBO行列に変換し、焼きなまし法 (SA) で低エネルギー状態をサンプルすることで次の入力を決定します。"
   ]
  },
  {
   "cell_type": "markdown",
   "id": "d953c409-e7cd-4a4d-900f-dc14d71ab5ae",
   "metadata": {},
   "source": [
    "SAによるサンプリングは `openjij` による実装を使用します。"
   ]
  },
  {
   "cell_type": "code",
   "execution_count": 11,
   "id": "019d4a70-f465-4cb4-b0ef-8ae216ace1a5",
   "metadata": {},
   "outputs": [],
   "source": [
    "def calc_num_vars_from_num_features(num_features: int) -> int:\n",
    "    return int((-1 + np.sqrt(8 * num_features - 7)) // 2)\n",
    "\n",
    "\n",
    "def calc_Q_from_coef(coef: np.ndarray) -> np.ndarray:\n",
    "    num_features = len(coef)\n",
    "    num_vars = calc_num_vars_from_num_features(num_features)\n",
    "    Q = np.zeros((num_vars, num_vars))\n",
    "    i, j = np.diag_indices(num_vars)\n",
    "    Q[i, j] = coef[1 : num_vars + 1]\n",
    "    i, j = np.triu_indices(num_vars, k=1)\n",
    "    Q[i, j] = coef[num_vars + 1 :]\n",
    "    return Q\n",
    "\n",
    "\n",
    "class BOCSAcquisitionFunction:\n",
    "    def __init__(self, optimizer: oj.SASampler.sample_qubo):\n",
    "        self.optimizer = optimizer\n",
    "\n",
    "    def build(self, surrogate_model):\n",
    "        coef = surrogate_model.params[\"coef\"]\n",
    "        Q = calc_Q_from_coef(coef)\n",
    "        self.Q = Q\n",
    "\n",
    "    def optimize(self) -> np.ndarray:\n",
    "        response = self.optimizer(self.Q)\n",
    "        optimal_x = np.array(list(response.first.sample.values()), dtype=int)\n",
    "        return optimal_x"
   ]
  },
  {
   "cell_type": "code",
   "execution_count": 12,
   "id": "ea430e44-9558-4725-adfb-b2fd7c8774e7",
   "metadata": {},
   "outputs": [
    {
     "name": "stdout",
     "output_type": "stream",
     "text": [
      "x_next: [0 1 0 1 1 0 0 0 1 0]\n",
      "y_next: -19.367115987530514\n",
      "similarity: 0.9999814907528135\n"
     ]
    }
   ],
   "source": [
    "# TEST 真のQ_trueと推定されたQの類似度を計算\n",
    "\n",
    "num_vars = 10\n",
    "num_samples = 250\n",
    "\n",
    "Q_true = np.triu(np.random.normal(0, 10, size=(num_vars, num_vars)))\n",
    "x_data = np.random.choice([0, 1], size=(num_samples, num_vars))\n",
    "y_data = np.einsum(\"di,dj,ij->d\", x_data, x_data, Q_true) + np.random.normal(\n",
    "    0, 0.1, size=num_samples\n",
    ")\n",
    "\n",
    "horseshoe_linear_regressor = HorseshoeGibbs(max_iter=20, show_progress_bar=False)\n",
    "bocs_surrogate_model = BOCSSurrogateModel(\n",
    "    num_vars, linear_regressor=horseshoe_linear_regressor\n",
    ")\n",
    "bocs_acquis_func = BOCSAcquisitionFunction(oj.SASampler().sample_qubo)\n",
    "\n",
    "bocs_surrogate_model.update(x_data, y_data)\n",
    "\n",
    "bocs_acquis_func.build(bocs_surrogate_model)\n",
    "x_next = bocs_acquis_func.optimize()\n",
    "y_next = x_next @ Q_true @ x_next\n",
    "\n",
    "print(\"x_next:\", x_next)\n",
    "print(\"y_next:\", y_next)\n",
    "print(\n",
    "    \"similarity:\",\n",
    "    np.sum(Q_true * bocs_acquis_func.Q)\n",
    "    / np.sqrt(np.sum(Q_true**2) * np.sum(bocs_acquis_func.Q**2)),\n",
    ")"
   ]
  },
  {
   "cell_type": "markdown",
   "id": "6c89bed9-3254-422e-b217-beccbfc65bb3",
   "metadata": {},
   "source": [
    "## 実験"
   ]
  },
  {
   "cell_type": "markdown",
   "id": "68e23510-945b-4308-9aa8-aae493ec5b45",
   "metadata": {
    "jp-MarkdownHeadingCollapsed": true
   },
   "source": [
    "以上で `BOCS-SA` に必要な機能を準備できたので、いくつかの問題を作成してテストを行いましょう。"
   ]
  },
  {
   "cell_type": "markdown",
   "id": "acee4cd3-22e3-48eb-86f5-7b81c81b2da3",
   "metadata": {},
   "source": [
    "### RandomQUBO"
   ]
  },
  {
   "cell_type": "markdown",
   "id": "a84ce9e9-04c3-4bf6-a222-3ff78463a3d3",
   "metadata": {
    "jp-MarkdownHeadingCollapsed": true
   },
   "source": [
    "まず、簡単な例題として、ランダムに生成されたQUBO形式の目的関数の最適解を探索する問題を取り扱います。"
   ]
  },
  {
   "cell_type": "code",
   "execution_count": 13,
   "id": "4ba8a026-5581-4817-a19f-289b6d8b3762",
   "metadata": {},
   "outputs": [],
   "source": [
    "class RandomQUBO:\n",
    "    def __init__(\n",
    "        self, num_vars, noise_variance: float = 0.0, seed: Optional[int] = None\n",
    "    ):\n",
    "        self.noise_variance = noise_variance\n",
    "        self.rng = np.random.default_rng(seed)\n",
    "        self.Q = self.rng.normal(0, 1, size=(num_vars, num_vars))\n",
    "\n",
    "    def energy(self, x):\n",
    "        return x @ self.Q @ x\n",
    "\n",
    "    def __call__(self, x):\n",
    "        return self.energy(x) + self.rng.normal(0, np.sqrt(self.noise_variance))"
   ]
  },
  {
   "cell_type": "markdown",
   "id": "233d8069-4375-47cc-9135-2079895c029c",
   "metadata": {
    "jp-MarkdownHeadingCollapsed": true
   },
   "source": [
    "SAによりこのモデルの最小化問題の最適解を探索します。"
   ]
  },
  {
   "cell_type": "code",
   "execution_count": 14,
   "id": "90bde248-e09c-47d4-a596-1a7d03b1ee06",
   "metadata": {},
   "outputs": [
    {
     "name": "stdout",
     "output_type": "stream",
     "text": [
      "   0  1  2  3  4  5  6  7  8  9 10 11 12 13 14 15     energy num_oc.\n",
      "0  1  1  0  0  0  0  1  0  0  1  1  1  1  1  1  1 -25.135564       1\n",
      "1  1  1  0  0  0  0  1  0  0  1  1  1  1  1  1  1 -25.135564       1\n",
      "2  1  1  0  0  0  0  1  0  0  1  1  1  1  1  1  1 -25.135564       1\n",
      "3  1  1  0  0  0  0  1  0  0  1  1  1  1  1  1  1 -25.135564       1\n",
      "4  1  1  0  0  0  0  1  0  0  1  1  1  1  1  1  1 -25.135564       1\n",
      "5  1  1  0  0  0  0  1  0  0  1  1  1  1  1  1  1 -25.135564       1\n",
      "6  1  1  0  0  0  0  1  0  0  1  1  1  1  1  1  1 -25.135564       1\n",
      "7  1  1  0  0  0  0  1  0  0  1  1  1  1  1  1  1 -25.135564       1\n",
      "8  1  1  0  0  0  0  1  0  0  1  1  1  1  1  1  1 -25.135564       1\n",
      "9  1  1  0  0  0  0  1  0  0  1  1  1  1  1  1  1 -25.135564       1\n",
      "['BINARY', 10 rows, 10 samples, 16 variables]\n",
      "Approximate groudstate: [1, 1, 0, 0, 0, 0, 1, 0, 0, 1, 1, 1, 1, 1, 1, 1] -25.13556376452084\n"
     ]
    }
   ],
   "source": [
    "# TEST\n",
    "\n",
    "seed = 0\n",
    "rng = np.random.default_rng(seed)\n",
    "\n",
    "num_vars = 16\n",
    "num_init_samples = 5\n",
    "noise_variance = 0.1\n",
    "\n",
    "random_qubo = RandomQUBO(num_vars, noise_variance=0.1, seed=seed)\n",
    "Q = random_qubo.Q\n",
    "\n",
    "response = oj.SASampler().sample_qubo(Q, num_reads=10)\n",
    "print(response)\n",
    "\n",
    "GS_energy = response.first.energy\n",
    "GS_sample = list(response.first.sample.values())\n",
    "print(\"Approximate groudstate:\", GS_sample, GS_energy)"
   ]
  },
  {
   "cell_type": "markdown",
   "id": "c956148f-abf7-4594-ae29-9820a0eceeae",
   "metadata": {
    "jp-MarkdownHeadingCollapsed": true
   },
   "source": [
    "以上の目的関数と、代理モデル、獲得関数、ソルバーを指定し、ベイズ最適化を実行します。"
   ]
  },
  {
   "cell_type": "code",
   "execution_count": 15,
   "id": "49fdf8a8-efe2-41c9-89bb-7eaf4b455d86",
   "metadata": {
    "scrolled": true
   },
   "outputs": [
    {
     "data": {
      "application/vnd.jupyter.widget-view+json": {
       "model_id": "8599d50756104c2286bec91555520044",
       "version_major": 2,
       "version_minor": 0
      },
      "text/plain": [
       "  0%|          | 0/120 [00:00<?, ?it/s]"
      ]
     },
     "metadata": {},
     "output_type": "display_data"
    },
    {
     "name": "stdout",
     "output_type": "stream",
     "text": [
      "iteration    0: y_best =  0.989: x_next = [1 0 1 1 0 0 0 1 1 1 0 0 1 1 1 1]\n",
      "iteration   10: y_best =  -16.5: x_next = [0 1 0 1 1 0 1 0 0 1 1 1 1 0 1 1]\n",
      "iteration   20: y_best =  -23.6: x_next = [1 1 0 1 0 0 1 0 0 1 1 1 1 1 1 1]\n",
      "iteration   30: y_best =  -25.1: x_next = [1 1 0 0 0 0 1 0 0 1 1 1 1 1 1 1]\n",
      "iteration   40: y_best =  -25.1: x_next = [1 1 0 0 0 0 1 0 0 1 1 1 1 1 1 1]\n",
      "iteration   50: y_best =  -25.1: x_next = [1 1 0 0 0 0 1 0 0 1 1 1 1 1 1 1]\n",
      "iteration   60: y_best =  -25.1: x_next = [1 1 0 0 0 0 1 0 0 1 1 1 1 1 1 1]\n",
      "iteration   70: y_best =  -25.1: x_next = [1 1 0 0 0 0 1 0 0 1 1 1 1 1 1 1]\n",
      "iteration   80: y_best =  -25.1: x_next = [1 1 0 0 0 0 1 0 0 1 1 1 1 1 1 1]\n",
      "iteration   90: y_best =  -25.1: x_next = [1 1 0 0 1 0 1 0 0 1 1 1 1 1 1 1]\n",
      "iteration  100: y_best =  -25.1: x_next = [1 1 0 0 0 0 1 0 0 1 1 1 1 1 1 1]\n",
      "iteration  110: y_best =  -25.1: x_next = [1 1 0 0 0 0 1 0 0 1 1 1 1 1 1 1]\n"
     ]
    }
   ],
   "source": [
    "surrogate_model = BOCSSurrogateModel(\n",
    "    num_vars, linear_regressor=HorseshoeGibbs(max_iter=10)\n",
    ")\n",
    "acquisition_function = BOCSAcquisitionFunction(oj.SASampler().sample_qubo)\n",
    "\n",
    "X = rng.choice([0, 1], size=(num_init_samples, num_vars))\n",
    "y = np.array([random_qubo(x) for x in X])\n",
    "\n",
    "# bayesian optimization loop\n",
    "y_best = np.inf\n",
    "for i in tqdm(range(120)):\n",
    "    surrogate_model.update(X, y)\n",
    "    acquisition_function.build(surrogate_model)\n",
    "    x_next = acquisition_function.optimize()\n",
    "    y_next = random_qubo(x_next)  # 関数の “観測値” を記録\n",
    "\n",
    "    X = np.vstack([X, x_next])\n",
    "    y = np.hstack([y, y_next])\n",
    "\n",
    "    y_best = min(y_best, random_qubo.energy(x_next))  # 関数の真の値を記録\n",
    "\n",
    "    if i % 10 == 0:\n",
    "        tqdm.write(f\"iteration {i:4}: y_best = {y_best:6.3}: x_next = {x_next}\")"
   ]
  },
  {
   "cell_type": "markdown",
   "id": "dbacbfd2-2663-4082-ad7f-5496a2eb570f",
   "metadata": {
    "scrolled": true
   },
   "source": [
    "得られた結果をプロットしてみましょう。"
   ]
  },
  {
   "cell_type": "code",
   "execution_count": 16,
   "id": "944c51e4-7a82-4190-b1fd-2301095b4c29",
   "metadata": {},
   "outputs": [
    {
     "data": {
      "image/png": "[encoded data removed]",
      "text/plain": [
       "<Figure size 600x400 with 1 Axes>"
      ]
     },
     "metadata": {},
     "output_type": "display_data"
    }
   ],
   "source": [
    "plot_x = X\n",
    "plot_y = np.apply_along_axis(random_qubo.energy, 1, X)\n",
    "\n",
    "plot_min_y = np.array([np.min(plot_y[:i]) for i in range(1, len(y) + 1)])\n",
    "\n",
    "fig = plt.figure(figsize=(6, 4))\n",
    "ax = fig.add_subplot()\n",
    "\n",
    "ax.plot(np.arange(len(plot_min_y)), plot_min_y - GS_energy, color=\"blue\")\n",
    "ax.scatter(np.arange(len(plot_y)), plot_y - GS_energy, color=\"red\", marker=\"x\")\n",
    "\n",
    "ax.set_title(\"RandomQUBO\")\n",
    "ax.set_xlabel(\"iteration $t$\")\n",
    "ax.set_ylabel(r\"$f(x^{(t)}) - f^\\ast$\")\n",
    "\n",
    "plt.show()"
   ]
  },
  {
   "cell_type": "markdown",
   "id": "b292cd73-9652-4faf-93ab-7e0fa57b2a72",
   "metadata": {
    "scrolled": true
   },
   "source": [
    "今回は $d=16$ という小規模な設定なので、比較的簡単に最適解を発見することができています。最終的には $t=30$ 程度で最適解に到達しており、BOCSが上手く機能していることがわかります。"
   ]
  },
  {
   "cell_type": "markdown",
   "id": "81ad5790-c82f-40c1-8e70-23479f5c9f75",
   "metadata": {},
   "source": [
    "### RandomHUBO"
   ]
  },
  {
   "cell_type": "markdown",
   "id": "5e8d9d3d-4546-4546-b022-d61471fb708b",
   "metadata": {
    "scrolled": true
   },
   "source": [
    "3対相互作用を持つ高次元2値最適化も行ってみましょう。目的関数として"
   ]
  },
  {
   "cell_type": "markdown",
   "id": "3bb38161-adb9-481c-b62a-078e6267f85a",
   "metadata": {
    "scrolled": true
   },
   "source": [
    "$$\n",
    "  f(x) = \\sum_{i,j,k} Q_{ijk} x_i x_j x_k\n",
    "$$"
   ]
  },
  {
   "cell_type": "markdown",
   "id": "a936a382-b2f7-4543-afce-d7918d57de22",
   "metadata": {
    "scrolled": true
   },
   "source": [
    "を仮定してみます。"
   ]
  },
  {
   "cell_type": "code",
   "execution_count": 17,
   "id": "7171aa68-0a16-46d3-b10e-20865076e4ee",
   "metadata": {},
   "outputs": [],
   "source": [
    "class RandomHUBO:\n",
    "    def __init__(\n",
    "        self, num_vars, noise_variance: float = 0.0, seed: Optional[int] = None\n",
    "    ):\n",
    "        self.noise_variance = noise_variance\n",
    "        self.rng = np.random.default_rng(seed)\n",
    "        self.Q = self.rng.normal(0, 1, size=(num_vars, num_vars, num_vars))\n",
    "\n",
    "    def energy(self, x):\n",
    "        return np.einsum(\"ijk,i,j,k\", self.Q, x, x, x)\n",
    "\n",
    "    def __call__(self, x):\n",
    "        return self.energy(x) + self.rng.normal(0, np.sqrt(self.noise_variance))"
   ]
  },
  {
   "cell_type": "code",
   "execution_count": 18,
   "id": "5f0a5021-433c-4baf-a573-0f4bb7745f12",
   "metadata": {
    "scrolled": true
   },
   "outputs": [
    {
     "data": {
      "application/vnd.jupyter.widget-view+json": {
       "model_id": "2a928d7bf2d145caafcbcb341e1f7d2b",
       "version_major": 2,
       "version_minor": 0
      },
      "text/plain": [
       "  0%|          | 0/150 [00:00<?, ?it/s]"
      ]
     },
     "metadata": {},
     "output_type": "display_data"
    },
    {
     "name": "stdout",
     "output_type": "stream",
     "text": [
      "iteration    0: y_best =  -13.6: x_next = [1 1 1 1 1 1 0 0 0 1 0 0 1 0 0 0]\n",
      "iteration   10: y_best = -1.06e+02: x_next = [1 1 0 1 0 0 1 1 1 1 1 1 1 0 1 0]\n",
      "iteration   20: y_best = -1.33e+02: x_next = [0 0 1 1 1 0 0 1 0 1 1 1 0 1 1 1]\n",
      "iteration   30: y_best = -1.33e+02: x_next = [0 1 1 1 1 0 1 1 0 1 1 1 0 1 1 0]\n",
      "iteration   40: y_best = -1.33e+02: x_next = [1 1 1 1 1 0 1 1 0 1 1 0 0 1 1 0]\n",
      "iteration   50: y_best = -1.33e+02: x_next = [0 1 0 1 1 0 1 1 1 1 1 0 0 1 0 1]\n",
      "iteration   60: y_best = -1.46e+02: x_next = [1 1 1 1 0 0 1 1 0 1 1 0 1 1 1 1]\n",
      "iteration   70: y_best = -1.46e+02: x_next = [0 1 1 0 1 0 0 1 1 1 1 1 0 0 1 0]\n",
      "iteration   80: y_best = -1.46e+02: x_next = [0 1 1 1 1 0 1 1 0 0 1 1 0 1 1 0]\n",
      "iteration   90: y_best = -1.46e+02: x_next = [1 1 1 1 0 0 1 1 0 1 1 0 1 1 1 1]\n",
      "iteration  100: y_best = -1.46e+02: x_next = [0 1 1 1 0 0 1 1 0 0 1 0 1 1 1 1]\n",
      "iteration  110: y_best = -1.46e+02: x_next = [1 1 1 1 0 0 1 1 0 1 1 0 1 1 1 1]\n",
      "iteration  120: y_best = -1.46e+02: x_next = [1 1 1 1 0 0 1 1 0 1 1 0 1 1 1 1]\n",
      "iteration  130: y_best = -1.46e+02: x_next = [1 1 1 1 0 0 1 1 0 1 1 0 1 1 1 1]\n",
      "iteration  140: y_best = -1.46e+02: x_next = [1 1 1 1 0 0 1 1 0 1 1 0 1 1 1 1]\n"
     ]
    }
   ],
   "source": [
    "seed = 0\n",
    "rng = np.random.default_rng(seed)\n",
    "\n",
    "num_vars = 16\n",
    "num_init_samples = 5\n",
    "noise_variance = 0.0\n",
    "\n",
    "random_hubo = RandomHUBO(num_vars, noise_variance, seed)\n",
    "surrogate_model = BOCSSurrogateModel(\n",
    "    num_vars, linear_regressor=HorseshoeGibbs(max_iter=10)\n",
    ")\n",
    "acquisition_function = BOCSAcquisitionFunction(\n",
    "    lambda Q: oj.SASampler().sample_qubo(Q, num_reads=5, num_sweeps=2500)\n",
    ")\n",
    "\n",
    "X = rng.choice([0, 1], size=(num_init_samples, num_vars))\n",
    "y = np.array([random_hubo(x) for x in X])\n",
    "\n",
    "# bayesian optimization loop\n",
    "y_best = np.inf\n",
    "for i in tqdm(range(150)):\n",
    "    surrogate_model.update(X, y)\n",
    "    acquisition_function.build(surrogate_model)\n",
    "    x_next = acquisition_function.optimize()\n",
    "    y_next = random_hubo(x_next)\n",
    "\n",
    "    X = np.vstack([X, x_next])\n",
    "    y = np.hstack([y, y_next])\n",
    "\n",
    "    y_best = min(y_best, y_next)\n",
    "\n",
    "    if i % 10 == 0:\n",
    "        tqdm.write(\n",
    "            f\"iteration {i:4}: y_best = {y_best:6.3}: x_next = {x_next}\"\n",
    "        )"
   ]
  },
  {
   "cell_type": "markdown",
   "id": "9a2f27ac-93d3-4807-8005-5ee941f95629",
   "metadata": {
    "scrolled": true
   },
   "source": [
    "比較対象としてランダムに探索する方法でも実験してみます。"
   ]
  },
  {
   "cell_type": "code",
   "execution_count": 19,
   "id": "3ecdd0aa-c6ba-44f3-8120-6d45a1e532cd",
   "metadata": {},
   "outputs": [],
   "source": [
    "rng = np.random.default_rng(seed)\n",
    "\n",
    "X_rand = rng.choice([0, 1], size=(150 + num_init_samples, num_vars))"
   ]
  },
  {
   "cell_type": "markdown",
   "id": "3b3964bf-bb65-41bb-924a-7e1caf5d1b40",
   "metadata": {
    "scrolled": true
   },
   "source": [
    "得られた結果をプロットしてみましょう。"
   ]
  },
  {
   "cell_type": "code",
   "execution_count": 20,
   "id": "20abe25a-d435-45d3-8361-5c57046ba66b",
   "metadata": {},
   "outputs": [
    {
     "data": {
      "image/png": "[encoded data removed]",
      "text/plain": [
       "<Figure size 600x400 with 1 Axes>"
      ]
     },
     "metadata": {},
     "output_type": "display_data"
    }
   ],
   "source": [
    "plot_x = X\n",
    "plot_y = np.apply_along_axis(random_hubo.energy, 1, X)\n",
    "plot_min_y = np.array([np.min(plot_y[:i]) for i in range(1, len(plot_y) + 1)])\n",
    "\n",
    "plot_X_rand = X_rand\n",
    "plot_y_rand = np.apply_along_axis(random_hubo.energy, 1, X_rand)\n",
    "plot_min_y_rand = np.array(\n",
    "    [np.min(plot_y_rand[:i]) for i in range(1, len(plot_y_rand) + 1)]\n",
    ")\n",
    "\n",
    "fig = plt.figure(figsize=(6, 4))\n",
    "ax = fig.add_subplot()\n",
    "\n",
    "ax.plot(np.arange(len(plot_min_y_rand)), plot_min_y_rand, color=\"red\")\n",
    "ax.scatter(\n",
    "    np.arange(len(plot_y_rand)), plot_y_rand, color=\"red\", marker=\"^\", label=\"Random\"\n",
    ")\n",
    "\n",
    "ax.plot(np.arange(len(plot_min_y)), plot_min_y, color=\"blue\")\n",
    "ax.scatter(np.arange(len(plot_y)), plot_y, color=\"blue\", marker=\"x\", label=\"BOCS\")\n",
    "\n",
    "ax.vlines(num_init_samples, min(plot_y), max(plot_y), color=\"black\")\n",
    "\n",
    "ax.set_title(\"RandomHUBO\")\n",
    "ax.set_xlabel(r\"iteration $t$\")\n",
    "ax.set_ylabel(r\"$f(x^{(t)})$\")\n",
    "ax.legend()\n",
    "plt.show()"
   ]
  },
  {
   "cell_type": "markdown",
   "id": "5745a199-c8e8-45a8-9c07-0c4a27b79d3b",
   "metadata": {
    "scrolled": true
   },
   "source": [
    "BOCSでは目的関数値の低い領域を中心にサンプルを集められていることがわかります。"
   ]
  },
  {
   "cell_type": "markdown",
   "id": "a8dc42f3-7f3b-47d9-98a3-832456273977",
   "metadata": {},
   "source": [
    "### RandomMLP"
   ]
  },
  {
   "cell_type": "markdown",
   "id": "c1e0ffeb-10d1-4fb4-9b01-5dd036894f07",
   "metadata": {},
   "source": [
    "更にもう1つ簡単な例として、多層パーセプトロンの最適化を行ってみます。ここでは後の拡張性も考えて、多層パーセプトロンはPyTorchで実装します。"
   ]
  },
  {
   "cell_type": "code",
   "execution_count": 21,
   "id": "47ac70ca-cc8d-4332-8fed-4565a97ca278",
   "metadata": {},
   "outputs": [],
   "source": [
    "import torch\n",
    "import torch.nn as nn\n",
    "\n",
    "\n",
    "class RandomMLP(nn.Module):\n",
    "    def __init__(self, dim_in, dim_hidden):\n",
    "        super().__init__()\n",
    "        self.fc1 = nn.Linear(dim_in, dim_hidden)\n",
    "        self.fc2 = nn.Linear(dim_hidden, dim_hidden)\n",
    "        self.fc3 = nn.Linear(dim_hidden, 1)\n",
    "\n",
    "    def forward(self, x: torch.Tensor) -> torch.Tensor:\n",
    "        x = self.fc1(x)\n",
    "        x = torch.relu(x)\n",
    "        x = self.fc2(x)\n",
    "        x = torch.relu(x)\n",
    "        x = self.fc3(x)\n",
    "\n",
    "        return x\n",
    "\n",
    "\n",
    "class RandomMLPWrapper:\n",
    "    def __init__(\n",
    "        self,\n",
    "        random_mlp_model: RandomMLP,\n",
    "        noise_variance: float = 0.0,\n",
    "        seed: Optional[int] = None,\n",
    "    ):\n",
    "        self.noise_variance = noise_variance\n",
    "        self.rng = np.random.default_rng(seed)\n",
    "        self.model = random_mlp_model\n",
    "\n",
    "    def energy(self, x):\n",
    "        x = torch.from_numpy(x).float()\n",
    "        y = self.model(x)\n",
    "        y = y.detach().numpy().item()\n",
    "        return y\n",
    "\n",
    "    def __call__(self, x: np.ndarray):\n",
    "        return self.energy(x) + self.rng.normal(0, np.sqrt(self.noise_variance))"
   ]
  },
  {
   "cell_type": "code",
   "execution_count": 22,
   "id": "ff4fb99a-05c8-4656-a892-8ae4d6bb9af5",
   "metadata": {
    "scrolled": true
   },
   "outputs": [
    {
     "data": {
      "application/vnd.jupyter.widget-view+json": {
       "model_id": "54a464d4d15040e09b97b57590137557",
       "version_major": 2,
       "version_minor": 0
      },
      "text/plain": [
       "  0%|          | 0/200 [00:00<?, ?it/s]"
      ]
     },
     "metadata": {},
     "output_type": "display_data"
    },
    {
     "name": "stdout",
     "output_type": "stream",
     "text": [
      "iter:   0, y_next: -7.936e-02, y_best: -7.936e-02\n",
      "iter:  10, y_next: -3.761e-02, y_best: -1.563e-01\n",
      "iter:  20, y_next: -1.354e-01, y_best: -1.563e-01\n",
      "iter:  30, y_next: -1.663e-01, y_best: -1.663e-01\n",
      "iter:  40, y_next: -7.705e-02, y_best: -1.663e-01\n",
      "iter:  50, y_next: -9.314e-02, y_best: -1.663e-01\n",
      "iter:  60, y_next: -1.062e-01, y_best: -1.663e-01\n",
      "iter:  70, y_next: -1.096e-01, y_best: -1.663e-01\n",
      "iter:  80, y_next: -4.958e-02, y_best: -1.663e-01\n",
      "iter:  90, y_next: -1.010e-01, y_best: -1.663e-01\n",
      "iter: 100, y_next: -1.407e-01, y_best: -1.663e-01\n",
      "iter: 110, y_next: -1.387e-01, y_best: -1.663e-01\n",
      "iter: 120, y_next: -1.191e-01, y_best: -1.663e-01\n",
      "iter: 130, y_next: -8.210e-02, y_best: -1.949e-01\n",
      "iter: 140, y_next: -6.145e-02, y_best: -1.949e-01\n",
      "iter: 150, y_next: -9.874e-02, y_best: -1.949e-01\n",
      "iter: 160, y_next: -8.823e-02, y_best: -1.949e-01\n",
      "iter: 170, y_next: -1.241e-01, y_best: -1.949e-01\n",
      "iter: 180, y_next: -9.590e-02, y_best: -1.949e-01\n",
      "iter: 190, y_next: -9.159e-02, y_best: -1.949e-01\n"
     ]
    }
   ],
   "source": [
    "seed = 0\n",
    "rng = np.random.default_rng(seed)\n",
    "\n",
    "num_vars = 32\n",
    "dim_hidden = 64\n",
    "num_init_samples = 25\n",
    "noise_variance = 0.0\n",
    "\n",
    "random_mlp_model = RandomMLP(num_vars, dim_hidden)\n",
    "random_mlp = RandomMLPWrapper(random_mlp_model, noise_variance, seed)\n",
    "surrogate_model = BOCSSurrogateModel(\n",
    "    num_vars, linear_regressor=HorseshoeGibbs(max_iter=50)\n",
    ")\n",
    "acquisition_function = BOCSAcquisitionFunction(\n",
    "    lambda Q: oj.SASampler().sample_qubo(Q, num_reads=5, num_sweeps=2500)\n",
    ")\n",
    "\n",
    "X = rng.choice([0, 1], size=(num_init_samples, num_vars))\n",
    "y = np.array([random_mlp(x) for x in X])\n",
    "\n",
    "# bayesian optimization loop\n",
    "y_best = np.inf\n",
    "for i in tqdm(range(200)):\n",
    "    surrogate_model.update(X, y)\n",
    "    acquisition_function.build(surrogate_model)\n",
    "    x_next = acquisition_function.optimize()\n",
    "    y_next = random_mlp(x_next)\n",
    "\n",
    "    X = np.vstack([X, x_next])\n",
    "    y = np.hstack([y, y_next])\n",
    "\n",
    "    y_best = min(y_best, y_next)\n",
    "\n",
    "    if i % 10 == 0:\n",
    "        tqdm.write(\n",
    "            \"iter: {:3d}, y_next: {:10.3e}, y_best: {:10.3e}\".format(i, y_next, y_best)\n",
    "        )"
   ]
  },
  {
   "cell_type": "markdown",
   "id": "7cf6290e-bb86-4eca-bfb4-9835f6bbb47a",
   "metadata": {
    "scrolled": true
   },
   "source": [
    "ランダムに探索する方法も実験します。"
   ]
  },
  {
   "cell_type": "code",
   "execution_count": 23,
   "id": "3139fb3f-6bdb-4a67-9125-36d9bd6c913b",
   "metadata": {},
   "outputs": [],
   "source": [
    "rng = np.random.default_rng(seed)\n",
    "\n",
    "X_rand = rng.choice([0, 1], size=(200 + num_init_samples, num_vars))"
   ]
  },
  {
   "cell_type": "markdown",
   "id": "3f5e54fd-2d66-46a8-9393-daca477f5426",
   "metadata": {
    "scrolled": true
   },
   "source": [
    "得られた結果をプロットします。"
   ]
  },
  {
   "cell_type": "code",
   "execution_count": 24,
   "id": "e11f6071-382f-4b3e-8dc6-dbd32b0eb8ea",
   "metadata": {},
   "outputs": [
    {
     "data": {
      "image/png": "[encoded data removed]",
      "text/plain": [
       "<Figure size 600x400 with 1 Axes>"
      ]
     },
     "metadata": {},
     "output_type": "display_data"
    }
   ],
   "source": [
    "plot_x = X\n",
    "plot_y = np.apply_along_axis(random_mlp.energy, 1, X)\n",
    "plot_min_y = np.array([np.min(plot_y[:i]) for i in range(1, len(plot_y) + 1)])\n",
    "\n",
    "plot_X_rand = X_rand\n",
    "plot_y_rand = np.apply_along_axis(random_mlp.energy, 1, X_rand)\n",
    "plot_min_y_rand = np.array(\n",
    "    [np.min(plot_y_rand[:i]) for i in range(1, len(plot_y_rand) + 1)]\n",
    ")\n",
    "\n",
    "fig = plt.figure(figsize=(6, 4))\n",
    "ax = fig.add_subplot()\n",
    "\n",
    "ax.plot(np.arange(len(plot_min_y_rand)), plot_min_y_rand, color=\"red\")\n",
    "ax.scatter(\n",
    "    np.arange(len(plot_y_rand)), plot_y_rand, color=\"red\", marker=\"^\", label=\"Random\"\n",
    ")\n",
    "\n",
    "ax.plot(np.arange(len(plot_min_y)), plot_min_y, color=\"blue\")\n",
    "ax.scatter(np.arange(len(plot_y)), plot_y, color=\"blue\", marker=\"x\", label=\"BOCS\")\n",
    "\n",
    "ax.vlines(num_init_samples, min(plot_y), max(plot_y), color=\"black\")\n",
    "\n",
    "ax.set_title(\"RandomMLP\")\n",
    "ax.set_xlabel(r\"iteration $t$\")\n",
    "ax.set_ylabel(r\"$f(x^{(t)})$\")\n",
    "ax.legend()\n",
    "plt.show()"
   ]
  },
  {
   "cell_type": "markdown",
   "id": "20475fdb-5ae5-4e01-b00d-8c0023a053d5",
   "metadata": {
    "scrolled": true
   },
   "source": [
    "Randomと比べれば比較的目的関数値の低い領域を探索できてはいますが、先程までの問題のように非常に性能がよいというわけではないようです。BOCSが使っている代理モデルは2次の項までしかモデル化できないため、目的関数が複雑な構造をしている場合、著しく性能が悪いこともあります。"
   ]
  },
  {
   "cell_type": "markdown",
   "id": "e8aad7db-c2f4-4401-a7f2-d938a0d102e9",
   "metadata": {},
   "source": [
    "## 補足: 縮小係数を考慮した事前分布について"
   ]
  },
  {
   "cell_type": "markdown",
   "id": "f19acc87-4f0a-478c-b6ad-7f2d8e04ff49",
   "metadata": {},
   "source": [
    "この節では、本記事の途中で出てきた馬蹄分布をもう少し詳しく説明します。"
   ]
  },
  {
   "cell_type": "markdown",
   "id": "ce63a06c-cf51-4372-882f-e0f0b65563d0",
   "metadata": {},
   "source": [
    "### スパース性の仮定"
   ]
  },
  {
   "cell_type": "markdown",
   "id": "305feaf0-cd04-4fab-93c7-7fda0bdeed2d",
   "metadata": {},
   "source": [
    "線形回帰において、入力 $x^{(t)} \\in \\mathbb R^p$ が高次元な場合、つまり説明変数が多い場合は、特徴量 $x_i^{(t)}$ のうちのほとんどは出力 $y^{(t)}$ に寄与せず、ごく一部の成分が出力値に大きく影響する傾向にあることが知られています。よって、**スパース性** を仮定する、すなわち係数 $\\bm \\beta \\in \\mathbb R^p$ のうち **ごく一部の成分が大きく、それ以外は非常に小さい** ような推定をすると、データの個数 $N$ が少ない場合にもある程度うまく $\\bm \\beta$ を推定できると考えられます。このような知識を上手く取り込むことができる $\\bm \\beta$ の事前分布として、以下のような形の分布の定式化がよく行われます。"
   ]
  },
  {
   "cell_type": "markdown",
   "id": "71498e65-478a-4617-97bc-fe6a56002095",
   "metadata": {},
   "source": [
    "$$\n",
    "\\begin{aligned}\n",
    "    \\bm \\beta \\mid \\sigma, \\tau \\bm \\lambda \\sim \\mathcal N_p(\\bm 0, \\sigma^2 \\tau^2 \\operatorname{diag}(\\bm \\lambda^2)).\n",
    "\\end{aligned}\n",
    "$$"
   ]
  },
  {
   "cell_type": "markdown",
   "id": "ee78b92a-e208-4094-be24-417448830bb4",
   "metadata": {},
   "source": [
    "ただし $\\bm \\lambda \\in \\mathbb R_+^p, \\tau \\in \\mathbb R_+$ です。ここで、$\\sigma, \\tau, \\bm \\lambda$ が所与のもとで、ベイズの定理を用いて $\\theta$ の事後分布を計算すると"
   ]
  },
  {
   "cell_type": "markdown",
   "id": "f3b35d35-aa0b-44fa-bbe5-217e666b2217",
   "metadata": {},
   "source": [
    "$$\n",
    "\\begin{aligned}\n",
    "    p(\\bm \\beta \\mid \\bm X, \\bm y, \\sigma, \\tau, \\bm \\lambda)\n",
    "    &\\propto p(\\bm y \\mid \\bm X, \\bm \\beta, \\sigma, \\tau, \\bm \\lambda) p(\\bm \\beta \\mid \\sigma, \\tau, \\bm \\lambda) \\\\\n",
    "    &= \\prod_{t=1}^N p(y^{(t)} \\mid \\bm x^{(t)}, \\bm \\beta, \\sigma, \\tau, \\bm \\lambda) \\times p(\\bm \\beta \\mid \\sigma, \\tau, \\bm \\lambda) \\\\\n",
    "    &\\propto \\exp \\left( -\\frac{1}{2\\sigma^2} \\sum_{t=1}^N  (y^{(t)} - \\bm x^{(t) \\top} \\bm \\beta)^2 \\right) \\times\\exp \\left( - \\sum_{i=1}^p \\frac{1}{2\\sigma^2\\tau^2\\lambda_i^2} \\beta_i^2 \\right) \\\\\n",
    "    &= \\exp\\left(\n",
    "        -\\frac{1}{2\\sigma^2} \\left(\n",
    "            \\left\\| \\bm y - \\bm X \\bm \\beta \\right\\|_2^2 + \\bm \\beta^\\top \\mathop{\\rm diag}\\left\\{ \\frac{1}{\\tau^2 \\lambda_i^2} \\right\\} \\bm \\beta\n",
    "        \\right)\n",
    "    \\right) \\\\\n",
    "    &= \\exp\\left(\n",
    "        -\\frac{1}{2} \\left(\n",
    "            \\bm \\beta^\\top \\frac{X^\\top X}{\\sigma^2} \\bm \\beta + \\bm \\beta^\\top \\mathop{\\rm diag}\\left\\{ \\frac{1}{\\sigma^2\\tau^2\\lambda_i^2} \\right\\} \\bm \\beta - 2 \\bm \\beta^\\top \\frac{1}{\\sigma^2} X^\\top y + \\mathrm{const.}\n",
    "        \\right)\n",
    "    \\right) \\\\\n",
    "    &\\propto \\exp\\left(\n",
    "        -\\frac{1}{2} \\left(\n",
    "            (\\bm \\beta - \\bm \\mu_N)^\\top \\bm \\Sigma_N (\\bm \\beta - \\bm \\mu_n)\n",
    "        \\right)\n",
    "    \\right)\n",
    "\\end{aligned}\n",
    "$$"
   ]
  },
  {
   "cell_type": "markdown",
   "id": "3c10b389-7cc6-44e2-a37a-d5e783d5fb84",
   "metadata": {},
   "source": [
    "となり、事後分布は多変量正規分布となることがわかります。"
   ]
  },
  {
   "cell_type": "markdown",
   "id": "48d7401e-1370-4cc8-9cc3-a7bcc0c51bc1",
   "metadata": {},
   "source": [
    "$$\n",
    "\\begin{aligned}\n",
    "    \\bm \\beta \\mid \\cdot \\sim \\mathcal N_p(\\bm \\mu_N, \\bm \\Sigma_N)\n",
    "\\end{aligned}\n",
    "$$"
   ]
  },
  {
   "cell_type": "markdown",
   "id": "3d201f56-84bf-4ce8-9d3e-ad7d57dea0c0",
   "metadata": {},
   "source": [
    "ただし $\\bm X = [x_i^{(t)}]_{t,i} \\in \\mathbb R^{N \\times p}$ は観測行列 (入力を並べた行列)、$\\bm y = [y^{(t)}]_i \\in \\mathbb R^{N}$ は応答ベクトル (出力を並べたベクトル) であり、"
   ]
  },
  {
   "cell_type": "markdown",
   "id": "11245863-d84d-4d1e-8a4c-a629daa62eb3",
   "metadata": {},
   "source": [
    "$$\n",
    "\\begin{aligned}\n",
    "    \\bm \\mu_N\n",
    "    &= \\sigma^2 \\bm A^{-1}, \\\\\n",
    "    \\bm \\Sigma_N\n",
    "    &= \\bm A^{-1} \\bm X^\\top \\bm y, \\\\\n",
    "    \\bm A &= \\bm X^\\top \\bm X + \\mathop{\\rm diag}\\left\\{ \\frac{1}{\\tau^2\\lambda_i^2} \\right\\}\n",
    "\\end{aligned}\n",
    "$$"
   ]
  },
  {
   "cell_type": "markdown",
   "id": "4f516ff4-2a15-44c1-bb03-5d2b828d6ba2",
   "metadata": {},
   "source": [
    "です。"
   ]
  },
  {
   "cell_type": "markdown",
   "id": "5827a6e9-de83-423e-8d8d-502320d234bb",
   "metadata": {},
   "source": [
    "### 縮小係数"
   ]
  },
  {
   "cell_type": "markdown",
   "id": "1d7f6231-7320-40e1-ac60-63ed967c4444",
   "metadata": {},
   "source": [
    "ここまで $y^{(i)} = \\bm x^{(i) ~ \\top} \\bm \\beta + \\varepsilon$、つまり"
   ]
  },
  {
   "cell_type": "markdown",
   "id": "b70f754d-4492-489b-968b-9691d4b66858",
   "metadata": {},
   "source": [
    "$$\n",
    "\\begin{aligned}\n",
    "  y^{(1)} &= \\sum_i x^{(1)}_i \\beta_i + \\varepsilon \\\\\n",
    "  y^{(2)} &= \\sum_i x^{(2)}_i \\beta_i + \\varepsilon \\\\\n",
    "  & \\vdots \\\\\n",
    "  y^{(N)} &= \\sum_i x^{(N)}_i \\beta_i + \\varepsilon \\\\\n",
    "\\end{aligned}\n",
    "$$"
   ]
  },
  {
   "cell_type": "markdown",
   "id": "fc36ba01-e371-4721-943d-c128c557e12b",
   "metadata": {},
   "source": [
    "を考えてきましたが、ここから更に条件を追加して $N=p$ とし、$t$ 番目の観測で入力ベクトルの $t$ 番目の要素 $x_t^{(t)}$ のみが $1$、それ以外がすべて $0$ であるような入力 $\\bm X=\\bm I_p$ を与えたとして、"
   ]
  },
  {
   "cell_type": "markdown",
   "id": "b4525195-9dd8-458e-946f-b33bfd86522d",
   "metadata": {},
   "source": [
    "$$\n",
    "\\begin{aligned}\n",
    "    y^{(i)} = \\beta_i + \\varepsilon \\quad (t=1,\\dots,p)\n",
    "\\end{aligned}\n",
    "$$"
   ]
  },
  {
   "cell_type": "markdown",
   "id": "e1f1ada5-f075-4717-8f7e-e663dcc0de0e",
   "metadata": {},
   "source": [
    "という状況を考えます。事後平均 $\\bm \\mu_N$ は"
   ]
  },
  {
   "cell_type": "markdown",
   "id": "773d6a9f-d6b0-44c1-b23d-7fd9d131f230",
   "metadata": {},
   "source": [
    "$$\n",
    "\\begin{aligned}\n",
    "\\bm \\mu_N\n",
    "&= \\left( \\bm X^\\top \\bm X + \\mathop{\\rm diag}\\left\\{ \\frac{1}{\\tau^2 \\lambda_i^2} \\right\\} \\right)^{-1} \\bm X^\\top \\bm y \\\\\n",
    "&= \\left( \\bm I_p + \\mathop{\\rm diag}\\left\\{ \\frac{1}{\\tau^2 \\lambda_i^2} \\right\\} \\right)^{-1} \\bm y\n",
    "\\end{aligned}\n",
    "$$"
   ]
  },
  {
   "cell_type": "markdown",
   "id": "ac22cc1e-b8fd-41a2-b72d-26eb592f4b8e",
   "metadata": {},
   "source": [
    "となり、その第 $i$ 成分 $\\mu_{N,i}$ は"
   ]
  },
  {
   "cell_type": "markdown",
   "id": "8865a21a-6c01-4d22-92c6-29d10c7f4a58",
   "metadata": {},
   "source": [
    "$$\n",
    "\\begin{aligned}\n",
    "\\mu_{N,i} &= \\dfrac{1}{1 + \\dfrac{1}{\\tau^2 \\lambda_i^2}} y^{(i)} = \\left( 1 - \\dfrac{1}{1 + \\tau^2 \\lambda_i^2} \\right) y^{(i)}\n",
    "\\end{aligned}\n",
    "$$"
   ]
  },
  {
   "cell_type": "markdown",
   "id": "65543d26-3ac0-4903-bb59-f0ab269789b0",
   "metadata": {},
   "source": [
    "となります。ここで"
   ]
  },
  {
   "cell_type": "markdown",
   "id": "4768c929-b207-44cb-b0ed-d1f351e0967f",
   "metadata": {},
   "source": [
    "$$\n",
    "\\begin{aligned}\n",
    "    \\kappa_i = \\frac{1}{1 + \\tau^2 \\lambda_i^2}\n",
    "\\end{aligned}\n",
    "$$"
   ]
  },
  {
   "cell_type": "markdown",
   "id": "133660ff-c034-4924-9d4a-ba6fdc342095",
   "metadata": {},
   "source": [
    "とすれば"
   ]
  },
  {
   "cell_type": "markdown",
   "id": "f7e65e28-81b7-4068-9033-1f02cfdb8f61",
   "metadata": {},
   "source": [
    "$$\n",
    "\\begin{aligned}\n",
    "    \\mu_{N,i} = (1 - \\kappa_i) y_i\n",
    "\\end{aligned}\n",
    "$$"
   ]
  },
  {
   "cell_type": "markdown",
   "id": "6f9e8ccf-04ce-468b-9e5f-0e3e8c9ec2b9",
   "metadata": {},
   "source": [
    "となります。ここで新たに登場した $\\kappa_i = \\dfrac{1}{1 + \\tau^2 \\lambda_i^2}$ を縮小係数 (shrinkage coefficient) といいます。今 $0 \\lt \\tau^2 \\lambda_i^2$ なので、縮小係数の取りうる範囲は $0 \\lt \\kappa_i \\lt 1$ となります。当然ながら $0 \\lt 1-\\kappa_i \\lt 1$ です。\n",
    "\n",
    "上の式からわかるように、回帰係数 $\\bm \\beta$ の事後平均 $\\bm \\mu_N$ の第 $i$ 成分 $\\mu_{N, i}$ は、$\\bm y$ の第 $i$ 成分 $y_i$ を $1 - \\kappa_i$ 倍に縮小した格好となっています。すなわち **縮小係数 $\\kappa_i$ は観測された値 $y_i$ をどれほど $0$ に圧縮するかに寄与します**。$\\kappa_i \\approx 0$ の場合には $y_i$ がほとんどそのまま $\\mu_{N, i}$ となる一方、$\\kappa_i \\approx 1$ の場合には $\\mu_{N, i} \\approx 0$ に圧縮します。そして $\\kappa_i$ が $1$ に近いか $0$ に近いかは $\\tau^2 \\lambda_i^2$ の値によります。"
   ]
  },
  {
   "cell_type": "markdown",
   "id": "4dc30660-91cf-4166-8ab9-14d72be113f8",
   "metadata": {},
   "source": [
    "以上をまとめると、\n",
    "\n",
    "- $\\tau^2 \\lambda_i^2$ が $0$ に近いほど $\\kappa_i$ は $1$ に近づき、$\\mu_{N, i}$ は $0$ に圧縮される\n",
    "- $\\tau^2 \\lambda_i^2$ が $1$ に近いほど $\\kappa_i$ は $0$ に近づき、$\\mu_{N, i}$ は圧縮されない\n",
    "\n",
    "という特徴があるといえます。更に $\\lambda_i^2$ は各 $\\kappa_i$ の値に影響し、$\\tau^2$ はすべての $\\kappa_1, \\kappa_2, \\dots, \\kappa_p$ に影響します。よって\n",
    "\n",
    "- $\\lambda_i$ は各係数の推定値 $\\mu_{N, i}$ が $0$ に圧縮されるかに寄与する\n",
    "- $\\tau$ は係数の推定値全体 $\\bm \\mu_N$ が $0$ に圧縮されるかに寄与する\n",
    "\n",
    "といえます。そこで $\\lambda_i$ を **局所縮小パラメータ** (local shrinkage parameter)、$\\tau$ を **大域縮小パラメータ** (global shrinkage parameter) といいます。"
   ]
  },
  {
   "cell_type": "markdown",
   "id": "c032efe8-77ef-4583-990b-73d31aaf0b55",
   "metadata": {},
   "source": [
    "### 馬蹄分布"
   ]
  },
  {
   "cell_type": "markdown",
   "id": "ed0d30ca-23bd-4063-b12c-c555a3de7fbf",
   "metadata": {},
   "source": [
    "以上の議論によれば、縮小係数 $\\kappa_i$ が推定値 $\\mu_{N, i}$ に強く影響するので、縮小係数 $\\kappa_i$ がどのような分布に従うのかが気になります。縮小係数は $\\lambda_i$ と $\\tau$ に影響を受けます。ここで簡単のために $\\tau=1$ と固定する場合、$p(\\kappa_i)$ は $\\lambda_i$ の分布 $p(\\lambda_i)$ を変数変換することにより得られます。"
   ]
  },
  {
   "cell_type": "markdown",
   "id": "2343b54b-969d-4284-af15-69d1609d52dc",
   "metadata": {},
   "source": [
    "様々な $p(\\lambda_i)$ に対応する $p(\\kappa_i)$ の分布の具体的な形状は文献 [Carvalho+ (2009)] にまとめられていますが、特に $\\lambda_i \\sim \\mathrm{HalfCauchy}(0,1)$ を設定した場合、$\\kappa_i$ は次のようなベータ分布 $\\mathop{\\rm Beta}(0.5, 0.5)$ に従います。"
   ]
  },
  {
   "cell_type": "markdown",
   "id": "806f8214-259c-4ab7-bfcd-2c956138c6fb",
   "metadata": {},
   "source": [
    "$$\n",
    "\\begin{aligned}\n",
    "  p(\\kappa_i) = \\frac{1}{\\pi}(1-\\kappa_i)^{-1/2}\\kappa_i^{-1/2}\n",
    "\\end{aligned}\n",
    "$$"
   ]
  },
  {
   "cell_type": "markdown",
   "id": "d7576360-e327-4764-a03e-e9969d13c8b0",
   "metadata": {},
   "source": [
    "さて、ベータ分布 $\\mathop{\\rm Beta}(0.5, 0.5)$ の確率密度関数をプロットすると、以下のように馬の蹄 (ひずめ) のような形状が現れます。"
   ]
  },
  {
   "cell_type": "code",
   "execution_count": 25,
   "id": "a60a7bf7-749b-42b6-9bae-187be4c36a16",
   "metadata": {},
   "outputs": [
    {
     "data": {
      "image/png": "[encoded data removed]",
      "text/plain": [
       "<Figure size 640x480 with 1 Axes>"
      ]
     },
     "metadata": {},
     "output_type": "display_data"
    }
   ],
   "source": [
    "from scipy.special import beta\n",
    "\n",
    "\n",
    "def _beta_pdf(x, a, b):\n",
    "    p = 1.0 / beta(a, b) * (1.0 - x) ** (-a) * x ** (-b)\n",
    "    return p\n",
    "\n",
    "\n",
    "x_plot = np.linspace(1e-3, 1.0 - 1e-3, 1000)\n",
    "y_plot = _beta_pdf(x_plot, 0.5, 0.5)\n",
    "\n",
    "fig = plt.figure()\n",
    "ax = fig.add_subplot()\n",
    "ax.plot(x_plot, y_plot)\n",
    "ax.set_xlabel(r\"$\\kappa$\")\n",
    "ax.set_ylabel(r\"$p(\\kappa)$\")\n",
    "ax.set_ylim(0.0)\n",
    "plt.show()"
   ]
  },
  {
   "cell_type": "markdown",
   "id": "8c5795bc-5f72-4ac5-b307-235ecc5b9cec",
   "metadata": {},
   "source": [
    "このことから、特に $\\lambda_i \\sim \\mathrm{HalfCauchy}(0, 1)$ を仮定する場合、この $\\theta$ の事前分布は馬蹄分布 (horseshoe distribution) と呼ばれます。"
   ]
  },
  {
   "cell_type": "markdown",
   "id": "432aa874-272c-4810-b43a-cc366280d99b",
   "metadata": {},
   "source": [
    "確率密度関数の形状を見ると明らかなように、馬蹄分布は $\\kappa_i \\approx 0$ または $\\kappa_i \\approx 1$ の値を取りやすいという性質を持っています。このような性質から、馬蹄分布を用いることで推定値のうち一部は $0$ に、残りは $0$ に圧縮された推定値を補うような大きな値になることが期待されます。"
   ]
  },
  {
   "cell_type": "markdown",
   "id": "de1c72e0-951f-4dc2-959a-994c1d659337",
   "metadata": {},
   "source": [
    "なお馬蹄分布の由来は縮小係数 $\\kappa_i$ がベータ分布 $\\mathop{\\rm Beta}(0.5,0.5)$ に従うことにありますが、ベータ分布そのものを馬蹄分布と呼ぶのではなく、あくまで $\\theta$ の事前分布を馬蹄分布と呼ぶということに注意してください。"
   ]
  },
  {
   "cell_type": "markdown",
   "id": "fe258752-cbd1-4b77-a761-adf85c1ae6b1",
   "metadata": {},
   "source": [
    "## あとがき"
   ]
  },
  {
   "cell_type": "markdown",
   "id": "ed1cc37c-3add-4381-b170-05582e5b410b",
   "metadata": {},
   "source": [
    "本記事ではBOCSの最も基本的な実装を行いました。自分の手で実装することでThompson抽出によるベイズ最適化のフレームワークについて理解することができ、さらに組合せ最適化問題への適用に関する難しさも知ることができました。"
   ]
  },
  {
   "cell_type": "markdown",
   "id": "f6e5ec28-464f-4d0e-ad45-470902f9de8e",
   "metadata": {},
   "source": [
    "またBOCSにおける課題として\n",
    "\n",
    "- 制約条件付きの問題はどうするのか\n",
    "- データの数 $N$ や入力次元 $d$ が大きくなると計算コストが大きくなる問題はどうするのか\n",
    "\n",
    "などの点が気になりました。今後はこのような課題がどのように扱われているのかを調べたり、解決策を探したりして、BOCSの改善策について考えていきたいと思います。"
   ]
  },
  {
   "cell_type": "markdown",
   "id": "7bbe7374-ba19-4f45-80eb-c80fee833a56",
   "metadata": {},
   "source": [
    "## 参考文献"
   ]
  },
  {
   "cell_type": "markdown",
   "id": "84186547-ad13-481c-bcbb-86edc1ccc9e3",
   "metadata": {},
   "source": [
    "- [Carvalho+ (2009)] C. M. Carvalho, N. G. Polson, and J. G. Scott, Handling Sparsity via the Horseshoe, in Proceedings of the Twelth International Conference on Artificial Intelligence and Statistics (PMLR, 2009), pp. 73–80.\n",
    "- [Wand+ (2011)] M. P. Wand, J. T. Ormerod, S. A. Padoan, and R. Frühwirth, Mean Field Variational Bayes for Elaborate Distributions, Bayesian Analysis **6**, 847 (2011).\n",
    "- [Bhattacharya+ (2016)] A. Bhattacharya, A. Chakraborty, and B. K. Mallick, Fast Sampling with Gaussian Scale Mixture Priors in High-Dimensional Regression, Biometrika **103**, 985 (2016).\n",
    "- [Makalic & Schmidt (2016)] E. Makalic and D. F. Schmidt, A Simple Sampler for the Horseshoe Estimator, IEEE Signal Processing Letters **23**, 179 (2016).\n",
    "- [Baptista & Poloczek (2018)] R. Baptista and M. Poloczek, Bayesian Optimization of Combinatorial Structures, in Proceedings of the 35th International Conference on Machine Learning, edited by J. Dy and A. Krause, Vol. 80 (PMLR, 2018), pp. 462–471."
   ]
  },
  {
   "cell_type": "markdown",
   "id": "3358555c-8e58-4d6b-bf7a-118d6350e163",
   "metadata": {},
   "source": [
    "## 本記事の担当者"
   ]
  },
  {
   "cell_type": "markdown",
   "id": "7cd88f78-07ae-41de-89ca-6e572e7ed8d1",
   "metadata": {},
   "source": [
    "森田圭祐"
   ]
  }
 ],
 "metadata": {
  "kernelspec": {
   "display_name": ".venv",
   "language": "python",
   "name": "python3"
  },
  "language_info": {
   "codemirror_mode": {
    "name": "ipython",
    "version": 3
   },
   "file_extension": ".py",
   "mimetype": "text/x-python",
   "name": "python",
   "nbconvert_exporter": "python",
   "pygments_lexer": "ipython3",
   "version": "3.12.8"
  }
 },
 "nbformat": 4,
 "nbformat_minor": 5
}
