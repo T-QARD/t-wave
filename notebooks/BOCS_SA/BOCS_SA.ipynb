{
 "cells": [
  {
   "cell_type": "markdown",
   "id": "3a3bf986-8e06-4f9a-ae13-d7f2091ffc71",
   "metadata": {},
   "source": [
    "# シミュレーテッドアニーリングとベイズ線形回帰によるベイズ最適化"
   ]
  },
  {
   "cell_type": "markdown",
   "id": "6aaf69ec-7ab1-48b4-b1e1-e2f65dce7c24",
   "metadata": {},
   "source": [
    "## 文献情報"
   ]
  },
  {
   "cell_type": "markdown",
   "id": "a57fca70-4830-42d1-9b8a-341d0f4565e7",
   "metadata": {},
   "source": [
    "- タイトル: Bayesian Optimization of Combinatorial Structures\n",
    "- 著者: R. Baptista and M. Poloczek\n",
    "- 書誌情報: https://proceedings.mlr.press/v80/baptista18a.html"
   ]
  },
  {
   "cell_type": "markdown",
   "id": "22fc0d64-bfc8-46c8-bc0e-fb0571ac00b1",
   "metadata": {},
   "source": [
    "## 概要"
   ]
  },
  {
   "cell_type": "markdown",
   "id": "fc627d3c-abaa-41ac-84de-a128e92163d0",
   "metadata": {},
   "source": [
    "本記事では、目的関数 $f: \\mathcal X \\to \\mathbb R$ を最小化する入力 $x^\\ast \\in \\mathcal X$ を見つける問題のうち、目的関数の内部構造が不明で、目的関数の値の計算に時間が生じるような問題を解くことを想定します。"
   ]
  },
  {
   "cell_type": "markdown",
   "id": "5afa127b-9cfe-4895-b355-963684d9a133",
   "metadata": {},
   "source": [
    "$$\n",
    "\\begin{aligned}\n",
    "    & \\mathop{\\rm minimize}\\limits_{x \\in \\mathcal X} && f(x) \\\\\n",
    "    & \\mathop{\\rm where}\n",
    "    &&  \\text{$f$ の内部構造は不明,} \\\\\n",
    "    &&& \\text{$f(x)$ の評価に時間がかかる}\n",
    "\\end{aligned}\n",
    "$$"
   ]
  },
  {
   "cell_type": "markdown",
   "id": "0f762663-2bf7-4f35-ad90-bed8390727ba",
   "metadata": {},
   "source": [
    "目的関数の計算に時間がかかるという性質上、焼きなまし法 (SA, simulated annealing) のように、目的関数の評価を何度も実行するメタヒューリスティクス手法の適用は実用的ではありません。そこで使用されるのがモデルベース最適化 (model-based optimization) です。モデルベース最適化では目的関数の入出力関係を近似する “代理モデル” (surrogate model) と呼ばれる回帰モデル $\\hat f$ を導入し、以下のようなステップを実行します。"
   ]
  },
  {
   "cell_type": "markdown",
   "id": "4b6987c5-be9a-4081-ab38-31712c5bcbcd",
   "metadata": {},
   "source": [
    "1. 代理モデル $\\hat f$ を既知のデータセット $\\mathcal D^{(t-1)}$ を用いて更新する\n",
    "2. 獲得関数 $\\alpha: \\mathcal X \\to \\mathbb R$ を代理モデル $\\hat f$ を用いて生成する\n",
    "3. 評価する点 $x^{(t)}$ を獲得関数を最小化することで得る: $x^{(t)} \\gets \\mathop{\\rm arg~min}_{x \\in \\mathcal X} \\alpha(x)$\n",
    "4. 目的関数の値 $y^{(t)} = f(x^{(t)})$ を得る\n",
    "5. データセットに新しいデータを追加する: $\\mathcal D^{(t)} \\gets \\mathcal D \\cup \\{(x^{(t)}, y^{(t)})\\}$\n",
    "6. ステップ $t$ をインクリメント\n",
    "7. 1.-6.を終了条件に達するまで繰り返す"
   ]
  },
  {
   "cell_type": "markdown",
   "id": "49737680-715e-471c-97f4-4d33da071f2f",
   "metadata": {},
   "source": [
    "本記事では、組合せ最適化問題に対するモデルベース最適化の一手法である、**焼きなまし法を用いた Bayesian optimization of combinatorial structures**、通称 `BOCS-SA` を実装していきます。"
   ]
  },
  {
   "cell_type": "markdown",
   "id": "8af86236-75a8-4daa-abbb-77912b6b1925",
   "metadata": {},
   "source": [
    "なお、今回の実装については論文著者等による実装コード https://github.com/baptistar/BOCS/blob/master/BOCSpy/LinReg.py も一部参考にしていますが、具体的な当該コードを本記事に流用することなどは一切行っていないため、本記事のコードは論文著者等のコードに由来するGPLライセンスには該当しません。"
   ]
  },
  {
   "cell_type": "markdown",
   "id": "ebeb3afd-1969-4278-8787-2fb850c8a2b2",
   "metadata": {},
   "source": [
    "## 環境設定"
   ]
  },
  {
   "cell_type": "markdown",
   "id": "b700d824-46d7-40c6-a9ed-11259bd3455d",
   "metadata": {},
   "source": [
    "### ライブラリのインストール"
   ]
  },
  {
   "cell_type": "code",
   "execution_count": null,
   "id": "a22ff5cf-53d4-4083-80ee-05faa00b9561",
   "metadata": {},
   "outputs": [],
   "source": [
    "!pip install dwave-neal"
   ]
  },
  {
   "cell_type": "markdown",
   "id": "aaa9e174-14ed-4fec-909a-45f1e3920cf7",
   "metadata": {},
   "source": [
    "### ライブラリのインポート"
   ]
  },
  {
   "cell_type": "code",
   "execution_count": 2,
   "id": "41b648e2-c32a-4699-a0dd-f56a5377db72",
   "metadata": {},
   "outputs": [],
   "source": [
    "import numpy as np\n",
    "import matplotlib.pyplot as plt\n",
    "import neal\n",
    "from typing import Optional, Callable\n",
    "import logging"
   ]
  },
  {
   "cell_type": "markdown",
   "id": "99919b1d-ce33-4166-beed-927e88d8555c",
   "metadata": {},
   "source": [
    "### ロガーの作成"
   ]
  },
  {
   "cell_type": "markdown",
   "id": "9ed7c336-2795-4713-b217-70f9c30034e4",
   "metadata": {},
   "source": [
    "最適化の進捗を表示するために `logger` を使用します。"
   ]
  },
  {
   "cell_type": "code",
   "execution_count": 3,
   "id": "f41507ad-a6f7-49a9-b55b-e56752fe614c",
   "metadata": {},
   "outputs": [],
   "source": [
    "def create_logger(name, level=logging.DEBUG):\n",
    "    logger = logging.getLogger(name)\n",
    "\n",
    "    # remove existing logger\n",
    "    for handler in logger.handlers:\n",
    "        if isinstance(handler, logging.StreamHandler):\n",
    "            logger.removeHandler(handler)\n",
    "\n",
    "    logger.setLevel(level)\n",
    "    ch = logging.StreamHandler()\n",
    "    ch.setLevel(level)\n",
    "    formatter = logging.Formatter(\n",
    "        fmt=\"%(name)s [%(levelname)s] %(message)s\"\n",
    "    )\n",
    "    ch.setFormatter(formatter)\n",
    "    logger.addHandler(ch)\n",
    "    return logger\n",
    "\n",
    "logger = create_logger(\"BOCS-SA\")"
   ]
  },
  {
   "cell_type": "markdown",
   "id": "0b27e254-4351-458e-8e3d-5a12c2b9bce9",
   "metadata": {},
   "source": [
    "## 代理モデル"
   ]
  },
  {
   "cell_type": "markdown",
   "id": "d73622a8-ea70-487d-ada9-9d97f76d4a00",
   "metadata": {},
   "source": [
    "BOCSでは、代理モデルとして入力変数間の2次の項までを考慮する多項式回帰モデルを使用します。すなわち"
   ]
  },
  {
   "cell_type": "markdown",
   "id": "f7d98ca7-35a5-4a6c-b267-44711aaae9d5",
   "metadata": {},
   "source": [
    "$$\n",
    "\\begin{aligned}\n",
    "    \\hat f(x; b, w) = b + \\sum_i w_i x_i + \\sum_{i \\lt j} w_{ij} x_i x_j.\n",
    "    &&\n",
    "    x \\in \\{0, 1\\}^{d}\n",
    "\\end{aligned}\n",
    "$$"
   ]
  },
  {
   "cell_type": "markdown",
   "id": "f8eb22b5-0dc9-47fa-86a7-19ee463c946b",
   "metadata": {},
   "source": [
    "入力 $x$ は各成分が $0$ または $1$ の $d$ 次元ベクトルとします。上記のモデルは各パラメータ $b, w$ について1次式であるため、線形回帰モデル"
   ]
  },
  {
   "cell_type": "markdown",
   "id": "61241280-6370-42a5-8d2b-0c9e700e0d6b",
   "metadata": {},
   "source": [
    "$$\n",
    "    \\hat f(x; \\theta) = z^\\top \\theta\n",
    "$$"
   ]
  },
  {
   "cell_type": "markdown",
   "id": "9bdb139c-339a-4717-b8b7-969ea036ae63",
   "metadata": {},
   "source": [
    "に書き直すことができます。したがってベイズ線形回帰の方法でパラメータ $\\theta$ のベイズ推定を行うことができます。ただし"
   ]
  },
  {
   "cell_type": "markdown",
   "id": "3647f1ac-78e7-4358-8ebd-384490317d5c",
   "metadata": {},
   "source": [
    "$$\n",
    "\\begin{aligned}\n",
    "z &= [1, x_ix_j]_{i \\le j} && \\in \\mathbb R^{p}, \\\\\n",
    "\\theta  &= [b, w_{ij}]_{i \\le j} && \\in \\mathbb R^{p}, \\\\\n",
    "w_{ii}  &= w_i.\n",
    "\\end{aligned}\n",
    "$$"
   ]
  },
  {
   "cell_type": "markdown",
   "id": "a7f1ace4-6b67-4373-b284-1b9c01fa8880",
   "metadata": {},
   "source": [
    "理論上は3次以上の項まで考慮することで表現力を向上させることも可能ですが、実用的ではありません。パラメータの個数 $p$ が代理モデルの次数に対し指数オーダーで増加するので、モデルの学習に必要なサンプル点 $(x,y)$ の個数 $N_{\\rm req} = |\\mathcal D|$ も同様に指数関数的に増加し、さらに学習コストも爆発的に増大してしまうからです。言い換えれば、**表現力とコストはトレードオフの関係にある**と言えます。元論文では2次までの項を考慮するのが最もバランスがよいと主張しているため、ここでもそれに従います。"
   ]
  },
  {
   "cell_type": "markdown",
   "id": "1b404ccd-772f-451f-98bf-238c1fad7c14",
   "metadata": {},
   "source": [
    "パラメータの個数 $p$ は、変数 $x$ の次元 $d$ を用いて"
   ]
  },
  {
   "cell_type": "markdown",
   "id": "248181f2-6d11-4a14-ab9c-41b72df2845e",
   "metadata": {},
   "source": [
    "$$\n",
    "p = 1 + d + \\binom{d}{2} = 1 + d + \\frac{1}{2} d (d-1)\n",
    "$$"
   ]
  },
  {
   "cell_type": "markdown",
   "id": "8b0e07c4-b9bf-431f-acf3-e215ed090518",
   "metadata": {},
   "source": [
    "により与えられます。"
   ]
  },
  {
   "cell_type": "markdown",
   "id": "96626346",
   "metadata": {},
   "source": [
    "以上、$p, z$ を作成する関数を準備します。"
   ]
  },
  {
   "cell_type": "code",
   "execution_count": 4,
   "id": "857d7ced-963d-489f-9bf4-020bc3490173",
   "metadata": {},
   "outputs": [],
   "source": [
    "def calc_p_from_d(d: int) -> int:\n",
    "    p = 1 + d + d * (d - 1) // 2\n",
    "    return p\n",
    "\n",
    "def calc_z_from_x(x: np.ndarray) -> np.ndarray:\n",
    "    d = len(x)\n",
    "    p = calc_p_from_d(d)\n",
    "\n",
    "    z = np.zeros(p, dtype=int)\n",
    "\n",
    "    # bias\n",
    "    z[0] = 1\n",
    "\n",
    "    # linear\n",
    "    z[1:d+1] = x\n",
    "\n",
    "    # quadratic\n",
    "    i,j = np.triu_indices(d, k=1)\n",
    "    z[d+1:] = x[i] * x[j]\n",
    "    return z"
   ]
  },
  {
   "cell_type": "code",
   "execution_count": 5,
   "id": "b2e9ba7b-653a-468b-b9e8-ac5261c67869",
   "metadata": {},
   "outputs": [
    {
     "name": "stdout",
     "output_type": "stream",
     "text": [
      "z:\n",
      " [1 0 0 0 1 1 1 0 0 0 1 0 0 0 0 0 0 0 0 0 0 0 0 0 0 0 0 0 0 0 0 0 0 0 0 1 1\n",
      " 0 0 0 1 1 0 0 0 1 0 0 0 1 0 0 0 0 0 0]\n",
      "----------\n",
      "z_data:\n",
      " [[1 1 1 0 1 1 1 1 0 0 0 1 0 1 1 1 1 0 0 0 0 1 1 1 1 0 0 0 0 0 0 0 0 0 0 1\n",
      "  1 1 0 0 0 1 1 0 0 0 1 0 0 0 0 0 0 0 0 0]\n",
      " [1 0 1 1 0 1 1 1 1 1 0 0 0 0 0 0 0 0 0 0 1 0 1 1 1 1 1 0 0 1 1 1 1 1 0 0\n",
      "  0 0 0 0 0 1 1 1 1 0 1 1 1 0 1 1 0 1 0 0]\n",
      " [1 0 1 1 0 1 0 0 0 0 0 0 0 0 0 0 0 0 0 0 1 0 1 0 0 0 0 0 0 1 0 0 0 0 0 0\n",
      "  0 0 0 0 0 0 0 0 0 0 0 0 0 0 0 0 0 0 0 0]\n",
      " [1 1 1 1 0 1 0 0 0 0 0 1 1 0 1 0 0 0 0 0 1 0 1 0 0 0 0 0 0 1 0 0 0 0 0 0\n",
      "  0 0 0 0 0 0 0 0 0 0 0 0 0 0 0 0 0 0 0 0]\n",
      " [1 0 1 0 1 0 1 0 1 1 1 0 0 0 0 0 0 0 0 0 0 1 0 1 0 1 1 1 0 0 0 0 0 0 0 0\n",
      "  1 0 1 1 1 0 0 0 0 0 0 1 1 1 0 0 0 1 1 1]]\n"
     ]
    }
   ],
   "source": [
    "# TEST\n",
    "\n",
    "x = np.random.choice([0, 1], 10)\n",
    "z = calc_z_from_x(x)\n",
    "print(\"z:\\n\", z)\n",
    "\n",
    "print(\"-\"*10)\n",
    "\n",
    "x_data = np.random.choice([0, 1], (5,10))\n",
    "z_data = np.apply_along_axis(calc_z_from_x, 1, x_data)\n",
    "print(\"z_data:\\n\", z_data)"
   ]
  },
  {
   "cell_type": "markdown",
   "id": "c1a596fb-b480-4780-9e91-4bd57625e2a7",
   "metadata": {},
   "source": [
    "以上を代理モデルとしてまとめておきます。"
   ]
  },
  {
   "cell_type": "code",
   "execution_count": 6,
   "id": "79f3081e-635e-4113-a732-5b0d72b78863",
   "metadata": {},
   "outputs": [],
   "source": [
    "class BOCSSurrogateModel:\n",
    "    def __init__(self, num_vars, linear_regressor, remove_duplicate: bool = True):\n",
    "        num_features = calc_p_from_d(num_vars)\n",
    "        coef = np.zeros(num_features, dtype=np.float64)\n",
    "        self.params = {\n",
    "            'coef': coef\n",
    "        }\n",
    "        self.linear_regressor = linear_regressor\n",
    "\n",
    "    def update(self, x_data, y_data):\n",
    "        z_data = np.apply_along_axis(calc_z_from_x, 1, x_data)\n",
    "        self.linear_regressor.fit(z_data, y_data)\n",
    "        self.params['coef'] = self.linear_regressor.coef_"
   ]
  },
  {
   "cell_type": "code",
   "execution_count": 7,
   "id": "8369c7cc-d3af-4479-b5e8-46fe7d266bc5",
   "metadata": {},
   "outputs": [
    {
     "name": "stdout",
     "output_type": "stream",
     "text": [
      "{'coef': array([0., 0., 0., 0., 0., 0., 0., 0., 0., 0., 0., 0., 0., 0., 0., 0., 0.,\n",
      "       0., 0., 0., 0., 0., 0., 0., 0., 0., 0., 0., 0., 0., 0., 0., 0., 0.,\n",
      "       0., 0., 0., 0., 0., 0., 0., 0., 0., 0., 0., 0., 0., 0., 0., 0., 0.,\n",
      "       0., 0., 0., 0., 0., 0., 0., 0., 0., 0., 0., 0., 0., 0., 0., 0., 0.,\n",
      "       0., 0., 0., 0., 0., 0., 0., 0., 0., 0., 0., 0., 0., 0., 0., 0., 0.,\n",
      "       0., 0., 0., 0., 0., 0., 0., 0., 0., 0., 0., 0., 0., 0., 0., 0., 0.,\n",
      "       0., 0., 0., 0., 0., 0., 0., 0., 0., 0., 0., 0., 0., 0., 0., 0., 0.,\n",
      "       0., 0., 0., 0., 0., 0., 0., 0., 0., 0., 0., 0., 0., 0., 0., 0., 0.,\n",
      "       0.])}\n"
     ]
    }
   ],
   "source": [
    "# TEST\n",
    "\n",
    "num_vars = 16\n",
    "linear_regressor = None\n",
    "\n",
    "bocs_surrogate_model = BOCSSurrogateModel(num_vars, linear_regressor)\n",
    "print(bocs_surrogate_model.params)"
   ]
  },
  {
   "cell_type": "markdown",
   "id": "9e84d49c-2624-4a2a-a365-ec27a3a89df3",
   "metadata": {},
   "source": [
    "## Thompson抽出"
   ]
  },
  {
   "cell_type": "markdown",
   "id": "a171203a-322f-4b75-bf48-7247abf74f78",
   "metadata": {},
   "source": [
    "BOCSは **Thompson抽出** (Thompson sampling) と呼ばれる手法の1つです。Thompson抽出は代理モデルがパラメータ $\\theta$ に特徴づけられる関数 $\\hat f(x; \\theta)$ の場合によく使用される手法で、\n",
    "\n",
    "1. パラメータの事後分布 $p(\\theta \\mid \\mathcal D)$ を計算\n",
    "2. 事後分布に従うサンプル $\\tilde \\theta \\sim p(\\theta \\mid \\mathcal D)$ を1つ引く\n",
    "3. サンプルを用いた代理モデル $\\hat f(x; \\tilde \\theta)$ を獲得関数 $\\alpha(x)$ とする\n",
    "\n",
    "というステップにより得られる関数 $\\alpha(x)$ を獲得関数とします。"
   ]
  },
  {
   "cell_type": "markdown",
   "id": "4527db25-7adf-4fc7-9e80-36990798531c",
   "metadata": {},
   "source": [
    "$$\n",
    "\\begin{aligned}\n",
    "    \\alpha(x) = \\hat f(x; \\tilde \\theta) \\quad\n",
    "    \\text{where} \\quad\n",
    "    \\tilde \\theta \\sim p(\\theta \\mid \\mathcal D)\n",
    "\\end{aligned}\n",
    "$$"
   ]
  },
  {
   "cell_type": "markdown",
   "id": "9bb97e3b-8fd8-4323-8929-7cffd7051966",
   "metadata": {},
   "source": [
    "Thompson抽出を実装するには、**事後分布からのサンプリング** を行うアルゴリズムが必要であり、そのために何らかの事前分布を仮定する必要があります。次節でもう少し詳しく説明します。"
   ]
  },
  {
   "cell_type": "markdown",
   "id": "a6514927",
   "metadata": {},
   "source": [
    "### ベイズ線形回帰"
   ]
  },
  {
   "cell_type": "markdown",
   "id": "6d1ca453",
   "metadata": {},
   "source": [
    "まず、線形回帰のベイズ的な取り扱い方を説明します。線形回帰は、入力 $x^{(t)} \\in \\mathbb R^{p}$ と出力 $y^{(t)} \\in \\mathbb R$ の関係を次のようにモデル化します。"
   ]
  },
  {
   "cell_type": "markdown",
   "id": "a5907c9f",
   "metadata": {},
   "source": [
    "$$\n",
    "\\begin{aligned}\n",
    "    y^{(t)}\n",
    "    &= \\theta_1 x^{(t)}_1 + \\theta_2 x^{(t)}_2 + \\dots + \\theta_p x^{(t)}_p + \\varepsilon^{(t)} \\\\\n",
    "    &= x^{(t) \\top} \\theta + \\varepsilon^{(t)}\n",
    "\\end{aligned}\n",
    "$$"
   ]
  },
  {
   "cell_type": "markdown",
   "id": "939f6ee5",
   "metadata": {},
   "source": [
    "ここで $\\theta \\in \\mathbb R^{p}$ は係数、$\\varepsilon^{(t)}$ はノイズです。ノイズには通常、次のような正規分布を仮定します。"
   ]
  },
  {
   "cell_type": "markdown",
   "id": "5c41a954",
   "metadata": {},
   "source": [
    "$$\n",
    "\\begin{aligned}\n",
    "    \\varepsilon^{(t)} \\sim \\mathcal N(0, \\sigma^2)\n",
    "\\end{aligned}\n",
    "$$"
   ]
  },
  {
   "cell_type": "markdown",
   "id": "f1b8867f",
   "metadata": {},
   "source": [
    "これは出力 $y^{(t)}$ が平均 $x^{(t)\\top} \\theta$、分散 $\\sigma^2$ の正規分布に従うと仮定していることと等価です。"
   ]
  },
  {
   "cell_type": "markdown",
   "id": "f4d39161",
   "metadata": {},
   "source": [
    "$$\n",
    "\\begin{aligned}\n",
    "    y^{(t)} \\mid x^{(t)}, \\theta, \\sigma \\sim \\mathcal N(x^{(t)\\top} \\theta, \\sigma^2)\n",
    "\\end{aligned}\n",
    "$$"
   ]
  },
  {
   "cell_type": "markdown",
   "id": "298e78fa",
   "metadata": {},
   "source": [
    "この $y^{(t)}$ が従う確率分布の確率密度関数は次式で与えられます。"
   ]
  },
  {
   "cell_type": "markdown",
   "id": "da26bc01",
   "metadata": {},
   "source": [
    "$$\n",
    "\\begin{aligned}\n",
    "    p(y^{(t)} \\mid x^{(t)}, \\theta, \\sigma) = \\frac{1}{\\sqrt{2 \\pi \\sigma^2}} \\exp \\left( -\\frac{1}{2\\sigma^2} (y^{(t)} - x^{(t) \\top} \\theta)^2 \\right).\n",
    "\\end{aligned}\n",
    "$$"
   ]
  },
  {
   "cell_type": "markdown",
   "id": "ad4e18b8",
   "metadata": {},
   "source": [
    "いま行いたいことは、係数 $\\theta$ と分散 $\\sigma^2$ をデータ $\\mathcal D = \\{(x^{(t)}, y^{(t)})\\}_{t=1, \\dots, N}$ をもとに推定することです。このことは、ベイズ推定の枠組みでは「係数 $\\theta$ と分散 $\\sigma^2$ の確率分布 $p(\\theta, \\sigma \\mid X, y)$ を求める」ということになります。ここで次のベイズの定理を用います。"
   ]
  },
  {
   "cell_type": "markdown",
   "id": "75557170",
   "metadata": {},
   "source": [
    "$$\n",
    "\\begin{aligned}\n",
    "    p(\\theta, \\sigma \\mid X, y)\n",
    "    &= \\frac{p(y \\mid X, \\theta, \\sigma) p(\\theta, \\sigma)}{p(y \\mid X)} \\\\\n",
    "    &\\propto p(y \\mid X, \\theta, \\sigma) p(\\theta, \\sigma)\n",
    "\\end{aligned}\n",
    "$$"
   ]
  },
  {
   "cell_type": "markdown",
   "id": "37838c16",
   "metadata": {},
   "source": [
    "ただし $y=\\{y^{(1)}, \\dots, y^{(N)}\\}, X=\\{x^{(1)}, \\dots, x^{(N)}\\}$ としました。この式によれば、事前分布 $p(\\theta, \\sigma)$ を設定し、これにモデルの確率分布 $p(y^{(t)} \\mid x^{(t)}, \\theta, \\sigma)$ を掛け、更に定数倍して規格化することによって、パラメータの事後分布 $p(\\theta, \\sigma \\mid X, y)$ を求めることができます。"
   ]
  },
  {
   "cell_type": "markdown",
   "id": "3c208724-1579-49bb-aeaf-e8b691a60c8c",
   "metadata": {},
   "source": [
    "### 馬蹄分布の定式化"
   ]
  },
  {
   "cell_type": "markdown",
   "id": "3360c952-5db6-4874-a472-6ce45daef153",
   "metadata": {},
   "source": [
    "BOCSは、説明変数の個数 $p$ が非常に多いという状況の典型例と言えるので、スパース性を仮定した事前分布が有効に働く可能性が高いです。そこでBOCSでは馬蹄分布 (horseshoe prior) と呼ばれる事前分布を用います。馬蹄分布の定式化には [Makalic & Schmidt (2016)] による次のような定式化を用います (馬蹄分布について詳しくは本記事の補足で説明します)。"
   ]
  },
  {
   "cell_type": "markdown",
   "id": "0629d135-71df-48c7-817c-3447f8a76ea1",
   "metadata": {},
   "source": [
    "$$\n",
    "\\begin{aligned}\n",
    "    y \\mid x, \\theta, \\sigma              &\\sim \\mathcal N(x^\\top \\theta, \\sigma^2) \\\\\n",
    "    \\theta_i \\mid \\lambda_i, \\tau, \\sigma &\\sim \\mathcal N(0, \\lambda_i^2 \\tau^2 \\sigma^2)\n",
    "        & i=1,\\dots,p \\\\\n",
    "    \\lambda_i &\\sim \\mathcal C^+(0, 1)\n",
    "        & i=1,\\dots,p \\\\\n",
    "    \\tau      &\\sim \\mathcal C^+(0, 1) \\\\\n",
    "    \\sigma^2  &\\sim \\frac{1}{\\sigma^2} d\\sigma^2\n",
    "\\end{aligned}\n",
    "$$"
   ]
  },
  {
   "cell_type": "markdown",
   "id": "ed163cbe-7f8f-4f04-a786-0111f0a2ed99",
   "metadata": {},
   "source": [
    "ここで $y \\in \\mathbb R, x \\in \\mathbb R^p, \\theta \\in \\mathbb R^p$ です。$\\mathcal C^+(0, 1)$ は位置パラメータ $0$、尺度パラメータ $1$ の **半コーシー分布** と呼ばれる分布で、以下のような確率密度関数で表されます。"
   ]
  },
  {
   "cell_type": "markdown",
   "id": "7a68efe5-af46-4540-a1ab-b57556d4f65e",
   "metadata": {},
   "source": [
    "$$\n",
    "    p(x) = \\frac{2}{\\pi} \\frac{1}{1 + x^2}\n",
    "$$"
   ]
  },
  {
   "cell_type": "markdown",
   "id": "7f9f974f-b813-495e-a479-4ec20d8d1f8d",
   "metadata": {},
   "source": [
    "$\\sigma^2 \\sim \\sigma^{-2} d\\sigma^2$ は、$\\sigma^2$ が"
   ]
  },
  {
   "cell_type": "markdown",
   "id": "2e510d7c-0971-4506-80a8-59f3e16c996a",
   "metadata": {},
   "source": [
    "$$\n",
    "    p(\\sigma^2) \\propto \\frac{1}{\\sigma^2}\n",
    "$$"
   ]
  },
  {
   "cell_type": "markdown",
   "id": "722f5f24-3050-4acb-b340-39e463e3d3ee",
   "metadata": {},
   "source": [
    "であるような非正則事前分布 (improper prior) に従うことを意味します。ここで “非正則” とは、確率の公理を満たさない、すなわち"
   ]
  },
  {
   "cell_type": "markdown",
   "id": "33cb4638-8258-4aca-b3a3-a8988f7b022e",
   "metadata": {},
   "source": [
    "$$\n",
    "    \\int p(\\sigma^2) d\\sigma^2 \\ne 1\n",
    "$$"
   ]
  },
  {
   "cell_type": "markdown",
   "id": "a346f491-ebf3-4d2b-999d-3af7ae19ce90",
   "metadata": {},
   "source": [
    "であることを意味します。このような分布には、たとえば逆ガンマ分布"
   ]
  },
  {
   "cell_type": "markdown",
   "id": "ffd76bc7-cc28-4d9c-88c6-5dd1be98adeb",
   "metadata": {},
   "source": [
    "$$\n",
    "    p(\\sigma^2 \\mid \\alpha, \\beta)\n",
    "    =\n",
    "    \\frac{\\beta^\\alpha}{\\Gamma(\\alpha)}\n",
    "    \\left( \\frac{1}{\\sigma^2} \\right)^{\\alpha + 1}\n",
    "    \\exp \\left( -\\frac{\\beta}{\\sigma^2} \\right)\n",
    "$$"
   ]
  },
  {
   "cell_type": "markdown",
   "id": "03e821c4-a01d-405b-950a-e7ae8168366d",
   "metadata": {},
   "source": [
    "において $\\alpha, \\beta \\to 0$ としたものなどがあります。"
   ]
  },
  {
   "cell_type": "markdown",
   "id": "d29063b7-340f-45d6-b4aa-237468d1f6a6",
   "metadata": {},
   "source": [
    "### Gibbsサンプリングの定式化"
   ]
  },
  {
   "cell_type": "markdown",
   "id": "80c5a272-1822-4f9f-b7b3-02ccb94a3928",
   "metadata": {},
   "source": [
    "事前分布を定義したので、次にベイズの定理に従って事後分布 $p(\\theta \\mid \\mathcal D)$ を計算し、そこから事後分布に従うサンプルを生成するアルゴリズムを作成すればよいのですが、残念ながら馬蹄分布はそのままでは事後分布からのサンプリングが難しい分布となっています。それは、半コーシー分布 $\\mathcal C^+(0, 1)$ と正規分布 $\\mathcal N(0, \\lambda_i^2 \\tau^2 \\sigma^2)$ はそのままでは相性が悪いという事情に由来します。そこで、[Makalic & Schmidt (2016)] では、まず文献 [Wand+ (2011)] に記載されている定理より導かれる以下の補題を利用して、半コーシー分布を逆ガンマ分布に書き換えます。"
   ]
  },
  {
   "cell_type": "markdown",
   "id": "45120178-2ebb-469f-aceb-140f8ba450ff",
   "metadata": {},
   "source": [
    "---\n",
    "\n",
    "**補題 [Wand+ (2011)]** $x$ が半コーシー分布 $\\mathcal C^+ (x \\mid 0, a)$ に従うならば、$x^2$ は2段階の階層的な逆ガンマ分布の混合に従う。\n",
    "\n",
    "$$\n",
    "\\begin{aligned}\n",
    "    x^2 \\mid a' &\\sim \\Gamma^{-1} \\left( x^2 \\,\\middle|\\, \\frac{1}{2}, \\frac{1}{a'}  \\right), \\\\\n",
    "    a'  \\mid a  &\\sim \\Gamma^{-1} \\left( a'  \\,\\middle|\\, \\frac{1}{2}, \\frac{1}{a^2} \\right).\n",
    "\\end{aligned}\n",
    "$$\n",
    "\n",
    "---"
   ]
  },
  {
   "cell_type": "markdown",
   "id": "ac44f3c0-70ff-4c99-ab38-0e9a620e93df",
   "metadata": {},
   "source": [
    "これを用いれば、$\\lambda_i \\sim \\mathcal C^+(0,1)$ という部分は補助変数 $\\nu_i$ を導入することで"
   ]
  },
  {
   "cell_type": "markdown",
   "id": "c9b5bf97-bde2-45c7-884e-82f92e045ea5",
   "metadata": {},
   "source": [
    "$$\n",
    "\\begin{aligned}\n",
    "    \\lambda_i^2 \\mid \\nu_i &\\sim \\Gamma^{-1} \\left( \\lambda_i^2 \\,\\middle|\\, \\frac{1}{2}, \\frac{1}{\\nu_i} \\right), \\\\\n",
    "    \\nu_i               &\\sim \\Gamma^{-1} \\left( \\nu_i       \\,\\middle|\\, \\frac{1}{2}, 1               \\right)\n",
    "\\end{aligned}\n",
    "$$"
   ]
  },
  {
   "cell_type": "markdown",
   "id": "d4efa876-af38-4c65-95ae-fdfc7922579a",
   "metadata": {},
   "source": [
    "という階層構造に書き直すことができます。$\\tau \\sim \\mathcal C^+(0,1)$ についても同様の書き換えを施すことができ、最終的に以下のようにすべての分布が正規分布と逆ガンマ分布の形で書かれることになります。"
   ]
  },
  {
   "cell_type": "markdown",
   "id": "67db6111-d999-4adf-977c-5aea499a4de0",
   "metadata": {},
   "source": [
    "$$\n",
    "\\begin{aligned}\n",
    "    \\theta_i \\mid \\lambda_i, \\tau, \\sigma\n",
    "    &\\sim \\mathcal{N}(\\theta_i \\mid 0, \\lambda_i^2 \\tau^2 \\sigma^2)\n",
    "    & i &= 1, \\dots, p,\n",
    "    \\\\\n",
    "    \\lambda_i^2 \\mid \\nu_i\n",
    "    &\\sim \\Gamma^{-1} \\left( \\lambda_i^2 \\,\\middle|\\, \\frac{1}{2}, \\frac{1}{\\nu_i} \\right),\n",
    "    & i &= 1, \\dots, p,\n",
    "    \\\\\n",
    "    \\tau^2 \\mid \\xi\n",
    "    &\\sim \\Gamma^{-1} \\left( \\tau^2 \\,\\middle|\\, \\frac{1}{2}, \\frac{1}{\\xi} \\right),\n",
    "    \\\\\n",
    "    \\nu_i\n",
    "    &\\sim \\Gamma^{-1} \\left( \\nu_i \\,\\middle|\\, \\frac{1}{2}, 1 \\right),\n",
    "    & i &= 1, \\dots, p,\n",
    "    \\\\\n",
    "    \\xi\n",
    "    &\\sim \\Gamma^{-1} \\left( \\xi \\,\\middle|\\, \\frac{1}{2}, 1 \\right),\n",
    "    \\\\\n",
    "    \\sigma^2\n",
    "    &\\sim \\frac{1}{\\sigma^2} d\\sigma^2.\n",
    "\\end{aligned}\n",
    "$$"
   ]
  },
  {
   "cell_type": "markdown",
   "id": "c3a26b7a-ea73-44e9-8f10-109879c78a16",
   "metadata": {},
   "source": [
    "逆ガンマ分布は正規分布の分散に関する共役事前分布 (事前分布と事後分布が同じ形となる分布) であり、更に逆ガンマ分布もまた逆ガンマ分布の共役事前分布であるため、この階層構造は都合の良い構造となっています。この階層構造において、各パラメータの条件付き事後分布をベイズの定理を用いて導くと、以下のようになります。"
   ]
  },
  {
   "cell_type": "markdown",
   "id": "8e297a2d-0c35-428f-b752-1364fc849b6a",
   "metadata": {},
   "source": [
    "$$\n",
    "\\begin{aligned}\n",
    "    \\theta \\mid \\mathcal D, \\Theta \\setminus \\{ \\theta \\}\n",
    "    &\\sim \\mathcal{N}(A^{-1} X^\\top y, \\sigma^2 A^{-1}), \n",
    "\\\\\n",
    "    \\sigma^2 \\mid \\mathcal D, \\Theta \\setminus \\{ \\sigma \\}\n",
    "    &\\sim \\Gamma^{-1} \\left( \\frac{p + N}{2}, \\frac{ \\| y - X \\theta \\|_2^2 }{2} + \\frac{1}{2} \\theta^\\top \\mathop{\\rm diag}\\left\\{ \\frac{1}{\\lambda_i^2\\tau^2} \\right\\}\\theta \\right),\n",
    "\\\\\n",
    "    \\lambda_i^2 \\mid \\mathcal D, \\Theta \\setminus \\{ \\lambda_i \\}\n",
    "    &\\sim \\Gamma^{-1} \\left( 1, \\frac{1}{\\nu_i} + \\frac{1}{2 \\sigma^2} \\frac{\\theta_i^2}{\\tau^2} \\right),\n",
    "    & i &= 1, \\dots, p,\n",
    "\\\\\n",
    "    \\tau^2 \\mid \\mathcal D, \\Theta \\setminus \\{ \\tau \\}\n",
    "    &\\sim \\Gamma^{-1} \\left( \\frac{p + 1}{2}, \\frac{1}{\\xi} + \\frac{1}{2 \\sigma^2} \\frac{\\| \\theta \\|_2^2}{\\| \\lambda \\|_2^2} \\right),\n",
    "\\\\\n",
    "    \\nu_i \\mid \\mathcal D, \\Theta \\setminus \\{ \\nu_i \\}\n",
    "    &\\sim \\Gamma^{-1} \\left( 1, 1 + \\frac{1}{\\lambda_i^2} \\right),\n",
    "    & i &= 1, \\dots, p,\n",
    "\\\\\n",
    "    \\xi \\mid \\mathcal D, \\Theta \\setminus \\{ \\xi \\}\n",
    "    &\\sim \\Gamma^{-1} \\left( 1, 1 + \\frac{1}{\\tau^2} \\right),\n",
    "\\end{aligned}\n",
    "$$"
   ]
  },
  {
   "cell_type": "markdown",
   "id": "3a991bb6-9b4c-45fc-879d-910b78eed7e2",
   "metadata": {},
   "source": [
    "ただし"
   ]
  },
  {
   "cell_type": "markdown",
   "id": "66f62e8b-81c6-4ba3-af1d-544ab6d38df7",
   "metadata": {},
   "source": [
    "$$\n",
    "\\begin{aligned}\n",
    "  X &=\n",
    "  \\begin{bmatrix}\n",
    "    x^{(1) \\top} \\\\ x^{(2) \\top} \\\\ \\vdots \\\\ x^{(t) \\top}\n",
    "  \\end{bmatrix} \\in \\mathbb R^{t \\times p},\n",
    "  &\n",
    "  y &=\n",
    "  \\begin{bmatrix}\n",
    "    y^{(1)} \\\\ y^{(2)} \\\\ \\vdots \\\\ y^{(t)}\n",
    "  \\end{bmatrix} \\in \\mathbb R^{t}\n",
    "\\end{aligned}\n",
    "$$"
   ]
  },
  {
   "cell_type": "markdown",
   "id": "4b3d0502-6a1e-467d-9087-a3ab2448fe0f",
   "metadata": {},
   "source": [
    "であり、"
   ]
  },
  {
   "cell_type": "markdown",
   "id": "28e23cb5-f9a2-4281-8eb7-bcc23c5c27c1",
   "metadata": {},
   "source": [
    "$$\n",
    "\\begin{aligned}\n",
    "    A &= X^\\top X + \\mathop{\\rm diag}\\left\\{ \\frac{1}{\\lambda_i^2\\tau^2} \\right\\}\n",
    "\\end{aligned}\n",
    "$$"
   ]
  },
  {
   "cell_type": "markdown",
   "id": "0e529eb9-565a-4330-8f4b-daefe6542c11",
   "metadata": {},
   "source": [
    "であるとします。$\\Theta$ は関与するすべてのパラメータの集合 $\\{\\theta, \\lambda_i, \\tau, \\sigma, \\nu_i, \\xi \\}$ であり、更に $\\mathcal D = \\{(x^{(t)}), y^{(t)}\\}_{t=1, \\dots, N}$ であるとします。"
   ]
  },
  {
   "cell_type": "markdown",
   "id": "a4e556ee-d8c6-4b39-867d-7dda2ba991ca",
   "metadata": {},
   "source": [
    "以上導出された各パラメータの条件付き事後分布から1つ1つパラメータをサンプリングしていくGibbsサンプリング (Gibbs sampler) と呼ばれる方法により、事後分布に従うサンプルを生成することが可能です。"
   ]
  },
  {
   "cell_type": "code",
   "execution_count": 8,
   "id": "1f890a9e",
   "metadata": {},
   "outputs": [],
   "source": [
    "def sample_from_inv_gamma(shape, scale):\n",
    "    return 1.0 / np.random.gamma(shape, 1.0 / scale)\n",
    "\n",
    "def sample_theta(X, y, lamb2, tau2, sigma2):\n",
    "    Phi = X / np.sqrt(sigma2)\n",
    "    alpha = y / np.sqrt(sigma2)\n",
    "    delta = tau2 * lamb2 * sigma2\n",
    "\n",
    "    N, p = Phi.shape\n",
    "    u = np.random.normal(0, np.sqrt(delta), p)\n",
    "    d = np.random.normal(0, 1, N)\n",
    "    v = Phi @ u + d\n",
    "    w = np.linalg.solve((delta * Phi) @ Phi.T + np.eye(N), alpha - v)\n",
    "    theta_new = u + (delta * Phi).T @ w\n",
    "\n",
    "    return theta_new\n",
    "\n",
    "def sample_sigma2(X, y, theta, lamb2, tau2):\n",
    "    N, p = X.shape\n",
    "    shape = (N + p) / 2\n",
    "    scale = np.sum((y - X @ theta)**2) / 2 + np.sum(theta**2 / lamb2 / tau2) / 2\n",
    "    sigma2_new = sample_from_inv_gamma(shape, scale)\n",
    "    return sigma2_new\n",
    "\n",
    "def sample_lamb2(theta, sigma2, tau2, nu):\n",
    "    shape = 1.0\n",
    "    scale = 1.0 / nu + theta**2 / sigma2 / tau2 / 2\n",
    "    lamb2_new = sample_from_inv_gamma(shape, scale)\n",
    "    return lamb2_new\n",
    "\n",
    "def sample_tau2(theta, sigma2, lamb2, xi):\n",
    "    p = len(theta)\n",
    "    shape = (p + 1) / 2\n",
    "    scale = 1.0 / xi + np.sum(theta**2 / sigma2 / lamb2) / 2\n",
    "    tau2_new = sample_from_inv_gamma(shape, scale)\n",
    "    return tau2_new\n",
    "\n",
    "def sample_nu(lamb2):\n",
    "    shape = 1.0\n",
    "    scale = 1.0 + 1.0 / lamb2\n",
    "    nu_new = sample_from_inv_gamma(shape, scale)\n",
    "    return nu_new\n",
    "\n",
    "def sample_xi(tau2):\n",
    "    shape = 1.0\n",
    "    scale = 1.0 + 1.0 / tau2\n",
    "    xi_new = sample_from_inv_gamma(shape, scale)\n",
    "    return xi_new"
   ]
  },
  {
   "cell_type": "markdown",
   "id": "363dc4c9-2047-4879-87aa-3003c0e8df67",
   "metadata": {},
   "source": [
    "こうして作成された各サンプリングの関数をまとめてループさせます。"
   ]
  },
  {
   "cell_type": "code",
   "execution_count": 9,
   "id": "1221015b-3a18-428d-b95a-9c38cf22aa92",
   "metadata": {},
   "outputs": [],
   "source": [
    "def horseshoe_gibbs_sampling(X, y, theta, sigma2, lamb2, tau2, nu, xi, max_iter, logger=None):\n",
    "    for i in range(max_iter):\n",
    "        xi = sample_xi(tau2)\n",
    "        nu = sample_nu(lamb2)\n",
    "        tau2 = sample_tau2(theta, sigma2, lamb2, xi)\n",
    "        lamb2 = sample_lamb2(theta, sigma2, tau2, nu)\n",
    "        sigma2 = sample_sigma2(X, y, theta, lamb2, tau2)\n",
    "        theta = sample_theta(X, y, lamb2, tau2, sigma2)\n",
    "\n",
    "        if logger is not None:\n",
    "            logger.info(f\"iter: {i:3d}, theta: {np.mean(theta): 10.3e}, sigma2: {sigma2:10.3e}, lamb2: {np.mean(lamb2):10.3e}, tau2: {tau2:10.3e}, nu: {np.mean(nu):10.3e}, xi: {xi:10.3e}, error: {np.mean((y - X @ theta)**2):10.3e}\")\n",
    "\n",
    "    return theta, sigma2, lamb2, tau2, nu, xi"
   ]
  },
  {
   "cell_type": "code",
   "execution_count": 10,
   "id": "42247312-f411-443f-946e-6b88b732532c",
   "metadata": {},
   "outputs": [],
   "source": [
    "def remove_duplicates_and_average(X, y, logger=None):\n",
    "    X = np.array(X, dtype=float)\n",
    "    y = np.array(y, dtype=float)\n",
    "\n",
    "    sorted_indices = np.lexsort(X.T)\n",
    "    X = X[sorted_indices]\n",
    "    y = y[sorted_indices]\n",
    "\n",
    "    _, unique_indices, counts = np.unique(X, axis=0, return_index=True, return_counts=True)\n",
    "    X = X[unique_indices]\n",
    "\n",
    "    sorted_indices = np.lexsort(X.T)\n",
    "    X = X[sorted_indices]\n",
    "\n",
    "    remove_indices = []\n",
    "    for unique_index, count in zip(unique_indices, counts):\n",
    "        if count > 1:\n",
    "            y[unique_index] = np.mean(y[unique_index:unique_index+count])\n",
    "            remove_indices.extend(range(unique_index+1, unique_index+count))\n",
    "    y = np.delete(y, remove_indices)\n",
    "\n",
    "    if logger is not None:\n",
    "        if len(remove_indices) > 0:\n",
    "            logger.info(f\"Removed {len(remove_indices)} duplicate rows\")\n",
    "\n",
    "    return X, y\n",
    "\n",
    "def get_nonzero_column_indices(X, logger=None):\n",
    "    nonzero_column_indices = np.where(np.any(X != 0, axis=0))[0]\n",
    "    if logger is not None:\n",
    "        if len(nonzero_column_indices) < X.shape[1]:\n",
    "            logger.info(f\"Removed {X.shape[1] - len(nonzero_column_indices)} zero columns\")\n",
    "    return nonzero_column_indices\n",
    "\n",
    "class HorseshoeGibbs:\n",
    "    def __init__(\n",
    "        self,\n",
    "        max_iter:int=50,\n",
    "        warm_start:bool=True\n",
    "    ):\n",
    "        self.max_iter = max_iter\n",
    "        self.warm_start = warm_start\n",
    "\n",
    "        self.coef_ = None\n",
    "        self.sigma2_ = None\n",
    "        self.lamb2_ = None\n",
    "        self.tau2_ = None\n",
    "        self.nu_ = None\n",
    "        self.xi_ = None\n",
    "\n",
    "    def initialize_params(self, num_features):\n",
    "        self.coef_ = np.zeros(num_features, dtype=np.float64)\n",
    "        self.sigma2_ = 1.0\n",
    "        self.lamb2_ = np.random.uniform(0.0, 1.0, num_features).astype(np.float64)\n",
    "        self.tau2_ = np.random.uniform(0.0, 1.0)\n",
    "        self.nu_ = np.ones(num_features, dtype=np.float64)\n",
    "        self.xi_ = 1.0\n",
    "\n",
    "    def fit(self,\n",
    "        X: np.ndarray,\n",
    "        y: np.ndarray,\n",
    "        logger:Optional[logging.Logger]=None,\n",
    "    ):\n",
    "        if (self.sigma2_ is None) or (self.warm_start is False):\n",
    "            self.initialize_params(X.shape[1])\n",
    "\n",
    "        X, y = remove_duplicates_and_average(X, y, logger)\n",
    "        nonzero_column_indices = get_nonzero_column_indices(X, logger).astype(int)\n",
    "        X = X[:, nonzero_column_indices]\n",
    "\n",
    "        coef   = self.coef_[nonzero_column_indices]\n",
    "        sigma2 = self.sigma2_\n",
    "        lamb2  = self.lamb2_[nonzero_column_indices]\n",
    "        tau2   = self.tau2_\n",
    "        nu     = self.nu_[nonzero_column_indices]\n",
    "        xi     = self.xi_\n",
    "\n",
    "        coef, sigma2, lamb2, tau2, nu, xi = horseshoe_gibbs_sampling(X, y, coef, sigma2, lamb2, tau2, nu, xi, self.max_iter, logger)\n",
    "\n",
    "        self.coef_[nonzero_column_indices]  = np.array(coef)\n",
    "        self.sigma2_                        = sigma2\n",
    "        self.lamb2_[nonzero_column_indices] = np.array(lamb2)\n",
    "        self.tau2_                          = tau2\n",
    "        self.nu_[nonzero_column_indices]    = np.array(nu)\n",
    "        self.xi_                            = xi\n"
   ]
  },
  {
   "cell_type": "markdown",
   "id": "9aa61340-d07c-4b67-8873-cfa4c36d81e4",
   "metadata": {},
   "source": [
    "ここで、重複した行を削除する関数として `remove_duplicates_and_average()` 関数を新たに定義し、更にすべての値が `0` であるような列を削除するために `get_nonzero_column_indices()` 関数を定義しています。こうすることで、線形代数計算上のエラーや計算速度の低下を防ぐことができます。"
   ]
  },
  {
   "cell_type": "code",
   "execution_count": 11,
   "id": "c7561f5b-795d-4839-a337-27d92bb7568d",
   "metadata": {
    "scrolled": true
   },
   "outputs": [
    {
     "name": "stderr",
     "output_type": "stream",
     "text": [
      "HS_DEBUG [INFO] Removed 10 duplicate rows\n",
      "HS_DEBUG [INFO] iter:   0, theta: -1.347e-01, sigma2:  1.846e+02, lamb2:  3.636e+01, tau2:  1.413e-02, nu:  3.219e+01, xi:  9.412e+00, error:  1.048e+02\n",
      "HS_DEBUG [INFO] iter:   1, theta: -7.155e-02, sigma2:  9.308e+01, lamb2:  5.524e+00, tau2:  1.699e-02, nu:  6.754e+00, xi:  6.228e+02, error:  8.451e+01\n",
      "HS_DEBUG [INFO] iter:   2, theta:  4.337e-01, sigma2:  7.256e+01, lamb2:  2.400e+00, tau2:  6.108e-02, nu:  4.898e+01, xi:  4.005e+01, error:  2.444e+01\n",
      "HS_DEBUG [INFO] iter:   3, theta:  4.158e-01, sigma2:  2.810e+01, lamb2:  2.636e+00, tau2:  7.261e-01, nu:  1.009e+01, xi:  7.539e+01, error:  1.115e+01\n",
      "HS_DEBUG [INFO] iter:   4, theta:  4.421e-01, sigma2:  1.285e+01, lamb2:  5.294e-01, tau2:  7.280e+00, nu:  1.432e+01, xi:  8.084e-01, error:  7.223e-01\n",
      "HS_DEBUG [INFO] iter:   5, theta:  4.747e-01, sigma2:  7.430e-01, lamb2:  1.165e+00, tau2:  7.506e+01, nu:  1.662e+01, xi:  9.810e-01, error:  6.845e-02\n",
      "HS_DEBUG [INFO] iter:   6, theta:  4.782e-01, sigma2:  1.061e-01, lamb2:  1.909e+01, tau2:  4.517e+02, nu:  4.820e+01, xi:  1.642e+00, error:  1.703e-02\n",
      "HS_DEBUG [INFO] iter:   7, theta:  4.728e-01, sigma2:  2.339e-02, lamb2:  1.048e+00, tau2:  1.534e+03, nu:  1.531e+01, xi:  2.944e+00, error:  8.378e-03\n",
      "HS_DEBUG [INFO] iter:   8, theta:  4.705e-01, sigma2:  1.443e-02, lamb2:  4.021e+00, tau2:  2.037e+03, nu:  2.207e+01, xi:  2.119e+00, error:  8.943e-03\n",
      "HS_DEBUG [INFO] iter:   9, theta:  4.704e-01, sigma2:  8.431e-03, lamb2:  1.738e+00, tau2:  1.123e+04, nu:  2.954e+00, xi:  1.214e+00, error:  7.962e-03\n",
      "HS_DEBUG [INFO] iter:  10, theta:  4.711e-01, sigma2:  8.531e-03, lamb2:  2.163e+00, tau2:  9.056e+03, nu:  2.154e+01, xi:  4.324e+00, error:  7.690e-03\n",
      "HS_DEBUG [INFO] iter:  11, theta:  4.712e-01, sigma2:  1.042e-02, lamb2:  1.427e+00, tau2:  6.536e+03, nu:  1.611e+01, xi:  4.810e-01, error:  8.488e-03\n",
      "HS_DEBUG [INFO] iter:  12, theta:  4.723e-01, sigma2:  9.932e-03, lamb2:  8.618e+00, tau2:  6.707e+03, nu:  6.320e+00, xi:  5.902e-01, error:  7.938e-03\n",
      "HS_DEBUG [INFO] iter:  13, theta:  4.716e-01, sigma2:  7.853e-03, lamb2:  2.009e+00, tau2:  4.986e+03, nu:  1.470e+01, xi:  2.086e-01, error:  7.979e-03\n",
      "HS_DEBUG [INFO] iter:  14, theta:  4.702e-01, sigma2:  9.556e-03, lamb2:  1.471e+00, tau2:  7.493e+03, nu:  1.789e+01, xi:  3.221e+00, error:  8.130e-03\n",
      "HS_DEBUG [INFO] iter:  15, theta:  4.739e-01, sigma2:  8.541e-03, lamb2:  4.232e+00, tau2:  1.262e+04, nu:  5.195e+00, xi:  1.098e+00, error:  8.032e-03\n",
      "HS_DEBUG [INFO] iter:  16, theta:  4.709e-01, sigma2:  8.406e-03, lamb2:  2.457e+00, tau2:  9.333e+03, nu:  4.205e+01, xi:  5.261e-01, error:  8.585e-03\n",
      "HS_DEBUG [INFO] iter:  17, theta:  4.726e-01, sigma2:  1.060e-02, lamb2:  1.206e+00, tau2:  2.221e+04, nu:  1.317e+01, xi:  4.335e-01, error:  8.427e-03\n",
      "HS_DEBUG [INFO] iter:  18, theta:  4.725e-01, sigma2:  9.011e-03, lamb2:  9.464e-01, tau2:  2.441e+04, nu:  1.458e+01, xi:  5.359e-01, error:  8.028e-03\n",
      "HS_DEBUG [INFO] iter:  19, theta:  4.706e-01, sigma2:  7.215e-03, lamb2:  6.038e-01, tau2:  5.768e+04, nu:  1.682e+01, xi:  5.046e+00, error:  8.060e-03\n"
     ]
    },
    {
     "name": "stdout",
     "output_type": "stream",
     "text": [
      "coef_true:\n",
      " [  9.23456008   3.30461853  -6.43565479  -5.88720689   5.16053884\n",
      " -10.12023364  11.05772715  -6.60391563   9.41823602  -4.4190765 ]\n",
      "coef_estim:\n",
      " [  9.22162225   3.257829    -6.41750444  -5.88901289   5.16060127\n",
      " -10.12109919  11.05351743  -6.64992369   9.46811125  -4.37775589]\n",
      "MSE:\n",
      " 0.0009019492036717482\n"
     ]
    }
   ],
   "source": [
    "# TEST\n",
    "\n",
    "logger_horseshoe = create_logger(\"HS_DEBUG\", level=logging.DEBUG)\n",
    "\n",
    "num_features = 10\n",
    "num_samples  = 150\n",
    "\n",
    "coef_true = np.random.normal(0, 10, size=num_features)\n",
    "x_data = np.random.choice([0, 1], size=(num_samples, num_features))\n",
    "y_data = x_data @ coef_true + np.random.normal(0, .1, size=num_samples)\n",
    "\n",
    "horseshoe = HorseshoeGibbs(max_iter=20)\n",
    "horseshoe.fit(x_data, y_data, logger_horseshoe)\n",
    "\n",
    "coef_estim = horseshoe.coef_\n",
    "\n",
    "print(\"coef_true:\\n\", coef_true)\n",
    "print(\"coef_estim:\\n\", coef_estim)\n",
    "print(\"MSE:\\n\", np.mean((coef_true - coef_estim)**2))"
   ]
  },
  {
   "cell_type": "markdown",
   "id": "901fc3f2-2924-4a0b-a7c4-0e73b8c8f603",
   "metadata": {},
   "source": [
    "### 多変量正規分布からの効率的なサンプリング"
   ]
  },
  {
   "cell_type": "markdown",
   "id": "f1d70bee-cd0c-4742-86d3-a47f82b51bd7",
   "metadata": {},
   "source": [
    "上述のGibbsサンプリングにおいてボトルネックとなるのが $\\theta \\mid \\mathcal D, \\Theta \\setminus \\{\\theta\\}$ のサンプルで、この部分は (1) 逆行列 $A^{-1}$ の計算、(2)多変量正規分布 $\\mathcal{N}(A^{-1} X^\\top y, \\sigma^2 A^{-1})$ からのサンプリング、のいずれも $\\mathcal O(p^3) = \\mathcal O(d^6)$ もの時間計算量を要求します。この部分を高速化するために、先程のコードでは [Bhattacharya+ (2016)] による以下のアルゴリズムを使用しています。"
   ]
  },
  {
   "cell_type": "markdown",
   "id": "9bfa014b-a09b-4e34-82b9-d87c314d653c",
   "metadata": {},
   "source": [
    "---\n",
    "\n",
    "**アルゴリズム [Bhattacharya+ (2016)]**: 以下の多変量正規分布を考える。"
   ]
  },
  {
   "cell_type": "markdown",
   "id": "2c7fd161-a205-40cc-ada6-4cbf2dd244cf",
   "metadata": {},
   "source": [
    "$$\n",
    "\\begin{aligned}\n",
    "    \\theta \\sim \\mathcal N(m, V)\n",
    "\\end{aligned}\n",
    "$$"
   ]
  },
  {
   "cell_type": "markdown",
   "id": "40f05b6c-32e8-412c-8fa5-74b08bba8802",
   "metadata": {},
   "source": [
    "ただし"
   ]
  },
  {
   "cell_type": "markdown",
   "id": "f29e057c-875a-42ac-a0e2-036c7e8b2779",
   "metadata": {},
   "source": [
    "$$\n",
    "\\begin{aligned}\n",
    "    m &= V \\Phi^\\top \\alpha && \\in \\mathbb{R}^{p}, \\\\\n",
    "    V &= \\left( \\Phi^\\top \\Phi + \\Delta^{-1} \\right)^{-1} && \\in \\mathbb{R}^{p \\times p}\n",
    "\\end{aligned}\n",
    "$$"
   ]
  },
  {
   "cell_type": "markdown",
   "id": "b6975edd-8ee9-4d95-9b35-8788e1fcf515",
   "metadata": {},
   "source": [
    "であり、$\\Phi \\in \\mathbb R^{N \\times p}$、$\\alpha \\in \\mathbb R^N$、$\\Delta \\in \\mathbb R^{p \\times p}$、さらに $\\Delta$ は正定値行列である。"
   ]
  },
  {
   "cell_type": "markdown",
   "id": "d417f2f2-8639-41ef-95c8-47c8f8825e5e",
   "metadata": {},
   "source": [
    "この分布に従うサンプル $\\theta \\in \\mathbb R^p$ は、以下の方法により生成可能である。"
   ]
  },
  {
   "cell_type": "markdown",
   "id": "a3271995-3d03-461b-a398-4fb04f0686e4",
   "metadata": {},
   "source": [
    "1. $u \\in \\mathbb R^p$ を多変量正規分布 $\\mathcal N(0, \\Delta)$ からサンプルする\n",
    "2. $v \\in \\mathbb R^N$ を多変量正規分布 $\\mathcal N(\\Phi u, I)$ からサンプルする\n",
    "3. 線形方程式 $(\\Phi \\Delta \\Phi^\\top + I) w = (\\alpha - v)$ を $w$ について解く\n",
    "4. $\\theta = u + \\Delta \\Phi^\\top w$ を計算する\n",
    "\n",
    "---"
   ]
  },
  {
   "cell_type": "markdown",
   "id": "59b695bc-c02d-4e1e-98e5-60caf885d217",
   "metadata": {},
   "source": [
    "アルゴリズムの正当性はSherman–Morrison–Woodburyの公式により示されます。"
   ]
  },
  {
   "cell_type": "markdown",
   "id": "09e4fbb1-77ac-4541-9a76-6764e864ec36",
   "metadata": {},
   "source": [
    "このアルゴリズムに $\\theta \\mid \\mathcal D, \\Theta \\setminus \\{ \\theta \\} \\sim \\mathcal{N}(A^{-1} X^\\top y, \\sigma^2 A^{-1})$ を当てはめると、"
   ]
  },
  {
   "cell_type": "markdown",
   "id": "16e15d64-398f-4e7b-80f6-ccf0d2c9cb90",
   "metadata": {},
   "source": [
    "$$\n",
    "\\begin{aligned}\n",
    "    \\Phi = \\frac{X}{\\sigma}, \\quad\n",
    "    \\alpha = \\frac{y}{\\sigma}, \\quad\n",
    "    \\Delta = \\mathop{\\rm diag} \\left\\{ \\tau_i^2 \\lambda^2 \\sigma^2 \\right\\}\n",
    "\\end{aligned}\n",
    "$$"
   ]
  },
  {
   "cell_type": "markdown",
   "id": "e53b0896-f145-4965-85c2-a1f45cd79c53",
   "metadata": {},
   "source": [
    "となります。"
   ]
  },
  {
   "cell_type": "markdown",
   "id": "c5e32582-668b-423b-a687-37e15db21fd1",
   "metadata": {},
   "source": [
    "以上のアルゴリズムにおいて、最大のボトルネックとなるのは線形方程式を解く部分です。詳細は省略しますが、行列 $\\Delta$ がスパースな場合には $\\mathcal O(p N^2)$ が、$\\Delta$ がスパースでない場合には $\\mathcal O(p^2 N)$ が支配的になります。今回の設定ではいずれにせよ $\\mathcal O(p^3)$ に比べれば $p$ への依存性が小さくなることが確認できます。"
   ]
  },
  {
   "cell_type": "markdown",
   "id": "bf0d9d2d-6795-4870-ae1c-b89d1a98b065",
   "metadata": {},
   "source": [
    "`sample_theta()` 関数では、以上のロジックを用いてサンプリングを高速化するよう工夫しています。"
   ]
  },
  {
   "cell_type": "markdown",
   "id": "a72f3796-edbc-4dce-a55f-f8908baf4c66",
   "metadata": {},
   "source": [
    "### 獲得関数の最適化"
   ]
  },
  {
   "cell_type": "markdown",
   "id": "9c90580c-d91e-4039-afa8-26f52f3ce93b",
   "metadata": {},
   "source": [
    "得られたサンプル $\\tilde \\theta \\sim p(\\theta | \\mathcal D)$ を用いた2次多項式モデル $\\alpha(x) = \\hat f(x;\\tilde\\theta)$ を最小化する入力 $x^{(t+1)} = \\mathop{\\rm arg~min}_x \\alpha(x)$ が、次に入力するサンプルとなります。ここからは、この入力を探索するロジックを作成します。"
   ]
  },
  {
   "cell_type": "markdown",
   "id": "b37323f2-401c-47ea-9db4-2cc3a6f6c6cd",
   "metadata": {},
   "source": [
    "まず2次多項式モデルを最小化する問題 $\\mathop{\\rm minimize}_x \\hat f(x;\\tilde\\theta)$ が、次式で表されるようなQUBO (quadratic unconstrained binary optimization, 二次無制約二値最適化問題) に書き直すことができる点に注目します。"
   ]
  },
  {
   "cell_type": "markdown",
   "id": "6a9b63a3-0fa8-4ef9-a4c1-4fa4e615ae72",
   "metadata": {},
   "source": [
    "$$\n",
    "\\begin{aligned}\n",
    "    \\mathop{\\rm minimize}\\limits_{x \\in \\{0, 1\\}^d} \\quad x^\\top Q x\n",
    "\\end{aligned}\n",
    "$$"
   ]
  },
  {
   "cell_type": "markdown",
   "id": "5edacc12-9913-4dd7-9ecc-fe39de20b1dd",
   "metadata": {},
   "source": [
    "このことを用いて、今回は $\\tilde \\theta$ をQUBO行列に変換し、焼きなまし法 (SA) でのサンプリングを行うことで次の入力を探索する方法をとります。"
   ]
  },
  {
   "cell_type": "markdown",
   "id": "d953c409-e7cd-4a4d-900f-dc14d71ab5ae",
   "metadata": {},
   "source": [
    "SAによるサンプリングは `dwave-neal` による実装を使用します。"
   ]
  },
  {
   "cell_type": "code",
   "execution_count": 12,
   "id": "019d4a70-f465-4cb4-b0ef-8ae216ace1a5",
   "metadata": {},
   "outputs": [],
   "source": [
    "def calc_num_vars_from_num_features(num_features):\n",
    "    return int((-1 + np.sqrt(8 * num_features - 7)) // 2)\n",
    "\n",
    "def calc_Q_from_coef(coef):\n",
    "    num_features = len(coef)\n",
    "    num_vars = calc_num_vars_from_num_features(num_features)\n",
    "    Q = np.zeros((num_vars, num_vars))\n",
    "    i,j = np.diag_indices(num_vars)\n",
    "    Q[i,j] = coef[1:num_vars+1]\n",
    "    i,j = np.triu_indices(num_vars, k=1)\n",
    "    Q[i,j] = coef[num_vars+1:]\n",
    "    return Q\n",
    "\n",
    "class BOCSAcquisitionFunction:\n",
    "    def __init__(self, optimizer: neal.SimulatedAnnealingSampler.sample_qubo):\n",
    "        self.optimizer = optimizer\n",
    "\n",
    "    def build(self, surrogate_model):\n",
    "        coef = surrogate_model.params['coef']\n",
    "        Q = calc_Q_from_coef(coef)\n",
    "        self.Q = Q\n",
    "\n",
    "    def optimize(self):\n",
    "        response = self.optimizer(self.Q)\n",
    "        optimal_x = np.array(list(response.first.sample.values()), dtype=int)\n",
    "        return optimal_x"
   ]
  },
  {
   "cell_type": "code",
   "execution_count": 13,
   "id": "ea430e44-9558-4725-adfb-b2fd7c8774e7",
   "metadata": {},
   "outputs": [
    {
     "name": "stdout",
     "output_type": "stream",
     "text": [
      "x_next: [0 0 1 1 1 0 1 1 1 1]\n",
      "y_next: -73.41455419923074\n",
      "similarity: 0.9991270110292981\n"
     ]
    }
   ],
   "source": [
    "# TEST 真のQ_trueと推定されたQの類似度を計算\n",
    "\n",
    "num_vars = 10\n",
    "num_samples = 250\n",
    "\n",
    "Q_true = np.triu(np.random.normal(0, 10, size=(num_vars, num_vars)))\n",
    "x_data = np.random.choice([0, 1], size=(num_samples, num_vars))\n",
    "y_data = np.einsum(\"di,dj,ij->d\", x_data, x_data, Q_true) + np.random.normal(0, .1, size=num_samples)\n",
    "\n",
    "horseshoe_linear_regressor = HorseshoeGibbs(max_iter=20)\n",
    "bocs_surrogate_model = BOCSSurrogateModel(num_vars, linear_regressor=horseshoe_linear_regressor)\n",
    "bocs_acquis_func = BOCSAcquisitionFunction(neal.SimulatedAnnealingSampler().sample_qubo)\n",
    "\n",
    "bocs_surrogate_model.update(x_data, y_data)\n",
    "\n",
    "bocs_acquis_func.build(bocs_surrogate_model)\n",
    "x_next = bocs_acquis_func.optimize()\n",
    "y_next = x_next @ Q_true @ x_next\n",
    "\n",
    "print(\"x_next:\", x_next)\n",
    "print(\"y_next:\", y_next)\n",
    "print(\"similarity:\", np.sum( Q_true * bocs_acquis_func.Q) / np.sqrt( np.sum(Q_true**2) * np.sum(bocs_acquis_func.Q**2) ) )"
   ]
  },
  {
   "cell_type": "markdown",
   "id": "6c89bed9-3254-422e-b217-beccbfc65bb3",
   "metadata": {},
   "source": [
    "## 実験"
   ]
  },
  {
   "cell_type": "markdown",
   "id": "68e23510-945b-4308-9aa8-aae493ec5b45",
   "metadata": {
    "jp-MarkdownHeadingCollapsed": true
   },
   "source": [
    "以上で `BOCS-SA` に必要な機能を準備できたので、いくつかの問題を作成してテストを行いましょう。"
   ]
  },
  {
   "cell_type": "markdown",
   "id": "acee4cd3-22e3-48eb-86f5-7b81c81b2da3",
   "metadata": {},
   "source": [
    "### RandomQUBO"
   ]
  },
  {
   "cell_type": "markdown",
   "id": "a84ce9e9-04c3-4bf6-a222-3ff78463a3d3",
   "metadata": {
    "jp-MarkdownHeadingCollapsed": true
   },
   "source": [
    "まず、簡単な例題として、ランダムに生成されたQUBO形式の目的関数の最適解を探索する問題を取り扱います。"
   ]
  },
  {
   "cell_type": "code",
   "execution_count": 14,
   "id": "4ba8a026-5581-4817-a19f-289b6d8b3762",
   "metadata": {},
   "outputs": [],
   "source": [
    "class RandomQUBO:\n",
    "    def __init__(self, num_vars, noise_variance: float=0., seed: Optional[int]=None):\n",
    "        self.noise_variance = noise_variance\n",
    "        self.rng = np.random.default_rng(seed)\n",
    "        self.Q = self.rng.normal(0, 1, size=(num_vars, num_vars))\n",
    "\n",
    "    def energy(self, x):\n",
    "        return x @ self.Q @ x\n",
    "\n",
    "    def __call__(self, x):\n",
    "        return self.energy(x) + self.rng.normal(0, np.sqrt(self.noise_variance))"
   ]
  },
  {
   "cell_type": "markdown",
   "id": "233d8069-4375-47cc-9135-2079895c029c",
   "metadata": {
    "jp-MarkdownHeadingCollapsed": true
   },
   "source": [
    "SAによりこのモデルの最小化問題の最適解を探索します。"
   ]
  },
  {
   "cell_type": "code",
   "execution_count": 15,
   "id": "90bde248-e09c-47d4-a596-1a7d03b1ee06",
   "metadata": {},
   "outputs": [
    {
     "name": "stdout",
     "output_type": "stream",
     "text": [
      "   0  1  2  3  4  5  6  7  8  9 10 11 12 13 14 15     energy num_oc.\n",
      "0  1  1  0  0  0  0  1  0  0  1  1  1  1  1  1  1 -25.135564       1\n",
      "1  1  1  0  0  0  0  1  0  0  1  1  1  1  1  1  1 -25.135564       1\n",
      "2  1  1  0  0  0  0  1  0  0  1  1  1  1  1  1  1 -25.135564       1\n",
      "3  1  1  0  0  0  0  1  0  0  1  1  1  1  1  1  1 -25.135564       1\n",
      "4  1  1  0  0  0  0  1  0  0  1  1  1  1  1  1  1 -25.135564       1\n",
      "5  1  1  0  0  0  0  1  0  0  1  1  1  1  1  1  1 -25.135564       1\n",
      "6  1  1  0  0  0  0  1  0  0  1  1  1  1  1  1  1 -25.135564       1\n",
      "7  1  1  0  0  0  0  1  0  0  1  1  1  1  1  1  1 -25.135564       1\n",
      "8  1  1  0  0  0  0  1  0  0  1  1  1  1  1  1  1 -25.135564       1\n",
      "9  1  1  0  0  0  0  1  0  0  1  1  1  1  1  1  1 -25.135564       1\n",
      "['BINARY', 10 rows, 10 samples, 16 variables]\n",
      "Approximate groudstate: [1, 1, 0, 0, 0, 0, 1, 0, 0, 1, 1, 1, 1, 1, 1, 1] -25.135563764520846\n"
     ]
    }
   ],
   "source": [
    "# TEST\n",
    "\n",
    "seed = 0\n",
    "rng  = np.random.default_rng(seed)\n",
    "\n",
    "num_vars         = 16\n",
    "num_init_samples = 5\n",
    "noise_variance   = 0.1\n",
    "\n",
    "random_qubo = RandomQUBO(num_vars, noise_variance=0.1, seed=seed)\n",
    "Q = random_qubo.Q\n",
    "\n",
    "response = neal.SimulatedAnnealingSampler().sample_qubo(Q, num_reads=10)\n",
    "print(response)\n",
    "\n",
    "GS_energy = response.first.energy\n",
    "GS_sample = list(response.first.sample.values())\n",
    "print(\"Approximate groudstate:\", GS_sample, GS_energy)"
   ]
  },
  {
   "cell_type": "markdown",
   "id": "c956148f-abf7-4594-ae29-9820a0eceeae",
   "metadata": {
    "jp-MarkdownHeadingCollapsed": true
   },
   "source": [
    "以上の目的関数と、代理モデル、獲得関数、ソルバーを指定し、ベイズ最適化を実行します。"
   ]
  },
  {
   "cell_type": "code",
   "execution_count": 16,
   "id": "49fdf8a8-efe2-41c9-89bb-7eaf4b455d86",
   "metadata": {
    "scrolled": true
   },
   "outputs": [
    {
     "name": "stderr",
     "output_type": "stream",
     "text": [
      "BOCS-SA [INFO] iter:   0, y_next:  2.865e+00, y_best:  3.008e+00, GS: -2.514e+01\n",
      "BOCS-SA [INFO] iter:  10, y_next: -1.345e+01, y_best: -1.378e+01, GS: -2.514e+01\n",
      "BOCS-SA [INFO] iter:  20, y_next: -2.105e+01, y_best: -2.095e+01, GS: -2.514e+01\n",
      "BOCS-SA [INFO] iter:  30, y_next: -1.668e+01, y_best: -2.240e+01, GS: -2.514e+01\n",
      "BOCS-SA [INFO] iter:  40, y_next: -2.452e+01, y_best: -2.472e+01, GS: -2.514e+01\n",
      "BOCS-SA [INFO] iter:  50, y_next: -2.138e+01, y_best: -2.472e+01, GS: -2.514e+01\n",
      "BOCS-SA [INFO] iter:  60, y_next: -2.490e+01, y_best: -2.472e+01, GS: -2.514e+01\n",
      "BOCS-SA [INFO] iter:  70, y_next: -2.520e+01, y_best: -2.472e+01, GS: -2.514e+01\n",
      "BOCS-SA [INFO] iter:  80, y_next: -1.913e+01, y_best: -2.472e+01, GS: -2.514e+01\n",
      "BOCS-SA [INFO] iter:  90, y_next: -2.449e+01, y_best: -2.514e+01, GS: -2.514e+01\n",
      "BOCS-SA [INFO] iter: 100, y_next: -1.013e+01, y_best: -2.514e+01, GS: -2.514e+01\n",
      "BOCS-SA [INFO] iter: 110, y_next: -2.526e+01, y_best: -2.514e+01, GS: -2.514e+01\n",
      "BOCS-SA [INFO] iter: 120, y_next: -2.298e+01, y_best: -2.514e+01, GS: -2.514e+01\n",
      "BOCS-SA [INFO] iter: 130, y_next: -2.488e+01, y_best: -2.514e+01, GS: -2.514e+01\n",
      "BOCS-SA [INFO] iter: 140, y_next: -2.495e+01, y_best: -2.514e+01, GS: -2.514e+01\n",
      "BOCS-SA [INFO] iter: 150, y_next: -2.438e+01, y_best: -2.514e+01, GS: -2.514e+01\n",
      "BOCS-SA [INFO] iter: 160, y_next: -2.470e+01, y_best: -2.514e+01, GS: -2.514e+01\n",
      "BOCS-SA [INFO] iter: 170, y_next: -2.501e+01, y_best: -2.514e+01, GS: -2.514e+01\n",
      "BOCS-SA [INFO] iter: 180, y_next: -2.480e+01, y_best: -2.514e+01, GS: -2.514e+01\n",
      "BOCS-SA [INFO] iter: 190, y_next: -2.500e+01, y_best: -2.514e+01, GS: -2.514e+01\n"
     ]
    }
   ],
   "source": [
    "surrogate_model = BOCSSurrogateModel(num_vars, linear_regressor=HorseshoeGibbs(max_iter=10))\n",
    "acquisition_function = BOCSAcquisitionFunction(neal.SimulatedAnnealingSampler().sample_qubo)\n",
    "\n",
    "X = rng.choice([0, 1], size=(num_init_samples, num_vars))\n",
    "y = np.array([random_qubo(x) for x in X])\n",
    "\n",
    "# bayesian optimization loop\n",
    "y_best = np.inf\n",
    "for i in range(200):\n",
    "    surrogate_model.update(X, y)\n",
    "    acquisition_function.build(surrogate_model)\n",
    "    x_next = acquisition_function.optimize()\n",
    "    y_next = random_qubo(x_next) # 関数の “観測値” を記録\n",
    "\n",
    "    X = np.vstack([X, x_next])\n",
    "    y = np.hstack([y, y_next])\n",
    "\n",
    "    y_best = min(y_best, random_qubo.energy(x_next)) # 関数の真の値を記録\n",
    "    if i % 10 == 0:\n",
    "        logger.info(\n",
    "            \"iter: {:3d}, y_next: {:10.3e}, y_best: {:10.3e}, GS: {:10.3e}\"\n",
    "            .format(i, y_next, y_best, GS_energy)\n",
    "        )"
   ]
  },
  {
   "cell_type": "markdown",
   "id": "dbacbfd2-2663-4082-ad7f-5496a2eb570f",
   "metadata": {
    "scrolled": true
   },
   "source": [
    "得られた結果をプロットしてみましょう。"
   ]
  },
  {
   "cell_type": "code",
   "execution_count": 17,
   "id": "944c51e4-7a82-4190-b1fd-2301095b4c29",
   "metadata": {},
   "outputs": [
    {
     "data": {
      "image/png": "[encoded data removed]",
      "text/plain": [
       "<Figure size 600x400 with 1 Axes>"
      ]
     },
     "metadata": {},
     "output_type": "display_data"
    }
   ],
   "source": [
    "plot_x = X\n",
    "plot_y = np.apply_along_axis(random_qubo.energy, 1, X)\n",
    "\n",
    "plot_min_y = np.array([np.min(plot_y[:i]) for i in range(1, len(y)+1)])\n",
    "\n",
    "fig = plt.figure(figsize=(6,4))\n",
    "ax = fig.add_subplot()\n",
    "\n",
    "ax.plot(np.arange(len(plot_min_y)), plot_min_y - GS_energy, color=\"blue\")\n",
    "ax.scatter(np.arange(len(plot_y)), plot_y - GS_energy, color=\"red\", marker=\"x\")\n",
    "\n",
    "ax.set_title(\"RandomQUBO\")\n",
    "ax.set_xlabel(\"iteration $t$\")\n",
    "ax.set_ylabel(r\"$f(x^{(t)}) - f^\\ast$\")\n",
    "\n",
    "plt.show()"
   ]
  },
  {
   "cell_type": "markdown",
   "id": "b292cd73-9652-4faf-93ab-7e0fa57b2a72",
   "metadata": {
    "scrolled": true
   },
   "source": [
    "今回は $d=16$ という小規模な設定なので、比較的簡単に最適解を発見することができています。最終的には $t=85$ 程度で最適解に到達しており、BOCSが上手く機能していることがわかります。"
   ]
  },
  {
   "cell_type": "markdown",
   "id": "81ad5790-c82f-40c1-8e70-23479f5c9f75",
   "metadata": {},
   "source": [
    "### RandomHUBO"
   ]
  },
  {
   "cell_type": "markdown",
   "id": "5e8d9d3d-4546-4546-b022-d61471fb708b",
   "metadata": {
    "scrolled": true
   },
   "source": [
    "3対相互作用を持つ高次元2値最適化も行ってみましょう。目的関数として"
   ]
  },
  {
   "cell_type": "markdown",
   "id": "3bb38161-adb9-481c-b62a-078e6267f85a",
   "metadata": {
    "scrolled": true
   },
   "source": [
    "$$\n",
    "  f(x) = \\sum_{i,j,k} Q_{ijk} x_i x_j x_k\n",
    "$$"
   ]
  },
  {
   "cell_type": "markdown",
   "id": "a936a382-b2f7-4543-afce-d7918d57de22",
   "metadata": {
    "scrolled": true
   },
   "source": [
    "を仮定してみます。"
   ]
  },
  {
   "cell_type": "code",
   "execution_count": 18,
   "id": "7171aa68-0a16-46d3-b10e-20865076e4ee",
   "metadata": {},
   "outputs": [],
   "source": [
    "class RandomHUBO:\n",
    "    def __init__(self, num_vars, noise_variance: float=0., seed: Optional[int]=None):\n",
    "        self.noise_variance = noise_variance\n",
    "        self.rng = np.random.default_rng(seed)\n",
    "        self.Q = self.rng.normal(0, 1, size=(num_vars, num_vars, num_vars))\n",
    "\n",
    "    def energy(self, x):\n",
    "        return np.einsum('ijk,i,j,k', self.Q, x, x, x)\n",
    "\n",
    "    def __call__(self, x):\n",
    "        return self.energy(x) + self.rng.normal(0, np.sqrt(self.noise_variance))"
   ]
  },
  {
   "cell_type": "code",
   "execution_count": 19,
   "id": "5f0a5021-433c-4baf-a573-0f4bb7745f12",
   "metadata": {
    "scrolled": true
   },
   "outputs": [
    {
     "name": "stderr",
     "output_type": "stream",
     "text": [
      "BOCS-SA [INFO] iter:   0, y_next: -7.352e+01, y_best: -7.352e+01\n",
      "BOCS-SA [INFO] iter:  10, y_next: -6.501e+01, y_best: -9.234e+01\n",
      "BOCS-SA [INFO] iter:  20, y_next: -1.828e+01, y_best: -1.456e+02\n",
      "BOCS-SA [INFO] iter:  30, y_next: -1.228e+02, y_best: -1.456e+02\n",
      "BOCS-SA [INFO] iter:  40, y_next: -6.811e+01, y_best: -1.456e+02\n",
      "BOCS-SA [INFO] iter:  50, y_next: -1.129e+02, y_best: -1.456e+02\n",
      "BOCS-SA [INFO] iter:  60, y_next: -1.195e+02, y_best: -1.456e+02\n",
      "BOCS-SA [INFO] iter:  70, y_next: -1.456e+02, y_best: -1.456e+02\n",
      "BOCS-SA [INFO] iter:  80, y_next: -1.455e+02, y_best: -1.456e+02\n",
      "BOCS-SA [INFO] iter:  90, y_next: -1.331e+02, y_best: -1.456e+02\n",
      "BOCS-SA [INFO] iter: 100, y_next: -9.932e+01, y_best: -1.456e+02\n",
      "BOCS-SA [INFO] iter: 110, y_next: -1.331e+02, y_best: -1.456e+02\n",
      "BOCS-SA [INFO] iter: 120, y_next: -9.921e+01, y_best: -1.456e+02\n",
      "BOCS-SA [INFO] iter: 130, y_next: -1.456e+02, y_best: -1.456e+02\n",
      "BOCS-SA [INFO] iter: 140, y_next: -1.456e+02, y_best: -1.456e+02\n",
      "BOCS-SA [INFO] iter: 150, y_next: -1.248e+02, y_best: -1.456e+02\n",
      "BOCS-SA [INFO] iter: 160, y_next: -1.456e+02, y_best: -1.456e+02\n",
      "BOCS-SA [INFO] iter: 170, y_next: -1.456e+02, y_best: -1.456e+02\n",
      "BOCS-SA [INFO] iter: 180, y_next: -1.456e+02, y_best: -1.456e+02\n",
      "BOCS-SA [INFO] iter: 190, y_next: -1.456e+02, y_best: -1.456e+02\n"
     ]
    }
   ],
   "source": [
    "seed = 0\n",
    "rng  = np.random.default_rng(seed)\n",
    "\n",
    "num_vars         = 16\n",
    "num_init_samples = 5\n",
    "noise_variance   = 0.\n",
    "\n",
    "random_hubo = RandomHUBO(num_vars, noise_variance, seed)\n",
    "surrogate_model = BOCSSurrogateModel(num_vars, linear_regressor=HorseshoeGibbs(max_iter=10))\n",
    "acquisition_function = BOCSAcquisitionFunction(\n",
    "    lambda Q: neal.SimulatedAnnealingSampler().sample_qubo(Q, num_reads=5, num_sweeps=2500)\n",
    ")\n",
    "\n",
    "X = rng.choice([0, 1], size=(num_init_samples, num_vars))\n",
    "y = np.array([random_hubo(x) for x in X])\n",
    "\n",
    "# bayesian optimization loop\n",
    "y_best = np.inf\n",
    "for i in range(200):\n",
    "    surrogate_model.update(X, y)\n",
    "    acquisition_function.build(surrogate_model)\n",
    "    x_next = acquisition_function.optimize()\n",
    "    y_next = random_hubo(x_next)\n",
    "\n",
    "    X = np.vstack([X, x_next])\n",
    "    y = np.hstack([y, y_next])\n",
    "\n",
    "    y_best = min(y_best, y_next)\n",
    "\n",
    "    if i % 10 == 0:\n",
    "        logger.info(\n",
    "            \"iter: {:3d}, y_next: {:10.3e}, y_best: {:10.3e}\"\n",
    "            .format(i, y_next, y_best)\n",
    "        )"
   ]
  },
  {
   "cell_type": "markdown",
   "id": "9a2f27ac-93d3-4807-8005-5ee941f95629",
   "metadata": {
    "scrolled": true
   },
   "source": [
    "比較対象としてランダムに探索する方法でも実験してみます。"
   ]
  },
  {
   "cell_type": "code",
   "execution_count": 20,
   "id": "3ecdd0aa-c6ba-44f3-8120-6d45a1e532cd",
   "metadata": {},
   "outputs": [],
   "source": [
    "rng  = np.random.default_rng(seed)\n",
    "\n",
    "X_rand = rng.choice([0, 1], size=(200+num_init_samples, num_vars))"
   ]
  },
  {
   "cell_type": "markdown",
   "id": "3b3964bf-bb65-41bb-924a-7e1caf5d1b40",
   "metadata": {
    "scrolled": true
   },
   "source": [
    "得られた結果をプロットしてみましょう。"
   ]
  },
  {
   "cell_type": "code",
   "execution_count": 21,
   "id": "20abe25a-d435-45d3-8361-5c57046ba66b",
   "metadata": {},
   "outputs": [
    {
     "data": {
      "image/png": "[encoded data removed]",
      "text/plain": [
       "<Figure size 600x400 with 1 Axes>"
      ]
     },
     "metadata": {},
     "output_type": "display_data"
    }
   ],
   "source": [
    "plot_x = X\n",
    "plot_y = np.apply_along_axis(random_hubo.energy, 1, X)\n",
    "plot_min_y = np.array([np.min(plot_y[:i]) for i in range(1, len(plot_y)+1)])\n",
    "\n",
    "plot_X_rand = X_rand\n",
    "plot_y_rand = np.apply_along_axis(random_hubo.energy, 1, X_rand)\n",
    "plot_min_y_rand = np.array([np.min(plot_y_rand[:i]) for i in range(1, len(plot_y_rand)+1)])\n",
    "\n",
    "fig = plt.figure(figsize=(6,4))\n",
    "ax = fig.add_subplot()\n",
    "\n",
    "ax.plot(np.arange(len(plot_min_y_rand)), plot_min_y_rand, color=\"red\")\n",
    "ax.scatter(np.arange(len(plot_y_rand)), plot_y_rand, color=\"red\", marker=\"^\", label=\"Random\")\n",
    "\n",
    "ax.plot(np.arange(len(plot_min_y)), plot_min_y, color=\"blue\")\n",
    "ax.scatter(np.arange(len(plot_y)), plot_y, color=\"blue\", marker=\"x\", label=\"BOCS\")\n",
    "\n",
    "ax.vlines(num_init_samples, min(plot_y), max(plot_y), color=\"black\")\n",
    "\n",
    "ax.set_title(\"RandomHUBO\")\n",
    "ax.set_xlabel(r\"iteration $t$\")\n",
    "ax.set_ylabel(r\"$f(x^{(t)})$\")\n",
    "ax.legend()\n",
    "plt.show()"
   ]
  },
  {
   "cell_type": "markdown",
   "id": "5745a199-c8e8-45a8-9c07-0c4a27b79d3b",
   "metadata": {
    "scrolled": true
   },
   "source": [
    "BOCSでは目的関数値の低い領域を中心にサンプルを集められていることがわかります。"
   ]
  },
  {
   "cell_type": "markdown",
   "id": "a8dc42f3-7f3b-47d9-98a3-832456273977",
   "metadata": {},
   "source": [
    "### RandomMLP"
   ]
  },
  {
   "cell_type": "markdown",
   "id": "c1e0ffeb-10d1-4fb4-9b01-5dd036894f07",
   "metadata": {},
   "source": [
    "更にもう1つ簡単な例として、多層パーセプトロンの最適化を行ってみます。ここでは後の拡張性も考えて、多層パーセプトロンはPyTorchで実装します。"
   ]
  },
  {
   "cell_type": "code",
   "execution_count": 22,
   "id": "47ac70ca-cc8d-4332-8fed-4565a97ca278",
   "metadata": {},
   "outputs": [],
   "source": [
    "import torch\n",
    "import torch.nn as nn\n",
    "\n",
    "class RandomMLP(nn.Module):\n",
    "    def __init__(self, dim_in, dim_hidden):\n",
    "        super().__init__()\n",
    "        self.fc1 = nn.Linear(dim_in, dim_hidden)\n",
    "        self.fc2 = nn.Linear(dim_hidden, dim_hidden)\n",
    "        self.fc3 = nn.Linear(dim_hidden, 1)\n",
    "\n",
    "    def forward(self, x: torch.Tensor) -> torch.Tensor:\n",
    "        x = self.fc1(x)\n",
    "        x = torch.relu(x)\n",
    "        x = self.fc2(x)\n",
    "        x = torch.relu(x)\n",
    "        x = self.fc3(x)\n",
    "\n",
    "        return x\n",
    "\n",
    "class RandomMLPWrapper:\n",
    "    def __init__(self, random_mlp_model: RandomMLP, noise_variance: float=0., seed: Optional[int]=None):\n",
    "        self.noise_variance = noise_variance\n",
    "        self.rng = np.random.default_rng(seed)\n",
    "        self.model = random_mlp_model\n",
    "\n",
    "    def energy(self, x):\n",
    "        x = torch.from_numpy(x).float()\n",
    "        y = self.model(x)\n",
    "        y = y.detach().numpy().item()\n",
    "        return y\n",
    "\n",
    "    def __call__(self, x: np.ndarray):\n",
    "        return self.energy(x) + self.rng.normal(0, np.sqrt(self.noise_variance))"
   ]
  },
  {
   "cell_type": "code",
   "execution_count": 23,
   "id": "ff4fb99a-05c8-4656-a892-8ae4d6bb9af5",
   "metadata": {
    "scrolled": true
   },
   "outputs": [
    {
     "name": "stderr",
     "output_type": "stream",
     "text": [
      "BOCS-SA [INFO] iter:   0, y_next: -1.249e-02, y_best: -1.249e-02\n",
      "BOCS-SA [INFO] iter:  10, y_next: -9.154e-02, y_best: -1.936e-01\n",
      "BOCS-SA [INFO] iter:  20, y_next: -1.038e-01, y_best: -1.936e-01\n",
      "BOCS-SA [INFO] iter:  30, y_next: -1.885e-01, y_best: -2.140e-01\n",
      "BOCS-SA [INFO] iter:  40, y_next: -2.331e-01, y_best: -2.533e-01\n",
      "BOCS-SA [INFO] iter:  50, y_next: -2.311e-01, y_best: -2.559e-01\n",
      "BOCS-SA [INFO] iter:  60, y_next: -2.383e-01, y_best: -2.605e-01\n",
      "BOCS-SA [INFO] iter:  70, y_next: -2.535e-01, y_best: -2.605e-01\n",
      "BOCS-SA [INFO] iter:  80, y_next: -2.668e-01, y_best: -2.697e-01\n",
      "BOCS-SA [INFO] iter:  90, y_next: -2.663e-01, y_best: -2.697e-01\n",
      "BOCS-SA [INFO] iter: 100, y_next: -2.663e-01, y_best: -2.697e-01\n",
      "BOCS-SA [INFO] iter: 110, y_next: -2.597e-01, y_best: -2.699e-01\n",
      "BOCS-SA [INFO] iter: 120, y_next: -2.692e-01, y_best: -2.699e-01\n",
      "BOCS-SA [INFO] iter: 130, y_next: -2.668e-01, y_best: -2.699e-01\n",
      "BOCS-SA [INFO] iter: 140, y_next: -2.663e-01, y_best: -2.699e-01\n",
      "BOCS-SA [INFO] iter: 150, y_next: -2.668e-01, y_best: -2.699e-01\n",
      "BOCS-SA [INFO] iter: 160, y_next: -2.668e-01, y_best: -2.699e-01\n",
      "BOCS-SA [INFO] iter: 170, y_next: -2.668e-01, y_best: -2.699e-01\n",
      "BOCS-SA [INFO] iter: 180, y_next: -2.668e-01, y_best: -2.705e-01\n",
      "BOCS-SA [INFO] iter: 190, y_next: -2.664e-01, y_best: -2.705e-01\n"
     ]
    }
   ],
   "source": [
    "seed = 0\n",
    "rng  = np.random.default_rng(seed)\n",
    "\n",
    "num_vars         = 32\n",
    "dim_hidden       = 64\n",
    "num_init_samples = 25\n",
    "noise_variance   = 0.\n",
    "\n",
    "random_mlp_model = RandomMLP(num_vars, dim_hidden)\n",
    "random_mlp = RandomMLPWrapper(random_mlp_model, noise_variance, seed)\n",
    "surrogate_model = BOCSSurrogateModel(num_vars, linear_regressor=HorseshoeGibbs(max_iter=10))\n",
    "acquisition_function = BOCSAcquisitionFunction(\n",
    "    lambda Q: neal.SimulatedAnnealingSampler().sample_qubo(Q, num_reads=5, num_sweeps=2500)\n",
    ")\n",
    "\n",
    "X = rng.choice([0, 1], size=(num_init_samples, num_vars))\n",
    "y = np.array([random_mlp(x) for x in X])\n",
    "\n",
    "# bayesian optimization loop\n",
    "y_best = np.inf\n",
    "for i in range(200):\n",
    "    surrogate_model.update(X, y)\n",
    "    acquisition_function.build(surrogate_model)\n",
    "    x_next = acquisition_function.optimize()\n",
    "    y_next = random_mlp(x_next)\n",
    "\n",
    "    X = np.vstack([X, x_next])\n",
    "    y = np.hstack([y, y_next])\n",
    "\n",
    "    y_best = min(y_best, y_next)\n",
    "\n",
    "    if i % 10 == 0:\n",
    "        logger.info(\n",
    "            \"iter: {:3d}, y_next: {:10.3e}, y_best: {:10.3e}\"\n",
    "            .format(i, y_next, y_best)\n",
    "        )"
   ]
  },
  {
   "cell_type": "markdown",
   "id": "7cf6290e-bb86-4eca-bfb4-9835f6bbb47a",
   "metadata": {
    "scrolled": true
   },
   "source": [
    "ランダムに探索する方法も実験します。"
   ]
  },
  {
   "cell_type": "code",
   "execution_count": 24,
   "id": "3139fb3f-6bdb-4a67-9125-36d9bd6c913b",
   "metadata": {},
   "outputs": [],
   "source": [
    "rng  = np.random.default_rng(seed)\n",
    "\n",
    "X_rand = rng.choice([0, 1], size=(200+num_init_samples, num_vars))"
   ]
  },
  {
   "cell_type": "markdown",
   "id": "3f5e54fd-2d66-46a8-9393-daca477f5426",
   "metadata": {
    "scrolled": true
   },
   "source": [
    "得られた結果をプロットします。"
   ]
  },
  {
   "cell_type": "code",
   "execution_count": 25,
   "id": "e11f6071-382f-4b3e-8dc6-dbd32b0eb8ea",
   "metadata": {},
   "outputs": [
    {
     "data": {
      "image/png": "[encoded data removed]",
      "text/plain": [
       "<Figure size 600x400 with 1 Axes>"
      ]
     },
     "metadata": {},
     "output_type": "display_data"
    }
   ],
   "source": [
    "plot_x = X\n",
    "plot_y = np.apply_along_axis(random_mlp.energy, 1, X)\n",
    "plot_min_y = np.array([np.min(plot_y[:i]) for i in range(1, len(plot_y)+1)])\n",
    "\n",
    "plot_X_rand = X_rand\n",
    "plot_y_rand = np.apply_along_axis(random_mlp.energy, 1, X_rand)\n",
    "plot_min_y_rand = np.array([np.min(plot_y_rand[:i]) for i in range(1, len(plot_y_rand)+1)])\n",
    "\n",
    "fig = plt.figure(figsize=(6,4))\n",
    "ax = fig.add_subplot()\n",
    "\n",
    "ax.plot(np.arange(len(plot_min_y_rand)), plot_min_y_rand, color=\"red\")\n",
    "ax.scatter(np.arange(len(plot_y_rand)), plot_y_rand, color=\"red\", marker=\"^\", label=\"Random\")\n",
    "\n",
    "ax.plot(np.arange(len(plot_min_y)), plot_min_y, color=\"blue\")\n",
    "ax.scatter(np.arange(len(plot_y)), plot_y, color=\"blue\", marker=\"x\", label=\"BOCS\")\n",
    "\n",
    "ax.vlines(num_init_samples, min(plot_y), max(plot_y), color=\"black\")\n",
    "\n",
    "ax.set_title(\"RandomMLP\")\n",
    "ax.set_xlabel(r\"iteration $t$\")\n",
    "ax.set_ylabel(r\"$f(x^{(t)})$\")\n",
    "ax.legend()\n",
    "plt.show()"
   ]
  },
  {
   "cell_type": "markdown",
   "id": "20475fdb-5ae5-4e01-b00d-8c0023a053d5",
   "metadata": {
    "scrolled": true
   },
   "source": [
    "RandomHUBOの場合と同様、目的関数値の低い領域を中心にサンプルを集められていることがわかります。"
   ]
  },
  {
   "cell_type": "markdown",
   "id": "e8aad7db-c2f4-4401-a7f2-d938a0d102e9",
   "metadata": {},
   "source": [
    "## 補足: 縮小係数を考慮した事前分布について"
   ]
  },
  {
   "cell_type": "markdown",
   "id": "f19acc87-4f0a-478c-b6ad-7f2d8e04ff49",
   "metadata": {},
   "source": [
    "この節では、本記事の途中で出てきた馬蹄分布をもう少し詳しく説明します。"
   ]
  },
  {
   "cell_type": "markdown",
   "id": "ce63a06c-cf51-4372-882f-e0f0b65563d0",
   "metadata": {},
   "source": [
    "### スパース性の仮定"
   ]
  },
  {
   "cell_type": "markdown",
   "id": "305feaf0-cd04-4fab-93c7-7fda0bdeed2d",
   "metadata": {},
   "source": [
    "線形回帰において、入力 $x^{(t)} \\in \\mathbb R^p$ が高次元な場合、つまり説明変数が多い場合は、成分 $x_i^{(t)}$ のうちのほとんどは出力 $y^{(t)}$ に寄与せず、ごく一部の成分が出力値に大きく影響する傾向にあることが知られています。よって、**スパース性** を仮定する、すなわち係数 $\\theta \\in \\mathbb R^p$ のうち **ごく一部の成分が大きく、それ以外は非常に小さい** ような推定をすると、データの個数 $N$ が少ない場合にもある程度うまく $\\theta$ を推定できると考えられます。このような知識を上手く取り込むことができる $\\theta$ の事前分布として、以下のような形の分布の定式化がよく行われます。"
   ]
  },
  {
   "cell_type": "markdown",
   "id": "71498e65-478a-4617-97bc-fe6a56002095",
   "metadata": {},
   "source": [
    "$$\n",
    "\\begin{align}\n",
    "    \\theta_i \\mid \\lambda_i, \\tau, \\sigma \\sim \\mathcal N(0, \\lambda_i^2 \\tau^2 \\sigma^2)\n",
    "    \\quad i = 1, \\dots, p\n",
    "\\end{align}\n",
    "$$"
   ]
  },
  {
   "cell_type": "markdown",
   "id": "ee78b92a-e208-4094-be24-417448830bb4",
   "metadata": {},
   "source": [
    "ただし $\\lambda \\in \\mathbb R^p, \\tau \\in \\mathbb R$ です。ここで、$\\lambda, \\tau, \\sigma$ が所与のもとで、ベイズの定理を用いて $\\theta$ の事後分布を計算すると"
   ]
  },
  {
   "cell_type": "markdown",
   "id": "f3b35d35-aa0b-44fa-bbe5-217e666b2217",
   "metadata": {},
   "source": [
    "$$\n",
    "\\begin{aligned}\n",
    "    p(\\theta \\mid X, y, \\lambda, \\tau, \\sigma)\n",
    "    &\\propto p(y \\mid X, \\theta, \\lambda, \\tau, \\sigma) p(\\theta \\mid \\lambda, \\tau, \\sigma) \\\\\n",
    "    &= \\prod_{t=1}^N p(y^{(t)} \\mid x^{(t)}, \\theta, \\lambda, \\tau, \\sigma) \\times p(\\theta \\mid \\lambda, \\tau, \\sigma) \\\\\n",
    "    &\\propto \\exp \\left( -\\frac{1}{2\\sigma^2} \\sum_{t=1}^N  (y^{(t)} - x^{(t) \\top} \\theta)^2 \\right) \\times\\exp \\left( - \\sum_{i=1}^p \\frac{1}{2\\lambda_i^2\\tau^2\\sigma^2} \\theta_i^2 \\right) \\\\\n",
    "    &= \\exp\\left(\n",
    "        -\\frac{1}{2\\sigma^2} \\left(\n",
    "            (y - X \\theta)^\\top (y - X \\theta) + \\theta^\\top \\mathop{\\rm diag}\\left\\{ \\frac{1}{\\lambda_i^2\\tau^2} \\right\\} \\theta\n",
    "        \\right)\n",
    "    \\right) \\\\\n",
    "    &= \\exp\\left(\n",
    "        -\\frac{1}{2} \\left(\n",
    "            \\theta^\\top \\frac{X^\\top X}{\\sigma^2} \\theta + \\theta^\\top \\mathop{\\rm diag}\\left\\{ \\frac{1}{\\lambda_i^2\\tau^2\\sigma^2} \\right\\} \\theta - 2 \\theta^\\top \\frac{1}{\\sigma^2} X^\\top y + \\mathrm{const.}\n",
    "        \\right)\n",
    "    \\right) \\\\\n",
    "    &\\propto \\exp\\left(\n",
    "        -\\frac{1}{2} \\left(\n",
    "            (\\theta - m^\\ast)^\\top V^{\\ast ~ -1} (\\theta - m^\\ast)\n",
    "        \\right)\n",
    "    \\right)\n",
    "\\end{aligned}\n",
    "$$"
   ]
  },
  {
   "cell_type": "markdown",
   "id": "3c10b389-7cc6-44e2-a37a-d5e783d5fb84",
   "metadata": {},
   "source": [
    "となり、事後分布は多変量正規分布となることがわかります。"
   ]
  },
  {
   "cell_type": "markdown",
   "id": "48d7401e-1370-4cc8-9cc3-a7bcc0c51bc1",
   "metadata": {},
   "source": [
    "$$\n",
    "\\begin{aligned}\n",
    "    \\theta \\mid \\cdot \\sim \\mathcal N_p(m^\\ast, V^\\ast)\n",
    "\\end{aligned}\n",
    "$$"
   ]
  },
  {
   "cell_type": "markdown",
   "id": "3d201f56-84bf-4ce8-9d3e-ad7d57dea0c0",
   "metadata": {},
   "source": [
    "ただし $X = [x_i^{(t)}]_{t,i} \\in \\mathbb R^{N \\times p}$ は観測行列 (入力を並べた行列)、$y = [y^{(t)}]_i \\in \\mathbb R^{N}$ は応答ベクトル (出力を並べたベクトル) であり、"
   ]
  },
  {
   "cell_type": "markdown",
   "id": "11245863-d84d-4d1e-8a4c-a629daa62eb3",
   "metadata": {},
   "source": [
    "$$\n",
    "\\begin{alignedat}{3}\n",
    "    V^{\\ast ~ -1}\n",
    "    &= \\frac{1}{\\sigma^2} X^\\top X + \\mathop{\\rm diag}\\left\\{ \\frac{1}{\\lambda_i^2\\tau^2\\sigma^2} \\right\\}\n",
    "    &&= \\frac{1}{\\sigma^2} A, \\\\\n",
    "    m^\\ast\n",
    "    &= \\frac{1}{\\sigma^2} V^\\ast X^\\top y\n",
    "    &&= A^{-1} X^\\top y, \\\\\n",
    "    A &= X^\\top X + \\mathop{\\rm diag}\\left\\{ \\frac{1}{\\lambda_i^2\\tau^2} \\right\\}\n",
    "\\end{alignedat}\n",
    "$$"
   ]
  },
  {
   "cell_type": "markdown",
   "id": "4f516ff4-2a15-44c1-bb03-5d2b828d6ba2",
   "metadata": {},
   "source": [
    "です。"
   ]
  },
  {
   "cell_type": "markdown",
   "id": "5827a6e9-de83-423e-8d8d-502320d234bb",
   "metadata": {},
   "source": [
    "### 縮小係数"
   ]
  },
  {
   "cell_type": "markdown",
   "id": "1d7f6231-7320-40e1-ac60-63ed967c4444",
   "metadata": {},
   "source": [
    "さて、ここまでは $y^{(i)} = x^{(i) ~ \\top} \\theta + \\varepsilon$、すなわち"
   ]
  },
  {
   "cell_type": "markdown",
   "id": "b70f754d-4492-489b-968b-9691d4b66858",
   "metadata": {},
   "source": [
    "$$\n",
    "\\begin{aligned}\n",
    "  y^{(1)} &= \\sum_i x^{(1)}_i \\theta_i + \\varepsilon \\\\\n",
    "  y^{(2)} &= \\sum_i x^{(2)}_i \\theta_i + \\varepsilon \\\\\n",
    "  & \\vdots \\\\\n",
    "  y^{(N)} &= \\sum_i x^{(N)}_i \\theta_i + \\varepsilon \\\\\n",
    "\\end{aligned}\n",
    "$$"
   ]
  },
  {
   "cell_type": "markdown",
   "id": "fc36ba01-e371-4721-943d-c128c557e12b",
   "metadata": {},
   "source": [
    "という状況を考えてきましたが、ここからはこれに更に条件を追加して、$N=p$ とし、更に $t$ 番目の観測で入力ベクトルの $t$ 番目の要素 $x_t^{(t)}$ のみが $1$、それ以外がすべて $0$ であるような入力 $X=I_p$ を与えたとして、"
   ]
  },
  {
   "cell_type": "markdown",
   "id": "b4525195-9dd8-458e-946f-b33bfd86522d",
   "metadata": {},
   "source": [
    "$$\n",
    "\\begin{aligned}\n",
    "    y^{(i)} = \\theta_i + \\varepsilon \\quad (t=1,\\dots,p)\n",
    "\\end{aligned}\n",
    "$$"
   ]
  },
  {
   "cell_type": "markdown",
   "id": "e1f1ada5-f075-4717-8f7e-e663dcc0de0e",
   "metadata": {},
   "source": [
    "という状況を考えてみます。すると事後平均 $m^{\\ast}$ は"
   ]
  },
  {
   "cell_type": "markdown",
   "id": "773d6a9f-d6b0-44c1-b23d-7fd9d131f230",
   "metadata": {},
   "source": [
    "$$\n",
    "\\begin{aligned}\n",
    "m^\\ast\n",
    "&= \\left( X^\\top X + \\mathop{\\rm diag}\\left\\{ \\frac{1}{\\lambda_i^2\\tau^2} \\right\\} \\right)^{-1} X^\\top y \\\\\n",
    "&= \\left( I_p + \\mathop{\\rm diag}\\left\\{ \\frac{1}{\\lambda_i^2\\tau^2} \\right\\} \\right)^{-1} y\n",
    "\\end{aligned}\n",
    "$$"
   ]
  },
  {
   "cell_type": "markdown",
   "id": "ac22cc1e-b8fd-41a2-b72d-26eb592f4b8e",
   "metadata": {},
   "source": [
    "となり、その第 $i$ 成分 $m^\\ast_i$ は"
   ]
  },
  {
   "cell_type": "markdown",
   "id": "8865a21a-6c01-4d22-92c6-29d10c7f4a58",
   "metadata": {},
   "source": [
    "$$\n",
    "\\begin{aligned}\n",
    "m^\\ast_i &= \\dfrac{1}{1 + \\dfrac{1}{\\lambda_i^2 \\tau^2}} y^{(i)} = \\left( 1 - \\dfrac{1}{1 + \\lambda_i^2 \\tau^2} \\right) y^{(i)}\n",
    "\\end{aligned}\n",
    "$$"
   ]
  },
  {
   "cell_type": "markdown",
   "id": "65543d26-3ac0-4903-bb59-f0ab269789b0",
   "metadata": {},
   "source": [
    "となります。ここで"
   ]
  },
  {
   "cell_type": "markdown",
   "id": "4768c929-b207-44cb-b0ed-d1f351e0967f",
   "metadata": {},
   "source": [
    "$$\n",
    "\\begin{aligned}\n",
    "    \\kappa_i = \\frac{1}{1 + \\lambda_i^2 \\tau^2}\n",
    "\\end{aligned}\n",
    "$$"
   ]
  },
  {
   "cell_type": "markdown",
   "id": "133660ff-c034-4924-9d4a-ba6fdc342095",
   "metadata": {},
   "source": [
    "とすれば"
   ]
  },
  {
   "cell_type": "markdown",
   "id": "f7e65e28-81b7-4068-9033-1f02cfdb8f61",
   "metadata": {},
   "source": [
    "$$\n",
    "\\begin{aligned}\n",
    "    m^\\ast_i = (1 - \\kappa_i) y_i\n",
    "\\end{aligned}\n",
    "$$"
   ]
  },
  {
   "cell_type": "markdown",
   "id": "6f9e8ccf-04ce-468b-9e5f-0e3e8c9ec2b9",
   "metadata": {},
   "source": [
    "となります。ここで新たに登場した $\\kappa_i = \\dfrac{1}{1 + \\lambda_i^2 \\tau^2}$ を縮小係数 (shrinkage coefficient) といいます。今 $0 \\lt \\lambda_i^2 \\tau^2$ なので、縮小係数の取りうる範囲は $0 \\lt \\kappa_i \\lt 1$ となります。当然ながら $0 \\lt 1-\\kappa_i \\lt 1$ です。上の式からわかるように、$\\theta$ の事後平均 $m^\\ast$ の第 $i$ 成分 $m^\\ast_i$ は、$y$ の第 $i$ 成分 $y_i$ を $1 - \\kappa_i$ 倍に縮小した格好となっています。すなわち **縮小係数 $\\kappa_i$ は観測された値 $y_i$ をどれほど $0$ に圧縮するかに寄与します**。$\\kappa_i \\approx 0$ の場合には $y_i$ がほとんどそのまま $m^\\ast_i$ となる一方、$\\kappa_i \\approx 1$ の場合には $m^\\ast_i \\approx 0$ に圧縮します。そして $\\kappa_i$ が $1$ に近いか $0$ に近いかは $\\lambda_i^2 \\tau^2$ の値によります。"
   ]
  },
  {
   "cell_type": "markdown",
   "id": "4dc30660-91cf-4166-8ab9-14d72be113f8",
   "metadata": {},
   "source": [
    "以上をまとめると、\n",
    "\n",
    "- $\\lambda_i^2 \\tau^2$ が $0$ に近いほど $\\kappa_i$ は $1$ に近づき、$m^\\ast_i$ は $0$ に圧縮される\n",
    "- $\\lambda_i^2 \\tau^2$ が $1$ に近いほど $\\kappa_i$ は $0$ に近づき、$m^\\ast_i$ は圧縮されない\n",
    "\n",
    "という特徴があるといえます。更に $\\lambda_i^2$ は各 $\\kappa_i$ の値に影響し、$\\tau^2$ はすべての $\\kappa_1, \\kappa_2, \\dots, \\kappa_p$ に影響します。よって\n",
    "\n",
    "- $\\lambda_i$ は各係数の推定値 $m^\\ast_i$ が $0$ に圧縮されるかに寄与する\n",
    "- $\\tau$ は係数の推定値全体 $m^\\ast$ が $0$ に圧縮されるかに寄与する\n",
    "\n",
    "といえます。そこで $\\lambda_i$ を **局所縮小パラメータ** (local shrinkage parameter)、$\\tau$ を **大域縮小パラメータ** (global shrinkage parameter) といいます。"
   ]
  },
  {
   "cell_type": "markdown",
   "id": "c032efe8-77ef-4583-990b-73d31aaf0b55",
   "metadata": {},
   "source": [
    "### 馬蹄分布"
   ]
  },
  {
   "cell_type": "markdown",
   "id": "ed0d30ca-23bd-4063-b12c-c555a3de7fbf",
   "metadata": {},
   "source": [
    "以上の議論によれば、縮小係数 $\\kappa_i$ が推定値 $m_i^\\ast$ に強く影響するといえます。そこで気になるのが縮小係数 $\\kappa_i$ がどのような分布に従うのか、ということです。縮小係数は $\\lambda_i$ と $\\tau$ に影響を受けます。ここで簡単のために $\\tau=1$ と固定する場合、$p(\\kappa_i)$ は $\\lambda_i$ の分布 $p(\\lambda_i)$ を変数変換することにより得られます。"
   ]
  },
  {
   "cell_type": "markdown",
   "id": "2343b54b-969d-4284-af15-69d1609d52dc",
   "metadata": {},
   "source": [
    "様々な $p(\\lambda_i)$ に対応する $p(\\kappa_i)$ の分布の具体的な形状は文献 [Carvalho+ (2009)] にまとめられていますが、特に $\\lambda_i \\sim \\mathcal C^+(0,1)$ と仮定した場合、$\\kappa_i$ は次のようなベータ分布 $\\mathop{\\rm Beta}(0.5, 0.5)$ に従います。"
   ]
  },
  {
   "cell_type": "markdown",
   "id": "806f8214-259c-4ab7-bfcd-2c956138c6fb",
   "metadata": {},
   "source": [
    "$$\n",
    "\\begin{aligned}\n",
    "  p(\\kappa_i) = \\frac{1}{\\pi}(1-\\kappa_i)^{-\\frac{1}{2}}\\kappa_i^{-\\frac{1}{2}}\n",
    "\\end{aligned}\n",
    "$$"
   ]
  },
  {
   "cell_type": "markdown",
   "id": "d7576360-e327-4764-a03e-e9969d13c8b0",
   "metadata": {},
   "source": [
    "さて、ベータ分布 $\\mathop{\\rm Beta}(0.5, 0.5)$ の確率密度関数をプロットすると、以下のように馬の蹄 (ひずめ) のような形状が現れます。"
   ]
  },
  {
   "cell_type": "code",
   "execution_count": 26,
   "id": "a60a7bf7-749b-42b6-9bae-187be4c36a16",
   "metadata": {},
   "outputs": [
    {
     "data": {
      "image/png": "[encoded data removed]",
      "text/plain": [
       "<Figure size 640x480 with 1 Axes>"
      ]
     },
     "metadata": {},
     "output_type": "display_data"
    }
   ],
   "source": [
    "from scipy.special import beta\n",
    "\n",
    "def _beta_pdf(x, a, b):\n",
    "    p = 1.0 / beta(a, b) * (1.0 - x)**(-a) * x**(-b)\n",
    "    return p\n",
    "\n",
    "x_plot = np.linspace(1e-3, 1.0-1e-3, 1000)\n",
    "y_plot = _beta_pdf(x_plot, 0.5, 0.5)\n",
    "\n",
    "fig = plt.figure()\n",
    "ax = fig.add_subplot()\n",
    "ax.plot(x_plot, y_plot)\n",
    "ax.set_xlabel(r\"$\\kappa$\")\n",
    "ax.set_ylabel(r\"$p(\\kappa)$\")\n",
    "ax.set_ylim(0.0)\n",
    "plt.show()"
   ]
  },
  {
   "cell_type": "markdown",
   "id": "8c5795bc-5f72-4ac5-b307-235ecc5b9cec",
   "metadata": {},
   "source": [
    "このことから、特に $\\lambda_i \\sim \\mathcal C^+(0, 1)$ を仮定する場合、この $\\theta$ の事前分布は馬蹄分布 (horseshoe distribution) と呼ばれます。"
   ]
  },
  {
   "cell_type": "markdown",
   "id": "432aa874-272c-4810-b43a-cc366280d99b",
   "metadata": {},
   "source": [
    "確率密度関数の形状を見ると明らかなように、馬蹄分布は $\\kappa_i \\approx 0$ または $\\kappa_i \\approx 1$ の値を取りやすいという性質を持っています。このような性質から、馬蹄分布を用いることで推定値のうち一部は $0$ に、残りは $0$ に圧縮された推定値を補うような大きな値になることが期待されます。"
   ]
  },
  {
   "cell_type": "markdown",
   "id": "de1c72e0-951f-4dc2-959a-994c1d659337",
   "metadata": {},
   "source": [
    "なお馬蹄分布の由来は縮小係数 $\\kappa_i$ がベータ分布 $\\mathop{\\rm Beta}(0.5,0.5)$ に従うことにありますが、ベータ分布そのものを馬蹄分布と呼ぶのではなく、あくまで $\\theta$ の事前分布を馬蹄分布と呼ぶということに注意してください。"
   ]
  },
  {
   "cell_type": "markdown",
   "id": "fe258752-cbd1-4b77-a761-adf85c1ae6b1",
   "metadata": {},
   "source": [
    "## あとがき"
   ]
  },
  {
   "cell_type": "markdown",
   "id": "ed1cc37c-3add-4381-b170-05582e5b410b",
   "metadata": {},
   "source": [
    "本記事ではBOCSの最も基本的な実装を行いました。自分の手で実装することでThompson抽出によるベイズ最適化のフレームワークについて理解することができ、さらに組合せ最適化問題への適用に関する難しさも知ることができました。"
   ]
  },
  {
   "cell_type": "markdown",
   "id": "f6e5ec28-464f-4d0e-ad45-470902f9de8e",
   "metadata": {},
   "source": [
    "またBOCSにおける課題として\n",
    "\n",
    "- 制約条件付きの問題はどうするのか\n",
    "- データの数 $N$ や入力次元 $d$ が大きくなると計算コストが大きくなる問題はどうするのか\n",
    "\n",
    "などの点が気になりました。今後はこのような課題がどのように扱われているのかを調べたり、解決策を探したりして、BOCSの改善策について考えていきたいと思います。"
   ]
  },
  {
   "cell_type": "markdown",
   "id": "7bbe7374-ba19-4f45-80eb-c80fee833a56",
   "metadata": {},
   "source": [
    "## 参考文献"
   ]
  },
  {
   "cell_type": "markdown",
   "id": "84186547-ad13-481c-bcbb-86edc1ccc9e3",
   "metadata": {},
   "source": [
    "- [Carvalho+ (2009)] C. M. Carvalho, N. G. Polson, and J. G. Scott, Handling Sparsity via the Horseshoe, in Proceedings of the Twelth International Conference on Artificial Intelligence and Statistics (PMLR, 2009), pp. 73–80.\n",
    "- [Wand+ (2011)] M. P. Wand, J. T. Ormerod, S. A. Padoan, and R. Frühwirth, Mean Field Variational Bayes for Elaborate Distributions, Bayesian Analysis **6**, 847 (2011).\n",
    "- [Bhattacharya+ (2016)] A. Bhattacharya, A. Chakraborty, and B. K. Mallick, Fast Sampling with Gaussian Scale Mixture Priors in High-Dimensional Regression, Biometrika **103**, 985 (2016).\n",
    "- [Makalic & Schmidt (2016)] E. Makalic and D. F. Schmidt, A Simple Sampler for the Horseshoe Estimator, IEEE Signal Processing Letters **23**, 179 (2016).\n",
    "- [Baptista & Poloczek (2018)] R. Baptista and M. Poloczek, Bayesian Optimization of Combinatorial Structures, in Proceedings of the 35th International Conference on Machine Learning, edited by J. Dy and A. Krause, Vol. 80 (PMLR, 2018), pp. 462–471."
   ]
  },
  {
   "cell_type": "markdown",
   "id": "3358555c-8e58-4d6b-bf7a-118d6350e163",
   "metadata": {},
   "source": [
    "## 本記事の担当者"
   ]
  },
  {
   "cell_type": "markdown",
   "id": "7cd88f78-07ae-41de-89ca-6e572e7ed8d1",
   "metadata": {},
   "source": [
    "森田圭祐"
   ]
  }
 ],
 "metadata": {
  "kernelspec": {
   "display_name": "Python 3 (ipykernel)",
   "language": "python",
   "name": "python3"
  },
  "language_info": {
   "codemirror_mode": {
    "name": "ipython",
    "version": 3
   },
   "file_extension": ".py",
   "mimetype": "text/x-python",
   "name": "python",
   "nbconvert_exporter": "python",
   "pygments_lexer": "ipython3",
   "version": "3.12.2"
  }
 },
 "nbformat": 4,
 "nbformat_minor": 5
}
